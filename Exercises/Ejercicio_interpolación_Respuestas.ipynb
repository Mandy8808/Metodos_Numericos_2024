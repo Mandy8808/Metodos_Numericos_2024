{
 "cells": [
  {
   "cell_type": "markdown",
   "metadata": {},
   "source": [
    "# Ejercicios de Interpolación"
   ]
  },
  {
   "cell_type": "markdown",
   "metadata": {},
   "source": [
    "## Ejercicio 1:\n",
    "\n",
    "Considere una serie de puntos: $(x_0, y_0), (x_1, y_1), \\dots, (x_n, y_n)$ y queremos encontrar el polinomio de mayor grado pase por todos ellos. Sea el conjunto de puntos:\n",
    "    \n",
    "$$C=\\{(2,2),(3,6),(4,5),(5,5),(6,6)\\}$$\n",
    "\n",
    "- Cual sería el polinomio de mayor grado capaz de pasar por todos ellos.\n",
    "- Cree un código que muestre el polinomio de mayor grado y grafíquelo (`puede usar Sympy`).\n",
    "- Compare su resultado con np.polyfit."
   ]
  },
  {
   "cell_type": "markdown",
   "metadata": {},
   "source": [
    "## Ejercicio 2:\n",
    "\n",
    "Sea la función analítica:\n",
    "    \n",
    "$$f(x)=\\frac{1}{1+x^2}$$\n",
    "\n",
    "- Genere un juego de nodos (datos) en el intervalo $[-5, 5]$, equiespaciados y grafiquelo.\n",
    "- Analizando la figura, ¿qué método de interpolación usarías polinomial (Lagrange, Newton) o de trazados (lineal, splines)? \n",
    "- Programe un método de cada clase y grafíquelo.\n",
    "- ¿Qué metodo de interpolación sería el correcto a usar? Justifique su resultado graficándolo."
   ]
  },
  {
   "cell_type": "markdown",
   "metadata": {},
   "source": [
    "## Ejercicio 3:\n",
    "\n",
    "Usualmente para simular la disminución de la temperatura (respecto a la distancia de la fuente) en un proceso termodinámico, \n",
    "<center><img src=\"capturas/imagen0_E.png\"></center>\n",
    "    \n",
    "se puede usar un polinomio para aproximar en el intervalo $[0,4]$ metros la función $T$ con regla de correspondencia:\n",
    "    \n",
    "$$f=e^{0.5 x}$$\n",
    "\n",
    "Para construir el mencionado polinomio, considere la tabla:\n",
    "\n",
    "| x | 0 | 1 | 2 | 3| 4|\n",
    "| :- | -: | :-: | :- | -: | -: |\n",
    "f(x)| \tf(0)| \tf(1)| \tf(2)| \tf(3)| \tf(4)\n",
    "\n",
    "\n",
    "- Aplique interpolación polinomial y aproxime el valor de $f(2.4)$ usando un polinomio de **grado 2**.\n",
    "- Aplique interpolación polinomial y aproxime el valor de $f(2.4)$ usando un polinomio de **mayor grado posible**.\n",
    "- Encuentre una cota superior para el error absoluto y relativo de interpolación en la aproximación de $f(1.7)$ para cada caso."
   ]
  },
  {
   "cell_type": "markdown",
   "metadata": {},
   "source": [
    "## Ejercicio 4\n",
    "\n",
    "Considere la función:\n",
    "\n",
    "$$f(x)=\\sin(\\pi x)$$\n",
    "\n",
    "genere un conjunto de $3$ a $5$ nodos en el intervalo $[0, \\pi/2]$.\n",
    "\n",
    "- ¿Qué método de interpolación usaría?\n",
    "- Realice la interpolación mediante el método escogido. \n",
    "- Integre la función interpolada en el intervalo $[0, \\pi/2]$ usando alguno de los métodos numéricos conocidos.\n",
    "- Estime el error para cada uno de los incisos anteriores.\n",
    "- ¿Qué ventaja se tendría si el intervalo es $[0, 2\\pi]$?\n",
    "- Compare ambas implementaciones."
   ]
  },
  {
   "cell_type": "markdown",
   "metadata": {},
   "source": [
    "## Ejercicio 5\n",
    "\n",
    "Considere la función:\n",
    "$$ f(x) = \\sin(x)+x^2 $$\n",
    "\n",
    "Genere entre $3-6$ nodos en el intervalo $[-1, -1/5]$.\n",
    "\n",
    "- ¿Qué método de interpolación usaría?\n",
    "- Realice la interpolación mediante el método escogido. \n",
    "- Encuentre numéricamente la raíz que se encuentra en dicho intervalo, para ello use alguno de los métodos conocidos. Notar que ha de usar la función interpolada."
   ]
  },
  {
   "cell_type": "code",
   "execution_count": null,
   "metadata": {},
   "outputs": [],
   "source": []
  },
  {
   "cell_type": "code",
   "execution_count": null,
   "metadata": {},
   "outputs": [],
   "source": []
  },
  {
   "cell_type": "markdown",
   "metadata": {},
   "source": [
    "# Posibles respuestas"
   ]
  },
  {
   "cell_type": "code",
   "execution_count": 1,
   "metadata": {},
   "outputs": [],
   "source": [
    "%matplotlib inline\n",
    "import numpy as np\n",
    "import matplotlib.pyplot as plt\n",
    "\n",
    "\n",
    "from IPython.display import Image\n",
    "\n",
    "# interpolación polinomial\n",
    "from scipy.interpolate import interp1d\n",
    "from scipy.interpolate import lagrange\n",
    "\n",
    "# interpolación a trazos\n",
    "from scipy.interpolate import CubicSpline\n",
    "from scipy.interpolate import InterpolatedUnivariateSpline  # es lo mismo q la de arriba"
   ]
  },
  {
   "cell_type": "markdown",
   "metadata": {},
   "source": [
    "    1- Tenemos una serie de puntos: (x_0, y_0),(x_1, y_1),...,(x_n, y_n) y queremos encontrar el polinomio de mayor grado pase por todos ellos. Sea el conjunto de puntos:\n",
    "    \n",
    "$$C={(2,2),(3,6),(4,5),(5,5),(6,6)}$$\n",
    "    \n",
    "    Cree un código que muestre el polinomio de mayor grado y grafíquelo. Compare su resultado con np.polyfit."
   ]
  },
  {
   "cell_type": "code",
   "execution_count": 2,
   "metadata": {},
   "outputs": [],
   "source": [
    "# data\n",
    "\n",
    "x1 = np.array([2, 3, 4, 5, 6])\n",
    "y1 = np.array([2, 6, 5, 5, 5])"
   ]
  },
  {
   "cell_type": "markdown",
   "metadata": {},
   "source": [
    "Como tenemos 5 datos, el polinomio será de grado 4\n",
    "$$p_4 = a_0 + a_1 x +a_2 x^2 + a_3 x^3 + a_4 x^4$$\n",
    "\n",
    "Para calcular los coeficientes del polinomio podemos usar **Lagrange Polynomial interpolación** o **Interpolación polinomial de Newton**.\n",
    "\n",
    "Implementemos ambos"
   ]
  },
  {
   "cell_type": "markdown",
   "metadata": {},
   "source": [
    "### Interpolación de Lagrange\n",
    "\n",
    "\n",
    "$$\n",
    "P_i(x) = \\prod_{j = 1, j\\ne i}^n\\frac{x - x_j}{x_i - x_j},\n",
    "$$\n",
    "\n",
    "y\n",
    "\n",
    "$$\n",
    "L(x) = \\sum_{i = 1}^n y_i P_i(x).\n",
    "$$\n",
    "\n",
    "Para construir las expresiones de cada término se usa la forma simbólica con `Sympy`. En cada término $P_i(x)$ se usan todos los elementos $i$, excepto el mismo elemento $i$, en el numerador y denominador de la expresión.\n",
    "\n",
    "En polinomio se agrupan todos los términos multiplicados por su respectivo valor $f(x_i)=y_i$."
   ]
  },
  {
   "cell_type": "code",
   "execution_count": 3,
   "metadata": {},
   "outputs": [],
   "source": [
    "import sympy as sym"
   ]
  },
  {
   "cell_type": "code",
   "execution_count": 4,
   "metadata": {},
   "outputs": [],
   "source": [
    "# Interpolacion de Lagrange\n",
    "\n",
    "# PROCEDIMIENTO\n",
    "# Polinomio de Lagrange\n",
    "\n",
    "def Lagrang(data_x, data_y):\n",
    "    \"\"\"\n",
    "    falta añadir que no existan numeros de x repetidos y orden ascendente\n",
    "    \"\"\"\n",
    "    n = len(data_x)  # longitud de los datos\n",
    "    \n",
    "    x = sym.Symbol('x')  # creando objeto de sympy que me ''crea'' la variable x\n",
    "\n",
    "    polinomio = 0\n",
    "    #divisorL = np.zeros(n, dtype = float)  # almacenando las diferencias\n",
    "\n",
    "    for i in range(n):\n",
    "        # Termino de Lagrange\n",
    "        numerador = 1\n",
    "        denominador = 1\n",
    "        for j in range(n):\n",
    "            if (j != i):\n",
    "                numerador *= (x-data_x[j])\n",
    "                denominador *= (data_x[i]-data_x[j])\n",
    "    \n",
    "        terminoLi = numerador/denominador\n",
    "\n",
    "        polinomio += terminoLi*data_y[i]  # construyendo el polinomio\n",
    "        #divisorL[i] = denominador\n",
    "\n",
    "    # simplifica el polinomio\n",
    "    polisimple = polinomio.expand().evalf()\n",
    "\n",
    "    # para evaluación numérica\n",
    "    px = sym.lambdify(x, polisimple)\n",
    "    \n",
    "    return px, polisimple"
   ]
  },
  {
   "cell_type": "code",
   "execution_count": 5,
   "metadata": {},
   "outputs": [
    {
     "name": "stdout",
     "output_type": "stream",
     "text": [
      "-0.291666666666667*x**4 + 5.08333333333333*x**3 - 32.2083333333333*x**2 + 87.4166666666667*x - 80.0\n"
     ]
    }
   ],
   "source": [
    "px, polisimple = Lagrang(x1, y1)\n",
    "\n",
    "print(polisimple)"
   ]
  },
  {
   "cell_type": "code",
   "execution_count": 6,
   "metadata": {},
   "outputs": [
    {
     "data": {
      "image/png": "[encoded data removed]",
      "text/plain": [
       "<Figure size 432x288 with 1 Axes>"
      ]
     },
     "metadata": {
      "needs_background": "light"
     },
     "output_type": "display_data"
    }
   ],
   "source": [
    "xi = np.linspace(2, 6, 30)\n",
    "\n",
    "# Gráfica\n",
    "plt.plot(x1,y1,'o', label = 'Datos')\n",
    "plt.plot(xi, px(xi), label = 'Polinomio')\n",
    "plt.legend()\n",
    "plt.xlabel('x')\n",
    "plt.ylabel('y')\n",
    "plt.show()"
   ]
  },
  {
   "cell_type": "markdown",
   "metadata": {},
   "source": [
    "### Diferencias divididas de Newton\n",
    "\n",
    "El método se usa en el caso que los puntos en el **eje x** se encuentran espaciados de forma arbitraria y provienen de una función desconocida pero supuestamente diferenciable.\n",
    "\n",
    "$$\n",
    "\\begin{array}{cccccc}\n",
    "y_0 & f[x_1,x_0] & f[x_2, x_1,x_0] & f[x_3, x_2, x_1,x_0] & f[x_4, x_3, x_2, x_1,x_0]\\\\\n",
    "y_1 & f[x_2,x_1] & f[x_3, x_2,x_1] & f[x_4, x_3, x_2, x_1] & 0\\\\\n",
    "y_2 & f[x_3,x_2] & f[x_4, x_3,x_2] & 0          & 0 \\\\\n",
    "y_3 & f[x_4,x_3] & 0 & 0 & 0            \\\\\n",
    "y_4 & 0 & 0 & 0  & 0  \n",
    "\\end{array}\n",
    "$$\n",
    "\n",
    "Tenga en cuenta que la primera fila de la matriz son en realidad todos los coeficientes que necesitamos, es decir, $ a_0, a_1, a_2, a_3, a_4 $."
   ]
  },
  {
   "cell_type": "code",
   "execution_count": 7,
   "metadata": {},
   "outputs": [],
   "source": [
    "def divided_diff(x, y):\n",
    "    '''\n",
    "    función para calcular el termino dividido\n",
    "     tabla de diferencias\n",
    "    '''\n",
    "    \n",
    "    n = len(y)\n",
    "    coef = np.zeros([n, n])  # construyendo la matriz\n",
    "    \n",
    "    # Definiendo la primera columna como los valores de y\n",
    "    coef[:,0] = y\n",
    "    \n",
    "    # j es columna, i es filas\n",
    "    for j in range(1, n):  # empieza en uno pq y es la columna cero\n",
    "        for i in range(n-j):  # hace que sea triangular la matriz\n",
    "            coef[i][j] = (coef[i+1][j-1] - coef[i][j-1])/(x[i+j]-x[i])\n",
    "            \n",
    "    return coef\n",
    "\n",
    "def newton_poly(data_x, data_y, x_new):\n",
    "    '''\n",
    "    evaluar el polinomio de newton\n",
    "     en x \n",
    "    '''\n",
    "    \n",
    "    # calculando coeficientes\n",
    "    coef = divided_diff(data_x, data_y)[0, :]\n",
    "\n",
    "    n = len(data_x) - 1 \n",
    "    p = coef[n]\n",
    "    for k in range(1,n+1):\n",
    "        p = coef[n-k] + (x_new - data_x[n-k])*p\n",
    "        \n",
    "    return p"
   ]
  },
  {
   "cell_type": "code",
   "execution_count": 8,
   "metadata": {},
   "outputs": [],
   "source": [
    "xi = np.linspace(2, 6, 30)\n",
    "\n",
    "y_new = newton_poly(x1, y1, xi)"
   ]
  },
  {
   "cell_type": "code",
   "execution_count": 11,
   "metadata": {},
   "outputs": [],
   "source": [
    "?interp1d"
   ]
  },
  {
   "cell_type": "code",
   "execution_count": 9,
   "metadata": {},
   "outputs": [
    {
     "name": "stdout",
     "output_type": "stream",
     "text": [
      "[ -0.29166667   5.08333333 -32.20833333  87.41666667 -80.        ]\n",
      "-0.291666666666667*x**4 + 5.08333333333333*x**3 - 32.2083333333333*x**2 + 87.4166666666667*x - 80.0\n"
     ]
    },
    {
     "data": {
      "image/png": "[encoded data removed]",
      "text/plain": [
       "<Figure size 432x288 with 1 Axes>"
      ]
     },
     "metadata": {
      "needs_background": "light"
     },
     "output_type": "display_data"
    }
   ],
   "source": [
    "f = lagrange(x1, y1)\n",
    "coef = np.polyfit(x1, y1, deg=4)\n",
    "f2 = np.poly1d(coef)\n",
    "\n",
    "print(coef)\n",
    "print(polisimple)\n",
    "\n",
    "# Gráfica\n",
    "plt.plot(x1,y1,'o', label = 'Datos')\n",
    "plt.plot(xi, px(xi), 'r:', label = 'Polinomio')\n",
    "plt.plot(xi, y_new, 'b-.', label = 'Newton')\n",
    "\n",
    "plt.plot(xi, f(xi), 'r-', label = 'Python_Lag')\n",
    "plt.plot(xi, f2(xi), 'b-', label = 'Python_pol')\n",
    "\n",
    "\n",
    "plt.legend()\n",
    "plt.xlabel('x')\n",
    "plt.ylabel('y')\n",
    "plt.show()"
   ]
  },
  {
   "cell_type": "markdown",
   "metadata": {},
   "source": [
    " 2- A continuación se tiene una función analítica\n",
    "    \n",
    "$$f(x)=\\frac{1}{1+x^2}$$\n",
    "\n",
    "a) Genere un juego de datos (nodos) en el intervalo $[-5, 5]$, equiespaciados por uno y grafiquelo.\n",
    "\n",
    "b) ¿Mirando la figura, que método de interpolación usarías polinomial (Lagrange, Newton) o de trazados (lineal, splines)? Hagalo y grafiquelo.\n",
    "\n",
    "c) ¿Qué metodo de interpolación sería el correcto a usar? Hagalo y grafiquelo con el anterior."
   ]
  },
  {
   "cell_type": "code",
   "execution_count": 73,
   "metadata": {},
   "outputs": [],
   "source": [
    "f_2 = lambda x: 1/(1+x**2)  # Función de Runge\n",
    "\n",
    "x2 = np.linspace(-5, 5, 11)\n",
    "y2 = f_2(x2)"
   ]
  },
  {
   "cell_type": "code",
   "execution_count": 74,
   "metadata": {},
   "outputs": [
    {
     "data": {
      "text/plain": [
       "[<matplotlib.lines.Line2D at 0x7febbfd77be0>]"
      ]
     },
     "execution_count": 74,
     "metadata": {},
     "output_type": "execute_result"
    },
    {
     "data": {
      "image/png": "[encoded data removed]",
      "text/plain": [
       "<Figure size 432x288 with 1 Axes>"
      ]
     },
     "metadata": {
      "needs_background": "light"
     },
     "output_type": "display_data"
    }
   ],
   "source": [
    "plt.plot(x2, y2, 'bo')"
   ]
  },
  {
   "cell_type": "code",
   "execution_count": 78,
   "metadata": {},
   "outputs": [
    {
     "name": "stdout",
     "output_type": "stream",
     "text": [
      "coeficientes\n",
      "[-2.26244344e-05 -2.95736221e-19  1.26696833e-03  8.42998787e-19\n",
      " -2.44117647e-02  2.01271248e-16  1.97375566e-01 -2.72984972e-15\n",
      " -6.74208145e-01  6.69113248e-15  1.00000000e+00]\n",
      "-2.26244343891403e-5*x**10 + 0.00126696832579185*x**8 - 0.0244117647058824*x**6 + 0.19737556561086*x**4 - 0.67420814479638*x**2 + 1.0\n"
     ]
    },
    {
     "data": {
      "image/png": "[encoded data removed]",
      "text/plain": [
       "<Figure size 432x288 with 1 Axes>"
      ]
     },
     "metadata": {
      "needs_background": "light"
     },
     "output_type": "display_data"
    }
   ],
   "source": [
    "# intentemos interpolar con el código de Lagrange y polyfit\n",
    "\n",
    "xi = np.linspace(-5, 5, 100)\n",
    "\n",
    "y_new = newton_poly(x2, y2, xi)\n",
    "\n",
    "n = len(x2)-1\n",
    "\n",
    "px, polisimple = Lagrang(x2, y2)\n",
    "\n",
    "f = lagrange(x2, y2)\n",
    "coef = np.polyfit(x2, y2, deg=n)\n",
    "f2 = np.poly1d(coef)\n",
    "\n",
    "print('coeficientes')\n",
    "print(coef)\n",
    "print(polisimple)\n",
    "\n",
    "# Gráfica\n",
    "plt.plot(x2,y2,'o', label = 'Datos')\n",
    "plt.plot(xi, px(xi), 'r:', label = 'Polinomio')\n",
    "plt.plot(xi, y_new, 'b-.', label = 'Newton')\n",
    "\n",
    "plt.plot(xi, f(xi), 'r-', label = 'Python_Lag')\n",
    "plt.plot(xi, f2(xi), 'b-', label = 'Python_pol')\n",
    "\n",
    "\n",
    "plt.plot(xi, f_2(xi), 'k-', label = 'Analítica')\n",
    "\n",
    "\n",
    "plt.legend(loc='upper center')\n",
    "plt.xlabel('x')\n",
    "plt.ylabel('y')\n",
    "plt.show()\n",
    "\n"
   ]
  },
  {
   "cell_type": "code",
   "execution_count": null,
   "metadata": {},
   "outputs": [],
   "source": [
    "# notar que las interpolaciones polínomicas, es decir las que ajustan un polinomio \n",
    "# de grado n-1 para que pase por todos los datos no da una interpolación correcta\n",
    "# intentemoslo ahora con los trazados, es decir los que toman dos (lineal), tres datos (spliter)"
   ]
  },
  {
   "cell_type": "code",
   "execution_count": null,
   "metadata": {},
   "outputs": [],
   "source": [
    "# acá va código de interpolación lineal"
   ]
  },
  {
   "cell_type": "code",
   "execution_count": null,
   "metadata": {},
   "outputs": [],
   "source": []
  },
  {
   "cell_type": "code",
   "execution_count": 79,
   "metadata": {},
   "outputs": [],
   "source": [
    "# Frontera sujeta:\n",
    "# Condición: S'(x_0) = f'(x_0) y  S'(x_n) = f'(x_n)\n",
    "\n",
    "# Trazador cúbico natural\n",
    "# Condición: S''(x_0) = S''(x_n) = 0\n",
    "\n",
    "def traza3natural(xi,yi):\n",
    "    \"\"\"\n",
    "    verificar que datos ...\n",
    "    \"\"\"\n",
    "    n = len(xi)\n",
    "    \n",
    "    # Valores h_j = x_(j+1)-x_j\n",
    "    \n",
    "    h = np.zeros(n-1, dtype = float)  # almacena la diferencia entre valores de x alternos\n",
    "    for j in range(n-1):  # n-1, pq el final no se resta\n",
    "        h[j] = xi[j+1] - xi[j]\n",
    "    \n",
    "    # Sistema de ecuaciones\n",
    "    A = np.zeros(shape=(n-2,n-2), dtype = float)\n",
    "    B = np.zeros(n-2, dtype = float)\n",
    "    S = np.zeros(n, dtype = float)\n",
    "\n",
    "    A[0,0] = 2*(h[0]+h[1])\n",
    "    A[0,1] = h[1]\n",
    "    B[0] = 6*((yi[2]-yi[1])/h[1] - (yi[1]-yi[0])/h[0])\n",
    "\n",
    "    for i in range(1, n-3):\n",
    "        A[i,i-1] = h[i]\n",
    "        A[i,i] = 2*(h[i]+h[i+1])\n",
    "        A[i,i+1] = h[i+1]\n",
    "        factor21 = (yi[i+2]-yi[i+1])/h[i+1]\n",
    "        factor10 = (yi[i+1]-yi[i])/h[i]\n",
    "        B[i] = 6*(factor21 - factor10)\n",
    "        \n",
    "    A[n-3,n-4] = h[n-3]\n",
    "    A[n-3,n-3] = 2*(h[n-3]+h[n-2])\n",
    "    factor12 = (yi[n-1]-yi[n-2])/h[n-2]\n",
    "    factor23 = (yi[n-2]-yi[n-3])/h[n-3]\n",
    "    B[n-3] = 6*(factor12 - factor23)\n",
    "    \n",
    "    # Resolver sistema de ecuaciones S\n",
    "    r = np.linalg.solve(A,B)\n",
    "    for j in range(1,n-1,1):\n",
    "        S[j] = r[j-1]\n",
    "    S[0] = 0\n",
    "    S[n-1] = 0\n",
    "    \n",
    "    # Coeficientes\n",
    "    a = np.zeros(n-1, dtype = float)\n",
    "    b = np.zeros(n-1, dtype = float)\n",
    "    c = np.zeros(n-1, dtype = float)\n",
    "    d = np.zeros(n-1, dtype = float)\n",
    "    for j in range(0,n-1,1):\n",
    "        a[j] = (S[j+1]-S[j])/(6*h[j])\n",
    "        b[j] = S[j]/2\n",
    "        factor10 = (yi[j+1]-yi[j])/h[j]\n",
    "        c[j] = factor10 - (2*h[j]*S[j]+h[j]*S[j+1])/6\n",
    "        d[j] = yi[j]\n",
    "    \n",
    "    # Polinomio trazador\n",
    "    x = sym.Symbol('x')\n",
    "    px_tabla = []\n",
    "    for j in range(0,n-1,1):\n",
    "\n",
    "        pxtramo = a[j]*(x-xi[j])**3 + b[j]*(x-xi[j])**2\n",
    "        pxtramo = pxtramo + c[j]*(x-xi[j])+ d[j]\n",
    "        \n",
    "        pxtramo = pxtramo.expand()\n",
    "        px_tabla.append(pxtramo)\n",
    "    \n",
    "    return(px_tabla)"
   ]
  },
  {
   "cell_type": "code",
   "execution_count": 88,
   "metadata": {},
   "outputs": [
    {
     "name": "stdout",
     "output_type": "stream",
     "text": [
      "Polinomios por tramos: \n",
      " x = [-5.0,-4.0]\n",
      "0.00273368165795855*x**3 + 0.0410052248693783*x**2 + 0.222654433639159*x + 0.468313292167696\n",
      " x = [-4.0,-3.0]\n",
      "0.00714607134821629*x**3 + 0.0939539011524712*x**2 + 0.434449138771531*x + 0.750706232344191\n",
      " x = [-3.0,-2.0]\n",
      "0.00669108272293193*x**3 + 0.0898590035249119*x**2 + 0.422164445888853*x + 0.738421539461513\n",
      " x = [-2.0,-1.0]\n",
      "0.107266068348291*x**3 + 0.693308917277068*x**2 + 1.62906427339317*x + 1.54302142446439\n",
      " x = [-1.0,0.0]\n",
      "-0.435755356116097*x**3 - 0.935755356116097*x**2 + 1.0\n",
      " x = [0.0,1.0]\n",
      "0.435755356116097*x**3 - 0.935755356116097*x**2 + 1.0\n",
      " x = [1.0,2.0]\n",
      "-0.107266068348291*x**3 + 0.693308917277068*x**2 - 1.62906427339317*x + 1.54302142446439\n",
      " x = [2.0,3.0]\n",
      "-0.00669108272293192*x**3 + 0.0898590035249118*x**2 - 0.422164445888853*x + 0.738421539461513\n",
      " x = [3.0,4.0]\n",
      "-0.00714607134821629*x**3 + 0.0939539011524711*x**2 - 0.434449138771531*x + 0.750706232344191\n",
      " x = [4.0,5.0]\n",
      "-0.00273368165795855*x**3 + 0.0410052248693783*x**2 - 0.222654433639159*x + 0.468313292167696\n"
     ]
    }
   ],
   "source": [
    "# PROCEDIMIENTO\n",
    "# Tabla de polinomios por tramos\n",
    "n = len(x2)\n",
    "px_tabla = traza3natural(x2,y2)\n",
    "\n",
    "# SALIDA\n",
    "print('Polinomios por tramos: ')\n",
    "for tramo in range(1,n):\n",
    "    print(' x = ['+ str(x2[tramo-1]) +','+str(x2[tramo])+']')\n",
    "    print(str(px_tabla[tramo-1]))"
   ]
  },
  {
   "cell_type": "code",
   "execution_count": 103,
   "metadata": {},
   "outputs": [],
   "source": [
    "f = CubicSpline(x2, y2, bc_type='natural')\n",
    "f2 = interp1d(x2, y2, kind='cubic')\n",
    "f3 = InterpolatedUnivariateSpline(x2, y2,k=3)"
   ]
  },
  {
   "cell_type": "code",
   "execution_count": 105,
   "metadata": {},
   "outputs": [
    {
     "data": {
      "image/png": "[encoded data removed]",
      "text/plain": [
       "<Figure size 432x288 with 1 Axes>"
      ]
     },
     "metadata": {
      "needs_background": "light"
     },
     "output_type": "display_data"
    }
   ],
   "source": [
    "n = len(x2)\n",
    "\n",
    "xcomp = np.array([])\n",
    "ycomp = np.array([])\n",
    "tramo = 1\n",
    "while not(tramo >= n):\n",
    "    a = x2[tramo-1]\n",
    "    b = x2[tramo]\n",
    "    xtramo = np.linspace(a,b,20)\n",
    "    \n",
    "    # evalua polinomio del tramo\n",
    "    pxtramo = px_tabla[tramo-1]\n",
    "    pxt = sym.lambdify('x',pxtramo)\n",
    "    ytramo = pxt(xtramo)\n",
    "\n",
    "    # vectores de trazador en x,y\n",
    "    xcomp = np.concatenate((xcomp, xtramo))\n",
    "    ycomp = np.concatenate((ycomp, ytramo))\n",
    "    tramo = tramo + 1\n",
    "\n",
    "# Gráfica\n",
    "plt.plot(x2,y2, 'bo', label='datos')\n",
    "plt.plot(xcomp, ycomp, label='spliter', color='blue')\n",
    "plt.plot(xcomp, f(xcomp), label='spliter_py', color='g', ls='--')\n",
    "plt.plot(xcomp, f2(xcomp), label='spliter_py', color='r', ls=':')\n",
    "plt.plot(xcomp, f3(xcomp), label='spliter_py', color='k', ls='-.')\n",
    "\n",
    "plt.plot(xcomp, f_2(xcomp), 'k-', label = 'Analítica')\n",
    "plt.xlabel('x')\n",
    "plt.ylabel('y')\n",
    "plt.legend()\n",
    "plt.show()\n"
   ]
  },
  {
   "cell_type": "code",
   "execution_count": null,
   "metadata": {},
   "outputs": [],
   "source": [
    "# finalmente, este tipo de interpolación es mejor hacerla por trazos"
   ]
  },
  {
   "cell_type": "markdown",
   "metadata": {},
   "source": [
    "    3- Para simular la disminución de la temperatura (respecto a la distancia de la fuente) en un proceso termodinámico, \n",
    "\n",
    "<img src=\"imagen0.png\">\n",
    "    \n",
    "se puede usar un polinomio para aproximar en el intervalo $[0,4]$ metros la función $T$ con regla de correspondencia:\n",
    "    \n",
    "$$f=e^{0.5 x}$$\n",
    "\n",
    "    Para construir el mencionado polinomio, considere la tabla:\n",
    "\n",
    "| x | 0 | 1 | 2 | 3| 4|\n",
    "| :- | -: | :-: | :- | -: | -: |\n",
    "f(x)| \tf(0)| \tf(1)| \tf(2)| \tf(3)| \tf(4)\n",
    "\n",
    "\n",
    "a) Aplique interpolación polinomial y aproxime el valor de $f(2.4)$ usando un polinomio de **grado 2**.\n",
    "\n",
    "b) Aplique interpolación polinomial y aproxime el valor de $f(2.4)$ usando un polinomio de **mayor grado posible**.\n",
    "\n",
    "c) Encuentre una cota superior para el error absoluto y relativo de interpolación en la aproximación de $f(1.7)$ para cada caso.\n"
   ]
  },
  {
   "cell_type": "code",
   "execution_count": null,
   "metadata": {},
   "outputs": [],
   "source": [
    "# como es polinomial, debe construirse un polinomio que pase por ''todos'' los datos, \n",
    "# en este caso como se pide de grado dos, solo se pueden tomar 3 datos"
   ]
  },
  {
   "cell_type": "code",
   "execution_count": null,
   "metadata": {},
   "outputs": [],
   "source": []
  },
  {
   "cell_type": "code",
   "execution_count": null,
   "metadata": {},
   "outputs": [],
   "source": []
  },
  {
   "cell_type": "code",
   "execution_count": null,
   "metadata": {},
   "outputs": [],
   "source": []
  },
  {
   "cell_type": "markdown",
   "metadata": {},
   "source": [
    "    4- Construya un polinomio que aproxime a\n",
    "\n",
    "$$f(x)=\\sin(\\pi x)$$\n",
    "\n",
    "usando los puntos $x=0, \\pi/4, \\pi/2$ y aproxime la integral de $0$ a $\\pi/2$.\n",
    "\n",
    "a) Realice la interpolación mediante el método de trazador cúbico (splines).\n",
    "\n",
    "b) Integre usando alguno de los métodos numéricos conocidos.\n",
    "\n",
    "c) Estime el error para el ejercicio.\n",
    "\n"
   ]
  },
  {
   "cell_type": "code",
   "execution_count": null,
   "metadata": {},
   "outputs": [],
   "source": [
    "# el detalle es q para integrar hay que darle la función lambda"
   ]
  },
  {
   "cell_type": "code",
   "execution_count": null,
   "metadata": {},
   "outputs": [],
   "source": []
  },
  {
   "cell_type": "markdown",
   "metadata": {},
   "source": [
    "    5- Un estanque se drena a través de un tubo como se observa en la figura. \n",
    "\n",
    "<img src=\"imagen.png\">\n",
    "\n",
    "    Con suposiciones simplificadoras, la ecuación diferencial siguiente describe cómo cambia la profundidad con el tiempo:\n",
    "    \n",
    "$$\\frac{dh}{dt}=-\\frac{\\pi d^2}{4 A(h)}\\sqrt{2g(h+e)}$$\n",
    "\n",
    "\n",
    "    Donde:\n",
    "    h = profundidad (m),\n",
    "    t = tiempo (s),\n",
    "    d = diámetro del tubo (m),\n",
    "    A(h) = área de la superficie del estanque como función de la profundidad (m*m),\n",
    "    g = constante gravitacional (9,81 m/s2) y\n",
    "    e = la profundidad de salida del tubo por debajo del fondo del estanque (m).\n",
    "\n",
    "    Con base en la tabla siguiente de área-profundidad, resuelva esta ecuación diferencial para determinar cuánto tiempo tomaría que el estanque se vacie, dado que h(0) = 6 m, d = 0.25 m, e = 0.3 m.\n",
    "    \n",
    "| h | 6 | 5 | 4 | 3| 2| 1 | 0|\n",
    "| :-: | :-: | :-: | :-: | :-: | :-: | :-: | :-: |\n",
    "A(h)| \t1.17| 0.97|0.67|0.45| 0.32|0.18|0.02\n",
    "\n",
    "a) Con las profundidades $0, 2, 4, 6$, encuentre un modelo de trazador **cúbico** (splines) para modelar el área $A(h)$ y calcule el error en $h = 5 m$.\n",
    "\n",
    "b) Use alguno de los métodos conocidos para resolver EDO y estime el tiempo en que la profundidad es 3 m."
   ]
  },
  {
   "cell_type": "code",
   "execution_count": null,
   "metadata": {},
   "outputs": [],
   "source": []
  },
  {
   "cell_type": "markdown",
   "metadata": {},
   "source": [
    "   "
   ]
  }
 ],
 "metadata": {
  "kernelspec": {
   "display_name": "Python 3",
   "language": "python",
   "name": "python3"
  },
  "language_info": {
   "codemirror_mode": {
    "name": "ipython",
    "version": 3
   },
   "file_extension": ".py",
   "mimetype": "text/x-python",
   "name": "python",
   "nbconvert_exporter": "python",
   "pygments_lexer": "ipython3",
   "version": "3.8.5"
  }
 },
 "nbformat": 4,
 "nbformat_minor": 4
}

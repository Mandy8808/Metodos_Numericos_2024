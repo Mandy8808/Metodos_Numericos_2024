{
 "cells": [
  {
   "cell_type": "code",
   "execution_count": 1,
   "metadata": {},
   "outputs": [],
   "source": [
    "import numpy as np"
   ]
  },
  {
   "cell_type": "markdown",
   "metadata": {},
   "source": [
    "1. Hacer un juego del ahorcado."
   ]
  },
  {
   "cell_type": "code",
   "execution_count": 2,
   "metadata": {},
   "outputs": [],
   "source": [
    "\n",
    "import sys\n",
    " \n",
    "def mensajes(tipo, comp1=None, comp2=None):\n",
    "    mensajes = {\n",
    "                'intro': f'El juego consiste en adivinar una palabra de {comp1} letras \\n y se tendrán {comp2} oportunidades.\\\n",
    "                        \\n Las letras se considerarán en minusculas',\n",
    "                'in': 'Introduzca una letra ',\n",
    "                'rep': 'Introduzca otra letra no repetida',\n",
    "                'oport': f'No está presente la letra \\n te quedan {comp1} oportunidades',\n",
    "                'win': 'FELICIDADES GANASTE',\n",
    "                'lost': f'PERDISTE, la palabra era {comp1}'}\n",
    "    print(mensajes[tipo])\n",
    "\n",
    "def check_coherencia(oport, palabra):\n",
    "    if not(type(oport) is int):\n",
    "        sys.exit('Error: Las Oportunidades debe ser un entero')\n",
    "    elif not(type(palabra) is str):\n",
    "        sys.exit('Error: la variable palabra debe ser un string')\n",
    "    elif ' ' in palabra:\n",
    "        sys.exit('Error: Tiene que ser una palabra')\n",
    "           \n",
    "def check_rep(almac, test):\n",
    "    return (test in almac)\n",
    "    \n",
    "def check_in(palabra, test):\n",
    "    posiciones = [i for i in range(len(palabra)) if test == palabra[i]]\n",
    "    return posiciones\n",
    "\n",
    "def impresion(temp, nspac):\n",
    "    for i in range(nspac):\n",
    "        if i<nspac-1:\n",
    "            print(temp[i], end='')\n",
    "        else:\n",
    "            print(temp[i], end='\\n')\n",
    "        \n",
    "def game_ahorcado(palabra='ahorcado', oport=3):\n",
    "    \"\"\"\n",
    "    In: \n",
    "    palabra -> palabra a adivinar\n",
    "    oport -> oportunidades\n",
    "    \n",
    "    Variables:\n",
    "    almac -> guardará las letras correctas\n",
    "    temp -> objeto que se irá imprimiendo\n",
    "    test -> objeto que almacenará la letra introducida\n",
    "    \n",
    "    Funciones:\n",
    "    check_coherencia -> revisa que las entradas sean del tipo adecuado: palabra -> str, oport->int\n",
    "    mensajes -> imprime los diferentes tipos de mensajes: 'intro', 'in', 'rep', 'oport', 'win', 'lost'\n",
    "    impresion -> imprime temp en pantalla\n",
    "    check_rep -> revisa si la letra introducida (test) ya fue usada, es decir si se encuentra dentro de almac\n",
    "    check_in -> revisa y retorna en caso de haber concordancia las posiciones donde se localizo la letra introducida\n",
    "    \"\"\"\n",
    "    # revisando\n",
    "    check_coherencia(oport, palabra)\n",
    "    \n",
    "    # acondicionando\n",
    "    almac = []  # almacenando las entradas \n",
    "    palabra =  palabra.lower()\n",
    "    nspac = len(palabra)\n",
    "    mensajes('intro', *[nspac, oport]) \n",
    "    \n",
    "    temp = ['_ ' for _ in range(nspac)]\n",
    "    impresion(temp, nspac)\n",
    "    \n",
    "    # Comenzando\n",
    "    mensajes('in')\n",
    "    test = input().lower()\n",
    "    while True:\n",
    "        if check_rep(almac, test):\n",
    "            mensajes('rep')\n",
    "            test = input().lower()\n",
    "        else:\n",
    "            posiciones = check_in(palabra, test)\n",
    "            if len(posiciones) == 0:  # cuando no está la letra\n",
    "                oport -= 1\n",
    "                if oport == 0:  # si se acabaron las oportunidades\n",
    "                    mensajes('lost', comp1=palabra)\n",
    "                    break\n",
    "                else:  # descontando oportunidades\n",
    "                    mensajes('oport', comp1=oport)\n",
    "                    test = input().lower()\n",
    "            else:  # en caso de q si este la letra\n",
    "                almac.append(test)\n",
    "                for i in posiciones:\n",
    "                    temp[i] = test\n",
    "                \n",
    "                impresion(temp, nspac)\n",
    "                temp_pal = ''.join(temp)\n",
    "                if palabra == temp_pal:\n",
    "                    mensajes('win')\n",
    "                    break\n",
    "                else:\n",
    "                    mensajes('in')\n",
    "                    test = input().lower()  \n",
    "    return"
   ]
  },
  {
   "cell_type": "code",
   "execution_count": null,
   "metadata": {},
   "outputs": [],
   "source": [
    "game_ahorcado(palabra='casa', oport=3)"
   ]
  },
  {
   "cell_type": "markdown",
   "metadata": {},
   "source": [
    "2. Imprimir todos los dígitos decimales, del 0 al 9, utilizando una repetición."
   ]
  },
  {
   "cell_type": "code",
   "execution_count": null,
   "metadata": {},
   "outputs": [],
   "source": [
    "[print(i) for i in range(10)]"
   ]
  },
  {
   "cell_type": "markdown",
   "metadata": {},
   "source": [
    "3. Imprimir todos los números entre el 100 y el 199."
   ]
  },
  {
   "cell_type": "code",
   "execution_count": null,
   "metadata": {},
   "outputs": [],
   "source": [
    "[print(i) for i in range(100, 200)]"
   ]
  },
  {
   "cell_type": "markdown",
   "metadata": {},
   "source": [
    "4. Imprimir los números entre el 5 y el 20, saltando de tres en tres."
   ]
  },
  {
   "cell_type": "code",
   "execution_count": null,
   "metadata": {},
   "outputs": [],
   "source": [
    "[print(i) for i in range(5, 20, 3)]"
   ]
  },
  {
   "cell_type": "markdown",
   "metadata": {},
   "source": [
    "5. Escribir un programa que solicite al usuario una cantidad y luego itere la cantidad de veces dada. En cada iteración, solicitar al usuario que ingrese un número. Al finalizar, mostrar la suma de todos los números ingresados."
   ]
  },
  {
   "cell_type": "code",
   "execution_count": null,
   "metadata": {},
   "outputs": [],
   "source": [
    "c = int(input(\"Cantidad de números a repetir: \"))\n",
    "acumulado = 0\n",
    "for _ in range(c):\n",
    "    numero = int(input(\"Número: \"))\n",
    "    acumulado += numero\n",
    "\n",
    "print(\"Total de la suma:\", acumulado)"
   ]
  },
  {
   "cell_type": "markdown",
   "metadata": {},
   "source": [
    "6. Solicitar al usuario que ingrese una frase y luego imprimir un listado de las vocales que aparecen en esa frase (sin repetirlas)."
   ]
  },
  {
   "cell_type": "code",
   "execution_count": null,
   "metadata": {},
   "outputs": [],
   "source": [
    "frase = input(\"Frase: \")\n",
    "print(\"Vocales en la frase:\")\n",
    "voc = {i for i in \"aeiou\" if i in frase}\n",
    "print(''.join(voc))"
   ]
  },
  {
   "cell_type": "markdown",
   "metadata": {},
   "source": [
    "7. Solicitar al usuario que ingrese una frase y luego imprimir la cantidad de vocales que se encuentran en dicha frase."
   ]
  },
  {
   "cell_type": "code",
   "execution_count": null,
   "metadata": {},
   "outputs": [],
   "source": [
    "frase = input(\"Frase: \")\n",
    "print(\"Cantidad de vocales:\")\n",
    "voc = [i for i in frase if i in \"aeiou\"]\n",
    "# voc = [i for i in \"aeiou\" if i in frase]  # por qué no así\n",
    "print(len(voc))"
   ]
  },
  {
   "cell_type": "code",
   "execution_count": null,
   "metadata": {},
   "outputs": [],
   "source": [
    "# alternativa\n",
    "frase = input(\"Frase: \")\n",
    "contador = 0\n",
    "for i in frase:\n",
    "    if i in \"aeiou\":\n",
    "        contador += 1\n",
    "print(\"Cantidad de vocales:\", contador)"
   ]
  },
  {
   "cell_type": "markdown",
   "metadata": {},
   "source": [
    "8. Escribir un programa que muestre la sumatoria de todos los múltiplos de 3 encontrados entre el 0 y el 100."
   ]
  },
  {
   "cell_type": "code",
   "execution_count": null,
   "metadata": {},
   "outputs": [],
   "source": [
    "acumulado =  sum([i for i in range(101) if i%3 == 0])\n",
    "print(\"Sumatoria de los múltiplos de 3:\", acumulado)"
   ]
  },
  {
   "cell_type": "code",
   "execution_count": null,
   "metadata": {},
   "outputs": [],
   "source": [
    "# alternativa\n",
    "acumulado = 0\n",
    "for i in range(101):\n",
    "    if i%3 == 0:\n",
    "        acumulado += i\n",
    "print(\"Sumatoria de los múltiplos de 3:\", acumulado)"
   ]
  },
  {
   "cell_type": "markdown",
   "metadata": {},
   "source": [
    "9. Dado un número entero positivo, mostrar su factorial. El factorial de un número se obtiene multiplicando todos los números enteros positivos que hay entre el 1 y ese número."
   ]
  },
  {
   "cell_type": "code",
   "execution_count": null,
   "metadata": {},
   "outputs": [],
   "source": [
    "numero = int(input(\"Número:\"))\n",
    "\n",
    "f = 1\n",
    "if numero != 0:\n",
    "    for i in range(numero, 1, -1):\n",
    "        f *= i\n",
    "print(\"Factorial:\", f)\n"
   ]
  },
  {
   "cell_type": "markdown",
   "metadata": {},
   "source": [
    "10. Escribir un programa que permita al usuario ingresar 6 números enteros, que pueden ser positivos o negativos. Al finalizar, mostrar la sumatoria de los números negativos y el promedio de los positivos.  No olvides que no es posible dividir por cero, por lo que es necesario evitar que el programa arroje un error si no se ingresaron números positivos."
   ]
  },
  {
   "cell_type": "code",
   "execution_count": null,
   "metadata": {},
   "outputs": [],
   "source": [
    "Posit, Neg, numeros = [], [], []\n",
    "for _ in range(6):\n",
    "    nro = int(input(\"Número: \"))\n",
    "    numeros.append(nro)\n",
    "    if nro > 0:\n",
    "        Posit.append(nro)\n",
    "    elif nro < 0:\n",
    "        Neg.append(nro)\n",
    "    else:\n",
    "        sys.exit('Error: el cero no es ni positivo, ni negativo')\n",
    "\n",
    "ntot = len(Posit)\n",
    "print('lista de numeros -> ', numeros)\n",
    "print('Sumatoria de los negativos: ', sum(Neg))  \n",
    "print('Promedio de los positivos: ', sum(Posit)/ntot) if ntot !=0 else print('No se introdujeron num. positivos')"
   ]
  },
  {
   "cell_type": "markdown",
   "metadata": {},
   "source": [
    "11. Escribir un programa que permita al usuario ingresar dos años y luego imprima todos los años en ese rango, que sean bisiestos y múltiplos de 10. Nota: para que un año sea bisiesto debe ser divisible por 4 y no debe ser divisible por 100, excepto que también sea divisible por 400."
   ]
  },
  {
   "cell_type": "code",
   "execution_count": null,
   "metadata": {},
   "outputs": [],
   "source": [
    "anioInicio = int(input(\"Año inicial:\"))\n",
    "anioFin = int(input(\"Año final:\"))\n",
    "for anio in range(anioInicio, anioFin+1):\n",
    "    if anio%10 or anio%4:  # equivalente a: if (not anio%10 == 0) or (not anio%4 == 0):\n",
    "        continue \n",
    "    # los que no entren en el if serán los que son divisibles por 10 y 4\n",
    "    if anio%100 or not(anio%400):  # equivalente a: if anio%100 != 0 or anio%400 == 0\n",
    "        print(anio)"
   ]
  },
  {
   "cell_type": "markdown",
   "metadata": {},
   "source": [
    "12. Un grupo de amigos decide organizar un juego de estrategia, para lo cual forman dos equipos de 6 integrantes cada uno, donde un integrante de cada equipo es el “jefe” y los otros 5 son sus “oficiales”. La regla más importante del juego es que sólo se comunicarán mediante un canal común, por lo que deben buscar la forma de ocultar el contenido de sus mensajes. Uno de los equipos decide utilizar un método antiguo de encriptación llamado “la cifra del césar”, que consiste en correr cada letra del mensaje –considerando la posición de cada una en el alfabeto– una determinada cantidad de lugares. \n",
    "    \n",
    "    Ejemplo: si el corrimiento es de 2 lugares, la palabra “ATAQUE” se transforma en “CVCSWG”.  Cada día, el “jefe” del equipo debe enviar un mensaje a cada uno de sus oficiales. Escribir un programa que permita encriptar los 5 mensajes. El corrimiento (cantidad de lugares que se correrán las letras) será dado por el usuario antes de comenzar a encriptar. Los 5 mensajes usarán el mismo corrimiento. \n",
    "    Nota: si el alfabeto termina antes de poder correr la cantidad de lugares necesarios, se vuelve a comenzar desde la letra “a”. Ejemplo: la palabra “EXTRA” corrida 3 lugares se convierte en “HAWUD”. Utilizando el alfabeto español, de 27 letras, el siguiente cálculo matemático permite volver a comenzar por el principio una vez que se llegó a la “z”: (índice de la letra a correr+corrimiento)%27 Sólo se encriptarán las letras de los mensajes, dejando al resto de caracteres sin modificación."
   ]
  },
  {
   "cell_type": "code",
   "execution_count": null,
   "metadata": {},
   "outputs": [],
   "source": [
    "def en_des(mensaje, corrimiento=3, enc=True):\n",
    "    alfabeto = \"abcdefghijklmnñopqrstuvwxyz\"\n",
    "    encriptado = \"\"\n",
    "    \n",
    "    for caracter in mensaje:\n",
    "        lowcaract = caracter.lower()\n",
    "        if lowcaract in alfabeto:\n",
    "            indice = alfabeto.find(lowcaract)\n",
    "            if enc:\n",
    "                indice = (indice+corrimiento)%len(alfabeto)\n",
    "            else:\n",
    "                indice = (indice-corrimiento)%len(alfabeto)\n",
    "            encriptado += alfabeto[indice]\n",
    "        else:\n",
    "            encriptado += caracter\n",
    "    \n",
    "    return encriptado\n",
    "\n",
    "num_mensaj = 2\n",
    "corrimiento = int(input(\"Corrimiento: \"))\n",
    "for i in range(1, num_mensaj+1):\n",
    "    mensaje = input(\"Mensaje a encriptar num %d: \"%i)\n",
    "    encriptado = en_des(mensaje, corrimiento=corrimiento, enc=True)\n",
    "    print(\"*** Mensaje encriptado: \", encriptado)"
   ]
  },
  {
   "cell_type": "code",
   "execution_count": null,
   "metadata": {},
   "outputs": [],
   "source": [
    "# Desencriptando\n",
    "mensaje = 'jqnc swg vcn, gurgtq s dkgo'\n",
    "corrimiento = 2\n",
    "encriptado = en_des(mensaje, corrimiento=corrimiento, enc=False)\n",
    "encriptado"
   ]
  }
 ],
 "metadata": {
  "kernelspec": {
   "display_name": "base",
   "language": "python",
   "name": "python3"
  },
  "language_info": {
   "codemirror_mode": {
    "name": "ipython",
    "version": 3
   },
   "file_extension": ".py",
   "mimetype": "text/x-python",
   "name": "python",
   "nbconvert_exporter": "python",
   "pygments_lexer": "ipython3",
   "version": "3.11.8"
  }
 },
 "nbformat": 4,
 "nbformat_minor": 2
}

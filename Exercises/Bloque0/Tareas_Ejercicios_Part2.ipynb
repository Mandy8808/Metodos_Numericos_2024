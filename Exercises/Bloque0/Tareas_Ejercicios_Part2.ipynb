{
 "cells": [
  {
   "cell_type": "code",
   "execution_count": 14,
   "metadata": {},
   "outputs": [],
   "source": [
    "import numpy as np"
   ]
  },
  {
   "cell_type": "markdown",
   "metadata": {},
   "source": [
    "1. Cree un notebook de jupyter donde se realicen las siguientes tareas:\n",
    "    - defina tres variables y a cada una asignele un valor numérico entero, real y complejo respectivamente.\n",
    "    \n",
    "    - usando el operador de asignaciones asignele al número complejo su cuadrado, y al real el resto de la división con el entero.\n",
    "\n",
    "    - limpie la variable entera y asignele la parte compleja del número complejo como un entero\n",
    "    \n",
    "    - convierta el número real a booleano y asignarlo a una nueva variable texto en formato string\n",
    "    \n",
    "    - imprimir los tres primero caracteres de texto\n",
    "    \n",
    "    - imprimir un texto en varias lineas y que presente espacios horizontales\n",
    "    \n",
    "    - imprima los primeros 8 dígitos de la raiz de dos. Puede usar % o format. \n",
    "        - Tip: Para obtener la raiz de dos puede usar el paquete numpy mediante:\n",
    "        \n",
    "            import numpy as np\n",
    "            \n",
    "            np.sqrt(2)"
   ]
  },
  {
   "cell_type": "code",
   "execution_count": 16,
   "metadata": {},
   "outputs": [
    {
     "name": "stdout",
     "output_type": "stream",
     "text": [
      "Los números son: \n",
      " Entero:  4 \n",
      " Real:  5.1 \n",
      " Complejo:  (6+7j) \n",
      "\n",
      "El cuadrado del número complejo es:  (-13+84j) \n",
      " Mientras que el resto de b/a es:  1.0999999999999996 \n",
      "\n",
      "La parte compleja del número c es:  84.0 \n",
      "\n",
      "Los tres primeros caracteres son:  Tru \n",
      "\n",
      "Los primeros 8 dígitos de raiz de dos son: 1.41421356\n"
     ]
    }
   ],
   "source": [
    "a, b, c = 4, 5.1, 6+7j\n",
    "print('Los números son: \\n Entero: ', a, '\\n Real: ', b, '\\n Complejo: ', c, '\\n')\n",
    "\n",
    "c = c**2\n",
    "b %= a \n",
    "\n",
    "print('El cuadrado del número complejo es: ', c, '\\n Mientras que el resto de b/a es: ', b, '\\n')\n",
    "\n",
    "del a\n",
    "a = c.imag\n",
    "print('La parte compleja del número c es: ', a, '\\n')\n",
    "\n",
    "sr = bool(b)\n",
    "print('Los tres primeros caracteres son: ', str(sr)[:3], '\\n')\n",
    "\n",
    "print('Los primeros 8 dígitos de raiz de dos son: %9.8f'%np.sqrt(2))"
   ]
  },
  {
   "cell_type": "code",
   "execution_count": null,
   "metadata": {},
   "outputs": [],
   "source": []
  },
  {
   "cell_type": "markdown",
   "metadata": {},
   "source": [
    "2. Escribir un programa que tenga almacenado el abecedario y le solicite al usuario un número entero el cual utilizarás para eliminar sus múltiplos del abecedario y devolver la lista resultante.\n",
    "\n",
    "    Ejemplo: In: 2 -> Out: [a, c, e, g, ...]\n",
    "\n",
    "    Tips: use el comando **input** para solicitarle al usuario la información."
   ]
  },
  {
   "cell_type": "code",
   "execution_count": 33,
   "metadata": {},
   "outputs": [
    {
     "name": "stdout",
     "output_type": "stream",
     "text": [
      "Las letras del abecedario no múltiplos de 2, son: \n",
      " ['a', 'c', 'e', 'g', 'i', 'k', 'm', 'ñ', 'p', 'r', 't', 'v', 'x', 'z']\n"
     ]
    }
   ],
   "source": [
    "abecedario = 'abcdefghijklmnñopqrstuvwxyz'\n",
    "mult = int(input('Introduzca un número entero correspondiente al multiplo que se desea borrar'))\n",
    "\n",
    "listabecedario = []\n",
    "for i, letra in enumerate(abecedario, 1):\n",
    "    if i%mult!=0:\n",
    "        listabecedario.append(letra)\n",
    "\n",
    "print('Las letras del abecedario no múltiplos de %d, son: \\n'%mult, listabecedario)"
   ]
  },
  {
   "cell_type": "code",
   "execution_count": null,
   "metadata": {},
   "outputs": [],
   "source": []
  },
  {
   "cell_type": "markdown",
   "metadata": {},
   "source": [
    "3. Escribir un programa que pida al usuario una palabra y muestre por pantalla si es un palíndromo.\n",
    "\n",
    "    Ejemplo: In: casa -> Out: No es un palíndromo\n",
    "    Ejemplo: In: anilina -> Out: Si es un palídromo"
   ]
  },
  {
   "cell_type": "code",
   "execution_count": 37,
   "metadata": {},
   "outputs": [
    {
     "name": "stdout",
     "output_type": "stream",
     "text": [
      "La palabra:  anilina SI es un políndromo\n"
     ]
    }
   ],
   "source": [
    "palabra = input('Introduzca la palabra que desea comprobar si es un palíndromo')\n",
    "\n",
    "if palabra==palabra[::-1]:\n",
    "    print('La palabra: ', palabra, 'SI es un políndromo')\n",
    "else:\n",
    "    print('La palabra: ', palabra, 'NO es un políndromo')"
   ]
  },
  {
   "cell_type": "code",
   "execution_count": null,
   "metadata": {},
   "outputs": [],
   "source": []
  },
  {
   "cell_type": "markdown",
   "metadata": {},
   "source": [
    "4. Escribir un programa que pida al usuario una palabra y muestre por pantalla el número de veces que contiene cada vocal.\n",
    "\n",
    "    Ejemplo: In: casa -> Out: Vocal: a -> Numero de rep: 2 "
   ]
  },
  {
   "cell_type": "code",
   "execution_count": 53,
   "metadata": {},
   "outputs": [
    {
     "name": "stdout",
     "output_type": "stream",
     "text": [
      "El número de vocales son: \n",
      " \n",
      "Vocal:  1 Conteo:  1\n",
      "Vocal:  0 Conteo:  0\n",
      "Vocal:  0 Conteo:  0\n",
      "Vocal:  1 Conteo:  1\n",
      "Vocal:  0 Conteo:  0\n"
     ]
    }
   ],
   "source": [
    "palabra = input('Introduzca la palabra')\n",
    "vocales = {'a': 0, 'e': 0, 'i': 0, 'o': 0, 'u': 0}\n",
    "\n",
    "contador = []\n",
    "for letra in palabra.lower():\n",
    "    if letra in vocales:\n",
    "        vocales[letra] += 1  # actualizando\n",
    "\n",
    "print('El número de vocales son: \\n ')\n",
    "for i in vocales:\n",
    "    print('Vocal: ', vocales[i], 'Conteo: ', vocales[i])\n"
   ]
  },
  {
   "cell_type": "code",
   "execution_count": null,
   "metadata": {},
   "outputs": [],
   "source": []
  },
  {
   "cell_type": "markdown",
   "metadata": {},
   "source": [
    "5. Escribir un programa que solicite al usuario dos vectores por ejemplo: $(1,2,3)$ y $(-1,0,2)$ y retorne su producto escalar.\n",
    "\n",
    "    Tip: Recordar que el producto escalar es la suma de los productos de las componente."
   ]
  },
  {
   "cell_type": "code",
   "execution_count": null,
   "metadata": {},
   "outputs": [],
   "source": []
  },
  {
   "cell_type": "code",
   "execution_count": null,
   "metadata": {},
   "outputs": [],
   "source": []
  },
  {
   "cell_type": "markdown",
   "metadata": {},
   "source": [
    "6. Escribir un programa que almacene una matriz dada por el usuario, ejemplo:\n",
    "\n",
    "    <img src= \"capturas/tarea.png\">\n",
    "\n",
    "    y que con estas calcule su producto (programe el producto no use funciones definidas). \n",
    "\n",
    "    Tip: Recordar que para multiplicar dos matrices A*B, las matrices deben tener una dimensión interna común. Es decir, el número de columnas de la primera debe ser igual al número de filas de la segunda. El operador de multiplicación de matriz $R$ calcula el producto de dos matrices con la fórmula, (donde $n$ es el número de columnas de A.)\n",
    "    $$ R_{i j} =\\sum_{k=1}^{n} A_{i k} B_{k j}$$\n",
    "    "
   ]
  },
  {
   "cell_type": "code",
   "execution_count": 62,
   "metadata": {},
   "outputs": [
    {
     "ename": "IndexError",
     "evalue": "list index out of range",
     "output_type": "error",
     "traceback": [
      "\u001b[0;31m---------------------------------------------------------------------------\u001b[0m",
      "\u001b[0;31mIndexError\u001b[0m                                Traceback (most recent call last)",
      "Cell \u001b[0;32mIn[62], line 11\u001b[0m\n\u001b[1;32m      9\u001b[0m     \u001b[38;5;28;01mfor\u001b[39;00m i \u001b[38;5;129;01min\u001b[39;00m \u001b[38;5;28mrange\u001b[39m(nrowA):\n\u001b[1;32m     10\u001b[0m         \u001b[38;5;28;01mfor\u001b[39;00m j \u001b[38;5;129;01min\u001b[39;00m \u001b[38;5;28mrange\u001b[39m(ncolA):\n\u001b[0;32m---> 11\u001b[0m             Rij[i]\u001b[38;5;241m.\u001b[39mappend(mA[i][j]\u001b[38;5;241m*\u001b[39mmB[i][j])\n\u001b[1;32m     13\u001b[0m     \u001b[38;5;28mprint\u001b[39m(\u001b[38;5;124m'\u001b[39m\u001b[38;5;124mEl producto matricial es: \u001b[39m\u001b[38;5;124m'\u001b[39m, Rij)\n\u001b[1;32m     14\u001b[0m \u001b[38;5;28;01melse\u001b[39;00m:\n",
      "\u001b[0;31mIndexError\u001b[0m: list index out of range"
     ]
    }
   ],
   "source": [
    "mA = [[1, 2, 3], [4, 5, 6]]\n",
    "mB = [[-1, 0], [0, 1], [1, 1]]\n",
    "\n",
    "nrowA, ncolA = len(mA), len(mA[0])\n",
    "nrowB, ncolB = len(mB), len(mB[0])\n",
    "\n",
    "Rij = [[] for _ in range(nrowA)]\n",
    "if ncolA==nrowB:\n",
    "    for i in range(nrowA):  # llenando filas de R\n",
    "        temp = 0\n",
    "        for k in range(ncolA):\n",
    "            temp += mA[i][k]*mB[k][]\n",
    "\n",
    "            Rij[i].append()\n",
    "\n",
    "    print('El producto matricial es: ', Rij)\n",
    "else:\n",
    "    print('No se cumplen los requisitos para el producto matricial')"
   ]
  },
  {
   "cell_type": "code",
   "execution_count": 63,
   "metadata": {},
   "outputs": [
    {
     "data": {
      "text/plain": [
       "[[-1, 0], []]"
      ]
     },
     "execution_count": 63,
     "metadata": {},
     "output_type": "execute_result"
    }
   ],
   "source": [
    "Rij"
   ]
  },
  {
   "cell_type": "code",
   "execution_count": null,
   "metadata": {},
   "outputs": [],
   "source": []
  },
  {
   "cell_type": "markdown",
   "metadata": {},
   "source": [
    "7. Dada una muestra de números, cree un programa que devuelva su media aritmética y desviación típica.\n",
    "\n",
    "    Tip: Recordar que para una distribución discreta la media aritmética de una muestra completa con $N$ elementos es: $\\mu=\\sum_{i=1}^{N} x_i/N$. Mientras que la desviación estandar es \n",
    "$$\n",
    "s=\\sqrt{\\frac{1}{N}\\sum_{i=1}^{N}(x_i-\\mu)^2}\\equiv \\sqrt{\\frac{\\sum_{i=1}^{N}x_i^{2}}{N}-\\mu^2}.\n",
    "$$|"
   ]
  },
  {
   "cell_type": "code",
   "execution_count": null,
   "metadata": {},
   "outputs": [],
   "source": []
  },
  {
   "cell_type": "markdown",
   "metadata": {},
   "source": [
    "8. Diseñar el algoritmo correspondiente a un programa, que:\n",
    "    - Crea una tabla (lista con dos dimensiones) de $5 \\times 5$ enteros.\n",
    "\n",
    "    - Carga la tabla con valores numéricos enteros.\n",
    "    - Suma todos los elementos de cada fila y todos los elementos de cada columna visualizando los resultados en pantalla."
   ]
  },
  {
   "cell_type": "code",
   "execution_count": null,
   "metadata": {},
   "outputs": [],
   "source": []
  },
  {
   "cell_type": "markdown",
   "metadata": {},
   "source": [
    "9. Escribir un programa que implemente una agenda (Implementar con un diccionario.). En la agenda se podrán guardar nombres y números de teléfono. El programa nos dará el siguiente menú:\n",
    "\n",
    "- Añadir/modificar: Nos pide un nombre. Si el nombre se encuentra en la agenda, debe mostrar el teléfono y, opcionalmente, permitir modificarlo si no es correcto. Si el nombre no se encuentra, debe permitir ingresar el teléfono correspondiente.\n",
    "\n",
    "- Buscar: Nos pide una cadena de caracteres, y nos muestras todos los contactos cuyos nombres comiencen por dicha cadena.\n",
    "- Borrar: Nos pide un nombre y si existe nos preguntará si queremos borrarlo de la agenda.\n",
    "- Listar: Nos muestra todos los contactos de la agenda."
   ]
  },
  {
   "cell_type": "code",
   "execution_count": null,
   "metadata": {},
   "outputs": [],
   "source": []
  },
  {
   "cell_type": "markdown",
   "metadata": {},
   "source": []
  }
 ],
 "metadata": {
  "kernelspec": {
   "display_name": "base",
   "language": "python",
   "name": "python3"
  },
  "language_info": {
   "codemirror_mode": {
    "name": "ipython",
    "version": 3
   },
   "file_extension": ".py",
   "mimetype": "text/x-python",
   "name": "python",
   "nbconvert_exporter": "python",
   "pygments_lexer": "ipython3",
   "version": "3.11.7"
  }
 },
 "nbformat": 4,
 "nbformat_minor": 2
}

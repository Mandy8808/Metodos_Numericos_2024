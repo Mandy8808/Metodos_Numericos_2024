{
 "cells": [
  {
   "cell_type": "code",
   "execution_count": 14,
   "metadata": {},
   "outputs": [],
   "source": [
    "import numpy as np"
   ]
  },
  {
   "cell_type": "markdown",
   "metadata": {},
   "source": [
    "1. Cree un notebook de jupyter donde se realicen las siguientes tareas:\n",
    "    - defina tres variables y a cada una asignele un valor numérico entero, real y complejo respectivamente.\n",
    "    \n",
    "    - usando el operador de asignaciones asignele al número complejo su cuadrado, y al real el resto de la división con el entero.\n",
    "\n",
    "    - limpie la variable entera y asignele la parte compleja del número complejo como un entero\n",
    "    \n",
    "    - convierta el número real a booleano y asignarlo a una nueva variable texto en formato string\n",
    "    \n",
    "    - imprimir los tres primero caracteres de texto\n",
    "    \n",
    "    - imprimir un texto en varias lineas y que presente espacios horizontales\n",
    "    \n",
    "    - imprima los primeros 8 dígitos de la raiz de dos. Puede usar % o format. \n",
    "        - Tip: Para obtener la raiz de dos puede usar el paquete numpy mediante:\n",
    "        \n",
    "            import numpy as np\n",
    "            \n",
    "            np.sqrt(2)"
   ]
  },
  {
   "cell_type": "code",
   "execution_count": 16,
   "metadata": {},
   "outputs": [
    {
     "name": "stdout",
     "output_type": "stream",
     "text": [
      "Los números son: \n",
      " Entero:  4 \n",
      " Real:  5.1 \n",
      " Complejo:  (6+7j) \n",
      "\n",
      "El cuadrado del número complejo es:  (-13+84j) \n",
      " Mientras que el resto de b/a es:  1.0999999999999996 \n",
      "\n",
      "La parte compleja del número c es:  84.0 \n",
      "\n",
      "Los tres primeros caracteres son:  Tru \n",
      "\n",
      "Los primeros 8 dígitos de raiz de dos son: 1.41421356\n"
     ]
    }
   ],
   "source": [
    "a, b, c = 4, 5.1, 6+7j\n",
    "print('Los números son: \\n Entero: ', a, '\\n Real: ', b, '\\n Complejo: ', c, '\\n')\n",
    "\n",
    "c = c**2\n",
    "b %= a \n",
    "\n",
    "print('El cuadrado del número complejo es: ', c, '\\n Mientras que el resto de b/a es: ', b, '\\n')\n",
    "\n",
    "del a\n",
    "a = c.imag\n",
    "print('La parte compleja del número c es: ', a, '\\n')\n",
    "\n",
    "sr = bool(b)\n",
    "print('Los tres primeros caracteres son: ', str(sr)[:3], '\\n')\n",
    "\n",
    "print('Los primeros 8 dígitos de raiz de dos son: %9.8f'%np.sqrt(2))"
   ]
  },
  {
   "cell_type": "code",
   "execution_count": null,
   "metadata": {},
   "outputs": [],
   "source": []
  },
  {
   "cell_type": "markdown",
   "metadata": {},
   "source": [
    "2. Escribir un programa que tenga almacenado el abecedario y le solicite al usuario un número entero el cual utilizarás para eliminar sus múltiplos del abecedario y devolver la lista resultante.\n",
    "\n",
    "    Ejemplo: In: 2 -> Out: [a, c, e, g, ...]\n",
    "\n",
    "    Tips: use el comando **input** para solicitarle al usuario la información."
   ]
  },
  {
   "cell_type": "code",
   "execution_count": 33,
   "metadata": {},
   "outputs": [
    {
     "name": "stdout",
     "output_type": "stream",
     "text": [
      "Las letras del abecedario no múltiplos de 2, son: \n",
      " ['a', 'c', 'e', 'g', 'i', 'k', 'm', 'ñ', 'p', 'r', 't', 'v', 'x', 'z']\n"
     ]
    }
   ],
   "source": [
    "abecedario = 'abcdefghijklmnñopqrstuvwxyz'\n",
    "mult = int(input('Introduzca un número entero correspondiente al multiplo que se desea borrar'))\n",
    "\n",
    "listabecedario = []\n",
    "for i, letra in enumerate(abecedario, 1):\n",
    "    if i%mult!=0:\n",
    "        listabecedario.append(letra)\n",
    "\n",
    "print('Las letras del abecedario no múltiplos de %d, son: \\n'%mult, listabecedario)"
   ]
  },
  {
   "cell_type": "code",
   "execution_count": null,
   "metadata": {},
   "outputs": [],
   "source": []
  },
  {
   "cell_type": "markdown",
   "metadata": {},
   "source": [
    "3. Escribir un programa que pida al usuario una palabra y muestre por pantalla si es un palíndromo.\n",
    "\n",
    "    Ejemplo: In: casa -> Out: No es un palíndromo\n",
    "    Ejemplo: In: anilina -> Out: Si es un palídromo"
   ]
  },
  {
   "cell_type": "code",
   "execution_count": 37,
   "metadata": {},
   "outputs": [
    {
     "name": "stdout",
     "output_type": "stream",
     "text": [
      "La palabra:  anilina SI es un políndromo\n"
     ]
    }
   ],
   "source": [
    "palabra = input('Introduzca la palabra que desea comprobar si es un palíndromo')\n",
    "\n",
    "if palabra==palabra[::-1]:\n",
    "    print('La palabra: ', palabra, 'SI es un políndromo')\n",
    "else:\n",
    "    print('La palabra: ', palabra, 'NO es un políndromo')"
   ]
  },
  {
   "cell_type": "code",
   "execution_count": null,
   "metadata": {},
   "outputs": [],
   "source": []
  },
  {
   "cell_type": "markdown",
   "metadata": {},
   "source": [
    "4. Escribir un programa que pida al usuario una palabra y muestre por pantalla el número de veces que contiene cada vocal.\n",
    "\n",
    "    Ejemplo: In: casa -> Out: Vocal: a -> Numero de rep: 2 "
   ]
  },
  {
   "cell_type": "code",
   "execution_count": 53,
   "metadata": {},
   "outputs": [
    {
     "name": "stdout",
     "output_type": "stream",
     "text": [
      "El número de vocales son: \n",
      " \n",
      "Vocal:  1 Conteo:  1\n",
      "Vocal:  0 Conteo:  0\n",
      "Vocal:  0 Conteo:  0\n",
      "Vocal:  1 Conteo:  1\n",
      "Vocal:  0 Conteo:  0\n"
     ]
    }
   ],
   "source": [
    "palabra = input('Introduzca la palabra')\n",
    "vocales = {'a': 0, 'e': 0, 'i': 0, 'o': 0, 'u': 0}\n",
    "\n",
    "contador = []\n",
    "for letra in palabra.lower():\n",
    "    if letra in vocales:\n",
    "        vocales[letra] += 1  # actualizando\n",
    "\n",
    "print('El número de vocales son: \\n ')\n",
    "for i in vocales:\n",
    "    print('Vocal: ', vocales[i], 'Conteo: ', vocales[i])\n"
   ]
  },
  {
   "cell_type": "code",
   "execution_count": null,
   "metadata": {},
   "outputs": [],
   "source": []
  },
  {
   "cell_type": "markdown",
   "metadata": {},
   "source": [
    "5. Escribir un programa que solicite al usuario dos vectores por ejemplo: $(1,2,3)$ y $(-1,0,2)$ y retorne su producto escalar.\n",
    "\n",
    "    Tip: Recordar que el producto escalar es la suma de los productos de las componente."
   ]
  },
  {
   "cell_type": "code",
   "execution_count": 71,
   "metadata": {},
   "outputs": [
    {
     "name": "stdout",
     "output_type": "stream",
     "text": [
      "El producto vectorial es  5.0\n"
     ]
    }
   ],
   "source": [
    "vecA = input(\"Introduce el primer vector separado por coma \")\n",
    "vecB = input(\"Introduce el segundo vector separado por coma \")\n",
    "\n",
    "vecA = [float(i) for i in vecA.split(\",\")]\n",
    "vecB = [float(i) for i in vecB.split(\",\")]\n",
    "\n",
    "if len(vecA)!=len(vecB):\n",
    "    print('Error, los vectores no tiene la misma dimensión')\n",
    "else:\n",
    "    prod = sum([vecA[i]*vecB[i] for i in range(len(vecB))])\n",
    "    print('El producto vectorial es ', prod)"
   ]
  },
  {
   "cell_type": "code",
   "execution_count": null,
   "metadata": {},
   "outputs": [],
   "source": []
  },
  {
   "cell_type": "markdown",
   "metadata": {},
   "source": [
    "6. Escribir un programa que almacene una matriz dada por el usuario, ejemplo:\n",
    "\n",
    "    <img src= \"capturas/tarea.png\">\n",
    "\n",
    "    y que con estas calcule su producto (programe el producto no use funciones definidas). \n",
    "\n",
    "    Tip: Recordar que para multiplicar dos matrices A*B, las matrices deben tener una dimensión interna común. Es decir, el número de columnas de la primera debe ser igual al número de filas de la segunda. El operador de multiplicación de matriz $R$ calcula el producto de dos matrices con la fórmula, (donde $n$ es el número de columnas de A.)\n",
    "    $$ R_{i j} =\\sum_{k=1}^{n} A_{i k} B_{k j}$$\n",
    "    "
   ]
  },
  {
   "cell_type": "code",
   "execution_count": 66,
   "metadata": {},
   "outputs": [],
   "source": [
    "# Utilez \n",
    "def crear_matriz(filas, columnas):\n",
    "    matriz = []\n",
    "    for i in range(filas):\n",
    "        fila = []\n",
    "        for j in range(columnas):\n",
    "            valor = int(input(f\"Introduce el valor para la posición ({i+1}, {j+1}): \"))\n",
    "            fila.append(valor)\n",
    "        matriz.append(fila)\n",
    "    return matriz\n",
    "\n",
    "def imprimir_matriz(matriz):\n",
    "    for fila in matriz:\n",
    "        print(' '.join(map(str, fila)))\n",
    "\n",
    "def matrixProd(mA, mB):\n",
    "    nrowA, ncolA, ncolB = len(mA), len(mA[0]), len(mB[0])    \n",
    "    Rij = [[] for _ in range(nrowA)]\n",
    "    for i in range(nrowA):  # llenando filas de R\n",
    "        for j in range(ncolB):\n",
    "            temp = 0\n",
    "            for k in range(ncolA):\n",
    "                temp += mA[i][k]*mB[k][j]\n",
    "            Rij[i].append(temp)\n",
    "    return Rij"
   ]
  },
  {
   "cell_type": "code",
   "execution_count": null,
   "metadata": {},
   "outputs": [],
   "source": [
    "# Ejemplo\n",
    "# mA = [[1, 2, 3], [4, 5, 6]]\n",
    "# mB = [[-1, 0], [0, 1], [1, 1]]"
   ]
  },
  {
   "cell_type": "code",
   "execution_count": 69,
   "metadata": {},
   "outputs": [
    {
     "name": "stdout",
     "output_type": "stream",
     "text": [
      "Introduce los valores de la primera matriz:\n",
      "1 2 3\n",
      "4 5 6\n",
      "\n",
      " Introduce los valores de la segunda matriz:\n",
      "-1 0\n",
      "0 1\n",
      "1 1\n",
      "\n",
      " El producto matricial es:\n",
      "2 5\n",
      "2 11\n"
     ]
    }
   ],
   "source": [
    "# Solicitar dimensiones de la primera matriz\n",
    "nrowA = int(input(\"Introduce el número de filas de la primera matriz: \"))\n",
    "ncolA = int(input(\"Introduce el número de columnas de la primera matriz: \"))\n",
    "\n",
    "print(\"Introduce los valores de la primera matriz:\")\n",
    "mA = crear_matriz(nrowA, ncolA)\n",
    "imprimir_matriz(mA)\n",
    "\n",
    "# Solicitar dimensiones de la segunda matriz\n",
    "nrowB = int(input(\"Introduce el número de filas de la segunda matriz: \"))\n",
    "ncolB = int(input(\"Introduce el número de columnas de la segunda matriz: \"))\n",
    "\n",
    "# Verificar si las matrices se pueden multiplicar\n",
    "if ncolA!=nrowB:\n",
    "    print(\"Error: El número de columnas de la primera matriz debe ser igual al número de filas de la segunda matriz.\")\n",
    "else:\n",
    "    print(\"\\n Introduce los valores de la segunda matriz:\")\n",
    "    mB = crear_matriz(nrowB, ncolB)\n",
    "    \n",
    "    imprimir_matriz(mB)\n",
    "    print('\\n El producto matricial es:')\n",
    "    Rij = matrixProd(mA, mB)\n",
    "    imprimir_matriz(Rij)"
   ]
  },
  {
   "cell_type": "code",
   "execution_count": null,
   "metadata": {},
   "outputs": [],
   "source": []
  },
  {
   "cell_type": "markdown",
   "metadata": {},
   "source": [
    "7. Dada una muestra de números, cree un programa que devuelva su media aritmética y desviación típica.\n",
    "\n",
    "    Tip: Recordar que para una distribución discreta la media aritmética de una muestra completa con $N$ elementos es: $\\mu=\\sum_{i=1}^{N} x_i/N$. Mientras que la desviación estandar es \n",
    "$$\n",
    "s=\\sqrt{\\frac{1}{N}\\sum_{i=1}^{N}(x_i-\\mu)^2}\\equiv \\sqrt{\\frac{\\sum_{i=1}^{N}x_i^{2}}{N}-\\mu^2}.\n",
    "$$|"
   ]
  },
  {
   "cell_type": "code",
   "execution_count": 75,
   "metadata": {},
   "outputs": [
    {
     "name": "stdout",
     "output_type": "stream",
     "text": [
      "La media aritmética de la muestra es:  2.8769230769230765\n",
      "La desviación estandar de la muestra es:  4.840558430301174\n"
     ]
    }
   ],
   "source": [
    "muestra = [1.9, 0.8, 0.5, 1.9, 8.7, -0.9, -0.1, 9, 10, 11, -5, .3, -0.7]\n",
    "\n",
    "Ndat = 0\n",
    "xv, xvS = 0, 0\n",
    "for i in muestra:\n",
    "    xv += i\n",
    "    xvS += i**2\n",
    "    Ndat += 1\n",
    "\n",
    "mu = xv/Ndat\n",
    "s = np.sqrt(xvS/Ndat-mu**2)\n",
    "print('La media aritmética de la muestra es: ', mu)\n",
    "print('La desviación estandar de la muestra es: ', s)"
   ]
  },
  {
   "cell_type": "code",
   "execution_count": null,
   "metadata": {},
   "outputs": [],
   "source": []
  },
  {
   "cell_type": "markdown",
   "metadata": {},
   "source": [
    "8. Diseñar el algoritmo correspondiente a un programa, que:\n",
    "    - Crea una tabla (lista con dos dimensiones) de $5 \\times 5$ enteros.\n",
    "\n",
    "    - Carga la tabla con valores numéricos enteros.\n",
    "    - Suma todos los elementos de cada fila y todos los elementos de cada columna visualizando los resultados en pantalla."
   ]
  },
  {
   "cell_type": "code",
   "execution_count": 78,
   "metadata": {},
   "outputs": [
    {
     "name": "stdout",
     "output_type": "stream",
     "text": [
      "La suma de la fila 0 es: 19\n",
      "La suma de la fila 1 es: 24\n",
      "La suma de la fila 2 es: 21\n",
      "La suma de la fila 3 es: 26\n",
      "La suma de la fila 4 es: 23\n",
      "\n",
      "La suma de la columna 0 es: 22\n",
      "La suma de la columna 1 es: 31\n",
      "La suma de la columna 2 es: 34\n",
      "La suma de la columna 3 es: 11\n",
      "La suma de la columna 4 es: 15\n"
     ]
    }
   ],
   "source": [
    "tabla = [[1, 3, 5, 4, 6],\n",
    "         [7, 8, 5, 3, 1],\n",
    "         [4, 6, 8, 2, 1],\n",
    "         [6, 8, 9, 0, 3],\n",
    "         [4, 6, 7, 2, 4]]\n",
    "\n",
    "nrow = len(tabla)\n",
    "ncol = len(tabla[0])\n",
    "\n",
    "for i in range(nrow):\n",
    "    print('La suma de la fila %d es:'%i, sum(tabla[i]))\n",
    "\n",
    "print()\n",
    "for i in range(ncol):\n",
    "    temp = 0\n",
    "    for j in range(nrow):\n",
    "        temp += tabla[j][i]\n",
    "    print('La suma de la columna %d es:'%i, temp)\n"
   ]
  },
  {
   "cell_type": "code",
   "execution_count": null,
   "metadata": {},
   "outputs": [],
   "source": []
  },
  {
   "cell_type": "markdown",
   "metadata": {},
   "source": [
    "9. Escribir un programa que implemente una agenda (Implementar con un diccionario.). En la agenda se podrán guardar nombres y números de teléfono. El programa nos dará el siguiente menú:\n",
    "\n",
    "- Añadir/modificar: Nos pide un nombre. Si el nombre se encuentra en la agenda, debe mostrar el teléfono y, opcionalmente, permitir modificarlo si no es correcto. Si el nombre no se encuentra, debe permitir ingresar el teléfono correspondiente.\n",
    "\n",
    "- Buscar: Nos pide una cadena de caracteres, y nos muestras todos los contactos cuyos nombres comiencen por dicha cadena.\n",
    "- Borrar: Nos pide un nombre y si existe nos preguntará si queremos borrarlo de la agenda.\n",
    "- Listar: Nos muestra todos los contactos de la agenda."
   ]
  },
  {
   "cell_type": "code",
   "execution_count": null,
   "metadata": {},
   "outputs": [],
   "source": [
    "Agenda = {}"
   ]
  },
  {
   "cell_type": "markdown",
   "metadata": {},
   "source": []
  }
 ],
 "metadata": {
  "kernelspec": {
   "display_name": "base",
   "language": "python",
   "name": "python3"
  },
  "language_info": {
   "codemirror_mode": {
    "name": "ipython",
    "version": 3
   },
   "file_extension": ".py",
   "mimetype": "text/x-python",
   "name": "python",
   "nbconvert_exporter": "python",
   "pygments_lexer": "ipython3",
   "version": "3.11.7"
  }
 },
 "nbformat": 4,
 "nbformat_minor": 2
}

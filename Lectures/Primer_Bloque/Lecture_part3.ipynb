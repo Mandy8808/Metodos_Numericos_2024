{
 "cells": [
  {
   "cell_type": "code",
   "execution_count": null,
   "metadata": {},
   "outputs": [],
   "source": []
  },
  {
   "cell_type": "markdown",
   "metadata": {},
   "source": [
    "# `Primer Bloque`\n",
    "\n",
    "Derivadas\n",
    "- Forma analítica\n",
    "- Diferencia finita\n",
    "    - Aproximaciones en diferencia no centradas: Diferencia hacia adelante. Diferencia hacia atrás.\n",
    "    - Aproximación de diferencia central.\n",
    "    - Segunda derivada.\n",
    "- Diferenciación Automática "
   ]
  },
  {
   "cell_type": "code",
   "execution_count": null,
   "metadata": {},
   "outputs": [],
   "source": []
  },
  {
   "cell_type": "markdown",
   "metadata": {},
   "source": [
    "### Forma Analítica\n",
    "En la clase anterior, vimos el método de la secante (v1), dicho método consistía en sustituir en el método de Newton la definición de la derivada. A continuación vamos a profundizar un poco más en `cómo` computar derivadas numéricas.\n",
    "\n",
    "\n",
    "Las derivadas aparecen en todas las áreas de la ciencia, ejemplos:\n",
    "\\begin{equation}\n",
    "\\vec{v}=\\frac{\\vec{r}}{dt}, \\quad\\quad \\vec{E}=-\\nabla\\phi-\\frac{\\partial \\vec{A}}{\\partial t}\n",
    "\\end{equation}"
   ]
  },
  {
   "cell_type": "markdown",
   "metadata": {},
   "source": [
    "Como todos sabemos la derivada de una función $f$ en un punto $x$ se define de forma usual como:\n",
    "$$\n",
    "\\frac{df(x)}{dx}=\\lim_{h\\to0}\\frac{f(x+h)-f(x)}{h}\n",
    "$$\n",
    "\n",
    "En la práctica no solemos usar esta definición, sino usamos *reglas* deducidas a partir de esta. Por ejemplo, intentemos probar por la definición el siguiente resultado:\n",
    "\n",
    "$$\n",
    "\\frac{d}{dx}(x^2\\sin x)=x^2\\cos x +2x\\sin x.\n",
    "$$\n",
    "\n",
    "¿Complicado?\n",
    "\n",
    "Ahora, hay ocasiones en que es bastante más complejo como por ejemplo:\n",
    "$$\\frac{d}{dx} (\\sin x)^{\\tan x}=¿?$$"
   ]
  },
  {
   "cell_type": "markdown",
   "metadata": {},
   "source": [
    "De manera general cuando tenemos una expresión analítica $f(x)$ podemos calcular \"a mano\" las diferentes derivadas, y en el peor de los casos usar programas como Mathematica, o el propio Python con la librería *SymPy* para obtenerlas. \n",
    "\n",
    "Ahora, en muchas ocasiones  tenemos, en cambio, un conjunto de $n$ puntos de datos discretos (es decir, una tabla de tuplas $(x_i, f(x_i))$ con $i = 0,1,...,n − 1$). En estos casos podemos abordar el problema desde tres ángulos:\n",
    "\n",
    "- El primero, podemos utilizar la interpolación o el ajuste (fit) de datos a un modelo (métodos que veremos más adelante). Esto nos permitiría tener una nueva función que se aproxima razonablemente bien a los datos y luego aplicar la diferenciación analítica a esta.\n",
    "\n",
    "Esta aproximación es especialmente útil cuando se trata de datos ruidosos. Sin embargo, el que una función se aproxima bastante bien a un conjunto de puntos de datos no significa que también capture información sobre sus derivadas. (De hecho, como veremos en próximas clases, algúnos métodos de interpolación y fit, asumen condiciones sobre la primera derivada). En otras palabras, interpolar/ajustar y luego tomar la derivada no proporciona mucha orientación sobre el error involucrado cuando estamos interesados en la derivada producto de no estar seguros de que es la función analítica correcta.\n",
    "\n",
    "- El segundo enfoque se llama `diferencia finitas` y nos permite sistematizar nuestra ignorancia de la función correcta. Este enfoque también es conocido `diferenciación numérica`. \n",
    "\n",
    "En pocas palabras, este método hace uso del desarrollo en serie de Taylor de la función que nos interesa derivar alrededor del punto específico donde deseamos evaluar la derivada. \n",
    "\n",
    "- Un tercer enfoque es conocido como `diferenciación automática` y es tan preciso como la diferenciación analítica, pero trata con números en lugar de expresiones matemáticas."
   ]
  },
  {
   "cell_type": "markdown",
   "metadata": {},
   "source": [
    "## Diferencia finita"
   ]
  },
  {
   "cell_type": "markdown",
   "metadata": {},
   "source": [
    "Partiendo de la definición anterior\n",
    "$$\n",
    "\\frac{df(x)}{dx}=\\lim_{h\\to0}\\frac{f(x+h)-f(x)}{h}\n",
    "$$\n",
    "\n",
    "podemos notar que mientras más pequeño es $h$ el numerador es más pequeño, y también el denominador magnificandose así cualquier error que se cometa en la evaluación del numerador.\n",
    "\n",
    "A continuación veremos como podemos intentar \"remediar\" esto usando la serie de Taylor (alrededor de $\\tilde{x}$) de la función."
   ]
  },
  {
   "cell_type": "markdown",
   "metadata": {},
   "source": [
    "#### Aproximaciones en diferencia no centradas\n",
    "\n",
    "`Diferencia hacia adelante`"
   ]
  },
  {
   "cell_type": "markdown",
   "metadata": {},
   "source": [
    "Partamos de la serie de Taylor de la función alrededor del punto $x$ donde queremos computar la derivada\n",
    "\n",
    "<center><img src=\"capturas/51.png\"></center>\n",
    "\n",
    "¿Están de acuerdo con la expresión anterior? No era \n",
    "$$f(x)=\\sum \\frac{f^{(n)}(\\tilde x)}{n!}(x-\\tilde x)^n$$\n",
    "\n",
    "¿Qué paso? Recordar que $h=x-\\tilde x$. Donde $\\tilde x$ es el punto alrededor del cual computamos la serie, es decir la $x$ usada en la primera expresion.\n",
    "\n",
    "Una vez aclarado lo anterior, consideremos que estamos muy cerca y quedemosno con los primero ordenes\n",
    "<center><img src=\"capturas/52.png\"></center>\n",
    "<center><img src=\"capturas/53.png\"></center>\n",
    "\n",
    "Esta última expresión es conocida como la `primera aproximación en diferencia hacia adelante`. Como se aprecia solo consiste en usar sólo el resultado del lado derecho para evaluar la derivada, lo que nos deja un `error` del orden $O(h)$ (recordar que $h$ es la distancia entre los dos ptos.)\n",
    "\n",
    "Graficamente lo que tenemos es que se comienza en $x$ y luego nos movemos en la dirección derecha hasta $x+h$. En otras palabras, la derivada no es más que la pendiente del segmento de recta que conecta $f(x)$ con $f(x+h)$\n",
    "<center><img src=\"capturas/54.png\"></center>"
   ]
  },
  {
   "cell_type": "markdown",
   "metadata": {},
   "source": [
    "`COMENTARIO:` La expresión obtenida es \"igual\" a la definición de derivada, sin embargo producto de que fue obtenida a partir de la serie de Taylor, tenemos una idea del `error` al que corresponde esta aproximación. Es posible que todavía sufra los problemas mencionados anteriormente (numerador pequeño, denominador pequeño), pero al menos ahora tenemos alguna orientación sobre qué tan bien lo estamos haciendo: si la h no es demasiado pequeña (de modo que todavía estemos lejos de las mayores cuestiones de redondeo), reducir a la mitad la h debería duplicar la calidad de la aproximación (en términos absolutos)."
   ]
  },
  {
   "cell_type": "markdown",
   "metadata": {},
   "source": [
    "`Diferencia hacia atrás`\n",
    "\n",
    "Es muy similar al caso anterior, solo que ahora hay que tener presente que $h=\\tilde x - x$. Partiendo de la serie de Taylor resultante:\n",
    "\n",
    "<center><img src=\"capturas/55.png\"></center>\n",
    "\n",
    "Quedandonos a primer orden llegamos a:\n",
    "<center><img src=\"capturas/56.png\"></center>\n",
    "\n",
    "Esta expresión es conocida como `la primera aproximación en diferencias hacia atrás`. \n",
    "\n",
    "Se llama diferencia hacia atrás porque comienza en $x$ y luego se mueve en dirección negativa hasta $x − h$. Siendo el resultado la pendiente del segmento de recta que conecta $f(x−h)$ y $f(x)$. Las diferencias hacia adelante y hacia atrás son muy similares."
   ]
  },
  {
   "cell_type": "code",
   "execution_count": 1,
   "metadata": {},
   "outputs": [],
   "source": [
    "# implementacion\n",
    "def difFinNC(f, x, h, der=True, izq=False):\n",
    "    \"\"\"\n",
    "    \"\"\"\n",
    "    fd = (f(x+h) - f(x))/h if der else (f(x)-f(x-h))/h \n",
    "    return fd"
   ]
  },
  {
   "cell_type": "markdown",
   "metadata": {},
   "source": [
    "### Aproximación de diferencia central"
   ]
  },
  {
   "cell_type": "markdown",
   "metadata": {},
   "source": [
    "Intentemos ahora encontrar una manera de aproximar la derivada usando una diferencia finita, pero con mayor precisión que con la diferencia hacia adelante/hacia atrás. \n",
    "\n",
    "Partiendo del desarrollo de Taylor de nuestra función $f$ alrededor del punto $x$ donde queremos conocer la derivada\n",
    "<center><img src=\"capturas/57.png\"></center>\n",
    "<center><img src=\"capturas/58.png\"></center>\n",
    "\n",
    "Notar que esta vez elegimos hacer un paso de tamaño $h/2$ (a diferencia del $h$ de la sección anterior), y que nos \"expandimos\" tanto hacia adelante como hacia atrás. \n",
    "\n",
    "A simple vista podemos ver que si sumamos (restamos) ambas expresiones obtendremos una expresión que contiene sólo derivadas pares (impares). Como estamos interesados en la primera, restando llegamos a:\n",
    "<center><img src=\"capturas/59.png\"></center>\n",
    "\n",
    "Lo que conduce a:\n",
    "<center><img src=\"capturas/60.png\"></center>\n",
    "\n",
    "Esta expresión es conocida como  `primera aproximación para diferencia central`. Similar a los casos anteriores, acá solo requerimos dos evaluaciones, sin embargo como se aprecia el error es de orden 2 en $h$, y también como esta $h$ es más pequeña que las anteriores tendremos en general un error menor.\n",
    "\n",
    "\n",
    "Graficamente lo que hacemos es:\n",
    "<center><img src=\"capturas/61.png\"></center>\n",
    "\n",
    "Como se aprecia se llama diferencia central porque las dos evaluaciones están en $x − h/2$ y en $x + h/2$, es decir, están centradas en $x$. Claramente, la diferencia central no es otra cosa que la pendiente del segmento de recta que conecta $f(x−h/2)$ y $f(x+h/2)$.\n",
    "\n",
    "\n",
    "`COMENTARIO 1`: Noten que si escogemos una $h$ no muy pequeña (de modo que todavía estamos lejos de problemas importantes de redondeo), el reducirla a la mitad debería cuadruplicar la calidad de la aproximación (en términos absolutos).\n",
    "\n",
    "\n",
    "`COMENTARIO 2`: Existe una situación (muy común en la práctica) en la que una aproximación en diferencia central simplemente no es utilizable. Si tenemos un conjunto de $n$ puntos de datos discretos de la forma $(xi, f(xi))$ para $i = 0,1,...,n − 1$ `no podremos usar una diferencia central` para aproximar la derivada en $x_0$ o en $x_{n−1}$. Para cualquiera de los puntos \"intermedios\" siempre podríamos usar dos evaluaciones (una a la izquierda, otra a la derecha), pero para los dos puntos finales simplemente no tenemos puntos disponibles \"en el otro lado\", por lo que es necesaria una diferencia hacia adelante/hacia atrás."
   ]
  },
  {
   "cell_type": "code",
   "execution_count": 2,
   "metadata": {},
   "outputs": [],
   "source": [
    "# implementacion\n",
    "def difFinC(f, x, h):\n",
    "    \"\"\"\n",
    "    \"\"\"\n",
    "    fd = (f(x+h/2) - f(x-h/2))/h\n",
    "    return fd"
   ]
  },
  {
   "cell_type": "code",
   "execution_count": 3,
   "metadata": {},
   "outputs": [],
   "source": [
    "import numpy as np\n",
    "import matplotlib.pyplot as plt"
   ]
  },
  {
   "cell_type": "code",
   "execution_count": 13,
   "metadata": {},
   "outputs": [],
   "source": [
    "## Comparemos\n",
    "f = lambda x: np.sin(x)**(np.tan(x))\n",
    "df = lambda x: (1+np.log(np.sin(x))/(np.cos(x)**2))*f(x)\n",
    "\n",
    "x = 0.2\n",
    "hval = [10**(-i) for i in range(1, 20)]\n",
    "\n",
    "# implementacion\n",
    "datD = np.array([difFinNC(f, x, h) for h in hval])\n",
    "datC = np.array([difFinC(f, x, h) for h in hval])\n",
    "\n",
    "# error absoluto\n",
    "dfx = df(x)\n",
    "EdatD = abs(datD-dfx)\n",
    "EdatC = abs(datC-dfx)"
   ]
  },
  {
   "cell_type": "code",
   "execution_count": 14,
   "metadata": {},
   "outputs": [
    {
     "data": {
      "text/plain": [
       "<matplotlib.legend.Legend at 0x129c80990>"
      ]
     },
     "execution_count": 14,
     "metadata": {},
     "output_type": "execute_result"
    },
    {
     "data": {
      "image/png": "[encoded data removed]",
      "text/plain": [
       "<Figure size 640x480 with 1 Axes>"
      ]
     },
     "metadata": {},
     "output_type": "display_data"
    }
   ],
   "source": [
    "plt.plot(hval, EdatD, ls='--', marker='o', label=r'Error absoluto Dif. Der.')\n",
    "plt.plot(hval, EdatC, ls='--', marker='*', label=r'Error absoluto Dif. Cen.')\n",
    "\n",
    "plt.xlabel(r'$h$')\n",
    "plt.ylabel(r'Err Abs')\n",
    "\n",
    "plt.xscale('log')\n",
    "plt.yscale('log')\n",
    "plt.legend(frameon=False)"
   ]
  },
  {
   "cell_type": "markdown",
   "metadata": {},
   "source": [
    "`Noten` que la parte derecha del gráfico estamos dominados por el error de `truncamiento/aproximación`. En esta región la diferencia central es claramente superior, ya que el error absoluto es consistentemente menor. En esta región, podemos ver:\n",
    "\n",
    "- cuando $h$ cambia en un orden de magnitud, el error de la diferencia a la derecha cambia en un orden de magnitud, mientras que el error de la diferencia central cambia en dos órdenes de magnitud. \n",
    "\n",
    "A medida que nos movemos hacia la izquierda, más allá de cierto punto el error de `redondeo` comienza a dominar y la diferencia hacia adelante es tan buena (o tan mala) como la diferencia central. \n",
    "\n",
    "Dejamos de trazar cuando el error es tan grande que fallamos por completo en la evaluación de la derivada.\n",
    "\n",
    "`Comentario`: los errores de redondeo aparecen del hecho de que los coeficientes se redondean a cero.\n",
    "\n",
    "`Mejorando la precisión`: ver PDF \"Formulae_DerivationDifFinit.pdf\""
   ]
  },
  {
   "cell_type": "markdown",
   "metadata": {},
   "source": [
    "### Segunda derivada\n",
    "\n",
    "En la práctica, también necesitamos derivadas de orden superior: la segunda derivada de hecho es una de las más usadas en por los científicos (usualmente todas las ecuaciones llegan hasta ese orden. ¿Saben por qué?).\n",
    "\n",
    "Similar a la primera se pueden establecer expresiones de diferencia hacia adelante, hacia atrás y central para aproximar la segunda derivada. Una manera de calcularla sería simplemente derivando las expresiones anteriores, por ejemplo:\n",
    "<center><img src=\"capturas/62.png\"></center>\n",
    "\n",
    "Sin embargo, nuevamente, acá no tendríamos noción del error. \n"
   ]
  },
  {
   "cell_type": "markdown",
   "metadata": {},
   "source": [
    "¿Alguna otra alternativa?\n",
    "\n",
    "Si recuerdan, anteriormente vimos que si sumamos o restamos las series de Taylor hacia adelante y hacia atrás podiamos obtener terminos con derivadas pares o impares. En nuestro caso enfoquemonos en la diferencia central sumando estas dos expansiones de Taylor y llegar a:\n",
    "\n",
    "<center><img src=\"capturas/63.png\"></center>\n",
    "\n",
    "lo que conduce a orden dos a:\n",
    "<center><img src=\"capturas/64.png\"></center>\n",
    "\n",
    "Esta expresión es conocida como la `primera aproximación en diferencia central de la segunda derivada`."
   ]
  },
  {
   "cell_type": "markdown",
   "metadata": {},
   "source": [
    "`Comentario:` En el caso de quererse calcular las derivadas de orden superior, será necesario combinar suficientes sumas o diferencias de las series de Taylor para cancelar todos los términos no deseados. Por ejemplo, la cuarta derivada $f^{(4)}(x)$ se puede aproximar usando las expresiones:\n",
    "$$f(x+h/2)+ f(x−h/2)$$\n",
    "\n",
    "junto con: $$f(x+h)+ f(x−h)$$"
   ]
  },
  {
   "cell_type": "markdown",
   "metadata": {},
   "source": [
    "## Tarea:\n",
    "- Obtenga la expresión de la segunda derivada el caso discreto derecho.\n",
    "- Obtenga la expresión de la cuarta derivada el caso discreto derecho.\n"
   ]
  },
  {
   "cell_type": "code",
   "execution_count": null,
   "metadata": {},
   "outputs": [],
   "source": []
  },
  {
   "cell_type": "code",
   "execution_count": null,
   "metadata": {},
   "outputs": [],
   "source": []
  }
 ],
 "metadata": {
  "kernelspec": {
   "display_name": "base",
   "language": "python",
   "name": "python3"
  },
  "language_info": {
   "codemirror_mode": {
    "name": "ipython",
    "version": 3
   },
   "file_extension": ".py",
   "mimetype": "text/x-python",
   "name": "python",
   "nbconvert_exporter": "python",
   "pygments_lexer": "ipython3",
   "version": "3.11.4"
  }
 },
 "nbformat": 4,
 "nbformat_minor": 2
}

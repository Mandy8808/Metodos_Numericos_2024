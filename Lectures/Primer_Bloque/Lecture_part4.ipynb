{
 "cells": [
  {
   "cell_type": "code",
   "execution_count": null,
   "metadata": {},
   "outputs": [],
   "source": []
  },
  {
   "cell_type": "markdown",
   "metadata": {},
   "source": [
    "# `Primer Bloque`\n",
    "\n",
    "Integración numérica o cuadratura.\n",
    "- El problema a resolver.\n",
    "- Integrales de una variable.\n",
    "    - Métodos tipo Newton–Cotes\n",
    "        - Rectángulo\n",
    "        - Punto medio\n",
    "        - Trapecio\n",
    "        - Simpson\n",
    "    - Integraciones adaptativas\n",
    "        - Número de paneles \n",
    "        - Integración Gaussiana. Posicionamiento de los nodos y peso. Generalizando el intervalo.\n",
    "        - Casos Particulares. Funciones periódicas. Singularidades. Intervalos $a\\to\\infty$, etc.\n",
    "- Integración multidimensional.\n",
    "- Comparación con `SciPy`"
   ]
  },
  {
   "cell_type": "code",
   "execution_count": null,
   "metadata": {},
   "outputs": [],
   "source": []
  },
  {
   "cell_type": "markdown",
   "metadata": {},
   "source": [
    "Al realizar una integración numérica por cuadratura, como veremos más adelante el añadir más puntos nos permite mejorar la resolución de la integral hasta la precisión de máquina. `¿Recuerdan que era la precisión de máquina?`\n",
    "\n",
    "### El problema a resolver\n",
    "\n",
    "En ocasiones hemos de conocer el resultado de una integral definida $\\int_{a}^{b}f(x)dx$. Como conocen del cálculo, una integral de Riemann no es más que el límite de una sumatoria\n",
    "$$s=\\int_{a}^{b}f(x) dx=\\lim_{|\\triangle_i|\\to 0}\\sum_{i=1}^{n} f(x_i)\\triangle_i$$\n",
    "\n",
    "Pues una integración numérica consiste en encontrar la mejor aproximación de tal forma que \n",
    "$$s=\\int_{a}^{b}f(x) dx \\approx \\sum_{i=1}^{n-1} c_i f(x_i)$$\n",
    "\n",
    "donde $x_i$ es el valor nodal y $c_i$ su respectivo peso.\n",
    "\n",
    "De manera general podemos dividir los diferentes métodos de integrales numéricas en tres tipos, \n",
    "- Métodos cerrados, donde los puntos finales de nuestro intervalo ($a$ y $b$) se incluyen como abscisas ($x_i$), ejemplos: `el método del trapezoide y de Simpson`\n",
    "- Métodos abiertos, donde los puntos finales de nuestro intervalo ($a$ y $b$) no se incluyen como abscisas ($x_i$), ejemplos: `el método del punto medio y la cuadratura gaussiana`\n",
    "- Métodos semiabiertos, donde uno de los puntos finales de nuestro intervalo (a o b) no está incluido en las abscisas ($x_i$), ejemplos: `el método del rectángulo`.\n",
    "\n",
    "Uno se puede preguntar cuando utilizar un método o el otro, pues en los casos en que se tenga una singularidad en la integral, podemos dividir su integración en intervalos y escoger un método abierto o semiabierto que nos evite evaluar el punto de la singularidad. \n",
    "\n",
    "Una manera más usual de clasificar los métodos es usando los siguientes criterios:\n",
    "- `Métodos de Newton-Cotes`: asumen que la integral se puede aproximar sumando las áreas de formas (por ejemplo, rectángulos) y suelen implicar abscisas equiespaciadas (En algunos casos no requieren, estrictamente hablando, abscisas equiespaciadas). Son muy útiles cuando $f(x)$ ya ha sido evaluado en puntos específicos de una cuadrícula.\n",
    "- `Cuadratura gaussiana`: hacen uso de abscisas espaciadas desigualmente. Estos métodos escógen el $x_i$ de tal manera que proporcione una mayor precisión. Como resultado, normalmente requieren menos abscisas y por lo tanto, menos evaluaciones de funciones, lo que los convierte en una opción atractiva cuando una evaluación $f(x)$ es costosa o arrastra errores."
   ]
  },
  {
   "cell_type": "code",
   "execution_count": null,
   "metadata": {},
   "outputs": [],
   "source": []
  },
  {
   "cell_type": "markdown",
   "metadata": {},
   "source": [
    "### Métodos tipo Newton-Cotes\n",
    "\n",
    "Como se comentó, los métodos que entran dentro de esta clasificiación lo que hacen es evaluar la integral como una suma de áreas elementales (rectángulos, trapecios, etc.), asumiendo como conocidos un conjunto de $n$ puntos de datos discretos de la forma $(x_i, f(x_i))$ para $i = 0,1,...,n − 1$ donde \n",
    "$$x_i=a+ih$$\n",
    "con $h=(b-a)/N$, donde $N$ es el número de \"paneles\": $N=n-1$. "
   ]
  },
  {
   "cell_type": "markdown",
   "metadata": {},
   "source": [
    "- `Regla del rectángulo`\n",
    "\n",
    "El método del rectángulo hace la suposición más simple posible: El área bajo $f(x)$ de $x_i$ a $x_i+1$ se puede aproximar mediante el área de un rectángulo, con el ancho h (la distancia de $x_i$ a $x_i+1$) y la altura dada por el valor de $f(x)$ ya sea en $x_i$ o en $x_i+1$.\n",
    "\n",
    "<center><img src=\"capturas/89.png\"></center>\n",
    "\n",
    "Una forma equivalente de ver esto es que la regla del rectángulo aproxima $f(x)$ como una constante de $x_i$ a $x_i+1$, es decir, una línea recta (horizontal). Esto significa que `en lugar de evaluar el área bajo la curva, evalúa el área bajo esa línea recta`.\n",
    "\n",
    "$$\\int_{x_i}^{x_{i+1}}f(x)dx\\approx h f(x_i)$$\n",
    "\n",
    "Como la integral total sería la suma de todas las áreas discretas tendremos \n",
    "$$\\int_{a}^{b}f(x)dx=\\sum_{i=0}^{n-2}\\int_{x_i}^{x_{i+1}}f(x)dx\\approx h f(x_0)+ h f(x_1)+\\dots+ h f(x_{n-2})$$\n",
    "\n",
    "donde asumimos que todos los puntos estaban equiespaciados por $h$. `¿Por qué n-2?`\n",
    "\n",
    "Es muy facil percatarse que\n",
    "$$c_i=h(1, 1, \\dots, 1, 0)$$\n",
    "y que esté método es de la clase semi-abierto pues no incluye el punto final (se puede adaptar para excluir el inicial e incluir el final).\n",
    "\n",
    "`COMENTARIO 1:` notar como en el límite $h\\to 0$ la expresión se reduce a la definición de integral de Riemann. Lo que significa que mientras más pequeño es $h$ la aproximación es mejor (recordar que el límite es la precisión de máquina).\n",
    "\n",
    "\n",
    "`Errores:`\n",
    "- Error correspondiente de aproximar el área real (debajo de la sección de la curva) por la del panel $i-$esimo es \n",
    "$$\\epsilon_i=\\frac{h^2 f'(\\psi_i)}{2}$$\n",
    "\n",
    "donde $x_i<\\psi_i<x_{i+1}$. Este error se le suele llamar `Error por truncamiento`.\n",
    "\n",
    "- Error absoluto de la integración se puede computar como\n",
    "$$\\epsilon=\\frac{b-a}{2}h f'(\\psi)$$\n",
    "\n",
    "A este error se le suele llamar `Error por redondeo` puesto que es consecuencia de sumar cada panel."
   ]
  },
  {
   "cell_type": "markdown",
   "metadata": {},
   "source": [
    "- `Regla del punto medio`\n",
    "\n",
    "Similar a lo visto en el caso de la derivada (notar que la regla del rectángulo también es hacia adelante/atrás), podemos definir una regla del punto medio. Esta regla asume la misma suposición que la regla del rectángulo: el área bajo $f(x)$ de $x_i$ a $x_i+1$ puede aproximarse por el área de un rectángulo, con ancho $h$ y altura $f(x)$. La única diferencia es que ahora $x$ es el punto medio entre $x_i$ y $x_i+1$.\n",
    "<center><img src=\"capturas/90.png\"></center>\n",
    "\n",
    "Como se puede apreciar ahora de la imagen, este pequeño cambio mejora sustancialmente la aproximación\n",
    "\n",
    "$$\\int_{x_i}^{x_{i+1}}f(x)dx\\approx h f(x_i+\\frac{h}{2})$$\n",
    "\n",
    "`Errores:`\n",
    "- Error por truncamiento\n",
    "$$\\epsilon_i=\\frac{h^3 f''(\\psi_i)}{24}$$\n",
    "\n",
    "- Error por redondeo\n",
    "$$\\epsilon=\\frac{b-a}{24}h^2 f''(\\psi)$$\n"
   ]
  },
  {
   "cell_type": "markdown",
   "metadata": {},
   "source": [
    "`Regla del trapecio`\n",
    "\n",
    "La regla del trapecio o regla trapezoidal entra dentro de la clasificación de fórmulas cerradas y asume que el área bajo la curva $f(x)$ se puede aproximar por la de un trapecio\n",
    "<center><img src=\"capturas/91.png\"></center>\n",
    "\n",
    "Recordando que para un trapecio $A=h*(B+b)/2$, tendremos que\n",
    "$$\\int_{x_i}^{x_{i+1}}f(x)dx\\approx \\frac{h}{2}[f(x_i)+f(x_{i+1})]$$\n",
    "\n",
    "Notar que esta fórmula implica que cada uno de los dos puntos que componen nuestro intervalo elemental tiene el mismo peso. \n",
    "\n",
    "Sumando todos los paneles tendremos:\n",
    "\n",
    "$$\n",
    "\\int_{a}^{b}f(x)dx=\\sum_{i=0}^{n-2}\\int_{x_i}^{x_{i+1}}f(x)dx\\approx \\frac{h}{2} f(x_0)+ h f(x_1)+ h f(x_2)+\\dots+ h f(x_{n-2})+\\frac{h}{2}f(x_{n-1})\n",
    "$$\n",
    "\n",
    "`Por qué solo` $x_0, x_{n-1}$ `tienen peso 1/2?`\n",
    "\n",
    "\n",
    "Es muy facil percatarse que\n",
    "$$c_i=h\\bigg(\\frac{1}{2}, 1, \\dots, 1, \\frac{1}{2}\\bigg)$$\n",
    "y que esté método es de la clase cerrado pues incluye todos los puntos.\n",
    "\n",
    "`Errores:`\n",
    "- Error por truncamiento\n",
    "$$\\epsilon_i=-\\frac{h^3 f''(\\psi_i)}{12}$$\n",
    "\n",
    "- Error por redondeo\n",
    "$$\\epsilon=-\\frac{b-a}{12}h^2 f''(\\psi)$$"
   ]
  },
  {
   "cell_type": "markdown",
   "metadata": {},
   "source": [
    "- `Regla de Simpson (1/3)`\n",
    "\n",
    "Como se pudo apreciar, el método del trapecio une con una línea recta los puntos $x_i$ y $x_{i+1}$. Este procedimiento se puede ver como aproximar la curva real por un polinomio de grado $1$. La regla de Simpson (1/3) extiende esta idea y nos da una aproximación más precisa al conectar grupos sucesivos de tres puntos sobre la curva mediante polinomios de grado $2$ (parábolas). De tal forma que la integral se aproxima como la suma del área de todas las parábolas.\n",
    "\n",
    "<center><img src=\"capturas/92.png\"></center>\n",
    "\n",
    "Consideremos dos paneles, equivalentemente tres puntos consecutivos $(x_i, f(x_i)), (x_{i+1}, f(x_{i+1})), (x_{i+2}, f(x_{i+2}))$, tendremos que la integral de la función real en el intervalo $x_{i}, x_{i+2}$ se puede aproximar al área sombreada bajo una parábola que pasa por los tres puntos\n",
    "\n",
    "<center><img src=\"capturas/93.png\"></center>\n",
    "\n",
    "Veamos como obtener la expresión matemática (más adelante en interpolación retomaremos esta metodología).\n",
    "\n",
    "Partiendo de la expresión general para una parábola \n",
    "$$p(x)=a_0+a_1x+a_2x^2$$\n",
    "si integramos esta expresion en el intervalo $x_i, x_{i+2}$ tendremos\n",
    "$$\n",
    "\\int_{x_i}^{x_{i+2}} p(x) dx=\\bigg(a_0 x+\\frac{a_1 x^{2}}{2}+\\frac{a_2 x^3}{3}\\bigg)_{x_{i}}^{x_{i+2}}=2 a_0 h+2a_1h(h+x_i)+\\frac{2}{3}a_2h(4h^2+6hx_i+3x_i^2)\n",
    "$$\n",
    "\n",
    "donde se usó que $x_{i+2}=x_i+2h$. Puesto que el polinomio debe pasar por los tres puntos, es decir se ha de cumplir que $p(x_i)=f(x_i), p(x_{i+1})=f(x_{i+1})$ y $p(x_{i+2})= f(x_{i+2})$, se puede computar las tres constantes (ver notebook de mathematica) y sustituirlas en la ecuación anterior, lo que nos da \n",
    "$$\\int_{x_i}^{x_{i+2}}f(x)dx\\approx \\frac{h}{3}[f(x_i)+4f(x_{i+1})+f(x_{i+2})]$$\n",
    "donde se usó que $x_{i+1}=x_i+h$.\n",
    "\n",
    "Finalmente si sumamos todos los paneles tendremos \n",
    "$$\n",
    "\\int_{a}^{b}f(x)dx=\\sum_{i=0, 2, 4}^{n-3}\\int_{x_i}^{x_{i+2}}f(x)dx\\approx \\frac{h}{3} f(x_0)+ \\frac{4h}{3} f(x_1)+ \\frac{2h}{3} f(x_2)+\\dots+ \\frac{2h}{3}f(x_{n-3})+ \\frac{4h}{3} f(x_{n-2})+\\frac{h}{3}f(x_{n-1})\n",
    "$$\n",
    "\n",
    "Nótese como el peso de los puntos finales $x_0, x_{n-1}$ es el mismo $h/3$, mientras que los intermedios $x_{i+1}$ tienen un peso de $4h/3$, algo que no ocurre con los \"coincidentes\" ($x_{i+2}$ sin incluir los extremos) los cuales van pesado por un término $2h/3$.\n",
    "\n",
    "Es muy facil percatarse que\n",
    "$$c_i=\\frac{h}{3}(1, 4, 2, 4, \\dots, 2, 4, 1)$$\n",
    "y que esté método es de la clase cerrado pues incluye todos los puntos.\n",
    "\n",
    "`IMPORTANTE:` para usar esta metodología hay que garantizar que se cuenta con un número par de paneles (impar de puntos).\n",
    "\n",
    "`Errores:`\n",
    "- Error por truncamiento\n",
    "$$\\epsilon_i=-\\frac{h^5 f^{(4)}(\\psi_i)}{90}$$\n",
    "\n",
    "- Error por redondeo\n",
    "$$\\epsilon=-\\frac{b-a}{180}h^4 f^{(4)}(\\psi)$$\n",
    "\n",
    "Nótese como este método tiene un error de orde $O(h^{4})$ menor a todos los anteriores. Adicionalmente el (1/3) es debido al peso del primer punto."
   ]
  },
  {
   "cell_type": "markdown",
   "metadata": {},
   "source": [
    "La Regla de Simpson (1/3) se puede extender al polinomio cúbico `Regla de Simpson (3/8)` (donde ahora necesitamos tres paneles) o incluso usar un polinómio cuártico (cuatro paneles) `Regla de Boole`. El procedimiento para obtener las expresiones es similar al (3/8), para detalles ver notebook Mathematica. A continuación se presenta un resumen:\n",
    "\n",
    "<center><img src=\"capturas/94.png\"></center>"
   ]
  },
  {
   "cell_type": "code",
   "execution_count": 33,
   "metadata": {},
   "outputs": [],
   "source": [
    "import numpy as np\n",
    "import matplotlib.pyplot as plt\n",
    "import sys"
   ]
  },
  {
   "cell_type": "code",
   "execution_count": 2,
   "metadata": {},
   "outputs": [],
   "source": [
    "def wights(name):\n",
    "    pesos = {'rect': (1, 1),  # (peso para 0 y -1, (pesos intermedio, (indice inicio, salto)), peso global)\n",
    "             'ptoMed': (1, 1),\n",
    "             'trap': (1/2, 1),\n",
    "             'simp1/3': (1/3, (4/3, (1, 2)), 2/3),\n",
    "             'simp3/8': (3/8, (6/8, (3, 3)), 9/8),\n",
    "             'boole': (14/45, (24/45, (2, 4)), (28/45, (4, 4)), 64/45)}\n",
    "    return pesos[name]\n",
    "\n",
    "def numPanel(name):\n",
    "    paneles = {'rect': 1,\n",
    "             'ptoMed': 1,\n",
    "             'trap': 1,\n",
    "             'simp1/3': 2,\n",
    "             'simp3/8': 3,\n",
    "             'boole': 4}\n",
    "    return paneles[name]\n",
    "    \n",
    "def check1(name, Npts):\n",
    "    \"\"\"\n",
    "    Check of f is a object type function and inter have len two\n",
    "    \"\"\"\n",
    "    try:\n",
    "        NpanelNec = numPanel(name)  # si el nombre no está da un KeyError y ejecuta la except \n",
    "        if (Npts-1)%NpanelNec or Npts<2:\n",
    "            sys.exit(\"ERROR: el número de paneles debe ser múltiplo de %d\"%NpanelNec)  \n",
    "    except KeyError:\n",
    "        print(\"ERROR: El método de integración escojido no se encuentra en la lista\")\n",
    "        "
   ]
  },
  {
   "cell_type": "code",
   "execution_count": 5,
   "metadata": {},
   "outputs": [],
   "source": [
    "def rect_trap(f, interv, Npts, name='trap', info=False):\n",
    "    \"\"\" \n",
    "    \"\"\"\n",
    "    a, b = interv\n",
    "    h = (b-a)/(Npts-1)\n",
    "    \n",
    "    if name == 'rect':\n",
    "        Npts = Npts-1\n",
    "        xi = a + np.arange(Npts)*h  # recordar que esta era la forma más optima\n",
    "    elif name == 'ptoMed':\n",
    "        Npts = Npts-1\n",
    "        xi = a + (np.arange(Npts) + 1/2)*h\n",
    "    else:\n",
    "        xi = a + np.arange(Npts)*h\n",
    "    yi = f(xi)\n",
    "    \n",
    "    pesos = wights(name)\n",
    "    cs = np.ones(Npts)*pesos[-1]\n",
    "    cs[0], cs[-1] = pesos[0], pesos[0]\n",
    "    if info:\n",
    "        print(pesos)\n",
    "        print(cs)\n",
    "    \n",
    "    contribs = cs*yi*h\n",
    "    return np.sum(contribs)\n",
    "\n",
    "def simpsons(f, interv, Npts, name='simp1/3', info=False):\n",
    "    \"\"\" \n",
    "    \"\"\"\n",
    "    a, b = interv\n",
    "    h = (b-a)/(Npts-1)\n",
    "    \n",
    "    xi = a + np.arange(Npts)*h\n",
    "    yi = f(xi)\n",
    "    \n",
    "    pesos = wights(name)\n",
    "    cs = np.ones(Npts)*pesos[-1]\n",
    "    cs[0], cs[-1] = pesos[0], pesos[0]\n",
    "    \n",
    "    for i in range(1, len(pesos)-1):\n",
    "        pesoi, (ind0, jump) = pesos[i]\n",
    "        if info:\n",
    "            pesoi, (ind0, jump)\n",
    "        cs[ind0:-1:jump] = pesoi\n",
    "    \n",
    "    if info:\n",
    "        print(cs)\n",
    "        \n",
    "    contribs = cs*yi*h\n",
    "    return np.sum(contribs)"
   ]
  },
  {
   "cell_type": "code",
   "execution_count": 6,
   "metadata": {},
   "outputs": [],
   "source": [
    "def mainInteg(f, interv, Npts, name='simp1/3', info=False):\n",
    "    \"\"\" \n",
    "    f: it is the f(x) function\n",
    "    interv: the interval [a, b] that we used for integrate. Note that for rect, and centr, the interval it is [a, b)\n",
    "    Npts: numbers of point of the discretization\n",
    "    name: integration rules {'rect', 'trap', 'simp1/3', 'simp3/8', 'boole'}\n",
    "    \"\"\"\n",
    "    check1(name, Npts)\n",
    "    \n",
    "    if name in ['rect', 'ptoMed', 'trap']:\n",
    "        val = rect_trap(f, interv, Npts, name=name, info=info)\n",
    "    else:\n",
    "        val = simpsons(f, interv, Npts, name=name, info=info)\n",
    "    return val"
   ]
  },
  {
   "cell_type": "code",
   "execution_count": 7,
   "metadata": {},
   "outputs": [
    {
     "name": "stdout",
     "output_type": "stream",
     "text": [
      "===>  rect\n",
      "0.8842907340357442\n",
      "===>  ptoMed\n",
      "0.8813794796276012\n",
      "===>  trap\n",
      "0.8813618018476097\n",
      "===>  simp1/3\n",
      "0.8813735872550066\n",
      "===>  simp3/8\n",
      "0.8813735875085325\n",
      "===>  boole\n",
      "0.8813735870201473\n"
     ]
    }
   ],
   "source": [
    "def f(x):\n",
    "    return 1/np.sqrt(x**2+1)\n",
    "\n",
    "result = []\n",
    "\n",
    "interv = [0., 1.]\n",
    "Npts = 51\n",
    "\n",
    "for name in ('rect', 'ptoMed', 'trap', 'simp1/3'):\n",
    "    val = mainInteg(f, interv, Npts, name=name)\n",
    "    result.append([name, val])\n",
    "    print('===> ', name)\n",
    "    print(val)\n",
    "    \n",
    "Npts = 52\n",
    "for name in ('simp3/8', ):  # quitar la coma y ver que pasa\n",
    "    val = mainInteg(f, interv, Npts, name=name)\n",
    "    result.append([name, val])\n",
    "    print('===> ', name)\n",
    "    print(val)\n",
    "    \n",
    "Npts = 53\n",
    "for name in ('boole', ):\n",
    "    val = mainInteg(f, interv, Npts, name=name)\n",
    "    result.append([name, val])\n",
    "    print('===> ', name)\n",
    "    print(val)"
   ]
  },
  {
   "cell_type": "markdown",
   "metadata": {},
   "source": [
    "Como saben la respuesta a esta integral es \n",
    "$$\\int_{0}^{1} \\frac{1}{\\sqrt{x^2+1}}=-\\ln(\\sqrt{x^2+1}-1)\\bigg|_{0}^{1}=Arsinh(x)\\bigg|_{0}^{1}=0.881373587019543-0=0.881373587019543$$"
   ]
  },
  {
   "cell_type": "code",
   "execution_count": 130,
   "metadata": {},
   "outputs": [
    {
     "name": "stdout",
     "output_type": "stream",
     "text": [
      "===>  rect\n",
      "0.0029171470162011603\n",
      "===>  ptoMed\n",
      "5.892608058166715e-06\n",
      "===>  trap\n",
      "1.178517193334283e-05\n",
      "===>  simp1/3\n",
      "2.354635375567682e-10\n",
      "===>  simp3/8\n",
      "4.889894045234655e-10\n",
      "===>  boole\n",
      "6.042943923034727e-13\n"
     ]
    }
   ],
   "source": [
    "truv = 0.881373587019543\n",
    "for i in result:\n",
    "    name, val = i\n",
    "    print('===> ', name)\n",
    "    print(abs(truv-val))"
   ]
  },
  {
   "cell_type": "markdown",
   "metadata": {},
   "source": [
    "Como se aprecia el método del `rectángulo` tiene un error absoluto del orden $10^{-3}$ (difiere en el tercer dígito), ahora bien para el método del `punto medio` si recuerdan el error era del orden de $h^2$, lo cual es concordante ya que su error absoluto es del orden $10^{-6}$ (recordar que usamos la misma $h$ para todos). Algo similar pasa con el método del `trapecio` (error $h^2$). Caso especial tienen los métodos de Simpson, los cuales como vimos tiene un error del orden $h^4, h^4, h^7$ respectivamente y en este caso son los que menor error tienen (notar que hay factores numéricos delante por eso no se cumple exactamente)."
   ]
  },
  {
   "cell_type": "markdown",
   "metadata": {},
   "source": [
    "`Ejercicio`:\n",
    "\n",
    "Calcule el número de iteraciones mínimas necesarias para resolver numericamente la integral \n",
    "$$\\int_{0}^{1} e^{-x^2} dx$$\n",
    "\n",
    "por el método del trapecio de tal forma que el error sea menor a $5\\times 10^{-5}$.\n"
   ]
  },
  {
   "cell_type": "markdown",
   "metadata": {},
   "source": [
    "`Tips`\n",
    "\n",
    "Sabemos que \n",
    "$$\n",
    "val = \\int_{a}^{b}f(x)dx=\\sum_{i=0}^{n-2}\\int_{x_i}^{x_{i+1}}f(x)dx\\approx \\frac{h}{2} f(x_0)+ h f(x_1)+ h f(x_2)+\\dots+ h f(x_{n-2})+\\frac{h}{2}f(x_{n-1})\n",
    "$$\n",
    "\n",
    "por tanto la cota superior del error ha de ser:\n",
    "$$\n",
    "\\bigg|val - \\int_{a}^{b}f(x)dx \\bigg|\\leq \\bigg|\\frac{(b-a)^3}{12 N^2} k \\bigg|\\leq 0.005\n",
    "$$\n",
    "donde $k$ es el máximo valor (o cota superior) que puede tomar $f''(\\psi)$. Notar que usamos el hecho de que $h=(b-a)/N$. Lo que sigue es calcular la cota $k$ y despejar $N$ de tal forma que satisfaga la condición. Comentarios $f''(x)=2e^{-x^2}(2x^2-1)$ lo que implica que el extremo superior está en $x=0 \\to k=2$ (se ha de analizar la función, y se nota que es creciente en el intervalor $[0, 1]$, y $f''(1)=2/e$ ). Finalmente llegaremos a que $N>5.8$, es decir, si tomo $N=6$ aseguro que el error absoluto respecto al valore real es menor que $0.005$. \n",
    "\n",
    "Veamos:\n",
    "\n",
    "La integral \n",
    "$$\n",
    "val(x) = \\int e^{-x^2}dx= \\frac{\\sqrt{\\pi}}{2}Erf(x)\n",
    "$$\n",
    "donde $Erf(x)$ es la función error. Para el intervalor $[0, 1]$ tendremos que $val\\approx 0.7468241328124234$. `Comentario:` si los límites fueran más menos el infinito, sería una forma de calcular el valor de $\\pi$."
   ]
  },
  {
   "cell_type": "code",
   "execution_count": 151,
   "metadata": {},
   "outputs": [
    {
     "name": "stdout",
     "output_type": "stream",
     "text": [
      "Valor =  0.7451194124361791 Error =  0.001704720376244362\n"
     ]
    },
    {
     "data": {
      "text/plain": [
       "True"
      ]
     },
     "execution_count": 151,
     "metadata": {},
     "output_type": "execute_result"
    }
   ],
   "source": [
    "# probemoslo\n",
    "f = lambda x: np.exp(-x**2)\n",
    "\n",
    "valtr = 0.7468241328124234\n",
    "interv = [0, 1]\n",
    "Npts = 6+1\n",
    "\n",
    "val = rect_trap(f, interv, Npts, name='trap')\n",
    "\n",
    "print('Valor = ', val, 'Error = ', abs(valtr-val))\n",
    "abs(valtr-val)<0.005"
   ]
  },
  {
   "cell_type": "markdown",
   "metadata": {},
   "source": [
    "### Integraciones Adaptativas\n",
    "\n",
    "\n",
    "#### Número de paneles\n",
    "\n",
    "Anteriormente se presentaron diferentes métodos de integración notándose que la precisión del resultado estaba correlacionado con el número de paneles $N$ (o el tamaño del paso $h$) siendo lógico pensar que el considerar el doble de estos mejoraría la aproximación de la integral\n",
    "\n",
    "\\begin{equation}\n",
    "h_N=\\frac{b-a}{N},\\qquad \\to \\qquad h_{N'}=\\frac{b-a}{N'}=\\frac{b-a}{2N}=\\frac{h_N}{2}\n",
    "\\end{equation}"
   ]
  },
  {
   "cell_type": "markdown",
   "metadata": {},
   "source": [
    "Como se esperaba, al considerar dos veces el número de paneles iniciales, se reduce a la mitad el tamaño del paso $h_{N'}=h_{N}/2$. Una reducción también ocurre en el error de la aproximación, por ejemple, para Simpson($1/3$) sabemos que el error por redondeo \n",
    "$$\\epsilon\\sim h^4$$\n",
    "\n",
    "lo que implica que el resultado de la integración es:\n",
    "$$\n",
    "I = I_N\\pm c h^{4}_{N},\n",
    "$$\n",
    "\n",
    "donde $I_N$ es la aproximación numérica con $N$ iniciales paneles, y $c$ una constante relacionada con los extremas, y la derivada superior correspondiente.\n",
    "\n",
    "Ahora, si duplicamos el número de paneles tendremos que:\n",
    "\\begin{equation}\n",
    "I = I_{N'}\\pm c h^{4}_{N'}, \\quad \\to \\quad I_N\\pm c h^{4}_{N}= I_{N'}\\pm c h^{4}_{N'}\\quad \\to \\quad I_{N'}-I_N=\\pm 15 c h^{4}_{N'}\n",
    "\\end{equation}\n",
    "\n",
    "donde se usó que $h_{N} = 2 h_{N'}$. \n",
    "\n",
    "Finalmente como el error por redondeo es $\\epsilon_{N'}\\sim c h_{N'}^4$ tendremos que\n",
    "\\begin{equation}\n",
    "\\epsilon_{N'} =\\frac{I_{N'}-I_N}{15}\n",
    "\\end{equation}\n",
    "\n",
    "lo cual nos permite estimar el error para nuestro resultado con $N'$ paneles usando el propio resultado conjunto con el computado para $N$ paneles. En resumen, usando esta metodología podremos deducir el valor de $N$ para que cumpla con la precisión requerida.\n",
    "\n",
    "`Tarea:` Probar que para los métodos\n",
    "- Trapecio: $\\epsilon_{N'} =(I_{N'}-I_N)/3$\n",
    "- Rectángulo: $\\epsilon_{N'} =I_{N'}-I_N$"
   ]
  },
  {
   "cell_type": "markdown",
   "metadata": {},
   "source": [
    "Usando el resultado anterior creemos entonces una rutina que nos permita usar un integrador adaptativo:"
   ]
  },
  {
   "cell_type": "code",
   "execution_count": 24,
   "metadata": {},
   "outputs": [],
   "source": [
    "def adaptive(f, interv, name, kmax=30, tol=1.e-8, Npts=11, inf=False):\n",
    "    \"\"\"\n",
    "    met -> {'rect', 'trap', 'simp1/3', 'simp3/8', 'boole'}\n",
    "    \"\"\"\n",
    "    functodenom = {'rect': 1, 'trap': 3, 'simp1/3': 15}  # 'simp3/8', 'boole'\n",
    "    denom = functodenom[name]\n",
    "    \n",
    "    val = mainInteg(f, interv, Npts, name=name)\n",
    "    for _ in range(kmax):\n",
    "        Nptsprime = 2*Npts-1  # recordar que N = n-1, N' = n'-1 como N' = 2N -> n' = 2n-1\n",
    "        valprime = mainInteg(f, interv, Nptsprime, name=name)\n",
    "        err = abs(valprime-val)/denom\n",
    "        err /= abs(valprime)  # error relativo\n",
    "        if inf:\n",
    "            print(Nptsprime, valprime, err)\n",
    "        \n",
    "        if err<tol:\n",
    "            break\n",
    "        else:\n",
    "            Npts, val = Nptsprime, valprime  # se actualizan los valores iniciales\n",
    "            valprime = None\n",
    "    \n",
    "    if valprime is None:\n",
    "        print('NO SE ENCONTRÓ UN VALOR CON LA PRECISIÓN SOLICITADA')\n",
    "    return valprime"
   ]
  },
  {
   "cell_type": "code",
   "execution_count": 25,
   "metadata": {},
   "outputs": [
    {
     "name": "stdout",
     "output_type": "stream",
     "text": [
      "===>  rect\n",
      "0.8842907340357442\n",
      "===>  trap\n",
      "0.8813618018476097\n",
      "===>  simp1/3\n",
      "0.8813735872550066\n",
      "\n",
      "##########\n",
      "\n"
     ]
    },
    {
     "name": "stdout",
     "output_type": "stream",
     "text": [
      "===>  rect\n",
      "0.8813735940026612\n",
      "===>  trap\n",
      "0.8813735825238792\n",
      "===>  simp1/3\n",
      "0.8813735875940777\n"
     ]
    }
   ],
   "source": [
    "def f(x):\n",
    "    return 1/np.sqrt(x**2+1)\n",
    "\n",
    "result = []\n",
    "\n",
    "interv = [0., 1.]\n",
    "Npts = 51\n",
    "\n",
    "for name in ('rect', 'trap', 'simp1/3'):\n",
    "    val = mainInteg(f, interv, Npts, name=name)\n",
    "    result.append([name, val])\n",
    "    print('===> ', name)\n",
    "    print(val)\n",
    "    \n",
    "    \n",
    "print('\\n'+'#'*10+'\\n')\n",
    "\n",
    "result2 = []\n",
    "for name in ('rect', 'trap', 'simp1/3'):\n",
    "    val = adaptive(f, interv, name, inf=False)\n",
    "    result2.append([name, val])\n",
    "    print('===> ', name)\n",
    "    print(val)"
   ]
  },
  {
   "cell_type": "markdown",
   "metadata": {},
   "source": [
    "### Integración Gaussiana"
   ]
  },
  {
   "cell_type": "markdown",
   "metadata": {},
   "source": [
    "Con anterioridad vimos que los métodos de Newton-Cotes discretizan el eje de las abscisas ($x$) en cuadrícula espaciada uniformemente diferenciandose sólo en los pesos $c_i$ que emplean; estos últimos se eligen para integrar exactamente un polinomio de cierto grado. \n",
    "\n",
    "En contraposición a esto, los métodos de cuadratura Gaussiana introducen también como grado de libertad ya no solo los $n$ puntos $x_i$, sino también los $n$ pesos $c_i$, de tal forma que podremos aproximar todos los polinomios hasta el grado $2n − 1$. Es decir, para cinco puntos $n = 5$ podremos integrar todos los polinomios hasta el noveno orden. La razón del porque esto es posible, es debido a que hemos duplicado el número de parámetros a nuestra disposición: podemos usar los $2n$ parámetros (los $x_i$ y los $c_i$) para manejar encontrar las $2n − 1$ constante de los polinomios."
   ]
  },
  {
   "cell_type": "markdown",
   "metadata": {},
   "source": [
    "Para ejemplificar la metodología concideremos el intervalo simétrico $a = −1, b = 1$\n",
    "$$\\int_{-1}^{1} f(x)dx\\approx \\sum_{k=0}^{n-1} c_k f(x_k)$$\n",
    "\n",
    "La elección de las $c_k, x_k$ nos permitirá integrar los polinomios hasta el grado $2n − 1$ exactamente. Es necesario señalar que todos los métodos de cuadratura Gaussianos son abiertos, por lo que los $x_k$ no deben identificarse con $−1$ y $+1$.\n",
    "\n",
    "Comencemos con el caso más sencillo, dos puntos ($n=2$)\n",
    "$$\\int_{-1}^{1} f(x)dx=c_0f(x_0)+c_1f(x_1).$$\n",
    "\n",
    "Las cantidades $c_i, x_i$ deben ser determinadas. Dado que los métodos de cuadratura Gaussianos son abiertos, $x_0$ y $x_1$ estarán en el intervalo $(a, b)$. \n",
    "\n",
    "\n",
    "Partiendo de la primisa que todos los polinomios hasta el orden $2n − 1 = 3$ puedan integrarse exactamente usaremos monomios\n",
    "\n",
    "<center><img src=\"capturas/95.png\"></center>"
   ]
  },
  {
   "cell_type": "markdown",
   "metadata": {},
   "source": [
    "Lo que nos lleva asumiento la integral anterior es válida para cada uno de los monomios al siguiente sistemas de ecuaciones\n",
    "<center><img src=\"capturas/96.png\"></center>\n",
    "\n",
    "resolviendo el sistema se llega a\n",
    "<center><img src=\"capturas/97.png\"></center>\n",
    "\n",
    "lo que implica que\n",
    "<center><img src=\"capturas/98.png\"></center>\n",
    "\n",
    "A este punto es necesario señalar que a diferencia del método de Simpson (1/3) donde se integró usando polinomios hasta el tercer orden, y se necesitaban al menos $3$ puntos, en este ejemplo solo necesitamos dos. Adicionalmente nótese que no fue necesario obtener la expresión para un panel y luego extenderla para los demás, esta solución es general.\n",
    "\n",
    "`IMPORTANTE:` Este enfoque se puede intentar generalizar para $n>2$ lo que conduciría a un sistema de ecuaciones cada vez más no lineal (¿qué es no lineal?). De hecho, para resolverlo se pueden utilizar diferentes metodologías p.ej. mediante la matriz de `Vandermonde` o los `polinómios ortogonales` o el algoritmo de `Golub-Welsch`."
   ]
  },
  {
   "cell_type": "markdown",
   "metadata": {},
   "source": [
    "#### Posicionamiento de los nodos y peso"
   ]
  },
  {
   "cell_type": "markdown",
   "metadata": {},
   "source": [
    "Similar al caso método Newton-Cotes, podemos realizar una especie de interpolación posicionando los nodos en valores particulares. En este caso, se usará la interpolación de Hermite, la cual permite expresar un polinomio de grado $2n-1$ como\n",
    "<center><img src=\"capturas/99.png\"></center>\n",
    "\n",
    "donde los términos $\\alpha_{k}(x)$ y $\\beta_{k}(x)$ son los coeficientes del polinomio que abordaremos en mayor profundidad cuando veamos interpolación. \n",
    "\n",
    "\n",
    "Si aproximamos la integral por el polinómio, tendremos que la integral de la función desde $-1$ hasta $1$, se puede expresar como\n",
    "<center><img src=\"capturas/100.png\"></center>\n",
    "\n",
    "donde \n",
    "<center><img src=\"capturas/101.png\"></center>\n",
    "\n",
    "Ahora, como se aprecia tenemos la primera derivada de la función y pues de alguna forma hemos de removerla, lo que se traduce en que sean cero los $d_k$, quedándonos entonces a la izquierda la integral que deseamos conocer, y a la derecha la aproximación mediante una sumatoria donde los $c_k$ serían los pesos.\n",
    "\n",
    "El término $d_k$ puede expresarse (como veremos en interpolación) en términos de los polinomios cardinales $\\beta_k(x)$ según la ecuación\n",
    "<center><img src=\"capturas/102.png\"></center>\n",
    "\n",
    "donde los $x_k$ son los nodos de interpolación y $L_k(x)$ los polinomios cardinales definidos para esos nodos. También se usó la relación\n",
    "<center><img src=\"capturas/117.png\"></center>\n"
   ]
  },
  {
   "cell_type": "markdown",
   "metadata": {},
   "source": [
    "Usando la definición de los nodos polinomiales\n",
    "<center><img src=\"capturas/103.png\"></center>\n",
    "\n",
    "donde tendremos un polinomio mónico en $x$ de grado $n$, que desaparece en los nodos de interpolación $x_j$ (como deseamos). Adicionalmente usamos usamos la defincion de los polinomios cardinales:\n",
    "\n",
    "<center><img src=\"capturas/104.png\"></center>\n",
    "\n",
    "lo cual nos da un polinomio en $x$ de grado $n-1$. \n",
    "\n",
    "Usando el hecho de que la relación\n",
    "<center><img src=\"capturas/105.png\"></center>\n",
    "\n",
    "es cierta para $r_{n-1}(x)$, un polinomio de grado $n-1$ y $q_n$ un polinomio ortogonal de grado $n$. Pues tendremos entonces que si garantizamos que $L(x)$ sea un polinomio ortogonal, pues podremos asegurar que $d_k=0$. \n",
    "\n",
    "Para garantizar lo anterior usarémos la libertad de escoger los nodos de interpolación, $x_k$: si los tomamos como los ceros del polinomio ortogonal de grado $n$, entonces L(x) será el único polinomio mónico de grado $n$. Es decir, ortogonal (en el intervalo $[−1, +1]$) a todos los polinomios de grado $n − 1$ o menos. En ese caso, todos los $d_k$ desaparecerán llegandose a:\n",
    "\n",
    "<center><img src=\"capturas/106.png\"></center>\n",
    "\n",
    "A este punto es importante señalar que los ceros de $L(x)$ son los ceros del polinomio de Legendre $P_n(x)$ (fórmula de Rodrigues)\n",
    "\n",
    "<center><img src=\"capturas/107.png\"></center>\n"
   ]
  },
  {
   "cell_type": "markdown",
   "metadata": {},
   "source": [
    "`Peso:` Usando diferentes propiedades de los polinomios de Legendre , se puede probar que el peso vendrá dado por\n",
    "\n",
    "<center><img src=\"capturas/111.png\"></center>\n",
    "\n",
    "Notar que se requiere el valor de la derivada del polinomio de Legendre grado uno.\n",
    "\n",
    "`Error:`\n",
    "<center><img src=\"capturas/112.png\"></center>\n"
   ]
  },
  {
   "cell_type": "markdown",
   "metadata": {},
   "source": [
    "### Generalizando el intervalo.\n",
    "\n",
    "Nuestro resultado anterior fue computado para el intervalo $[-1, 1]$ y de hecho, usamos esa propiedad para eliminar $d_k$. Pues de manera general si queremos seguir utilizando el resultado anterior para un intervalo $[a, b]$ debemos reescalar nuestras variables como\n",
    "\n",
    "<center><img src=\"capturas/113.png\"></center>\n",
    "\n",
    "diferenciando tendremos\n",
    "\n",
    "<center><img src=\"capturas/114.png\"></center>\n",
    "\n",
    "Lo que nos lleva a \n",
    "<center><img src=\"capturas/115.png\"></center>\n",
    "\n",
    "Utilizando el resultado anterior tendremos:\n",
    "\n",
    "<center><img src=\"capturas/116.png\"></center>"
   ]
  },
  {
   "cell_type": "markdown",
   "metadata": {},
   "source": [
    "`RESUMIENDO:` El cálculo de $\\int_{-1}^{1} f(x)dx$ por cuadratura Gaussiana aproxima la integral\n",
    "$$\\int_{-1}^{1} f(x)dx\\approx \\sum_{i=0}^{n} c_k f(x_k)$$\n",
    "\n",
    "donde $c_k$ son los pesos y $x_k$ las raices del polinomio (de Legendre) de grado $n+1$, es decir $P_{n+1}$. Donde $P_0(x) = 1$ y $P_k(1)=1, \\forall k\\geq0$. Este polinomio ha de cumplir que  \n",
    "$$\\int_{-1}^{1} x^{k}P_{n+1}=0 \\quad \\forall k\\in {0, 1, \\dots, n}$$\n",
    "\n",
    "Para generalizar lo anterior a un intervalo arbitrario, se usa un reescalamiento de la variable independiente."
   ]
  },
  {
   "cell_type": "code",
   "execution_count": null,
   "metadata": {},
   "outputs": [],
   "source": []
  },
  {
   "cell_type": "markdown",
   "metadata": {},
   "source": [
    "## Implementación de los Códigos"
   ]
  },
  {
   "cell_type": "markdown",
   "metadata": {},
   "source": [
    "Para generar los polinomios usemos la Relación de recurrencia de Bonnet. Esta fórmula de recursividad es útil para evitar la pérdida de dígitos significativos en los cálculos. \n",
    "\n",
    "Una manera fácil de obtener la expresión es partir de la función generadora de polinomios de Legendre (los polinomios de Legendre se pueden definir como los coeficientes en una expansión en potencias de $t$)\n",
    "$$\n",
    "g(x, t)=\\frac{1}{\\sqrt{1-2xt+t^2}}=\\sum_{n=0}^{\\infty}P_{n}(x) t^{n}\n",
    "$$\n",
    "donde $P_{n}$ es un polinomio de $x$ de grado $n$ con $|x|\\leq 1$. Notar que si $n=1 \\to (t=1)$, tendremos $P_0(x)=1, P_1(x)=x$. \n",
    "\n",
    "Derivando con respecto a $t$ la expresión $g(x, t)$ llegamos a\n",
    "$$\n",
    "\\frac{x-t}{\\sqrt{1-2xt+t^2}}=(1-2xt+t^2)\\sum_{n=0}^{\\infty} n P_{n}(x) t^{n-1}\n",
    "$$\n",
    "\n",
    "Ahora, si utilizamos la función generadora de polinomios e igualando coeficientes de igual potencia en $t$ llegamos a la Relación de recurrencia de Bonnet (`Ver documentación extra adjuntada para detalles`):\n",
    "$$ (n+1) P_{n+1}(x)=(2n+1)x P_{n}(x)-n P_{n-1}(x)$$\n",
    "\n",
    "la cual se puede escribir como: \n",
    "<center><img src=\"capturas/118.png\"></center>\n",
    "\n",
    "donde para no confundir con el número de puntos usamos $n\\to j$ y $j=1, 2, \\dots, n-1$. Notar que no ponemos $j=0$ porque se obtiene $P_1(x)$ y $P_0(x)$ que ya se obtuvieron.\n",
    "\n",
    "De manera similar podemos obtener una serie recurrente para la derivada con respecto a $x$, para ello derivemos la función generadora ($g(x, t)$):\n",
    "$$\n",
    "\\frac{\\partial g(x, t)}{\\partial x}=\\frac{t}{(1-2xt+t^2)^{3/2}}=\\sum_{n=0}^{\\infty}P_{n}'(x) t^{n}\n",
    "$$\n",
    "operando y usando la expresion para $g(x, t)$ se llega a \n",
    "$$\n",
    "t\\sum_{n=0}^{\\infty}P_{n}(x) t^{n}=(1-2xt+t^2)\\sum_{n=0}^{\\infty}P_{n}'(x) t^{n}\n",
    "$$\n",
    "De donde igualando coeficientes de igual potencia en $t$ llegamos a \n",
    "$$\n",
    "P_{n+1}'(x)+P_{n-1}'(x)=P_{n}(x)+2x P_{n}'(x)\n",
    "$$\n",
    "con $n=1, 2, \\dots$\n",
    "\n",
    "A continuación derivamos con respecto a $x$ la Relación de recurrencia de Bonnet \n",
    "$$ (n+1) P_{n+1}'(x)+n P_{n-1}'(x)=(2n+1) P_{n}(x)+ (2n+1) x P_{n}'(x)$$\n",
    "\n",
    "Usando estas últimas dos ecuaciones y realizando ciertas operaciones algebraicas (`Ver documentación extra adjuntada para detalles`), se llega a:\n",
    "$$\n",
    "P_{j}'(x)=\\frac{j P_{j-1}(x)-j x P_{j}(x)}{1-x^2}\n",
    "$$\n",
    "donde ahora $j=2, 3, \\dots$"
   ]
  },
  {
   "cell_type": "code",
   "execution_count": 1,
   "metadata": {},
   "outputs": [],
   "source": [
    "import numpy as np\n",
    "import matplotlib.pyplot as plt"
   ]
  },
  {
   "cell_type": "code",
   "execution_count": 14,
   "metadata": {},
   "outputs": [],
   "source": [
    "# códigos\n",
    "def boonetRec(n, x):\n",
    "    # añadir check n>1\n",
    "    val0, val1 = 1, x\n",
    "    \n",
    "    for j in range(1, n):\n",
    "        val2 = ((2*j+1)*x*val1 - j*val0)/(j+1.)\n",
    "        val0, val1 = val1, val2 \n",
    "    return val0, val1  # notar que ahora val0 es val1, et\n",
    "\n",
    "def legendre(n, x):\n",
    "    if n==0:\n",
    "        valn = 1. if isinstance(x, (int, float)) else [1.]*len(x)\n",
    "        dvaln = 0. if isinstance(x, (int, float)) else [0.]*len(x)\n",
    "    elif n==1:\n",
    "        valn = x\n",
    "        dvaln = 1. if isinstance(x, (int, float)) else [1.]*len(x)\n",
    "    else:\n",
    "        valn_m1, valn = boonetRec(n, x)\n",
    "        dvaln = n*(valn_m1-x*valn)/(1.-x**2)  # derivada\n",
    "    return valn, dvaln"
   ]
  },
  {
   "cell_type": "code",
   "execution_count": null,
   "metadata": {},
   "outputs": [],
   "source": []
  },
  {
   "cell_type": "code",
   "execution_count": 45,
   "metadata": {},
   "outputs": [
    {
     "name": "stderr",
     "output_type": "stream",
     "text": [
      "/var/folders/m_/bkm6rtjj0f104l91yr9n6t2c0000gn/T/ipykernel_8797/176916057.py:20: RuntimeWarning: invalid value encountered in divide\n",
      "  dvaln = n*(valn_m1-x*valn)/(1.-x**2)  # derivada\n"
     ]
    },
    {
     "data": {
      "text/plain": [
       "(-4.0, 4.0)"
      ]
     },
     "execution_count": 45,
     "metadata": {},
     "output_type": "execute_result"
    },
    {
     "data": {
      "image/png": "[encoded data removed]",
      "text/plain": [
       "<Figure size 1000x450 with 2 Axes>"
      ]
     },
     "metadata": {},
     "output_type": "display_data"
    }
   ],
   "source": [
    "colors = ['blue', 'orange', 'green', 'red', 'm', 'gray']\n",
    "\n",
    "step = 1/200\n",
    "xval = np.arange(-1, 1, step)\n",
    "\n",
    "fig, ax = plt.subplots(nrows=1, ncols=2, figsize=(10, 4.5),\n",
    "                       sharex=True, sharey=False,\n",
    "                       gridspec_kw=dict(hspace=0, wspace=.2))\n",
    "\n",
    "for n in range(6):\n",
    "    yval, dyval = legendre(n, xval)\n",
    "    ax[0].plot(xval, yval, c=colors[n], label=r'$P_{%d}$'%n, lw=2)\n",
    "    ax[1].plot(xval, dyval, c=colors[n], label=r'$P_{%d}^{\\prime}$'%n, lw=2)\n",
    "\n",
    "ax[0].legend(frameon=False, ncols=2)\n",
    "ax[1].legend(frameon=False, ncols=2)\n",
    "ax[0].set_xlim(-1.05, 1.05)\n",
    "ax[0].set_ylim(-1.05, 1.05)\n",
    "ax[1].set_ylim(-4, 4)"
   ]
  },
  {
   "cell_type": "markdown",
   "metadata": {},
   "source": [
    "¿Por qué el warning en el plot?\n",
    "\n",
    "\n",
    "`Notese` que los Polinomios de Legendre cumplen las condiciones: \n",
    "\n",
    "- $P_0(x) = 1$\n",
    "- $P_k(1)=1, \\forall k\\geq0$. \n"
   ]
  },
  {
   "cell_type": "markdown",
   "metadata": {},
   "source": [
    "Ahora, como vimos, otro de los ingredientes es que $x_k$ sea una raiz del polinomio de Legendre. Para encontrarlas hemos de usar nuestros códigos de raices anteriormente implementados. Como semilla podemos utilizar la fórmula conocida:\n",
    "$$\n",
    "x_j = \\cos\\left(\\frac{4j+3}{4n+2}\\pi\\right)\n",
    "$$\n",
    "donde $j$ es la raíz buscada y $n$ el indice del polinomio $P_n$."
   ]
  },
  {
   "cell_type": "code",
   "execution_count": 12,
   "metadata": {},
   "outputs": [],
   "source": [
    "# método de la secante del paquete\n",
    "def errorDic(met):\n",
    "    metodos = {'abs': lambda pn1, pn: abs(pn1-pn), \n",
    "               'rel': lambda pn1, pn: abs(pn1-pn)/abs(pn),\n",
    "               'relMax': lambda pn1, pn: abs(pn1-pn)/abs(max([pn, pn1])),\n",
    "               'dist': lambda a, b: (b-a)/2\n",
    "               }\n",
    "    return metodos[met]\n",
    "\n",
    "def secv1(f, approx, Nit, error, eps):\n",
    "    \"\"\"\n",
    "    \"\"\"\n",
    "    p0, p1 = approx\n",
    "    q0, q1 = f(p0), f(p1)\n",
    "    \n",
    "    for i in range(Nit):\n",
    "        pi = p1-q1*(p1-p0)/(q1-q0)\n",
    "        \n",
    "        epsi = errorDic(error)(pi, p1) if error=='dist' else errorDic(error)(pi, p1)\n",
    "        if abs(epsi)<=eps:\n",
    "            root = pi\n",
    "            break\n",
    "        \n",
    "        # update\n",
    "        p0, q0 = p1, q1\n",
    "        p1, q1 = pi, f(pi)\n",
    "        \n",
    "    if i==Nit-1:\n",
    "        print('IMPORTANTE: la raiz encontrada no cumple el criterio de eps')\n",
    "        root = pi\n",
    "    return root\n",
    "\n",
    "def legroots(n, delt=.2, Nit=1000, error='dist', eps=1e-05):\n",
    "    roots = np.zeros(n)\n",
    "    npos = n//2 # pq son simétricos\n",
    "    \n",
    "    f = lambda x: legendre(n, x)[0]  # recordar que da dos salidas y quiero solo el Pn\n",
    "    for i in range(npos):\n",
    "        p0 = np.cos(np.pi*(4*i+3)/(4*n+2))  # semilla\n",
    "        p1 = p0 + delt\n",
    "        root = secv1(f, [p0, p1], Nit, error, eps)\n",
    "        roots[i] = -root\n",
    "        roots[-1-i] = root\n",
    "    return roots"
   ]
  },
  {
   "cell_type": "code",
   "execution_count": 15,
   "metadata": {},
   "outputs": [
    {
     "name": "stdout",
     "output_type": "stream",
     "text": [
      "Numpy\n",
      "raices [-0.86113631 -0.33998104  0.33998104  0.86113631] Pesos [0.34785485 0.65214515 0.65214515 0.34785485]\n",
      "==========\n",
      "Nuestro\n",
      "raices [-0.86113634 -0.33998104  0.33998104  0.86113634]\n"
     ]
    }
   ],
   "source": [
    "# comparemos con lo implementado que está implementado en  numpy\n",
    "n = 4\n",
    "xk, wk = np.polynomial.legendre.leggauss(n)\n",
    "print('Numpy')\n",
    "print('raices', xk, 'Pesos', wk)\n",
    "\n",
    "print('='*10)\n",
    "\n",
    "print('Nuestro')\n",
    "xkOur = legroots(n)\n",
    "print('raices', xkOur)"
   ]
  },
  {
   "cell_type": "markdown",
   "metadata": {},
   "source": [
    "¡Vamos bien!\n",
    "\n",
    "Por último solo nos falta implementar los pesos\n",
    "\n",
    "<center><img src=\"capturas/111.png\"></center>"
   ]
  },
  {
   "cell_type": "code",
   "execution_count": 16,
   "metadata": {},
   "outputs": [],
   "source": [
    "def gau_param(n, delt=.2, Nit=1000, error='dist', eps=1e-05): \n",
    "    xroot = legroots(n, delt=delt, Nit=Nit, error=error, eps=eps)\n",
    "    dPn = legendre(n, xroot)[1]\n",
    "    cj = 2/(1-xroot**2)/dPn**2\n",
    "    return xroot, cj"
   ]
  },
  {
   "cell_type": "code",
   "execution_count": 71,
   "metadata": {},
   "outputs": [
    {
     "name": "stdout",
     "output_type": "stream",
     "text": [
      "Numpy\n",
      "raices [-0.96028986 -0.79666648 -0.52553241 -0.18343464  0.18343464  0.52553241\n",
      "  0.79666648  0.96028986] \n",
      " Pesos [0.10122854 0.22238103 0.31370665 0.36268378 0.36268378 0.31370665\n",
      " 0.22238103 0.10122854]\n",
      "==========\n",
      "Nuestro\n",
      "raices [-0.96029009 -0.79666648 -0.52553241 -0.18343464  0.18343464  0.52553241\n",
      "  0.79666648  0.96029009] \n",
      " Pesos [0.10122794 0.22238103 0.31370665 0.36268378 0.36268378 0.31370665\n",
      " 0.22238103 0.10122794]\n"
     ]
    }
   ],
   "source": [
    "# Volvamos a comparar\n",
    "n = 8\n",
    "xk, wk = np.polynomial.legendre.leggauss(n)\n",
    "print('Numpy')\n",
    "print('raices', xk, '\\n Pesos', wk)\n",
    "\n",
    "print('='*10)\n",
    "\n",
    "print('Nuestro')\n",
    "xkOur, wkOur = gau_param(n)\n",
    "print('raices', xkOur, '\\n Pesos', wkOur)"
   ]
  },
  {
   "cell_type": "markdown",
   "metadata": {},
   "source": [
    "¡Nada mal!\n",
    "\n",
    "Ya estamos listos para implementar el método\n",
    "\n",
    "<center><img src=\"capturas/116.png\"></center>"
   ]
  },
  {
   "cell_type": "code",
   "execution_count": 17,
   "metadata": {},
   "outputs": [],
   "source": [
    "def gauInt(f, interv, Npts, delt=0.2, Nit=1000, error='dist', eps=1e-05):\n",
    "    a, b = min(interv), max(interv)\n",
    "    \n",
    "    # cantidades necesarias\n",
    "    xs, cs = gau_param(Npts, delt=delt, Nit=Nit, error=error, eps=eps)\n",
    "    \n",
    "    # términos que escalan a xk\n",
    "    coeffp = 0.5*(b+a)\n",
    "    coeffm = 0.5*(b-a)\n",
    "    \n",
    "    ts = coeffp + coeffm*xs  # introducimos la nueva variable t \n",
    "    fk = cs*f(ts)\n",
    "    val = coeffm*np.sum(fk)\n",
    "    return val"
   ]
  },
  {
   "cell_type": "code",
   "execution_count": 87,
   "metadata": {},
   "outputs": [
    {
     "name": "stdout",
     "output_type": "stream",
     "text": [
      "Valor  0.88137358702\n",
      "===>  2 valor  0.8817898064445449 Abs 0.0004162194245448392\n",
      "===>  3 valor  0.881331201937916 Abs 4.238508208398439e-05\n",
      "===>  4 valor  0.8813752230725129 Abs 1.6360525129099912e-06\n",
      "===>  5 valor  0.8813735706987256 Abs 1.6321274443065192e-08\n",
      "===>  6 valor  0.8813735849145594 Abs 2.1054405996423498e-09\n",
      "===>  7 valor  0.8813735871721439 Abs 1.5214385307160683e-10\n",
      "===>  8 valor  0.881373587014753 Abs 5.247025036680952e-12\n",
      "===>  9 valor  0.8813735870195227 Abs 4.772848782863548e-13\n"
     ]
    }
   ],
   "source": [
    "def f(x):\n",
    "    return 1/np.sqrt(x**2+1)\n",
    "\n",
    "valComp = 0.88137358702\n",
    "print('Valor ', valComp)\n",
    "interv = [0., 1.]\n",
    "for Npts in range(2, 10):\n",
    "    val = gauInt(f, interv, Npts, eps=1e-11)  # notar como eps me da una noción de las cifras significativas\n",
    "    print('===> ', Npts, 'valor ', val, 'Abs', abs(valComp-val))"
   ]
  },
  {
   "cell_type": "code",
   "execution_count": 88,
   "metadata": {},
   "outputs": [
    {
     "name": "stdout",
     "output_type": "stream",
     "text": [
      "===>  valor  0.8813735870195429 Abs 9.785212496055606e-15\n"
     ]
    }
   ],
   "source": [
    "# comparando\n",
    "from scipy.integrate import quad\n",
    "\n",
    "test, error = quad(f, *interv)\n",
    "print('===> ', 'valor ', test, 'Abs', error)"
   ]
  },
  {
   "cell_type": "markdown",
   "metadata": {},
   "source": [
    "COMENTARIOS FINALES:\n",
    "\n",
    "Producto de que la función que estamos integrando no es un polinomio, no se espera que Gauss-Legendre dé la respuesta exacta para los primeros valores de $n$. Sin embargo, nótese que son bastante impresionantes, para $n=2$ ya tenemos tres dígitos decimales correctos, y para $n=8$ ya obtuvimos el valor correcto. Si comparamos con la regla de Simpson con más de $50$ puntos aún no alcanzábamos esta precisión. \n",
    "\n",
    "Ahora, es importante tener glaro que la convergencia hacia la respuesta correcta en  Gauss-Legendre siempre se ve afectada por propiedades específicas de la función que elegimos integrar."
   ]
  },
  {
   "cell_type": "code",
   "execution_count": null,
   "metadata": {},
   "outputs": [],
   "source": []
  },
  {
   "cell_type": "markdown",
   "metadata": {},
   "source": [
    "## Casos Particulares"
   ]
  },
  {
   "cell_type": "markdown",
   "metadata": {},
   "source": [
    "### Funciones periodicas "
   ]
  },
  {
   "cell_type": "markdown",
   "metadata": {},
   "source": [
    "Luego de ver el ejemplo anterior uno estaría tentado a asumir que los primero métodos (simples) de integración que discutivos son irrelevantes a un lado de la cuadratura Gaussiana o incluso la regla de Simpson. Sin embargo hay casos muy particulares donde estos métodos simples como por ejemplo la regla del trapezoide pueden llegar a ser más eficiente que los anteriores. Por ejemplo, cuando tenemos una función periodica. En este caso si la integración se realiza sobre uno o más periodos, tendremos que las derivadas impares en los extremos van a ser iguales lo que conlleva a un comportamiento de error dramáticamente mejor que el que se encuentra habitualmente. `IMPORTANTE`, todos estos beneficios desaparecen en el momento en que decide integrar una función periódica en un intervalo que no es un período."
   ]
  },
  {
   "cell_type": "code",
   "execution_count": 31,
   "metadata": {},
   "outputs": [
    {
     "name": "stdout",
     "output_type": "stream",
     "text": [
      "Valor  143375.0\n",
      "trap ===>  21 valor  148061.26337595336 Abs 4686.263375953364\n",
      "simp1/3 ===>  21 valor  143493.6971793055 Abs 118.69717930551269\n",
      "Gauss ===>  21 valor  143375.1565683267 Abs 0.15656832669628784\n",
      "====================\n",
      "\n",
      "Valor  7.95493\n",
      "trap ===>  9 valor  7.989323439822036 Abs 0.03439343982203624\n",
      "simp1/3 ===>  9 valor  8.558036150702854 Abs 0.6031061507028541\n",
      "Gauss ===>  9 valor  7.93528388592446 Abs 0.019646114075539955\n"
     ]
    }
   ],
   "source": [
    "f1 = lambda x: np.exp(2*x)\n",
    "\n",
    "valComp = 143375.\n",
    "print('Valor ', valComp)\n",
    "\n",
    "Npts = 21\n",
    "interv = [0, 2*np.pi]\n",
    "\n",
    "for name in ('trap', 'simp1/3'):\n",
    "    val = mainInteg(f1, interv, Npts, name=name)\n",
    "    print(name, '===> ', Npts, 'valor ', val, 'Abs', abs(valComp-val))\n",
    "\n",
    "for n in [Npts]:\n",
    "    val = gauInt(f1, interv, n, eps=1e-11)\n",
    "    print('Gauss', '===> ', n, 'valor ', val, 'Abs', abs(valComp-val))\n",
    "\n",
    "print('='*20)\n",
    "print()\n",
    "\n",
    "f2 = lambda x: np.exp(np.sin(2*x))\n",
    "\n",
    "valComp = 7.95493\n",
    "print('Valor ', valComp)\n",
    "\n",
    "Npts = 9\n",
    "interv = [0, 2*np.pi]\n",
    "\n",
    "for name in ('trap', 'simp1/3'):\n",
    "    val = mainInteg(f2, interv, Npts, name=name)\n",
    "    print(name, '===> ', Npts, 'valor ', val, 'Abs', abs(valComp-val))\n",
    "\n",
    "for n in [Npts]:\n",
    "    val = gauInt(f2, interv, n, eps=1e-11)\n",
    "    print('Gauss', '===> ', n, 'valor ', val, 'Abs', abs(valComp-val))"
   ]
  },
  {
   "cell_type": "markdown",
   "metadata": {},
   "source": [
    "### Singularidades"
   ]
  },
  {
   "cell_type": "markdown",
   "metadata": {},
   "source": [
    "Una de las mayores complicaciones a las que podemos enfrentarnos es cuando el integrando tiene una singularidad o una derivada singular. El procedimiento a seguir en este caso es dividir la integral en intervalos de tal forma que \"movamos\" el punto de singularidad a un punto final. \n",
    "\n",
    "Veamos algunos ejemplos que nos dan una idea de la metodología a seguir para el caso de integrales:\n",
    "- Singularidad en $a$\n",
    "$$I=\\int_{0}^{2}\\frac{\\sin x}{\\sqrt{x}}dx$$\n",
    "\n",
    "En este caso el compilador dará al evaluar en $x=0$ un mensaje de \"no es un número\" (junto con un RuntimeWarning) o un ZeroDivisionError. Esta singularidad se puede observar graficando (o calculando el límite) el integrando y notando que cerca de cero diverge. \n",
    "\n",
    "La solución en este caso es muy simple, hacer un cambio de variable $u=\\sqrt{x}$, lo que remueve la singularidad\n",
    "$$I=2\\int_{0}^{\\sqrt{2}}\\sin u^2du$$\n",
    "\n",
    "Otra vía sería usar un método de integración semi-abierto. Aunque acá se verá afectado el resultado pq aunque la singularidad sea en $a$ ya su *efecto* se notará desde antes."
   ]
  },
  {
   "cell_type": "markdown",
   "metadata": {},
   "source": [
    "- Singularidad en $b$\n",
    "\n",
    "En este caso el truco sería mover la singularidad al punto inicial mediante el cambio de variable $u=1-x$. Y usar las ideas anteriores."
   ]
  },
  {
   "cell_type": "markdown",
   "metadata": {},
   "source": [
    "- Singularidad en $a$ y $b$\n",
    "\n",
    "En este caso el truco es dividir la integral en dos, definiendo un punto medio, de tal forma que nos queden dos integrales que representan los casos anteriores: singularidad en $a$, y singularidad en $b$."
   ]
  },
  {
   "cell_type": "markdown",
   "metadata": {},
   "source": [
    "- Derivada singular (discontinua)\n",
    "$$I=\\int_{0}^{2\\pi} \\sqrt{x} \\sin x dx$$\n",
    "\n",
    "En este caso el integrando no es singular, y en principio podríamos aplicar el método del trapecio (función periodica). Sin embargo, al hacerlo notaremos que el error es peor, y no se comporta como debería. Lo que ocurre es como vimos el error depende de la derivada de la función, y en este caso\n",
    "$$\n",
    "f'(x)=\\frac{2x\\cos(x)+\\sin(x)}{2\\sqrt{x}}, \\quad f''(x)=\\frac{4x\\cos(x)-\\sin(x)-4x^2\\sin(x)}{4x^{3}/2}\n",
    "$$\n",
    "\n",
    "como se puede observar las derivadas divergen en $x=0$, es decir, no son continuas, lo que afecta el error. En estos casos podemos abordar el problema usando por ejemplo:\n",
    "\n",
    "i) Cambio de variable $u=\\sqrt{x}$, implicando que $f(u)=2u^2\\sin(u^2)$ la cual tiene derivadas continuas en el nuevo intervalo $[0, \\sqrt{2\\pi}]$.\n",
    "\n",
    "ii) Dividir el intervalo, por ejemplo\n",
    "$$I=\\int_{0}^{0.001} \\sqrt{x} \\sin x dx+\\int_{0.001}^{2\\pi} \\sqrt{x} \\sin x dx$$\n",
    "\n",
    "donde el valor $0.001$ puede ser cualquiera cercano a la singularidad, de tal forma que podamos aproximar la primera integral (la segunda se resuelve de forma usual) usando la respectiva serie de Taylor, es decir\n",
    "$$\\int_{0}^{0.001} \\sqrt{x}\\approx \\int_{0}^{0.001} \\sqrt{x}\\left(x-\\frac{x^3}{6}+\\frac{x^5}{120}\\right)$$\n",
    "\n",
    "donde ahora, cada integrando puede resolverse analíticamente."
   ]
  },
  {
   "cell_type": "markdown",
   "metadata": {},
   "source": [
    "`Resumen:` Hay q analizar las integrales antes de hacerlas numéricamente."
   ]
  },
  {
   "cell_type": "code",
   "execution_count": null,
   "metadata": {},
   "outputs": [],
   "source": []
  },
  {
   "cell_type": "markdown",
   "metadata": {},
   "source": [
    "### Intervalos infinitos"
   ]
  },
  {
   "cell_type": "markdown",
   "metadata": {},
   "source": [
    "En estos casos si usamos un enfoque de cuadratura tipo Newton-Cotes o Gaussiano, tendríamos la disyuntiva de cómo manejar el punto final correcto. Una posible solución es considerarlo grande pero finito, por ejemplo $5$ o $10$. ¿Pero cómo sabemos que es lo suficientemente grande? eso suficiente? Podrías intentar aumentarlo aún más, hasta por ejemplo, $20$ o $50$ y ver que el resultado de la integración numérica converja. El problema de aumentar el valor de $x$ paulatinamente es que también debes asegurarte de emplear más puntos de integración y no siempre estarán distribuidos estos puntos de forma equidistantes. Por ejemplo\n",
    "$$\n",
    "I=\\int_{1}^{\\infty}\\frac{e^{-x}}{x+1}dx\n",
    "$$\n",
    "\n",
    "si graficamos el integrando tendremos"
   ]
  },
  {
   "cell_type": "code",
   "execution_count": 34,
   "metadata": {},
   "outputs": [
    {
     "data": {
      "text/plain": [
       "[<matplotlib.lines.Line2D at 0x123f16c90>]"
      ]
     },
     "execution_count": 34,
     "metadata": {},
     "output_type": "execute_result"
    },
    {
     "data": {
      "image/png": "[encoded data removed]",
      "text/plain": [
       "<Figure size 640x480 with 1 Axes>"
      ]
     },
     "metadata": {},
     "output_type": "display_data"
    }
   ],
   "source": [
    "xval = np.linspace(1, 10, 100) \n",
    "f = lambda x: np.exp(-x)/(x+1)\n",
    "plt.plot(xval, f(xval))"
   ]
  },
  {
   "cell_type": "markdown",
   "metadata": {},
   "source": [
    "Como se aprecia el integrando muestra que sus valores son pequeños cuando $x$ está por encima de $6$ aproximadamente. Esto significa que estarías empleando la mayoría de las abscisas para integrar una pequeña cola de la función, lo cual aumentaría el costo numérico. `COMENTARIO:` para estudiar la convergencia se utiliza algunas de las fórmulas del error."
   ]
  },
  {
   "cell_type": "markdown",
   "metadata": {},
   "source": [
    "Una alternativa a la anterior es intentar MAPEAR el infinito a un valor finito, en este ejemplo se logra haciendo el cambio de variable $u=1/x$, lo que conduce a:\n",
    "$$\n",
    "I=\\int_{0}^{1}\\frac{e^{-1/u}}{u(u+1)}du\n",
    "$$\n",
    "\n",
    "Aunque ahora tenemos una singularidad en el origen. Un embargo podemos tratarla con alguna de las técnicas vistas anteriormente."
   ]
  },
  {
   "cell_type": "markdown",
   "metadata": {},
   "source": [
    "En ocasiones el MAPEO del infinito no es tan evidente, por ejemplo\n",
    "$$\n",
    "I=\\int_{0}^{\\infty}\\frac{1}{\\sqrt{x^8+x}}dx\n",
    "$$\n",
    "\n",
    "en este caso el cambio de variable $u=1/x$ no es factible puesto que nos mapea el $x=0$ al infinito. Sin embargo, un cambio de variable tipo $u=1/(1+x)$ si cumple este objetivo, quedando:\n",
    "$$\n",
    "I=\\int_{0}^{1}\\frac{u^2}{\\sqrt{(1-u)^8+u^7(1-u)}}du\n",
    "$$\n",
    "\n",
    "Nuevamente tenemos una singularidad, en este caso a la derecha, pero podemos tratarla con las metodologías anteriores. \n",
    "\n",
    "Una segunda vía que podíamos usar era dividir la integral en subintervalos\n",
    "$$\n",
    "I=\\int_{0}^{\\infty}\\frac{1}{\\sqrt{x^8+x}}dx=\\int_{0}^{1}\\frac{1}{\\sqrt{x^8+x}}dx+\\int_{1}^{\\infty}\\frac{1}{\\sqrt{x^8+x}}dx\n",
    "$$\n",
    "donde ahora si podemos usar el cambio de variable $u=1/x$ en la segunda integral y mapear el infinito. Notar que la primera integral tiene una singularidad en $x=0$ pero la podemos tratar con las metodologías vistas, en particular definiendo $u=\\sqrt{x}$."
   ]
  },
  {
   "cell_type": "markdown",
   "metadata": {},
   "source": [
    "## Integrales multidimensionales\n",
    "\n",
    "La forma más sencilla de tratar las integrales multidimensionales es mediante el teorema de **Fubini**, según el cual una integral multidimensional se escribe como una secuencia de integrales unidimensionales iteradas. Es decir, por ejemplo, \n",
    "\n",
    "<center><img src=\"capturas/120.png\"></center>\n",
    "\n"
   ]
  },
  {
   "cell_type": "markdown",
   "metadata": {},
   "source": [
    "Puede ser expresada su primera integral como\n",
    "\n",
    "<center><img src=\"capturas/121.png\"></center>\n",
    "\n",
    "Donde se fijó a $y$ para hacer la integración por $x$. Luego se realiza la segunda integral como\n",
    "\n",
    "<center><img src=\"capturas/125.png\"></center>\n",
    "\n",
    "Notar que en ambos casos las convertimos en integrales 1D dimensionales.\n",
    "\n",
    "Ahora, numéricamente si usamos los métodos estandar de cuadratura (Newton-Cotes o Gauss-Legendre), estas integrales se expresarían como\n",
    "<center><img src=\"capturas/122.png\"></center>\n",
    "\n",
    "y \n",
    "\n",
    "<center><img src=\"capturas/123.png\"></center>\n",
    "\n",
    "respectivamente. Lo que nos lleva a\n",
    "\n",
    "<center><img src=\"capturas/124.png\"></center>\n",
    "\n",
    "`COMENTARIO:` Para integrales multidimensionales, este enfoque suele ser muy tardado si se desea una buena resolución. Al finalizar el curso (en la parte de estadística) veremos que existe un método de integración conocido como Montecarlo que es independiente de la dimensionalidad de la integral."
   ]
  },
  {
   "cell_type": "code",
   "execution_count": null,
   "metadata": {},
   "outputs": [],
   "source": [
    "def gauInt(f, interv, Npts, delt=0.2, Nit=1000, error='dist', eps=1e-05):\n",
    "    a, b = min(interv), max(interv)\n",
    "    \n",
    "    # cantidades necesarias\n",
    "    xs, cs = gau_param(Npts, delt=delt, Nit=Nit, error=error, eps=eps)\n",
    "    \n",
    "    # términos que escalan a xk\n",
    "    coeffp = 0.5*(b+a)\n",
    "    coeffm = 0.5*(b-a)\n",
    "    \n",
    "    ts = coeffp + coeffm*xs  # introducimos la nueva variable t \n",
    "    fk = cs*f(ts)\n",
    "    val = coeffm*np.sum(fk)\n",
    "    return val"
   ]
  },
  {
   "cell_type": "markdown",
   "metadata": {},
   "source": [
    "<center><img src=\"capturas/124.png\"></center>"
   ]
  },
  {
   "cell_type": "code",
   "execution_count": 62,
   "metadata": {},
   "outputs": [],
   "source": [
    "def escala(interv1):\n",
    "    a, b = interv1\n",
    "    coeffpx1, coeffmx1 = 0.5*(b+a), 0.5*(b-a)\n",
    "    return coeffpx1, coeffmx1\n",
    "\n",
    "# Implementación\n",
    "def gauInt2Dv1(f, interv1, interv2, Npts1, Npts2=None, delt=0.2, Nit=1000, error='dist', eps=1e-05):\n",
    "    \n",
    "    # cantidades necesarias\n",
    "    xi, ci = gau_param(Npts1, delt=delt, Nit=Nit, error=error, eps=eps)\n",
    "    if Npts2 is None:\n",
    "        yj, cj = np.copy(xi), np.copy(ci)\n",
    "    else:\n",
    "        yj, cj = gau_param(Npts2, delt=delt, Nit=Nit, error=error, eps=eps)\n",
    "    \n",
    "    valIntx = []\n",
    "    coeffpx, coeffmx = escala(interv1)\n",
    "    coeffpy, coeffmy = escala(interv2)\n",
    "    for i in range(len(xi)):\n",
    "        x = xi[i]\n",
    "        tx = coeffpx + coeffmx*x\n",
    "        valInty = []\n",
    "        for j in range(len(yj)):\n",
    "            y = yj[j]\n",
    "            ty = coeffpy + coeffmy*y\n",
    "            fk = (ci[i]*cj[j]*f(tx, ty))*coeffmx*coeffmy\n",
    "            \n",
    "            valInty.append(fk)\n",
    "        valIntx.append(valInty)\n",
    "    \n",
    "    val = np.sum(valIntx)\n",
    "    return val\n",
    "\n",
    "# Implementación abreviada\n",
    "def gauInt2Dv2(f, interv1, interv2, Npts1, Npts2=None, delt=0.2, Nit=1000, error='dist', eps=1e-05):    \n",
    "    \n",
    "    # cantidades necesarias\n",
    "    xi, ci = gau_param(Npts, delt=delt, Nit=Nit, error=error, eps=eps)\n",
    "    if Npts2 is None:\n",
    "        yj, cj = np.copy(xi), np.copy(ci)\n",
    "    else:\n",
    "        yj, cj = gau_param(Npts2, delt=delt, Nit=Nit, error=error, eps=eps)\n",
    "    \n",
    "    # escalando\n",
    "    coeffpx, coeffmx = escala(interv1)\n",
    "    coeffpy, coeffmy = escala(interv2)\n",
    "    ti = coeffpx + coeffmx*xi\n",
    "    tj = coeffpy + coeffmy*yj\n",
    "    \n",
    "    # creando una malla\n",
    "    Ci, Cj = np.meshgrid(ci, cj)\n",
    "    Xi, Yj = np.meshgrid(ti, tj)\n",
    "    \n",
    "    fij = f(Xi, Yj)\n",
    "    fk = Ci*Cj*fij\n",
    "    val = coeffmx*coeffmy*np.sum(fk)\n",
    "    return val"
   ]
  },
  {
   "cell_type": "code",
   "execution_count": 64,
   "metadata": {},
   "outputs": [
    {
     "name": "stdout",
     "output_type": "stream",
     "text": [
      "Valor  4.0\n",
      "===>  2 valor  4.000000000000002 Abs 1.7763568394002505e-15\n",
      "===>  2 valor  4.000000000000002 Abs 1.7763568394002505e-15\n",
      "\n",
      "===>  3 valor  3.999999999999996 Abs 3.9968028886505635e-15\n",
      "===>  3 valor  3.999999999999996 Abs 3.9968028886505635e-15\n",
      "\n",
      "===>  4 valor  3.9999999999999996 Abs 4.440892098500626e-16\n",
      "===>  4 valor  3.9999999999999996 Abs 4.440892098500626e-16\n",
      "\n",
      "===>  5 valor  3.999999999999998 Abs 2.220446049250313e-15\n",
      "===>  5 valor  3.999999999999998 Abs 2.220446049250313e-15\n",
      "\n",
      "===>  6 valor  4.0 Abs 0.0\n",
      "===>  6 valor  4.0 Abs 0.0\n",
      "\n",
      "===>  7 valor  4.000000000000001 Abs 8.881784197001252e-16\n",
      "===>  7 valor  4.000000000000001 Abs 8.881784197001252e-16\n",
      "\n",
      "===>  8 valor  4.0 Abs 0.0\n",
      "===>  8 valor  4.0 Abs 0.0\n",
      "\n",
      "===>  9 valor  4.000000000000001 Abs 8.881784197001252e-16\n",
      "===>  9 valor  4.000000000000001 Abs 8.881784197001252e-16\n",
      "\n"
     ]
    }
   ],
   "source": [
    "f = lambda x, y: x*y\n",
    "    \n",
    "valComp = 4.\n",
    "print('Valor ', valComp)\n",
    "\n",
    "interv1 = [0, 2]  # x intervalo\n",
    "interv2 = [0, 2]  # y intervalo\n",
    "\n",
    "for Npts in range(2, 10):\n",
    "    val = gauInt2Dv1(f, interv1, interv2, Npts, eps=1e-11)\n",
    "    print('===> ', Npts, 'valor ', val, 'Abs', abs(valComp-val))\n",
    "    val = gauInt2Dv2(f, interv1, interv2, Npts, eps=1e-11)\n",
    "    print('===> ', Npts, 'valor ', val, 'Abs', abs(valComp-val))\n",
    "    print()"
   ]
  },
  {
   "cell_type": "code",
   "execution_count": null,
   "metadata": {},
   "outputs": [],
   "source": []
  },
  {
   "cell_type": "code",
   "execution_count": 65,
   "metadata": {},
   "outputs": [
    {
     "name": "stdout",
     "output_type": "stream",
     "text": [
      "Valor  0.6666666666666666\n",
      "===>  2 valor  0.666666666666667 Abs 3.3306690738754696e-16\n",
      "===>  3 valor  0.6666666666666661 Abs 5.551115123125783e-16\n",
      "===>  4 valor  0.6666666666666666 Abs 0.0\n",
      "===>  5 valor  0.6666666666666662 Abs 4.440892098500626e-16\n",
      "===>  6 valor  0.6666666666666667 Abs 1.1102230246251565e-16\n",
      "===>  7 valor  0.6666666666666669 Abs 2.220446049250313e-16\n",
      "===>  8 valor  0.6666666666666667 Abs 1.1102230246251565e-16\n",
      "===>  9 valor  0.6666666666666669 Abs 2.220446049250313e-16\n"
     ]
    }
   ],
   "source": [
    "f = lambda x, y: x*y**2\n",
    "    \n",
    "valComp = 2/3.\n",
    "print('Valor ', valComp)\n",
    "\n",
    "interv1 = [0, 2]\n",
    "interv2 = [0, 1]\n",
    "\n",
    "for Npts in range(2, 10):\n",
    "    val = gauInt2Dv2(f, interv1, interv2, Npts, eps=1e-11)\n",
    "    print('===> ', Npts, 'valor ', val, 'Abs', abs(valComp-val))"
   ]
  },
  {
   "cell_type": "code",
   "execution_count": null,
   "metadata": {},
   "outputs": [],
   "source": []
  },
  {
   "cell_type": "code",
   "execution_count": 66,
   "metadata": {},
   "outputs": [
    {
     "name": "stdout",
     "output_type": "stream",
     "text": [
      "Valor  12.7781\n",
      "===>  2 valor  12.736216410734237 Abs 0.04188358926576363\n",
      "===>  3 valor  12.777756327974224 Abs 0.0003436720257763426\n",
      "===>  4 valor  12.778110593361603 Abs 1.0593361603028484e-05\n",
      "===>  5 valor  12.77811219337734 Abs 1.2193377338931555e-05\n",
      "===>  6 valor  12.778112197852776 Abs 1.2197852775841511e-05\n",
      "===>  7 valor  12.77811219786129 Abs 1.2197861289919842e-05\n",
      "===>  8 valor  12.7781121978613 Abs 1.2197861300577983e-05\n",
      "===>  9 valor  12.778112197861304 Abs 1.2197861304130697e-05\n"
     ]
    }
   ],
   "source": [
    "f = lambda x, y: np.exp(x)*y\n",
    "    \n",
    "valComp = 12.7781\n",
    "print('Valor ', valComp)\n",
    "\n",
    "interv1 = [0, 2]\n",
    "interv2 = [0, 2]\n",
    "\n",
    "for Npts in range(2, 10):\n",
    "    val = gauInt2Dv2(f, interv1, interv2, Npts, eps=1e-11)\n",
    "    print('===> ', Npts, 'valor ', val, 'Abs', abs(valComp-val))"
   ]
  },
  {
   "cell_type": "markdown",
   "metadata": {},
   "source": [
    "### Tarea\n",
    "- Intentar generalizarlo para recibir una o dos funciones en el intervalo para y\n",
    "- Intentar generalizarlo para 3D."
   ]
  },
  {
   "cell_type": "markdown",
   "metadata": {},
   "source": [
    "### Resumen\n",
    "\n",
    "En esta lectura hemos presentado las principales técnicas de cuadraturas, señalándose sus virtudes y debilidades. A continuación presentamos una guia (no es un mandamiento) para resolver las integrales numéricamentes:\n",
    "- Analizar el integrando, identificando singularidades, mapeando límites infinitos, etc. En caso de econtrarse las primeras (singularidades) usar trucos analíticos para removerlas, anticipando así un crecimiento del error producto de estas.\n",
    "- Si el integrando es periódico y se integra en un período completo (o varios períodos), la regla del trapezoide compuesto puede hacer un gran trabajo.\n",
    "- Si su integral (propia o impropia) tiene una forma de cuadratura gaussiana estándar, debe usar los nodos y pesos tabulados.\n",
    "- Para los integrandos en los que se necesita alta precisión la integración de Gauss-Legendre es la soluciones a elegir.\n",
    "- Si no se está demasiado preocupado por la precisión pero necesita un error confiable (o si está obligado externamente a utilizar nodos igualmente espaciados), se ha de emplear una regla de Simpson adaptativa.\n",
    "- Si se trata de una integral multidimensional, utilice la cuadratura Gaussiana en unas pocas dimensiones y Monte Carlo en muchas dimensiones."
   ]
  },
  {
   "cell_type": "markdown",
   "metadata": {},
   "source": [
    "## Comparación con `SciPy`"
   ]
  },
  {
   "cell_type": "markdown",
   "metadata": {},
   "source": [
    "`SciPy` proporciona una serie de funciones para diferentes tipos de cuadratura, por ejemplo, `quad`,` dblquad` y `tplquad` para integrales simples, dobles y triples, respectivamente."
   ]
  },
  {
   "cell_type": "code",
   "execution_count": null,
   "metadata": {},
   "outputs": [],
   "source": [
    "from scipy.integrate import quad, dblquad, tplquad"
   ]
  },
  {
   "cell_type": "markdown",
   "metadata": {},
   "source": [
    "La función `quad` toma una gran cantidad de argumentos opcionales, que se pueden usar para ajustar el comportamiento de la función (prueba con` help (quad) `para más detalles).\n",
    "\n",
    "El uso básico es el siguiente:\n",
    "\n",
    "$f(x)=x$"
   ]
  },
  {
   "cell_type": "code",
   "execution_count": null,
   "metadata": {},
   "outputs": [],
   "source": [
    "x_lower = 0 # límite inferior de x\n",
    "x_upper = 1 # límite superior de x\n",
    "\n",
    "val, abserr = quad(f, x_lower, x_upper)\n",
    "\n",
    "print(\"integral value =\", val, \", absolute error =\", abserr) "
   ]
  },
  {
   "cell_type": "markdown",
   "metadata": {},
   "source": [
    "Si necesitamos pasar argumentos adicionales a la función integrando, podemos usar el argumento de palabra clave `args`:"
   ]
  },
  {
   "cell_type": "code",
   "execution_count": null,
   "metadata": {},
   "outputs": [],
   "source": [
    "def integrand(x, A):  # notar que primero es la variable y luego los argumentos\n",
    "    return A*np.exp(x)\n",
    "\n",
    "\n",
    "x_lower = 0 # límite inferior de x\n",
    "x_upper = 10 # límite superior de x\n",
    "\n",
    "val, abserr = quad(integrand, x_lower, x_upper, args=(3,))\n",
    "\n",
    "print(val, abserr) "
   ]
  },
  {
   "cell_type": "markdown",
   "metadata": {},
   "source": [
    "Tambien se pueden calcular integrales tipo\n",
    "\n",
    "$$\\lim_{b\\to 00}\\lim_{a\\to-oo}\\int_{a}^{b} e^{-x^{2}}dx$$"
   ]
  },
  {
   "cell_type": "code",
   "execution_count": null,
   "metadata": {},
   "outputs": [],
   "source": [
    "val, abserr = quad(lambda x: np.exp(-x**2), -np.Inf, np.Inf)  # demostrar\n",
    "\n",
    "print(\"numerical  =\", val, abserr)\n",
    "\n",
    "analytical = np.sqrt(np.pi)\n",
    "print(\"analytical =\", analytical)"
   ]
  },
  {
   "cell_type": "markdown",
   "metadata": {},
   "source": [
    "Para el caso de integración de dimensiones superiores funciona de la misma manera:"
   ]
  },
  {
   "cell_type": "code",
   "execution_count": null,
   "metadata": {},
   "outputs": [],
   "source": [
    "def integrand(x, y):\n",
    "    return np.exp(-x**2-y**2)\n",
    "\n",
    "x_lower = 0  \n",
    "x_upper = 10\n",
    "y_lower = 0\n",
    "y_upper = 10\n",
    "\n",
    "val, abserr = dblquad(integrand, x_lower, x_upper, lambda x : y_lower, lambda x: y_upper)\n",
    "\n",
    "print(val, abserr)"
   ]
  },
  {
   "cell_type": "markdown",
   "metadata": {},
   "source": [
    "Observe cómo tuvimos que pasar funciones lambda para los límites de la integración y, ya que estas en general pueden ser funciones de x. Sin embargo no es siempre necesario"
   ]
  },
  {
   "cell_type": "code",
   "execution_count": null,
   "metadata": {},
   "outputs": [],
   "source": [
    "val, abserr = dblquad(integrand, x_lower, x_upper, y_lower, y_upper)\n",
    "print(val, abserr)"
   ]
  }
 ],
 "metadata": {
  "kernelspec": {
   "display_name": "base",
   "language": "python",
   "name": "python3"
  },
  "language_info": {
   "codemirror_mode": {
    "name": "ipython",
    "version": 3
   },
   "file_extension": ".py",
   "mimetype": "text/x-python",
   "name": "python",
   "nbconvert_exporter": "python",
   "pygments_lexer": "ipython3",
   "version": "3.11.4"
  }
 },
 "nbformat": 4,
 "nbformat_minor": 2
}

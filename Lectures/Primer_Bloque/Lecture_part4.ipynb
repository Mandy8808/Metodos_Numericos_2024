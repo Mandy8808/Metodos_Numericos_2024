{
 "cells": [
  {
   "cell_type": "code",
   "execution_count": null,
   "metadata": {},
   "outputs": [],
   "source": []
  },
  {
   "cell_type": "markdown",
   "metadata": {},
   "source": [
    "# `Primer Bloque`\n",
    "\n",
    "Integración numérica o cuadratura.\n",
    "- El problema a resolver.\n",
    "- Integrales de una variable.\n",
    "    - Métodos tipo Newton–Cotes\n",
    "        - Rectángulo\n",
    "        - Punto medio\n",
    "        - Trapecio\n",
    "        - Simpson\n",
    "    - Integraciones adaptativas\n",
    "        - pass\n",
    "    - Comparar con Python\n",
    "- Integración multidimensional."
   ]
  },
  {
   "cell_type": "markdown",
   "metadata": {},
   "source": [
    "Al realizar una integración numérica por cuadratura, como veremos más adelante el añadir más puntos nos permite mejorar la resolución de la integral hasta la precisión de máquina. `¿Recuerdan que era la precisión de máquina?`\n",
    "\n",
    "### El problema a resolver\n",
    "\n",
    "En ocasiones hemos de conocer el resultado de una integral definida $\\int_{a}^{b}f(x)dx$. Como conocen del cálculo, una integral de Riemann no es más que el límite de una sumatoria\n",
    "$$s=\\int_{a}^{b}f(x) dx=\\lim_{|\\triangle_i|\\to 0}\\sum_{i=1}^{n} f(x_i)\\triangle_i$$\n",
    "\n",
    "Pues una integración numérica consiste en encontrar la mejor aproximación de tal forma que \n",
    "$$s=\\int_{a}^{b}f(x) dx \\approx \\sum_{i=1}^{n-1} c_i f(x_i)$$\n",
    "\n",
    "donde $x_i$ es el valor nodal y $c_i$ su respectivo peso.\n",
    "\n",
    "De manera general podemos dividir los diferentes métodos de integrales numéricas en tres tipos, \n",
    "- Métodos cerrados, donde los puntos finales de nuestro intervalo ($a$ y $b$) se incluyen como abscisas ($x_i$), ejemplos: `el método del trapezoide y de Simpson`\n",
    "- Métodos abiertos, donde los puntos finales de nuestro intervalo ($a$ y $b$) no se incluyen como abscisas ($x_i$), ejemplos: `el método del punto medio y la cuadratura gaussiana`\n",
    "- Métodos semiabiertos, donde uno de los puntos finales de nuestro intervalo (a o b) no está incluido en las abscisas ($x_i$), ejemplos: `el método del rectángulo`.\n",
    "\n",
    "Uno se puede preguntar cuando utilizar un método o el otro, pues en los casos en que se tenga una singularidad en la integral, podemos dividir su integración en intervalos y escoger un método abierto o semiabierto que nos evite evaluar el punto de la singularidad. \n",
    "\n",
    "Una manera más usual de clasificar los métodos es usando los siguientes criterios:\n",
    "- `Métodos de Newton-Cotes`: asumen que la integral se puede aproximar sumando las áreas de formas (por ejemplo, rectángulos) y suelen implicar abscisas equiespaciadas (En algunos casos no requieren, estrictamente hablando, abscisas equiespaciadas). Son muy útiles cuando $f(x)$ ya ha sido evaluado en puntos específicos de una cuadrícula.\n",
    "- `Cuadratura gaussiana`: hacen uso de abscisas espaciadas desigualmente. Estos métodos escógen el $x_i$ de tal manera que proporcione una mayor precisión. Como resultado, normalmente requieren menos abscisas y por lo tanto, menos evaluaciones de funciones, lo que los convierte en una opción atractiva cuando una evaluación $f(x)$ es costosa o arrastra errores."
   ]
  },
  {
   "cell_type": "code",
   "execution_count": null,
   "metadata": {},
   "outputs": [],
   "source": []
  },
  {
   "cell_type": "markdown",
   "metadata": {},
   "source": [
    "### Métodos tipo Newton-Cotes\n",
    "\n",
    "Como se comentó, los métodos que entran dentro de esta clasificiación lo que hacen es evaluar la integral como una suma de áreas elementales (rectángulos, trapecios, etc.), asumiendo como conocidos un conjunto de $n$ puntos de datos discretos de la forma $(x_i, f(x_i))$ para $i = 0,1,...,n − 1$ donde \n",
    "$$x_i=a+ih$$\n",
    "con $h=(b-a)/N$, donde $N$ es el número de \"paneles\": $N=n-1$. "
   ]
  },
  {
   "cell_type": "markdown",
   "metadata": {},
   "source": [
    "- `Regla del rectángulo`\n",
    "\n",
    "El método del rectángulo hace la suposición más simple posible: El área bajo $f(x)$ de $x_i$ a $x_i+1$ se puede aproximar mediante el área de un rectángulo, con el ancho h (la distancia de $x_i$ a $x_i+1$) y la altura dada por el valor de $f(x)$ ya sea en $x_i$ o en $x_i+1$.\n",
    "\n",
    "<center><img src=\"capturas/89.png\"></center>\n",
    "\n",
    "Una forma equivalente de ver esto es que la regla del rectángulo aproxima $f(x)$ como una constante de $x_i$ a $x_i+1$, es decir, una línea recta (horizontal). Esto significa que `en lugar de evaluar el área bajo la curva, evalúa el área bajo esa línea recta`.\n",
    "\n",
    "$$\\int_{x_i}^{x_{i+1}}f(x)dx\\approx h f(x_i)$$\n",
    "\n",
    "Como la integral total sería la suma de todas las áreas discretas tendremos \n",
    "$$\\int_{a}^{b}f(x)dx=\\sum_{i=0}^{n-2}\\int_{x_i}^{x_{i+1}}f(x)dx\\approx h f(x_0)+ h f(x_1)+\\dots+ h f(x_{n-2})$$\n",
    "\n",
    "donde asumimos que todos los puntos estaban equiespaciados por $h$. `¿Por qué n-2?`\n",
    "\n",
    "Es muy facil percatarse que\n",
    "$$c_i=h(1, 1, \\dots, 1, 0)$$\n",
    "y que esté método es de la clase semi-abierto pues no incluye el punto final (se puede adaptar para excluir el inicial e incluir el final).\n",
    "\n",
    "`COMENTARIO 1:` notar como en el límite $h\\to 0$ la expresión se reduce a la definición de integral de Riemann. Lo que significa que mientras más pequeño es $h$ la aproximación es mejor (recordar que el límite es la precisión de máquina).\n",
    "\n",
    "\n",
    "`Errores:`\n",
    "- Error correspondiente de aproximar el área real (debajo de la sección de la curva) por la del panel $i-$esimo es \n",
    "$$\\epsilon_i=\\frac{h^2 f'(\\psi_i)}{2}$$\n",
    "\n",
    "donde $x_i<\\psi_i<x_{i+1}$. Este error se le suele llamar `Error por truncamiento`.\n",
    "\n",
    "- Error absoluto de la integración se puede computar como\n",
    "$$\\epsilon=\\frac{b-a}{2}h f'(\\psi)$$\n",
    "\n",
    "A este error se le suele llamar `Error por redondeo` puesto que es consecuencia de sumar cada panel."
   ]
  },
  {
   "cell_type": "markdown",
   "metadata": {},
   "source": [
    "- `Regla del punto medio`\n",
    "\n",
    "Similar a lo visto en el caso de la derivada (notar que la regla del rectángulo también es hacia adelante/atrás), podemos definir una regla del punto medio. Esta regla asume la misma suposición que la regla del rectángulo: el área bajo $f(x)$ de $x_i$ a $x_i+1$ puede aproximarse por el área de un rectángulo, con ancho $h$ y altura $f(x)$. La única diferencia es que ahora $x$ es el punto medio entre $x_i$ y $x_i+1$.\n",
    "<center><img src=\"capturas/90.png\"></center>\n",
    "\n",
    "Como se puede apreciar ahora de la imagen, este pequeño cambio mejora sustancialmente la aproximación\n",
    "\n",
    "$$\\int_{x_i}^{x_{i+1}}f(x)dx\\approx h f(x_i+\\frac{h}{2})$$\n",
    "\n",
    "`Errores:`\n",
    "- Error por truncamiento\n",
    "$$\\epsilon_i=\\frac{h^3 f''(\\psi_i)}{24}$$\n",
    "\n",
    "- Error por redondeo\n",
    "$$\\epsilon=\\frac{b-a}{24}h^2 f''(\\psi)$$\n"
   ]
  },
  {
   "cell_type": "markdown",
   "metadata": {},
   "source": [
    "`Regla del trapecio`\n",
    "\n",
    "La regla del trapecio o regla trapezoidal entra dentro de la clasificación de fórmulas cerradas y asume que el área bajo la curva $f(x)$ se puede aproximar por la de un trapecio\n",
    "<center><img src=\"capturas/91.png\"></center>\n",
    "\n",
    "Recordando que para un trapecio $A=h*(B+b)/2$, tendremos que\n",
    "$$\\int_{x_i}^{x_{i+1}}f(x)dx\\approx \\frac{h}{2}[f(x_i)+f(x_{i+1})]$$\n",
    "\n",
    "Notar que esta fórmula implica que cada uno de los dos puntos que componen nuestro intervalo elemental tiene el mismo peso. \n",
    "\n",
    "Sumando todos los paneles tendremos:\n",
    "\n",
    "$$\n",
    "\\int_{a}^{b}f(x)dx=\\sum_{i=0}^{n-2}\\int_{x_i}^{x_{i+1}}f(x)dx\\approx \\frac{h}{2} f(x_0)+ h f(x_1)+ h f(x_2)+\\dots+ h f(x_{n-2})+\\frac{h}{2}f(x_{n-1})\n",
    "$$\n",
    "\n",
    "`Por qué solo` $x_0, x_{n-1}$ `tienen peso 1/2?`\n",
    "\n",
    "\n",
    "Es muy facil percatarse que\n",
    "$$c_i=h\\bigg(\\frac{1}{2}, 1, \\dots, 1, \\frac{1}{2}\\bigg)$$\n",
    "y que esté método es de la clase cerrado pues incluye todos los puntos.\n",
    "\n",
    "`Errores:`\n",
    "- Error por truncamiento\n",
    "$$\\epsilon_i=-\\frac{h^3 f''(\\psi_i)}{12}$$\n",
    "\n",
    "- Error por redondeo\n",
    "$$\\epsilon=-\\frac{b-a}{12}h^2 f''(\\psi)$$"
   ]
  },
  {
   "cell_type": "markdown",
   "metadata": {},
   "source": [
    "- `Regla de Simpson (1/3)`\n",
    "\n",
    "Como se pudo apreciar, el método del trapecio une con una línea recta los puntos $x_i$ y $x_{i+1}$. Este procedimiento se puede ver como aproximar la curva real por un polinomio de grado $1$. La regla de Simpson (1/3) extiende esta idea y nos da una aproximación más precisa al conectar grupos sucesivos de tres puntos sobre la curva mediante polinomios de grado $2$ (parábolas). De tal forma que la integral se aproxima como la suma del área de todas las parábolas.\n",
    "\n",
    "<center><img src=\"capturas/92.png\"></center>\n",
    "\n",
    "Consideremos dos paneles, equivalentemente tres puntos consecutivos $(x_i, f(x_i)), (x_{i+1}, f(x_{i+1})), (x_{i+2}, f(x_{i+2}))$, tendremos que la integral de la función real en el intervalo $x_{i}, x_{i+2}$ se puede aproximar al área sombreada bajo una parábola que pasa por los tres puntos\n",
    "\n",
    "<center><img src=\"capturas/93.png\"></center>\n",
    "\n",
    "Veamos como obtener la expresión matemática (más adelante en interpolación retomaremos esta metodología).\n",
    "\n",
    "Partiendo de la expresión general para una parábola \n",
    "$$p(x)=a_0+a_1x+a_2x^2$$\n",
    "si integramos esta expresion en el intervalo $x_i, x_{i+2}$ tendremos\n",
    "$$\n",
    "\\int_{x_i}^{x_{i+2}} p(x) dx=\\bigg(a_0 x+\\frac{a_1 x^{2}}{2}+\\frac{a_2 x^3}{3}\\bigg)_{x_{i}}^{x_{i+2}}=2 a_0 h+2a_1h(h+x_i)+\\frac{2}{3}a_2h(4h^2+6hx_i+3x_i^2)\n",
    "$$\n",
    "\n",
    "donde se usó que $x_{i+2}=x_i+2h$. Puesto que el polinomio debe pasar por los tres puntos, es decir se ha de cumplir que $p(x_i)=f(x_i), p(x_{i+1})=f(x_{i+1})$ y $p(x_{i+2})= f(x_{i+2})$, se puede computar las tres constantes (ver notebook de mathematica) y sustituirlas en la ecuación anterior, lo que nos da \n",
    "$$\\int_{x_i}^{x_{i+2}}f(x)dx\\approx \\frac{h}{3}[f(x_i)+4f(x_{i+1})+f(x_{i+2})]$$\n",
    "donde se usó que $x_{i+1}=x_i+h$.\n",
    "\n",
    "Finalmente si sumamos todos los paneles tendremos \n",
    "$$\n",
    "\\int_{a}^{b}f(x)dx=\\sum_{i=0, 2, 4}^{n-3}\\int_{x_i}^{x_{i+2}}f(x)dx\\approx \\frac{h}{3} f(x_0)+ \\frac{4h}{3} f(x_1)+ \\frac{2h}{3} f(x_2)+\\dots+ \\frac{2h}{3}f(x_{n-3})+ \\frac{4h}{3} f(x_{n-2})+\\frac{h}{3}f(x_{n-1})\n",
    "$$\n",
    "\n",
    "Nótese como el peso de los puntos finales $x_0, x_{n-1}$ es el mismo $h/3$, mientras que los intermedios $x_{i+1}$ tienen un peso de $4h/3$, algo que no ocurre con los \"coincidentes\" ($x_{i+2}$ sin incluir los extremos) los cuales van pesado por un término $2h/3$.\n",
    "\n",
    "Es muy facil percatarse que\n",
    "$$c_i=\\frac{h}{3}(1, 4, 2, 4, \\dots, 2, 4, 1)$$\n",
    "y que esté método es de la clase cerrado pues incluye todos los puntos.\n",
    "\n",
    "`IMPORTANTE:` para usar esta metodología hay que garantizar que se cuenta con un número par de paneles (impar de puntos).\n",
    "\n",
    "`Errores:`\n",
    "- Error por truncamiento\n",
    "$$\\epsilon_i=-\\frac{h^5 f^{(4)}(\\psi_i)}{90}$$\n",
    "\n",
    "- Error por redondeo\n",
    "$$\\epsilon=-\\frac{b-a}{180}h^4 f^{(4)}(\\psi)$$\n",
    "\n",
    "Nótese como este método tiene un error de orde $O(h^{4})$ menor a todos los anteriores. Adicionalmente el (1/3) es debido al peso del primer punto."
   ]
  },
  {
   "cell_type": "markdown",
   "metadata": {},
   "source": [
    "La Regla de Simpson (1/3) se puede extender al polinomio cúbico `Regla de Simpson (3/8)` (donde ahora necesitamos tres paneles) o incluso usar un polinómio cuártico (cuatro paneles) `Regla de Boole`. El procedimiento para obtener las expresiones es similar al (3/8), para detalles ver notebook Mathematica. A continuación se presenta un resumen:\n",
    "\n",
    "<center><img src=\"capturas/94.png\"></center>"
   ]
  },
  {
   "cell_type": "code",
   "execution_count": 6,
   "metadata": {},
   "outputs": [],
   "source": [
    "import numpy as np\n",
    "import sys"
   ]
  },
  {
   "cell_type": "code",
   "execution_count": 115,
   "metadata": {},
   "outputs": [],
   "source": [
    "def wights(name):\n",
    "    pesos = {'rect': (1, 1),  # (peso para 0 y -1, (pesos intermedio, (indice inicio, salto)), peso global)\n",
    "             'ptoMed': (1, 1),\n",
    "             'trap': (1/2, 1),\n",
    "             'simp1/3': (1/3, (4/3, (1, 2)), 2/3),\n",
    "             'simp3/8': (3/8, (6/8, (3, 3)), 9/8),\n",
    "             'boole': (14/45, (24/45, (2, 4)), (28/45, (4, 4)), 64/45)}\n",
    "    return pesos[name]\n",
    "\n",
    "def numPanel(name):\n",
    "    paneles = {'rect': 1,\n",
    "             'ptoMed': 1,\n",
    "             'trap': 1,\n",
    "             'simp1/3': 2,\n",
    "             'simp3/8': 3,\n",
    "             'boole': 4}\n",
    "    return paneles[name]\n",
    "    \n",
    "def check1(name, Npts):\n",
    "    \"\"\"\n",
    "    Check of f is a object type function and inter have len two\n",
    "    \"\"\"\n",
    "    try:\n",
    "        NpanelNec = numPanel(name)  # si el nombre no está da un KeyError y ejecuta la except \n",
    "        if (Npts-1)%NpanelNec or Npts<2:\n",
    "            sys.exit(\"ERROR: el número de paneles debe ser múltiplo de %d\"%NpanelNec)  \n",
    "    except KeyError:\n",
    "        print(\"ERROR: El método de integración escojido no se encuentra en la lista\")\n",
    "        "
   ]
  },
  {
   "cell_type": "code",
   "execution_count": 116,
   "metadata": {},
   "outputs": [],
   "source": [
    "def rect_trap(f, interv, Npts, name='trap', info=False):\n",
    "    \"\"\" \n",
    "    \"\"\"\n",
    "    a, b = interv\n",
    "    h = (b-a)/(Npts-1)\n",
    "    \n",
    "    if name == 'rect':\n",
    "        Npts = Npts-1\n",
    "        xi = a + np.arange(Npts)*h  # recordar que esta era la forma más optima\n",
    "    elif name == 'ptoMed':\n",
    "        Npts = Npts-1\n",
    "        xi = a + (np.arange(Npts) + 1/2)*h\n",
    "    else:\n",
    "        xi = a + np.arange(Npts)*h\n",
    "    yi = f(xi)\n",
    "    \n",
    "    pesos = wights(name)\n",
    "    cs = np.ones(Npts)*pesos[-1]\n",
    "    cs[0], cs[-1] = pesos[0], pesos[0]\n",
    "    if info:\n",
    "        print(pesos)\n",
    "        print(cs)\n",
    "    \n",
    "    contribs = cs*yi*h\n",
    "    return np.sum(contribs)\n",
    "\n",
    "def simpsons(f, interv, Npts, name='simp1/3', info=False):\n",
    "    \"\"\" \n",
    "    \"\"\"\n",
    "    a, b = interv\n",
    "    h = (b-a)/(Npts-1)\n",
    "    \n",
    "    xi = a + np.arange(Npts)*h\n",
    "    yi = f(xi)\n",
    "    \n",
    "    pesos = wights(name)\n",
    "    cs = np.ones(Npts)*pesos[-1]\n",
    "    cs[0], cs[-1] = pesos[0], pesos[0]\n",
    "    \n",
    "    for i in range(1, len(pesos)-1):\n",
    "        pesoi, (ind0, jump) = pesos[i]\n",
    "        if info:\n",
    "            pesoi, (ind0, jump)\n",
    "        cs[ind0:-1:jump] = pesoi\n",
    "    \n",
    "    if info:\n",
    "        print(cs)\n",
    "        \n",
    "    contribs = cs*yi*h\n",
    "    return np.sum(contribs)"
   ]
  },
  {
   "cell_type": "code",
   "execution_count": 118,
   "metadata": {},
   "outputs": [],
   "source": [
    "def mainInteg(f, interv, Npts, name='simp1/3', info=False):\n",
    "    \"\"\" \n",
    "    f: it is the f(x) function\n",
    "    interv: the interval [a, b] that we used for integrate. Note that for rect, and centr, the interval it is [a, b)\n",
    "    Npts: numbers of point of the discretization\n",
    "    name: integration rules {'rect', 'trap', 'simp1/3', 'simp3/8', 'boole'}\n",
    "    \"\"\"\n",
    "    check1(name, Npts)\n",
    "    \n",
    "    if name in ['rect', 'ptoMed', 'trap']:\n",
    "        val = rect_trap(f, interv, Npts, name=name, info=info)\n",
    "    else:\n",
    "        val = simpsons(f, interv, Npts, name=name, info=info)\n",
    "    return val"
   ]
  },
  {
   "cell_type": "code",
   "execution_count": 129,
   "metadata": {},
   "outputs": [
    {
     "name": "stdout",
     "output_type": "stream",
     "text": [
      "===>  rect\n",
      "0.8842907340357442\n",
      "===>  ptoMed\n",
      "0.8813794796276012\n",
      "===>  trap\n",
      "0.8813618018476097\n",
      "===>  simp1/3\n",
      "0.8813735872550066\n",
      "===>  simp3/8\n",
      "0.8813735875085325\n",
      "===>  boole\n",
      "0.8813735870201473\n"
     ]
    }
   ],
   "source": [
    "def f(x):\n",
    "    return 1/np.sqrt(x**2+1)\n",
    "\n",
    "result = []\n",
    "\n",
    "interv = [0., 1.]\n",
    "Npts = 51\n",
    "\n",
    "for name in ('rect', 'ptoMed', 'trap', 'simp1/3'):\n",
    "    val = mainInteg(f, interv, Npts, name=name)\n",
    "    result.append([name, val])\n",
    "    print('===> ', name)\n",
    "    print(val)\n",
    "    \n",
    "Npts = 52\n",
    "for name in ('simp3/8', ):  # quitar la coma y ver que pasa\n",
    "    val = mainInteg(f, interv, Npts, name=name)\n",
    "    result.append([name, val])\n",
    "    print('===> ', name)\n",
    "    print(val)\n",
    "    \n",
    "Npts = 53\n",
    "for name in ('boole', ):\n",
    "    val = mainInteg(f, interv, Npts, name=name)\n",
    "    result.append([name, val])\n",
    "    print('===> ', name)\n",
    "    print(val)"
   ]
  },
  {
   "cell_type": "markdown",
   "metadata": {},
   "source": [
    "Como saben la respuesta a esta integral es \n",
    "$$\\int_{0}^{1} \\frac{1}{\\sqrt{x^2+1}}=-\\ln(\\sqrt{x^2+1}-1)\\bigg|_{0}^{1}=Arsinh(x)\\bigg|_{0}^{1}=0.881373587019543-0=0.881373587019543$$"
   ]
  },
  {
   "cell_type": "code",
   "execution_count": 130,
   "metadata": {},
   "outputs": [
    {
     "name": "stdout",
     "output_type": "stream",
     "text": [
      "===>  rect\n",
      "0.0029171470162011603\n",
      "===>  ptoMed\n",
      "5.892608058166715e-06\n",
      "===>  trap\n",
      "1.178517193334283e-05\n",
      "===>  simp1/3\n",
      "2.354635375567682e-10\n",
      "===>  simp3/8\n",
      "4.889894045234655e-10\n",
      "===>  boole\n",
      "6.042943923034727e-13\n"
     ]
    }
   ],
   "source": [
    "truv = 0.881373587019543\n",
    "for i in result:\n",
    "    name, val = i\n",
    "    print('===> ', name)\n",
    "    print(abs(truv-val))"
   ]
  },
  {
   "cell_type": "markdown",
   "metadata": {},
   "source": [
    "Como se aprecia el método del `rectángulo` tiene un error absoluto del orden $10^{-3}$ (difiere en el tercer dígito), ahora bien para el método del `punto medio` si recuerdan el error era del orden de $h^2$, lo cual es concordante ya que su error absoluto es del orden $10^{-6}$ (recordar que usamos la misma $h$ para todos). Algo similar pasa con el método del `trapecio` (error $h^2$). Caso especial tienen los métodos de Simpson, los cuales como vimos tiene un error del orden $h^4, h^4, h^7$ respectivamente y en este caso son los que menor error tienen (notar que hay factores numéricos delante por eso no se cumple exactamente)."
   ]
  },
  {
   "cell_type": "markdown",
   "metadata": {},
   "source": [
    "`Ejercicio`:\n",
    "\n",
    "Calcule el número de iteraciones mínimas necesarias para resolver numericamente la integral \n",
    "$$\\int_{0}^{1} e^{-x^2} dx$$\n",
    "\n",
    "por el método del trapecio de tal forma que el error sea menor a $5\\times 10^{-5}$.\n"
   ]
  },
  {
   "cell_type": "markdown",
   "metadata": {},
   "source": [
    "`Tips`\n",
    "\n",
    "Sabemos que \n",
    "$$\n",
    "val = \\int_{a}^{b}f(x)dx=\\sum_{i=0}^{n-2}\\int_{x_i}^{x_{i+1}}f(x)dx\\approx \\frac{h}{2} f(x_0)+ h f(x_1)+ h f(x_2)+\\dots+ h f(x_{n-2})+\\frac{h}{2}f(x_{n-1})\n",
    "$$\n",
    "\n",
    "por tanto la cota superior del error ha de ser:\n",
    "$$\n",
    "\\bigg|val - \\int_{a}^{b}f(x)dx \\bigg|\\leq \\bigg|\\frac{(b-a)^3}{12 N^2} k \\bigg|\\leq 0.005\n",
    "$$\n",
    "donde $k$ es el máximo valor (o cota superior) que puede tomar $f''(\\psi)$. Notar que usamos el hecho de que $h=(b-a)/N$. Lo que sigue es calcular la cota $k$ y despejar $N$ de tal forma que satisfaga la condición. Comentarios $f''(x)=2e^{-x^2}(2x^2-1)$ lo que implica que el extremo superior está en $x=0 \\to k=2$ (se ha de analizar la función, y se nota que es creciente en el intervalor $[0, 1]$, y $f''(1)=2/e$ ). Finalmente llegaremos a que $N>5.8$, es decir, si tomo $N=6$ aseguro que el error absoluto respecto al valore real es menor que $0.005$. \n",
    "\n",
    "Veamos:\n",
    "\n",
    "La integral \n",
    "$$\n",
    "val(x) = \\int e^{-x^2}dx= \\frac{\\sqrt{\\pi}}{2}Erf(x)\n",
    "$$\n",
    "donde $Erf(x)$ es la función error. Para el intervalor $[0, 1]$ tendremos que $val\\approx 0.7468241328124234$. `Comentario:` si los límites fueran más menos el infinito, sería una forma de calcular el valor de $\\pi$."
   ]
  },
  {
   "cell_type": "code",
   "execution_count": 151,
   "metadata": {},
   "outputs": [
    {
     "name": "stdout",
     "output_type": "stream",
     "text": [
      "Valor =  0.7451194124361791 Error =  0.001704720376244362\n"
     ]
    },
    {
     "data": {
      "text/plain": [
       "True"
      ]
     },
     "execution_count": 151,
     "metadata": {},
     "output_type": "execute_result"
    }
   ],
   "source": [
    "# probemoslo\n",
    "f = lambda x: np.exp(-x**2)\n",
    "\n",
    "valtr = 0.7468241328124234\n",
    "interv = [0, 1]\n",
    "Npts = 6+1\n",
    "\n",
    "val = rect_trap(f, interv, Npts, name='trap')\n",
    "\n",
    "print('Valor = ', val, 'Error = ', abs(valtr-val))\n",
    "abs(valtr-val)<0.005"
   ]
  },
  {
   "cell_type": "code",
   "execution_count": null,
   "metadata": {},
   "outputs": [],
   "source": []
  },
  {
   "cell_type": "markdown",
   "metadata": {},
   "source": [
    "Esta parte final se centrará en la integración multidimensional, para la cual los métodos de Newton-Cotes e incluso de cuadratura gaussiana suelen ser demasiado ineficientes. Siendo necesario introducir la integración de Monte Carlo, también conocida como integración estocástica, que emplea números aleatorios"
   ]
  },
  {
   "cell_type": "markdown",
   "metadata": {},
   "source": []
  }
 ],
 "metadata": {
  "kernelspec": {
   "display_name": "base",
   "language": "python",
   "name": "python3"
  },
  "language_info": {
   "codemirror_mode": {
    "name": "ipython",
    "version": 3
   },
   "file_extension": ".py",
   "mimetype": "text/x-python",
   "name": "python",
   "nbconvert_exporter": "python",
   "pygments_lexer": "ipython3",
   "version": "3.11.4"
  }
 },
 "nbformat": 4,
 "nbformat_minor": 2
}

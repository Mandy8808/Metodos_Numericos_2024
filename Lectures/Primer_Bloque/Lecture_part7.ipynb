{
 "cells": [
  {
   "cell_type": "code",
   "execution_count": 1,
   "metadata": {},
   "outputs": [],
   "source": [
    "import numpy as np\n",
    "import matplotlib.pyplot as plt"
   ]
  },
  {
   "cell_type": "markdown",
   "metadata": {},
   "source": [
    "# `Segundo Bloque`\n",
    "\n",
    "## Nociones de estadísticas\n",
    "- Fitting. Regresión lineal de los Mínimos al cuadrado (Linear Least-Squares Fitting)\n",
    "    - Estadística del método Chi Squared\n",
    "    - Fit de la linea recta\n",
    "        - Parámetros de estimación y variancia\n",
    "    - Fit para una función normal\n",
    "        - Función normal\n",
    "- Inferencia estadística lineal\n",
    "    - Enfoque de máxima verosimilitud (Maximum-Likelihood Approach)\n",
    "    - Regla de Bayes\n",
    "- Fitting. Regresión No lineal de los Mínimos al cuadrado (Non-Linear Least-Squares Fitting)\n",
    "    - Método de Gauss-Newton\n",
    "    - Redes Neuronales (Artificial Neural Networks)"
   ]
  },
  {
   "cell_type": "markdown",
   "metadata": {},
   "source": [
    "## Fitting. Regresión lineal de los Mínimos al Cuadrado\n",
    "\n",
    "Como fue comentado en la conferencia de interpolación, existe un método que aunque no pasa por todo el conjunto de pares de puntos $(x_j, y_j)$ es capaz de capturar la información codificada en los datos. \n",
    "\n",
    "¿Cuándo debemos usar esta metodología?\n",
    "\n",
    "La situación más usual es cuando no podemos creer ciegamente en los datos. Es decir, cuando punto de los datos tiene una incertidumbre de entrada asociada $\\sigma_j \\to y_j\\pm \\sigma_j$. En este caso no hemos de exigir que nuestra función aproximada $p(x)$ pase por todos los datos, sino que se intentará encontrar una que sea capaz de capturar el comportamiento de estos (incluyendo su errores asociados). Ahora, como imaginarán existen infinitas opciones para la funcion aproximada $p(x)$, sin embargo usualmente los datos tienen un modelo teórico de fondo el cual tiene ciertos parámetros libres que serían los que ajustaríamos. En el caso que no se conozca dicho modelo, pues pensando un poco en la serie de Taylor se propone un polinomio de $x$, cuyos parámetros libres serían los respectivos coeficientes. IMPORTANTE, en este último caso, se ha de escoger un polinomio de bajo grado, ya que cuanto mayor sea el grado, mayor será el número de parámetros indeterminados: ya que NO confiamos plenamente en los datos de entrada, no queremos capturar la *dispersión* (scatter), sino sólo la tendencia subyacente en los datos.\n",
    "\n",
    "<center><img src=\"capturas/223.png\"></center>"
   ]
  },
  {
   "cell_type": "markdown",
   "metadata": {},
   "source": [
    "### Estadística del método Chi Squared\n",
    "\n",
    "Consideremos una expansión de nuestra aproximación $p(x)$ de la forma:\n",
    "$$\n",
    "p(x)=\\sum_{k=0}^{n-1} c_k \\phi_k(x)\n",
    "$$\n",
    "donde $c_k$ serían los coeficientes y $ \\phi_k(x)$ las funciones bases las cuales pueden ser o no polinomalies (recordar lo visto en la conferencia de interpolación). Como se aprecia, este es un problema **lineal** en el sentido de que la función de aproximación $p(x)$ es una combinación lineal de los coeficientes $c_k$. A esta función de aproximación en el contexto de Chi Squared le llamaremos **teoría o modelo**.\n",
    "\n",
    "\n",
    "`Otra particularidad (diferencia)` que se tiene con respecto a la interpolación, es que SIEMPRE tendremos más datos que parámetros libres del modelo (aún cuando usemos un polinomio), es decir $N>n$."
   ]
  },
  {
   "cell_type": "markdown",
   "metadata": {},
   "source": [
    "`IMPORTANTE:` Si seguimos la misma idea de la interpolación donde usamos los $N$ datos para encontrar los $n$ parámetros libres, entonces estaríamos ante un sistema sobre-determinado, es decir $\\Phi C = y$\n",
    "\n",
    "<center><img src=\"capturas/224.png\"></center>\n",
    "\n",
    "Notar que los datos $y_j$ se agrupan en un vector de columna de dimensión $N \\times 1$, $\\Phi$ es una matriz de $N \\times n$ y estaríamos resolviendo el vector de columna $C$ de $n \\times 1$ dimension.\n",
    "\n",
    "Como se puede ver, el sistema no se puede resolver (comparar vectores columnas), e incluso si pudiera, sabemos que nuestros valores $y_j$ adolecen de errores, los cuales no están *capturados*.\n",
    "\n",
    "`¿QUÉ HACER?`\n",
    "\n",
    "Para abordar este sistema sobredeterminado y capturar la información del error lo que haremos es `intentar miminizar la norma del vector residual` (recuerden que miminizar es equivalente a encontrar un extremo), es decir\n",
    "$$\n",
    "\\min ||\\Phi C-y||\n",
    "$$\n",
    "donde la norma usada sería la [Euclideana](https://es.wikipedia.org/wiki/Norma_vectorial), $||(x_1, \\dots, x_n)||=\\sqrt{x_1^2+\\dots+x_n^2}$. Notar que decimos residual puesto que estamos encontrando la resta. En otras palabras: `encontraremos los valores para` $c_j$ `capaces de darnos el resultado (para esta diferencia) más cercano a cero`."
   ]
  },
  {
   "cell_type": "markdown",
   "metadata": {},
   "source": [
    "Vale, hasta acá todo parece lógico, sin embargo, `¿dónde entran las incertidumbres en de los datos?`. Por lo visto hasta ahora nuestro resultado dependerá de la base usada y de los datos de entrada, no de sus errores asociados. Por otro lado, supongamos la siguiente situación:\n",
    "\n",
    "*Consideremos que algunos de los datos de entrada tienen grandes incertidumbres y tal vez también parezcan mostrar un comportamiento diferente al resto. Uno esperaría que la metodología desarrollada fuera capaz de ponderar los puntos con mayor incertidumbre diferente al resto, es decir, no deberían afectar nuestra aproximación final tanto como los puntos que se midieron con mucha más precisión.*\n",
    "\n",
    "Bueno, la metodología capaz de capturar la incertidumbre $\\sigma_j$ y ponderarla de forma correcta es la llamada estadística chi-cuadrado (estadística porque es función de los datos), la cual consiste en minimizar la función:\n",
    "$$\n",
    "\\chi^2=\\sum_{j=0}^{N-1}\\left(\\frac{y_j-p(x_j)}{\\sigma_j}\\right)^2\n",
    "$$\n",
    "\n",
    "donde $x_j, y_j$ son las variables independiente y dependiente respectivamente. Nótese que la suma se realiza sobre todos los datos $N$ y que aproxima a la función $p(x)$ dependiendo implícitamente de los parámetros $c_k$. Además se logra lo solicitado, **cuando la incertidumbre de una entrada dada es grande, la contribución de ese término a la suma es pequeña, como debería ser.** \n",
    "\n",
    "`¿Ya notan por qué el nombre de mínimos cuadrados?`  De la ecuación se aprecia que miminizaremos $\\chi^2$, que no es más que la distancia entre la teoría $p(x_j)$ y los datos $y_j$, ponderada por el tamaño de la barra de error en los últimos."
   ]
  },
  {
   "cell_type": "markdown",
   "metadata": {},
   "source": [
    "Bueno, procedamos a miminizar la función respecto a los parámetros libres $c_k$, es decir computemos $\\partial \\chi^2/\\partial c_k$:\n",
    "<center><img src=\"capturas/225.png\"></center>\n",
    "\n",
    "`Comentarios`:\n",
    "- El índice $k=0,1, \\dots, n-1$.\n",
    "- Al tomar la derivada parcial $\\partial p(x_j)/\\partial c_k$ consideramos *fijos* a $x_j, y_j$.\n",
    "- Si asumimos que la función de aproximación $p(x)$ es lineal en las $c_k$ (tiene la estructura comentada inicialmente), tendremos que estas derivadas pueden tomarse de manera trivial."
   ]
  },
  {
   "cell_type": "markdown",
   "metadata": {},
   "source": [
    "Más adelante profundizaremos en algunas cuestiones estadísticas del resultado anterior. Por ahora centrémosno en como comparar diferentes teorías. Como vimos miminizar la $\\chi^2$ nos dice como encontrar las mejores $c_k$ para una teoría dada, sin embargo, ¿qué pasa si la teoría es incorrecta? Pues en este caso el proceso de miminización de mínimos al cuadrado te dará los *mejores* valores, sin embargo el resultado puede seguir siendo inadecuado. Algo que puede notarse al graficar el resultado.\n",
    "\n",
    "En la práctica si asumimos que los errores se distribuyen normalmente (luego veremos a que nos referimos con esto), si el mínimo de $\\chi^2$ es muy grande, de la propia definición se puede apreciar que no se puede obtener un $p(x)$ que se acerque a los puntos de los datos. Lo cual puede estar asociado a un error en el modelo. Por el contrario, si el mínimo de $\\chi^2\\approx 0$, tendremos que la curva teórica esencialmente pasaría por los datos, lo cual indicaría que el modelo teórico es bueno. `¿cierto?`\n",
    "\n",
    "Pues bueno, nada es en blanco y negro, depende de otros factores. \n",
    "- Por ejemplo, si a la hora de obtener los datos, sus respectivos $\\sigma_j$ fueron subestimados (es decir, en realidad son muchos más grandes), en este caso puede que el modelo que parecía malo en principio no lo sea. \n",
    "- Otro ejemplo es que tener un modelo con $\\chi^2\\approx 0$ no siempre es un buen resultado. Puede ocurrir que tengamos demasiados parámetros libres y lo que esté ocurriendo es un *sobreajuste* (overfitting), es decir, estamos capturando la dispersión aleatoria en los datos y no su comportamiento. \n",
    "- Otro ejemplo es similar al primero, pero ahora pudieramos tener una sobreestimación de las $\\sigma_j$ (es decir, en realidad pudieran ser mucho más pequeños) y por tanto nuestro modelo no es el adecuado aún cuando nos de $\\chi^2\\approx 0$.\n",
    "\n",
    "`Entonces la pregunta sería:` ¿cómo interpretar si es un buen resultado o no, tener un valor *grande* o *pequeño* de $\\chi^2$?. \n",
    "\n",
    "Pues como regla general se suele considerar como buen fit sí, $\\chi^2\\approx N-n$. Si recuerdan de lo visto en clases, **la diferencia entre el número de puntos de datos y el número de parámetros**, $N − n$, `se conoce como número de grados de libertad`. Por lo tanto, `la regla general se puede reformular diciendo que un ajuste no es demasiado bueno, ni demasiado malo si el chi-cuadrado entre los grado de libertad sea aproximadamente uno.`\n",
    "\n",
    "\n",
    "`Comentario:` En el caso en que no contemos con los errores $\\sigma_j$, podemos asumir que todos son iguales, y la regla general seguirá siendo un buen criterio, y una vez que tengamos el valor de $\\chi^2$, usaríamos la expresión:\n",
    "$$\n",
    "\\chi^2=\\sum_{j=0}^{N-1}\\left(\\frac{y_j-p(x_j)}{\\sigma_j}\\right)^2\n",
    "$$\n",
    "para encontrar el $\\sigma$ asumido. Es cierto que esto no te ayuda a comprobar qué tan bien se hizo el ajuste, ya que se asume que fue el mejor, sin embargo es una buena forma de proceder cuando no se cuenta con el error."
   ]
  },
  {
   "cell_type": "markdown",
   "metadata": {},
   "source": [
    "### Fit de la linea recta\n",
    "\n",
    "A continuación vemos como aplicar todo lo anterior a un modelo sencillo, la linea recta:\n",
    "$$\n",
    "p(x)=c_0+c_1 x\n",
    "$$\n",
    "\n",
    "Consideremos que tenemos $N$ datos tipo $(x_j, y_j)$, con sus respectivos $\\sigma_j$. Si evaluamos en la teoría de chi-cuadrado tendremos\n",
    "<center><img src=\"capturas/226.png\"></center>\n",
    "\n",
    "donde tendremos que determinar el mejor valor para $c_0, c_1$. Para ello haremos uso de algunas herramientas estadísticas."
   ]
  },
  {
   "cell_type": "markdown",
   "metadata": {},
   "source": [
    "#### Parámetros de estimación y variancia\n",
    "\n",
    "Si miminizamos la función anterior tendremos que:\n",
    "<center><img src=\"capturas/227.png\"></center>\n",
    "\n",
    "donde como se aprecia apareción un delta en la derivación. A continuación podemos podemos dividir cada numerador en tres términos y expresar las dos ecuaciones anteriores como:\n",
    "<center><img src=\"capturas/229.png\"></center>\n",
    "\n",
    "donde hemos hecho uso de:\n",
    "<center><img src=\"capturas/228.png\"></center>\n",
    "\n",
    "Nótese que todas las nuevas variables se expresan en términos de cantidades conocidas, lo que significa que se pueden calcular a partir de los datos. El sistema anterior se puede expresar de forma matricial como\n",
    "<center><img src=\"capturas/230.png\"></center>\n",
    "\n",
    "lo que nos lleva, luego de invertir la matriz a que los mejores valores (los que miminizan a $\\chi^2$) para las $c_k$ son:\n",
    "<center><img src=\"capturas/231.png\"></center>\n",
    "\n",
    "`notar` que las cantidades del lado derecho se pueden computar de los datos.\n",
    "\n",
    "Bueno, uno estaría tentado a pensar que ¡¡ya quedó!!, sin embargo, hemos pasado algo por alto. Tenemos errores $\\sigma_j$, ¿cierto? pues estos han de introducir una incertidumbre que se propagaría en el cálculo de las $c_k$, por ende debemos tener presente en nuestro resultado dicha propagación.\n",
    "\n",
    "Recordando lo visto en la conferencia de errores, partamos de suponer que los datos son independientes y por tanto la propagación sería de la forma  \n",
    "<center><img src=\"capturas/232.png\"></center>\n",
    "\n",
    "donde $g$ para nuestro caso será $c_0, c_1$. Computando las derivadas tendremos:\n",
    "<center><img src=\"capturas/233.png\"></center>\n",
    "\n",
    "Notar que se usó los resultados obtenidos para $c_0, c_1$. La primera ecuación nos ayuda a determinar $\\sigma^2_{c_0}$ y la segunda $\\sigma^2_{c_1}$. Sustituyendo estas en la expresión obtenida de propagar el error, se llega a:\n",
    "<center><img src=\"capturas/234.png\"></center>\n",
    "\n",
    "Estas son las variaciones en las estimaciones de nuestros dos parámetros. Para calcular las desviaciones estándar, se tendrña  que sacar la(s) raíz(es) cuadrada(s)."
   ]
  },
  {
   "cell_type": "code",
   "execution_count": 10,
   "metadata": {},
   "outputs": [],
   "source": [
    "# implementación\n",
    "\n",
    "# calculando las funciones abreviada de los datos\n",
    "def funcionesSAbrev(dataxs, datays, datasigs):\n",
    "    Sf = np.sum(1/datasigs**2)\n",
    "    Sxf = np.sum(dataxs/datasigs**2)\n",
    "    Syf = np.sum(datays/datasigs**2)\n",
    "    Sxxf = np.sum(dataxs**2/datasigs**2)\n",
    "    Sxyf = np.sum(dataxs*datays/datasigs**2)\n",
    "    Triangf = Sf*Sxxf - Sxf**2\n",
    "    return Sf, Sxf, Syf, Sxxf, Sxyf, Triangf\n",
    "\n",
    "# calculando los coeficientes ck\n",
    "def computecs(dataxs, datays, datasigs):\n",
    "    \n",
    "    # calculando las funciones abreviadas\n",
    "    Sf, Sxf, Syf, Sxxf, Sxyf, Triangf = funcionesSAbrev(dataxs, datays, datasigs)\n",
    "    \n",
    "    # calculando los coeficientes\n",
    "    cs = np.zeros(2)  # mejor ajuste\n",
    "    sigcs = np.zeros(2)  # desviación estandar\n",
    "    \n",
    "    cs[0] = (Sxxf*Syf - Sxf*Sxyf)/Triangf\n",
    "    cs[1] = (Sf*Sxyf - Sxf*Syf)/Triangf\n",
    "    sigcs[0] = np.sqrt(Sxxf/Triangf)  # recordar que Sxxf/Triangf es la varianza\n",
    "    sigcs[1] = np.sqrt(Sf/Triangf)\n",
    "    return cs, sigcs\n",
    "\n",
    "def chisqf(dataxs, datays, datasigs, cs):\n",
    "    chisq = np.sum((datays-cs[0]-cs[1]*dataxs)**2/datasigs**2)\n",
    "    return chisq"
   ]
  },
  {
   "cell_type": "code",
   "execution_count": 15,
   "metadata": {},
   "outputs": [
    {
     "name": "stdout",
     "output_type": "stream",
     "text": [
      "El mejor ajuste es: c0 =3.0459, c1=0.5189\n",
      "Las respectivas desviaciones estandar son: [0.02927752 0.04896135]\n",
      "\n",
      "El valor para \\chi^2 es  4.396672782174086\n",
      "El valor para \\chi^2 por grado de libertad es:  1.0991681955435215\n"
     ]
    }
   ],
   "source": [
    "# ejemplo\n",
    "dataxs = np.linspace(0, 1, 6)  \n",
    "datays = np.array([3.085, 3.123, 3.224, 3.360, 3.438, 3.569])\n",
    "datasigs = np.array([0.048, 0.053, 0.02, 0.005, 0.023, 0.07])\n",
    "\n",
    "# obteniendo las ck\n",
    "cs, dcs = computecs(dataxs, datays, datasigs)\n",
    "\n",
    "print('El mejor ajuste es: c0 =%5.4f, c1=%5.4f'%(cs[0], cs[1]))\n",
    "print('Las respectivas desviaciones estandar son:', dcs)\n",
    "\n",
    "# calculando el valor de chi^2\n",
    "chisq = chisqf(dataxs, datays, datasigs, cs)\n",
    "\n",
    "print()\n",
    "print('El valor para \\chi^2 es ', chisq)  # notar que este valor no es muy cercano a 0, pero al usar la regla general nos da algo decente\n",
    "print('El valor para \\chi^2 por grado de libertad es: ', chisq/(dataxs.size - cs.size))  # notemos como está cercano a 1, lo cual es un fit decente"
   ]
  },
  {
   "cell_type": "code",
   "execution_count": 34,
   "metadata": {},
   "outputs": [
    {
     "data": {
      "text/plain": [
       "Text(0, 0.5, 'y')"
      ]
     },
     "execution_count": 34,
     "metadata": {},
     "output_type": "execute_result"
    },
    {
     "data": {
      "image/png": "[encoded data removed]",
      "text/plain": [
       "<Figure size 640x480 with 1 Axes>"
      ]
     },
     "metadata": {},
     "output_type": "display_data"
    }
   ],
   "source": [
    "model = lambda x, c0, c1: c0 + c1*x\n",
    "xval = np.linspace(min(dataxs)-0.1, max(dataxs)+0.1, 50) \n",
    "\n",
    "fig, ax = plt.subplots()\n",
    "ax.errorbar(dataxs, datays, xerr=None, yerr=datasigs, capsize=5, ls='', marker='o', mfc='white', ms=5, mew=1, label=r'Datos')\n",
    "ax.plot(xval, model(xval, *cs), ls='-', lw=1, c='k', label=r'Mejor ajuste')\n",
    "ax.fill_between(xval, model(xval, *(cs+dcs)), model(xval, *(cs-dcs)), color='gray', alpha=0.5)\n",
    "ax.legend(frameon=False)\n",
    "\n",
    "ax.set_xlabel('x')\n",
    "ax.set_ylabel('y')"
   ]
  },
  {
   "cell_type": "code",
   "execution_count": null,
   "metadata": {},
   "outputs": [],
   "source": []
  }
 ],
 "metadata": {
  "kernelspec": {
   "display_name": "base",
   "language": "python",
   "name": "python3"
  },
  "language_info": {
   "codemirror_mode": {
    "name": "ipython",
    "version": 3
   },
   "file_extension": ".py",
   "mimetype": "text/x-python",
   "name": "python",
   "nbconvert_exporter": "python",
   "pygments_lexer": "ipython3",
   "version": "3.11.4"
  }
 },
 "nbformat": 4,
 "nbformat_minor": 2
}

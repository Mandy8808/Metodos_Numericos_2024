{
 "cells": [
  {
   "cell_type": "code",
   "execution_count": null,
   "metadata": {},
   "outputs": [],
   "source": []
  },
  {
   "cell_type": "markdown",
   "metadata": {},
   "source": [
    "# `Primer Bloque`\n",
    "\n",
    "Soluciones de ecuaciones de una variable\n",
    "- Método de bisección\n",
    "- Iteración del punto fijo\n",
    "- Método de Newton\n",
    "- Método de la secante (v1)\n",
    "- Método de la secante (v2)"
   ]
  },
  {
   "cell_type": "markdown",
   "metadata": {},
   "source": [
    "Si una ecuación algebráica es relativamente complicada, no resulta posible por lo general hallar raíces exactas, por ejemplo:\n",
    "\n",
    "$$x^3+4x^2+1.4x=3.2$$\n",
    "\n",
    "Es más, en algunos casos las ecuaciones tienen coeficientes conocidos sólo de forma aproximada, y por tanto, carece de sentido tratar de hallar las raíces exactas de la ecuación. Por consiguiente, adquieren particular importancia los procedimientos de cálculo aproximado de raíces de una ecuación así como la estimación de su grado de exactitud."
   ]
  },
  {
   "cell_type": "markdown",
   "metadata": {},
   "source": [
    "## El método de bisección\n",
    "\n"
   ]
  },
  {
   "cell_type": "markdown",
   "metadata": {},
   "source": [
    "<img src=\"capturas/4.png\">"
   ]
  },
  {
   "cell_type": "markdown",
   "metadata": {},
   "source": [
    "<img src=\"capturas/5.png\">"
   ]
  },
  {
   "cell_type": "markdown",
   "metadata": {},
   "source": [
    "Esquemáticamente lo que estaríamos haciendo es lo siguiente:\n",
    "\n",
    "<center><img src=\"capturas/6.png\"></center>"
   ]
  },
  {
   "cell_type": "markdown",
   "metadata": {},
   "source": [
    "#### Algoritmo \n",
    "\n",
    "<img src=\"capturas/7.png\">"
   ]
  },
  {
   "cell_type": "markdown",
   "metadata": {},
   "source": [
    "<img src=\"capturas/8.png\">"
   ]
  },
  {
   "cell_type": "code",
   "execution_count": 35,
   "metadata": {},
   "outputs": [],
   "source": [
    "import numpy as np\n",
    "import sys\n",
    "import Module as mod"
   ]
  },
  {
   "cell_type": "code",
   "execution_count": 32,
   "metadata": {},
   "outputs": [],
   "source": [
    "# Posible Implementación \n",
    "def Bis(f, inter, Nit, error, eps):\n",
    "    a, b = min(inter), max(inter)\n",
    "    \n",
    "    # p0 \n",
    "    p0 = (a + b)/2\n",
    "    sig = mod.SigInt(f, [a, p0]) \n",
    "    if sig>0:\n",
    "        a = p0\n",
    "    else:\n",
    "        b = p0\n",
    "    \n",
    "    # p\n",
    "    for i in range(Nit):\n",
    "        pi = (a + b)/2\n",
    "        epsi = mod.errorDic(error)(a, b) if error=='dist' else mod.errorDic(error)(pi, p0)\n",
    "        if abs(epsi)<=eps or f(pi)==0:\n",
    "            root = pi\n",
    "            break\n",
    "        \n",
    "        sig = mod.SigInt(f, [a, p0])\n",
    "        \n",
    "        \n",
    "    return root\n",
    "    \n",
    "    \n",
    "\n",
    "def roo_Bis(f, inter, Nit=1000, error='dist', eps=1e-05, Ndiv=100):\n",
    "    \"\"\"\n",
    "    error -> 'dist', 'abs', 'rel', 'relMax'\n",
    "    \"\"\"\n",
    "    if not check1(f, inter):\n",
    "        sys.exit(\"Revise los parámetros dados\")\n",
    "    \n",
    "    interF = Findinterv(f, inter, Ndiv=Ndiv)\n",
    "    if len(interF)==0:\n",
    "        answ = None\n",
    "    else:\n",
    "        \n",
    "    \n",
    "    \n",
    "    return\n",
    "    "
   ]
  },
  {
   "cell_type": "code",
   "execution_count": 33,
   "metadata": {},
   "outputs": [
    {
     "data": {
      "text/plain": [
       "[[-1.1111111111111107, -0.9090909090909101]]"
      ]
     },
     "execution_count": 33,
     "metadata": {},
     "output_type": "execute_result"
    }
   ],
   "source": [
    "f = lambda x: x**3+2*x+3\n",
    "inter = [10, -10]\n",
    "check2(f, inter, Ndiv=100)"
   ]
  },
  {
   "cell_type": "code",
   "execution_count": 27,
   "metadata": {},
   "outputs": [
    {
     "name": "stdout",
     "output_type": "stream",
     "text": [
      "0.43050338091659945 1.232359303678555 True\n"
     ]
    },
    {
     "data": {
      "text/plain": [
       "-1"
      ]
     },
     "execution_count": 27,
     "metadata": {},
     "output_type": "execute_result"
    }
   ],
   "source": [
    "rootInt(f, [-0.9090909090909101, -0.7070707070707076])"
   ]
  },
  {
   "cell_type": "code",
   "execution_count": 29,
   "metadata": {},
   "outputs": [
    {
     "data": {
      "text/plain": [
       "True"
      ]
     },
     "execution_count": 29,
     "metadata": {},
     "output_type": "execute_result"
    }
   ],
   "source": [
    "0.43050338091659945*1.232359303678555 <1"
   ]
  },
  {
   "cell_type": "code",
   "execution_count": null,
   "metadata": {},
   "outputs": [],
   "source": []
  }
 ],
 "metadata": {
  "kernelspec": {
   "display_name": "base",
   "language": "python",
   "name": "python3"
  },
  "language_info": {
   "codemirror_mode": {
    "name": "ipython",
    "version": 3
   },
   "file_extension": ".py",
   "mimetype": "text/x-python",
   "name": "python",
   "nbconvert_exporter": "python",
   "pygments_lexer": "ipython3",
   "version": "3.11.4"
  }
 },
 "nbformat": 4,
 "nbformat_minor": 2
}

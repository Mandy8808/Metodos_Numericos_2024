{
 "cells": [
  {
   "cell_type": "code",
   "execution_count": null,
   "metadata": {},
   "outputs": [],
   "source": []
  },
  {
   "cell_type": "markdown",
   "metadata": {},
   "source": [
    "# `Primer Bloque`\n",
    "\n",
    "Soluciones de ecuaciones de una variable\n",
    "- Método de bisección\n",
    "- Iteración del punto fijo\n",
    "- Método de Newton\n",
    "- Método de la secante (v1)\n",
    "- Método de la secante (v2)"
   ]
  },
  {
   "cell_type": "markdown",
   "metadata": {},
   "source": [
    "Si una ecuación algebráica es relativamente complicada, no resulta posible por lo general hallar raíces exactas, por ejemplo:\n",
    "\n",
    "$$x^3+4x^2+1.4x=3.2$$\n",
    "\n",
    "Es más, en algunos casos las ecuaciones tienen coeficientes conocidos sólo de forma aproximada, y por tanto, carece de sentido tratar de hallar las raíces exactas de la ecuación. Por consiguiente, adquieren particular importancia los procedimientos de cálculo aproximado de raíces de una ecuación así como la estimación de su grado de exactitud."
   ]
  },
  {
   "cell_type": "markdown",
   "metadata": {},
   "source": [
    "## El método de bisección"
   ]
  },
  {
   "cell_type": "markdown",
   "metadata": {},
   "source": [
    "<img src=\"capturas/4.png\">"
   ]
  },
  {
   "cell_type": "markdown",
   "metadata": {},
   "source": [
    "<img src=\"capturas/5.png\">"
   ]
  },
  {
   "cell_type": "markdown",
   "metadata": {},
   "source": [
    "Esquemáticamente lo que estaríamos haciendo es lo siguiente:\n",
    "\n",
    "<center><img src=\"capturas/6.png\"></center>"
   ]
  },
  {
   "cell_type": "markdown",
   "metadata": {},
   "source": [
    "`Algoritmo`\n",
    "\n",
    "<img src=\"capturas/7.png\">"
   ]
  },
  {
   "cell_type": "markdown",
   "metadata": {},
   "source": [
    "<img src=\"capturas/8.png\">"
   ]
  },
  {
   "cell_type": "code",
   "execution_count": 1,
   "metadata": {},
   "outputs": [],
   "source": [
    "import numpy as np\n",
    "import Module as mod\n",
    "import matplotlib.pyplot as plt"
   ]
  },
  {
   "cell_type": "code",
   "execution_count": 16,
   "metadata": {},
   "outputs": [
    {
     "data": {
      "text/plain": [
       "(-5.0, 5.0)"
      ]
     },
     "execution_count": 16,
     "metadata": {},
     "output_type": "execute_result"
    },
    {
     "data": {
      "image/png": "[encoded data removed]",
      "text/plain": [
       "<Figure size 640x480 with 1 Axes>"
      ]
     },
     "metadata": {},
     "output_type": "display_data"
    }
   ],
   "source": [
    "f = lambda x: x**3+4*x**2-10\n",
    "inter = [-10, 10]\n",
    "sol = mod.roo_Bis(f, inter)\n",
    "\n",
    "xval = np.linspace(inter[0], inter[1], 1000)\n",
    "plt.plot(sol, [0]*len(sol), marker='o', label=r'%s'%sol)\n",
    "plt.plot(xval, f(xval))\n",
    "plt.hlines(y=0, xmin=inter[0]-1, xmax=inter[1], ls='--', lw=1, color='k')\n",
    "plt.legend(frameon=False)\n",
    "plt.ylim(-5, 5)\n",
    "plt.xlim(-5, 5)"
   ]
  },
  {
   "cell_type": "markdown",
   "metadata": {},
   "source": [
    "Veámoslo analítico:\n",
    "\n",
    "<img src=\"capturas/9.png\">"
   ]
  },
  {
   "cell_type": "markdown",
   "metadata": {},
   "source": [
    "<center><img src=\"capturas/14.png\"></center>"
   ]
  },
  {
   "cell_type": "markdown",
   "metadata": {},
   "source": [
    "<img src=\"capturas/10.png\">"
   ]
  },
  {
   "cell_type": "markdown",
   "metadata": {},
   "source": [
    "<img src=\"capturas/12.png\">"
   ]
  },
  {
   "cell_type": "markdown",
   "metadata": {},
   "source": [
    "<img src=\"capturas/13.png\">"
   ]
  },
  {
   "cell_type": "markdown",
   "metadata": {},
   "source": [
    "`Conclusion`\n",
    "\n",
    "<img src=\"capturas/11.png\">"
   ]
  },
  {
   "cell_type": "markdown",
   "metadata": {},
   "source": [
    "### Tarea\n",
    "- Crees su propio algoritmo de Biseccción de tal forma que (puede guiarse por el presentado en `Module.py`):\n",
    "    - sea capaz de obtener todas las raices reales de la ecuación\n",
    "    - el usuario pueda modificar todos los parámetros tales como $\\epsilon$, número de iteraciones, etc.\n",
    "    - el código debe ser capaz de calcular el número de iteraciones mínimas para cumplir la condición $\\epsilon$.\n",
    "    - el usuario puede incluir un sistema de al menos dos ecuaciones (`proyecto final`)"
   ]
  },
  {
   "cell_type": "code",
   "execution_count": null,
   "metadata": {},
   "outputs": [],
   "source": []
  },
  {
   "cell_type": "markdown",
   "metadata": {},
   "source": [
    "## Iteración del punto fijo"
   ]
  },
  {
   "cell_type": "markdown",
   "metadata": {},
   "source": [
    "<img src=\"capturas/15.png\">"
   ]
  },
  {
   "cell_type": "markdown",
   "metadata": {},
   "source": [
    "<center><img src=\"capturas/16.png\"><\\center>"
   ]
  },
  {
   "cell_type": "markdown",
   "metadata": {},
   "source": [
    "<img src=\"capturas/18.png\">         <img src=\"capturas/17.png\">"
   ]
  },
  {
   "cell_type": "markdown",
   "metadata": {},
   "source": [
    "Entendamos mejor a que llamamos punto fijo:\n",
    "\n",
    "- Ejemplo\n",
    "\n",
    "<img src=\"capturas/19.png\">"
   ]
  },
  {
   "cell_type": "markdown",
   "metadata": {},
   "source": [
    "Entonces, `cuándo` una función tiene un punto fijo:\n",
    "\n",
    "<img src=\"capturas/20.png\">"
   ]
  },
  {
   "cell_type": "markdown",
   "metadata": {},
   "source": [
    "Ejemplo:\n",
    "\n",
    "<img src=\"capturas/21.png\">"
   ]
  },
  {
   "cell_type": "markdown",
   "metadata": {},
   "source": [
    "`Discretizando`\n",
    "\n",
    "<img src=\"capturas/22.png\">"
   ]
  },
  {
   "cell_type": "markdown",
   "metadata": {},
   "source": [
    "<center><img src=\"capturas/23.png\"></center>"
   ]
  },
  {
   "cell_type": "markdown",
   "metadata": {},
   "source": [
    "`Algoritmo`\n",
    "\n",
    "<img src=\"capturas/24.png\">"
   ]
  },
  {
   "cell_type": "markdown",
   "metadata": {},
   "source": [
    "<img src=\"capturas/25.png\">"
   ]
  },
  {
   "cell_type": "markdown",
   "metadata": {},
   "source": [
    "<img src=\"capturas/26.png\">\n",
    "\n",
    "<img src=\"capturas/27.png\">"
   ]
  },
  {
   "cell_type": "markdown",
   "metadata": {},
   "source": [
    "<img src=\"capturas/28.png\">\n",
    "\n",
    "<img src=\"capturas/29.png\">\n",
    "\n",
    "<img src=\"capturas/30.png\">"
   ]
  },
  {
   "cell_type": "markdown",
   "metadata": {},
   "source": [
    "<img src=\"capturas/31.png\">"
   ]
  },
  {
   "cell_type": "markdown",
   "metadata": {},
   "source": [
    "`Comentarios`\n",
    "\n",
    "<img src=\"capturas/32.png\">"
   ]
  },
  {
   "cell_type": "code",
   "execution_count": null,
   "metadata": {},
   "outputs": [],
   "source": [
    "# ejemplo del modulo"
   ]
  },
  {
   "cell_type": "markdown",
   "metadata": {},
   "source": [
    "## Tarea:\n",
    "- Programe el método de iteración del punto fijo \n",
    "- Compruebe su resultado con $f(x)=\\cos(x)-x$ en el intervalo [0.5, pi/2].\n",
    "- Compare con el método de bisección."
   ]
  },
  {
   "cell_type": "code",
   "execution_count": null,
   "metadata": {},
   "outputs": [],
   "source": []
  },
  {
   "cell_type": "markdown",
   "metadata": {},
   "source": [
    "## El método de Newton"
   ]
  },
  {
   "cell_type": "markdown",
   "metadata": {},
   "source": [
    "El método de Newton (o de Newton-Raphson) es uno de los métodos más eficientes y reconocidos para encontrar una raíz de una ecuación algebráica. Existen varias formas de presentar este método, sin embargo nos centraremos en la más usal y su interpretación gráfica."
   ]
  },
  {
   "cell_type": "markdown",
   "metadata": {},
   "source": [
    "`Analítico`\n",
    "\n",
    "<img src=\"capturas/33.png\">\n",
    "\n",
    "<img src=\"capturas/34.png\">\n",
    "\n",
    "<img src=\"capturas/36.png\">"
   ]
  },
  {
   "cell_type": "markdown",
   "metadata": {},
   "source": [
    "`Geométrico`\n",
    "\n",
    "<img src=\"capturas/35.png\">"
   ]
  },
  {
   "cell_type": "markdown",
   "metadata": {},
   "source": [
    "`Algoritmo`\n",
    "\n",
    "<img src=\"capturas/37.png\">"
   ]
  },
  {
   "cell_type": "markdown",
   "metadata": {},
   "source": [
    "<img src=\"capturas/38.png\">"
   ]
  },
  {
   "cell_type": "markdown",
   "metadata": {},
   "source": [
    "<img src=\"capturas/39.png\">"
   ]
  },
  {
   "cell_type": "code",
   "execution_count": null,
   "metadata": {},
   "outputs": [],
   "source": [
    "# ejemplo module"
   ]
  },
  {
   "cell_type": "code",
   "execution_count": null,
   "metadata": {},
   "outputs": [],
   "source": []
  },
  {
   "cell_type": "markdown",
   "metadata": {},
   "source": [
    "## El método de la secante (v1)"
   ]
  },
  {
   "cell_type": "markdown",
   "metadata": {},
   "source": [
    "`Analítico`\n",
    "\n",
    "<img src=\"capturas/40.png\">"
   ]
  },
  {
   "cell_type": "markdown",
   "metadata": {},
   "source": [
    "`Geométrico`\n",
    "\n",
    "<img src=\"capturas/41.png\">"
   ]
  },
  {
   "cell_type": "markdown",
   "metadata": {},
   "source": [
    "`Algoritmo`\n",
    "\n",
    "<img src=\"capturas/42.png\">"
   ]
  },
  {
   "cell_type": "markdown",
   "metadata": {},
   "source": [
    "Veamos un ejemplo:\n",
    "\n",
    "<img src=\"capturas/43.png\">"
   ]
  },
  {
   "cell_type": "code",
   "execution_count": null,
   "metadata": {},
   "outputs": [],
   "source": [
    "# ejemplo"
   ]
  },
  {
   "cell_type": "code",
   "execution_count": null,
   "metadata": {},
   "outputs": [],
   "source": []
  },
  {
   "cell_type": "markdown",
   "metadata": {},
   "source": [
    "## El método de la secante (v2)"
   ]
  },
  {
   "cell_type": "markdown",
   "metadata": {},
   "source": [
    "`La Idea`\n",
    "\n",
    "<img src=\"capturas/44.png\">\n",
    "\n",
    "<img src=\"capturas/45.png\">"
   ]
  },
  {
   "cell_type": "markdown",
   "metadata": {},
   "source": [
    "Si obtenemos la ecuación de la secante para el gráfico anterior tendremos que: \n",
    "\n",
    "<img src=\"capturas/46.png\">"
   ]
  },
  {
   "cell_type": "markdown",
   "metadata": {},
   "source": [
    "`Geométrico`\n",
    "\n",
    "<img src=\"capturas/47.png\">"
   ]
  },
  {
   "cell_type": "markdown",
   "metadata": {},
   "source": [
    "`Resumen`\n",
    "\n",
    "<img src=\"capturas/48.png\">\n",
    "\n",
    "Notar como en este caso no se solicita una \"semilla\". En la práctica estos métodos se utilizan para refinar la solución obtenida por el método de Bisección."
   ]
  },
  {
   "cell_type": "markdown",
   "metadata": {},
   "source": [
    "`Algoritmo`\n",
    "\n",
    "<img src=\"capturas/49.png\">"
   ]
  },
  {
   "cell_type": "markdown",
   "metadata": {},
   "source": [
    "Veamos un ejemplo:\n",
    "\n",
    "<img src=\"capturas/50.png\">"
   ]
  },
  {
   "cell_type": "code",
   "execution_count": null,
   "metadata": {},
   "outputs": [],
   "source": [
    "# algortimo"
   ]
  },
  {
   "cell_type": "code",
   "execution_count": null,
   "metadata": {},
   "outputs": [],
   "source": []
  },
  {
   "cell_type": "markdown",
   "metadata": {},
   "source": [
    "### Tarea\n",
    "- Crees su propio algoritmo para los métodos de Newton, Secante v1, v2 (puede guiarse por el presentado en `Module.py`):\n",
    "    - sea capaz de obtener todas las raices reales de la ecuación\n",
    "    - el usuario pueda modificar todos los parámetros tales como $\\epsilon$, número de iteraciones, etc.\n",
    "    - el código debe ser capaz de calcular el número de iteraciones mínimas para cumplir la condición $\\epsilon$.\n",
    "    - use como primera aproximación el método de Bisección.\n",
    "    - el usuario puede incluir un sistema de al menos dos ecuaciones (`proyecto final`)"
   ]
  },
  {
   "cell_type": "markdown",
   "metadata": {},
   "source": []
  }
 ],
 "metadata": {
  "kernelspec": {
   "display_name": "base",
   "language": "python",
   "name": "python3"
  },
  "language_info": {
   "codemirror_mode": {
    "name": "ipython",
    "version": 3
   },
   "file_extension": ".py",
   "mimetype": "text/x-python",
   "name": "python",
   "nbconvert_exporter": "python",
   "pygments_lexer": "ipython3",
   "version": "3.11.4"
  }
 },
 "nbformat": 4,
 "nbformat_minor": 2
}

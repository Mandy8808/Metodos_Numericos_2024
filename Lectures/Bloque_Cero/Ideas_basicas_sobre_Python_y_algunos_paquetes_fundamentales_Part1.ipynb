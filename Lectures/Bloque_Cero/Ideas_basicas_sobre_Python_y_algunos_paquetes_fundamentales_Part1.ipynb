{
 "cells": [
  {
   "cell_type": "code",
   "execution_count": null,
   "metadata": {},
   "outputs": [],
   "source": []
  },
  {
   "cell_type": "markdown",
   "metadata": {},
   "source": [
    "# `Bloque Cero`\n",
    "\n",
    "## Tema: Ideas básicas sobre Python y algunos paquetes fundamentales"
   ]
  },
  {
   "cell_type": "markdown",
   "metadata": {},
   "source": [
    "Aunque este no es un curso formal de [`Python`](https://www.python.org) este lenguaje será la herramienta que más utilizaremos para implementar el contenido que veremos en clase. Por tal motivo se dará una *breve* introducción a este lenguaje y los paquetes básicos más utilizados. Para profundizar en su apredizaje recomendamos las referencias del curso y adicionalmente:\n",
    "\n",
    "- Para Documentación y cursos oficiales consultar: https://www.python.org\n",
    "- Lectures-Scientific (tutorial de Python en el ambito científico): https://lectures.scientific-python.org\n",
    "- Scipy-Cookbook (algoritmos y códigos implementados): https://scipy-cookbook.readthedocs.io\n",
    "\n",
    "¿Qué veremos?\n",
    "- Entorno Jupyter\n",
    "- Resumen de las características de Python. ABC del entorno. Estructura de datos. Definición de funciones, etc.\n",
    "- Propiedades básicas de graficar con la librería `Matplotlib`.\n",
    "- El lenguaje `NumPy` (Numerical Python)\n",
    "- Opcional (en dependencia del tiempo), se verán otras librerías como `SciPy` (Scientific Python). Sinó durante el transcurso del curso se irán introduciendo.\n"
   ]
  },
  {
   "cell_type": "code",
   "execution_count": null,
   "metadata": {},
   "outputs": [],
   "source": []
  },
  {
   "cell_type": "markdown",
   "metadata": {},
   "source": [
    "#### ¿Por qué Python?\n",
    "\n",
    "¿Por qué no usar Fortran, C (o alguna versión de esta), JavaScript, etc.?\n",
    "\n",
    "Espero que al terminar este tema introductorio esten de acuerdo conmigo al afirmar que el lenguaje `Python` es simple e intuitivo, pero a la misma vez bastante ''poderoso''. Este lenguaje es esencialmente bueno porque no requiere muchas líneas repetitivas de código (definiciones de variables, espacios de memoria, alojamiento, etc.), por tal motivo, en ocasiones se le conoce como *seudo-código que se ejecuta*. Lo que algunos ven como desventaja, para nosotros es lo contrario, ya que permite aprenderlo sin tener que estudiar largos volumenes de información (a menos que se desee aprender profesionalmente). De hecho, es de destacar que sus sintaxis son razonablemente simple e intuitivas. Adicionalmente a todo lo anterior, este lenguaje cuenta con una serie de librerías externas que lo hacen muy versatil, a diferencia de lenguajes como `Fortran` o `$C++$` (o alguna versión) y es de código abierto.\n",
    "\n",
    "\n",
    "`IMPORTANTE:`\n",
    "Es necesario destacar que para implementación eficiente de ciertos códigos numéricos (simulaciones, etc.) estos dos últimos aventajan a `Python`. Sin embargo, dado la gran versatilidad de este, es usual que se utilice como interfaz y se ''conecte'' al programa principal escrito en un lenguaje más eficiente. Incluso, en otras ocasiones se realiza una primera versión del código en `Python` antes de expresarlo en otro lenguaje. En este punto es necesario señalar que existen librerías (ej. `Numba`) que han intentado mejorar la eficiencia del kernel, sin embargo, a mi criterio, aunque logran su objetivo se sacrifica la ''limpieza'' del código siendo más facil realizar el programa en lenguajes como `Fortran`, etc."
   ]
  },
  {
   "cell_type": "markdown",
   "metadata": {},
   "source": [
    "### Entorno Jupyter\n",
    "\n",
    "El entorno de [Jupyter](https://jupyter.org): cuaderno de Jupyter (jupyter-notebook) es una aplicación web de código abierto que le permite crear y compartir documentos que contienen código en `Python`, permitiendo visualizar textos enriquecido como: ecuaciones, enlaces, imágenes, tablas, etc. \n",
    "\n",
    "Para ''lanzarlo'' se puede usar la terminal y teclear la orden: **jupyter-notebook**\n",
    "\n",
    "<img src=\"capturas/terminal_jupyter.png\">\n",
    "\n",
    "Esto nos muestra en el navegador la siguiente ventana \n",
    "\n",
    "<img src=\"capturas/jupyter1.png\">\n",
    "\n",
    "Donde podremos crear nuestro notebook. \n",
    "\n",
    "Como formas alternativas se pueden usar:\n",
    "-  [`VisualStudioCodec`](https://code.visualstudio.com) con la extensión [Jupyter](https://marketplace.visualstudio.com/items?itemName=ms-toolsai.jupyter), \n",
    "- [`Google Colab`](https://colab.google),\n",
    "- o la terminal interactiva [`IPython`](https://ipython.org).\n",
    "\n",
    "Por completes, solo explicaremos el ABC de las funciones del entorno Jupyter de manera general."
   ]
  },
  {
   "cell_type": "markdown",
   "metadata": {},
   "source": [
    "## Entorno Jupyter\n",
    "\n",
    "Extensión\n",
    "\n",
    "- `jupyter`, extensión ''.ipynb''"
   ]
  },
  {
   "cell_type": "code",
   "execution_count": 3,
   "metadata": {},
   "outputs": [
    {
     "name": "stdout",
     "output_type": "stream",
     "text": [
      "Hola mundo\n"
     ]
    }
   ],
   "source": [
    "print('Hola mundo')  # IMPORTANTE EN PYTHON 2, NO SE PONE PARÉNTESIS"
   ]
  },
  {
   "cell_type": "markdown",
   "metadata": {},
   "source": [
    "- `Python` es ''.py''"
   ]
  },
  {
   "cell_type": "code",
   "execution_count": 1,
   "metadata": {},
   "outputs": [
    {
     "name": "stdout",
     "output_type": "stream",
     "text": [
      "Hola mundo\n"
     ]
    }
   ],
   "source": [
    "# ver ejemplo\n",
    "! python 'script/test.py'  # para ejecutar un script desde jupyter se puede usar ! python (dirección)"
   ]
  },
  {
   "cell_type": "markdown",
   "metadata": {},
   "source": [
    "Jupyter Entornos\n",
    "- Code\n",
    "- Markdown\n",
    "- Raw NBConvert\n",
    "- Heading\n",
    "\n",
    "Kernel, Cell, etc.\n",
    "\n",
    "<img src=\"capturas/jupyter2.png\">"
   ]
  },
  {
   "cell_type": "markdown",
   "metadata": {},
   "source": [
    "## Resumen de las características de Python."
   ]
  },
  {
   "cell_type": "markdown",
   "metadata": {},
   "source": [
    "### ABC del entorno\n",
    "\n",
    "A continuación comentaremos los elementos principales del entorno Python, más adelante se profundizará en alguno de ellos."
   ]
  },
  {
   "cell_type": "markdown",
   "metadata": {},
   "source": [
    "#### Incluye paquetes\n",
    "\n",
    "Python ha mantenido durante mucho tiempo esta filosofía de *baterías incluidas*, lo cual no es más que:\n",
    "\n",
    "- Tener una biblioteca estándar rica y versátil que está disponible de inmediato. Sin que el usuario descargue paquetes separados.\n",
    "\n",
    "Esto le da al lenguaje una ventaja en muchos proyectos.\n",
    "\n",
    "Las *baterías incluidas* están en la librería estándar Python: https://docs.python.org/es/3.11/library/index.html."
   ]
  },
  {
   "cell_type": "markdown",
   "metadata": {},
   "source": [
    "#### Ayuda\n",
    "\n",
    "Puede solicitar la ayudar del interprete de Python, ejecutando:"
   ]
  },
  {
   "cell_type": "code",
   "execution_count": 4,
   "metadata": {},
   "outputs": [],
   "source": [
    "help(int) # para salir -> q\n",
    "\n",
    "# ?range # entorno jupyter"
   ]
  },
  {
   "cell_type": "markdown",
   "metadata": {},
   "source": [
    "### Clasificación de los datos\n",
    "\n",
    "Python es un lenguaje orientado a objetos, y como tal, trata a todos los tipos de datos como objetos. Un simple entero es un objeto, así como una lista, etc. "
   ]
  },
  {
   "cell_type": "code",
   "execution_count": null,
   "metadata": {},
   "outputs": [],
   "source": [
    "# y es un objeto\n",
    "y = 5\n",
    "\n",
    "# la función x es un objeto\n",
    "def x():\n",
    "    pass"
   ]
  },
  {
   "cell_type": "markdown",
   "metadata": {},
   "source": [
    "Para identificar cada objeto, este contará con tres etiquetas:\n",
    "\n",
    "- `Identidad`: nunca cambia e identifica de manera unívoca al objeto (`id`). Para comparar si dos variables hacen referencia al mismo objeto podemos usar el operador  `is`.\n",
    "\n",
    "- `Tipo`: nos indica la clase a la que pertenece, por ejemplo entero, *flotante*, *lista*, etc. Para acceder a esa etiqueta usamos el oporador `type`.\n",
    "\n",
    "- `Valor`: todo objeto tiene una asignación, la cual puede modificarse (*Mutable*) o no (*Inmutable*)."
   ]
  },
  {
   "cell_type": "code",
   "execution_count": 2,
   "metadata": {},
   "outputs": [
    {
     "name": "stdout",
     "output_type": "stream",
     "text": [
      "Identidad: 4367179080 4416693488\n",
      "Tipo: <class 'int'> <class 'float'>\n",
      "Value: 10\n"
     ]
    }
   ],
   "source": [
    "# ejemplo\n",
    "x = 10; y = 10.  # y = 10.\n",
    "print(\"Identidad:\", id(x), id(y))\n",
    "print(\"Tipo:\", type(x), type(y))\n",
    "print(\"Value:\", x)"
   ]
  },
  {
   "cell_type": "code",
   "execution_count": 3,
   "metadata": {},
   "outputs": [
    {
     "name": "stdout",
     "output_type": "stream",
     "text": [
      "Identidad: 4367179240 4416693488\n",
      "Tipo: <class 'int'>\n",
      "Value: 15\n"
     ]
    }
   ],
   "source": [
    "x = x + 5  # hablar de los arreglos\n",
    "print(\"Identidad:\", id(x), id(y))\n",
    "print(\"Tipo:\", type(x))\n",
    "print(\"Value:\", x)\n",
    "\n",
    "# noten como cambió el Id, y la forma en que escribimos la ''nueva'' asignación. Más adelante vermos el porque."
   ]
  },
  {
   "cell_type": "markdown",
   "metadata": {},
   "source": [
    "Como comentamos la asignación (apuntador) de los datos (objetos) se clasifican en:\n",
    "\n",
    "- *Mutable*: su contenido (o dicho valor) puede cambiarse en tiempo de ejecución.\n",
    "\n",
    "- *Inmutable*: su contenido (o dicho valor) no puede cambiarse en tiempo de ejecución.\n",
    "\n",
    "Más adelante hablaremos de cada uno de estos tipos de asignaciones\n",
    "\n",
    "<img src=\"capturas/tabla.png\">\n",
    "\n",
    "Es importante conocer esto puesto que ambos son tratados de manera diferente y su desconocimiento puede traer comportamientos inesperados en el código."
   ]
  },
  {
   "cell_type": "code",
   "execution_count": 4,
   "metadata": {},
   "outputs": [
    {
     "name": "stdout",
     "output_type": "stream",
     "text": [
      "4417984960\n",
      "4417984960\n"
     ]
    }
   ],
   "source": [
    "# Veamos un ejemplo de usar listas (mutables) y tuplas (inmutables)\n",
    "l = [1, 2, 3]  # asignación\n",
    "print(id(l))\n",
    "\n",
    "l[0] = 0  # modificando el primer elemento\n",
    "print(id(l))"
   ]
  },
  {
   "cell_type": "markdown",
   "metadata": {},
   "source": [
    "Como se aprecia para el caso de la lista el identificador nunca cambió, es el mismo antes y después de la modificación. Veamos ahora que ocurre con la tupla (inmutable)"
   ]
  },
  {
   "cell_type": "code",
   "execution_count": 14,
   "metadata": {},
   "outputs": [
    {
     "name": "stdout",
     "output_type": "stream",
     "text": [
      "4399585280\n"
     ]
    },
    {
     "ename": "TypeError",
     "evalue": "'tuple' object does not support item assignment",
     "output_type": "error",
     "traceback": [
      "\u001b[0;31m---------------------------------------------------------------------------\u001b[0m",
      "\u001b[0;31mTypeError\u001b[0m                                 Traceback (most recent call last)",
      "Cell \u001b[0;32mIn[14], line 4\u001b[0m\n\u001b[1;32m      1\u001b[0m t \u001b[38;5;241m=\u001b[39m (\u001b[38;5;241m1\u001b[39m, \u001b[38;5;241m2\u001b[39m, \u001b[38;5;241m3\u001b[39m)  \u001b[38;5;66;03m# asignación\u001b[39;00m\n\u001b[1;32m      2\u001b[0m \u001b[38;5;28mprint\u001b[39m(\u001b[38;5;28mid\u001b[39m(l))\n\u001b[0;32m----> 4\u001b[0m t[\u001b[38;5;241m0\u001b[39m] \u001b[38;5;241m=\u001b[39m \u001b[38;5;241m0\u001b[39m\n",
      "\u001b[0;31mTypeError\u001b[0m: 'tuple' object does not support item assignment"
     ]
    }
   ],
   "source": [
    "t = (1, 2, 3)  # asignación\n",
    "print(id(l))\n",
    "\n",
    "t[0] = 0  # modificación del primer elemento"
   ]
  },
  {
   "cell_type": "markdown",
   "metadata": {},
   "source": [
    "Vean como arrojó un error puesto que la asignación no se puede realizar. Bueno, sí hay una forma de modificar la asignación, veamos"
   ]
  },
  {
   "cell_type": "code",
   "execution_count": 3,
   "metadata": {},
   "outputs": [
    {
     "name": "stdout",
     "output_type": "stream",
     "text": [
      "Imprimiendo tupla  (1, 2, 3)\n",
      "Imprimiendo su Id:  4400878336 \n",
      "\n",
      "Imprimiendo Id de la lista  4400874048 \n",
      "\n",
      "Imprimiendo tupla  (0, 2, 3)\n",
      "Imprimiendo su Id:  4401012480\n"
     ]
    }
   ],
   "source": [
    "t = (1, 2, 3)  # asignación\n",
    "print('Imprimiendo tupla ', t)\n",
    "print('Imprimiendo su Id: ', id(t), '\\n')\n",
    "\n",
    "t = list(t)  # convertimos a mutable\n",
    "t[0] = 0  # modificamos elemento\n",
    "print('Imprimiendo Id de la lista ', id(t), '\\n')\n",
    "\n",
    "t = tuple(t)  # convertimos a inmutable\n",
    "print('Imprimiendo tupla ', t)\n",
    "print('Imprimiendo su Id: ', id(t))"
   ]
  },
  {
   "cell_type": "markdown",
   "metadata": {},
   "source": [
    "NOTEN QUE HICIMOS TRAMPA. Lo que en realidad hicimos fue crear una nueva tupla y asignarle el mismo nombre, pero sin embargo el `id` es diferente del primero"
   ]
  },
  {
   "cell_type": "markdown",
   "metadata": {},
   "source": [
    "`EJERCICIO:` Expliquen con sus palabras el ejemplo que vimos del número entero."
   ]
  },
  {
   "cell_type": "markdown",
   "metadata": {},
   "source": [
    "${\\it Resumiendo}$: A la hora de decidir con que tipo de datos trabajar se ha de tener presente los siguiente:\n",
    "\n",
    "- Los tipos inmutables son generalmente más rápidos de acceder. Por lo que si no piensas modificar una lista, es mejor que uses una tupla.\n",
    "\n",
    "- Cuando se desea cambiar el contenido varias veces es mejor trabajar con los tipos mutables.\n",
    "\n",
    "- El costo de computo en cambiar los tipos inmutables es alto, ya que lo que se hace en realidad es hacer una copia de su contenido en un nuevo objeto con las modificaciones."
   ]
  },
  {
   "cell_type": "markdown",
   "metadata": {},
   "source": [
    "### Tipo de números\n",
    "\n",
    "Los objetos numéricos son *inmutables*, una vez creado su valor nunca cambia. Por supuesto, estos están sujetos a las limitaciones de la representación numérica en las computadoras.\n",
    "\n",
    "Python distingue entre enteros, números de punto flotante y números complejos:\n",
    "\n",
    "<img src=\"capturas/tabla2.png\">\n",
    "\n",
    "${\\it Importante}$: a diferencias de otros lenguajes de programación, donde los datos se deben definir como $32$ (para `int` un rango de $-2.147.483.648$ a $2.147.483.647$) o $64$ ($-9.223.372.036.854.775.808$ hasta $9.223.372.036.854.775.807$) bits en dependencia de la arquitectura del ordenador. En Python no nos hemos de preocupar por ello ya que internamente realiza las asignaciones; usualmente es de $64$ bits."
   ]
  },
  {
   "cell_type": "markdown",
   "metadata": {},
   "source": [
    "*Veamos algunos ejemplos*:"
   ]
  },
  {
   "cell_type": "code",
   "execution_count": 9,
   "metadata": {},
   "outputs": [
    {
     "name": "stdout",
     "output_type": "stream",
     "text": [
      "La clase del objeto  250  es:  <class 'int'> \n",
      "\n",
      "Ejemplo de un entero largo (necesariamente 64bit), \n",
      " 305493636349960468205197939321361769978940274057232666389361390928129162652472045770185723510801522825687515269359046715531785342780428396973513311420091788963072442053377285222203558881953188370081650866793017948791366338993705251636497892270212003524508209121908744820211960149463721109340307985507678283651836204093399373959982767701148986816406250000000000000000000000000000000000000000000000000000000000000000000000000000000000000000000000000000000000000000000000000000000000000000000000000000000000000000000000000000000000000000000000000000000000000000000000000000000000000000000000000000000000\n",
      "La clase del objeto  <class 'int'>\n"
     ]
    }
   ],
   "source": [
    "# Enteros\n",
    "entero = 250  # asignando apuntador\n",
    "print('La clase del objeto ', entero, ' es: ', type(250), '\\n')\n",
    "\n",
    "x = entero**entero\n",
    "print('Ejemplo de un entero largo (necesariamente 64bit), \\n', x)\n",
    "print('La clase del objeto ', type(x))"
   ]
  },
  {
   "cell_type": "markdown",
   "metadata": {},
   "source": [
    "Veamos como Python hace la asignación de memoria (número de bits) en función del número que se quiere representar. Para ello debemos usar la función `getsizeof()`, la cual devuelve el tamaño en bytes ocupados por el objeto en memoria. Esta función pertenece al paquete (incluido en el kernel) *sys*\n",
    "\n",
    "${\\it Comentario:}$ La función `getsizeof()` retorna los bytes ocupados por el objeto en memoria y estos incluirían tanto el espacio ocupado por la asignación como el correspondiente al tipo de dato. Para una discusión para el caso de una secuencia de caracteres consultar [Link](https://es.stackoverflow.com/questions/109735/por-qué-getsizeof-no-devuelve-el-verdadero-tamaño-en-bytes)."
   ]
  },
  {
   "cell_type": "code",
   "execution_count": 10,
   "metadata": {},
   "outputs": [],
   "source": [
    "import sys"
   ]
  },
  {
   "cell_type": "code",
   "execution_count": 16,
   "metadata": {},
   "outputs": [
    {
     "name": "stdout",
     "output_type": "stream",
     "text": [
      "La asignación de memoria del número: \n",
      " 933263618503218878990089544723817169617091446371708024621714339795966910975775634454440327097881102359594989930324242624215487521354032394841520817203930756234410666138325150273995075985901831511100490796265113118240512514795933790805178271125415103810698378854426481119469814228660959222017662910442798456169448887147466528006328368452647429261829862165202793195289493607117850663668741065439805530718136320599844826041954101213229629869502194514609904214608668361244792952034826864617657926916047420065936389041737895822118365078045556628444273925387517127854796781556346403714877681766899855392069265439424008711973674701749862626690747296762535803929376233833981046927874558605253696441650390625 \n",
      " fue de  336 bytes y es de la clase  <class 'int'> \n",
      "\n",
      "La asignación de memoria del número: \n",
      " 10 \n",
      " fue de  28 bytes y es de la clase  <class 'int'>\n"
     ]
    }
   ],
   "source": [
    "x = 5**1000\n",
    "y = 10\n",
    "\n",
    "print('La asignación de memoria del número: \\n', x, '\\n fue de ', sys.getsizeof(x), 'bytes y es de la clase ', type(x),  '\\n')  # notar como se usa el prefijo sys\n",
    "print('La asignación de memoria del número: \\n', y, '\\n fue de ', sys.getsizeof(y), 'bytes y es de la clase ', type(y))"
   ]
  },
  {
   "cell_type": "code",
   "execution_count": 8,
   "metadata": {},
   "outputs": [
    {
     "ename": "OverflowError",
     "evalue": "(34, 'Result too large')",
     "output_type": "error",
     "traceback": [
      "\u001b[0;31m---------------------------------------------------------------------------\u001b[0m",
      "\u001b[0;31mOverflowError\u001b[0m                             Traceback (most recent call last)",
      "Cell \u001b[0;32mIn[8], line 2\u001b[0m\n\u001b[1;32m      1\u001b[0m \u001b[38;5;66;03m# En ocasiones no es posible imprimir el número por ejemplo\u001b[39;00m\n\u001b[0;32m----> 2\u001b[0m \u001b[38;5;28mprint\u001b[39m(\u001b[38;5;241m5e200\u001b[39m\u001b[38;5;241m*\u001b[39m\u001b[38;5;241m*\u001b[39m\u001b[38;5;241m2\u001b[39m)\n",
      "\u001b[0;31mOverflowError\u001b[0m: (34, 'Result too large')"
     ]
    }
   ],
   "source": [
    "# En ocasiones no es posible imprimir el número por ejemplo\n",
    "print(5e200**2)"
   ]
  },
  {
   "cell_type": "code",
   "execution_count": 9,
   "metadata": {},
   "outputs": [
    {
     "name": "stdout",
     "output_type": "stream",
     "text": [
      "inf\n"
     ]
    }
   ],
   "source": [
    "# O que es lo suficientemente grande y Python lo considera infinito\n",
    "print(2e2000**2)"
   ]
  },
  {
   "cell_type": "code",
   "execution_count": 10,
   "metadata": {},
   "outputs": [
    {
     "name": "stdout",
     "output_type": "stream",
     "text": [
      "0.56 0.56\n",
      "(2+7j)\n",
      "\n",
      "Part. Im 7.0 Part. R 2.0\n",
      "\n",
      "Tipo <class 'complex'>\n"
     ]
    }
   ],
   "source": [
    "# ejemplos\n",
    "real = 0.56\n",
    "real_2 = 56e-02  # notación científica, y done ''e'' (de exponente) indica un exponente en base 10\n",
    "\n",
    "print (real, real_2)\n",
    "\n",
    "type(real_2)\n",
    "\n",
    "\n",
    "complejo = 2 + 7j\n",
    "print(complejo)\n",
    "print('')\n",
    "print('Part. Im', complejo.imag, 'Part. R', complejo.real)  # notar que sería variable.__ (imag o real)\n",
    "print('')\n",
    "print('Tipo',type(complejo))"
   ]
  },
  {
   "cell_type": "code",
   "execution_count": null,
   "metadata": {},
   "outputs": [],
   "source": [
    "# Para más información se puede acceder a la Ayuda\n",
    "help(int)  # float, complex"
   ]
  },
  {
   "cell_type": "markdown",
   "metadata": {},
   "source": [
    "### Convertir a numéricos\n",
    "\n",
    "* tipo `int(x)` convierte x a un número entero (no lo redondea).\n",
    "* tipo `float(x)` convierte x a un número con punto flotante.\n",
    "* tipo `complex(x)` convierte x a un número con parte real x e imaginaria cero. \n",
    "* tipo  `complex(x, y)` convierte x, y a un número complejo con parte real x e imaginaria y."
   ]
  },
  {
   "cell_type": "code",
   "execution_count": null,
   "metadata": {},
   "outputs": [],
   "source": []
  },
  {
   "cell_type": "markdown",
   "metadata": {},
   "source": [
    "### Variables\n",
    "\n",
    "Una variable es un espacio para almacenar a un objeto que reside en la memoria. El objeto puede ser de alguno de los tipos vistos (número o cadena de texto), o alguno de los otros tipos existentes en `Python`. En Python, una variable se define con la sintaxis:\n",
    "\n",
    "`nombre_de_la_variable = valor_de_la_variable`\n",
    "\n",
    "Donde `nombre_de_la_variable` es el llamado identificador.\n",
    "\n",
    "Existen ciertas palabras que tienen significado especial para el intérprete de `Python`. Estas no pueden utilizarse para ningún otro fin (como ser nombrar valores) excepto para el que han sido creadas.\n",
    "\n",
    "Puede verificar si una palabra esta reservada utilizando el módulo integrado keyword, de la siguiente forma:"
   ]
  },
  {
   "cell_type": "code",
   "execution_count": 13,
   "metadata": {},
   "outputs": [
    {
     "name": "stdout",
     "output_type": "stream",
     "text": [
      "True False\n"
     ]
    }
   ],
   "source": [
    "import keyword\n",
    "\n",
    "# caso particular \n",
    "print(keyword.iskeyword('as'), \n",
    "      keyword.iskeyword('x'))\n",
    "\n",
    "# caso general\n",
    "#keyword.kwlist"
   ]
  },
  {
   "cell_type": "markdown",
   "metadata": {},
   "source": [
    "#### Alcance de las variables\n",
    "\n",
    "Por defecto las variables son **locales** (`local`). Es decir, las variables definidas y utilizadas en el bloque de código de una función, sólo existen dentro de la misma, y no interfieren con otras variables del resto del código. A su vez, las variables existentes fuera de una función, no son visibles dentro de la misma, a menos que se haga un llamado desde esta al no definirse o se defina como `global` (**ambas mala practica**)."
   ]
  },
  {
   "cell_type": "code",
   "execution_count": 28,
   "metadata": {},
   "outputs": [],
   "source": [
    "a = 5.0\n",
    "\n",
    "def test():\n",
    "    #global a\n",
    "    #a = 2.0  # explicar como funciona el árbol de alcance\n",
    "    print(a)\n",
    "\n",
    "print(a)  \n",
    "test()\n",
    "print(a)"
   ]
  },
  {
   "cell_type": "markdown",
   "metadata": {},
   "source": [
    "Resumiendo, aunque los alcances se determinan de forma estática, se utilizan de forma dinámica. En cualquier momento durante la ejecución, hay $3$ o $4$ ámbitos anidados cuyos espacios de nombres son directamente accesibles:\n",
    "- el alcance más interno, que es inspeccionado primero, contiene los nombres locales.\n",
    "- los alcances de cualquier función que encierra a otra, son inspeccionados a partir del alcance más cercano, contienen nombres no locales, pero también no globales.\n",
    "- el penúltimo alcance contiene nombres globales del módulo actual.\n",
    "- el alcance más externo (el último inspeccionado) es el espacio de nombres que contiene los nombres integrados.\n",
    "\n",
    "Si un nombre se declara global, entonces todas las referencias y asignaciones se realizan directamente en el ámbito penúltimo que contiene los nombres globales del módulo. "
   ]
  },
  {
   "cell_type": "code",
   "execution_count": null,
   "metadata": {},
   "outputs": [],
   "source": [
    "# Ejemplos de ámbitos y espacios de nombre\n",
    "def scope_test():\n",
    "    def do_local():\n",
    "        spam = \"local spam\"\n",
    "\n",
    "    def do_nonlocal():\n",
    "        nonlocal spam\n",
    "        spam = \"nonlocal spam\"\n",
    "\n",
    "    def do_global():\n",
    "        global spam\n",
    "        spam = \"global spam\"\n",
    "\n",
    "    spam = \"test spam\"\n",
    "    do_local()\n",
    "    print(\"After local assignment:\", spam)\n",
    "    do_nonlocal()\n",
    "    print(\"After nonlocal assignment:\", spam)\n",
    "    do_global()\n",
    "    print(\"After global assignment:\", spam)\n",
    "\n",
    "scope_test()\n",
    "print(\"In global scope:\", spam)"
   ]
  },
  {
   "cell_type": "markdown",
   "metadata": {},
   "source": [
    "Notar como la asignación *local* (que es el comportamiento normal) no cambió la vinculación de *spam* de *scope_test*. La asignación `nonlocal` cambió la vinculación de *spam* de *scope_test*, y la asignación `global` cambió la vinculación a nivel de módulo.\n",
    "\n",
    "\n",
    "`COMENTARIO:` El espacio de nombres local a una función se crea cuando la función es llamada, y se elimina cuando la función retorna o lanza una excepción que no se maneje dentro de la función."
   ]
  },
  {
   "cell_type": "code",
   "execution_count": null,
   "metadata": {},
   "outputs": [],
   "source": []
  },
  {
   "cell_type": "markdown",
   "metadata": {},
   "source": [
    "#### ''Limpiar'' una variable\n",
    "\n",
    "Para limpiar la asignación en memoria de una variable (número, tupla, etc.) usamos la sentencia `del`"
   ]
  },
  {
   "cell_type": "code",
   "execution_count": 14,
   "metadata": {},
   "outputs": [
    {
     "name": "stdout",
     "output_type": "stream",
     "text": [
      "(4, 'hola', 3)\n"
     ]
    },
    {
     "ename": "NameError",
     "evalue": "name 'a' is not defined",
     "output_type": "error",
     "traceback": [
      "\u001b[0;31m---------------------------------------------------------------------------\u001b[0m",
      "\u001b[0;31mNameError\u001b[0m                                 Traceback (most recent call last)",
      "Cell \u001b[0;32mIn[14], line 6\u001b[0m\n\u001b[1;32m      3\u001b[0m \u001b[38;5;28mprint\u001b[39m(a)\n\u001b[1;32m      4\u001b[0m \u001b[38;5;28;01mdel\u001b[39;00m a  \u001b[38;5;66;03m# limpiando\u001b[39;00m\n\u001b[0;32m----> 6\u001b[0m \u001b[38;5;28mprint\u001b[39m(a)\n",
      "\u001b[0;31mNameError\u001b[0m: name 'a' is not defined"
     ]
    }
   ],
   "source": [
    "a = (4, 'hola', 3)  # asignación\n",
    "\n",
    "print(a)\n",
    "del a  # limpiando\n",
    "\n",
    "print(a)"
   ]
  },
  {
   "cell_type": "markdown",
   "metadata": {},
   "source": [
    "## Operadores de asignaciones\n",
    "\n",
    "Existe todo un grupo de operadores los cuales le permiten básicamente asignar un valor a una variable, usando el operador `=`\n",
    "\n",
    "- Operador `=`: El operador igual a, (=), es el más simple de todos y asigna a la variable del lado izquierdo cualquier variable o resultado del lado derecho.\n",
    "\n",
    "- Operador `:=` Este operador es conocido como operador walrus (morsa) se introdujo en Python 3.8, y se trata de un operador de asignación con una funcionalidad extra, la devolución del objeto.\n",
    "\n",
    "- Operador `+=`: El operador (+=) suma a la variable del lado izquierdo el valor del lado derecho."
   ]
  },
  {
   "cell_type": "code",
   "execution_count": null,
   "metadata": {},
   "outputs": [],
   "source": [
    "# Ejemplos operador Walrus\n",
    "\n",
    "# Forma tradicional\n",
    "x = \"Python\"\n",
    "print(x)\n",
    "print(type(x))\n",
    "\n",
    "# Con Walrus\n",
    "print(x := \"Python\")  # asigna y devuelve la asignación\n",
    "print(type(x))"
   ]
  },
  {
   "cell_type": "code",
   "execution_count": null,
   "metadata": {},
   "outputs": [],
   "source": [
    "# Forma tradicional\n",
    "lista = []\n",
    "entrada = input(\"Escribe algo: \")\n",
    "while entrada != \"terminar\":\n",
    "    lista.append(entrada)\n",
    "    entrada = input(\"Escribe algo: \")\n",
    "    \n",
    "print(lista)\n",
    "\n",
    "# Con Walrus\n",
    "lista = []\n",
    "while (entrada := input(\"Escribe algo: \")) != \"terminar\":\n",
    "    lista.append(entrada)\n",
    "\n",
    "print(lista)"
   ]
  },
  {
   "cell_type": "code",
   "execution_count": null,
   "metadata": {},
   "outputs": [],
   "source": [
    "a = 20*[1]\n",
    "if (n := len(a)) > 10:\n",
    "    print(f\"La lista tiene {n} elementos (>10)\")"
   ]
  },
  {
   "cell_type": "code",
   "execution_count": null,
   "metadata": {},
   "outputs": [],
   "source": [
    "datos = [1, 2, 3.4, 5]\n",
    "f = lambda x: x**2 - 5*x\n",
    "resultado = [(x, y, x/y) for x in datos if (y := f(x)) > 0]"
   ]
  },
  {
   "cell_type": "code",
   "execution_count": null,
   "metadata": {},
   "outputs": [],
   "source": [
    "lista = [[y := f(x), x/y] for x in range(5)]"
   ]
  },
  {
   "cell_type": "markdown",
   "metadata": {},
   "source": [
    "Mas ejemplo consultar la [referencia](https://docs.python.org/3/whatsnew/3.8.html#assignment-expressions)"
   ]
  },
  {
   "cell_type": "code",
   "execution_count": 15,
   "metadata": {},
   "outputs": [
    {
     "name": "stdout",
     "output_type": "stream",
     "text": [
      "7\n"
     ]
    }
   ],
   "source": [
    "# Ejemplo Operador +=\n",
    "\n",
    "# Se utiliza mucho como contadores\n",
    "r = 5; r += 2; print(r) # notar que el ; nos permite poner varias instrucciones en una linea\n",
    "\n",
    "# el equialente sería\n",
    "# r = 5; r = r + 2; r"
   ]
  },
  {
   "cell_type": "markdown",
   "metadata": {},
   "source": [
    "De manera general tendremos que\n",
    "- Operador \\_=: Donde '_' será la operación que se le aplicará a la variable del lado izquierdo a partir del valor del lado derecho.\n",
    "\n",
    "Las operaciones pueden ser: `+, -, *, **, /, //, %`."
   ]
  },
  {
   "cell_type": "code",
   "execution_count": 16,
   "metadata": {},
   "outputs": [
    {
     "name": "stdout",
     "output_type": "stream",
     "text": [
      "8\n",
      "2\n",
      "0\n"
     ]
    }
   ],
   "source": [
    "r = 2; r **= 3; print(r)  # potencia\n",
    "# equivalente\n",
    "# r = 2; r = r ** 3; r\n",
    "\n",
    "r = 10; r //= 5; print(r)  # devuelve de la división el entero\n",
    "# equivalente\n",
    "# r = 5; r = r//5; r\n",
    "\n",
    "r = 10; r %= 5; print(r)  # devuelve de la división el resto (se utiliza mucho)\n",
    "# equivalente\n",
    "# r = 5; r = r%5; r"
   ]
  },
  {
   "cell_type": "markdown",
   "metadata": {},
   "source": [
    "IMPORTANTE: para conocer todas las asignaciones que hemos realizado en nuestro notebook, podemos usar el comando mágico: `%whos`, si queremos reiniciar todas las asignaciones podemos usar `%reset` "
   ]
  },
  {
   "cell_type": "code",
   "execution_count": 17,
   "metadata": {},
   "outputs": [
    {
     "name": "stdout",
     "output_type": "stream",
     "text": [
      "Variable   Type       Data/Info\n",
      "-------------------------------\n",
      "complejo   complex    (2+7j)\n",
      "entero     int        250\n",
      "keyword    module     <module 'keyword' from '/<...>b/python3.11/keyword.py'>\n",
      "l          list       n=3\n",
      "r          int        0\n",
      "real       float      0.56\n",
      "real_2     float      0.56\n",
      "sys        module     <module 'sys' (built-in)>\n",
      "x          int        <object with id 140296877478912 (str() failed)>\n",
      "y          int        10\n"
     ]
    }
   ],
   "source": [
    "%whos"
   ]
  },
  {
   "cell_type": "code",
   "execution_count": 18,
   "metadata": {},
   "outputs": [],
   "source": [
    "%reset"
   ]
  },
  {
   "cell_type": "code",
   "execution_count": 19,
   "metadata": {},
   "outputs": [
    {
     "name": "stdout",
     "output_type": "stream",
     "text": [
      "Interactive namespace is empty.\n"
     ]
    }
   ],
   "source": [
    "%whos"
   ]
  },
  {
   "cell_type": "markdown",
   "metadata": {},
   "source": [
    "IMPORTANTE: notar que la operación `x=5`  no significa que 'x' es igual a 5, sino que la variable x esta asociado al objeto 2 (almacena el 2). Por ende  `$x=5 != 5=x$`."
   ]
  },
  {
   "cell_type": "markdown",
   "metadata": {},
   "source": [
    "## Operadores aritméticos\n",
    "\n",
    "Como se vió anteriormente podremos realizar las siguientes operaciones\n",
    "\n",
    "`+, -, *, **, /, //, %`"
   ]
  },
  {
   "cell_type": "code",
   "execution_count": 34,
   "metadata": {},
   "outputs": [
    {
     "data": {
      "text/plain": [
       "[1, 25, 25.0]"
      ]
     },
     "execution_count": 34,
     "metadata": {},
     "output_type": "execute_result"
    }
   ],
   "source": [
    "a = [ 5//3, 5**2, 5**2.] \n",
    "\n",
    "a"
   ]
  },
  {
   "cell_type": "markdown",
   "metadata": {},
   "source": [
    "Notar que hay que tener en cuenta que si utilizamos dos operandos enteros, Python determinará que quiere que la variable resultado también sea un entero, por lo que el resultado de, `5**2` sería 25, mientras que `5**2.` sería 25.0.\n",
    "\n",
    "Si quisiéramos obtener los decimales necesitaríamos que al menos uno de los operandos fuera un número real, o bien indicando los decimales"
   ]
  },
  {
   "cell_type": "code",
   "execution_count": 20,
   "metadata": {},
   "outputs": [
    {
     "data": {
      "text/plain": [
       "(5, 25.0)"
      ]
     },
     "execution_count": 20,
     "metadata": {},
     "output_type": "execute_result"
    }
   ],
   "source": [
    "# ¿Cuales son las salidas incluyendo el tipo de dato?\n",
    "\n",
    "int(5.7), 5**float(2)"
   ]
  },
  {
   "cell_type": "markdown",
   "metadata": {},
   "source": [
    "#### Orden de precedencia\n",
    "\n",
    "El orden de precedencia de ejecución de los operadores aritméticos es:\n",
    "\n",
    "* Exponente: **\n",
    "* Negación: -\n",
    "* Multiplicación, División, División entera, Módulo: *, /, //, %\n",
    "* Suma, Resta: +, -\n",
    "\n",
    "Se pueden omitir el orden usando `()`"
   ]
  },
  {
   "cell_type": "code",
   "execution_count": 38,
   "metadata": {},
   "outputs": [],
   "source": [
    "# Cual es la salida?\n",
    "[4**2/2, 4**(2/2)]"
   ]
  },
  {
   "cell_type": "markdown",
   "metadata": {},
   "source": [
    "## Operadores Lógicos\n",
    "\n",
    "Los operadores lógicos son los encargados de realizar comparaciones entre tipos de objetos retornando un objeto tipo booleano (veremos más adelante que es). Estos operadores de comparación pueden ser separados en dos clases:\n",
    "\n",
    "- Comparando cantidades\n",
    "\n",
    "<img src=\"capturas/tabla3.png\">\n",
    "\n",
    "- Operando expresiones lógicas\n",
    "\n",
    "<img src=\"capturas/tabla4.png\">\n",
    "\n",
    "El procesamiento lógico de los dos primeros casos se pueden entender en función del siguiente diagrama:\n",
    "\n",
    "<img src=\"capturas/diagrama.png\">\n",
    "\n",
    "\n",
    "Mientras que el operador lógico `not` siempre devolverá lo contrario del argumento.\n",
    "\n",
    "IMPORTANTE: normalmente el número $1$ se usa para denotar verdadero y el $0$ para denotar falso. Sin embargo en `Python` es diferente y cualquier número que no sea igual a $0$ es entendido como **VERDADERO** cuando se use en una operación lógica. Por ejemplo, $3$ y $1$ se calcularán como verdadero. Sin embargo como se discutió en la clase de Buenas prácticas, es recomendable usar siempre $1$ o $0$.\n",
    "\n",
    "Los siguientes valores también son interpretados como False:\n",
    "\n",
    "- False.\n",
    "- None.\n",
    "- Número cero.\n",
    "- Cadena de caracteres vaciás.\n",
    "- Contenedores, incluyendo cadenas de caracteres, tuplas, listas, diccionarios y conjuntos mutables e inmutables.\n",
    "\n",
    "Todos los otros valores son interpretados por defecto a `True`. \n"
   ]
  },
  {
   "cell_type": "code",
   "execution_count": 55,
   "metadata": {},
   "outputs": [
    {
     "name": "stdout",
     "output_type": "stream",
     "text": [
      "False True\n"
     ]
    }
   ],
   "source": [
    "# Ejemplo\n",
    "print(not(True), not(False))"
   ]
  },
  {
   "cell_type": "code",
   "execution_count": null,
   "metadata": {},
   "outputs": [],
   "source": [
    "(1+3) > (2+5)  # ¿qué dará?"
   ]
  },
  {
   "cell_type": "code",
   "execution_count": 53,
   "metadata": {},
   "outputs": [],
   "source": [
    "(3 > 2) + (5 > 4) # ¿qué dará? # ¿Qué pasó?\n",
    "\n",
    "# (3 > 2) + (5 > 4)"
   ]
  },
  {
   "cell_type": "code",
   "execution_count": null,
   "metadata": {},
   "outputs": [],
   "source": [
    "# intentemoslo \n",
    "# True+True"
   ]
  },
  {
   "cell_type": "markdown",
   "metadata": {},
   "source": [
    "IMPORTANTE: notar que el orden de aplicación de los operadores influye en el resultado, por lo que es importante saber el orden de priioridad de aplicación. De mayor a menor prioridad, el primer sería `not`, seguido de `and` y `or`."
   ]
  },
  {
   "cell_type": "code",
   "execution_count": null,
   "metadata": {},
   "outputs": [],
   "source": []
  },
  {
   "cell_type": "markdown",
   "metadata": {},
   "source": [
    "## Datos booleanos\n",
    "\n",
    "El tipo booleano sólo puede tener dos valores: `True` (verdadero) y`False` (falso). Son muy utlizados en expresiones condicionales y los bucles, como verá más adelante.\n",
    "\n",
    "- Para convertir a tipos booleanos debe usar la función `bool()`\n",
    "\n"
   ]
  },
  {
   "cell_type": "code",
   "execution_count": 56,
   "metadata": {},
   "outputs": [
    {
     "name": "stdout",
     "output_type": "stream",
     "text": [
      "True\n",
      "False\n"
     ]
    }
   ],
   "source": [
    "verdadero_2 = '0'\n",
    "\n",
    "print(bool(verdadero_2))  # siempre devuelve verdadero\n",
    "\n",
    "print(bool(int(verdadero_2)))  # convierto a entero antes, pero puede ser float"
   ]
  },
  {
   "cell_type": "markdown",
   "metadata": {},
   "source": [
    "# Tarea\n",
    "\n",
    "1. Construct an equivalent logical expression for OR using only AND and NOT.\n",
    "2. Construct an equivalent logical expression for AND using only OR and NOT."
   ]
  },
  {
   "cell_type": "markdown",
   "metadata": {},
   "source": [
    "## Estructura de Datos (Proxima Clase)\n",
    "\n",
    "1. String\n",
    "2. List\n",
    "3. Tuple\n",
    "4. Set\n",
    "5. Dictionary\n",
    "6. NumPy Arrays"
   ]
  },
  {
   "cell_type": "markdown",
   "metadata": {},
   "source": []
  }
 ],
 "metadata": {
  "kernelspec": {
   "display_name": "base",
   "language": "python",
   "name": "python3"
  },
  "language_info": {
   "codemirror_mode": {
    "name": "ipython",
    "version": 3
   },
   "file_extension": ".py",
   "mimetype": "text/x-python",
   "name": "python",
   "nbconvert_exporter": "python",
   "pygments_lexer": "ipython3",
   "version": "3.11.7"
  }
 },
 "nbformat": 4,
 "nbformat_minor": 2
}

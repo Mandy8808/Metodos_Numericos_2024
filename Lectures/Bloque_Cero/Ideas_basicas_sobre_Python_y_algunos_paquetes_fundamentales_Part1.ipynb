{
 "cells": [
  {
   "cell_type": "markdown",
   "metadata": {},
   "source": [
    "# `Bloque Cero`"
   ]
  },
  {
   "cell_type": "markdown",
   "metadata": {},
   "source": [
    "## Tema: Ideas básicas sobre Python y algunos paquetes fundamentales"
   ]
  },
  {
   "cell_type": "markdown",
   "metadata": {},
   "source": [
    "Aunque este no es un curso formal de [`Python`](https://www.python.org), este lenguaje será la principal herramienta que utilizaremos para implementar el contenido visto en clase. Por este motivo, se ofrecerá una breve introducción a Python y a los paquetes básicos más utilizados.\n",
    "\n",
    "Para profundizar en su aprendizaje, recomendamos las referencias del curso y, adicionalmente, los siguientes recursos:\n",
    "\n",
    "- Documentación y cursos oficiales: [Python.org](https://www.python.org)\n",
    "\n",
    "- Lectures-Scientific (tutorial de Python en el ámbito científico): [lectures.scientific-python.org](https://lectures.scientific-python.org)\n",
    "\n",
    "- Scipy-Cookbook (algoritmos y códigos implementados): (scipy-cookbook.readthedocs.io](https://scipy-cookbook.readthedocs.io)"
   ]
  },
  {
   "cell_type": "markdown",
   "metadata": {},
   "source": []
  },
  {
   "cell_type": "markdown",
   "metadata": {},
   "source": [
    "#### ¿Por qué Python?\n",
    "\n",
    "¿Por qué no usar Fortran, C (o alguna de sus versiones), JavaScript, etc.?\n",
    "\n",
    "Espero que, al finalizar este tema introductorio, estén de acuerdo conmigo en que el lenguaje `Python` es simple e intuitivo, pero, al mismo tiempo, bastante poderoso.\n",
    "\n",
    "\n",
    "Una de sus principales ventajas es que no requiere muchas líneas repetitivas de código **(como definiciones de variables, gestión de memoria, asignaciones de espacio, etc.)**. Por esta razón, en ocasiones se le conoce como `seudocódigo` ejecutable. Lo que algunos consideran una desventaja, en realidad es una ventaja para nosotros, ya que permite aprenderlo sin la necesidad de estudiar extensos volúmenes de información (a menos que se desee profundizar en su uso profesional). De hecho, su sintaxis es notablemente simple e intuitiva.\n",
    "\n",
    "\n",
    "Además de lo anterior, Python cuenta con una amplia variedad de bibliotecas externas que lo hacen extremadamente versátil, en contraste con lenguajes como `Fortran` ([status](https://fortran-lang.org/es/index)) o `C++` (y sus variantes). También es de **código abierto**, lo que facilita su adopción y mejora constante por parte de la comunidad."
   ]
  },
  {
   "cell_type": "markdown",
   "metadata": {},
   "source": [
    "#### IMPORTANTE\n",
    "\n",
    "Es necesario destacar que, para la implementación eficiente de ciertos códigos numéricos (como simulaciones, cálculos científicos, etc.), lenguajes como Fortran y C++ superan a Python en términos de rendimiento. No obstante, debido a la gran versatilidad de este último, es común utilizarlo como una interfaz que se “conecta” con programas escritos en lenguajes más eficientes.\n",
    "\n",
    "Incluso, en muchos casos, se desarrolla una primera versión del código en Python antes de optimizarlo en otro lenguaje. Cabe mencionar que existen bibliotecas como [Numba](https://numba.pydata.org), que mejoran significativamente la eficiencia del código en Python. Sin embargo, desde mi perspectiva, aunque logran su objetivo, pueden afectar la claridad del código, haciendo que, en ciertos casos, sea más práctico implementar directamente la solución en Fortran o C++."
   ]
  },
  {
   "cell_type": "code",
   "execution_count": null,
   "metadata": {},
   "outputs": [],
   "source": []
  },
  {
   "cell_type": "markdown",
   "metadata": {},
   "source": [
    "## Tópicos:\n",
    "- Extensiones\n",
    "\n",
    "- Entorno Jupyter\n",
    "\n",
    "- El ABC del entorno Python"
   ]
  },
  {
   "cell_type": "code",
   "execution_count": null,
   "metadata": {},
   "outputs": [],
   "source": []
  },
  {
   "cell_type": "markdown",
   "metadata": {},
   "source": [
    "#### Extensiones"
   ]
  },
  {
   "cell_type": "markdown",
   "metadata": {},
   "source": [
    "- Jupyter Notebooks: Los archivos creados en Jupyter Notebook tienen la extensión `.ipynb`, que significa IPython Notebook. Estos archivos contienen código ejecutable, texto enriquecido, ecuaciones, imágenes y otros elementos interactivos. (Como los archivos donde están las clases)\n",
    "\n",
    "- Python: Los archivos de código fuente tienen la extensión `.py`. Estos archivos contienen instrucciones en Python que pueden ejecutarse directamente con el intérprete de Python."
   ]
  },
  {
   "cell_type": "markdown",
   "metadata": {},
   "source": [
    "**Utilidad**:\n",
    "\n",
    "Los archivos de código fuente puedes ejecutarlo en la terminal con:\n",
    "\n",
    "`python nombre_del_archivo.py`\n",
    "\n",
    "Mientras que los Jupyter Notebooks utilizan la extensión .ipynb, que permite combinar código, texto enriquecido, ecuaciones y gráficos en un mismo documento interactivo, pero no pueden ejecutarse desde la terminal, aunque si puedes dar intrucciones como si estuvieras en ella."
   ]
  },
  {
   "cell_type": "markdown",
   "metadata": {},
   "source": [
    "**Ejemplos**"
   ]
  },
  {
   "cell_type": "code",
   "execution_count": 5,
   "metadata": {},
   "outputs": [
    {
     "name": "stdout",
     "output_type": "stream",
     "text": [
      "Hola mundo\n"
     ]
    }
   ],
   "source": [
    "print('Hola mundo')  # IMPORTANTE EN PYTHON 2, NO SE PONE PARÉNTESIS"
   ]
  },
  {
   "cell_type": "code",
   "execution_count": 7,
   "metadata": {},
   "outputs": [
    {
     "name": "stdout",
     "output_type": "stream",
     "text": [
      "Hola mundo\n"
     ]
    }
   ],
   "source": [
    "# ver ejemplo\n",
    "! python 'script/test.py'  # para ejecutar un script desde jupyter se puede usar ! python (dirección)"
   ]
  },
  {
   "cell_type": "markdown",
   "metadata": {},
   "source": [
    "Notar que se usó el símbolo `!` para ejecutar comandos del sistema (shell) directamente desde una celda de código. Es útil para tareas como listar archivos, instalar paquetes, o ejecutar scripts sin salir del entorno de Jupyter.\n",
    "\n",
    "Ejemplos:\n",
    "\n",
    "1️⃣ Listar archivos en el directorio actual"
   ]
  },
  {
   "cell_type": "code",
   "execution_count": 9,
   "metadata": {},
   "outputs": [],
   "source": [
    "#! ls  # En Linux/macOS\n",
    "#! dir  # En Windows"
   ]
  },
  {
   "cell_type": "markdown",
   "metadata": {},
   "source": [
    "2️⃣ Instalar un paquete"
   ]
  },
  {
   "cell_type": "code",
   "execution_count": 12,
   "metadata": {},
   "outputs": [],
   "source": [
    "#! conda install numpy"
   ]
  },
  {
   "cell_type": "markdown",
   "metadata": {},
   "source": [
    "3️⃣ Mostrar la versión de Python"
   ]
  },
  {
   "cell_type": "code",
   "execution_count": 13,
   "metadata": {},
   "outputs": [],
   "source": [
    "#! python --version"
   ]
  },
  {
   "cell_type": "markdown",
   "metadata": {},
   "source": []
  },
  {
   "cell_type": "markdown",
   "metadata": {},
   "source": [
    "### Entorno Jupyter"
   ]
  },
  {
   "cell_type": "markdown",
   "metadata": {},
   "source": [
    "#### Jupyter\n",
    "\n",
    "El entorno de [Jupyter](https://jupyter.org): cuaderno de Jupyter (jupyter-notebook) es una aplicación web de código abierto que permite crear y compartir documentos que contienen código en Python, junto con texto enriquecido como ecuaciones, enlaces, imágenes, tablas, entre otros."
   ]
  },
  {
   "cell_type": "raw",
   "metadata": {
    "vscode": {
     "languageId": "raw"
    }
   },
   "source": [
    "Para iniciarlo, se puede utilizar la terminal y ejecutar el siguiente comando:\n",
    "\n",
    "jupyter-notebook"
   ]
  },
  {
   "cell_type": "markdown",
   "metadata": {},
   "source": [
    "<img src=\"capturas/terminal_jupyter.png\">"
   ]
  },
  {
   "cell_type": "markdown",
   "metadata": {},
   "source": [
    "Esto abrirá automáticamente una ventana en el navegador con la siguiente interfaz:\n",
    "\n",
    "<img src=\"capturas/jupyter1.png\">"
   ]
  },
  {
   "cell_type": "markdown",
   "metadata": {},
   "source": [
    "Desde ahí, podremos crear y gestionar nuestros notebooks."
   ]
  },
  {
   "cell_type": "markdown",
   "metadata": {},
   "source": []
  },
  {
   "cell_type": "markdown",
   "metadata": {},
   "source": [
    "#### Alternativas a Jupyter Notebook\n",
    "\n",
    "Existen otras formas de trabajar con notebooks de Python, entre las cuales destacan:\n",
    "\n",
    "-  [VisualStudioCodec](https://code.visualstudio.com) con la extensión [Jupyter](https://marketplace.visualstudio.com/items?itemName=ms-toolsai.jupyter)\n",
    "\n",
    "- [Google Colab](https://colab.google), que permite ejecutar notebooks en la nube sin necesidad de instalar nada en el equipo.\n",
    "\n",
    "- [IPython](https://ipython.org), una terminal interactiva que ofrece una experiencia más avanzada para ejecutar código en Python.\n",
    "\n",
    "Por razones de brevedad, explicaremos únicamente las funciones esenciales del entorno Jupyter de manera general."
   ]
  },
  {
   "cell_type": "markdown",
   "metadata": {},
   "source": []
  },
  {
   "cell_type": "markdown",
   "metadata": {},
   "source": [
    "### Jupyter Entornos\n",
    "- Code\n",
    "- Markdown\n",
    "- Raw NBConvert\n",
    "- Heading\n",
    "\n",
    "Kernel, Cell, etc.\n",
    "\n",
    "<img src=\"capturas/jupyter2.png\">"
   ]
  },
  {
   "cell_type": "code",
   "execution_count": null,
   "metadata": {},
   "outputs": [],
   "source": []
  },
  {
   "cell_type": "markdown",
   "metadata": {},
   "source": [
    "## El ABC del entorno Python.\n",
    "\n",
    "A continuación comentaremos los elementos principales del entorno Python, más adelante se profundizará en alguno de ellos."
   ]
  },
  {
   "cell_type": "markdown",
   "metadata": {},
   "source": [
    "### Paquetes propios de Python\n",
    "\n",
    "Python ha mantenido durante mucho tiempo la filosofía de *baterías incluidas*, lo que significa: Tener una biblioteca estándar rica y versátil que está disponible de inmediato, sin necesidad de que el usuario descargue paquetes separados.\n",
    "\n",
    "Esta característica le da a Python una ventaja significativa, ya que muchas funcionalidades comunes están listas para usarse sin tener que buscar e instalar bibliotecas adicionales.\n",
    "\n",
    "Puedes explorar todas las bibliotecas estándar de Python aquí: [Documentación de la Biblioteca Estándar de Python](https://docs.python.org/3/tutorial/stdlib.html)."
   ]
  },
  {
   "cell_type": "markdown",
   "metadata": {},
   "source": [
    "A continuación veamos algunos ejemplos de módulos de la librería estándar de Python, que proporcionan funcionalidades útiles sin necesidad de instalar paquetes adicionales:\n",
    "\n",
    "1️⃣ math – Funciones matemáticas\n",
    "\n",
    "Proporciona funciones para realizar cálculos matemáticos avanzados."
   ]
  },
  {
   "cell_type": "code",
   "execution_count": null,
   "metadata": {},
   "outputs": [],
   "source": [
    "import math  # importa el paquete\n",
    "\n",
    "# Raíz cuadrada\n",
    "print(math.sqrt(16))  # Salida: 4.0\n",
    "\n",
    "# Valor de pi\n",
    "print(math.pi)  # Salida: 3.141592653589793"
   ]
  },
  {
   "cell_type": "markdown",
   "metadata": {},
   "source": [
    "2️⃣ datetime – Manejo de fechas y horas\n",
    "\n",
    "Permite trabajar con fechas, horas y sus operaciones."
   ]
  },
  {
   "cell_type": "code",
   "execution_count": null,
   "metadata": {},
   "outputs": [],
   "source": [
    "import datetime\n",
    "\n",
    "# Fecha y hora actual\n",
    "now = datetime.datetime.now()\n",
    "print(now)  # Salida: 2025-02-08 12:30:45.123456\n",
    "\n",
    "# Crear un objeto de fecha\n",
    "fecha = datetime.date(2025, 2, 8)\n",
    "print(fecha)  # Salida: 2025-02-08"
   ]
  },
  {
   "cell_type": "markdown",
   "metadata": {},
   "source": [
    "3️⃣ os – Interacción con el sistema operativo\n",
    "\n",
    "Permite interactuar con el sistema de archivos y realizar operaciones en el sistema operativo."
   ]
  },
  {
   "cell_type": "code",
   "execution_count": null,
   "metadata": {},
   "outputs": [],
   "source": [
    "import os\n",
    "\n",
    "# Regresa la dirección del directorio en que se trabaja\n",
    "print(os.getcwd())\n",
    "\n",
    "# Cambia la dirección del directorio de trabajo\n",
    "# os.chdir('/server/accesslogs')\n",
    "\n",
    "# Listar archivos y carpetas en el directorio actual\n",
    "print(os.listdir('.'))  # Salida: ['script.py', 'documento.txt', ...]\n",
    "\n",
    "# Crear un nuevo directorio\n",
    "os.mkdir('nuevo_directorio')"
   ]
  },
  {
   "cell_type": "markdown",
   "metadata": {},
   "source": [
    "4️⃣ random – Generación de números aleatorios\n",
    "\n",
    "Genera números aleatorios."
   ]
  },
  {
   "cell_type": "code",
   "execution_count": 14,
   "metadata": {},
   "outputs": [
    {
     "name": "stdout",
     "output_type": "stream",
     "text": [
      "9\n",
      "azul\n"
     ]
    }
   ],
   "source": [
    "import random\n",
    "\n",
    "# Generar un número aleatorio entre 1 y 10\n",
    "print(random.randint(1, 10))  # Salida: un número aleatorio entre 1 y 10\n",
    "\n",
    "# Elegir un elemento aleatorio de una lista\n",
    "colores = ['rojo', 'azul', 'verde']\n",
    "print(random.choice(colores))  # Salida: un color al azar"
   ]
  },
  {
   "cell_type": "markdown",
   "metadata": {},
   "source": [
    "5️⃣ sys – Acceso a parámetros y funciones del sistema"
   ]
  },
  {
   "cell_type": "code",
   "execution_count": 20,
   "metadata": {},
   "outputs": [],
   "source": [
    "import sys\n",
    "\n",
    "# Detener una ejecución de un programa\n",
    "sys.exit(\"Termino el programa\")"
   ]
  },
  {
   "cell_type": "code",
   "execution_count": null,
   "metadata": {},
   "outputs": [],
   "source": []
  },
  {
   "cell_type": "markdown",
   "metadata": {},
   "source": [
    "### Clasificación de los tipos de datos en Python\n",
    "\n",
    "Python trata todos los tipos de datos como objetos debido a su naturaleza orientada a objetos. Esto significa que cada tipo de dato, incluso los más simples, tiene métodos y propiedades asociadas.\n",
    "\n",
    "Ejemplo:"
   ]
  },
  {
   "cell_type": "code",
   "execution_count": 21,
   "metadata": {},
   "outputs": [],
   "source": [
    "y = 5  # \"y\" es un objeto\n",
    "\n",
    "# la función \"x\" es un objeto\n",
    "def x():\n",
    "    pass"
   ]
  },
  {
   "cell_type": "markdown",
   "metadata": {},
   "source": []
  },
  {
   "cell_type": "markdown",
   "metadata": {},
   "source": [
    "En Python, cada objeto tiene tres características clave que lo identifican y definen:\n",
    "\n",
    "1. `Identidad:`\n",
    "\n",
    "    - La identidad de un objeto es un identificador único que nunca cambia. En otras palabras, es como la *huella digital* del objeto, que lo distingue de otros objetos.\n",
    "\n",
    "    - Cada objeto en Python tiene un identificador único que podemos obtener usando la función `id()`. Este identificador es específico para cada objeto y es utilizado internamente por Python para gestionar la memoria.\n",
    "\n",
    "    - Para comparar si dos variables `hacen referencia` al mismo objeto, se utiliza el operador `is`, que verifica si ambas variables `apuntan` al mismo objeto en la memoria.\n",
    "\n",
    "\n",
    "Ejemplo:"
   ]
  },
  {
   "cell_type": "code",
   "execution_count": 22,
   "metadata": {},
   "outputs": [
    {
     "name": "stdout",
     "output_type": "stream",
     "text": [
      "4409257536\n",
      "4409257536\n",
      "True\n"
     ]
    }
   ],
   "source": [
    "a = [1, 2, 3]\n",
    "b = a\n",
    "print(id(a))  # Muestra el id de 'a'\n",
    "print(id(b))  # Muestra el id de 'b' (notar como es el mismo id)\n",
    "print(a is b)  # Verifica si 'a' y 'b' hacen referencia al mismo objeto (True)"
   ]
  },
  {
   "cell_type": "markdown",
   "metadata": {},
   "source": [
    "En este caso, \"a\" y \"b\" apuntan al mismo objeto (porque \"b\" es asignada como una referencia a \"a\"), por lo tanto `id(a)` y `id(b)` serán iguales, y \"a\" is \"b\" devolverá True.\n",
    "\n",
    "Qué creen que ocurra ahora:"
   ]
  },
  {
   "cell_type": "code",
   "execution_count": 24,
   "metadata": {},
   "outputs": [
    {
     "name": "stdout",
     "output_type": "stream",
     "text": [
      "4410930688\n",
      "4410733632\n",
      "False\n"
     ]
    }
   ],
   "source": [
    "a = [1, 2, 3]\n",
    "b = [1, 2, 3]\n",
    "print(id(a))  # Muestra el id de 'a'\n",
    "print(id(b))  # Muestra el id de 'b' (notar como es diferente el id)\n",
    "print(a is b)"
   ]
  },
  {
   "cell_type": "markdown",
   "metadata": {},
   "source": [
    "Que tenga misma asignación numérica no significa que apunten al mismo objeto. \n",
    "\n",
    "**IMPORTANTE:**\n",
    "\n",
    "Veamos con un ejemplo uno de los comportamientos que más cuidado hay q tener a la hora de programar:"
   ]
  },
  {
   "cell_type": "code",
   "execution_count": 29,
   "metadata": {},
   "outputs": [
    {
     "name": "stdout",
     "output_type": "stream",
     "text": [
      "4410644800\n",
      "4410644800\n",
      "\n",
      "[5, 2, 3]\n"
     ]
    }
   ],
   "source": [
    "a = [1, 2, 3]\n",
    "b = a\n",
    "print(id(a))\n",
    "print(id(b))\n",
    "\n",
    "print()\n",
    "\n",
    "a[0] = 5  # actualizando el primer elemento\n",
    "print(b)  # noten como también se actualizón b"
   ]
  },
  {
   "cell_type": "markdown",
   "metadata": {},
   "source": [
    "¿Por qué creen que ocurre esto?\n",
    "\n",
    "Como se aprecia, \"a\", \"b\" apuntan al mismo objeto que es una lista, al modificar un elemento de esta, el objeto en si (la lista) sigue siendo el mismo, por tanto al imprimir \"b\" obtendremos la lista actualizada. "
   ]
  },
  {
   "cell_type": "markdown",
   "metadata": {},
   "source": [
    "¿Qué creen que pase ahora?"
   ]
  },
  {
   "cell_type": "code",
   "execution_count": 30,
   "metadata": {},
   "outputs": [
    {
     "name": "stdout",
     "output_type": "stream",
     "text": [
      "4409383232\n",
      "4409383232\n",
      "\n",
      "4346474544\n",
      "[1, 2, 3]\n"
     ]
    }
   ],
   "source": [
    "a = [1, 2, 3]\n",
    "b = a\n",
    "print(id(a))\n",
    "print(id(b))\n",
    "\n",
    "print()\n",
    "\n",
    "a = 5  # haciendo una nueva asignación\n",
    "print(id(a))\n",
    "\n",
    "print(b)  # noten como imprime [1, 2, 3] y no la nueva asignación de a"
   ]
  },
  {
   "cell_type": "markdown",
   "metadata": {},
   "source": [
    "Esto ocurre porque en verdad \"b\" no apunta a \"a\" sino al objeto [1, 2, 3], como también lo hace \"a\" hasta que se le da otra asignación y apunta al objeto 5."
   ]
  },
  {
   "cell_type": "markdown",
   "metadata": {},
   "source": [
    "2. `Tipo:`\n",
    "\n",
    "\t- El tipo de un objeto indica a qué `clase` pertenece ese objeto. Python es un lenguaje orientado a objetos, por lo que cada objeto tiene una clase que define sus propiedades y métodos. El tipo es útil para saber qué operaciones puedes realizar con un objeto.\n",
    "\t- Se puede obtener el tipo de un objeto usando la función `type()`.\n",
    "\n",
    "Ejemplo:"
   ]
  },
  {
   "cell_type": "code",
   "execution_count": null,
   "metadata": {},
   "outputs": [],
   "source": [
    "a = 10\n",
    "b = \"Hola\"\n",
    "print(type(a))  # <class 'int'>\n",
    "print(type(b))  # <class 'str'>"
   ]
  },
  {
   "cell_type": "markdown",
   "metadata": {},
   "source": [
    "3. `Valor:`\n",
    "\n",
    "\t- El valor de un objeto es la información que almacena el objeto. Dependiendo de si el objeto es `mutable` o `inmutable`, el valor de un objeto puede cambiar o no después de su creación.\n",
    "\n",
    "\t- Objetos mutables: Su valor puede modificarse después de su creación (por ejemplo, listas, diccionarios).\n",
    "\t\n",
    "\t- Objetos inmutables: Su valor no puede cambiar después de su creación (por ejemplo, enteros, cadenas de texto, tuplas).\n",
    "\n",
    "Ejemplo con un objeto mutable (lista):"
   ]
  },
  {
   "cell_type": "code",
   "execution_count": 31,
   "metadata": {},
   "outputs": [
    {
     "name": "stdout",
     "output_type": "stream",
     "text": [
      "[10, 2, 3]\n"
     ]
    }
   ],
   "source": [
    "a = [1, 2, 3]\n",
    "a[0] = 10  # Modificamos el valor del primer elemento\n",
    "print(a)  # [10, 2, 3]"
   ]
  },
  {
   "cell_type": "code",
   "execution_count": 32,
   "metadata": {},
   "outputs": [],
   "source": [
    "a = \"Hola\"\n",
    "# Intentamos modificar un carácter (esto causará un error)\n",
    "# a[0] = 'h'  # Esto dará un error, porque las cadenas son inmutables"
   ]
  },
  {
   "cell_type": "markdown",
   "metadata": {},
   "source": [
    "Es importante conocer esto puesto que ambos son tratados de manera diferente y su desconocimiento puede traer comportamientos inesperados en el código.\n",
    "\n",
    "<img src=\"capturas/tabla.png\">\n"
   ]
  },
  {
   "cell_type": "markdown",
   "metadata": {},
   "source": [
    "Veamos ahora un último ejemplo con la tupla (inmutable)"
   ]
  },
  {
   "cell_type": "code",
   "execution_count": null,
   "metadata": {},
   "outputs": [
    {
     "ename": "NameError",
     "evalue": "name 'l' is not defined",
     "output_type": "error",
     "traceback": [
      "\u001b[0;31m---------------------------------------------------------------------------\u001b[0m",
      "\u001b[0;31mNameError\u001b[0m                                 Traceback (most recent call last)",
      "Cell \u001b[0;32mIn[33], line 2\u001b[0m\n\u001b[1;32m      1\u001b[0m t \u001b[38;5;241m=\u001b[39m (\u001b[38;5;241m1\u001b[39m, \u001b[38;5;241m2\u001b[39m, \u001b[38;5;241m3\u001b[39m)  \u001b[38;5;66;03m# asignación\u001b[39;00m\n\u001b[0;32m----> 2\u001b[0m \u001b[38;5;28mprint\u001b[39m(\u001b[38;5;28mid\u001b[39m(l))\n\u001b[1;32m      4\u001b[0m t[\u001b[38;5;241m0\u001b[39m] \u001b[38;5;241m=\u001b[39m \u001b[38;5;241m0\u001b[39m\n",
      "\u001b[0;31mNameError\u001b[0m: name 'l' is not defined"
     ]
    }
   ],
   "source": [
    "t = (1, 2, 3)  # asignación\n",
    "print(id(t))\n",
    "\n",
    "t[0] = 0  # modificación del primer elemento"
   ]
  },
  {
   "cell_type": "markdown",
   "metadata": {},
   "source": [
    "Vean como arrojó un error puesto que la asignación no se puede realizar. Bueno, sí hay una forma de modificar la asignación, veamos"
   ]
  },
  {
   "cell_type": "code",
   "execution_count": 3,
   "metadata": {},
   "outputs": [
    {
     "name": "stdout",
     "output_type": "stream",
     "text": [
      "Imprimiendo tupla  (1, 2, 3)\n",
      "Imprimiendo su Id:  4400878336 \n",
      "\n",
      "Imprimiendo Id de la lista  4400874048 \n",
      "\n",
      "Imprimiendo tupla  (0, 2, 3)\n",
      "Imprimiendo su Id:  4401012480\n"
     ]
    }
   ],
   "source": [
    "t = (1, 2, 3)  # asignación\n",
    "print('Imprimiendo tupla ', t)\n",
    "print('Imprimiendo su Id: ', id(t), '\\n')\n",
    "\n",
    "t = list(t)  # convertimos a mutable\n",
    "t[0] = 0  # modificamos elemento\n",
    "print('Imprimiendo Id de la lista ', id(t), '\\n')\n",
    "\n",
    "t = tuple(t)  # convertimos a inmutable\n",
    "print('Imprimiendo tupla ', t)\n",
    "print('Imprimiendo su Id: ', id(t))"
   ]
  },
  {
   "cell_type": "markdown",
   "metadata": {},
   "source": [
    "NOTEN QUE HICIMOS TRAMPA. Lo que en realidad hicimos fue crear una nueva tupla y asignarle el mismo nombre, pero sin embargo el `id` es diferente del primero"
   ]
  },
  {
   "cell_type": "markdown",
   "metadata": {},
   "source": []
  },
  {
   "cell_type": "markdown",
   "metadata": {},
   "source": [
    "### Tipo de números"
   ]
  },
  {
   "cell_type": "markdown",
   "metadata": {},
   "source": [
    "En Python, `los objetos numéricos son inmutables`, lo que significa que una vez que se crea un objeto numérico con un valor, `ese valor no puede cambiar`. Si deseas cambiar el valor de un número, Python `crea un nuevo objeto con el nuevo valor`.\n",
    "\n",
    "\n",
    "Python ofrece tres tipos de números básicos, cada uno con características específicas:\n",
    "\n",
    "<img src=\"capturas/tabla2.png\">"
   ]
  },
  {
   "cell_type": "markdown",
   "metadata": {},
   "source": [
    "1. Enteros (`int`)\n",
    "    - Los enteros son números enteros sin decimales, como 1, -5, o 42. En Python, los enteros pueden ser de tamaño arbitrario, es decir, no están limitados a una cantidad fija de dígitos, como ocurre en algunos otros lenguajes de programación.\n",
    "\n",
    "    - No hay necesidad de preocuparse por el desbordamiento de enteros ya que Python maneja automáticamente su tamaño."
   ]
  },
  {
   "cell_type": "code",
   "execution_count": null,
   "metadata": {},
   "outputs": [],
   "source": [
    "entero = 42\n",
    "print(type(entero))  # <class 'int'>\n",
    "print(entero)        # 42"
   ]
  },
  {
   "cell_type": "markdown",
   "metadata": {},
   "source": [
    "2. Números de punto flotante (float)\n",
    "\n",
    "\t- Los números de punto flotante o floats son números que contienen decimales. Este tipo de número se utiliza cuando se necesita representar valores con precisión decimal.\n",
    "\n",
    "\t- Los float en Python están sujetos a las limitaciones de precisión de los números de punto flotante en la computadora (esto puede llevar a errores de precisión en algunos cálculos).\n",
    "\n",
    "Ejemplo:"
   ]
  },
  {
   "cell_type": "code",
   "execution_count": null,
   "metadata": {},
   "outputs": [],
   "source": [
    "flotante = 3.14159\n",
    "print(type(flotante))  # <class 'float'>\n",
    "print(flotante)        # 3.14159"
   ]
  },
  {
   "cell_type": "markdown",
   "metadata": {},
   "source": [
    "3. Números complejos (complex)\n",
    "\n",
    "\t- Los números complejos son números que tienen una parte real y una parte imaginaria. En Python, los números complejos se representan con un número real seguido de un signo + o - y una parte imaginaria que se denota con una j (por ejemplo, 3 + 4j).\n",
    "\n",
    "\t- La parte real y la parte imaginaria pueden ser tanto enteros como números de punto flotante.\n",
    "\n",
    "Ejemplo:"
   ]
  },
  {
   "cell_type": "code",
   "execution_count": null,
   "metadata": {},
   "outputs": [],
   "source": [
    "complejo = 3 + 4j\n",
    "print(type(complejo))  # <class 'complex'>\n",
    "print(complejo)        # (3+4j)"
   ]
  },
  {
   "cell_type": "markdown",
   "metadata": {},
   "source": []
  },
  {
   "cell_type": "code",
   "execution_count": null,
   "metadata": {},
   "outputs": [],
   "source": [
    "# Ejemplos\n",
    "real = 0.56\n",
    "real_2 = 56e-02  # notación científica, y done ''e'' (de exponente) indica un exponente en base 10\n",
    "\n",
    "print (real, real_2)\n",
    "\n",
    "type(real_2)\n",
    "\n",
    "\n",
    "complejo = 2 + 7j\n",
    "print(complejo)\n",
    "print('')\n",
    "print('Part. Im', complejo.imag, 'Part. R', complejo.real)  # notar que sería variable.__ (imag o real)\n",
    "print('')\n",
    "print('Tipo',type(complejo))"
   ]
  },
  {
   "cell_type": "markdown",
   "metadata": {},
   "source": [
    "LIMITACIONES:\n",
    "\t\n",
    "- Los números de punto flotante pueden tener problemas de precisión debido a la forma en que las computadoras representan estos números internamente. Esto puede dar lugar a resultados inesperados en cálculos, como en el siguiente ejemplo:"
   ]
  },
  {
   "cell_type": "code",
   "execution_count": 34,
   "metadata": {},
   "outputs": [
    {
     "name": "stdout",
     "output_type": "stream",
     "text": [
      "0.30000000000000004\n"
     ]
    }
   ],
   "source": [
    "a = 0.1 + 0.2\n",
    "print(a)  # Imprime 0.30000000000000004 en lugar de 0.3"
   ]
  },
  {
   "cell_type": "markdown",
   "metadata": {},
   "source": [
    "Por lo tanto, si necesitas realizar cálculos con una precisión más alta, puedes considerar el uso de bibliotecas especializadas como [decimal](https://docs.python.org/3/library/decimal.html#module-decimal) o [fractions](https://docs.python.org/3/library/fractions.html) que ofrecen una mayor precisión."
   ]
  },
  {
   "cell_type": "markdown",
   "metadata": {},
   "source": [
    "**ASIGNACION de memoria** (número de bits):\n",
    "\n",
    "Python hace la asignación de memoria en función del número que se quiere representar. Si queremos conocer el espacio ocupado en memoria, hemos de usar la función `getsizeof()`, la cual devuelve el tamaño en bytes ocupados por el objeto en memoria. Esta función pertenece al paquete (incluido en el kernel) *sys*\n",
    "\n",
    "${\\it Comentario:}$ La función `getsizeof()` retorna los bytes ocupados por el objeto en memoria y estos incluirían tanto el espacio ocupado por la asignación como el correspondiente al tipo de dato. Para una discusión para el caso de una secuencia de caracteres consultar [Link](https://es.stackoverflow.com/questions/109735/por-qué-getsizeof-no-devuelve-el-verdadero-tamaño-en-bytes)."
   ]
  },
  {
   "cell_type": "code",
   "execution_count": 35,
   "metadata": {},
   "outputs": [
    {
     "name": "stdout",
     "output_type": "stream",
     "text": [
      "La asignación de memoria del número: \n",
      " 933263618503218878990089544723817169617091446371708024621714339795966910975775634454440327097881102359594989930324242624215487521354032394841520817203930756234410666138325150273995075985901831511100490796265113118240512514795933790805178271125415103810698378854426481119469814228660959222017662910442798456169448887147466528006328368452647429261829862165202793195289493607117850663668741065439805530718136320599844826041954101213229629869502194514609904214608668361244792952034826864617657926916047420065936389041737895822118365078045556628444273925387517127854796781556346403714877681766899855392069265439424008711973674701749862626690747296762535803929376233833981046927874558605253696441650390625 \n",
      " fue de  336 bytes y es de la clase  <class 'int'> \n",
      "\n",
      "La asignación de memoria del número: \n",
      " 10 \n",
      " fue de  28 bytes y es de la clase  <class 'int'>\n"
     ]
    }
   ],
   "source": [
    "import sys\n",
    "\n",
    "x = 5**1000\n",
    "y = 10\n",
    "\n",
    "print('La asignación de memoria del número: \\n', x, '\\n fue de ', sys.getsizeof(x), 'bytes y es de la clase ', type(x),  '\\n')  # notar como se usa el prefijo sys\n",
    "print('La asignación de memoria del número: \\n', y, '\\n fue de ', sys.getsizeof(y), 'bytes y es de la clase ', type(y))"
   ]
  },
  {
   "cell_type": "code",
   "execution_count": 36,
   "metadata": {},
   "outputs": [
    {
     "ename": "OverflowError",
     "evalue": "(34, 'Result too large')",
     "output_type": "error",
     "traceback": [
      "\u001b[0;31m---------------------------------------------------------------------------\u001b[0m",
      "\u001b[0;31mOverflowError\u001b[0m                             Traceback (most recent call last)",
      "Cell \u001b[0;32mIn[36], line 2\u001b[0m\n\u001b[1;32m      1\u001b[0m \u001b[38;5;66;03m# En ocasiones no es posible imprimir el número por ejemplo\u001b[39;00m\n\u001b[0;32m----> 2\u001b[0m \u001b[38;5;28mprint\u001b[39m(\u001b[38;5;241m5e200\u001b[39m\u001b[38;5;241m*\u001b[39m\u001b[38;5;241m*\u001b[39m\u001b[38;5;241m2\u001b[39m)\n",
      "\u001b[0;31mOverflowError\u001b[0m: (34, 'Result too large')"
     ]
    }
   ],
   "source": [
    "# En ocasiones no es posible imprimir el número por ejemplo\n",
    "print(5e200**2)"
   ]
  },
  {
   "cell_type": "markdown",
   "metadata": {},
   "source": []
  },
  {
   "cell_type": "markdown",
   "metadata": {},
   "source": [
    "*Veamos algunos ejemplos*:"
   ]
  },
  {
   "cell_type": "code",
   "execution_count": 37,
   "metadata": {},
   "outputs": [
    {
     "name": "stdout",
     "output_type": "stream",
     "text": [
      "inf\n"
     ]
    }
   ],
   "source": [
    "# O que es lo suficientemente grande y Python lo considera infinito\n",
    "print(2e2000**2)"
   ]
  },
  {
   "cell_type": "markdown",
   "metadata": {},
   "source": [
    "### Convertir numéricos\n",
    "\n",
    "* tipo `int(x)` convierte x a un número entero (no lo redondea)\n",
    "\n",
    "* tipo `float(x)` convierte x a un número con punto flotante\n",
    "\n",
    "* tipo `complex(x)` convierte x a un número con parte real x e imaginaria cero\n",
    "\n",
    "* tipo  `complex(x, y)` convierte x, y a un número complejo con parte real x e imaginaria y"
   ]
  },
  {
   "cell_type": "markdown",
   "metadata": {},
   "source": []
  },
  {
   "cell_type": "markdown",
   "metadata": {},
   "source": [
    "### Variables\n",
    "\n",
    "Una variable es un espacio para almacenar a un objeto que reside en la memoria. El objeto puede ser de alguno de los tipos vistos (número o cadena de texto), o alguno de los otros tipos existentes en `Python`. En Python, una variable se define con la sintaxis:\n",
    "\n",
    "`nombre_de_la_variable = valor_de_la_variable`\n",
    "\n",
    "Donde `nombre_de_la_variable` es el llamado identificador.\n",
    "\n",
    "Existen ciertas palabras que tienen significado especial para el intérprete de Python. Estas no pueden utilizarse para ningún otro fin (como ser nombrar valores) excepto para el que han sido creadas.\n",
    "\n",
    "Puede verificar si una palabra esta reservada utilizando el módulo integrado keyword, de la siguiente forma:"
   ]
  },
  {
   "cell_type": "code",
   "execution_count": 13,
   "metadata": {},
   "outputs": [
    {
     "name": "stdout",
     "output_type": "stream",
     "text": [
      "True False\n"
     ]
    }
   ],
   "source": [
    "import keyword\n",
    "\n",
    "# caso particular \n",
    "print(keyword.iskeyword('as'), \n",
    "      keyword.iskeyword('x'))\n",
    "\n",
    "# caso general\n",
    "#keyword.kwlist"
   ]
  },
  {
   "cell_type": "markdown",
   "metadata": {},
   "source": [
    "#### Alcance de las variables\n",
    "\n",
    "En Python, el alcance de una variable se refiere a la región del programa donde una variable es accesible. Por defecto, las variables definidas dentro de una función son **locales**, lo que significa que solo pueden ser usadas dentro de esa función. Además, las variables definidas fuera de cualquier función tienen un `alcance global`, es decir, son accesibles desde cualquier parte del código que se encuentre `en el mismo nivel de jerarquía` o en funciones que las utilicen explícitamente."
   ]
  },
  {
   "cell_type": "markdown",
   "metadata": {},
   "source": [
    "Resumiento, en Python el alcance (scope) de una variable se determina estáticamente pero se usa dinámicamente durante la ejecución del código. Para entenderlo mejor, Python sigue el principio **LEGB**, que define el orden en el que se buscan las variables en diferentes ámbitos:\n",
    "\n",
    "-\tL (Local): El ámbito más interno. Contiene los nombres locales definidos dentro de una función.\n",
    "\n",
    "-\tE (Enclosing - No local): Ámbito de funciones que encierran a otra función. Aplica a funciones anidadas.\n",
    "\n",
    "-\tG (Global): Ámbito del módulo en el que se ejecuta el código. Contiene nombres definidos fuera de las funciones.\n",
    "\n",
    "-\tB (Built-in): Ámbito más externo. Contiene nombres predefinidos en Python, como por ejemplo: `print()` o `len()`."
   ]
  },
  {
   "cell_type": "code",
   "execution_count": 38,
   "metadata": {},
   "outputs": [
    {
     "name": "stdout",
     "output_type": "stream",
     "text": [
      "Dentro de interna: local\n",
      "Dentro de externa: enclosing\n",
      "En el ámbito global: global\n"
     ]
    }
   ],
   "source": [
    "# Ejemplo\n",
    "\n",
    "x = \"global\"  # Ámbito global (G)\n",
    "\n",
    "def externa():\n",
    "    x = \"enclosing\"  # Ámbito no local (E)\n",
    "\n",
    "    def interna():\n",
    "        x = \"local\"  # Ámbito local (L)\n",
    "        print(\"Dentro de interna:\", x)\n",
    "\n",
    "    interna()\n",
    "    print(\"Dentro de externa:\", x)\n",
    "\n",
    "externa()\n",
    "print(\"En el ámbito global:\", x)"
   ]
  },
  {
   "cell_type": "markdown",
   "metadata": {},
   "source": [
    "**IMPORTANTE**: Si Python no encuentra un nombre en el ámbito más interno, busca en los niveles superiores siguiendo la jerarquía LEGB.\n",
    "\n",
    "**Uso de `global` y `nonlocal`**\n",
    "\n",
    "- **global**: Se usa para modificar una variable en el ámbito global desde dentro de una función.\n",
    "\n",
    "- **nonlocal**: Se usa para modificar una variable en un ámbito intermedio (enclosing) dentro de una función anidada."
   ]
  },
  {
   "cell_type": "code",
   "execution_count": null,
   "metadata": {},
   "outputs": [],
   "source": [
    "x = \"global\"\n",
    "\n",
    "def externa():\n",
    "    x = \"enclosing\"\n",
    "\n",
    "    def interna():\n",
    "        nonlocal x  # Modifica la variable en el ámbito de externa\n",
    "        x = \"modificado en interna\"\n",
    "        print(\"Dentro de interna:\", x)\n",
    "\n",
    "    interna()\n",
    "    print(\"Dentro de externa:\", x)\n",
    "\n",
    "externa()\n",
    "print(\"En el ámbito global:\", x)"
   ]
  },
  {
   "cell_type": "markdown",
   "metadata": {},
   "source": [
    "Con nonlocal, la variable `x` dentro de `externa()` es modificada por `interna()`, pero la `x global permanece intacta`."
   ]
  },
  {
   "cell_type": "markdown",
   "metadata": {},
   "source": [
    "${\\it Comentario:}$ El espacio de nombres local a una función se crea cuando la función es llamada, y se elimina cuando la función retorna o lanza una excepción que no se maneje dentro de la función."
   ]
  },
  {
   "cell_type": "markdown",
   "metadata": {},
   "source": [
    "#### *Limpiar* una variable\n",
    "\n",
    "Para limpiar la asignación en memoria de una variable (número, tupla, etc.) usamos la sentencia `del`"
   ]
  },
  {
   "cell_type": "code",
   "execution_count": 14,
   "metadata": {},
   "outputs": [
    {
     "name": "stdout",
     "output_type": "stream",
     "text": [
      "(4, 'hola', 3)\n"
     ]
    },
    {
     "ename": "NameError",
     "evalue": "name 'a' is not defined",
     "output_type": "error",
     "traceback": [
      "\u001b[0;31m---------------------------------------------------------------------------\u001b[0m",
      "\u001b[0;31mNameError\u001b[0m                                 Traceback (most recent call last)",
      "Cell \u001b[0;32mIn[14], line 6\u001b[0m\n\u001b[1;32m      3\u001b[0m \u001b[38;5;28mprint\u001b[39m(a)\n\u001b[1;32m      4\u001b[0m \u001b[38;5;28;01mdel\u001b[39;00m a  \u001b[38;5;66;03m# limpiando\u001b[39;00m\n\u001b[0;32m----> 6\u001b[0m \u001b[38;5;28mprint\u001b[39m(a)\n",
      "\u001b[0;31mNameError\u001b[0m: name 'a' is not defined"
     ]
    }
   ],
   "source": [
    "a = (4, 'hola', 3)  # asignación\n",
    "\n",
    "print(a)\n",
    "del a  # limpiando\n",
    "\n",
    "print(a)"
   ]
  },
  {
   "cell_type": "markdown",
   "metadata": {},
   "source": []
  },
  {
   "cell_type": "markdown",
   "metadata": {},
   "source": [
    "### Operadores Aritméticos\n",
    "\n",
    "Los operadores aritméticos en Python permiten realizar operaciones matemáticas básicas como suma, resta, multiplicación, división y más.\n",
    "\n",
    "✅ Lista de Operadores Aritméticos\n",
    "\n",
    "| Operador | Descripción|\tEjemplo |\n",
    "|----------|------------|-----------|\n",
    "| $+$\t   | Suma       | 5 + 3  # 8 |\n",
    "| $-$\t   | Resta      | 5 - 3  # 2 |\n",
    "| $*$\t   | Multiplicación | 5 * 3  # 15|\n",
    "| $/$\t   | División (float) |\t5 / 2  # 2.5|\n",
    "| $//$     | División entera\t| 5 // 2 # 2|\n",
    "| $%$\t   | Módulo (residuo)\t| 5 % 2  # 1|\n",
    "| $**$\t   | Potencia (exponente) |\t5 ** 2 # 25|"
   ]
  },
  {
   "cell_type": "code",
   "execution_count": null,
   "metadata": {},
   "outputs": [],
   "source": [
    "a = [5//3, 5**2, 5**2.] \n",
    "a"
   ]
  },
  {
   "cell_type": "markdown",
   "metadata": {},
   "source": [
    "Notar que hay que tener en cuenta que si utilizamos dos operandos enteros, Python determinará que quiere que la variable resultado también sea un entero, por lo que el resultado de, `5**2` sería 25, mientras que `5**2.` sería 25.0.\n",
    "\n",
    "Si quisiéramos obtener los decimales necesitaríamos que al menos uno de los operandos fuera un número real, o bien indicando los decimales"
   ]
  },
  {
   "cell_type": "code",
   "execution_count": null,
   "metadata": {},
   "outputs": [],
   "source": [
    "# ¿Cuales son las salidas incluyendo el tipo de dato?\n",
    "\n",
    "int(5.7), 5**float(2)"
   ]
  },
  {
   "cell_type": "markdown",
   "metadata": {},
   "source": []
  },
  {
   "cell_type": "markdown",
   "metadata": {},
   "source": [
    "### Orden de precedencia"
   ]
  },
  {
   "cell_type": "markdown",
   "metadata": {},
   "source": [
    "En Python, el orden de precedencia de los operadores aritméticos sigue reglas específicas, similares a las matemáticas convencionales.\n",
    "\n",
    "📌 Orden de ejecución de los operadores:\n",
    "\n",
    "1️⃣ Exponente (`**`): Se evalúa primero.\n",
    "\n",
    "2️⃣ Negación (`-`): Se aplica antes de otros operadores aritméticos.\n",
    "\n",
    "3️⃣ Multiplicación (`*`), División (`/`), División entera (`//`), Módulo (`%`): Se evalúan en el mismo nivel, de izquierda a derecha.\n",
    "\n",
    "4️⃣ Suma (`+`), Resta (`-`): Se evalúan al final.\n",
    "\n",
    "**IMPORTANTE:** \n",
    "\n",
    "- Se pueden omitir el orden usando `()`\n",
    "- Python evalúa de izquierda a derecha, excepto la potenciación (`**`), que se evalúa de derecha a izquierda.\n",
    "- Usar paréntesis mejora la claridad y evita errores en cálculos complejos."
   ]
  },
  {
   "cell_type": "code",
   "execution_count": null,
   "metadata": {},
   "outputs": [],
   "source": [
    "# Cual es la salida?\n",
    "[4**2/2, 4**(2/2)]"
   ]
  },
  {
   "cell_type": "markdown",
   "metadata": {},
   "source": []
  },
  {
   "cell_type": "markdown",
   "metadata": {},
   "source": [
    "### Operadores de asignaciones"
   ]
  },
  {
   "cell_type": "markdown",
   "metadata": {},
   "source": [
    "En Python existe todo un grupo denominado **Operadores de Asignación** que permiten modificar y actualizar valores de variables de forma concisa básicamente asignar un valor a una variable, usando el operador `=`.\n",
    "\n",
    "A continuación presentamo los principales operadores:\n",
    "\n",
    "🔹 1. Operador `=` (Asignación simple): Asigna un valor a una variable."
   ]
  },
  {
   "cell_type": "code",
   "execution_count": null,
   "metadata": {},
   "outputs": [],
   "source": [
    "x = 10\n",
    "print(x)  # Salida: 10"
   ]
  },
  {
   "cell_type": "markdown",
   "metadata": {},
   "source": [
    "**IMPORTANTE:** La operación `x=5`  no significa que 'x' es igual a 5, sino que la variable x esta asociado al objeto 5 (almacena el 5). Por ende  `$x=5` es diferenfe a  `5=x$`."
   ]
  },
  {
   "cell_type": "markdown",
   "metadata": {},
   "source": [
    "🔹 2. Operador `:=` (Operador Walrus o Morsa): Permite asignar un valor a una variable dentro de una expresión. Se introdujo en Python 3.8."
   ]
  },
  {
   "cell_type": "code",
   "execution_count": null,
   "metadata": {},
   "outputs": [],
   "source": [
    "# Sin operador Walrus\n",
    "x = \"Python\"\n",
    "print(x)\n",
    "print(type(x))\n",
    "\n",
    "# Con operador Walrus\n",
    "print(x := \"Python\")  # asigna y devuelve la asignación\n",
    "print(type(x))"
   ]
  },
  {
   "cell_type": "code",
   "execution_count": null,
   "metadata": {},
   "outputs": [],
   "source": [
    "# Sin operador Walrus\n",
    "nombre = input(\"Ingrese su nombre: \")\n",
    "if len(nombre) > 5:\n",
    "    print(f\"El nombre {nombre} es largo.\")\n",
    "\n",
    "# Con operador Walrus\n",
    "if (nombre := input(\"Ingrese su nombre: \")) and len(nombre) > 5:\n",
    "    print(f\"El nombre {nombre} es largo.\")"
   ]
  },
  {
   "cell_type": "markdown",
   "metadata": {},
   "source": [
    "Notar que el usarlo reduce la redundancia al evitar repetir `nombre = input(...)` dos veces.\n",
    "\n",
    "Para más ejemplos consultar la [referencia](https://docs.python.org/3/whatsnew/3.8.html#assignment-expressions)"
   ]
  },
  {
   "cell_type": "markdown",
   "metadata": {},
   "source": [
    "🔹 3. Operadores de asignación compuesta: Estos operadores combinan una operación matemática con una asignación, lo que hace que el código sea más corto y legible."
   ]
  },
  {
   "cell_type": "markdown",
   "metadata": {},
   "source": [
    "|Operador | Descripción                  | Ejemplo equivalente  |\n",
    "|---------|------------------------------|----------------------|\n",
    "|   +=\t  | Suma y asigna                |\tx += 3 → x = x + 3  |\n",
    "|   -=\t  | Resta y asigna               |\tx -= 3 → x = x - 3  |\n",
    "|   *=\t  | Multiplica y asigna          |\tx *= 3 → x = x * 3  |\n",
    "|   /=\t  | Divide y asigna (float)      |\tx /= 3 → x = x / 3  |\n",
    "|  //=    | División entera y asigna     |\tx //= 3 → x = x // 3|\n",
    "|   %=\t  | Módulo y asigna\t             |  x %= 3 → x = x % 3  |\n",
    "|  **=\t  | Potencia y asigna\t         |  x **= 3 → x = x ** 3|\n",
    "|  >>=    | Desplazamiento a la derecha  |\tx >>= 3 → x = x >> 3|\n",
    "|  <<=    | Desplazamiento a la izquierda|\tx <<= 3 → x = x << 3|"
   ]
  },
  {
   "cell_type": "code",
   "execution_count": null,
   "metadata": {},
   "outputs": [],
   "source": [
    "x = 5\n",
    "x += 2  # x = x + 2\n",
    "print(x)  # Salida: 7\n",
    "\n",
    "y = 10\n",
    "y //= 3  # y = y // 3\n",
    "print(y)  # Salida: 3\n",
    "\n",
    "z = 8\n",
    "z **= 2  # z = z ** 2\n",
    "print(z)  # Salida: 64"
   ]
  },
  {
   "cell_type": "markdown",
   "metadata": {},
   "source": [
    "**IMPORTANTE:** Para conocer todas las asignaciones que hemos realizado en nuestro notebook, podemos usar el comando mágico: `%whos`, si queremos reiniciar todas las asignaciones podemos usar `%reset` "
   ]
  },
  {
   "cell_type": "code",
   "execution_count": 17,
   "metadata": {},
   "outputs": [
    {
     "name": "stdout",
     "output_type": "stream",
     "text": [
      "Variable   Type       Data/Info\n",
      "-------------------------------\n",
      "complejo   complex    (2+7j)\n",
      "entero     int        250\n",
      "keyword    module     <module 'keyword' from '/<...>b/python3.11/keyword.py'>\n",
      "l          list       n=3\n",
      "r          int        0\n",
      "real       float      0.56\n",
      "real_2     float      0.56\n",
      "sys        module     <module 'sys' (built-in)>\n",
      "x          int        <object with id 140296877478912 (str() failed)>\n",
      "y          int        10\n"
     ]
    }
   ],
   "source": [
    "%whos"
   ]
  },
  {
   "cell_type": "code",
   "execution_count": 18,
   "metadata": {},
   "outputs": [],
   "source": [
    "%reset"
   ]
  },
  {
   "cell_type": "code",
   "execution_count": 19,
   "metadata": {},
   "outputs": [
    {
     "name": "stdout",
     "output_type": "stream",
     "text": [
      "Interactive namespace is empty.\n"
     ]
    }
   ],
   "source": [
    "%whos"
   ]
  },
  {
   "cell_type": "markdown",
   "metadata": {},
   "source": []
  },
  {
   "cell_type": "markdown",
   "metadata": {},
   "source": [
    "### Operadores Lógicos\n",
    "\n",
    "Los operadores lógicos son los encargados de realizar comparaciones entre tipos de objetos retornando un objeto tipo booleano (veremos más adelante que es). Estos operadores de comparación pueden ser separados en dos clases:\n",
    "\n",
    "- Comparando cantidades\n",
    "\n",
    "<img src=\"capturas/tabla3.png\">"
   ]
  },
  {
   "cell_type": "markdown",
   "metadata": {},
   "source": [
    "- Operando expresiones lógicas\n",
    "\n",
    "<img src=\"capturas/tabla4.png\">\n",
    "\n",
    "El procesamiento lógico de los dos primeros casos se pueden entender en función del siguiente diagrama:\n",
    "\n",
    "<img src=\"capturas/diagrama.png\">\n",
    "\n",
    "\n",
    "Mientras que el operador lógico `not` siempre devolverá lo contrario del argumento.\n",
    "\n",
    "**IMPORTANTE:** Normalmente el número $1$ se usa para denotar verdadero y el $0$ para denotar falso. Sin embargo en Python es diferente y `CUALQUIER` número que no sea igual a $0$ es entendido como *VERDADERO* cuando se use en una operación lógica. Por ejemplo, $3$ y $1$ se interpretarán como *VERDADERO* (`True`). Sin embargo como se discutió en la clase de Buenas Prácticas, es recomendable usar siempre $1$ o $0$.\n",
    "\n",
    "Los siguientes valores también son interpretados como *FALSOS* (`False`):\n",
    "\n",
    "- False\n",
    "\n",
    "- None\n",
    "\n",
    "- Número cero\n",
    "\n",
    "- Cadena de caracteres vacias\n",
    "\n",
    "- Contenedores, incluyendo cadenas de caracteres, tuplas, listas, diccionarios y conjuntos mutables e inmutables\n",
    "\n",
    "Todos los otros valores son interpretados por defecto a `True`. "
   ]
  },
  {
   "cell_type": "markdown",
   "metadata": {},
   "source": [
    "Ejemplos:"
   ]
  },
  {
   "cell_type": "code",
   "execution_count": 55,
   "metadata": {},
   "outputs": [
    {
     "name": "stdout",
     "output_type": "stream",
     "text": [
      "False True\n"
     ]
    }
   ],
   "source": [
    "# Ejemplo\n",
    "print(not(True), not(False))"
   ]
  },
  {
   "cell_type": "code",
   "execution_count": null,
   "metadata": {},
   "outputs": [],
   "source": [
    "(1+3) > (2+5)  # ¿qué dará?"
   ]
  },
  {
   "cell_type": "code",
   "execution_count": 42,
   "metadata": {},
   "outputs": [],
   "source": [
    "(3 > 2) + (5 > 4) # ¿qué dará? # ¿Qué pasó?"
   ]
  },
  {
   "cell_type": "markdown",
   "metadata": {},
   "source": [
    "El uso de booleanos en operaciones matemáticas, implica `True=1, False=0`. Veamos:"
   ]
  },
  {
   "cell_type": "code",
   "execution_count": 43,
   "metadata": {},
   "outputs": [],
   "source": [
    "# True+True"
   ]
  },
  {
   "cell_type": "markdown",
   "metadata": {},
   "source": [
    "**IMPORTANTE:** El orden de aplicación de los operadores influye en el resultado, por lo que es importante saber el orden de prioridad de aplicación. De mayor a menor prioridad, el primer sería `not`, seguido de `and` y `or`."
   ]
  },
  {
   "cell_type": "markdown",
   "metadata": {},
   "source": []
  },
  {
   "cell_type": "markdown",
   "metadata": {},
   "source": [
    "### Datos Booleanos\n",
    "\n",
    "El tipo de dato booleano (bool) en Python solo tiene dos valores posibles:\n",
    "\n",
    "✅ `True` (verdadero)\n",
    "\n",
    "❌ `False` (falso)\n",
    "\n",
    "Son esenciales para expresiones condicionales (`if`, `while`, etc.) y operaciones lógicas."
   ]
  },
  {
   "cell_type": "markdown",
   "metadata": {},
   "source": [
    "Para convertir a tipos booleanos debe usar la función `bool()`, la cual convierte otros tipos de datos en booleanos según ciertas reglas.\n",
    "\n",
    "Ejemplos de Conversión"
   ]
  },
  {
   "cell_type": "code",
   "execution_count": null,
   "metadata": {},
   "outputs": [],
   "source": [
    "print(bool(1))       # True (cualquier número diferente de 0 es True)\n",
    "print(bool(0))       # False (cero es False)\n",
    "print(bool(\"Hola\"))  # True (cualquier cadena con contenido es True)\n",
    "print(bool(\"\"))      # False (cadena vacía es False)\n",
    "print(bool([]))      # False (lista vacía es False)\n",
    "print(bool([1, 2]))  # True (lista con elementos es True)\n",
    "print(bool(None))    # False (None siempre es False)"
   ]
  },
  {
   "cell_type": "markdown",
   "metadata": {},
   "source": [
    "Como se comentó anteriormente en Python, los valores booleanos son subtipos de enteros (`True == 1, False == 0`)."
   ]
  },
  {
   "cell_type": "code",
   "execution_count": null,
   "metadata": {},
   "outputs": [],
   "source": [
    "print(True + True)   # 2 (1 + 1)\n",
    "print(False + True)  # 1 (0 + 1)\n",
    "print(True * 10)     # 10 (1 * 10)\n",
    "print(False * 10)    # 0 (0 * 10)"
   ]
  },
  {
   "cell_type": "markdown",
   "metadata": {},
   "source": [
    "# Tareas\n",
    "\n",
    "1. Construya una expresión lógica equivalente a un OR usando solo AND y NOT.\n",
    "\n",
    "2. Construya una expresión lógica equivalente a un AND usando solo OR y NOT."
   ]
  },
  {
   "cell_type": "markdown",
   "metadata": {},
   "source": [
    "### Respuestas\n",
    "\n",
    "Ver [Link](https://github.com/Mandy8808/Metodos_Numericos_2024/blob/master/Exercises/Bloque0/Tareas_Ejercicios_Part1.pdf)"
   ]
  }
 ],
 "metadata": {
  "kernelspec": {
   "display_name": "base",
   "language": "python",
   "name": "python3"
  },
  "language_info": {
   "codemirror_mode": {
    "name": "ipython",
    "version": 3
   },
   "file_extension": ".py",
   "mimetype": "text/x-python",
   "name": "python",
   "nbconvert_exporter": "python",
   "pygments_lexer": "ipython3",
   "version": "3.11.8"
  }
 },
 "nbformat": 4,
 "nbformat_minor": 2
}

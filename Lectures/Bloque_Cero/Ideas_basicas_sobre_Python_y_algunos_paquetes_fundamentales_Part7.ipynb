{
 "cells": [
  {
   "cell_type": "code",
   "execution_count": 1,
   "metadata": {},
   "outputs": [],
   "source": [
    "import numpy as np"
   ]
  },
  {
   "cell_type": "markdown",
   "metadata": {},
   "source": [
    "Ref: [python tutorial](https://docs.python.org/es/3/tutorial/classes.html)"
   ]
  },
  {
   "cell_type": "markdown",
   "metadata": {},
   "source": [
    "## Ámbitos y espacios de nombres en Python\n",
    "\n",
    "Un espacio de nombres es una relación de nombres a objetos. Lo que es importante saber de los espacios de nombres es que no hay relación en absoluto entre los nombres de espacios de nombres distintos; por ejemplo, dos módulos diferentes pueden tener definidos los dos una función maximizar sin confusión; los usuarios de los módulos deben usar el nombre del módulo como prefijo.\n",
    "\n",
    "Entiendace la palabra atributo para cualquier cosa después de un punto; por ejemplo, en la expresión `z.real`, real es un atributo del objeto z. Estrictamente hablando, las referencias a nombres en módulos son referencias a atributos: en la expresión `modulo.funcion`, modulo es un objeto módulo y funcion es un atributo de éste.\n",
    "\n",
    "`COMENTARIO:` El espacio de nombres local a una función se crea cuando la función es llamada, y se elimina cuando la función retorna o lanza una excepción que no se maneje dentro de la función."
   ]
  },
  {
   "cell_type": "markdown",
   "metadata": {},
   "source": [
    "Aunque los alcances se determinan de forma estática, se utilizan de forma dinámica. En cualquier momento durante la ejecución, hay $3$ o $4$ ámbitos anidados cuyos espacios de nombres son directamente accesibles:\n",
    "- el alcance más interno, que es inspeccionado primero, contiene los nombres locales.\n",
    "- los alcances de cualquier función que encierra a otra, son inspeccionados a partir del alcance más cercano, contienen nombres no locales, pero también no globales.\n",
    "- el penúltimo alcance contiene nombres globales del módulo actual.\n",
    "- el alcance más externo (el último inspeccionado) es el espacio de nombres que contiene los nombres integrados\n",
    "\n",
    "Si un nombre se declara global, entonces todas las referencias y asignaciones se realizan directamente en el ámbito penúltimo que contiene los nombres globales del módulo. "
   ]
  },
  {
   "cell_type": "code",
   "execution_count": 2,
   "metadata": {},
   "outputs": [
    {
     "name": "stdout",
     "output_type": "stream",
     "text": [
      "After local assignment: test spam\n",
      "After nonlocal assignment: nonlocal spam\n",
      "After global assignment: nonlocal spam\n",
      "In global scope: global spam\n"
     ]
    }
   ],
   "source": [
    "# Ejemplos de ámbitos y espacios de nombre\n",
    "def scope_test():\n",
    "    def do_local():\n",
    "        spam = \"local spam\"\n",
    "\n",
    "    def do_nonlocal():\n",
    "        nonlocal spam\n",
    "        spam = \"nonlocal spam\"\n",
    "\n",
    "    def do_global():\n",
    "        global spam\n",
    "        spam = \"global spam\"\n",
    "\n",
    "    spam = \"test spam\"\n",
    "    do_local()\n",
    "    print(\"After local assignment:\", spam)\n",
    "    do_nonlocal()\n",
    "    print(\"After nonlocal assignment:\", spam)\n",
    "    do_global()\n",
    "    print(\"After global assignment:\", spam)\n",
    "\n",
    "scope_test()\n",
    "print(\"In global scope:\", spam)"
   ]
  },
  {
   "cell_type": "markdown",
   "metadata": {},
   "source": [
    "Notar como la asignación *local* (que es el comportamiento normal) no cambió la vinculación de *spam* de *scope_test*. La asignación `nonlocal` cambió la vinculación de *spam* de *scope_test*, y la asignación `global` cambió la vinculación a nivel de módulo."
   ]
  },
  {
   "cell_type": "markdown",
   "metadata": {},
   "source": [
    "### Clases\n",
    "\n",
    "La programación orientada a objetos es un paradigma de programación que nos permite organizar/agrupar un conjunto de variables y funciones. Para ello es usual utilizar las famosas clases.\n",
    "\n",
    "Por ejemplo, podemos representar un coche pueden como una clase. Esta clase tendría diferentes características, como podría ser la marca, el modelo, el kilometraje, etc. A estas características, se les denominará `atributos`. Por otro lado, las clases tienen un conjunto de funcionalidades o cosas que pueden hacer. En el caso del coche podría ser desplazarse. Llamaremos a estas funcionalidades `métodos`. Por último, pueden existir diferentes tipos de coches. Podemos tener uno de la marca como Dodge y otro de la marca Mercedes. Llamaremos a estos diferentes tipos de coches `objetos`. Es decir, el concepto abstracto de coche sería la clase, pero Dodge o cualquiera otra marca particular será el objeto.\n",
    "\n",
    "La programación orientada a objetos está basada en 6 principios o pilares básicos:\n",
    "- Herencia\n",
    "- Cohesión\n",
    "- Abstracción \n",
    "- Polimorfismo\n",
    "- Acoplamiento\n",
    "- Encapsulamiento"
   ]
  },
  {
   "cell_type": "markdown",
   "metadata": {},
   "source": [
    "Ilustremos con un ejemplo práctico:\n",
    "\n",
    "Supongamos que tenemos un juego de naves espaciales que se mueven por la pantalla. Cada nave tendrá ciertas coordenadas/posición $(x,y)$ y otros parámetros como el tipo de nave, su color o tamaño. Sino hicieramos uso de las clases tendríamos que tener una variable para cada dato que queremos almacenar: coordenadas, color, tamaño, tipo, etc. El problema viene si tenemos $10$ naves, ya contaríamos con un número muy elevado de variables que complicaría el código. Todo un desastre. Pues para resolver esto, podemos agrupa bajo una clase un conjunto de variables y funciones, que pueden ser reutilizadas creando objetos (en este ejemplo cada nave)."
   ]
  },
  {
   "cell_type": "markdown",
   "metadata": {},
   "source": [
    "**Podemos definir una clase con la siguiente estructura:**"
   ]
  },
  {
   "cell_type": "raw",
   "metadata": {
    "vscode": {
     "languageId": "raw"
    }
   },
   "source": [
    "# Sintaxis de definición de clases\n",
    "\n",
    "class ClassName:\n",
    "    <statement-1>\n",
    "    .\n",
    "    .\n",
    "    .\n",
    "    <statement-N>"
   ]
  },
  {
   "cell_type": "markdown",
   "metadata": {},
   "source": [
    "Cuando se ingresa una definición de clase, se crea un nuevo espacio de nombres, el cual se usa como ámbito local; por lo tanto, todas las asignaciones a variables locales van a este nuevo espacio de nombres y el objeto clase se asocia allí al nombre que se le puso a la clase en el encabezado de su definición (ClassName en el ejemplo)."
   ]
  },
  {
   "cell_type": "markdown",
   "metadata": {},
   "source": [
    "Veamos un ejemplo que se profundizará en detalle más adelante "
   ]
  },
  {
   "cell_type": "code",
   "execution_count": null,
   "metadata": {},
   "outputs": [],
   "source": [
    "# Creando una clase simple, con dos atributos\n",
    "class MyClass:\n",
    "    \"\"\"A simple example class\"\"\"\n",
    "    i = 12345\n",
    "\n",
    "    def f(self):\n",
    "        return 'hello world'"
   ]
  },
  {
   "cell_type": "markdown",
   "metadata": {},
   "source": [
    "Los objetos clase soportan dos tipos de operaciones: hacer referencia a atributos e instanciación (*llamar* a un objeto clase).\n",
    "\n",
    "Para hacer referencia a atributos se usa la sintaxis `objeto.nombre`. Los nombres de atributo válidos son todos los nombres que estaban en el espacio de nombres de la clase cuando ésta se creó."
   ]
  },
  {
   "cell_type": "code",
   "execution_count": null,
   "metadata": {},
   "outputs": [],
   "source": [
    "# Haciendo referencia\n",
    "# MyClass.i\n",
    "# MyClass.f()  # error usar MyClass.f(None)\n",
    "# MyClass.__doc__"
   ]
  },
  {
   "cell_type": "markdown",
   "metadata": {},
   "source": [
    "`COMENTARIO:`\n",
    "- En este caso tendremos que `MyClass.i` y `MyClass.f` son referencias de atributos válidas, que retornan un entero y un objeto función respectivamente.\n",
    "- Los atributos de clase también pueden ser asignados, o sea que podés cambiar el valor de `MyClass.i` mediante asignación.\n",
    "- El `__doc__` también es un atributo válido, que retorna la documentación asociada a la clase: **\"A simple example class\"**.\n",
    "- La instanciación de clases usa la notación de funciones. Por ejemplo"
   ]
  },
  {
   "cell_type": "code",
   "execution_count": 11,
   "metadata": {},
   "outputs": [
    {
     "data": {
      "text/plain": [
       "'hello world'"
      ]
     },
     "execution_count": 11,
     "metadata": {},
     "output_type": "execute_result"
    }
   ],
   "source": [
    "x = MyClass()  # crea una nueva instancia de la clase y asigna este objeto a la variable local x. Es decir, se crea un objeto de la clase\n",
    "x.f()"
   ]
  },
  {
   "cell_type": "markdown",
   "metadata": {},
   "source": [
    "`Notar` que acá no da error, es decir, podemos usar `f()` puesto que Python de forma automática pasa x (self) como primer argumento de la función. Es decir, cuando llamas `x.f()`, lo que se está indicando es `MyClass.f(x)`. Es decir, hay que tener cuidado cuando la función no toma argumentos, pq en este caso está recibiendo uno.\n",
    "\n",
    "Una forma en que no se \"pasa\" la variable como argumento es a través del método estático, el cual impide a Python pasar el objeto como primer argumento. Luego retomaremos el como hacerlo."
   ]
  },
  {
   "cell_type": "markdown",
   "metadata": {},
   "source": [
    "Profundicemos:\n",
    "\n",
    "### Definiendo atributos\n",
    "\n",
    "A continuación veamos como añadir formalmente algunos atributos a una clase. Los atributos están dibididos en dos tipos:\n",
    "\n",
    "- `Atributos de instancia:` Pertenecen a la instancia (llamado) de la clase o al objeto. Son atributos particulares de cada instancia (llamado).\n",
    "- `Atributos de clase:` Se trata de atributos que pertenecen a la clase, por lo tanto serán comunes para todos los objetos."
   ]
  },
  {
   "cell_type": "markdown",
   "metadata": {},
   "source": [
    "Comencemos creando una clase vacia y un objeto"
   ]
  },
  {
   "cell_type": "code",
   "execution_count": 14,
   "metadata": {},
   "outputs": [],
   "source": [
    "# Creando una clase vacía\n",
    "class Coches:\n",
    "    pass\n",
    "\n",
    "\n",
    "# Creando un objeto de la clase Coches\n",
    "dodge = Coches()"
   ]
  },
  {
   "cell_type": "markdown",
   "metadata": {},
   "source": [
    "Añadamos un par de atributos de instancia para nuestro coche:\n",
    "- Marca\n",
    "- Modelo\n",
    "\n",
    "Para hacer esto, hacemos uso de método `__init__` el cuál en caso de existir dentro de la clase es llamado automáticamente cuando se crea un objeto (es decir, es el estado inicial particular). En caso de no existir crea un objeto vacío."
   ]
  },
  {
   "cell_type": "code",
   "execution_count": 16,
   "metadata": {},
   "outputs": [],
   "source": [
    "class Coches:\n",
    "    # El método __init__ es llamado al crear el objeto\n",
    "    def __init__(self, marca, modelo):\n",
    "        print(f\"Creando coche {marca}, {modelo}\")\n",
    "\n",
    "        # Atributos de instancia\n",
    "        self.marca = marca\n",
    "        self.modelo = modelo"
   ]
  },
  {
   "cell_type": "markdown",
   "metadata": {},
   "source": [
    "`Comentarios:`\n",
    "- El self que se pasa como parámetro de entrada del método es una variable que representa la instancia (llamado) de la clase, y deberá estar siempre ahí.\n",
    "- El uso de __init__ y el doble __  significa que está reservado para un uso especial del lenguaje. En este caso sería lo que se conoce como **constructor**.\n",
    "\n",
    "Ahora que hemos definido el método `__init__` con dos parámetros de entrada, podemos crear el objeto pasando el valor de los atributos."
   ]
  },
  {
   "cell_type": "code",
   "execution_count": 17,
   "metadata": {},
   "outputs": [
    {
     "name": "stdout",
     "output_type": "stream",
     "text": [
      "Creando coche Dodge, Caliber\n"
     ]
    }
   ],
   "source": [
    "dodge = Coches('Dodge', 'Caliber')"
   ]
  },
  {
   "cell_type": "markdown",
   "metadata": {},
   "source": [
    " Usando `type()` podemos ver como efectivamente el objeto es de la clase Coches"
   ]
  },
  {
   "cell_type": "code",
   "execution_count": 21,
   "metadata": {},
   "outputs": [
    {
     "name": "stdout",
     "output_type": "stream",
     "text": [
      "<class '__main__.Coches'>\n"
     ]
    }
   ],
   "source": [
    "print(type(dodge))"
   ]
  },
  {
   "cell_type": "markdown",
   "metadata": {},
   "source": [
    "Para acceder a los atributos del objeto creado, usamos "
   ]
  },
  {
   "cell_type": "code",
   "execution_count": 23,
   "metadata": {},
   "outputs": [
    {
     "data": {
      "text/plain": [
       "('Dodge', 'Caliber')"
      ]
     },
     "execution_count": 23,
     "metadata": {},
     "output_type": "execute_result"
    }
   ],
   "source": [
    "dodge.marca, dodge.modelo"
   ]
  },
  {
   "cell_type": "markdown",
   "metadata": {},
   "source": [
    "Hasta ahora solo hemos definido atributos de instancia (llamado), los cuales son atributos que pertenecen a cada coche en concreto. Definamos a continuación un atributo de clase, que será común para todos los coches. Por ejemplo, su funcionalidad."
   ]
  },
  {
   "cell_type": "code",
   "execution_count": 25,
   "metadata": {},
   "outputs": [],
   "source": [
    "class Coches:\n",
    "    # Atributo de clase\n",
    "    funcionalidad = 'desplazarse'\n",
    "    \n",
    "    # El método __init__ es llamado al crear el objeto\n",
    "    def __init__(self, marca, modelo):\n",
    "        print(f\"Creando coche {marca}, {modelo}\")\n",
    "\n",
    "        # Atributos de instancia\n",
    "        self.marca = marca\n",
    "        self.modelo = modelo"
   ]
  },
  {
   "cell_type": "code",
   "execution_count": 32,
   "metadata": {},
   "outputs": [
    {
     "name": "stdout",
     "output_type": "stream",
     "text": [
      "desplazarse\n",
      "\n",
      "Creando coche Dodge, Caliber\n",
      "desplazarse\n"
     ]
    }
   ],
   "source": [
    "# Dado que es un atributo de clase, no es necesario crear un objeto para acceder al atributos. Podemos hacer lo siguiente.\n",
    "print(Coches.funcionalidad)\n",
    "\n",
    "print()\n",
    "# Se puede acceder también al atributo de clase desde el objeto.\n",
    "dodge = Coches('Dodge', 'Caliber')  # se define de nuevo el objeto pq modificamos la clase\n",
    "print(dodge.funcionalidad)"
   ]
  },
  {
   "cell_type": "code",
   "execution_count": 34,
   "metadata": {},
   "outputs": [
    {
     "name": "stdout",
     "output_type": "stream",
     "text": [
      "Complejo\n"
     ]
    },
    {
     "data": {
      "text/plain": [
       "(3.0, -4.5)"
      ]
     },
     "execution_count": 34,
     "metadata": {},
     "output_type": "execute_result"
    }
   ],
   "source": [
    "# Otro ejemplo\n",
    "class Complex:\n",
    "    tipo = 'Complejo'  # variable clase que es compartida por todas las instancias (llamadas)\n",
    "    \n",
    "    def __init__(self, realpart, imagpart):\n",
    "        # variables de instancias, únicas para cada instancia\n",
    "        self.r = realpart\n",
    "        self.i = imagpart\n",
    "\n",
    "x = Complex(3.0, -4.5)\n",
    "print(x.tipo)\n",
    "x.r, x.i"
   ]
  },
  {
   "cell_type": "markdown",
   "metadata": {},
   "source": [
    "De esta manera, todos los objetos que se creen de la clase Coches compartirán ese atributo de clase, ya que pertenecen a la misma. \n",
    "\n",
    "Veamos a continuación un ejemplo de lo que puede ocurrir si alguna de las variables clase es un mutable"
   ]
  },
  {
   "cell_type": "code",
   "execution_count": 35,
   "metadata": {},
   "outputs": [],
   "source": [
    "class Dog:\n",
    "    tricks = []  # error de usar un mutable como una variable de clase\n",
    "    \n",
    "    def __init__(self, name):\n",
    "        self.name = name  # variable de instancia\n",
    "    \n",
    "    # método\n",
    "    def add_trick(self, trick):\n",
    "        self.tricks.append(trick)"
   ]
  },
  {
   "cell_type": "code",
   "execution_count": 36,
   "metadata": {},
   "outputs": [
    {
     "data": {
      "text/plain": [
       "['roll over', 'play dead']"
      ]
     },
     "execution_count": 36,
     "metadata": {},
     "output_type": "execute_result"
    }
   ],
   "source": [
    "d = Dog('Fido')\n",
    "e = Dog('Buddy')\n",
    "\n",
    "d.add_trick('roll over')\n",
    "e.add_trick('play dead')\n",
    "\n",
    "d.tricks  "
   ]
  },
  {
   "cell_type": "markdown",
   "metadata": {},
   "source": [
    "El error ocurrido es que la lista es compartida por todos y por tanto, al usar el método add_trick para añadir los trucos de cada perro (objeto) este modifica la lista global y no de forma individual."
   ]
  },
  {
   "cell_type": "code",
   "execution_count": 37,
   "metadata": {},
   "outputs": [],
   "source": [
    "# El diseño correcto sería algo así\n",
    "class Dog:\n",
    "\n",
    "    def __init__(self, name):\n",
    "        self.name = name\n",
    "        self.tricks = []    # crea una lista vacía en cada instancia, es decir, para cada objeto\n",
    "        \n",
    "    def add_trick(self, trick):\n",
    "        self.tricks.append(trick)"
   ]
  },
  {
   "cell_type": "code",
   "execution_count": 38,
   "metadata": {},
   "outputs": [
    {
     "data": {
      "text/plain": [
       "(['roll over'], ['play dead'])"
      ]
     },
     "execution_count": 38,
     "metadata": {},
     "output_type": "execute_result"
    }
   ],
   "source": [
    "d = Dog('Fido')\n",
    "e = Dog('Buddy')\n",
    "\n",
    "d.add_trick('roll over')\n",
    "e.add_trick('play dead')\n",
    "\n",
    "d.tricks, e.tricks  "
   ]
  },
  {
   "cell_type": "markdown",
   "metadata": {},
   "source": [
    "`Ultimos comentarios:`\n",
    "\n",
    "- Si el mismo nombre de atributo aparece tanto en la instancia como en la clase, la búsqueda del atributo prioriza la instancia\n"
   ]
  },
  {
   "cell_type": "code",
   "execution_count": 41,
   "metadata": {},
   "outputs": [],
   "source": [
    "class Clima:\n",
    "    # variables Clase compartida por todas las instancias\n",
    "    unidad = 'Celsius'\n",
    "    pais = 'Mexico'"
   ]
  },
  {
   "cell_type": "code",
   "execution_count": 45,
   "metadata": {},
   "outputs": [
    {
     "name": "stdout",
     "output_type": "stream",
     "text": [
      "Celsius Mexico\n",
      "\n",
      "Celsius Cuba\n",
      "\n",
      "Celsius Mexico\n"
     ]
    }
   ],
   "source": [
    "w1 = Clima()  # creando objeto\n",
    "print(w1.unidad, w1.pais)  # accediendo a los atributos de la clase\n",
    "\n",
    "print()\n",
    "\n",
    "w2 = Clima()  # creando otro objeto\n",
    "w2.pais = 'Cuba'  # realizando una instancia de tal forma que aparece el nombre del atributo\n",
    "print(w2.unidad, w2.pais)\n",
    "\n",
    "print()\n",
    "\n",
    "w3 = Clima()  # creando otro objeto\n",
    "# Notar que la instancia anterior no modificó la asignación del atributo\n",
    "print(w3.unidad, w3.pais)"
   ]
  },
  {
   "cell_type": "markdown",
   "metadata": {},
   "source": [
    "Como se aprecia de los ejemplos anteriores hay que tener cuidado a la hora de usar atributos en las clases.\n",
    "\n",
    "- Por convenio se llama self (uno mismo) al primer argumento. Esto no es nada más que una convención: el nombre self no significa nada en especial para Python. Sin embargo, el no usar esta convención el código puede resultar menos legible a otros programadores.\n",
    "\n",
    "A continuación definamos y profundicemos con los Métodos"
   ]
  },
  {
   "cell_type": "code",
   "execution_count": null,
   "metadata": {},
   "outputs": [],
   "source": []
  },
  {
   "cell_type": "markdown",
   "metadata": {},
   "source": [
    "### Definiendo Métodos"
   ]
  },
  {
   "cell_type": "markdown",
   "metadata": {},
   "source": [
    "Con anterioridad llamamos método a una función (def) que tenía como primer argumento la palabra self. El caso `__init__` lo definimos como un método, solo que uno especial. A continuación vamos a ver como definir métodos de forma general de tal forma que le den funcionalidad a la clase, comenzaremos con las ideas básicas para luego definirlos de forma más particular."
   ]
  },
  {
   "cell_type": "markdown",
   "metadata": {},
   "source": [
    "Continuemos con el ejemplo de los autos. En este caso codificaremos dos métodos: kilometraje y conversion. El primero `no recibirá ningún parámetro de entrada` y el segundo recibirá un número y arrojará el valor en km. Se ha de recordar que `self` hace referencia a la instancia de la clase y por tanto SIEMPRE ha de aparecer como primero."
   ]
  },
  {
   "cell_type": "code",
   "execution_count": 47,
   "metadata": {},
   "outputs": [],
   "source": [
    "class Coches:\n",
    "    # Atributo de clase\n",
    "    funcionalidad = 'desplazarse'\n",
    "    \n",
    "    # El método __init__ es llamado al crear el objeto\n",
    "    def __init__(self, marca, modelo):\n",
    "        print(f\"Creando coche {marca}, {modelo}\")\n",
    "\n",
    "        # Atributos de instancia\n",
    "        self.marca = marca\n",
    "        self.modelo = modelo\n",
    "        \n",
    "    # Métodos generales\n",
    "    def kilometraje(self):\n",
    "        print(\"Existente\")\n",
    "\n",
    "    def conversion(self, millas):\n",
    "        print(f\"El auto tiene {millas} millas que son {millas*1.60934} km\")"
   ]
  },
  {
   "cell_type": "markdown",
   "metadata": {},
   "source": [
    "Ahora si creamos un objeto podremos hacer uso de sus métodos llamándolos con `.` y el nombre del método. Como si de una función se tratase, pueden recibir y devolver argumentos."
   ]
  },
  {
   "cell_type": "code",
   "execution_count": 52,
   "metadata": {},
   "outputs": [
    {
     "name": "stdout",
     "output_type": "stream",
     "text": [
      "Creando coche Dodge, Caliber\n",
      "\n",
      "Existente\n",
      "\n",
      "El auto tiene 10 millas que son 16.0934 km\n"
     ]
    }
   ],
   "source": [
    "dodge = Coches('Dodge', 'Caliber')\n",
    "print()\n",
    "dodge.kilometraje()\n",
    "\n",
    "print()\n",
    "dodge.conversion(10)  # probar que ocurre si quitamos el argumento "
   ]
  },
  {
   "cell_type": "markdown",
   "metadata": {},
   "source": [
    "Los métodos pueden hacer instancias a funciones fuera de la clase, es decir, no es necesario que la definición de la función esté textualmente dentro de la definición de la clase: asignando un objeto función a una variable local dentro de la clase. También puede hacer instancias a otros métodos dentro de la propia clase. Veamos un ejemplo:"
   ]
  },
  {
   "cell_type": "code",
   "execution_count": 58,
   "metadata": {},
   "outputs": [],
   "source": [
    "# Función definida fuera de la clase\n",
    "def Abs(self):\n",
    "    return np.sqrt(self.r**2+self.i**2)\n",
    "\n",
    "class Complex:\n",
    "    tipo = 'Complejo'  # variable clase que es compartida por todas las instancias (llamadas)\n",
    "    \n",
    "    def __init__(self, realpart, imagpart):\n",
    "        # variables de instancias, únicas para cada instancia\n",
    "        self.r = realpart\n",
    "        self.i = imagpart\n",
    "        \n",
    "    def sumComplex(self, c2):  # recibe un objeto c2 de la clase Complex y podemos usar sus variables\n",
    "        re = self.r + c2.r\n",
    "        im = self.i + c2.i\n",
    "        return Complex(re, im)  # devolvemos un objeto de la clase Complex\n",
    "        \n",
    "    Ab = Abs\n",
    "    h = sumComplex   "
   ]
  },
  {
   "cell_type": "code",
   "execution_count": 65,
   "metadata": {},
   "outputs": [
    {
     "name": "stdout",
     "output_type": "stream",
     "text": [
      "Complejo\n",
      "3.0 -4.5\n",
      "2.0 1.5\n",
      "\n",
      "Abs\n",
      "5.408326913195984\n",
      "\n",
      "Suma\n",
      "5.0 -3.0\n"
     ]
    }
   ],
   "source": [
    "x = Complex(3.0, -4.5)\n",
    "y = Complex(2.0, 1.5)\n",
    "\n",
    "print(x.tipo)\n",
    "print(x.r, x.i)\n",
    "print(y.r, y.i)\n",
    "\n",
    "print()\n",
    "print('Abs')\n",
    "print(x.Ab())\n",
    "\n",
    "print()\n",
    "print('Suma')\n",
    "c3 = x.h(y)\n",
    "print(c3.r, c3.i)"
   ]
  },
  {
   "cell_type": "markdown",
   "metadata": {},
   "source": [
    "Los métodos pueden llamar a otros métodos de la instancia usando el argumento `self`:"
   ]
  },
  {
   "cell_type": "code",
   "execution_count": 66,
   "metadata": {},
   "outputs": [],
   "source": [
    "class Bag:\n",
    "    def __init__(self):\n",
    "        self.data = []  # asigna una lista vacia en cada instancia como variable de instancia\n",
    "\n",
    "    def add(self, x):\n",
    "        self.data.append(x)  # crea un método que añade a la variable data el objeto x\n",
    "\n",
    "    def addtwice(self, x):  # llama al método anterior usando self.add()\n",
    "        self.add(x)\n",
    "        self.add(x)"
   ]
  },
  {
   "cell_type": "code",
   "execution_count": 71,
   "metadata": {},
   "outputs": [
    {
     "data": {
      "text/plain": [
       "[5, 5]"
      ]
     },
     "execution_count": 71,
     "metadata": {},
     "output_type": "execute_result"
    }
   ],
   "source": [
    "x = Bag()  # crea un objeto con una lista vacia data\n",
    "x.addtwice(5)\n",
    "x.data"
   ]
  },
  {
   "cell_type": "code",
   "execution_count": null,
   "metadata": {},
   "outputs": [],
   "source": []
  },
  {
   "cell_type": "markdown",
   "metadata": {},
   "source": [
    "En otros posts hemos visto como se pueden crear métodos con def dentro de una clase, pudiendo recibir parámetros como entrada y modificar el estado (como los atributos) de la instancia. Pues bien, haciendo uso de los decoradores, es posible crear diferentes tipos de métodos:\n",
    "\n",
    "Lo métodos de instancia “normales” que ya hemos visto como metodo()\n",
    "Métodos de clase usando el decorador @classmethod\n",
    "Y métodos estáticos usando el decorador @staticmethod\n",
    "En la siguiente clase tenemos un ejemplo donde definimos los tres tipos de métodos."
   ]
  },
  {
   "cell_type": "code",
   "execution_count": null,
   "metadata": {},
   "outputs": [],
   "source": [
    "class Clase:\n",
    "    def metodo(self):\n",
    "        return 'Método normal', self\n",
    "\n",
    "    @classmethod\n",
    "    def metododeclase(cls):\n",
    "        return 'Método de clase', cls\n",
    "\n",
    "    @staticmethod\n",
    "    def metodoestatico():\n",
    "        return \"Método estático\""
   ]
  },
  {
   "cell_type": "markdown",
   "metadata": {},
   "source": [
    "Veamos su comportamiento en detalle uno por uno.\n",
    "\n",
    "Métodos de instancia\n",
    "Los métodos de instancia son los métodos normales, de toda la vida, que hemos visto anteriormente. Reciben como parámetro de entrada self que hace referencia a la instancia que llama al método. También pueden recibir otros argumentos como entrada.\n",
    "\n",
    "Para saber más: El uso de \"self\" es totalmente arbitrario. Se trata de una convención acordada por los usuarios de Python, usada para referirse a la instancia que llama al método, pero podría ser cualquier otro nombre. Lo mismo ocurre con \"cls\", que veremos a continuación."
   ]
  },
  {
   "cell_type": "code",
   "execution_count": null,
   "metadata": {},
   "outputs": [],
   "source": [
    "class Clase:\n",
    "    def metodo(self, arg1, arg2):\n",
    "        return 'Método normal', self"
   ]
  },
  {
   "cell_type": "markdown",
   "metadata": {},
   "source": [
    "Y como ya sabemos, una vez creado un objeto pueden ser llamados."
   ]
  },
  {
   "cell_type": "code",
   "execution_count": null,
   "metadata": {},
   "outputs": [],
   "source": [
    "mi_clase = Clase()\n",
    "mi_clase.metodo(\"a\", \"b\")\n",
    "# ('Método normal', <__main__.Clase at 0x10b9daa90>)"
   ]
  },
  {
   "cell_type": "markdown",
   "metadata": {},
   "source": [
    "En vista a esto, los métodos de instancia:\n",
    "\n",
    "Pueden acceder y modificar los atributos del objeto.\n",
    "Pueden acceder a otros métodos.\n",
    "Dado que desde el objeto self se puede acceder a la clase con ` self.class`, también pueden modificar el estado de la clase"
   ]
  },
  {
   "cell_type": "markdown",
   "metadata": {},
   "source": [
    "Métodos de clase (classmethod)\n",
    "A diferencia de los métodos de instancia, los métodos de clase reciben como argumento cls, que hace referencia a la clase. Por lo tanto, pueden acceder a la clase pero no a la instancia."
   ]
  },
  {
   "cell_type": "code",
   "execution_count": null,
   "metadata": {},
   "outputs": [],
   "source": [
    "class Clase:\n",
    "    @classmethod\n",
    "    def metododeclase(cls):\n",
    "        return 'Método de clase', cls"
   ]
  },
  {
   "cell_type": "markdown",
   "metadata": {},
   "source": [
    "Se pueden llamar sobre la clase."
   ]
  },
  {
   "cell_type": "code",
   "execution_count": null,
   "metadata": {},
   "outputs": [],
   "source": [
    "Clase.metododeclase()\n",
    "# ('Método de clase', __main__.Clase)"
   ]
  },
  {
   "cell_type": "markdown",
   "metadata": {},
   "source": [
    "Pero también se pueden llamar sobre el objeto."
   ]
  },
  {
   "cell_type": "code",
   "execution_count": null,
   "metadata": {},
   "outputs": [],
   "source": [
    "mi_clase.metododeclase()\n",
    "# ('Método de clase', __main__.Clase)"
   ]
  },
  {
   "cell_type": "markdown",
   "metadata": {},
   "source": [
    "Por lo tanto, los métodos de clase:\n",
    "\n",
    "No pueden acceder a los atributos de la instancia.\n",
    "Pero si pueden modificar los atributos de la clase."
   ]
  },
  {
   "cell_type": "markdown",
   "metadata": {},
   "source": [
    "Métodos estáticos (staticmethod)\n",
    "Por último, los métodos estáticos se pueden definir con el decorador @staticmethod y no aceptan como parámetro ni la instancia ni la clase. Es por ello por lo que no pueden modificar el estado ni de la clase ni de la instancia. Pero por supuesto pueden aceptar parámetros de entrada."
   ]
  },
  {
   "cell_type": "code",
   "execution_count": null,
   "metadata": {},
   "outputs": [],
   "source": [
    "class Clase:\n",
    "    @staticmethod\n",
    "    def metodoestatico():\n",
    "        return \"Método estático\"\n",
    "mi_clase = Clase()\n",
    "Clase.metodoestatico()\n",
    "mi_clase.metodoestatico()"
   ]
  },
  {
   "cell_type": "markdown",
   "metadata": {},
   "source": [
    "Por lo tanto el uso de los métodos estáticos pueden resultar útil para indicar que un método no modificará el estado de la instancia ni de la clase. Es cierto que se podría hacer lo mismo con un método de instancia por ejemplo, pero a veces resulta importante indicar de alguna manera estas peculiaridades, evitando así futuros problemas y malentendidos.\n",
    "\n",
    "En otras palabras, los métodos estáticos se podrían ver como funciones normales, con la salvedad de que van ligadas a una clase concreta."
   ]
  },
  {
   "cell_type": "markdown",
   "metadata": {},
   "source": [
    "### Herencias"
   ]
  },
  {
   "cell_type": "markdown",
   "metadata": {},
   "source": [
    "### Decorador Property"
   ]
  },
  {
   "cell_type": "markdown",
   "metadata": {},
   "source": [
    "### Métodos dunder o mágicos"
   ]
  },
  {
   "cell_type": "markdown",
   "metadata": {},
   "source": [
    "### Sobreescribiendo métodos mágicos"
   ]
  },
  {
   "cell_type": "markdown",
   "metadata": {},
   "source": [
    "### Interfaces y Abstrac Base Class"
   ]
  },
  {
   "cell_type": "markdown",
   "metadata": {},
   "source": []
  }
 ],
 "metadata": {
  "kernelspec": {
   "display_name": "base",
   "language": "python",
   "name": "python3"
  },
  "language_info": {
   "codemirror_mode": {
    "name": "ipython",
    "version": 3
   },
   "file_extension": ".py",
   "mimetype": "text/x-python",
   "name": "python",
   "nbconvert_exporter": "python",
   "pygments_lexer": "ipython3",
   "version": "3.11.4"
  }
 },
 "nbformat": 4,
 "nbformat_minor": 2
}

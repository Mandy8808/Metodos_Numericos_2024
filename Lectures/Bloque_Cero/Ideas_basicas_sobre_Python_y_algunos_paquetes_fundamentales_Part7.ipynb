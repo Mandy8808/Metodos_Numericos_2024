{
 "cells": [
  {
   "cell_type": "code",
   "execution_count": 1,
   "metadata": {},
   "outputs": [],
   "source": [
    "import numpy as np"
   ]
  },
  {
   "cell_type": "markdown",
   "metadata": {},
   "source": [
    "Ref: [python tutorial](https://docs.python.org/es/3/tutorial/classes.html)"
   ]
  },
  {
   "cell_type": "markdown",
   "metadata": {},
   "source": [
    "## Ámbitos y espacios de nombres en Python\n",
    "\n",
    "Un espacio de nombres es una relación de nombres a objetos. Lo que es importante saber de los espacios de nombres es que no hay relación en absoluto entre los nombres de espacios de nombres distintos; por ejemplo, dos módulos diferentes pueden tener definidos los dos una función maximizar sin confusión; los usuarios de los módulos deben usar el nombre del módulo como prefijo.\n",
    "\n",
    "Entiendace la palabra atributo para cualquier cosa después de un punto; por ejemplo, en la expresión `z.real`, real es un atributo del objeto z. Estrictamente hablando, las referencias a nombres en módulos son referencias a atributos: en la expresión `modulo.funcion`, modulo es un objeto módulo y funcion es un atributo de éste.\n",
    "\n",
    "`COMENTARIO:` El espacio de nombres local a una función se crea cuando la función es llamada, y se elimina cuando la función retorna o lanza una excepción que no se maneje dentro de la función."
   ]
  },
  {
   "cell_type": "markdown",
   "metadata": {},
   "source": [
    "Aunque los alcances se determinan de forma estática, se utilizan de forma dinámica. En cualquier momento durante la ejecución, hay $3$ o $4$ ámbitos anidados cuyos espacios de nombres son directamente accesibles:\n",
    "- el alcance más interno, que es inspeccionado primero, contiene los nombres locales.\n",
    "- los alcances de cualquier función que encierra a otra, son inspeccionados a partir del alcance más cercano, contienen nombres no locales, pero también no globales.\n",
    "- el penúltimo alcance contiene nombres globales del módulo actual.\n",
    "- el alcance más externo (el último inspeccionado) es el espacio de nombres que contiene los nombres integrados\n",
    "\n",
    "Si un nombre se declara global, entonces todas las referencias y asignaciones se realizan directamente en el ámbito penúltimo que contiene los nombres globales del módulo. "
   ]
  },
  {
   "cell_type": "code",
   "execution_count": 2,
   "metadata": {},
   "outputs": [
    {
     "name": "stdout",
     "output_type": "stream",
     "text": [
      "After local assignment: test spam\n",
      "After nonlocal assignment: nonlocal spam\n",
      "After global assignment: nonlocal spam\n",
      "In global scope: global spam\n"
     ]
    }
   ],
   "source": [
    "# Ejemplos de ámbitos y espacios de nombre\n",
    "def scope_test():\n",
    "    def do_local():\n",
    "        spam = \"local spam\"\n",
    "\n",
    "    def do_nonlocal():\n",
    "        nonlocal spam\n",
    "        spam = \"nonlocal spam\"\n",
    "\n",
    "    def do_global():\n",
    "        global spam\n",
    "        spam = \"global spam\"\n",
    "\n",
    "    spam = \"test spam\"\n",
    "    do_local()\n",
    "    print(\"After local assignment:\", spam)\n",
    "    do_nonlocal()\n",
    "    print(\"After nonlocal assignment:\", spam)\n",
    "    do_global()\n",
    "    print(\"After global assignment:\", spam)\n",
    "\n",
    "scope_test()\n",
    "print(\"In global scope:\", spam)"
   ]
  },
  {
   "cell_type": "markdown",
   "metadata": {},
   "source": [
    "Notar como la asignación *local* (que es el comportamiento normal) no cambió la vinculación de *spam* de *scope_test*. La asignación `nonlocal` cambió la vinculación de *spam* de *scope_test*, y la asignación `global` cambió la vinculación a nivel de módulo."
   ]
  },
  {
   "cell_type": "markdown",
   "metadata": {},
   "source": [
    "### Clases\n",
    "\n",
    "La programación orientada a objetos es un paradigma de programación que nos permite organizar/agrupar un conjunto de variables y funciones. Para ello es usual utilizar las famosas clases.\n",
    "\n",
    "Por ejemplo, podemos representar un coche pueden como una clase. Esta clase tendría diferentes características, como podría ser la marca, el modelo, el kilometraje, etc. A estas características, se les denominará `atributos`. Por otro lado, las clases tienen un conjunto de funcionalidades o cosas que pueden hacer. En el caso del coche podría ser desplazarse. Llamaremos a estas funcionalidades `métodos`. Por último, pueden existir diferentes tipos de coches. Podemos tener uno de la marca como Dodge y otro de la marca Mercedes. Llamaremos a estos diferentes tipos de coches `objetos`. Es decir, el concepto abstracto de coche sería la clase, pero Dodge o cualquiera otra marca particular será el objeto.\n",
    "\n",
    "La programación orientada a objetos está basada en 6 principios o pilares básicos:\n",
    "- Herencia\n",
    "- Cohesión\n",
    "- Abstracción \n",
    "- Polimorfismo\n",
    "- Acoplamiento\n",
    "- Encapsulamiento"
   ]
  },
  {
   "cell_type": "markdown",
   "metadata": {},
   "source": [
    "Ilustremos con un ejemplo práctico:\n",
    "\n",
    "Supongamos que tenemos un juego de naves espaciales que se mueven por la pantalla. Cada nave tendrá ciertas coordenadas/posición $(x,y)$ y otros parámetros como el tipo de nave, su color o tamaño. Sino hicieramos uso de las clases tendríamos que tener una variable para cada dato que queremos almacenar: coordenadas, color, tamaño, tipo, etc. El problema viene si tenemos $10$ naves, ya contaríamos con un número muy elevado de variables que complicaría el código. Todo un desastre. Pues para resolver esto, podemos agrupa bajo una clase un conjunto de variables y funciones, que pueden ser reutilizadas creando objetos (en este ejemplo cada nave)."
   ]
  },
  {
   "cell_type": "markdown",
   "metadata": {},
   "source": [
    "**Podemos definir una clase con la siguiente estructura:**"
   ]
  },
  {
   "cell_type": "raw",
   "metadata": {
    "vscode": {
     "languageId": "raw"
    }
   },
   "source": [
    "# Sintaxis de definición de clases\n",
    "\n",
    "class ClassName:\n",
    "    <statement-1>\n",
    "    .\n",
    "    .\n",
    "    .\n",
    "    <statement-N>"
   ]
  },
  {
   "cell_type": "markdown",
   "metadata": {},
   "source": [
    "Cuando se ingresa una definición de clase, se crea un nuevo espacio de nombres, el cual se usa como ámbito local; por lo tanto, todas las asignaciones a variables locales van a este nuevo espacio de nombres y el objeto clase se asocia allí al nombre que se le puso a la clase en el encabezado de su definición (ClassName en el ejemplo)."
   ]
  },
  {
   "cell_type": "markdown",
   "metadata": {},
   "source": [
    "Veamos un ejemplo que se profundizará en detalle más adelante "
   ]
  },
  {
   "cell_type": "code",
   "execution_count": null,
   "metadata": {},
   "outputs": [],
   "source": [
    "# Creando una clase simple, con dos atributos\n",
    "class MyClass:\n",
    "    \"\"\"A simple example class\"\"\"\n",
    "    i = 12345\n",
    "\n",
    "    def f(self):\n",
    "        return 'hello world'"
   ]
  },
  {
   "cell_type": "markdown",
   "metadata": {},
   "source": [
    "Los objetos clase soportan dos tipos de operaciones: hacer referencia a atributos e instanciación (*llamar* a un objeto clase).\n",
    "\n",
    "Para hacer referencia a atributos se usa la sintaxis `objeto.nombre`. Los nombres de atributo válidos son todos los nombres que estaban en el espacio de nombres de la clase cuando ésta se creó."
   ]
  },
  {
   "cell_type": "code",
   "execution_count": null,
   "metadata": {},
   "outputs": [],
   "source": [
    "# Haciendo referencia\n",
    "# MyClass.i\n",
    "# MyClass.f()  # error usar MyClass.f(None)\n",
    "# MyClass.__doc__"
   ]
  },
  {
   "cell_type": "markdown",
   "metadata": {},
   "source": [
    "`COMENTARIO:`\n",
    "- En este caso tendremos que `MyClass.i` y `MyClass.f` son referencias de atributos válidas, que retornan un entero y un objeto función respectivamente.\n",
    "- Los atributos de clase también pueden ser asignados, o sea que podés cambiar el valor de `MyClass.i` mediante asignación.\n",
    "- El `__doc__` también es un atributo válido, que retorna la documentación asociada a la clase: **\"A simple example class\"**.\n",
    "- La instanciación de clases usa la notación de funciones. Por ejemplo"
   ]
  },
  {
   "cell_type": "code",
   "execution_count": 11,
   "metadata": {},
   "outputs": [
    {
     "data": {
      "text/plain": [
       "'hello world'"
      ]
     },
     "execution_count": 11,
     "metadata": {},
     "output_type": "execute_result"
    }
   ],
   "source": [
    "x = MyClass()  # crea una nueva instancia de la clase y asigna este objeto a la variable local x. Es decir, se crea un objeto de la clase\n",
    "x.f()"
   ]
  },
  {
   "cell_type": "markdown",
   "metadata": {},
   "source": [
    "`Notar` que acá no da error, es decir, podemos usar `f()` puesto que Python de forma automática pasa x (self) como primer argumento de la función. Es decir, cuando llamas `x.f()`, lo que se está indicando es `MyClass.f(x)`. Es decir, hay que tener cuidado cuando la función no toma argumentos, pq en este caso está recibiendo uno.\n",
    "\n",
    "Una forma en que no se \"pasa\" la variable como argumento es a través del método estático, el cual impide a Python pasar el objeto como primer argumento. Luego retomaremos el como hacerlo."
   ]
  },
  {
   "cell_type": "markdown",
   "metadata": {},
   "source": [
    "Profundicemos:\n",
    "\n",
    "### Definiendo atributos\n",
    "\n",
    "A continuación veamos como añadir formalmente algunos atributos a una clase. Los atributos están dibididos en dos tipos:\n",
    "\n",
    "- `Atributos de instancia:` Pertenecen a la instancia (llamado) de la clase o al objeto. Son atributos particulares de cada instancia (llamado).\n",
    "- `Atributos de clase:` Se trata de atributos que pertenecen a la clase, por lo tanto serán comunes para todos los objetos."
   ]
  },
  {
   "cell_type": "markdown",
   "metadata": {},
   "source": [
    "Comencemos creando una clase vacia y un objeto"
   ]
  },
  {
   "cell_type": "code",
   "execution_count": 14,
   "metadata": {},
   "outputs": [],
   "source": [
    "# Creando una clase vacía\n",
    "class Coches:\n",
    "    pass\n",
    "\n",
    "\n",
    "# Creando un objeto de la clase Coches\n",
    "dodge = Coches()"
   ]
  },
  {
   "cell_type": "markdown",
   "metadata": {},
   "source": [
    "Añadamos un par de atributos de instancia para nuestro coche:\n",
    "- Marca\n",
    "- Modelo\n",
    "\n",
    "Para hacer esto, hacemos uso de método `__init__` el cuál en caso de existir dentro de la clase es llamado automáticamente cuando se crea un objeto (es decir, es el estado inicial particular). En caso de no existir crea un objeto vacío."
   ]
  },
  {
   "cell_type": "code",
   "execution_count": 16,
   "metadata": {},
   "outputs": [],
   "source": [
    "class Coches:\n",
    "    # El método __init__ es llamado al crear el objeto\n",
    "    def __init__(self, marca, modelo):\n",
    "        print(f\"Creando coche {marca}, {modelo}\")\n",
    "\n",
    "        # Atributos de instancia\n",
    "        self.marca = marca\n",
    "        self.modelo = modelo"
   ]
  },
  {
   "cell_type": "markdown",
   "metadata": {},
   "source": [
    "`Comentarios:`\n",
    "- El self que se pasa como parámetro de entrada del método es una variable que representa la instancia (llamado) de la clase, y deberá estar siempre ahí.\n",
    "- El uso de __init__ y el doble __  significa que está reservado para un uso especial del lenguaje. En este caso sería lo que se conoce como **constructor**.\n",
    "\n",
    "Ahora que hemos definido el método `__init__` con dos parámetros de entrada, podemos crear el objeto pasando el valor de los atributos."
   ]
  },
  {
   "cell_type": "code",
   "execution_count": 17,
   "metadata": {},
   "outputs": [
    {
     "name": "stdout",
     "output_type": "stream",
     "text": [
      "Creando coche Dodge, Caliber\n"
     ]
    }
   ],
   "source": [
    "dodge = Coches('Dodge', 'Caliber')"
   ]
  },
  {
   "cell_type": "markdown",
   "metadata": {},
   "source": [
    " Usando `type()` podemos ver como efectivamente el objeto es de la clase Coches"
   ]
  },
  {
   "cell_type": "code",
   "execution_count": 21,
   "metadata": {},
   "outputs": [
    {
     "name": "stdout",
     "output_type": "stream",
     "text": [
      "<class '__main__.Coches'>\n"
     ]
    }
   ],
   "source": [
    "print(type(dodge))"
   ]
  },
  {
   "cell_type": "markdown",
   "metadata": {},
   "source": [
    "Para acceder a los atributos del objeto creado, usamos "
   ]
  },
  {
   "cell_type": "code",
   "execution_count": 23,
   "metadata": {},
   "outputs": [
    {
     "data": {
      "text/plain": [
       "('Dodge', 'Caliber')"
      ]
     },
     "execution_count": 23,
     "metadata": {},
     "output_type": "execute_result"
    }
   ],
   "source": [
    "dodge.marca, dodge.modelo"
   ]
  },
  {
   "cell_type": "markdown",
   "metadata": {},
   "source": [
    "Hasta ahora solo hemos definido atributos de instancia (llamado), los cuales son atributos que pertenecen a cada coche en concreto. Definamos a continuación un atributo de clase, que será común para todos los coches. Por ejemplo, su funcionalidad."
   ]
  },
  {
   "cell_type": "code",
   "execution_count": 25,
   "metadata": {},
   "outputs": [],
   "source": [
    "class Coches:\n",
    "    # Atributo de clase\n",
    "    funcionalidad = 'desplazarse'\n",
    "    \n",
    "    # El método __init__ es llamado al crear el objeto\n",
    "    def __init__(self, marca, modelo):\n",
    "        print(f\"Creando coche {marca}, {modelo}\")\n",
    "\n",
    "        # Atributos de instancia\n",
    "        self.marca = marca\n",
    "        self.modelo = modelo"
   ]
  },
  {
   "cell_type": "code",
   "execution_count": 32,
   "metadata": {},
   "outputs": [
    {
     "name": "stdout",
     "output_type": "stream",
     "text": [
      "desplazarse\n",
      "\n",
      "Creando coche Dodge, Caliber\n",
      "desplazarse\n"
     ]
    }
   ],
   "source": [
    "# Dado que es un atributo de clase, no es necesario crear un objeto para acceder al atributos. Podemos hacer lo siguiente.\n",
    "print(Coches.funcionalidad)\n",
    "\n",
    "print()\n",
    "# Se puede acceder también al atributo de clase desde el objeto.\n",
    "dodge = Coches('Dodge', 'Caliber')  # se define de nuevo el objeto pq modificamos la clase\n",
    "print(dodge.funcionalidad)"
   ]
  },
  {
   "cell_type": "markdown",
   "metadata": {},
   "source": [
    "De esta manera, todos los objetos que se creen de la clase Coches compartirán ese atributo de clase, ya que pertenecen a la misma."
   ]
  },
  {
   "cell_type": "markdown",
   "metadata": {},
   "source": []
  }
 ],
 "metadata": {
  "kernelspec": {
   "display_name": "base",
   "language": "python",
   "name": "python3"
  },
  "language_info": {
   "codemirror_mode": {
    "name": "ipython",
    "version": 3
   },
   "file_extension": ".py",
   "mimetype": "text/x-python",
   "name": "python",
   "nbconvert_exporter": "python",
   "pygments_lexer": "ipython3",
   "version": "3.11.4"
  }
 },
 "nbformat": 4,
 "nbformat_minor": 2
}

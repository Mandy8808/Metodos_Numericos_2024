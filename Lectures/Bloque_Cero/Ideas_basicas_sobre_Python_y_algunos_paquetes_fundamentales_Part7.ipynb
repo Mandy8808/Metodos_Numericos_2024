{
 "cells": [
  {
   "cell_type": "code",
   "execution_count": 1,
   "metadata": {},
   "outputs": [],
   "source": [
    "import numpy as np"
   ]
  },
  {
   "cell_type": "markdown",
   "metadata": {},
   "source": [
    "Ref: [python tutorial](https://docs.python.org/es/3/tutorial/classes.html)"
   ]
  },
  {
   "cell_type": "markdown",
   "metadata": {},
   "source": [
    "## Ámbitos y espacios de nombres en Python\n",
    "\n",
    "Un espacio de nombres es una relación de nombres a objetos. Lo que es importante saber de los espacios de nombres es que no hay relación en absoluto entre los nombres de espacios de nombres distintos; por ejemplo, dos módulos diferentes pueden tener definidos los dos una función maximizar sin confusión; los usuarios de los módulos deben usar el nombre del módulo como prefijo.\n",
    "\n",
    "Entiendace la palabra atributo para cualquier cosa después de un punto; por ejemplo, en la expresión `z.real`, real es un atributo del objeto z. Estrictamente hablando, las referencias a nombres en módulos son referencias a atributos: en la expresión `modulo.funcion`, modulo es un objeto módulo y funcion es un atributo de éste.\n",
    "\n",
    "`COMENTARIO:` El espacio de nombres local a una función se crea cuando la función es llamada, y se elimina cuando la función retorna o lanza una excepción que no se maneje dentro de la función."
   ]
  },
  {
   "cell_type": "markdown",
   "metadata": {},
   "source": [
    "Aunque los alcances se determinan de forma estática, se utilizan de forma dinámica. En cualquier momento durante la ejecución, hay $3$ o $4$ ámbitos anidados cuyos espacios de nombres son directamente accesibles:\n",
    "- el alcance más interno, que es inspeccionado primero, contiene los nombres locales.\n",
    "- los alcances de cualquier función que encierra a otra, son inspeccionados a partir del alcance más cercano, contienen nombres no locales, pero también no globales.\n",
    "- el penúltimo alcance contiene nombres globales del módulo actual.\n",
    "- el alcance más externo (el último inspeccionado) es el espacio de nombres que contiene los nombres integrados\n",
    "\n",
    "Si un nombre se declara global, entonces todas las referencias y asignaciones se realizan directamente en el ámbito penúltimo que contiene los nombres globales del módulo. "
   ]
  },
  {
   "cell_type": "code",
   "execution_count": 2,
   "metadata": {},
   "outputs": [
    {
     "name": "stdout",
     "output_type": "stream",
     "text": [
      "After local assignment: test spam\n",
      "After nonlocal assignment: nonlocal spam\n",
      "After global assignment: nonlocal spam\n",
      "In global scope: global spam\n"
     ]
    }
   ],
   "source": [
    "# Ejemplos de ámbitos y espacios de nombre\n",
    "def scope_test():\n",
    "    def do_local():\n",
    "        spam = \"local spam\"\n",
    "\n",
    "    def do_nonlocal():\n",
    "        nonlocal spam\n",
    "        spam = \"nonlocal spam\"\n",
    "\n",
    "    def do_global():\n",
    "        global spam\n",
    "        spam = \"global spam\"\n",
    "\n",
    "    spam = \"test spam\"\n",
    "    do_local()\n",
    "    print(\"After local assignment:\", spam)\n",
    "    do_nonlocal()\n",
    "    print(\"After nonlocal assignment:\", spam)\n",
    "    do_global()\n",
    "    print(\"After global assignment:\", spam)\n",
    "\n",
    "scope_test()\n",
    "print(\"In global scope:\", spam)"
   ]
  },
  {
   "cell_type": "markdown",
   "metadata": {},
   "source": [
    "Notar como la asignación *local* (que es el comportamiento normal) no cambió la vinculación de *spam* de *scope_test*. La asignación `nonlocal` cambió la vinculación de *spam* de *scope_test*, y la asignación `global` cambió la vinculación a nivel de módulo."
   ]
  },
  {
   "cell_type": "markdown",
   "metadata": {},
   "source": [
    "## Clases\n",
    "\n",
    "La programación orientada a objetos es un paradigma de programación que nos permite organizar/agrupar un conjunto de variables y funciones. Para ello es usual utilizar las famosas clases.\n",
    "\n",
    "Por ejemplo, podemos representar un coche pueden como una clase. Esta clase tendría diferentes características, como podría ser la marca, el modelo, el kilometraje, etc. A estas características, se les denominará `atributos`. Por otro lado, las clases tienen un conjunto de funcionalidades o cosas que pueden hacer. En el caso del coche podría ser desplazarse. Llamaremos a estas funcionalidades `métodos`. Por último, pueden existir diferentes tipos de coches. Podemos tener uno de la marca como Dodge y otro de la marca Mercedes. Llamaremos a estos diferentes tipos de coches `objetos`. Es decir, el concepto abstracto de coche sería la clase, pero Dodge o cualquiera otra marca particular será el objeto.\n",
    "\n",
    "La programación orientada a objetos está basada en 6 principios o pilares básicos:\n",
    "- Herencia\n",
    "- Cohesión\n",
    "- Abstracción \n",
    "- Polimorfismo\n",
    "- Acoplamiento\n",
    "- Encapsulamiento"
   ]
  },
  {
   "cell_type": "markdown",
   "metadata": {},
   "source": [
    "Ilustremos con un ejemplo práctico:\n",
    "\n",
    "Supongamos que tenemos un juego de naves espaciales que se mueven por la pantalla. Cada nave tendrá ciertas coordenadas/posición $(x,y)$ y otros parámetros como el tipo de nave, su color o tamaño. Sino hicieramos uso de las clases tendríamos que tener una variable para cada dato que queremos almacenar: coordenadas, color, tamaño, tipo, etc. El problema viene si tenemos $10$ naves, ya contaríamos con un número muy elevado de variables que complicaría el código. Todo un desastre. Pues para resolver esto, podemos agrupa bajo una clase un conjunto de variables y funciones, que pueden ser reutilizadas creando objetos (en este ejemplo cada nave)."
   ]
  },
  {
   "cell_type": "markdown",
   "metadata": {},
   "source": [
    "**Podemos definir una clase con la siguiente estructura:**"
   ]
  },
  {
   "cell_type": "raw",
   "metadata": {
    "vscode": {
     "languageId": "raw"
    }
   },
   "source": [
    "# Sintaxis de definición de clases\n",
    "\n",
    "class ClassName:\n",
    "    <statement-1>\n",
    "    .\n",
    "    .\n",
    "    .\n",
    "    <statement-N>"
   ]
  },
  {
   "cell_type": "markdown",
   "metadata": {},
   "source": [
    "Cuando se ingresa una definición de clase, se crea un nuevo espacio de nombres, el cual se usa como ámbito local; por lo tanto, todas las asignaciones a variables locales van a este nuevo espacio de nombres y el objeto clase se asocia allí al nombre que se le puso a la clase en el encabezado de su definición (ClassName en el ejemplo)."
   ]
  },
  {
   "cell_type": "markdown",
   "metadata": {},
   "source": [
    "Veamos un ejemplo que se profundizará en detalle más adelante "
   ]
  },
  {
   "cell_type": "code",
   "execution_count": null,
   "metadata": {},
   "outputs": [],
   "source": [
    "# Creando una clase simple, con dos atributos\n",
    "class MyClass:\n",
    "    \"\"\"A simple example class\"\"\"\n",
    "    i = 12345\n",
    "\n",
    "    def f(self):\n",
    "        return 'hello world'"
   ]
  },
  {
   "cell_type": "markdown",
   "metadata": {},
   "source": [
    "Los objetos clase soportan dos tipos de operaciones: hacer referencia a atributos e instanciación (*llamar* a un objeto clase).\n",
    "\n",
    "Para hacer referencia a atributos se usa la sintaxis `objeto.nombre`. Los nombres de atributo válidos son todos los nombres que estaban en el espacio de nombres de la clase cuando ésta se creó."
   ]
  },
  {
   "cell_type": "code",
   "execution_count": null,
   "metadata": {},
   "outputs": [],
   "source": [
    "# Haciendo referencia\n",
    "# MyClass.i\n",
    "# MyClass.f()  # error usar MyClass.f(None)\n",
    "# MyClass.__doc__"
   ]
  },
  {
   "cell_type": "markdown",
   "metadata": {},
   "source": [
    "`COMENTARIO:`\n",
    "- En este caso tendremos que `MyClass.i` y `MyClass.f` son referencias de atributos válidas, que retornan un entero y un objeto función respectivamente.\n",
    "- Los atributos de clase también pueden ser asignados, o sea que podés cambiar el valor de `MyClass.i` mediante asignación.\n",
    "- El `__doc__` también es un atributo válido, que retorna la documentación asociada a la clase: **\"A simple example class\"**.\n",
    "- La instanciación de clases usa la notación de funciones. Por ejemplo"
   ]
  },
  {
   "cell_type": "code",
   "execution_count": 11,
   "metadata": {},
   "outputs": [
    {
     "data": {
      "text/plain": [
       "'hello world'"
      ]
     },
     "execution_count": 11,
     "metadata": {},
     "output_type": "execute_result"
    }
   ],
   "source": [
    "x = MyClass()  # crea una nueva instancia de la clase y asigna este objeto a la variable local x. Es decir, se crea un objeto de la clase\n",
    "x.f()"
   ]
  },
  {
   "cell_type": "markdown",
   "metadata": {},
   "source": [
    "`Notar` que acá no da error, es decir, podemos usar `f()` puesto que Python de forma automática pasa x (self) como primer argumento de la función. Es decir, cuando llamas `x.f()`, lo que se está indicando es `MyClass.f(x)`. Es decir, hay que tener cuidado cuando la función no toma argumentos, pq en este caso está recibiendo uno.\n",
    "\n",
    "Una forma en que no se \"pasa\" la variable como argumento es a través del método estático, el cual impide a Python pasar el objeto como primer argumento. Luego retomaremos el como hacerlo."
   ]
  },
  {
   "cell_type": "markdown",
   "metadata": {},
   "source": [
    "Profundicemos:\n",
    "\n",
    "## Definiendo atributos\n",
    "\n",
    "A continuación veamos como añadir formalmente algunos atributos a una clase. Los atributos están dibididos en dos tipos:\n",
    "\n",
    "- `Atributos de instancia:` Pertenecen a la instancia (llamado) de la clase o al objeto. Son atributos particulares de cada instancia (llamado).\n",
    "- `Atributos de clase:` Se trata de atributos que pertenecen a la clase, por lo tanto serán comunes para todos los objetos."
   ]
  },
  {
   "cell_type": "markdown",
   "metadata": {},
   "source": [
    "Comencemos creando una clase vacia y un objeto"
   ]
  },
  {
   "cell_type": "code",
   "execution_count": 14,
   "metadata": {},
   "outputs": [],
   "source": [
    "# Creando una clase vacía\n",
    "class Coches:\n",
    "    pass\n",
    "\n",
    "\n",
    "# Creando un objeto de la clase Coches\n",
    "dodge = Coches()"
   ]
  },
  {
   "cell_type": "markdown",
   "metadata": {},
   "source": [
    "Añadamos un par de atributos de instancia para nuestro coche:\n",
    "- Marca\n",
    "- Modelo\n",
    "\n",
    "Para hacer esto, hacemos uso de método `__init__` el cuál en caso de existir dentro de la clase es llamado automáticamente cuando se crea un objeto (es decir, es el estado inicial particular). En caso de no existir crea un objeto vacío."
   ]
  },
  {
   "cell_type": "code",
   "execution_count": 16,
   "metadata": {},
   "outputs": [],
   "source": [
    "class Coches:\n",
    "    # El método __init__ es llamado al crear el objeto\n",
    "    def __init__(self, marca, modelo):\n",
    "        print(f\"Creando coche {marca}, {modelo}\")\n",
    "\n",
    "        # Atributos de instancia\n",
    "        self.marca = marca\n",
    "        self.modelo = modelo"
   ]
  },
  {
   "cell_type": "markdown",
   "metadata": {},
   "source": [
    "`Comentarios:`\n",
    "- El self que se pasa como parámetro de entrada del método es una variable que representa la instancia (llamado) de la clase, y deberá estar siempre ahí.\n",
    "- El uso de __init__ y el doble __  significa que está reservado para un uso especial del lenguaje. En este caso sería lo que se conoce como **constructor**.\n",
    "\n",
    "Ahora que hemos definido el método `__init__` con dos parámetros de entrada, podemos crear el objeto pasando el valor de los atributos."
   ]
  },
  {
   "cell_type": "code",
   "execution_count": 17,
   "metadata": {},
   "outputs": [
    {
     "name": "stdout",
     "output_type": "stream",
     "text": [
      "Creando coche Dodge, Caliber\n"
     ]
    }
   ],
   "source": [
    "dodge = Coches('Dodge', 'Caliber')"
   ]
  },
  {
   "cell_type": "markdown",
   "metadata": {},
   "source": [
    " Usando `type()` podemos ver como efectivamente el objeto es de la clase Coches"
   ]
  },
  {
   "cell_type": "code",
   "execution_count": 21,
   "metadata": {},
   "outputs": [
    {
     "name": "stdout",
     "output_type": "stream",
     "text": [
      "<class '__main__.Coches'>\n"
     ]
    }
   ],
   "source": [
    "print(type(dodge))"
   ]
  },
  {
   "cell_type": "markdown",
   "metadata": {},
   "source": [
    "Para acceder a los atributos del objeto creado, usamos "
   ]
  },
  {
   "cell_type": "code",
   "execution_count": 23,
   "metadata": {},
   "outputs": [
    {
     "data": {
      "text/plain": [
       "('Dodge', 'Caliber')"
      ]
     },
     "execution_count": 23,
     "metadata": {},
     "output_type": "execute_result"
    }
   ],
   "source": [
    "dodge.marca, dodge.modelo"
   ]
  },
  {
   "cell_type": "markdown",
   "metadata": {},
   "source": [
    "Hasta ahora solo hemos definido atributos de instancia (llamado), los cuales son atributos que pertenecen a cada coche en concreto. Definamos a continuación un atributo de clase, que será común para todos los coches. Por ejemplo, su funcionalidad."
   ]
  },
  {
   "cell_type": "code",
   "execution_count": 25,
   "metadata": {},
   "outputs": [],
   "source": [
    "class Coches:\n",
    "    # Atributo de clase\n",
    "    funcionalidad = 'desplazarse'\n",
    "    \n",
    "    # El método __init__ es llamado al crear el objeto\n",
    "    def __init__(self, marca, modelo):\n",
    "        print(f\"Creando coche {marca}, {modelo}\")\n",
    "\n",
    "        # Atributos de instancia\n",
    "        self.marca = marca\n",
    "        self.modelo = modelo"
   ]
  },
  {
   "cell_type": "code",
   "execution_count": 32,
   "metadata": {},
   "outputs": [
    {
     "name": "stdout",
     "output_type": "stream",
     "text": [
      "desplazarse\n",
      "\n",
      "Creando coche Dodge, Caliber\n",
      "desplazarse\n"
     ]
    }
   ],
   "source": [
    "# Dado que es un atributo de clase, no es necesario crear un objeto para acceder al atributos. Podemos hacer lo siguiente.\n",
    "print(Coches.funcionalidad)\n",
    "\n",
    "print()\n",
    "# Se puede acceder también al atributo de clase desde el objeto.\n",
    "dodge = Coches('Dodge', 'Caliber')  # se define de nuevo el objeto pq modificamos la clase\n",
    "print(dodge.funcionalidad)"
   ]
  },
  {
   "cell_type": "code",
   "execution_count": 34,
   "metadata": {},
   "outputs": [
    {
     "name": "stdout",
     "output_type": "stream",
     "text": [
      "Complejo\n"
     ]
    },
    {
     "data": {
      "text/plain": [
       "(3.0, -4.5)"
      ]
     },
     "execution_count": 34,
     "metadata": {},
     "output_type": "execute_result"
    }
   ],
   "source": [
    "# Otro ejemplo\n",
    "class Complex:\n",
    "    tipo = 'Complejo'  # variable clase que es compartida por todas las instancias (llamadas)\n",
    "    \n",
    "    def __init__(self, realpart, imagpart):\n",
    "        # variables de instancias, únicas para cada instancia\n",
    "        self.r = realpart\n",
    "        self.i = imagpart\n",
    "\n",
    "x = Complex(3.0, -4.5)\n",
    "print(x.tipo)\n",
    "x.r, x.i"
   ]
  },
  {
   "cell_type": "markdown",
   "metadata": {},
   "source": [
    "De esta manera, todos los objetos que se creen de la clase Coches compartirán ese atributo de clase, ya que pertenecen a la misma. \n",
    "\n",
    "Veamos a continuación un ejemplo de lo que puede ocurrir si alguna de las variables clase es un mutable"
   ]
  },
  {
   "cell_type": "code",
   "execution_count": 35,
   "metadata": {},
   "outputs": [],
   "source": [
    "class Dog:\n",
    "    tricks = []  # error de usar un mutable como una variable de clase\n",
    "    \n",
    "    def __init__(self, name):\n",
    "        self.name = name  # variable de instancia\n",
    "    \n",
    "    # método\n",
    "    def add_trick(self, trick):\n",
    "        self.tricks.append(trick)"
   ]
  },
  {
   "cell_type": "code",
   "execution_count": 36,
   "metadata": {},
   "outputs": [
    {
     "data": {
      "text/plain": [
       "['roll over', 'play dead']"
      ]
     },
     "execution_count": 36,
     "metadata": {},
     "output_type": "execute_result"
    }
   ],
   "source": [
    "d = Dog('Fido')\n",
    "e = Dog('Buddy')\n",
    "\n",
    "d.add_trick('roll over')\n",
    "e.add_trick('play dead')\n",
    "\n",
    "d.tricks  "
   ]
  },
  {
   "cell_type": "markdown",
   "metadata": {},
   "source": [
    "El error ocurrido es que la lista es compartida por todos y por tanto, al usar el método add_trick para añadir los trucos de cada perro (objeto) este modifica la lista global y no de forma individual."
   ]
  },
  {
   "cell_type": "code",
   "execution_count": 37,
   "metadata": {},
   "outputs": [],
   "source": [
    "# El diseño correcto sería algo así\n",
    "class Dog:\n",
    "\n",
    "    def __init__(self, name):\n",
    "        self.name = name\n",
    "        self.tricks = []    # crea una lista vacía en cada instancia, es decir, para cada objeto\n",
    "        \n",
    "    def add_trick(self, trick):\n",
    "        self.tricks.append(trick)"
   ]
  },
  {
   "cell_type": "code",
   "execution_count": 38,
   "metadata": {},
   "outputs": [
    {
     "data": {
      "text/plain": [
       "(['roll over'], ['play dead'])"
      ]
     },
     "execution_count": 38,
     "metadata": {},
     "output_type": "execute_result"
    }
   ],
   "source": [
    "d = Dog('Fido')\n",
    "e = Dog('Buddy')\n",
    "\n",
    "d.add_trick('roll over')\n",
    "e.add_trick('play dead')\n",
    "\n",
    "d.tricks, e.tricks  "
   ]
  },
  {
   "cell_type": "markdown",
   "metadata": {},
   "source": [
    "`Ultimos comentarios:`\n",
    "\n",
    "- Si el mismo nombre de atributo aparece tanto en la instancia como en la clase, la búsqueda del atributo prioriza la instancia\n"
   ]
  },
  {
   "cell_type": "code",
   "execution_count": 41,
   "metadata": {},
   "outputs": [],
   "source": [
    "class Clima:\n",
    "    # variables Clase compartida por todas las instancias\n",
    "    unidad = 'Celsius'\n",
    "    pais = 'Mexico'"
   ]
  },
  {
   "cell_type": "code",
   "execution_count": 45,
   "metadata": {},
   "outputs": [
    {
     "name": "stdout",
     "output_type": "stream",
     "text": [
      "Celsius Mexico\n",
      "\n",
      "Celsius Cuba\n",
      "\n",
      "Celsius Mexico\n"
     ]
    }
   ],
   "source": [
    "w1 = Clima()  # creando objeto\n",
    "print(w1.unidad, w1.pais)  # accediendo a los atributos de la clase\n",
    "\n",
    "print()\n",
    "\n",
    "w2 = Clima()  # creando otro objeto\n",
    "w2.pais = 'Cuba'  # realizando una instancia de tal forma que aparece el nombre del atributo\n",
    "print(w2.unidad, w2.pais)\n",
    "\n",
    "print()\n",
    "\n",
    "w3 = Clima()  # creando otro objeto\n",
    "# Notar que la instancia anterior no modificó la asignación del atributo\n",
    "print(w3.unidad, w3.pais)"
   ]
  },
  {
   "cell_type": "markdown",
   "metadata": {},
   "source": [
    "Como se aprecia de los ejemplos anteriores hay que tener cuidado a la hora de usar atributos en las clases.\n",
    "\n",
    "- Por convenio se llama self (uno mismo) al primer argumento. Esto no es nada más que una convención: el nombre self no significa nada en especial para Python. Sin embargo, el no usar esta convención el código puede resultar menos legible a otros programadores.\n",
    "\n",
    "A continuación definamos y profundicemos con los Métodos"
   ]
  },
  {
   "cell_type": "code",
   "execution_count": null,
   "metadata": {},
   "outputs": [],
   "source": []
  },
  {
   "cell_type": "markdown",
   "metadata": {},
   "source": [
    "## Definiendo Métodos"
   ]
  },
  {
   "cell_type": "markdown",
   "metadata": {},
   "source": [
    "Con anterioridad llamamos método a una función (def) que tenía como primer argumento la palabra self. El caso `__init__` lo definimos como un método, solo que uno especial. A continuación vamos a ver como definir métodos de forma general de tal forma que le den funcionalidad a la clase, comenzaremos con las ideas básicas para luego definirlos de forma más particular."
   ]
  },
  {
   "cell_type": "markdown",
   "metadata": {},
   "source": [
    "Continuemos con el ejemplo de los autos. En este caso codificaremos dos métodos: kilometraje y conversion. El primero `no recibirá ningún parámetro de entrada` y el segundo recibirá un número y arrojará el valor en km. Se ha de recordar que `self` hace referencia a la instancia de la clase y por tanto SIEMPRE ha de aparecer como primero."
   ]
  },
  {
   "cell_type": "code",
   "execution_count": 47,
   "metadata": {},
   "outputs": [],
   "source": [
    "class Coches:\n",
    "    # Atributo de clase\n",
    "    funcionalidad = 'desplazarse'\n",
    "    \n",
    "    # El método __init__ es llamado al crear el objeto\n",
    "    def __init__(self, marca, modelo):\n",
    "        print(f\"Creando coche {marca}, {modelo}\")\n",
    "\n",
    "        # Atributos de instancia\n",
    "        self.marca = marca\n",
    "        self.modelo = modelo\n",
    "        \n",
    "    # Métodos generales\n",
    "    def kilometraje(self):\n",
    "        print(\"Existente\")\n",
    "\n",
    "    def conversion(self, millas):\n",
    "        print(f\"El auto tiene {millas} millas que son {millas*1.60934} km\")"
   ]
  },
  {
   "cell_type": "markdown",
   "metadata": {},
   "source": [
    "Ahora si creamos un objeto podremos hacer uso de sus métodos llamándolos con `.` y el nombre del método. Como si de una función se tratase, pueden recibir y devolver argumentos."
   ]
  },
  {
   "cell_type": "code",
   "execution_count": 52,
   "metadata": {},
   "outputs": [
    {
     "name": "stdout",
     "output_type": "stream",
     "text": [
      "Creando coche Dodge, Caliber\n",
      "\n",
      "Existente\n",
      "\n",
      "El auto tiene 10 millas que son 16.0934 km\n"
     ]
    }
   ],
   "source": [
    "dodge = Coches('Dodge', 'Caliber')\n",
    "print()\n",
    "dodge.kilometraje()\n",
    "\n",
    "print()\n",
    "dodge.conversion(10)  # probar que ocurre si quitamos el argumento "
   ]
  },
  {
   "cell_type": "markdown",
   "metadata": {},
   "source": [
    "Los métodos pueden hacer instancias a funciones fuera de la clase, es decir, no es necesario que la definición de la función esté textualmente dentro de la definición de la clase: asignando un objeto función a una variable local dentro de la clase. También puede hacer instancias a otros métodos dentro de la propia clase. Veamos un ejemplo:"
   ]
  },
  {
   "cell_type": "code",
   "execution_count": 58,
   "metadata": {},
   "outputs": [],
   "source": [
    "# Función definida fuera de la clase\n",
    "def Abs(self):\n",
    "    return np.sqrt(self.r**2+self.i**2)\n",
    "\n",
    "class Complex:\n",
    "    tipo = 'Complejo'  # variable clase que es compartida por todas las instancias (llamadas)\n",
    "    \n",
    "    def __init__(self, realpart, imagpart):\n",
    "        # variables de instancias, únicas para cada instancia\n",
    "        self.r = realpart\n",
    "        self.i = imagpart\n",
    "        \n",
    "    def sumComplex(self, c2):  # recibe un objeto c2 de la clase Complex y podemos usar sus variables\n",
    "        re = self.r + c2.r\n",
    "        im = self.i + c2.i\n",
    "        return Complex(re, im)  # devolvemos un objeto de la clase Complex\n",
    "        \n",
    "    Ab = Abs\n",
    "    h = sumComplex   "
   ]
  },
  {
   "cell_type": "code",
   "execution_count": 65,
   "metadata": {},
   "outputs": [
    {
     "name": "stdout",
     "output_type": "stream",
     "text": [
      "Complejo\n",
      "3.0 -4.5\n",
      "2.0 1.5\n",
      "\n",
      "Abs\n",
      "5.408326913195984\n",
      "\n",
      "Suma\n",
      "5.0 -3.0\n"
     ]
    }
   ],
   "source": [
    "x = Complex(3.0, -4.5)\n",
    "y = Complex(2.0, 1.5)\n",
    "\n",
    "print(x.tipo)\n",
    "print(x.r, x.i)\n",
    "print(y.r, y.i)\n",
    "\n",
    "print()\n",
    "print('Abs')\n",
    "print(x.Ab())\n",
    "\n",
    "print()\n",
    "print('Suma')\n",
    "c3 = x.h(y)\n",
    "print(c3.r, c3.i)"
   ]
  },
  {
   "cell_type": "markdown",
   "metadata": {},
   "source": [
    "Los métodos pueden llamar a otros métodos de la instancia usando el argumento `self`:"
   ]
  },
  {
   "cell_type": "code",
   "execution_count": 66,
   "metadata": {},
   "outputs": [],
   "source": [
    "class Bag:\n",
    "    def __init__(self):\n",
    "        self.data = []  # asigna una lista vacia en cada instancia como variable de instancia\n",
    "\n",
    "    def add(self, x):\n",
    "        self.data.append(x)  # crea un método que añade a la variable data el objeto x\n",
    "\n",
    "    def addtwice(self, x):  # llama al método anterior usando self.add()\n",
    "        self.add(x)\n",
    "        self.add(x)"
   ]
  },
  {
   "cell_type": "code",
   "execution_count": 71,
   "metadata": {},
   "outputs": [
    {
     "data": {
      "text/plain": [
       "[5, 5]"
      ]
     },
     "execution_count": 71,
     "metadata": {},
     "output_type": "execute_result"
    }
   ],
   "source": [
    "x = Bag()  # crea un objeto con una lista vacia data\n",
    "x.addtwice(5)\n",
    "x.data"
   ]
  },
  {
   "cell_type": "markdown",
   "metadata": {},
   "source": [
    "A continuación profundicemos más en los diferentes tipos de métodos. Como vimos, estos pueden recibir parámetros como entrada, modificar los atributos de la instancia e incluso llamar a otros métodos. En general podemos definir tres tipos de métodos usando los decoradores:\n",
    "- Los métodos de instancias (los que hemos visto hasta ahora)\n",
    "- Los métodos de clase. Los cuales se pueden definir a través del decorador `@classmethod`\n",
    "- Los métodos estáticos. Los cuales se pueden definir a través del decorador `@staticmethod`"
   ]
  },
  {
   "cell_type": "code",
   "execution_count": null,
   "metadata": {},
   "outputs": [],
   "source": [
    "# Ejemplo\n",
    "class Clase:\n",
    "    def metodo(self):  # metodo de instancia\n",
    "        return 'Método normal', self\n",
    "\n",
    "    @classmethod\n",
    "    def metododeclase(cls):  # metodo de clase\n",
    "        return 'Método de clase', cls\n",
    "\n",
    "    @staticmethod\n",
    "    def metodoestatico():  # metodo estático\n",
    "        return \"Método estático\""
   ]
  },
  {
   "cell_type": "markdown",
   "metadata": {},
   "source": [
    "#### Método de instancia\n",
    "\n",
    "Estos métodos son los que hemos visto anteriormente. Reciben como parámetro de primera entrada `self` el cual hace referencia a la instancia que llama al método, pudiendo recibir también otros argumentos."
   ]
  },
  {
   "cell_type": "code",
   "execution_count": 139,
   "metadata": {},
   "outputs": [],
   "source": [
    "class Clase:\n",
    "    # Atributo de clase\n",
    "    val = 5\n",
    "    \n",
    "    def __init__(self, marca, modelo):\n",
    "        print(f\"Creando coche {marca}, {modelo}\")\n",
    "        # Atributos de instancia\n",
    "        self.marca = marca\n",
    "        self.modelo = modelo\n",
    "    \n",
    "    def test(self, arg1, arg2):\n",
    "        return 'Método de instancia', self"
   ]
  },
  {
   "cell_type": "code",
   "execution_count": 140,
   "metadata": {},
   "outputs": [
    {
     "name": "stdout",
     "output_type": "stream",
     "text": [
      "Creando coche dodge, caliber\n",
      "##########\n",
      "Instancia desde el objeto\n",
      "Insta Atrib: dodge\n",
      "Clase Atrib: 5\n",
      "##########\n",
      "Instancia desde el método\n",
      "5\n",
      "dodge\n",
      "##########\n",
      "Modificando desde el método\n",
      "Clase Atrib: 6\n",
      "Clase Atrib: 6\n",
      "\n",
      "Insta Atrib: chrysler\n",
      "Insta Atrib: chrysler\n"
     ]
    }
   ],
   "source": [
    "mi_clase = Clase('dodge', 'caliber')  # crea el objeto\n",
    "\n",
    "print('#'*10)\n",
    "print('Instancia desde el objeto')\n",
    "print('Insta Atrib:', mi_clase.marca) # accediendo a uno de los atributos de la instancia\n",
    "print('Clase Atrib:', mi_clase.val) # accediendo al atributo de la clase\n",
    "\n",
    "# accediendo al método de instancia\n",
    "a, b = mi_clase.test(\"a\", \"b\")  # llama al método de instancia test, el cual devuelve un string y el propio objeto\n",
    "\n",
    "# Accediendo\n",
    "print('#'*10)\n",
    "print('Instancia desde el método')\n",
    "print(b.val)  # accediendo al atributo de la clase\n",
    "print(b.marca)  # accediendo al atributo de la instancia\n",
    "\n",
    "# Modificando\n",
    "print('#'*10)\n",
    "print('Modificando desde el método')\n",
    "b.val = 6  # modificando el atributo de la clase\n",
    "b.marca = 'chrysler'  # modificando uno de los atributos de la instancia\n",
    "print('Clase Atrib:', b.val)\n",
    "print('Clase Atrib:', mi_clase.val)\n",
    "print()\n",
    "print('Insta Atrib:', b.marca)\n",
    "print('Insta Atrib:', mi_clase.marca)"
   ]
  },
  {
   "cell_type": "code",
   "execution_count": 142,
   "metadata": {},
   "outputs": [
    {
     "name": "stdout",
     "output_type": "stream",
     "text": [
      "Creando coche Lada, URSS\n",
      "##########\n",
      "Instancia desde el objeto\n",
      "Insta Atrib: Lada\n",
      "Clase Atrib: 5\n"
     ]
    }
   ],
   "source": [
    "# IMPORTANTE: Noten como si creamos otros objetos estos no heredan las modificaciones anteriores\n",
    "mi_clase2 = Clase('Lada', 'URSS')  # crea el objeto\n",
    "\n",
    "print('#'*10)\n",
    "print('Instancia desde el objeto')\n",
    "print('Insta Atrib:', mi_clase2.marca) # accediendo a uno de los atributos de la instancia\n",
    "print('Clase Atrib:', mi_clase2.val) # accediendo al atributo de la clase"
   ]
  },
  {
   "cell_type": "markdown",
   "metadata": {},
   "source": [
    "`RESUMIENDO` tendremos que los métodos de instancia:\n",
    "- Pueden acceder y modificar los atributos del objeto.\n",
    "- Pueden acceder a otros métodos.\n",
    "- Dado que desde el objeto `self` se puede acceder a la clase con ` self.class`, también pueden modificar el estado de la clase"
   ]
  },
  {
   "cell_type": "code",
   "execution_count": null,
   "metadata": {},
   "outputs": [],
   "source": []
  },
  {
   "cell_type": "markdown",
   "metadata": {},
   "source": [
    "#### Métodos de clase (classmethod)\n",
    "\n",
    "A diferencia de los métodos de instancia, los métodos de clase reciben como argumento `cls`, que hace referencia a la clase. Lo que hace que puedan acceder a la clase pero no a la instancia."
   ]
  },
  {
   "cell_type": "code",
   "execution_count": 129,
   "metadata": {},
   "outputs": [],
   "source": [
    "# Ejemplo\n",
    "class Clase:\n",
    "    # Atributo de clase\n",
    "    val = 5\n",
    "    \n",
    "    def __init__(self, marca, modelo):\n",
    "        print(f\"Creando coche {marca}, {modelo}\")\n",
    "        # Atributos de instancia\n",
    "        self.marca = marca\n",
    "        self.modelo = modelo\n",
    "    \n",
    "    @classmethod\n",
    "    def metododeclase(cls):\n",
    "        return 'Método de clase', cls"
   ]
  },
  {
   "cell_type": "code",
   "execution_count": 130,
   "metadata": {},
   "outputs": [],
   "source": [
    "# Se puede llamar sobre la clase.\n",
    "a, b = Clase.metododeclase()"
   ]
  },
  {
   "cell_type": "code",
   "execution_count": 119,
   "metadata": {},
   "outputs": [
    {
     "name": "stdout",
     "output_type": "stream",
     "text": [
      "Método de clase\n",
      "\n",
      "<class '__main__.Clase'>\n",
      "\n",
      "5\n",
      "6\n"
     ]
    }
   ],
   "source": [
    "# Ahora, notemos que la variable 'a', recibe la asignación del string, mientras que la variable 'b' recibe a la clase,\n",
    "# lo que nos permite acceder o modificar los atributos de la clase\n",
    "print(a)\n",
    "\n",
    "print()\n",
    "\n",
    "print(b)\n",
    "\n",
    "print()\n",
    "\n",
    "print(b.val)  # accediendo a un atributo de la clase\n",
    "\n",
    "b.val = 6  # modificando la asignación de la clase\n",
    "print(b.val) "
   ]
  },
  {
   "cell_type": "code",
   "execution_count": 122,
   "metadata": {},
   "outputs": [
    {
     "ename": "AttributeError",
     "evalue": "type object 'Clase' has no attribute 'marca'",
     "output_type": "error",
     "traceback": [
      "\u001b[0;31m---------------------------------------------------------------------------\u001b[0m",
      "\u001b[0;31mAttributeError\u001b[0m                            Traceback (most recent call last)",
      "Cell \u001b[0;32mIn[122], line 2\u001b[0m\n\u001b[1;32m      1\u001b[0m \u001b[38;5;66;03m# No podemos acceder o modificar los atributos de la instancia\u001b[39;00m\n\u001b[0;32m----> 2\u001b[0m b\u001b[38;5;241m.\u001b[39mmarca\n",
      "\u001b[0;31mAttributeError\u001b[0m: type object 'Clase' has no attribute 'marca'"
     ]
    }
   ],
   "source": [
    "# No podemos acceder o modificar los atributos de la instancia\n",
    "b.marca"
   ]
  },
  {
   "cell_type": "code",
   "execution_count": 124,
   "metadata": {},
   "outputs": [
    {
     "name": "stdout",
     "output_type": "stream",
     "text": [
      "Creando coche dodge, caliber\n"
     ]
    },
    {
     "data": {
      "text/plain": [
       "('Método de clase', __main__.Clase)"
      ]
     },
     "execution_count": 124,
     "metadata": {},
     "output_type": "execute_result"
    }
   ],
   "source": [
    "# También se pueden llamar sobre el objeto.\n",
    "\n",
    "mi_clase = Clase('dodge', 'caliber')\n",
    "a, b =  mi_clase.metododeclase()  # devuelve un string y la propia clase. Notar que ahora si podemos acceder a val (es decir b.val)\n",
    "a, b"
   ]
  },
  {
   "cell_type": "code",
   "execution_count": 126,
   "metadata": {},
   "outputs": [
    {
     "name": "stdout",
     "output_type": "stream",
     "text": [
      "6\n"
     ]
    },
    {
     "ename": "AttributeError",
     "evalue": "type object 'Clase' has no attribute 'marca'",
     "output_type": "error",
     "traceback": [
      "\u001b[0;31m---------------------------------------------------------------------------\u001b[0m",
      "\u001b[0;31mAttributeError\u001b[0m                            Traceback (most recent call last)",
      "Cell \u001b[0;32mIn[126], line 3\u001b[0m\n\u001b[1;32m      1\u001b[0m \u001b[38;5;28mprint\u001b[39m(b\u001b[38;5;241m.\u001b[39mval)  \u001b[38;5;66;03m# accediendo a un atributo de la clase\u001b[39;00m\n\u001b[1;32m      2\u001b[0m \u001b[38;5;66;03m# No podemos acceder o modificar los atributos de la instancia\u001b[39;00m\n\u001b[0;32m----> 3\u001b[0m b\u001b[38;5;241m.\u001b[39mmarca\n",
      "\u001b[0;31mAttributeError\u001b[0m: type object 'Clase' has no attribute 'marca'"
     ]
    }
   ],
   "source": [
    "print(b.val)  # accediendo a un atributo de la clase\n",
    "# No podemos acceder o modificar los atributos de la instancia\n",
    "b.marca"
   ]
  },
  {
   "cell_type": "markdown",
   "metadata": {},
   "source": [
    "`RESUMIENDO`, los métodos de clase:\n",
    "- No pueden acceder a los atributos de la instancia.\n",
    "- Pero si pueden modificar los atributos de la clase."
   ]
  },
  {
   "cell_type": "code",
   "execution_count": null,
   "metadata": {},
   "outputs": [],
   "source": []
  },
  {
   "cell_type": "markdown",
   "metadata": {},
   "source": [
    "#### Métodos estáticos (staticmethod)\n",
    "\n",
    "\n",
    "Los métodos estáticos se pueden definir mediante el decorador `@staticmethod` y NO aceptan como parámetro ni la instancia ni la clase. Es por ello por lo que NO PUEDEN MODIFICAR la clase ni de la instancia. Pero por supuesto pueden aceptar parámetros de entrada."
   ]
  },
  {
   "cell_type": "code",
   "execution_count": 144,
   "metadata": {},
   "outputs": [],
   "source": [
    "# Ejemplo\n",
    "\n",
    "class Clase:\n",
    "    # Atributo de clase\n",
    "    val = 5\n",
    "    \n",
    "    def __init__(self, marca, modelo):\n",
    "        print(f\"Creando coche {marca}, {modelo}\")\n",
    "        # Atributos de instancia\n",
    "        self.marca = marca\n",
    "        self.modelo = modelo\n",
    "    \n",
    "    @staticmethod\n",
    "    def metodoestatico(texto):\n",
    "        return texto\n",
    "    \n",
    "    @staticmethod\n",
    "    def metodoestatico2():\n",
    "        print('Hola mundo')"
   ]
  },
  {
   "cell_type": "code",
   "execution_count": 146,
   "metadata": {},
   "outputs": [
    {
     "name": "stdout",
     "output_type": "stream",
     "text": [
      "Hola mundo\n",
      "\n",
      "Creando coche dodge, caliber\n",
      "Hola mundo\n"
     ]
    }
   ],
   "source": [
    "# para acceder se puede hacer de las dos formas\n",
    "Clase.metodoestatico2()\n",
    "\n",
    "print()\n",
    "mi_clase = Clase('dodge', 'caliber')\n",
    "mi_clase.metodoestatico2()"
   ]
  },
  {
   "cell_type": "code",
   "execution_count": 147,
   "metadata": {},
   "outputs": [
    {
     "name": "stdout",
     "output_type": "stream",
     "text": [
      "Hola\n",
      "Hola\n"
     ]
    }
   ],
   "source": [
    "print(Clase.metodoestatico('Hola'))\n",
    "print(mi_clase.metodoestatico('Hola'))"
   ]
  },
  {
   "cell_type": "markdown",
   "metadata": {},
   "source": [
    "`RESUMIENDO`, el uso de los métodos estáticos resulta útil para indicar que el método no modificará el estado de la instancia ni de la clase. Aunque es cierto que se podría hacer lo mismo con un método de instancia, sin embargo a veces resulta importante indicar de alguna manera estas peculiaridades para una facil lectura del código."
   ]
  },
  {
   "cell_type": "markdown",
   "metadata": {},
   "source": [
    "## Herencias"
   ]
  },
  {
   "cell_type": "markdown",
   "metadata": {},
   "source": [
    "Para entender la herencia, es fundamental entender la programación orientada a objetos, por lo que te recomendamos empezar por ahí antes.\n",
    "\n",
    "La herencia es un proceso mediante el cual se puede crear una clase hija que hereda de una clase padre, compartiendo sus métodos y atributos. Además de ello, una clase hija puede sobreescribir los métodos o atributos, o incluso definir unos nuevos.\n",
    "\n",
    "Se puede crear una clase hija con tan solo pasar como parámetro la clase de la que queremos heredar. En el siguiente ejemplo vemos como se puede usar la herencia en Python, con la clase Perro que hereda de Animal. Así de fácil."
   ]
  },
  {
   "cell_type": "code",
   "execution_count": null,
   "metadata": {},
   "outputs": [],
   "source": [
    "# Definimos una clase padre\n",
    "class Animal:\n",
    "    pass\n",
    "\n",
    "# Creamos una clase hija que hereda de la padre\n",
    "class Perro(Animal):\n",
    "    pass"
   ]
  },
  {
   "cell_type": "markdown",
   "metadata": {},
   "source": [
    "De hecho podemos ver como efectivamente la clase Perro es la hija de Animal usando __bases__"
   ]
  },
  {
   "cell_type": "code",
   "execution_count": null,
   "metadata": {},
   "outputs": [],
   "source": [
    "print(Perro.__bases__)"
   ]
  },
  {
   "cell_type": "markdown",
   "metadata": {},
   "source": [
    "De manera similar podemos ver que clases descienden de una en concreto con __subclasses__."
   ]
  },
  {
   "cell_type": "code",
   "execution_count": null,
   "metadata": {},
   "outputs": [],
   "source": [
    "print(Animal.__subclasses__())"
   ]
  },
  {
   "cell_type": "markdown",
   "metadata": {},
   "source": [
    "¿Y para que queremos la herencia? Dado que una clase hija hereda los atributos y métodos de la padre, nos puede ser muy útil cuando tengamos clases que se parecen entre sí pero tienen ciertas particularidades. En este caso en vez de definir un montón de clases para cada animal, podemos tomar los elementos comunes y crear una clase Animal de la que hereden el resto, respetando por tanto la filosofía DRY. Realizar estas abstracciones y buscar el denominador común para definir una clase de la que hereden las demás, es una tarea de lo más compleja en el mundo de la programación.\n",
    "\n",
    "Para saber más: El principio DRY (Don't Repeat Yourself) es muy aplicado en el mundo de la programación y consiste en no repetir código de manera innecesaria. Cuanto más código duplicado exista, más difícil será de modificar y más fácil será crear inconsistencias. Las clases y la herencia a no repetir código"
   ]
  },
  {
   "cell_type": "markdown",
   "metadata": {},
   "source": [
    "Extendiendo y modificando métodos\n",
    "Continuemos con nuestro ejemplo de perros y animales. Vamos a definir una clase padre Animal que tendrá todos los atributos y métodos genéricos que los animales pueden tener. Esta tarea de buscar el denominador común es muy importante en programación. Veamos los atributos:\n",
    "\n",
    "Tenemos la especie ya que todos los animales pertenecen a una.\n",
    "Y la edad, ya que todo ser vivo nace, crece, se reproduce y muere.\n",
    "Y los métodos o funcionalidades:\n",
    "\n",
    "Tendremos el método hablar, que cada animal implementará de una forma. Los perros ladran, las abejas zumban y los caballos relinchan.\n",
    "Un método moverse. Unos animales lo harán caminando, otros volando.\n",
    "Y por último un método descríbeme que será común.\n",
    "Definimos la clase padre, con una serie de atributos comunes para todos los animales como hemos indicado"
   ]
  },
  {
   "cell_type": "code",
   "execution_count": null,
   "metadata": {},
   "outputs": [],
   "source": [
    "class Animal:\n",
    "    def __init__(self, especie, edad):\n",
    "        self.especie = especie\n",
    "        self.edad = edad\n",
    "\n",
    "    # Método genérico pero con implementación particular\n",
    "    def hablar(self):\n",
    "        # Método vacío\n",
    "        pass\n",
    "\n",
    "    # Método genérico pero con implementación particular\n",
    "    def moverse(self):\n",
    "        # Método vacío\n",
    "        pass\n",
    "\n",
    "    # Método genérico con la misma implementación\n",
    "    def describeme(self):\n",
    "        print(\"Soy un Animal del tipo\", type(self).__name__)"
   ]
  },
  {
   "cell_type": "markdown",
   "metadata": {},
   "source": [
    "Tenemos ya por lo tanto una clase genérica Animal, que generaliza las características y funcionalidades que todo animal puede tener. Ahora creamos una clase Perro que hereda del Animal. Como primer ejemplo vamos a crear una clase vacía, para ver como los métodos y atributos son heredados por defecto."
   ]
  },
  {
   "cell_type": "code",
   "execution_count": null,
   "metadata": {},
   "outputs": [],
   "source": [
    "# Perro hereda de Animal\n",
    "class Perro(Animal):\n",
    "    pass\n",
    "\n",
    "mi_perro = Perro('mamífero', 10)\n",
    "mi_perro.describeme()\n",
    "# Soy un Animal del tipo Perro"
   ]
  },
  {
   "cell_type": "markdown",
   "metadata": {},
   "source": [
    "Con tan solo un par de líneas de código, hemos creado una clase nueva que tiene todo el contenido que la clase padre tiene, pero aquí viene lo que es de verdad interesante. Vamos a crear varios animales concretos y sobreescrbir algunos de los métodos que habían sido definidos en la clase Animal, como el hablar o el moverse, ya que cada animal se comporta de una manera distinta.\n",
    "\n",
    "Podemos incluso crear nuevos métodos que se añadirán a los ya heredados, como en el caso de la Abeja con picar()."
   ]
  },
  {
   "cell_type": "code",
   "execution_count": null,
   "metadata": {},
   "outputs": [],
   "source": [
    "class Perro(Animal):\n",
    "    def hablar(self):\n",
    "        print(\"Guau!\")\n",
    "    def moverse(self):\n",
    "        print(\"Caminando con 4 patas\")\n",
    "\n",
    "class Vaca(Animal):\n",
    "    def hablar(self):\n",
    "        print(\"Muuu!\")\n",
    "    def moverse(self):\n",
    "        print(\"Caminando con 4 patas\")\n",
    "\n",
    "class Abeja(Animal):\n",
    "    def hablar(self):\n",
    "        print(\"Bzzzz!\")\n",
    "    def moverse(self):\n",
    "        print(\"Volando\")\n",
    "\n",
    "    # Nuevo método\n",
    "    def picar(self):\n",
    "        print(\"Picar!\")"
   ]
  },
  {
   "cell_type": "markdown",
   "metadata": {},
   "source": [
    "Por lo tanto ya podemos crear nuestros objetos de esos animales y hacer uso de sus métodos que podrían clasificarse en tres:\n",
    "\n",
    "Heredados directamente de la clase padre: describeme()\n",
    "Heredados de la clase padre pero modificados: hablar() y moverse()\n",
    "Creados en la clase hija por lo tanto no existentes en la clase padre: picar()\n"
   ]
  },
  {
   "cell_type": "code",
   "execution_count": null,
   "metadata": {},
   "outputs": [],
   "source": [
    "mi_perro = Perro('mamífero', 10)\n",
    "mi_vaca = Vaca('mamífero', 23)\n",
    "mi_abeja = Abeja('insecto', 1)\n",
    "\n",
    "mi_perro.hablar()\n",
    "mi_vaca.hablar()\n",
    "# Guau!\n",
    "# Muuu!\n",
    "\n",
    "mi_vaca.describeme()\n",
    "mi_abeja.describeme()\n",
    "# Soy un Animal del tipo Vaca\n",
    "# Soy un Animal del tipo Abeja\n",
    "\n",
    "mi_abeja.picar()\n",
    "# Picar!"
   ]
  },
  {
   "cell_type": "markdown",
   "metadata": {},
   "source": [
    "Uso de super()\n",
    "En pocas palabras, la función super() nos permite acceder a los métodos de la clase padre desde una de sus hijas. Volvamos al ejemplo de Animal y Perro."
   ]
  },
  {
   "cell_type": "code",
   "execution_count": null,
   "metadata": {},
   "outputs": [],
   "source": [
    "class Animal:\n",
    "    def __init__(self, especie, edad):\n",
    "        self.especie = especie\n",
    "        self.edad = edad        \n",
    "    def hablar(self):\n",
    "        pass\n",
    "\n",
    "    def moverse(self):\n",
    "        pass\n",
    "\n",
    "    def describeme(self):\n",
    "        print(\"Soy un Animal del tipo\", type(self).__name__)"
   ]
  },
  {
   "cell_type": "markdown",
   "metadata": {},
   "source": [
    "Tal vez queramos que nuestro Perro tenga un parámetro extra en el constructor, como podría ser el dueño. Para realizar esto tenemos dos alternativas:\n",
    "\n",
    "Podemos crear un nuevo __init__ y guardar todas las variables una a una.\n",
    "O podemos usar super() para llamar al __init__ de la clase padre que ya aceptaba la especie y edad, y sólo asignar la variable nueva manualmente."
   ]
  },
  {
   "cell_type": "code",
   "execution_count": null,
   "metadata": {},
   "outputs": [],
   "source": [
    "class Perro(Animal):\n",
    "    def __init__(self, especie, edad, dueño):\n",
    "        # Alternativa 1\n",
    "        # self.especie = especie\n",
    "        # self.edad = edad\n",
    "        # self.dueño = dueño\n",
    "\n",
    "        # Alternativa 2\n",
    "        super().__init__(especie, edad)\n",
    "        self.dueño = dueño"
   ]
  },
  {
   "cell_type": "code",
   "execution_count": null,
   "metadata": {},
   "outputs": [],
   "source": [
    "mi_perro = Perro('mamífero', 7, 'Luis')\n",
    "mi_perro.especie\n",
    "mi_perro.edad\n",
    "mi_perro.dueño"
   ]
  },
  {
   "cell_type": "markdown",
   "metadata": {},
   "source": [
    "Herencia múltiple\n",
    "En Python es posible realizar herencia múltiple. En otros posts hemos visto como se podía crear una clase padre que heredaba de una clase hija, pudiendo hacer uso de sus métodos y atributos. La herencia múltiple es similar, pero una clase hereda de varias clases padre en vez de una sola.\n",
    "\n",
    "Veamos un ejemplo. Por un lado tenemos dos clases Clase1 y Clase2, y por otro tenemos la Clase3 que hereda de las dos anteriores. Por lo tanto, heredará todos los métodos y atributos de ambas."
   ]
  },
  {
   "cell_type": "code",
   "execution_count": null,
   "metadata": {},
   "outputs": [],
   "source": [
    "class Clase1:\n",
    "    pass\n",
    "class Clase2:\n",
    "    pass\n",
    "class Clase3(Clase1, Clase2):\n",
    "    pass"
   ]
  },
  {
   "cell_type": "markdown",
   "metadata": {},
   "source": [
    "Es posible también que una clase herede de otra clase y a su vez otra clase herede de la anterior."
   ]
  },
  {
   "cell_type": "code",
   "execution_count": null,
   "metadata": {},
   "outputs": [],
   "source": [
    "class Clase1:\n",
    "    pass\n",
    "class Clase2(Clase1):\n",
    "    pass\n",
    "class Clase3(Clase2):\n",
    "    pass"
   ]
  },
  {
   "cell_type": "markdown",
   "metadata": {},
   "source": [
    "Llegados a este punto nos podemos plantear lo siguiente. Vale, como sabemos de otros posts las clases hijas heredan los métodos de las clases padre, pero también pueden reimplementarlos de manera distinta. Entonces, si llamo a un método que todas las clases tienen en común ¿a cuál se llama?. Pues bien, existe una forma de saberlo.\n",
    "\n",
    "La forma de saber a que método se llama es consultar el MRO o Method Order Resolution. Esta función nos devuelve una tupla con el orden de búsqueda de los métodos. Como era de esperar se empieza en la propia clase y se va subiendo hasta la clase padre, de izquierda a derecha."
   ]
  },
  {
   "cell_type": "code",
   "execution_count": null,
   "metadata": {},
   "outputs": [],
   "source": [
    "class Clase1:\n",
    "    pass\n",
    "class Clase2:\n",
    "    pass\n",
    "class Clase3(Clase1, Clase2):\n",
    "    pass\n",
    "\n",
    "print(Clase3.__mro__)"
   ]
  },
  {
   "cell_type": "markdown",
   "metadata": {},
   "source": [
    "Una curiosidad es que al final del todo vemos la clase object. Aunque pueda parecer raro, es correcto ya que en realidad todas las clases en Python heredan de una clase genérica object, aunque no lo especifiquemos explícitamente.\n",
    "\n",
    "Y como último ejemplo,…el cielo es el límite. Podemos tener una clase heredando de otras tres. Fíjate en que el MRO depende del orden en el que las clases son pasadas: 1, 3, 2."
   ]
  },
  {
   "cell_type": "code",
   "execution_count": null,
   "metadata": {},
   "outputs": [],
   "source": [
    "class Clase1:\n",
    "    pass\n",
    "class Clase2:\n",
    "    pass\n",
    "class Clase3:\n",
    "    pass\n",
    "class Clase4(Clase1, Clase3, Clase2):\n",
    "    pass\n",
    "print(Clase4.__mro__)"
   ]
  },
  {
   "cell_type": "markdown",
   "metadata": {},
   "source": [
    "Junto con la herencia, la cohesión, abstracción, polimorfismo, acoplamiento y encapsulamiento son otros de los conceptos claves para entender la programación orientada a objetos"
   ]
  },
  {
   "cell_type": "markdown",
   "metadata": {},
   "source": [
    "### Decorador Property"
   ]
  },
  {
   "cell_type": "markdown",
   "metadata": {},
   "source": [
    "En otros tutoriales hemos visto como se crean y usan los decoradores en Python. A continuación veremos el decorador @property, que viene por defecto con Python, y puede ser usado para modificar un método para que sea un atributo o propiedad. Es importante que conozcan antes la programación orientada a objetos.\n",
    "\n",
    "El decorador puede ser usado sobre un método, que hará que actúe como si fuera un atributo."
   ]
  },
  {
   "cell_type": "code",
   "execution_count": null,
   "metadata": {},
   "outputs": [],
   "source": [
    "class Clase:\n",
    "    def __init__(self, mi_atributo):\n",
    "        self.__mi_atributo = mi_atributo\n",
    "\n",
    "    @property\n",
    "    def mi_atributo(self):\n",
    "        return self.__mi_atributo"
   ]
  },
  {
   "cell_type": "markdown",
   "metadata": {},
   "source": [
    "Como si de un atributo normal se tratase, podemos acceder a el con el objeto . y nombre."
   ]
  },
  {
   "cell_type": "code",
   "execution_count": null,
   "metadata": {},
   "outputs": [],
   "source": [
    "mi_clase = Clase(\"valor_atributo\")\n",
    "mi_clase.mi_atributo\n",
    "# 'valor_atributo'"
   ]
  },
  {
   "cell_type": "markdown",
   "metadata": {},
   "source": [
    "Muy importante notar que aunque mi_atributo pueda parecer un método, en realidad no lo es, por lo que no puede ser llamado con ()."
   ]
  },
  {
   "cell_type": "code",
   "execution_count": null,
   "metadata": {},
   "outputs": [],
   "source": [
    "# mi_clase.mi_atributo() # Error! Es un atributo, no un método"
   ]
  },
  {
   "cell_type": "markdown",
   "metadata": {},
   "source": [
    "Tal vez te preguntes para que sirve esto, ya que el siguiente código hace exactamente lo mismo sin hacer uso de decoradores."
   ]
  },
  {
   "cell_type": "code",
   "execution_count": null,
   "metadata": {},
   "outputs": [],
   "source": [
    "class Clase:\n",
    "    def __init__(self, mi_atributo):\n",
    "        self.mi_atributo = mi_atributo\n",
    "\n",
    "mi_clase = Clase(\"valor_atributo\")\n",
    "mi_clase.mi_atributo\n",
    "# 'valor_atributo'"
   ]
  },
  {
   "cell_type": "markdown",
   "metadata": {},
   "source": [
    "Bien, la explicación no es sencilla, pero está relacionada con el concepto de encapsulación de la programación orientada a objetos. Este concepto nos indica que en determinadas ocasiones es importante ocultar el estado interno de los objetos al exterior, para evitar que sean modificados de manera incorrecta. Para la gente que venga del mundo de Java, esto no será nada nuevo, y está muy relacionado con los métodos set()y get() que veremos a continuación.\n",
    "\n",
    "La primera diferencia que vemos entre los códigos anteriores es el uso de __ antes de mi_atributo. Cuando nombramos una variable de esta manera, es una forma de decirle a Python que queremos que se “oculte” y que no pueda ser accedida como el resto de atributos."
   ]
  },
  {
   "cell_type": "code",
   "execution_count": null,
   "metadata": {},
   "outputs": [],
   "source": [
    "class Clase:\n",
    "    def __init__(self, mi_atributo):\n",
    "        self.__mi_atributo = mi_atributo\n",
    "\n",
    "mi_clase = Clase(\"valor_atributo\")\n",
    "\n",
    "# mi_clase.__mi_atributo # Error!"
   ]
  },
  {
   "cell_type": "markdown",
   "metadata": {},
   "source": [
    "Esto puede ser importante con ciertas variables que no queremos que sean accesibles desde el exterior de una manera no controlada. Al definir la propiedad con @property el acceso a ese atributo se realiza a través de una función, siendo por lo tanto un acceso controlado."
   ]
  },
  {
   "cell_type": "code",
   "execution_count": null,
   "metadata": {},
   "outputs": [],
   "source": [
    "class Clase:\n",
    "    def __init__(self, mi_atributo):\n",
    "        self.__mi_atributo = mi_atributo\n",
    "\n",
    "    @property\n",
    "    def mi_atributo(self):\n",
    "        # El acceso se realiza a través de este \"método\" y\n",
    "        # podría contener código extra y no un simple retorno\n",
    "        return self.__mi_atributo\n"
   ]
  },
  {
   "cell_type": "markdown",
   "metadata": {},
   "source": [
    "Otra utilidad podría ser la consulta de un parámetro que requiera de muchos cálculos. Se podría tener un atributo que no estuviera directamente almacenado en la clase, sino que precisara de realizar ciertos cálculos. Para optimizar esto, se podrían hacer los cálculos sólo cuando el atributo es consultado.\n",
    "\n",
    "Por último, existen varios añadidos al decorador @property como pueden ser el setter. Se trata de otro decorador que permite definir un “método” que modifica el contenido del atributo que se esté usando."
   ]
  },
  {
   "cell_type": "code",
   "execution_count": null,
   "metadata": {},
   "outputs": [],
   "source": [
    "class Clase:\n",
    "    def __init__(self, mi_atributo):\n",
    "        self.__mi_atributo = mi_atributo\n",
    "\n",
    "    @property\n",
    "    def mi_atributo(self):\n",
    "        return self.__mi_atributo\n",
    "\n",
    "    @mi_atributo.setter\n",
    "    def mi_atributo(self, valor):\n",
    "        if valor != \"\":\n",
    "            print(\"Modificando el valor\")\n",
    "            self.__mi_atributo = valor\n",
    "        else:\n",
    "            print(\"Error está vacío\")"
   ]
  },
  {
   "cell_type": "markdown",
   "metadata": {},
   "source": [
    "De esta forma podemos añadir código al setter, haciendo que por ejemplo realice comprobaciones antes de modificar el valor. Esto es una cosa que de usar un atributo normal no podríamos hacer, y es muy útil de cara a la encapsulación."
   ]
  },
  {
   "cell_type": "code",
   "execution_count": null,
   "metadata": {},
   "outputs": [],
   "source": [
    "mi_clase = Clase(\"valor_atributo\")\n",
    "mi_clase.mi_atributo\n",
    "# 'valor_atributo'\n",
    "\n",
    "mi_clase.mi_atributo = \"nuevo_valor\"\n",
    "mi_clase.mi_atributo\n",
    "# 'nuevo_valor'\n",
    "\n",
    "mi_clase.mi_atributo = \"\"\n",
    "# Error está vacío"
   ]
  },
  {
   "cell_type": "markdown",
   "metadata": {},
   "source": [
    "Resulta lógico pensar que si un determinado atributo pertenece a una clase, si queremos modificarlo debería de tener la “aprobación” de la clase, para asegurarse que ninguna entidad externa está “haciendo cosas raras”."
   ]
  },
  {
   "cell_type": "markdown",
   "metadata": {},
   "source": [
    "### Métodos dunder o mágicos"
   ]
  },
  {
   "cell_type": "markdown",
   "metadata": {},
   "source": [
    "### Sobreescribiendo métodos mágicos"
   ]
  },
  {
   "cell_type": "markdown",
   "metadata": {},
   "source": [
    "### Interfaces y Abstrac Base Class"
   ]
  },
  {
   "cell_type": "markdown",
   "metadata": {},
   "source": [
    "En la programación orientada a objetos, un interfaz define al conjunto de métodos que tiene que tener un objeto para que pueda cumplir una determinada función en nuestro sistema. Dicho de otra manera, un interfaz define como se comporta un objeto y lo que se puede hacer con el.\n",
    "\n",
    "Piensa en el mando a distancia del televisor. Todos los mandos nos ofrecen el mismo interfaz con las mismas funcionalidades o métodos. En pseudocódigo se podría escribir su interfaz como:\n",
    "\n",
    "# Pseudocódigo\n",
    "interface Mando{\n",
    "\tdef siguiente_canal():\n",
    "\tdef canal_anterior():\n",
    "\tdef subir_volumen():\n",
    "\tdef bajar_volumen():\n",
    "}\n",
    "Es importante notar que los interfaces no poseen una implementación per se, es decir, no llevan código asociado. El interfaz se centra en el qué y no en el cómo.\n",
    "\n",
    "Se dice entonces que una determinada clase implementa una interfaz, cuando añade código a los métodos que no lo tenían (denominados abstractos). Es decir, implementar un interfaz consiste en pasar del qué se hace al cómo se hace.\n",
    "\n",
    "Podríamos decir entonces que los mandos de Samsung y LG implementan nuestro interfaz Mando, ya que ambos tienen los métodos definidos, pero con implementaciones diferentes. Esto es debido a que cada empresa resuelve el mismo problema con un enfoque diferente, pero lo que se ofrece visto desde el exterior es lo mismo.\n",
    "\n",
    "Aunque lo veremos más adelante, ya podemos adelantar que Python no posee la keyword interface como otros lenguajes de programación. A pesar de esto, existen dos formas de definir interfaces en Python:\n",
    "\n",
    "Interfaces informales\n",
    "Interfaces formales\n",
    "Dependiendo de la magnitud y tipo del proyecto en el que trabajemos, es posible que los interfaces informales sean suficientes. Sin embargo, a veces no bastan, y es donde entran los interfaces formales y las metaclases, ambos conceptos bastante avanzados pero que la mayoría de programadores tal vez pueda ignorar.\n",
    "\n",
    "Interfaces informales\n",
    "Los interfaces informales pueden ser definidos con una simple clase que no implementa los métodos. Volviendo al ejemplo de nuestro interfaz mando a distancia, lo podríamos escribir en Python como:"
   ]
  },
  {
   "cell_type": "code",
   "execution_count": null,
   "metadata": {},
   "outputs": [],
   "source": [
    "class Mando:\n",
    "    def siguiente_canal(self):\n",
    "        pass\n",
    "    def canal_anterior(self):\n",
    "        pass\n",
    "    def subir_volumen(self):\n",
    "        pass\n",
    "    def bajar_volumen(self):\n",
    "        pass"
   ]
  },
  {
   "cell_type": "markdown",
   "metadata": {},
   "source": [
    "Una vez definido nuestro interfaz informal, podemos usarlo mediante herencia. Las clases MandoSamsung y MandoLG implementan el interfaz Mando con código particular en los métodos. Recuerda, pasamos del qué hace al cómo se hace."
   ]
  },
  {
   "cell_type": "code",
   "execution_count": null,
   "metadata": {},
   "outputs": [],
   "source": [
    "class MandoSamsung(Mando):\n",
    "    def siguiente_canal(self):\n",
    "        print(\"Samsung->Siguiente\")\n",
    "    def canal_anterior(self):\n",
    "        print(\"Samsung->Anterior\")\n",
    "    def subir_volumen(self):\n",
    "        print(\"Samsung->Subir\")\n",
    "    def bajar_volumen(self):\n",
    "        print(\"Samsung->Bajar\")"
   ]
  },
  {
   "cell_type": "markdown",
   "metadata": {},
   "source": [
    "Análogamente creamos MandoLG."
   ]
  },
  {
   "cell_type": "code",
   "execution_count": null,
   "metadata": {},
   "outputs": [],
   "source": [
    "class MandoLG(Mando):\n",
    "    def siguiente_canal(self):\n",
    "        print(\"LG->Siguiente\")\n",
    "    def canal_anterior(self):\n",
    "        print(\"LG->Anterior\")\n",
    "    def subir_volumen(self):\n",
    "        print(\"LG->Subir\")\n",
    "    def bajar_volumen(self):\n",
    "        print(\"LG->Bajar\")"
   ]
  },
  {
   "cell_type": "markdown",
   "metadata": {},
   "source": [
    "Como hemos dicho, esto es una solución perfectamente válida en la mayoría de los casos, pero existe un problema con el que entenderás perfectamente porqué lo llamamos interfaz informal.\n",
    "\n",
    "Al heredar de la clase Mando, no se obliga a MandoSamsung o MandoLG a implementar todos los métodos. Es decir, ambas clases podrían no tener código para todos los métodos, y esto es algo que puede causar problemas.\n",
    "\n",
    "El razonamiento es el siguiente. Si Mando es un interfaz que como tal no implementa ningún método (tan sólo define los métodos), ¿no sería acaso importante asegurarse de que las clases que usan dicho interfaz implementan los métodos?\n",
    "\n",
    "Si un método queda sin implementar, podríamos tener problemas en el futuro, ya que al llamar a dicho método no tendríamos código que ejecutar. Es cierto que se podría resolver cambiando pass por raise NotImplementedError(), pero el error lo obtendríamos en tiempo de ejecución.\n",
    "\n",
    "Hasta aquí los interfaces informales. Nótese que este tipo de interfaces es posible en Python debido a una de sus características estrella, el duck typing, por lo que te recomendamos que leas acerca de este concepto tan importante en Python.\n",
    "\n",
    "Interfaces formales\n",
    "Una vez tenemos el contexto de lo que son los interfaces informales, ya estamos en condiciones de entender los interfaces formales.\n",
    "\n",
    "Los interfaces formales pueden ser definidos en Python utilizando el módulo por defecto llamado ABC (Abstract Base Classes). Los abc fueron añadidos a Python en la PEP3119.\n",
    "\n",
    "Simplemente definen una forma de crear interfaces (a través de metaclases) en los que se definen unos métodos (pero no se implementan) y donde se fuerza a las clases que usan ese interfaz a implementar los métodos. Veamos unos ejemplos.\n",
    "\n",
    "El interfaz más sencillo que podemos crear es de la siguiente manera, heredando de abc.ABC.\n",
    "\n"
   ]
  },
  {
   "cell_type": "code",
   "execution_count": null,
   "metadata": {},
   "outputs": [],
   "source": [
    "from abc import ABC\n",
    "class Mando(ABC):\n",
    "\tpass"
   ]
  },
  {
   "cell_type": "markdown",
   "metadata": {},
   "source": [
    "La siguiente sintaxis es también válida, y aunque se sale del contenido de este capítulo, es importante que asocies el módulo abc con las metaclases.\n",
    "\n"
   ]
  },
  {
   "cell_type": "code",
   "execution_count": null,
   "metadata": {},
   "outputs": [],
   "source": [
    "from abc import ABCMeta\n",
    "class Mando(metaclass=ABCMeta):\n",
    "    pass"
   ]
  },
  {
   "cell_type": "markdown",
   "metadata": {},
   "source": [
    "Pero veamos un ejemplo concreto continuando con nuestro ejemplo del mando a distancia. Podemos observar como se usa el decorador @abstractmethod.\n",
    "\n",
    "Un método abstracto es un método que no tiene una implementación, es decir, que no lleva código. Un método definido con este decorador, forzará a las clases que implementen dicho interfaz a codificarlo.\n",
    "\n",
    "Veamos como queda nuestro interfaz formal Mando."
   ]
  },
  {
   "cell_type": "code",
   "execution_count": null,
   "metadata": {},
   "outputs": [],
   "source": [
    "from abc import abstractmethod\n",
    "from abc import ABCMeta\n",
    "\n",
    "class Mando(metaclass=ABCMeta):\n",
    "    @abstractmethod\n",
    "    def siguiente_canal(self):\n",
    "        pass\n",
    "\n",
    "    @abstractmethod\n",
    "    def canal_anterior(self):\n",
    "        pass\n",
    "\n",
    "    @abstractmethod\n",
    "    def subir_volumen(self):\n",
    "        pass\n",
    "\n",
    "    @abstractmethod\n",
    "    def bajar_volumen(self):\n",
    "        pass"
   ]
  },
  {
   "cell_type": "markdown",
   "metadata": {},
   "source": [
    "Lo primero a tener en cuenta es que no se puede crear un objeto de una clase interfaz, ya que sus métodos no están implementados."
   ]
  },
  {
   "cell_type": "code",
   "execution_count": null,
   "metadata": {},
   "outputs": [],
   "source": [
    "mando = Mando()\n",
    "# TypeError: Can't instantiate abstract class Mando with abstract methods bajar_volumen, canal_anterior, siguiente_canal, subir_volumen\n"
   ]
  },
  {
   "cell_type": "markdown",
   "metadata": {},
   "source": [
    "Sin embargo si que podemos heredar de Mando para crear una clase MandoSamsung. Es muy importante que implementemos todos los métodos, o de lo contrario tendremos un error. Esta es una de las diferencias con respecto a los interfaces informales."
   ]
  },
  {
   "cell_type": "code",
   "execution_count": null,
   "metadata": {},
   "outputs": [],
   "source": [
    "class MandoSamsung(Mando):\n",
    "    def siguiente_canal(self):\n",
    "        print(\"Samsung->Siguiente\")\n",
    "    def canal_anterior(self):\n",
    "        print(\"Samsung->Anterior\")\n",
    "    def subir_volumen(self):\n",
    "        print(\"Samsung->Subir\")\n",
    "    def bajar_volumen(self):\n",
    "        print(\"Samsung->Bajar\")"
   ]
  },
  {
   "cell_type": "markdown",
   "metadata": {},
   "source": [
    "Y como de costumbre podemos crear un objeto y llamar a sus métodos."
   ]
  },
  {
   "cell_type": "code",
   "execution_count": null,
   "metadata": {},
   "outputs": [],
   "source": [
    "mando_samsung = MandoSamsung()\n",
    "mando_samsung.bajar_volumen()\n",
    "# Samsung->Bajar"
   ]
  },
  {
   "cell_type": "markdown",
   "metadata": {},
   "source": [
    "Siguiendo con el ejemplo podemos definir la clase MandoLG.\n",
    "\n"
   ]
  },
  {
   "cell_type": "code",
   "execution_count": null,
   "metadata": {},
   "outputs": [],
   "source": [
    "class MandoLG(Mando):\n",
    "    def siguiente_canal(self):\n",
    "        print(\"LG->Siguiente\")\n",
    "    def canal_anterior(self):\n",
    "        print(\"LG->Anterior\")\n",
    "    def subir_volumen(self):\n",
    "        print(\"LG->Subir\")\n",
    "    def bajar_volumen(self):\n",
    "        print(\"LG->Bajar\")"
   ]
  },
  {
   "cell_type": "markdown",
   "metadata": {},
   "source": [
    "Y creamos un objeto de MandoLG.\n",
    "\n"
   ]
  },
  {
   "cell_type": "code",
   "execution_count": null,
   "metadata": {},
   "outputs": [],
   "source": [
    "mando_lg = MandoLG()\n",
    "mando_lg.bajar_volumen()\n",
    "# LG->Bajar"
   ]
  },
  {
   "cell_type": "markdown",
   "metadata": {},
   "source": [
    "Llegados a este punto tenemos por lo tanto dos conceptos diferentes claramente identificados:\n",
    "\n",
    "Por un lado tenemos nuestro interfaz Mando. Se trata de una clase que define el comportamiento de un mando genérico, pero sin centrarse en los detalles de cómo funciona. Se centra en el qué.\n",
    "Por otro lado tenemos dos clases MandoSamsung y MandoLG que implementan/heredan el interfaz anterior, añadiendo un código concreto y diferente para cada mando. Ambas clases representan el cómo.\n",
    "Hasta aquí hemos visto como crear un interfaz formal sencilla usando abc con métodos abstractos, pero existen más funcionalidades que merece la pena ver. Vamos a por ello.\n",
    "\n",
    "Clases virtuales\n",
    "Como ya sabemos, se considera que una clase es subclase o issubclass de otra si hereda de la misma, como podemos ver en el siguiente ejemplo."
   ]
  },
  {
   "cell_type": "code",
   "execution_count": null,
   "metadata": {},
   "outputs": [],
   "source": [
    "class ClaseA:\n",
    "    pass\n",
    "class ClaseB(ClaseA):\n",
    "    pass\n",
    "\n",
    "print(issubclass(ClaseB, ClaseA))\n",
    "# True\n"
   ]
  },
  {
   "cell_type": "markdown",
   "metadata": {},
   "source": [
    "Pero, ¿y si queremos que se considere a una clase la padre cuando no existe herencia entre ellas?\n",
    "\n",
    "Es aquí donde entran las clases virtuales. Usando register() podemos registrar a una ABC como clase padre de otra. En el siguiente ejemplo FloatABC se registra como clase virtual padre de float."
   ]
  },
  {
   "cell_type": "code",
   "execution_count": null,
   "metadata": {},
   "outputs": [],
   "source": [
    "from abc import ABCMeta\n",
    "\n",
    "class FloatABC(metaclass=ABCMeta):\n",
    "    pass\n",
    "\n",
    "FloatABC.register(float)"
   ]
  },
  {
   "cell_type": "markdown",
   "metadata": {},
   "source": [
    "Y esto implica que el comportamiento de issubclass se ve modificado."
   ]
  },
  {
   "cell_type": "code",
   "execution_count": null,
   "metadata": {},
   "outputs": [],
   "source": [
    "print(issubclass(float, FloatABC))"
   ]
  },
  {
   "cell_type": "markdown",
   "metadata": {},
   "source": [
    "Análogamente podemos realizar lo mismo con una clase definida por nosotros."
   ]
  },
  {
   "cell_type": "code",
   "execution_count": null,
   "metadata": {},
   "outputs": [],
   "source": [
    "@FloatABC.register\n",
    "class MiFloat():\n",
    "    pass\n",
    "\n",
    "x = MiFloat()\n",
    "print(issubclass(MiFloat, FloatABC))\n",
    "# True"
   ]
  },
  {
   "cell_type": "markdown",
   "metadata": {},
   "source": [
    "Métodos abstractos\n",
    "Como ya hemos visto los métodos abstractos son aquellos que son declarados pero no tienen una implementación. También hemos visto como Python nos obliga a implementarlos en la clases que heredan de nuestro interfaz. Esto es posible gracias al decorador @abstractmethod."
   ]
  },
  {
   "cell_type": "code",
   "execution_count": null,
   "metadata": {},
   "outputs": [],
   "source": [
    "from abc import ABC, abstractmethod\n",
    "class Clase(metaclass=ABCMeta):\n",
    "    @abstractmethod\n",
    "    def metodo_abstracto(self):\n",
    "        pass"
   ]
  },
  {
   "cell_type": "markdown",
   "metadata": {},
   "source": [
    "Sin embargo, también es posible combinar el decorador @abstractmethod con los decoradores @classmethod y @staticmethod que ya vimos anteriormente. Nótese que @abstractmethod debe ser usado siempre justo antes del método.\n",
    "\n",
    "Como recordatorio, un método de clase es llamado sobre la clase y no sobre el objeto, pudiendo modificar la clase pero no el objeto."
   ]
  },
  {
   "cell_type": "code",
   "execution_count": null,
   "metadata": {},
   "outputs": [],
   "source": [
    "class Clase(ABC):\n",
    "    @classmethod\n",
    "    @abstractmethod\n",
    "    def metodo_abstracto_de_clase(cls):\n",
    "        pass"
   ]
  },
  {
   "cell_type": "markdown",
   "metadata": {},
   "source": [
    "Análogamente podemos definir un @staticmethod. Se trata de un método que no permite realizar modificaciones ni de la clase ni del objeto, ya que no lo recibe como parámetro."
   ]
  },
  {
   "cell_type": "code",
   "execution_count": null,
   "metadata": {},
   "outputs": [],
   "source": [
    "class Clase(ABC):\n",
    "    @staticmethod\n",
    "    @abstractmethod\n",
    "    def metodo_abstracto_estatico():\n",
    "        pass"
   ]
  },
  {
   "cell_type": "markdown",
   "metadata": {},
   "source": [
    "Y por último también podemos combinarlo con el decorador property."
   ]
  },
  {
   "cell_type": "code",
   "execution_count": null,
   "metadata": {},
   "outputs": [],
   "source": [
    "class Clase(ABC):\n",
    "    @property\n",
    "    @abstractmethod\n",
    "    def metodo_abstracto_propiedad(self):\n",
    "        pass"
   ]
  },
  {
   "cell_type": "markdown",
   "metadata": {},
   "source": [
    "Abstract Base Classes y colecciones\n",
    "Python nos ofrece un conjunto de Abstract Base Classes que podemos usar para crear nuestras propias clases, denominado collections.abc. Es por tanto importante echarles un vistazo, ya que tal vez exista ya la que necesitemos.\n",
    "\n",
    "Podemos por ejemplo crear una clase MiSet que use abc.Set, pero que tenga un comportamiento ligeramente distinto. En este caso, deberemos implementar los métodos mágicos __iter__, __contains__ y __len__, ya que son definidos como abstractos en el abc."
   ]
  },
  {
   "cell_type": "code",
   "execution_count": null,
   "metadata": {},
   "outputs": [],
   "source": [
    "from collections import abc\n",
    "class MiSet(abc.Set):\n",
    "    def __init__(self, iterable):\n",
    "        self.elements = []\n",
    "        for value in iterable:\n",
    "            if value not in self.elements:\n",
    "                self.elements.append(value)\n",
    "\n",
    "    def __iter__(self):\n",
    "        return iter(self.elements)\n",
    "\n",
    "    def __contains__(self, value):\n",
    "        return value in self.elements\n",
    "\n",
    "    def __len__(self):\n",
    "        return len(self.elements)\n",
    "\n",
    "    def __str__(self):\n",
    "        return \"\".join(str(i) for i in self.elements)"
   ]
  },
  {
   "cell_type": "markdown",
   "metadata": {},
   "source": [
    "Como podemos ver, heredamos ciertas funcionalidades como los operadores & y | que pueden ser usados sobre nuestra nueva clase."
   ]
  },
  {
   "cell_type": "code",
   "execution_count": null,
   "metadata": {},
   "outputs": [],
   "source": [
    "s1 = MiSet(\"abcdefg\")\n",
    "s2 = MiSet(\"efghij\")\n",
    "\n",
    "print(s1 & s2)\n",
    "print(s1 | s2)\n",
    "# efg\n",
    "# abcdefghij"
   ]
  }
 ],
 "metadata": {
  "kernelspec": {
   "display_name": "base",
   "language": "python",
   "name": "python3"
  },
  "language_info": {
   "codemirror_mode": {
    "name": "ipython",
    "version": 3
   },
   "file_extension": ".py",
   "mimetype": "text/x-python",
   "name": "python",
   "nbconvert_exporter": "python",
   "pygments_lexer": "ipython3",
   "version": "3.11.4"
  }
 },
 "nbformat": 4,
 "nbformat_minor": 2
}

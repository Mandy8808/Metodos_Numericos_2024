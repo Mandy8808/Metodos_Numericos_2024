{
 "cells": [
  {
   "cell_type": "code",
   "execution_count": null,
   "metadata": {},
   "outputs": [],
   "source": []
  },
  {
   "cell_type": "markdown",
   "metadata": {},
   "source": [
    "# `Bloque Cero`\n",
    "\n",
    "## Tema: Ideas básicas sobre Python y algunos paquetes fundamentales (part2)\n",
    "\n",
    "Tópicos:\n",
    "1. String\n",
    "2. List\n",
    "3. Tuple\n",
    "4. Set\n",
    "5. Dictionary\n",
    "6. NumPy Arrays"
   ]
  },
  {
   "cell_type": "code",
   "execution_count": null,
   "metadata": {},
   "outputs": [],
   "source": []
  },
  {
   "cell_type": "markdown",
   "metadata": {},
   "source": []
  }
 ],
 "metadata": {
  "language_info": {
   "name": "python"
  }
 },
 "nbformat": 4,
 "nbformat_minor": 2
}

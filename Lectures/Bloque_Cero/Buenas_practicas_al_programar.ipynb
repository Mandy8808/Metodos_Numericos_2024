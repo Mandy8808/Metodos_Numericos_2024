{
 "cells": [
  {
   "cell_type": "code",
   "execution_count": null,
   "metadata": {},
   "outputs": [],
   "source": []
  },
  {
   "cell_type": "markdown",
   "metadata": {},
   "source": [
    "# `Bloque Cero`\n",
    "\n",
    "## Tema: Buenas prácticas al programar"
   ]
  },
  {
   "cell_type": "markdown",
   "metadata": {},
   "source": [
    "Cuando se crea una aplicación (software) pueden existir otras que realicen los mismos procedimientos. ¿Entonces, cómo discriminamos cual es mejor?\n",
    "\n",
    "- Podríamos recurrir a comparar la eficientes de estas en consumo de procesador y/o memoria. \n",
    "- Podríamos recurrir a identificar cuan legibles, fáciles de modificar, fáciles de probar y verificar son.\n",
    "\n",
    "La implementación de una aplicación no se centra en la idea que solo funcione **correctamente**. En muchos de estos casos solo se tendrá una aplicación artesanal. Una aplicación debe ser *robustas, eficientes, fáciles de mantener*, etc. \n",
    "\n",
    "A continuación se muestran primeramente una serie de consejos y buenas prácticas acerca de como escribir programas en cualquier lenguaje. Para más información consultar las referencias:\n",
    "\n",
    "* `Diseño de Programas: Formalismo y Abstracción, Ricardo Peña, Prentice Hall, 1998.`\n",
    "* `Agile Software Development, Principles, Patterns, and Practices, Robert C. Martin, Pearson. 2ª Edición. Junio 2011.`\n",
    "\n",
    "Luego se particularizan para el lenguaje `Phyton`."
   ]
  },
  {
   "cell_type": "markdown",
   "metadata": {},
   "source": [
    "### Buenas Prácticas Generales\n",
    "\n",
    "1.  **Evitar el uso de variables globales**. \n",
    "\n",
    "El uso de variables globales pueda resultar tentador por lo cómodo de evitar tener que estar pasando la variable como parámetro. Sin embargo, su uso puede conllevar a efectos bastante peligrosos. El problema es que al ser la variable globalmente accesible, ésta puede ser modificada fácilmente por terceras funciones, asignando a la variable un valor no deseado. Este valor no deseado puede desecandenar una serie de fallos en cadena."
   ]
  },
  {
   "cell_type": "code",
   "execution_count": 1,
   "metadata": {},
   "outputs": [
    {
     "name": "stdout",
     "output_type": "stream",
     "text": [
      "variable original\n",
      "variable global modificada\n"
     ]
    }
   ],
   "source": [
    "# En Python todos los objetos definidos dentro de la función son tratados como `locales` es decir,\n",
    "# no afectan el programa principal. Aunque los objetos del programa principal (u otras funciones) si pueden afectar a la función. \n",
    "# En el caso de que se desee que la variable local se trate como global, solo debemos especificarlo con la palabra `global`. \n",
    "# Veamos unos ejemplos\n",
    "\n",
    "variable_text = \"variable original\"\n",
    "\n",
    "def variable_global():\n",
    "    global variable_text  # notar como se define como global. \n",
    "    variable_text = \"variable global modificada\"\n",
    "\n",
    "print(variable_text)\n",
    "\n",
    "variable_global()\n",
    "\n",
    "print(variable_text)\n",
    "\n",
    "# ¿¿¡¡ FACIL DE ENTENDER !!??"
   ]
  },
  {
   "cell_type": "code",
   "execution_count": 2,
   "metadata": {},
   "outputs": [
    {
     "name": "stdout",
     "output_type": "stream",
     "text": [
      "33\n",
      "43\n"
     ]
    }
   ],
   "source": [
    "# ¿Qué salida escribirá el siguiente programa?\n",
    "#del a\n",
    "def subrutina():\n",
    "    global a\n",
    "    print(a)\n",
    "    a += 10\n",
    "    return\n",
    "\n",
    "a = 33\n",
    "subrutina()\n",
    "print(a)"
   ]
  },
  {
   "cell_type": "code",
   "execution_count": 3,
   "metadata": {},
   "outputs": [
    {
     "name": "stdout",
     "output_type": "stream",
     "text": [
      "15\n",
      "15\n"
     ]
    }
   ],
   "source": [
    "def subrutina():\n",
    "    def sub_subrutina():\n",
    "        global a\n",
    "        a *= 5\n",
    "        print(a)\n",
    "        return\n",
    "    \n",
    "    a = 4\n",
    "    sub_subrutina()\n",
    "    return\n",
    "\n",
    "a = 3\n",
    "subrutina()\n",
    "print(a)"
   ]
  },
  {
   "cell_type": "markdown",
   "metadata": {},
   "source": [
    "2.  **Evitar el uso de sentencias goto, break y continue**. \n",
    "\n",
    "Se ha de evitar usar comandos que rompan el flujo secuencial de ejecución de un programa. La idea es seguir el principio básico de la [programación estructurada](https://en.wikipedia.org/wiki/Structured_programming). El no usar estas sentencias obliga a pensar primero que condición debe cumplirse durante la ejecución del bucle, y acontinuación codificarlo.\n",
    "\n",
    "Si el cuerpo del bucle es grande y tiene múltiples subbloques anidados, uno, podría olvidar fácilmente que parte del código no se ejecutará después de la interrupción, lo cual sería catastrófico. Sin embargo, si el ciclo es breve y va al grano, y el propósito de la declaración de interrupción es obvio podría usarse.\n",
    "\n",
    "3.  **Usar un único return por función y que estará en la última sentencia de la función**.\n",
    "\n",
    "Siguiendo los principio de la [programación estructurada](https://en.wikipedia.org/wiki/Structured_programming), una función deberá tener un único punto de entrada y un sólo punto de salida.\n",
    "\n",
    "Por ejemplo, supongamos que tenemos una función que devuelve una longitud en centímetros y debemos adaptarlo a otro sistema de unidades. La adaptación requerida sería tan fácil como invocar una función `cmANewUnidades(..)` sobre el valor devuelto por la función original. Si hay un sólo return, sólo tendremos que modificar una línea de código. Si tenemos, pongamos por ejemplo, 5 sentencias return, tendremos que modificar 5 líneas de código, lo cual es más propenso a errores.\n",
    "\n",
    "4. **Evitar escribir funciones y procedimientos demasiado largas**.\n",
    "\n",
    "Es recomendable para una mayor legibilidad y comprensión que cada procedimiento o función, no tenga más 6 ó 7 detalles diferentes a la vez.\n",
    "\n",
    "En general se suele tener en funciones demasiado largas hay `trozos claramente diferenciados de código`, los cuales están débilmente acoplados a este. Cada uno de estos bloques suele realizar una tarea distinta. Por ejemplo, es habitual en muchas funciones que al principio se preparen los datos para realizar un cómputo, o se inicialice alguna estructura para luego realizar una serie de cálculos y por último se presenten por la salida los resultados.\n",
    "\n",
    "En ese caso, por ejemplo, se recomienda dividir la función en tres subfunciones inicializa(..), calcular(..) e imprimir(..). No importa que las expectativas iniciales de reutilización de estas funciones sean prácticamente nulas. En general, si dos trozos de código pueden aparecer juntos en una sola función o separados en dos subfunciones, la opción recomendada siempre es separarlos, salvo justificación irrefutable en contra."
   ]
  },
  {
   "cell_type": "code",
   "execution_count": 4,
   "metadata": {},
   "outputs": [],
   "source": [
    "# via 1\n",
    "def distanciaEntreAB(coordA, coordB):\n",
    "    \n",
    "    # check\n",
    "    if len(coordA) != len(coordB):\n",
    "        raise ValueError('Los vectores no tiene la misma dimensión')\n",
    "    \n",
    "    # cálculo\n",
    "    distSquared_terms = [(coordA[i]-coordB[i])**2 for i in range(len(coordA))]\n",
    "    dist = sum(distSquared_terms)**(0.5)\n",
    "\n",
    "    return dist\n",
    "\n",
    "# via 2\n",
    "def check(coordA, coordB):\n",
    "    if len(coordA) != len(coordB):\n",
    "        raise ValueError('Los vectores no tiene la misma dimensión')\n",
    "\n",
    "def termsdistSquared(coordA, coordB):\n",
    "    return [(coordA[i]-coordB[i])**2 for i in range(len(coordA))]\n",
    "\n",
    "def distanciaEntreAB2(coordA, coordB):\n",
    "    \n",
    "    # check\n",
    "    check(coordA, coordB)\n",
    "    \n",
    "    # cálculo\n",
    "    distSquared_terms = termsdistSquared(coordA, coordB)\n",
    "    dist = sum(distSquared_terms)**(0.5)\n",
    "\n",
    "    return dist"
   ]
  },
  {
   "cell_type": "code",
   "execution_count": 5,
   "metadata": {},
   "outputs": [
    {
     "data": {
      "text/plain": [
       "(4.0, 4.0)"
      ]
     },
     "execution_count": 5,
     "metadata": {},
     "output_type": "execute_result"
    }
   ],
   "source": [
    "coordA, coordB = [0, 0, 2], [0, 0, -2]\n",
    "\n",
    "distanciaEntreAB(coordA, coordB), distanciaEntreAB2(coordA, coordB)\n",
    "\n",
    "# ventajas del v2, que podemos reciclar las funciones y es más facil de modificar y leer"
   ]
  },
  {
   "cell_type": "markdown",
   "metadata": {},
   "source": [
    "3.  **Evitar el uso de elementos no habituales de un lenguaje.**.\n",
    "\n",
    "Muchos lenguajes, contienen elementos propios de este. Normalmente, estos elementos son solamente conocidos por aquellos que dominan dicho lengauje. Un código debe ser escrito para que sea entendido por cuantos más programadores mejor. Por tanto, debe escribirse de una forma sencilla y que pueda ser bien entendida\n"
   ]
  },
  {
   "cell_type": "code",
   "execution_count": 12,
   "metadata": {},
   "outputs": [],
   "source": [
    "# Ejemplo\n",
    "\n",
    "def divisionAB(A, B):\n",
    "    if B:\n",
    "        division = A/B\n",
    "    else:\n",
    "        raise ValueError('División por cero no definida')\n",
    "    \n",
    "    return division\n",
    "\n",
    "# En Python y otros lenguajes, ej. C, el 0 se considera como Falso y cualquier otro numero verdadero\n",
    "# entonces -> if B: else: ->  se leería para B diferente de 0 como if Verdadero: , para 0 como if Falso: se ejecuta el else: \n",
    "\n",
    "# Recomendación\n",
    "def divisionAB2(A, B):\n",
    "    if B!=0:\n",
    "        division = A/B\n",
    "    else:\n",
    "        raise ValueError('División por cero no definida')\n",
    "    \n",
    "    return division\n",
    "\n",
    "#A, B = 1, 0\n",
    "#divisionAB(A, B)"
   ]
  },
  {
   "cell_type": "markdown",
   "metadata": {},
   "source": [
    "4.  **Comprobar consistencia semántica de los argumentos de una función**.\n",
    "\n",
    "Siempre es una buena práctiva verificar los argumentos de entrada de una función. Puede ocurrir, por ejemplo que los argumentos no sean del tipo de dato esperado o las características adecuadas.\n",
    "\n",
    "Dos posibles soluciones son: (1) comprobar la coherencia de los argumentos antes de ejecutar el cuerpo de la función y lanzar una excepción si estos argumentos fuesen inconsistentes; o (2) declarar precondiciones para la invocación de esta función.\n",
    "\n",
    "5.  **Expresar valores literales como constantes**.\n",
    "\n",
    "En muchas ocasiones hay que usar valores literales (e.g. el valor del número e, el tamaño máximo de un vector, la dimensión de una matriz, etc.). Se aconseja expresar estos valores como constantes (un módulo aparte). Esto incrementaría la adaptabilidad de la aplicación."
   ]
  },
  {
   "cell_type": "markdown",
   "metadata": {},
   "source": [
    "### Estilo de codificación y buenas prácticas en Python\n",
    "\n",
    "Estas normas no son obligatorias, como lo es la propia sintaxis de Python, pero el seguir el estilo de codificación [PEP 8](https://legacy.python.org/dev/peps/pep-0008/) facilita la lectura del programa y ayudar a encontrar posibles errores.\n",
    "\n",
    "1. **Espaciado o indentación**: en Python no es obligatorio una indentación específica siempre y cuando la estructura de bloques sea correcta (al kernel no le importa el número de espacios que se use). Sin embargo, la recomendación es usar cuatro espacios para la indentación de los bloques."
   ]
  },
  {
   "cell_type": "code",
   "execution_count": 6,
   "metadata": {},
   "outputs": [
    {
     "name": "stdout",
     "output_type": "stream",
     "text": [
      "dos espacios\n",
      "dos espacios\n"
     ]
    }
   ],
   "source": [
    "# Ejemplo\n",
    "\n",
    "# informal\n",
    "a = 5\n",
    "if a!=5:\n",
    " print('un espacio')\n",
    "elif a<5:\n",
    "    print('cuatro espacios')\n",
    "else:\n",
    "  print('dos espacios')    \n",
    "\n",
    "# formal\n",
    "a = 5\n",
    "if a!=5:\n",
    "    print('un espacio')\n",
    "elif a<5:\n",
    "    print('cuatro espacios')\n",
    "else:\n",
    "    print('dos espacios')    "
   ]
  },
  {
   "cell_type": "markdown",
   "metadata": {},
   "source": [
    "2. **Nombre de una variable**: una variable es un espacio para almacenar a un objeto que reside en la memoria. Cada variable debe tener un nombre único llamado identificador. \n",
    "\n",
    "A la hora de definir variables, es recomendable (pero no necesario), seguir el siguiente convenio:\n",
    "- Utilizar nombres descriptivos y en minúsculas. \n",
    "- Para nombres compuestos, separar las palabras por guiones bajos. \n",
    "- Antes y después del signo =, debe haber uno (y solo un) espacio en blanco\n",
    "- Cuando el valor sea una constante durante el código utilizar nombre descriptivo y en mayúsculas separando palabras por guiones bajos."
   ]
  },
  {
   "cell_type": "markdown",
   "metadata": {},
   "source": [
    "`Correcto:`\n",
    "\n",
    "mi_variable = 12\n",
    "\n",
    "MI_CONSTANTE = 12\n",
    "    \n",
    "`Incorrectos:`\n",
    "\n",
    "MiVariable = 12 \n",
    "\n",
    "mivariable = 12 \n",
    "\n",
    "mi_variable=12\n",
    "\n",
    "mi_variable =12\n",
    "\n",
    "mi_constante = 12"
   ]
  },
  {
   "cell_type": "markdown",
   "metadata": {},
   "source": [
    "3. **Las lí­neas de codigo no deben ser muy largas**. Es recomendable que una linea de código tenga como mucho 72 caracteres. En caso de ser mayo se ha de cortar con una barra invertida (\\) y continuar en la siguiente línea."
   ]
  },
  {
   "cell_type": "code",
   "execution_count": null,
   "metadata": {},
   "outputs": [],
   "source": [
    "print(\"Esta es una frase muy larga, se puede cortar con una \\\n",
    "       y seguir en la línea inferior.\")"
   ]
  },
  {
   "cell_type": "markdown",
   "metadata": {},
   "source": [
    "4. **Notación de los arreglos**. Dentro de paréntesis, corchetes o llaves, no dejar espacios inmediatamente dentro de ellos:\n",
    "\n",
    "`SI`:  funcion(num[1], {pares: 2})\n",
    "\n",
    "`NO`:  funcion( num[ 1 ], { pares: 2 } )\n",
    "\n",
    "5. **Notación de separadores**. Después de coma, punto y coma y punto, se ha de separar con un espacio, para mayor claridad, pero no antes:\n",
    "\n",
    "`SI`:  print(x, y); x, y = y, x\n",
    "\n",
    "`NO`:  print(x , y) ; x , y = y , x\n",
    "\n",
    "6. **Usar funciones predefinidas**. Siempre que sea posible se ha de utilizar funciones propias de Python, esto optimiza el rendimiento del programa."
   ]
  },
  {
   "cell_type": "code",
   "execution_count": 7,
   "metadata": {},
   "outputs": [
    {
     "name": "stdout",
     "output_type": "stream",
     "text": [
      "Tiempo de ejecución: 0.00021123886108398438 seconds\n",
      "Tiempo de ejecución: 0.00013518333435058594 seconds\n",
      "Tiempo de ejecución: 9.512901306152344e-05 seconds\n"
     ]
    }
   ],
   "source": [
    "import time\n",
    "\n",
    "# Ejemplo: Seleccionar los números positivos\n",
    "numeros = [-3, 2, 1, -8, -2, 7]\n",
    "\n",
    "# via 1\n",
    "st = time.time()  # get the start time\n",
    "positivos = []\n",
    "for i in numeros:\n",
    "    if i > 0:\n",
    "        positivos.append(i)\n",
    "et = time.time() # get the end time\n",
    "elapsed_time = et - st  # get the execution time\n",
    "print('Tiempo de ejecución:', elapsed_time, 'seconds')\n",
    "   \n",
    "# via 2 \n",
    "st = time.time()\n",
    "positivos = [i for i in numeros if i > 0]\n",
    "et = time.time() # get the end time\n",
    "elapsed_time = et - st  # get the execution time\n",
    "print('Tiempo de ejecución:', elapsed_time, 'seconds')\n",
    "\n",
    "# via 3\n",
    "st = time.time()\n",
    "positivos = filter(lambda x: x > 0, numeros)\n",
    "et = time.time() # get the end time\n",
    "elapsed_time = et - st  # get the execution time\n",
    "print('Tiempo de ejecución:', elapsed_time, 'seconds')"
   ]
  },
  {
   "cell_type": "code",
   "execution_count": 8,
   "metadata": {},
   "outputs": [
    {
     "name": "stdout",
     "output_type": "stream",
     "text": [
      "Tiempo de ejecución: 9.799003601074219e-05 seconds\n",
      "Tiempo de ejecución: 0.0001518726348876953 seconds\n",
      "Tiempo de ejecución: 9.393692016601562e-05 seconds\n"
     ]
    }
   ],
   "source": [
    "# Ejemplo 2: Suma 3 a cada elemento de la lista\n",
    "numeros = [-3, 2, 1, -8, -2, 7]\n",
    "\n",
    "# via 1\n",
    "st = time.time()\n",
    "for i in range(len(numeros)):\n",
    "    numeros[i] += 3\n",
    "et = time.time() # get the end time\n",
    "elapsed_time = et - st  # get the execution time\n",
    "print('Tiempo de ejecución:', elapsed_time, 'seconds')\n",
    "\n",
    "# via 2\n",
    "st = time.time()\n",
    "numeros = [i + 3 for i in numeros]\n",
    "et = time.time() # get the end time\n",
    "elapsed_time = et - st  # get the execution time\n",
    "print('Tiempo de ejecución:', elapsed_time, 'seconds')\n",
    "\n",
    "# via 3\n",
    "st = time.time()\n",
    "numeros = map(lambda i: i + 3, numeros)\n",
    "et = time.time() # get the end time\n",
    "elapsed_time = et - st  # get the execution time\n",
    "print('Tiempo de ejecución:', elapsed_time, 'seconds')"
   ]
  },
  {
   "cell_type": "markdown",
   "metadata": {},
   "source": [
    "7. **Documentación del código** En Python se recomienda dejar dos espacios si el comentario va en la misma línea del código. Adicionalmente es recomendado añadir en cada función o clase el texto informativo, el cual es denotado con triple comillas que se coloca justo después de la definción, esta variable reciben el nombre de `docstrings`, o cadenas de documentación y se consulta mediante `help()` o `nombre.__doc__`"
   ]
  },
  {
   "cell_type": "code",
   "execution_count": 9,
   "metadata": {},
   "outputs": [
    {
     "name": "stdout",
     "output_type": "stream",
     "text": [
      "Hola Juan !\n"
     ]
    }
   ],
   "source": [
    "def hola(arg):\n",
    "    \"\"\"El docstring de la función\"\"\"\n",
    "    print(\"Hola\", arg, \"!\")\n",
    "\n",
    "hola(\"Juan\")"
   ]
  },
  {
   "cell_type": "code",
   "execution_count": 10,
   "metadata": {},
   "outputs": [
    {
     "name": "stdout",
     "output_type": "stream",
     "text": [
      "Help on function hola in module __main__:\n",
      "\n",
      "hola(arg)\n",
      "    El docstring de la función\n",
      "\n"
     ]
    }
   ],
   "source": [
    "help(hola)"
   ]
  },
  {
   "cell_type": "code",
   "execution_count": 11,
   "metadata": {},
   "outputs": [
    {
     "name": "stdout",
     "output_type": "stream",
     "text": [
      "El docstring de la función\n"
     ]
    }
   ],
   "source": [
    "print(hola.__doc__)"
   ]
  },
  {
   "cell_type": "code",
   "execution_count": null,
   "metadata": {},
   "outputs": [],
   "source": []
  }
 ],
 "metadata": {
  "kernelspec": {
   "display_name": "base",
   "language": "python",
   "name": "python3"
  },
  "language_info": {
   "codemirror_mode": {
    "name": "ipython",
    "version": 3
   },
   "file_extension": ".py",
   "mimetype": "text/x-python",
   "name": "python",
   "nbconvert_exporter": "python",
   "pygments_lexer": "ipython3",
   "version": "3.11.4"
  }
 },
 "nbformat": 4,
 "nbformat_minor": 2
}

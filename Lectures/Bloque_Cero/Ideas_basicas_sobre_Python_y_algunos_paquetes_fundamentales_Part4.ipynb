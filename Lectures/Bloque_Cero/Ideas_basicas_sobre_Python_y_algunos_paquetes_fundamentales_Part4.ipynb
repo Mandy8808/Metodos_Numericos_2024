{
 "cells": [
  {
   "cell_type": "code",
   "execution_count": null,
   "metadata": {},
   "outputs": [],
   "source": []
  },
  {
   "cell_type": "markdown",
   "metadata": {},
   "source": [
    "# `Bloque Cero`\n",
    "\n",
    "## Tema: Ideas básicas sobre Python y algunos paquetes fundamentales (part4)\n",
    "\n",
    "**Tópicos**\n",
    "- Entrada y trabajo con Ficheros\n",
    "- Funciones\n",
    "  1. Funciones\n",
    "  2. Uso de args y kwargs\n",
    "  3. Sentencia `return`\n",
    "  4. Paso por valor y referencia\n",
    "  5. Documentación/Anotaciones en funciones\n",
    "  6. Variables globales\n",
    "  7. Funciones avanzadas. Funciones anónimas.\n",
    "  8. Funciones de orden superior (programaciones funcional)\n",
    "  9. Recursividad\n",
    "  10. Decoradores/Generadores.\n",
    "  "
   ]
  },
  {
   "cell_type": "markdown",
   "metadata": {},
   "source": [
    "## Entrada y trabajo con Ficheros\n",
    "\n",
    "En general `Python` puede leer y escribir ficheros de texto o binarios.\n",
    "\n",
    "\n",
    "### Abrir un fichero:\n",
    "\n",
    "- Una de las vías para abrir un archivo es mediante: `with` ... `as` ... .Las palabras reservadas `with` y `as` se introdujeron en `Python` 2.6. Su sintaxis general es la siguiente:"
   ]
  },
  {
   "cell_type": "code",
   "execution_count": null,
   "metadata": {},
   "outputs": [],
   "source": [
    "with EXPRESIÓN as VARIABLE:\n",
    "    BLOQUE DE INSTRUCCIONES"
   ]
  },
  {
   "cell_type": "markdown",
   "metadata": {},
   "source": [
    "La sentencia `with` se usa para limpiar objetos automáticamente. Es decir, una vez que se sale del bloque el objeto creado es limpiado de memoria. En otras palabras podemos usar esta sentencia para abrir archivos en Python y dejar que el intérprete se encargue de cerrar el mismo."
   ]
  },
  {
   "cell_type": "markdown",
   "metadata": {},
   "source": [
    "En el caso de los ficheros, la expresión es una llamada a la función `open()` y la variable es la conexión con el fichero:"
   ]
  },
  {
   "cell_type": "code",
   "execution_count": null,
   "metadata": {},
   "outputs": [],
   "source": [
    "with open(\"FICHERO\") as fichero:\n",
    "    BLOQUE DE INSTRUCCIONES"
   ]
  },
  {
   "cell_type": "markdown",
   "metadata": {},
   "source": [
    "La función `open` puede tener varios argumentos. Los más importantes son:"
   ]
  },
  {
   "cell_type": "code",
   "execution_count": null,
   "metadata": {},
   "outputs": [],
   "source": [
    "with open(\"FICHERO\", mode=\"MODO\", encoding=\"CODIFICACIÓN\") as fichero:\n",
    "    BLOQUE DE INSTRUCCIONES"
   ]
  },
  {
   "cell_type": "markdown",
   "metadata": {},
   "source": [
    "Donde:\n",
    "- FICHERO\" es la ruta absoluta o relativa hasta el fichero.\n",
    "- \"MODO\" indica si el fichero se abre para leer, escribir o ambas cosas y si se trata de un fichero de texto o binario. El modo predeterminado es lectura en modo texto. Los modos de escritura son:\n",
    "    - \"x\": únicamente crear el fichero (da error si ya existe el fichero)\n",
    "    - \"w\": escribir (crea el fichero si no existe y borra el contenido anterior del fichero)\n",
    "    - \"a\": añadir (crea el fichero si no existe, no borra el contenido existente y escribe al final del fichero)\n",
    "- \"CODIFICACIÓN\" indica el juego de caracteres del fichero: \"utf-8\" (UTF-8), \"cp1252\" (ASCII para Europa occidental), etc.\n",
    "    \n",
    "Si el sistema operativo utiliza de forma predeterminada el juego de caracteres `UTF-8`, no haría falta indicar el juego de caracteres al abrir el fichero. Para saber cuál es el juego de caracteres predeterminado se puede ejecutar en el entorno interactivo las instrucciones siguientes:"
   ]
  },
  {
   "cell_type": "code",
   "execution_count": 62,
   "metadata": {},
   "outputs": [
    {
     "name": "stdout",
     "output_type": "stream",
     "text": [
      "UTF-8\n"
     ]
    }
   ],
   "source": [
    "import locale\n",
    "\n",
    "print(locale.getpreferredencoding(False))"
   ]
  },
  {
   "cell_type": "markdown",
   "metadata": {},
   "source": [
    "- Una segunda vía es directamente usando los comandos `open` y `close`, lo cual nos obliga a cerrar el archivo por nuestra cuenta."
   ]
  },
  {
   "cell_type": "code",
   "execution_count": null,
   "metadata": {},
   "outputs": [],
   "source": [
    "fichero = open(\"FICHERO\", 'r')  # Usar la variable fichero\n",
    "fichero.close()  # Cerrar el fichero"
   ]
  },
  {
   "cell_type": "markdown",
   "metadata": {},
   "source": [
    "Es muy importante usar `close()` una vez que se termine de utilizar el fichero. Si dejamos el fichero abierto, podríamos llegar a tener un comportamiento inesperado que queremos evitar."
   ]
  },
  {
   "cell_type": "markdown",
   "metadata": {},
   "source": [
    "- Abrir varios ficheros a la vez\n",
    "\n",
    "Se pueden abrir varios ficheros a la vez en una única construcción `with` ... mediante varias funciones `open`(...) `as` .... separadas con comas. Cada fichero se puede abrir en un modo distinto."
   ]
  },
  {
   "cell_type": "code",
   "execution_count": null,
   "metadata": {},
   "outputs": [],
   "source": [
    "ruta_1 = \"prueba_1.txt\"\n",
    "ruta_2 = \"prueba_2.txt\"\n",
    "with open(ruta_1, mode=\"w\", encoding=\"utf-8\") as fichero_1, open(ruta_2, mode=\"w\", encoding=\"utf-8\") as fichero_2:\n",
    "    print(\"Hola\", file=fichero_1)\n",
    "    print(\"Adios\", file=fichero_2)"
   ]
  },
  {
   "cell_type": "code",
   "execution_count": null,
   "metadata": {},
   "outputs": [],
   "source": []
  },
  {
   "cell_type": "markdown",
   "metadata": {},
   "source": [
    "### Lectura de un fichero\n",
    "En la práctica existen muchos modos de leer un archivo en Python, no solo uno. Si necesitamos extraer una string que contenga todos los carácteres del archivo, podemos hacerlo usando el siguiente método: `f.read()`\n",
    "\n",
    "El método `file.read()` lee una string de un archivo abierto. Es importanten tener en cuenta que las strings en `Python` pueden contener datos binarios aparte de datos en texto."
   ]
  },
  {
   "cell_type": "code",
   "execution_count": 63,
   "metadata": {},
   "outputs": [
    {
     "name": "stdout",
     "output_type": "stream",
     "text": [
      "La string del archivo es:\n",
      "1 \n",
      "2.3 \n",
      "4. \n",
      "Una linea de texto\n",
      "y otra linea de textouna masy la ultima linea de texto\n"
     ]
    }
   ],
   "source": [
    "# Abrimos el archivo \n",
    "fo = open('archivoPrueba.txt', 'r+') # Archivo abierto en modo lectura y escritura\n",
    "stri = fo.read()  # lee todo el archivo\n",
    "print('La string del archivo es:\\n' + stri)\n",
    "# Cerramos el archivo\n",
    "fo.close()\n",
    "\n",
    "# stri"
   ]
  },
  {
   "cell_type": "markdown",
   "metadata": {},
   "source": [
    "Otra manera de leer un archivo es llamar a cierto número de carácteres. Por ejemplo, con el siguiente código el intérprete leerá los primeros 4 carácteres y los retornará como una string:"
   ]
  },
  {
   "cell_type": "code",
   "execution_count": 67,
   "metadata": {},
   "outputs": [
    {
     "name": "stdout",
     "output_type": "stream",
     "text": [
      "1 \n",
      "2\n"
     ]
    },
    {
     "data": {
      "text/plain": [
       "'1 \\n2'"
      ]
     },
     "execution_count": 67,
     "metadata": {},
     "output_type": "execute_result"
    }
   ],
   "source": [
    "f = open('archivoPrueba.txt', 'r')\n",
    "temp = f.read(4)  # especificamos el número de carácteres que queremos.\n",
    "print(temp)  # hay ¿4?\n",
    "\n",
    "f.seek(0)  # localiza el cursor en la posición deseada\n",
    "f.read(4)  # que pasó -> cursor\n",
    "# f.close()\n",
    "#temp"
   ]
  },
  {
   "cell_type": "markdown",
   "metadata": {},
   "source": [
    "- Iterando a traves de un archivo\n",
    "\n",
    "Si queremos leer un archivo línea por línea entonces podemos usar la función `readline()`. Dentro de los paréntesis se puede especificar el numero de bytes límite. Es decir, si la línea excede ese tamaño más ninguna se cargará. Por defecto es -1, es decir todas se cargan."
   ]
  },
  {
   "cell_type": "code",
   "execution_count": 68,
   "metadata": {},
   "outputs": [
    {
     "data": {
      "text/plain": [
       "['1 \\n',\n",
       " '2.3 \\n',\n",
       " '4. \\n',\n",
       " 'Una linea de texto\\n',\n",
       " 'y otra linea de textouna masy la ultima linea de texto']"
      ]
     },
     "execution_count": 68,
     "metadata": {},
     "output_type": "execute_result"
    }
   ],
   "source": [
    "# con open/close\n",
    "# ejemplo 1\n",
    "f = open('archivoPrueba.txt', 'r')\n",
    "a = f.readlines()  # lee todas las lineas y ls separa por coma\n",
    "f.close()\n",
    "a  # notar como cada fila es separada por una ,"
   ]
  },
  {
   "cell_type": "code",
   "execution_count": 70,
   "metadata": {},
   "outputs": [
    {
     "name": "stdout",
     "output_type": "stream",
     "text": [
      "1 \n",
      "\n",
      "2.3 \n",
      "\n",
      "4. \n",
      "\n",
      "Una linea de texto\n",
      "\n",
      "y otra linea de textouna masy la ultima linea de texto\n"
     ]
    }
   ],
   "source": [
    "# ejemplo 2\n",
    "a = []\n",
    "f = open('archivoPrueba.txt', 'r')\n",
    "for line in f:\n",
    "    a.append(line)\n",
    "    print(line)\n",
    "\n",
    "f.close()\n",
    "#a"
   ]
  },
  {
   "cell_type": "code",
   "execution_count": 73,
   "metadata": {},
   "outputs": [
    {
     "name": "stdout",
     "output_type": "stream",
     "text": [
      "1 \n",
      "\n",
      "2.3 \n",
      "\n",
      "4. \n",
      "\n",
      "Una linea de texto\n",
      "\n",
      "y otra linea de textouna masy la ultima linea de texto\n"
     ]
    }
   ],
   "source": [
    "# con with\n",
    "with open('archivoPrueba.txt', 'r') as archivo:\n",
    "    contenido = archivo.readlines() # Separamos el contenido del archivo en lineas\n",
    "    for linea in contenido:  # Iteramos a traves de las lineas\n",
    "        #palabras = linea.split()  # Dividimos la linea en palabras\n",
    "        #print(palabras)\n",
    "        print(linea)"
   ]
  },
  {
   "cell_type": "code",
   "execution_count": null,
   "metadata": {},
   "outputs": [],
   "source": []
  },
  {
   "cell_type": "markdown",
   "metadata": {},
   "source": [
    "### Escritura de un fichero\n",
    "\n",
    "Se puede escribir en el fichero\n",
    "- con la función `print()` añadiendo el argumento `file=fichero`, donde fichero es la VARIABLE utilizada en la expresión `with` ... `as` ...\n",
    "- con el método `write` sobre el objeto FICHERO, donde FICHERO es la variable utilizada en la expresión `with` ... `as` ...\n",
    "\n",
    "IMPORTANTE:\n",
    "* La función `print()` añade un salto de línea al final de la cadena añadida al fichero, pero el método `write` no lo hace, por lo que habrá que añadirlo explícitamente.\n",
    "\n",
    "Los ejemplos siguientes muestran la diferencia entre cada uno de los modos de escritura\n",
    "- `[w]` Cada vez que se ejecuta este programa, se crea nuevamente el fichero, por lo que este sólo contiene la palabra Hola."
   ]
  },
  {
   "cell_type": "code",
   "execution_count": 74,
   "metadata": {},
   "outputs": [],
   "source": [
    "# con print \n",
    "ruta = \"prueba.txt\"\n",
    "with open(ruta, mode=\"w\", encoding=\"utf-8\") as fichero:\n",
    "    print(\"Hola\", end=', ', file=fichero)\n",
    "    print(\"Adios\", file=fichero)"
   ]
  },
  {
   "cell_type": "code",
   "execution_count": 77,
   "metadata": {},
   "outputs": [],
   "source": [
    "# con write\n",
    "ruta = \"prueba2.txt\"\n",
    "with open(ruta, mode=\"w\", encoding=\"utf-8\") as fichero:\n",
    "    fichero.write(\"Hola\\n\")  # quitar el salto \n",
    "    fichero.write(\"Adios\\n\") "
   ]
  },
  {
   "cell_type": "markdown",
   "metadata": {},
   "source": [
    "- `[x]` Al ejecutar por segunda vez este programa (o a la primera si el fichero ya existe), se genera un error."
   ]
  },
  {
   "cell_type": "code",
   "execution_count": 78,
   "metadata": {},
   "outputs": [
    {
     "ename": "FileExistsError",
     "evalue": "[Errno 17] File exists: 'prueba.txt'",
     "output_type": "error",
     "traceback": [
      "\u001b[0;31m---------------------------------------------------------------------------\u001b[0m",
      "\u001b[0;31mFileExistsError\u001b[0m                           Traceback (most recent call last)",
      "Cell \u001b[0;32mIn[78], line 2\u001b[0m\n\u001b[1;32m      1\u001b[0m ruta \u001b[38;5;241m=\u001b[39m \u001b[38;5;124m\"\u001b[39m\u001b[38;5;124mprueba.txt\u001b[39m\u001b[38;5;124m\"\u001b[39m\n\u001b[0;32m----> 2\u001b[0m \u001b[38;5;28;01mwith\u001b[39;00m \u001b[38;5;28mopen\u001b[39m(ruta, mode\u001b[38;5;241m=\u001b[39m\u001b[38;5;124m\"\u001b[39m\u001b[38;5;124mx\u001b[39m\u001b[38;5;124m\"\u001b[39m, encoding\u001b[38;5;241m=\u001b[39m\u001b[38;5;124m\"\u001b[39m\u001b[38;5;124mutf-8\u001b[39m\u001b[38;5;124m\"\u001b[39m) \u001b[38;5;28;01mas\u001b[39;00m fichero:\n\u001b[1;32m      3\u001b[0m     \u001b[38;5;28mprint\u001b[39m(\u001b[38;5;124m\"\u001b[39m\u001b[38;5;124mHola\u001b[39m\u001b[38;5;124m\"\u001b[39m, file\u001b[38;5;241m=\u001b[39mfichero)\n",
      "File \u001b[0;32m~/anaconda3/lib/python3.11/site-packages/IPython/core/interactiveshell.py:284\u001b[0m, in \u001b[0;36m_modified_open\u001b[0;34m(file, *args, **kwargs)\u001b[0m\n\u001b[1;32m    277\u001b[0m \u001b[38;5;28;01mif\u001b[39;00m file \u001b[38;5;129;01min\u001b[39;00m {\u001b[38;5;241m0\u001b[39m, \u001b[38;5;241m1\u001b[39m, \u001b[38;5;241m2\u001b[39m}:\n\u001b[1;32m    278\u001b[0m     \u001b[38;5;28;01mraise\u001b[39;00m \u001b[38;5;167;01mValueError\u001b[39;00m(\n\u001b[1;32m    279\u001b[0m         \u001b[38;5;124mf\u001b[39m\u001b[38;5;124m\"\u001b[39m\u001b[38;5;124mIPython won\u001b[39m\u001b[38;5;124m'\u001b[39m\u001b[38;5;124mt let you open fd=\u001b[39m\u001b[38;5;132;01m{\u001b[39;00mfile\u001b[38;5;132;01m}\u001b[39;00m\u001b[38;5;124m by default \u001b[39m\u001b[38;5;124m\"\u001b[39m\n\u001b[1;32m    280\u001b[0m         \u001b[38;5;124m\"\u001b[39m\u001b[38;5;124mas it is likely to crash IPython. If you know what you are doing, \u001b[39m\u001b[38;5;124m\"\u001b[39m\n\u001b[1;32m    281\u001b[0m         \u001b[38;5;124m\"\u001b[39m\u001b[38;5;124myou can use builtins\u001b[39m\u001b[38;5;124m'\u001b[39m\u001b[38;5;124m open.\u001b[39m\u001b[38;5;124m\"\u001b[39m\n\u001b[1;32m    282\u001b[0m     )\n\u001b[0;32m--> 284\u001b[0m \u001b[38;5;28;01mreturn\u001b[39;00m io_open(file, \u001b[38;5;241m*\u001b[39margs, \u001b[38;5;241m*\u001b[39m\u001b[38;5;241m*\u001b[39mkwargs)\n",
      "\u001b[0;31mFileExistsError\u001b[0m: [Errno 17] File exists: 'prueba.txt'"
     ]
    }
   ],
   "source": [
    "ruta = \"prueba.txt\"\n",
    "with open(ruta, mode=\"x\", encoding=\"utf-8\") as fichero:\n",
    "    print(\"Hola\", file=fichero)"
   ]
  },
  {
   "cell_type": "markdown",
   "metadata": {},
   "source": [
    "- `[a]` Cada vez que se ejecuta este programa, se añade al fichero una línea con la palabra Hola (si el fichero no existe, se crea).\n"
   ]
  },
  {
   "cell_type": "code",
   "execution_count": 80,
   "metadata": {},
   "outputs": [],
   "source": [
    "ruta = \"prueba1.txt\"\n",
    "with open(ruta, mode=\"a\", encoding=\"utf-8\") as fichero:\n",
    "    fichero.write(\"Hola\")\n",
    "    \n",
    "with open(ruta, mode=\"a\", encoding=\"utf-8\") as fichero:\n",
    "    print(\"\\nHola esto es un prueba\", file=fichero)"
   ]
  },
  {
   "cell_type": "markdown",
   "metadata": {},
   "source": [
    "### Una alternativa sin `with `\n",
    "\n",
    "Somo vimos mediante `with ` el interprete se encarga de cerrar el archivo. Sin embargo en `Python` también podemos realizar nosotros estas operaciones.El primer paso sería abrir el archivo con `open` y asignarle el objeto a una variable file (f). Mediante dicho objeto podemos acceder a la información relacionada con ese archivo. Veamos una lista de los atributos relacionados con el objeto file:\n",
    "\n",
    "- `f.closed` : retorna True si el archivo está cerrado, si no, False.\n",
    "- `f.mode` : retorna el modo de acceso con el que el archivo ha sido abierto.\n",
    "- `f.name` : retorna el nombre del archivo."
   ]
  },
  {
   "cell_type": "code",
   "execution_count": null,
   "metadata": {},
   "outputs": [],
   "source": [
    "# ejemplo 1\n",
    "f = open('archivoPrueba.txt', mode ='w')\n",
    "f.write('Hola mundo')\n",
    "f.write('\\nEste es nuestro archivo de texto\\n')\n",
    "f.write('Esta es otra linea\\n')  # notar que no hay saltos\n",
    "f.close()"
   ]
  },
  {
   "cell_type": "code",
   "execution_count": 2,
   "metadata": {},
   "outputs": [],
   "source": [
    "# ejemplo 2\n",
    "f = open('archivoPrueba.txt', mode ='w')\n",
    "for _ in range(3):\n",
    "    a = input('diga un número ')\n",
    "    f.write(f'{a} \\n')\n",
    "    #print(f'{a}', file=f)\n",
    "f.close()"
   ]
  },
  {
   "cell_type": "markdown",
   "metadata": {},
   "source": [
    "* Si queremos pasarle una lista, podemos usar `writelines`. Este método se encargará de guardar todos los elementos de la lista en el fichero."
   ]
  },
  {
   "cell_type": "code",
   "execution_count": 81,
   "metadata": {},
   "outputs": [],
   "source": [
    "# Ejemplo 1\n",
    "fichero = open(\"datos_guardados.txt\", 'w')\n",
    "lista = [\"Manzana\", \"Pera\", \"Plátano\"]\n",
    "\n",
    "fichero.writelines(lista)\n",
    "fichero.close()"
   ]
  },
  {
   "cell_type": "markdown",
   "metadata": {},
   "source": [
    "Notar que se guardó como ManzanaPeraPlátano, si queremos dejar un espacio o hacer un salto de línea debemos usar los comandos adecuados, por ejemplo:"
   ]
  },
  {
   "cell_type": "code",
   "execution_count": 85,
   "metadata": {},
   "outputs": [],
   "source": [
    "# Ejemplo \n",
    "fichero = open(\"datos_guardados.txt\", 'w')\n",
    "lista = [\"Manzana\\n\", \"Pera\\n\", \"Plátano\\n\"]\n",
    "\n",
    "fichero.writelines(lista)\n",
    "fichero.close()"
   ]
  },
  {
   "cell_type": "code",
   "execution_count": 45,
   "metadata": {},
   "outputs": [],
   "source": [
    "# Ejemplo 3\n",
    "# Qué se escribiría en el archivo:\n",
    "archivo = open('archivoPrueba.txt', 'a')  # notar q se usó 'w' o 'a'\n",
    "lineas_texto = ['Una linea de texto\\n', 'y otra linea de texto', 'una mas', 'y la ultima linea de texto']\n",
    "archivo.writelines(lineas_texto)\n",
    "archivo.close()"
   ]
  },
  {
   "cell_type": "markdown",
   "metadata": {},
   "source": [
    "## Funciones\n",
    "\n",
    "Una función es un bloque de código con un nombre asociado, que recibe cero o más argumentos como entrada, sigue una secuencia de sentencias, la cuales ejecuta una operación deseada y devuelve un valor y/o realiza una tarea, este bloque puede ser llamados cuando se necesite.\n",
    "\n",
    "El uso de funciones es un componente muy importante del paradigma de la programación llamada estructurada, y tiene varias ventajas:\n",
    "\n",
    "- modularización: permite segmentar un programa complejo en una serie de partes o módulos más simples, facilitando así la programación y el depurado.\n",
    "- reutilización: permite reutilizar una misma función en distintos programas.\n",
    "\n",
    "Python dispone de una serie de funciones integradas al lenguaje, y también permite crear funciones definidas por el usuario para ser usadas en su propios programas.\n",
    "\n",
    "## Sentencia def\n",
    "La sentencia `def` es una definición de función usada para crear objetos funciones definidas por el usuario. La definición de función no ejecuta el cuerpo de la función; esto es ejecutado solamente cuando la función es llamada.\n",
    "\n",
    "La sintaxis para una definición de función en Python es:\n",
    "\n",
    "    def NOMBRE(LISTA_DE_PARAMETROS):\n",
    "        \"\"\"DOCSTRING_DE_FUNCION\"\"\"\n",
    "        SENTENCIAS\n",
    "        \n",
    "        RETURN [EXPRESION]\n",
    "    \n",
    "donde \n",
    "\n",
    "- NOMBRE, es el nombre de la función.\n",
    "- LISTA_DE_PARAMETROS, es la lista de parámetros que puede recibir una función.\n",
    "- DOCSTRING_DE_FUNCION, es la cadena de caracteres usada para documentar la función.\n",
    "- SENTENCIAS, es el bloque de sentencias en código fuente Python que realizar cierta operación dada.\n",
    "- RETURN, es la sentencia return en código Python.\n",
    "- EXPRESION, es la expresión o variable que devuelve la sentencia return.\n",
    "\n",
    "Un ejemplo simple de función esta seguidamente:  "
   ]
  },
  {
   "cell_type": "code",
   "execution_count": 46,
   "metadata": {},
   "outputs": [
    {
     "name": "stdout",
     "output_type": "stream",
     "text": [
      "Hola jorge ! 5\n",
      "5\n"
     ]
    }
   ],
   "source": [
    "a = 1\n",
    "\n",
    "def hola(arg):\n",
    "    \"\"\"El docstring de la función\"\"\"\n",
    "    global a\n",
    "    a = 5\n",
    "    print(\"Hola\", arg, \"!\", a)\n",
    "    \n",
    "hola('jorge')\n",
    "print(a)\n",
    "# las funciones no pueden usar nombres ya predefinidos"
   ]
  },
  {
   "cell_type": "markdown",
   "metadata": {},
   "source": [
    "La ejecución de una función introduce una nueva tabla de símbolos usada para las variables locales de la función. Más precisamente, **todas las asignaciones de variables en la función almacenan el valor en la tabla de símbolos local**. \n",
    "\n",
    "IMPORTANTE1:\n",
    "La referencia a variables **primero** mira la tabla de símbolos local, **luego** en la tabla de símbolos local de las funciones externas, **luego** la tabla de símbolos global, y **finalmente** la tabla de nombres predefinidos. Así, no se les puede asignar directamente un valor a las variables globales dentro de una función (a menos se las nombre en la sentencia global).\n",
    "\n",
    "IMPORTANTE2:\n",
    "En `Python` todo es un objeto, incluso una función. Nótese la diferencia entre:\n",
    "- `di_hola()` llama a la función.\n",
    "- `di_hola` hace referencia a la función, no la llama."
   ]
  },
  {
   "cell_type": "markdown",
   "metadata": {},
   "source": [
    "## Argumentos y parámetros\n",
    "Al definir una función los valores los cuales se reciben se denominan parámetros, pero durante la llamada los valores que se envían se denominan argumentos.\n",
    "\n",
    "* Por posición: Cuando enviá argumentos a una función, estos se reciben por orden en los parámetros definidos. Se dice por tanto que son argumentos por posición:"
   ]
  },
  {
   "cell_type": "code",
   "execution_count": null,
   "metadata": {},
   "outputs": [],
   "source": [
    "def resta(a, b):\n",
    "    return a - b\n",
    "\n",
    "resta(10, 30)"
   ]
  },
  {
   "cell_type": "markdown",
   "metadata": {},
   "source": [
    "En el ejemplo anterior el argumento 30 es la posición 0 por consiguiente es el parámetro de la función a, seguidamente el argumento 10 es la posición 1 por consiguiente es el parámetro de la función b."
   ]
  },
  {
   "cell_type": "markdown",
   "metadata": {},
   "source": [
    "* Por nombre: Es posible evadir el orden de los parámetros si indica durante la llamada que valor tiene cada parámetro a partir de su nombre:"
   ]
  },
  {
   "cell_type": "code",
   "execution_count": null,
   "metadata": {},
   "outputs": [],
   "source": [
    "resta(b=30, a=10)"
   ]
  },
  {
   "cell_type": "markdown",
   "metadata": {},
   "source": [
    "* Parámetros por defecto: Se pueden asignar valores por defecto a los parámetros. Usualmente cuando se desea comprobar se les asigna `None`"
   ]
  },
  {
   "cell_type": "code",
   "execution_count": null,
   "metadata": {},
   "outputs": [],
   "source": [
    "def resta(a=None, b=None):\n",
    "    if a == None or b == None:\n",
    "        print(\"Error, debes enviar dos números a la función\")\n",
    "        return\n",
    "    return a - b"
   ]
  },
  {
   "cell_type": "markdown",
   "metadata": {},
   "source": [
    "* `Argumentos indeterminados`: En alguna ocasión usted no sabe previamente cuantos elementos necesita enviar a una función. En estos casos puede utilizar los parámetros indeterminados por **posición** (`args`) y **por nombre** (`kwargs`). NOTA: el uso de estos nombres `args, kwargs` es totalmente arbitrario, puede ponerse cualquier valor, solo es una convención lo que si es un requisito, es usar `*` y `**` junto al nombre dado.\n",
    "\n",
    "    - Por posición (`args`) : (tuple unpacking)"
   ]
  },
  {
   "cell_type": "code",
   "execution_count": 52,
   "metadata": {},
   "outputs": [
    {
     "name": "stdout",
     "output_type": "stream",
     "text": [
      "5, Hola Plone, [1, 2, 3, 4, 5], "
     ]
    }
   ],
   "source": [
    "def indeterminados_posicion(*args):\n",
    "    for i in args:\n",
    "        print(i, end=', ')\n",
    "        \n",
    "indeterminados_posicion(5,\"Hola Plone\",[1,2,3,4,5]) \n",
    "# notar q se imprimen en el orden de entrada"
   ]
  },
  {
   "cell_type": "markdown",
   "metadata": {},
   "source": [
    "Notar que declarar el argumento de la forma `*args` nos permite entrar a la función una arreglo de datos cuyo tamaño puede ser dinámico (no conocemos su longitud). Internamente lo que ocurre es que el argumento que se pase será empaquetado en una tupla de manera automática."
   ]
  },
  {
   "cell_type": "markdown",
   "metadata": {},
   "source": [
    "* Por nombre (`kwargs`): Para recibir un número indeterminado de parámetros por nombre (`clave-valor` o en inglés keyword args), usted debe crear un diccionario dinámico de argumentos definiendo el parámetro con dos asteriscos:"
   ]
  },
  {
   "cell_type": "code",
   "execution_count": 50,
   "metadata": {},
   "outputs": [
    {
     "name": "stdout",
     "output_type": "stream",
     "text": [
      "n => 5\n",
      "c => Hola Plone\n",
      "l => [1, 2, 3, 4, 5]\n"
     ]
    }
   ],
   "source": [
    "def indeterminados_nombre(**kwargs):\n",
    "    for i in kwargs:\n",
    "        print(i, \"=>\", kwargs[i])\n",
    "\n",
    "indeterminados_nombre(n=5, c=\"Hola Plone\", l=[1,2,3,4,5])"
   ]
  },
  {
   "cell_type": "markdown",
   "metadata": {},
   "source": [
    "* `Por posición y nombre`: Si requiere aceptar ambos tipos de parámetros simultáneamente en una función, entonces debe crear ambas colecciones dinámicas. Primero los argumentos indeterminados por valor y luego los cuales son por clave y valor. Es decir, primero `args` y luego `kwargs`. El orden sería el siguiente:\n",
    "\n",
    "- Primero argumentos normales.\n",
    "- Después los `*args`.\n",
    "- Y por último los `**kwargs`."
   ]
  },
  {
   "cell_type": "code",
   "execution_count": 33,
   "metadata": {},
   "outputs": [
    {
     "name": "stdout",
     "output_type": "stream",
     "text": [
      "50\n",
      "sumatoria =>  -1\n",
      "sumatoria =>  0.56\n",
      "sumatoria =>  10.56\n",
      "sumatoria =>  30.560000000000002\n",
      "sumatoria =>  330.56\n",
      "a2 => 5\n",
      "cms => Plone\n",
      "edad => 38\n"
     ]
    }
   ],
   "source": [
    "# Ejemplo \n",
    "\n",
    "def super_funcion(a, *args,**kwargs):\n",
    "    print(a)\n",
    "    total = 0\n",
    "    for i in args:\n",
    "        total += i\n",
    "        print(\"sumatoria => \", total)\n",
    "    for j in kwargs:\n",
    "        print(j, \"=>\", kwargs[j])\n",
    "\n",
    "super_funcion(50, -1, 1.56, 10, 20, 300, a2=5, cms=\"Plone\", edad=38)  # notar que la entrada no esta escrito como diccionario\n",
    "# notar que primero toma 'a', luego los que no son diccionarios"
   ]
  },
  {
   "cell_type": "code",
   "execution_count": 34,
   "metadata": {},
   "outputs": [
    {
     "name": "stdout",
     "output_type": "stream",
     "text": [
      "a = 10\n",
      "b = 20\n",
      "args = 1\n",
      "args = 2\n",
      "args = 3\n",
      "args = 4\n",
      "x = Hola\n",
      "y = Que\n",
      "z = Tal\n"
     ]
    }
   ],
   "source": [
    "# Otro ejemplo\n",
    "def funcion(a, b, *args, **kwargs):\n",
    "    print(\"a =\", a)\n",
    "    print(\"b =\", b)\n",
    "    for arg in args:\n",
    "        print(\"args =\", arg)\n",
    "    for key, value in kwargs.items():\n",
    "        print(key, \"=\", value)\n",
    "\n",
    "funcion(10, 20, 1, 2, 3, 4, x=\"Hola\", y=\"Que\", z=\"Tal\")"
   ]
  },
  {
   "cell_type": "code",
   "execution_count": 35,
   "metadata": {},
   "outputs": [
    {
     "name": "stdout",
     "output_type": "stream",
     "text": [
      "a = 10\n",
      "b = 20\n",
      "args = 1\n",
      "args = 2\n",
      "args = 3\n",
      "args = 4\n",
      "x = Hola\n",
      "y = Que\n",
      "z = Tal\n"
     ]
    }
   ],
   "source": [
    "# Uno final!\n",
    "def funcion(a, b, *args, **kwargs):\n",
    "    print(\"a =\", a)\n",
    "    print(\"b =\", b)\n",
    "    for arg in args:\n",
    "        print(\"args =\", arg)\n",
    "    for key, value in kwargs.items():\n",
    "        print(key, \"=\", value)\n",
    "\n",
    "args = [1, 2, 3, 4]\n",
    "kwargs = {'x':\"Hola\", 'y':\"Que\", 'z':\"Tal\"}\n",
    "\n",
    "funcion(10, 20, *args, **kwargs)"
   ]
  },
  {
   "cell_type": "markdown",
   "metadata": {},
   "source": [
    "Este último ejemplo se conoce como `tuple unpacking`. Usando `*`, se pueden extraer los valores de una lista o tupla, y que sean pasados como argumentos a la función."
   ]
  },
  {
   "cell_type": "markdown",
   "metadata": {},
   "source": [
    "### Sentencia return\n",
    "\n",
    "Las funciones pueden comunicarse con el exterior de las mismas, para ello usa la sentencia `return`."
   ]
  },
  {
   "cell_type": "code",
   "execution_count": null,
   "metadata": {},
   "outputs": [],
   "source": [
    "def suma2(a, b):\n",
    "    suma =  a+b\n",
    "    return suma\n",
    "\n",
    "suma2(8,9)"
   ]
  },
  {
   "cell_type": "markdown",
   "metadata": {},
   "source": [
    "Por defecto, las funciones retorna el valor `None`."
   ]
  },
  {
   "cell_type": "markdown",
   "metadata": {},
   "source": [
    "* Retorno múltiple: Una característica interesante, es la posibilidad de devolver valores múltiples separados por comas:"
   ]
  },
  {
   "cell_type": "code",
   "execution_count": null,
   "metadata": {},
   "outputs": [],
   "source": [
    "def prueba():\n",
    "    return \"Plone CMS\", 20, [1,2,3]\n",
    "\n",
    "a, b, c = prueba()\n",
    "\n",
    "print(a)"
   ]
  },
  {
   "cell_type": "markdown",
   "metadata": {},
   "source": [
    "## Paso por valor y referencia"
   ]
  },
  {
   "cell_type": "markdown",
   "metadata": {},
   "source": [
    "Antes de continuar es necesario tener claro los conceptos de: `paso por valor` y `paso por referencia` que aplican a la hora de como trata una función a los parámetros que se le pasan como entrada. Su comportamiento es el siguiente:\n",
    "\n",
    "- Si usamos un parámetro `pasado por valor`, se creará una copia `local` de la variable (a menos que se indique que es global), lo que implica que cualquier modificación sobre la misma no tendrá efecto sobre la original.\n",
    "- Con una variable `pasada como referencia`, se actuará `directamente` sobre la variable pasada, por lo que las modificaciones afectarán a la variable original.\n",
    "\n",
    "En `Python` el identificar cual de los dos casos puede ser CONFUSO. De hecho, se puede decir que siempre es por **referencia** en un cierto sentido ya que en `Python` todas las variables son referencias. Veamos unos ejemplos e intentemos entender esto:"
   ]
  },
  {
   "cell_type": "code",
   "execution_count": 38,
   "metadata": {},
   "outputs": [
    {
     "name": "stdout",
     "output_type": "stream",
     "text": [
      "10\n"
     ]
    }
   ],
   "source": [
    "x = 10\n",
    "def funcion(entrada):\n",
    "    entrada = 0  # notar que no hay return\n",
    "\n",
    "funcion(x)\n",
    "\n",
    "print(x)  # no se modificó"
   ]
  },
  {
   "cell_type": "markdown",
   "metadata": {},
   "source": [
    "Noten que inicialmente asignamos a la variable $x$ el número $10$, el cual se lo pasamos a la función, la cual hace que dicha variable valga $0$. Ahora, dado que `Python` trata a los `int` como `pasados por valor`, dentro de la función se crea una `copia local` de $x$, por lo que la variable original no es modificada."
   ]
  },
  {
   "cell_type": "markdown",
   "metadata": {},
   "source": [
    "Veamos otro ejemplo:\n",
    "\n",
    "Asignemos ahora a la variable $x$ una lista."
   ]
  },
  {
   "cell_type": "code",
   "execution_count": 39,
   "metadata": {},
   "outputs": [
    {
     "name": "stdout",
     "output_type": "stream",
     "text": [
      "[10, 20, 30, 40]\n"
     ]
    }
   ],
   "source": [
    "x = [10, 20, 30]\n",
    "def funcion(entrada):\n",
    "    entrada.append(40)\n",
    "\n",
    "funcion(x)\n",
    "print(x)"
   ]
  },
  {
   "cell_type": "markdown",
   "metadata": {},
   "source": [
    "En este caso `Python` trata la entrada como `pasada por referencia`, lo que hace que se modifique la variable original. Ahora, uno estaría tentado a decir que siempre que pasemos una lista (o un mutable) esta sería `pasada por referencia` ¿cierto? Pues no es tan sencillo, veamos otro ejemplo:"
   ]
  },
  {
   "cell_type": "code",
   "execution_count": 40,
   "metadata": {},
   "outputs": [
    {
     "name": "stdout",
     "output_type": "stream",
     "text": [
      "[10, 20, 30]\n"
     ]
    }
   ],
   "source": [
    "x = [10, 20, 30]\n",
    "def funcion(entrada):\n",
    "    entrada = []  # destruimos la variable de entrada \n",
    "\n",
    "funcion(x)\n",
    "print(x)  # no se destruyo?!!"
   ]
  },
  {
   "cell_type": "markdown",
   "metadata": {},
   "source": [
    "Como se aprecia no es cierto que SIEMPRE que pasemos una lista esta es `pasada por referencia`. ¿QUÉ ESTA PASANDO?"
   ]
  },
  {
   "cell_type": "markdown",
   "metadata": {},
   "source": [
    "En `Python`, no se concibe la dialéctica paso por `valor o referencia`, porque este lenguaje no trabaja con el concepto de variables sino `objetos y referencias`. Al realizar la asignación, por ejemplo \n",
    "\n",
    "$$x = 10$$\n",
    "\n",
    "no se dice: `x contiene el valor 10` sino que `x referencia o apunta a 10`. Así, en comparación con otros lenguajes, podría decirse que en `Python` los parámetros siempre se pasan por referencia. Ahora, ¿por qué entonces no se modificó la variable $x$ en el primer ejemplo?\n",
    "\n",
    "\n",
    "La respuesta dada (y correcta) es que eran un inmutable, es decir, una vez creados, su valor no puede ser modificado. Notemos que nunca se modificó el valor, sinó que desde la perspectiva del lenguaje, `no cambiamos cambiando el valor de x de 10 a 0` sino `quitamos la referencia (apuntador) a 10 y poniéndosela a 0`. Es decir, no `cambias` el valor de un objeto sino que le asignas una nueva referencia.\n",
    "\n",
    "\n",
    "¿Confuso?\n",
    "\n",
    "Intentemos explicarlo paso a paso:\n",
    "\n",
    "Cuando hacemos estas operaciones:\n",
    "\n",
    "$$x = 10$$\n",
    "$$n = x$$\n",
    "\n",
    "Lo que hace el lenguaje es una copia de la referencia, de modo que al final tanto $x$ como $n$ \"apuntan\" al mismo objeto inmutable $10$. Ahora el paso de parámetros a una función es equivalente a esa asignación. Si la función se declara con un parámetro $x$, por ejemplo `def f(x):` y se le \"llama\" pasándole otro parámetro $n$, es decir `f(n)`. Lo que ocurre es que nada se llama a la función se hace la asignación `x = n`, lo que implica que se le asigna la misma referencia, es decir, el parámetro $x$ en realidad apunta al mismo objeto que la variable $n$.\n",
    "\n",
    "\n",
    "¿Todo bien hasta acá?\n",
    "\n",
    "Ahora bien, esto no significa que por el hecho de estar \"apuntando\" al mismo objeto, puedas cambiar el valor de éste. Eso sólo puedes hacerlo en datos que sean de tipo mutable. Una operación como ésta:\n",
    "\n",
    "$$n =  1$$\n",
    "$$n += 100$$\n",
    "\n",
    "no cambia el \"objeto 1\" al que apuntaba $n$ por el valor 101. En cambio, crea un nuevo objeto de valor $101$ y reasigna la referencia $n$.\n",
    "\n",
    "\n",
    "Ahora en el caso de que el objeto sea un mutable, entonces al apuntar al mismo objeto podemos modificarlo indiractamente. IMPORTANTE el modificar el objeto refiere a sus elementos."
   ]
  },
  {
   "cell_type": "markdown",
   "metadata": {},
   "source": [
    "Una forma muy útil de saber lo que pasa por debajo es haciendo uso de la función `id()`"
   ]
  },
  {
   "cell_type": "code",
   "execution_count": 42,
   "metadata": {},
   "outputs": [
    {
     "name": "stdout",
     "output_type": "stream",
     "text": [
      "4470463816\n",
      "4470463496\n"
     ]
    }
   ],
   "source": [
    "x = 10\n",
    "print(id(x)) # 4470463816\n",
    "def funcion(entrada):\n",
    "    entrada = 0\n",
    "    print(id(entrada)) # 4470463496\n",
    "\n",
    "funcion(x)"
   ]
  },
  {
   "cell_type": "code",
   "execution_count": 44,
   "metadata": {},
   "outputs": [
    {
     "name": "stdout",
     "output_type": "stream",
     "text": [
      "4543744192\n",
      "4543744192\n"
     ]
    }
   ],
   "source": [
    "# pedir que expliquen\n",
    "\n",
    "x = [10, 20, 30]\n",
    "print(id(x)) # 4543649664\n",
    "def funcion(entrada):\n",
    "    entrada.append(40)\n",
    "    print(id(entrada)) # 4543649664\n",
    "\n",
    "funcion(x)  "
   ]
  },
  {
   "cell_type": "code",
   "execution_count": 47,
   "metadata": {},
   "outputs": [
    {
     "name": "stdout",
     "output_type": "stream",
     "text": [
      "4535418176\n",
      "4530364032\n"
     ]
    }
   ],
   "source": [
    "# pedir que expliquen\n",
    "\n",
    "x = [10, 20, 30]\n",
    "print(id(x))\n",
    "\n",
    "def funcion(x):\n",
    "    x = []\n",
    "    print(id(x))\n",
    "\n",
    "funcion(x)"
   ]
  },
  {
   "cell_type": "markdown",
   "metadata": {},
   "source": [
    "Ultimos comentarios\n",
    "\n",
    "- Para modificar los tipos simples podemos devolverlos modificados y reasignarlos:"
   ]
  },
  {
   "cell_type": "code",
   "execution_count": null,
   "metadata": {},
   "outputs": [],
   "source": [
    "def doblar_valor(numero):\n",
    "    return numero * 2\n",
    "\n",
    "n = 10\n",
    "n = doblar_valor(n)\n",
    "print(n)"
   ]
  },
  {
   "cell_type": "markdown",
   "metadata": {},
   "source": [
    "- Y en el caso de los tipos compuestos, podemos evitar la modificación enviando una copia:"
   ]
  },
  {
   "cell_type": "code",
   "execution_count": null,
   "metadata": {},
   "outputs": [],
   "source": [
    "def doblar_valores(numeros):\n",
    "    for i,n in enumerate(numeros):\n",
    "        numeros[i] *= 2\n",
    "\n",
    "ns = [10,50,100]\n",
    "doblar_valores(ns[:])  # Una copia al vuelo de una lista con [:]\n",
    "print(ns)"
   ]
  },
  {
   "cell_type": "code",
   "execution_count": null,
   "metadata": {},
   "outputs": [],
   "source": []
  },
  {
   "cell_type": "markdown",
   "metadata": {},
   "source": [
    "### Documentación / Anotaciones en funciones\n",
    "\n",
    "- Los `docstring`."
   ]
  },
  {
   "cell_type": "code",
   "execution_count": null,
   "metadata": {},
   "outputs": [],
   "source": [
    "def mi_funcion_suma(a, b):\n",
    "    \"\"\"\n",
    "    Descripción de la función. Como debe ser usada,\n",
    "    que parámetros acepta y que devuelve\n",
    "    \"\"\"\n",
    "    return a+b"
   ]
  },
  {
   "cell_type": "markdown",
   "metadata": {},
   "source": [
    "para aceder a la inforación es suficiente con llamar a la función `help()`: `help(mi_funcion_suma)` o como: `print(mi_funcion_suma.__doc__`)."
   ]
  },
  {
   "cell_type": "markdown",
   "metadata": {},
   "source": [
    "* Anotaciones en funciones\n",
    "\n",
    "Existe una funcionalidad relativamente nueva llamada function annotation o anotaciones en funciones. Dicha funcionalidad nos permite añadir metadatos a las funciones, indicando los tipos esperados tanto de entrada como de salida."
   ]
  },
  {
   "cell_type": "code",
   "execution_count": null,
   "metadata": {},
   "outputs": [],
   "source": [
    "def multiplica_por_3(numero: int) -> int:\n",
    "    return numero*3\n",
    "\n",
    "multiplica_por_3(6) # 18"
   ]
  },
  {
   "cell_type": "markdown",
   "metadata": {},
   "source": [
    "Las anotaciones no imponen ningun criterio sobre los entradas. Esto significa que spara el ejemplo anterior se puede llamar a la función con un parámetro que no sea `int`, y no obtendremos ningún error."
   ]
  },
  {
   "cell_type": "markdown",
   "metadata": {},
   "source": [
    "### Variables `globales`\n",
    "\n",
    "Como fue comentado todos los objetos definidos dentro de la función son tratados como `locales` es decir, no afectan el programa principal. Aunque los objetos del programa principal (u otras funciones) si pueden afectar a la función. Recordar estructura de evaluación.\n",
    "\n",
    "En el caso de que se desee que la variable local se trate como global, solo debemos especificarlo con la palabra `global`. Veamos unos ejemplos"
   ]
  },
  {
   "cell_type": "code",
   "execution_count": null,
   "metadata": {},
   "outputs": [],
   "source": [
    "# ¿Qué salida escribirá el siguiente programa?\n",
    "#del a\n",
    "def subrutina():\n",
    "    global a\n",
    "    print(a)\n",
    "    a += 10\n",
    "    return\n",
    "\n",
    "a = 33\n",
    "subrutina()\n",
    "print(a)"
   ]
  },
  {
   "cell_type": "markdown",
   "metadata": {},
   "source": [
    "## Funciones avanzadas. Funciones anónimas\n",
    "Una función anónima, como su nombre indica es una función sin nombre. Es decir, es posible ejecutar una función sin referenciar un nombre, en `Python` puede ejecutar una función sin definirla con `def`. Las funciones anónimas se implementan con las funciones o expresiones `lambda`.\n",
    "\n",
    "Nota: las funciones anónimas `lambda` sirven para realizar funciones simples, las funciones definidas con `def` sirven para manejar tareas más extensas."
   ]
  },
  {
   "cell_type": "code",
   "execution_count": null,
   "metadata": {},
   "outputs": [],
   "source": [
    "# Ejemplo\n",
    "def doblar(numero):\n",
    "    resultado = numero*2\n",
    "    return resultado\n",
    "\n",
    "type(doblar)\n",
    "\n",
    "doblarL = lambda numero: numero*2\n",
    "\n",
    "doblarL(2)"
   ]
  },
  {
   "cell_type": "code",
   "execution_count": null,
   "metadata": {},
   "outputs": [],
   "source": [
    "# que daría\n",
    "lambda numero: numero*2"
   ]
  },
  {
   "cell_type": "markdown",
   "metadata": {},
   "source": [
    "Aunque bien es cierto que las funciones `lambda` tienen muchas limitaciones frente a las funciones `def`, estas comparten varias funcionalidades:\n",
    "\n",
    "- Es posible tener argumentos con valor asignado por defecto."
   ]
  },
  {
   "cell_type": "code",
   "execution_count": null,
   "metadata": {},
   "outputs": [],
   "source": [
    "(lambda a, b, c=3: a + b + c)(1, 2)"
   ]
  },
  {
   "cell_type": "markdown",
   "metadata": {},
   "source": [
    "- Se pueden pasar los parámetros indicando su nombre."
   ]
  },
  {
   "cell_type": "code",
   "execution_count": null,
   "metadata": {},
   "outputs": [],
   "source": [
    "(lambda a, b, c: a + b + c)(a=1, b=2, c=3)"
   ]
  },
  {
   "cell_type": "markdown",
   "metadata": {},
   "source": [
    "- Puede tener un número variable de argumentos haciendo uso de `*`"
   ]
  },
  {
   "cell_type": "code",
   "execution_count": null,
   "metadata": {},
   "outputs": [],
   "source": [
    "(lambda *args: sum(args))(1, 2, 3)"
   ]
  },
  {
   "cell_type": "markdown",
   "metadata": {},
   "source": [
    "- Puede tener entradas de la forma `key=value` como si fuera un diccionario, es decir `**`"
   ]
  },
  {
   "cell_type": "code",
   "execution_count": null,
   "metadata": {},
   "outputs": [],
   "source": [
    "(lambda **kwargs: sum(kwargs.values()))(a=1, b=2, c=3)"
   ]
  },
  {
   "cell_type": "markdown",
   "metadata": {},
   "source": [
    "- Es posible devolver más de un valor"
   ]
  },
  {
   "cell_type": "code",
   "execution_count": 53,
   "metadata": {},
   "outputs": [
    {
     "data": {
      "text/plain": [
       "(9, 3)"
      ]
     },
     "execution_count": 53,
     "metadata": {},
     "output_type": "execute_result"
    }
   ],
   "source": [
    "(lambda a, b: (b, a))(3, 9)"
   ]
  },
  {
   "cell_type": "code",
   "execution_count": null,
   "metadata": {},
   "outputs": [],
   "source": []
  },
  {
   "cell_type": "markdown",
   "metadata": {},
   "source": [
    "## Funciones de orden superior (lenguaje funcional)\n",
    "\n",
    "La programación funcional se basa principalmente en el uso de funciones, en vez de bucles for o while. Aunque `Python` no es un lenguaje puramente funcional, ofrece algunas funciones de orden superior como: `filter` y `map`. Todas ellas ofrecen una alternativa al uso de bucles para resolver ciertos problemas. \n",
    "\n",
    "COMENTARIO: Las funciones de Python pueden tomar funciones como parámetros y devolver funciones como resultado. **Una función que hace ambas cosas o alguna de ellas se llama función de orden superior**."
   ]
  },
  {
   "cell_type": "markdown",
   "metadata": {},
   "source": [
    "- `filter()`\n",
    "\n",
    "La función `filter()` recibe una función y una lista devolviendo como resultado la lista inicial filtrada usando la función de entrada. Es decir, se pasa cada elemento de la lista por la función, y sólo si su resultado es `True`, se incluye en la lista de salida.\n",
    "\n",
    "`filter(funcion_filtrar, entrada_iterable)`\n",
    "\n",
    "Por ejemplo, suponga que tiene una lista varios números y requiere filtrarla, quedando únicamente con los números múltiples de 5, eso seria así:"
   ]
  },
  {
   "cell_type": "code",
   "execution_count": null,
   "metadata": {},
   "outputs": [],
   "source": [
    "# ejemplo\n",
    "lista = [7, 4, 16, 3, 8, 25, 5, 100]\n",
    "pares = filter(lambda x: x % 5 == 0, lista)\n",
    "print(list(pares))\n",
    "\n",
    "# equivalente\n",
    "lista = [7, 4, 16, 3, 8, 25, 5, 100]\n",
    "def es_par(x):\n",
    "    return x % 5 == 0\n",
    "\n",
    "pares = filter(es_par, lista)\n",
    "print(list(pares))"
   ]
  },
  {
   "cell_type": "code",
   "execution_count": null,
   "metadata": {},
   "outputs": [],
   "source": [
    "# otros ejemplos\n",
    "\n",
    "# list of letters\n",
    "letters = ['a', 'b', 'd', 'e', 'i', 'j', 'o']\n",
    "\n",
    "# function that filters vowels\n",
    "def filterVowels(letter):\n",
    "    vowels = ['a', 'e', 'i', 'o', 'u']\n",
    "\n",
    "    if (letter in vowels):\n",
    "        return True\n",
    "    else:\n",
    "        return False\n",
    "\n",
    "filteredVowels = filter(filterVowels, letters)\n",
    "print('The filtered vowels are:', list(filteredVowels))\n",
    "\n",
    "\n",
    "# se busca las palabras q empiecen con vocal\n",
    "creature_names = ['Sammy', 'Ashley', 'Jo', 'Olly', 'Jackie', 'Charlie']\n",
    "print(list(filter(lambda x: x[0].lower() in 'aeiou', creature_names)))\n"
   ]
  },
  {
   "cell_type": "markdown",
   "metadata": {},
   "source": [
    "* `map()`\n",
    "\n",
    "La función `map()` toma una función y una lista y aplica esa función a cada elemento de esa lista, produciendo una nueva lista.\n",
    "\n",
    "`map(funcion_a_aplicar, entrada_iterable)`"
   ]
  },
  {
   "cell_type": "code",
   "execution_count": null,
   "metadata": {},
   "outputs": [],
   "source": [
    "def doblar(numero):\n",
    "    return numero*2\n",
    "\n",
    "numeros = [2, 5, 10, 23, 50, 33]\n",
    "\n",
    "list(map(doblar, numeros))  # notar que no se le da asignaciones a la función\n",
    "\n",
    "# list(map(lambda x: x*2, numeros))  # con una función lambda"
   ]
  },
  {
   "cell_type": "code",
   "execution_count": 58,
   "metadata": {},
   "outputs": [
    {
     "name": "stdout",
     "output_type": "stream",
     "text": [
      "[2, 16, 216, 4096, 100000]\n"
     ]
    }
   ],
   "source": [
    "base_numbers = [2, 4, 6, 8, 10, 12, 14, 16]\n",
    "powers = [1, 2, 3, 4, 5]\n",
    "\n",
    "numbers_powers = list(map(pow, base_numbers, powers))  # como pow recibe dos argumentos, map tiene dos listas\n",
    "# numbers_powers = list(map(lambda x, y : x**y, base_numbers, powers))\n",
    "print(numbers_powers)"
   ]
  },
  {
   "cell_type": "code",
   "execution_count": 59,
   "metadata": {},
   "outputs": [],
   "source": [
    "#?pow"
   ]
  },
  {
   "cell_type": "markdown",
   "metadata": {},
   "source": [
    "## Funciones recursivas\n",
    "Las funciones recursivas son funciones que se llaman a sí mismas durante su propia ejecución. \n",
    "\n",
    "* Función recursiva sin retorno:\n",
    "\n",
    "Un ejemplo de una función recursiva sin retorno, es el ejemplo de cuenta regresiva hasta cero a partir de un número:"
   ]
  },
  {
   "cell_type": "code",
   "execution_count": null,
   "metadata": {},
   "outputs": [],
   "source": [
    "def cuenta_regresiva(numero):\n",
    "        numero -= 1\n",
    "        if numero > 0:\n",
    "            print(numero)\n",
    "            cuenta_regresiva(numero)\n",
    "        else:\n",
    "            print(\"Boooooooom!\")\n",
    "            print(\"Fin de la función\", numero)\n",
    "\n",
    "cuenta_regresiva(5)"
   ]
  },
  {
   "cell_type": "markdown",
   "metadata": {},
   "source": [
    "* Función recursiva con retorno: \n",
    "\n",
    "Un ejemplo de una función recursiva con retorno, es el ejemplo del calculo del factorial de un número corresponde al producto de todos los números desde 1 hasta el propio número."
   ]
  },
  {
   "cell_type": "code",
   "execution_count": 61,
   "metadata": {},
   "outputs": [
    {
     "data": {
      "text/plain": [
       "(120, 120)"
      ]
     },
     "execution_count": 61,
     "metadata": {},
     "output_type": "execute_result"
    }
   ],
   "source": [
    "# tradicional\n",
    "def factorial_tradicional(n):\n",
    "    r = 1\n",
    "    i = 2\n",
    "    while i <= n:\n",
    "        r *= i\n",
    "        i += 1\n",
    "    return r\n",
    "\n",
    "# recursivo\n",
    "def factorial_recursivo(numero):\n",
    "    #print(\"Valor inicial ->\", numero)\n",
    "    if numero > 1:\n",
    "        numero *= factorial_recursivo(numero-1)\n",
    "        #print(\"valor final ->\",numero)\n",
    "    return numero\n",
    "\n",
    "factorial_recursivo(5), factorial_tradicional(5)"
   ]
  },
  {
   "cell_type": "markdown",
   "metadata": {},
   "source": [
    "## Decoradores/Generadores\n",
    "\n",
    "* Decoradores: estos son funciones que modifican el comportamiento de otras. Para ello usan la `@` ante un decorador o decorator."
   ]
  },
  {
   "cell_type": "markdown",
   "metadata": {},
   "source": [
    "Intentemos entender el funcionamiento mediante el siguiente ejemplo: considere que tenemos una función `suma()` que vamos a decorar usando `mi_decorador()`. Para ello, antes de la declaración de la función suma, hacemos uso de `@mi_decorador`."
   ]
  },
  {
   "cell_type": "code",
   "execution_count": 1,
   "metadata": {},
   "outputs": [
    {
     "name": "stdout",
     "output_type": "stream",
     "text": [
      "Se va a llamar\n",
      "Entra en funcion suma\n",
      "Se ha llamado\n"
     ]
    },
    {
     "data": {
      "text/plain": [
       "13"
      ]
     },
     "execution_count": 1,
     "metadata": {},
     "output_type": "execute_result"
    }
   ],
   "source": [
    "def mi_decorador(funcion):\n",
    "    def nueva_funcion(a, b):\n",
    "        print(\"Se va a llamar\")\n",
    "        c = funcion(a, b)\n",
    "        print(\"Se ha llamado\")\n",
    "        return c\n",
    "    return nueva_funcion\n",
    "\n",
    "@mi_decorador\n",
    "def suma(a, b):\n",
    "    print(\"Entra en funcion suma\")\n",
    "    return a + b\n",
    "\n",
    "suma(5,8)"
   ]
  },
  {
   "cell_type": "markdown",
   "metadata": {},
   "source": [
    "Lo que realiza `mi_decorador()` es definir una nueva función que encapsula o envuelve la función que se pasa como entrada. En este caso lo que hace es hace uso de dos `print()`, uno antes y otro después de la llamada la función.\n",
    "\n",
    "Por lo tanto, cualquier función que use `@mi_decorador` tendrá dos print, uno y al principio y otro al final, dando igual lo que realmente haga la función.\n",
    "\n",
    "Veamos otro ejemplo usando el decorador sobre otra función."
   ]
  },
  {
   "cell_type": "code",
   "execution_count": null,
   "metadata": {},
   "outputs": [],
   "source": [
    "@mi_decorador\n",
    "def resta(a ,b):\n",
    "    print(\"Entra en funcion resta\")\n",
    "    return a - b\n",
    "\n",
    "resta(5, 3)"
   ]
  },
  {
   "cell_type": "markdown",
   "metadata": {},
   "source": [
    "En el caso de querer que el decorador reciba un `parámetro` de entrada para modificar su comportamiento. Se puede hacer envolviendo una vez más la función como se muestra en el ejemplo:"
   ]
  },
  {
   "cell_type": "code",
   "execution_count": 2,
   "metadata": {},
   "outputs": [
    {
     "name": "stdout",
     "output_type": "stream",
     "text": [
      "Imprimer esto antes y después\n",
      "Entra en funcion suma\n",
      "Imprimer esto antes y después\n"
     ]
    },
    {
     "data": {
      "text/plain": [
       "13"
      ]
     },
     "execution_count": 2,
     "metadata": {},
     "output_type": "execute_result"
    }
   ],
   "source": [
    "def mi_decorador(arg):  # notar como se envolvió con otra funcion\n",
    "    def decorador_real(funcion):\n",
    "        def nueva_funcion(a, b):\n",
    "            print(arg)\n",
    "            c = funcion(a, b)\n",
    "            print(arg)\n",
    "            return c\n",
    "        return nueva_funcion\n",
    "    return decorador_real\n",
    "\n",
    "@mi_decorador(\"Imprimer esto antes y después\")  # notar como paso el argumento al decorador\n",
    "def suma(a, b):\n",
    "    print(\"Entra en funcion suma\")\n",
    "    return a + b\n",
    "\n",
    "suma(5,8)"
   ]
  },
  {
   "cell_type": "markdown",
   "metadata": {},
   "source": [
    "Veamos ahora otro ejemplo más real (tomado de https://ellibrodepython.com)"
   ]
  },
  {
   "cell_type": "code",
   "execution_count": 6,
   "metadata": {},
   "outputs": [],
   "source": [
    "def log(fichero_log):  # argumento\n",
    "    def decorador_log(func):  # decorador\n",
    "        def decorador_funcion(*args, **kwargs):\n",
    "            with open(fichero_log, 'a') as opened_file:\n",
    "                output = func(*args, **kwargs)\n",
    "                opened_file.write(f\"{output}\\n\")\n",
    "        return decorador_funcion\n",
    "    return decorador_log\n",
    "\n",
    "@log('ficherosalida.txt')\n",
    "def suma(a, b):\n",
    "    return a + b\n",
    "\n",
    "@log('ficherosalida.txt')\n",
    "def resta(a, b):\n",
    "    return a - b\n",
    "\n",
    "@log('ficherosalida.txt')\n",
    "def multiplicadivide(a, b, c):\n",
    "    return a*b/c\n",
    "\n",
    "# ejecutando\n",
    "suma(10, 30)\n",
    "resta(7, 23)\n",
    "multiplicadivide(5, 10, 2)"
   ]
  },
  {
   "cell_type": "markdown",
   "metadata": {},
   "source": [
    "En este ejemplo usamos el decorador de tal forma que nos permita escribir en un fichero los resultados de ciertas operaciones.\n"
   ]
  },
  {
   "cell_type": "code",
   "execution_count": 8,
   "metadata": {},
   "outputs": [
    {
     "name": "stdout",
     "output_type": "stream",
     "text": [
      "Error. El usuario no se ha autenticado\n"
     ]
    }
   ],
   "source": [
    "# otro ejemplo\n",
    "autenticado = False\n",
    "\n",
    "def requiere_autenticación(f):\n",
    "    def funcion_decorada(*args, **kwargs):\n",
    "        if not autenticado:\n",
    "            print(\"Error. El usuario no se ha autenticado\")\n",
    "        else:\n",
    "            return f(*args, **kwargs)\n",
    "    return funcion_decorada\n",
    "\n",
    "@requiere_autenticación\n",
    "def di_hola():\n",
    "    print(\"Hola\")\n",
    "    \n",
    "di_hola()"
   ]
  },
  {
   "cell_type": "markdown",
   "metadata": {},
   "source": [
    "* Generadores (Generator)"
   ]
  },
  {
   "cell_type": "markdown",
   "metadata": {},
   "source": [
    "Como hemos visto, para acceder a la salida de una función en `Python` usamos la sentencia `return`. Sin embargo, esta no es la única forma en que devuelve el resultado, otra forma es mediante el uso de `yield`.\n",
    "\n",
    "Veamos un ejemplo:"
   ]
  },
  {
   "cell_type": "code",
   "execution_count": 12,
   "metadata": {},
   "outputs": [],
   "source": [
    "def funcion():\n",
    "    return 'hola'\n",
    "\n",
    "def generador():\n",
    "    yield 'hola'"
   ]
  },
  {
   "cell_type": "code",
   "execution_count": 13,
   "metadata": {},
   "outputs": [
    {
     "name": "stdout",
     "output_type": "stream",
     "text": [
      "hola\n",
      "<generator object generador at 0x10ed107d0>\n"
     ]
    }
   ],
   "source": [
    "## llamemos a las dos funciones\n",
    "print(funcion())\n",
    "print(generador())"
   ]
  },
  {
   "cell_type": "markdown",
   "metadata": {},
   "source": [
    "Como podemos apreciar, la función con el comando `return` nos devuelve el valor asignado, mientras que la que usa `yield` nos devuelve un objeto de la clase generator. Es decir, si una función usa el comando `yield` se convertirá en un generador. Una función generadora se diferencia de una función normal en que tras ejecutar el `yield`, esta devuelve el control a quién la llamó, pero la función es *pausada* y el estado (valor de las variables) es guardado. Esto permite que su ejecución pueda ser reanudada más adelante y poder acceder a la variable puesto a que codifican los métodos `__iter__()` y `__next__()`. Entonces podemos acceder vía `next()` sobre ellos y dado que son iterables, arrojaría también un `StopIteration` cuando se ha llegado al final."
   ]
  },
  {
   "cell_type": "code",
   "execution_count": 16,
   "metadata": {},
   "outputs": [
    {
     "name": "stdout",
     "output_type": "stream",
     "text": [
      "hola\n"
     ]
    },
    {
     "ename": "StopIteration",
     "evalue": "",
     "output_type": "error",
     "traceback": [
      "\u001b[0;31m---------------------------------------------------------------------------\u001b[0m",
      "\u001b[0;31mStopIteration\u001b[0m                             Traceback (most recent call last)",
      "Cell \u001b[0;32mIn[16], line 4\u001b[0m\n\u001b[1;32m      2\u001b[0m a \u001b[38;5;241m=\u001b[39m generador()\n\u001b[1;32m      3\u001b[0m \u001b[38;5;28mprint\u001b[39m(\u001b[38;5;28mnext\u001b[39m(a))\n\u001b[0;32m----> 4\u001b[0m \u001b[38;5;28mprint\u001b[39m(\u001b[38;5;28mnext\u001b[39m(a))\n",
      "\u001b[0;31mStopIteration\u001b[0m: "
     ]
    }
   ],
   "source": [
    "# Usemos next\n",
    "a = generador()\n",
    "print(next(a))\n",
    "print(next(a))"
   ]
  },
  {
   "cell_type": "markdown",
   "metadata": {},
   "source": [
    "Noten como al usar por segunda vez `next` arrojó la excepción `StopIteration`. Esto se debe a que cada vez que se usa `next()` sobre el generador, se llama y se continúa su ejecución después del último `yield`. Y en este caso solo tenemos un `yield` no se generan más valores."
   ]
  },
  {
   "cell_type": "code",
   "execution_count": 17,
   "metadata": {},
   "outputs": [],
   "source": [
    "def generador():\n",
    "    n = 1\n",
    "    yield n\n",
    "\n",
    "    n += 1\n",
    "    yield n\n",
    "\n",
    "    n += 1\n",
    "    yield n"
   ]
  },
  {
   "cell_type": "code",
   "execution_count": 18,
   "metadata": {},
   "outputs": [
    {
     "name": "stdout",
     "output_type": "stream",
     "text": [
      "1\n",
      "2\n",
      "3\n"
     ]
    }
   ],
   "source": [
    "for i in generador():\n",
    "    print(i)"
   ]
  },
  {
   "cell_type": "markdown",
   "metadata": {},
   "source": [
    "Los **generadores**  también pueden ser creados de manera similar a una **list comprehensions**, pero cambiando el corchete `[]` por paréntesis `()`."
   ]
  },
  {
   "cell_type": "code",
   "execution_count": 21,
   "metadata": {},
   "outputs": [
    {
     "name": "stdout",
     "output_type": "stream",
     "text": [
      "[4, 16, 36, 64, 100]\n",
      "\n",
      "<generator object <genexpr> at 0x10ed75cb0>\n",
      "\n",
      "4\n",
      "16\n",
      "36\n",
      "64\n",
      "100\n"
     ]
    }
   ],
   "source": [
    "lista = [2, 4, 6, 8, 10]\n",
    "al_cuadrado = [x**2 for x in lista]\n",
    "print(al_cuadrado)\n",
    "print()\n",
    "\n",
    "al_cuadrado_generador = (x**2 for x in lista)\n",
    "print(al_cuadrado_generador)\n",
    "\n",
    "print()\n",
    "for i in al_cuadrado_generador:\n",
    "    print(i)"
   ]
  },
  {
   "cell_type": "markdown",
   "metadata": {},
   "source": [
    "La diferencia entre una **list compregensions** y **generators** es que en el caso de los últimos, los valores no están almacenados en memoria, sino que se van generando a medida que se llaman (se ejecuta el códio). \n",
    "\n",
    "Esto último es una de las principales ventajas de los generadores, ya que los elementos sólo son generados cuando se \"piden\", lo que hace que sean mucho más eficientes en lo relativo a la memoria. Veamos un ejemplo: Sumemos los primeros $100$ números naturales ([ver comparativas](https://wiki.python.org/moin/Generators)). Una opción podría ser crear una lista de todos ellos y después sumarla. En este caso, todos los valores son almacenados en memoria, algo que podría ser un problema si la cantidad de número es muy grande, por ejemplo intentamos sumar los primeros $10^{10}$ números."
   ]
  },
  {
   "cell_type": "code",
   "execution_count": 23,
   "metadata": {},
   "outputs": [],
   "source": [
    "import sys"
   ]
  },
  {
   "cell_type": "code",
   "execution_count": 27,
   "metadata": {},
   "outputs": [
    {
     "name": "stdout",
     "output_type": "stream",
     "text": [
      "El tamaño es: 856 bytes\n",
      "4950\n"
     ]
    }
   ],
   "source": [
    "# Usemos una lista\n",
    "def primerosn(n):\n",
    "    nums = list(range(n))\n",
    "    return nums\n",
    "\n",
    "nums = primerosn(100)\n",
    "print('El tamaño es:', sys.getsizeof(nums), 'bytes')  # bytes\n",
    "    \n",
    "print(sum(nums))"
   ]
  },
  {
   "cell_type": "code",
   "execution_count": 32,
   "metadata": {},
   "outputs": [
    {
     "name": "stdout",
     "output_type": "stream",
     "text": [
      "El tamaño es: 28 bytes\n",
      "4950\n"
     ]
    }
   ],
   "source": [
    "# Usemos un generador\n",
    "def primerosn(n):\n",
    "    for i in range(n):\n",
    "        yield i\n",
    "\n",
    "a = primerosn(100)\n",
    "sumNum = 0\n",
    "for i in range(100):\n",
    "    sumNum += next(a)\n",
    "\n",
    "print('El tamaño es:', sys.getsizeof(i), 'bytes')  # bytes\n",
    "print(sumNum)\n",
    "\n",
    "# print(sum(primerosn(100)))  # método rápido"
   ]
  },
  {
   "cell_type": "markdown",
   "metadata": {},
   "source": [
    "COMENTARIO FINAL: en ocasiones para ahorra memoria, podemos usar los diccionarios como cache, lo cual nos ahorra memoria."
   ]
  },
  {
   "cell_type": "code",
   "execution_count": null,
   "metadata": {},
   "outputs": [],
   "source": []
  }
 ],
 "metadata": {
  "kernelspec": {
   "display_name": "base",
   "language": "python",
   "name": "python3"
  },
  "language_info": {
   "codemirror_mode": {
    "name": "ipython",
    "version": 3
   },
   "file_extension": ".py",
   "mimetype": "text/x-python",
   "name": "python",
   "nbconvert_exporter": "python",
   "pygments_lexer": "ipython3",
   "version": "3.11.4"
  }
 },
 "nbformat": 4,
 "nbformat_minor": 2
}

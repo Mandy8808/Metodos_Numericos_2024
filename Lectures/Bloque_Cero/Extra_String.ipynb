{
 "cells": [
  {
   "cell_type": "code",
   "execution_count": null,
   "metadata": {},
   "outputs": [],
   "source": []
  },
  {
   "cell_type": "markdown",
   "metadata": {},
   "source": [
    "# Información extra sobre los objetos string"
   ]
  },
  {
   "cell_type": "markdown",
   "metadata": {},
   "source": [
    "# Métodos principales del Objeto String\n",
    "\n",
    "En Python, cualquier variable cuyo valor sea de tipo string, podrá ser tratada como un subtipo del\n",
    "objeto string, el cuál dispone de métodos que son heredados por dicho subtipo.\n",
    "\n",
    "A continuación, veremos los métodos más frecuentes del objeto string.\n",
    "\n",
    "## Métodos de formato\n",
    "\n",
    "- Convertir a mayúscula la primera letra. Método: `capitalize()`. Retorna: una copia de la cadena con la primera letra en mayúsculas.\n",
    "- Convertir una cadena a minúsculas. Método: `lower()`. Retorna: una copia de la cadena en minúsculas.\n",
    "- Convertir una cadena a mayúsculas. Método: `upper()`. Retorna: una copia de la cadena en mayúsculas.\n",
    "- Convertir mayúsculas a minúsculas y viceversa. Método: `swapcase()`. Retorna: una copia de la cadena convertidas las mayúsculas en minúsculas y viceversa.\n",
    "- Convertir una cadena en Formato Título. Método: `title()`. Retorna: una copia de la cadena convertida.\n",
    "- Centrar un texto. Método: `center(longitud[, “caracter de relleno”])`. Retorna: una copia de la cadena centradRetorna: una copia de la cadena centrada.\n",
    "- Alinear texto a la izquierda. Método: `ljust(longitud[, “caracter de relleno”]`. Retorna: una copia de la cadena alineada a la izquierda.\n",
    "- Alinear texto a la derecha. Método: `rjust(longitud[, “caracter de relleno”]`. Retorna: una copia de la cadena alineada a la derecha.\n",
    "- Rellenar un texto anteponiendo ceros. Método: `zfill(longitud`). Retorna: una copia de la cadena rellena con ceros a la izquierda hasta alcanzar la longitud final indicada."
   ]
  },
  {
   "cell_type": "code",
   "execution_count": null,
   "metadata": {},
   "outputs": [],
   "source": [
    "cadena_1 = \"bienvenido a mi aplicación\"\n",
    "print(cadena_1.capitalize())\n",
    "\n",
    "print('')\n",
    "cadena = \"Hola Mundo\"\n",
    "\n",
    "print(cadena.lower())\n",
    "\n",
    "print('')\n",
    "print(cadena.upper())\n",
    "\n",
    "print('')\n",
    "print(cadena.swapcase())\n",
    "\n",
    "print('')\n",
    "print(cadena_1.title())\n",
    "\n",
    "print('')\n",
    "print(cadena_1.center(50, \"-\"))  # longitud 50 y relleno es >, si queremos vacio se pone ''\n",
    "\n",
    "print('')\n",
    "print (cadena.ljust(50, \"=\"))\n",
    "\n",
    "print('')\n",
    "print(cadena.rjust(50, \" \"))\n",
    "\n",
    "print('')\n",
    "numero_factura = 1575\n",
    "print(str(numero_factura).zfill(12))"
   ]
  },
  {
   "cell_type": "markdown",
   "metadata": {},
   "source": [
    "## Métodos de Búsqueda\n",
    "\n",
    "- Contar cantidad de apariciones de una subcadena. Método: `count(“subcadena”[, posicion_inicio, posicion_fin]`. Retorna: un entero representando la cantidad de apariciones cadena.\n",
    "- Buscar una subcadena dentro de una cadena. Método: `find(“subcadena”[, posicion_inicio, posicion_fin]`. Retorna: un entero representando la posición donde inicia cadena. Si no la encuentra, retorna -1"
   ]
  },
  {
   "cell_type": "code",
   "execution_count": null,
   "metadata": {},
   "outputs": [],
   "source": [
    "cadena = \"bienvenido a mi aplicación\".capitalize()\n",
    "\n",
    "print(cadena.count(\"e\"))\n",
    "print('')\n",
    "\n",
    "print(cadena.find(\"mi\"))  # devolvió la posición donde empieza\n",
    "print(cadena.find(\"mi\", 0, 10))  # devuelve -1 pq no está en el rango 0-10 la subcadena 'mi'"
   ]
  },
  {
   "cell_type": "markdown",
   "metadata": {},
   "source": [
    "## Métodos de Validación\n",
    "\n",
    "- Saber si una cadena comienza con una subcadena determinada. Método: `startswith(“subcadena”[, posicion_inicio, posicion_fin]`. Retorna: True o False.\n",
    "- Saber si una cadena finaliza con una subcadena determinada. `Método: endswith(“subcadena”[, posicion_inicio, posicion_fin]`. Retorna: True o False.\n",
    "- Saber si una cadena es alfanumérica (no incluye espacios). Método: `isalnum()`. Retorna: True o False.\n",
    "- Saber si una cadena es alfabética. Método: `isalpha()`. Retorna: True o False.\n",
    "- Saber si una cadena contiene solo minúsculas. Método: `islower()`. Retorna: True o False\n",
    "- Saber si una cadena es numérica. Método: `isdigit()`. Retorna: True o False.\n",
    "- Saber si una cadena contiene solo mayúsculas. Método: `isupper()`. Retorna: True o FalsRetorna: True o False.\n",
    "- Saber si una cadena contiene solo espacios en blanco. Método: `isspace()`. Retorna: True o False.\n",
    "- Saber si una cadena tiene Formato De Título. Método: `istitle()`. Retorna: True o False.\n"
   ]
  },
  {
   "cell_type": "code",
   "execution_count": null,
   "metadata": {},
   "outputs": [],
   "source": [
    "cadena = \"bienvenido a mi aplicación\".capitalize()\n",
    "print(cadena.startswith(\"Bienvenido\"))\n",
    "print(cadena.startswith(\"aplicación\"))\n",
    "print(cadena.startswith(\"aplicación\", 16))  # notar que se indica que el ''inicio'' será en la posición 16\n",
    "\n",
    "print('')\n",
    "\n",
    "print(cadena.endswith(\"aplicación\"))\n",
    "print(cadena.endswith(\"Bienvenido\"))\n",
    "print(cadena.endswith(\"Bienvenido\", 0, 10))  # notar que el incio del 'final' empieza en 0"
   ]
  },
  {
   "cell_type": "code",
   "execution_count": null,
   "metadata": {},
   "outputs": [],
   "source": [
    "cadena = \"pepegrillo 75\"\n",
    "cadena2 = \"Pepegrillo\"\n",
    "cadena3 = \"pepegrillo75\"\n",
    "\n",
    "print(cadena.isalnum())  # notar que retorna falso pq hay un espacio\n",
    "print(cadena2.isalnum())\n",
    "print(cadena3.isalnum())\n",
    "\n",
    "print('')\n",
    "\n",
    "print(cadena.isalpha())\n",
    "print(cadena2.isalpha())  # notar que es verdadero pq solo tiene letras\n",
    "print(cadena3.isalpha())\n",
    "\n",
    "print('')\n",
    "\n",
    "print(cadena.islower())  # notar que no importan los espacios\n",
    "print(cadena2.islower()) \n",
    "print(cadena3.islower())  # notar que no importan los números"
   ]
  },
  {
   "cell_type": "code",
   "execution_count": null,
   "metadata": {},
   "outputs": [],
   "source": [
    "cadena = \"7584\"\n",
    "cadena2 = \"75 84\"\n",
    "cadena3 = \"75.84\"\n",
    "\n",
    "print(cadena.isdigit())\n",
    "print(cadena2.isdigit())  # notar que devuelve False pq tiene espacio\n",
    "print(cadena3.isdigit())  # notar que devuelve False pq tiene punto decimal"
   ]
  },
  {
   "cell_type": "markdown",
   "metadata": {},
   "source": [
    "### Métodos de Edición\n",
    "\n",
    "- Reemplazar texto en una cadena. Método: `replace(“subcadena a buscar”, “subcadena por la cual reemplazar”)`. Retorna: la cadena reemplazada.\n",
    "- Eliminar caracteres a la izquierda y derecha de una cadena. Método: `strip([“caracter”]`. Retorna: la cadena sustituida.\n",
    "- Eliminar caracteres a la izquierda de una cadena. Método: `lstrip([“caracter”]`. Retorna: la cadena sustituida.\n",
    "- Eliminar caracteres a la derecha de una cadena. Método: `rstrip([“caracter”])`. Retorna: la cadena sustituida."
   ]
  },
  {
   "cell_type": "code",
   "execution_count": null,
   "metadata": {},
   "outputs": [],
   "source": [
    "buscar = \"nombre apellido\"\n",
    "reemplazar_por = \"Juan Pérez\"\n",
    "\n",
    "sal = \"Estimado Sr. nombre apellido:\".replace(buscar, reemplazar_por)\n",
    "print(sal)"
   ]
  },
  {
   "cell_type": "code",
   "execution_count": null,
   "metadata": {},
   "outputs": [],
   "source": [
    "cadena = \"awww.eugeniabahit.coma\"\n",
    "\n",
    "print(cadena.strip('a'))  # elimina la 'a' en ambos extremos\n",
    "print('')\n",
    "print(cadena.strip('wam'))  # elimina todas las a y w en los extremos"
   ]
  },
  {
   "cell_type": "code",
   "execution_count": null,
   "metadata": {},
   "outputs": [],
   "source": [
    "cadena = \"mwww.eugeniabahit.com\"\n",
    "print(cadena.lstrip(\"mw.\" ))\n",
    "\n",
    "cadena = \" www.eugeniabahit.com\"  \n",
    "print(cadena.lstrip())  # notar que se elimina el espacio en blanco"
   ]
  },
  {
   "cell_type": "markdown",
   "metadata": {},
   "source": [
    "## Métodos de unión y división\n",
    "\n",
    "- Unir una cadena de forma iterativa. Método: `join(iterable)`. Retorna: la cadena unida con el iterable (la cadena es separada por cada uno de los elementos del iterable).\n",
    "- Partir una cadena en tres partes, utilizando un separador. Método: `partition(“separador”)`. Retorna: una `tupla` de tres elementos donde el primero es el contenido de la cadena previo al separador, el segundo, el separador mismo y el tercero, el contenido de la cadena posterior al separador.\n",
    "-  Partir una cadena en varias partes, utilizando un separador. Método: `split(“separador”)`. Retorna: una `lista` con todos elementos encontrados al dividir la cadena por un separador.\n",
    "- Partir una cadena en líneas. Método: `splitlines()`. Retorna: una `lista` donde cada elemento es una fracción de la cadena divida en líneas."
   ]
  },
  {
   "cell_type": "code",
   "execution_count": null,
   "metadata": {},
   "outputs": [],
   "source": [
    "formato_numero_factura = ('Nº 0000-0', '-0000 (ID: ', ')')  # notar donde están las comillas\n",
    "\n",
    "numero = \"275\"\n",
    "\n",
    "numero_factura = numero.join(formato_numero_factura) \n",
    "\n",
    "print(numero_factura)  # notar que lo que hace es poner luego de cada , la asignación de numero"
   ]
  },
  {
   "cell_type": "code",
   "execution_count": null,
   "metadata": {},
   "outputs": [],
   "source": [
    "myTuple = (\"John\", \"Peter\", \"Vicky\")\n",
    "\n",
    "x = \"#\".join(myTuple)\n",
    "\n",
    "print(x)\n",
    "\n",
    "print('')\n",
    "myTuple = [\"John\", \"Peter\", \"Vicky\"]\n",
    "\n",
    "x = \"+\".join(myTuple)\n",
    "print(x)\n",
    "\n",
    "print('')\n",
    "myDict = {\"name\": \"John\", \"country\": \"Norway\"}\n",
    "mySeparator = \"TEST\"\n",
    "\n",
    "x = mySeparator.join(myDict)\n",
    "print(x)"
   ]
  },
  {
   "cell_type": "code",
   "execution_count": null,
   "metadata": {},
   "outputs": [],
   "source": [
    "tupla = \"http://www.eugeniabahit.com\".partition(\"www.\")  # notar que el separador es 'www.'\n",
    "print(tupla)\n",
    "\n",
    "print('')\n",
    "protocolo, separador, dominio = tupla\n",
    "print(\"Protocolo: {0} \\n Dominio: {1}\".format(protocolo, dominio))  # imprimiendo por separado"
   ]
  },
  {
   "cell_type": "code",
   "execution_count": null,
   "metadata": {},
   "outputs": [],
   "source": [
    "keywords = \"python guia curso tutorial\".split(' ')  # notar que el separador lo defino como \"\" (espacios en blanco)\n",
    "print(keywords)"
   ]
  },
  {
   "cell_type": "code",
   "execution_count": null,
   "metadata": {},
   "outputs": [],
   "source": [
    "texto = \"hola mundo \\n Linea 2\\n Linea 3\"\n",
    "a = texto.splitlines()\n",
    "\n",
    "print(texto)\n",
    "\n",
    "print('')\n",
    "\n",
    "print(a)\n",
    "print(a[2])"
   ]
  },
  {
   "cell_type": "code",
   "execution_count": null,
   "metadata": {},
   "outputs": [],
   "source": [
    "entrada_0 = input('escriba la frase')\n",
    "entrada = entrada_0.lower()\n",
    "keywords = entrada.split(' ')  # notar que el separador lo defino como \"\" (espacios en blanco)\n",
    "\n",
    "temp = ''\n",
    "for i in keywords:\n",
    "    temp += i\n",
    "    \n",
    "print(temp)"
   ]
  },
  {
   "cell_type": "markdown",
   "metadata": {},
   "source": [
    "## Tarea cadena de caracteres (se entrega como script, es decir .py)\n",
    "\n",
    "- Ejercicio 1: Imprimir cada carácter de una cadena introducida por teclado.\n",
    "- Ejercicio 2: Realizar un programa que comprueba si una cadena leída por teclado comienza por una subcadena introducida por teclado.\n",
    "- Ejercicio 3: Pide una cadena y un carácter por teclado (valida que sea un carácter) y muestra cuantas veces aparece el carácter en la cadena.\n",
    "- Ejercicio 4: Suponiendo que hemos introducido una cadena por teclado que representa una frase (palabras separadas por espacios), realiza un programa que cuente cuantas palabras tiene.\n",
    "- Ejercicio 5: Si tenemos una cadena con un nombre y apellidos, realizar un programa que muestre las iniciales en mayúsculas.\n",
    "- Ejercicio 6: Realizar un programa que dada una cadena, genere otra cadena resultado de invertir la primera.\n",
    "- Ejercicio 7: Pide una cadena y dos caracteres por teclado (valida que sea un carácter), sustituye la aparición del primer carácter en la cadena por el segundo carácter.\n",
    "- Ejercicio 8: Realizar un programa que lea una cadena por teclado y convierta las mayúsculas a minúsculas y viceversa.\n",
    "- Ejercicio 9: Realizar un programa que compruebe si una cadena contiene una subcadena. Las dos cadenas se introducen por teclado.\n",
    "- Ejercicio 10: Introducir una cadena de caracteres e indicar si es un palíndromo. Una palabra palíndroma es aquella que se lee igual adelante que atrás.\n",
    "\n",
    "`Tips`: Aunque no lo hemos visto aún han de usarse los comandos `input`, ciclos `for` y secuencias lógicas `if`."
   ]
  }
 ],
 "metadata": {
  "language_info": {
   "name": "python"
  }
 },
 "nbformat": 4,
 "nbformat_minor": 2
}

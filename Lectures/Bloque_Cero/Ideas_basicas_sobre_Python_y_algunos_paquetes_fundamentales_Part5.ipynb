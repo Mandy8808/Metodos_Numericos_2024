{
 "cells": [
  {
   "cell_type": "code",
   "execution_count": null,
   "metadata": {},
   "outputs": [],
   "source": [
    "%load_ext autoreload\n",
    "%autoreload 2"
   ]
  },
  {
   "cell_type": "markdown",
   "metadata": {},
   "source": [
    "# `Bloque Cero`\n",
    "\n",
    "## Tema: Ideas básicas sobre Python y algunos paquetes fundamentales (part4)\n",
    "\n",
    "**Tópicos**\n",
    "- Módulos, paquetes y namespaces\n",
    "- [Numpy](https://numpy.org)"
   ]
  },
  {
   "cell_type": "markdown",
   "metadata": {},
   "source": [
    "## Módulos, paquetes y namespaces\n",
    "\n",
    "\n",
    "### Creando módulos y paquetes\n",
    "\n",
    "En Python, cada uno de nuestros archivos `.py` se denominan módulos (*modules*) y cada uno de ellos puede contener variables, funciones o clases. La ventaja de los módulos es que nos permite organizar mejor nuestros códigos."
   ]
  },
  {
   "cell_type": "markdown",
   "metadata": {},
   "source": [
    "Ahoro, varios módulos pueden formar parte de paquetes. Un paquete, **es una carpeta que contiene\n",
    "archivos `.py`**. Pero, para que una carpeta pueda ser considerada un paquete, debe\n",
    "contener un archivo de inicio llamado `__init__.py`. Este archivo, no necesita contener\n",
    "ninguna instrucción. De hecho, puede estar completamente vacío, solo le indica a `Python`cuando recorra este directorio que existe una jerarquía de módulos y no es una simple carpeta."
   ]
  },
  {
   "cell_type": "raw",
   "metadata": {},
   "source": [
    "└── paquete\n",
    "    ├── __init__.py\n",
    "    ├── modulo1.py\n",
    "    ├── modulo2.py\n",
    "    └── modulo3.py"
   ]
  },
  {
   "cell_type": "markdown",
   "metadata": {},
   "source": [
    "Los paquetes, a la vez, también pueden contener otros sub-paquetes:"
   ]
  },
  {
   "cell_type": "raw",
   "metadata": {},
   "source": [
    "└── paquete\n",
    "    ├── __init__.py\n",
    "    ├── modulo1.py\n",
    "    └── subpaquete\n",
    "        ├── __init__.py\n",
    "        ├── modulo1.py\n",
    "        └── modulo2.py"
   ]
  },
  {
   "cell_type": "markdown",
   "metadata": {},
   "source": [
    "¿Qué pongo en `__init__.py`?\n",
    "\n",
    "Como se señaló no es necesario poner nada, sin embargo es muy común usarlo para realizar configuraciones e importar cualquier objeto necesario de nuestra librería.\n",
    "\n",
    "Por ejemplo, creemos un paquete con la siguiente estructura"
   ]
  },
  {
   "cell_type": "raw",
   "metadata": {},
   "source": [
    "└── matematicas\n",
    "    ├── __init__.py\n",
    "    ├── presentacion.py\n",
    "    └── suma_resta\n",
    "        ├── __init__.py\n",
    "        ├── suma.py\n",
    "        └── resta.py\n",
    "    └── multiplicacion_division\n",
    "        ├── __init__.py\n",
    "        ├── multiplicacion.py\n",
    "        └── division.py"
   ]
  },
  {
   "cell_type": "markdown",
   "metadata": {},
   "source": [
    "podemos utilizar `__init__.py` para que las funciones, clases, etc. deseadas estén disponible al nivel de paquete llamándolos (`importandolos`) en este archivo, por ejemplo, si ponemos en el `__init__.py` principal\n",
    "\n",
    "- `from .presentacion import hola`\n",
    "\n",
    "ya no tendríamos que llamarlo en el código como:\n",
    "\n",
    "- `from matematicas.presentacion import hola`\n",
    "\n",
    "sinó solo usaríamos:\n",
    "- `from matematicas import hola`"
   ]
  },
  {
   "cell_type": "code",
   "execution_count": 1,
   "metadata": {},
   "outputs": [
    {
     "name": "stdout",
     "output_type": "stream",
     "text": [
      "Hola mundo\n"
     ]
    }
   ],
   "source": [
    "from matematicas import hola\n",
    "\n",
    "hola()"
   ]
  },
  {
   "cell_type": "markdown",
   "metadata": {},
   "source": [
    "En nuestro paquete intencionalmente dejamos vacio el `__init__.py` del subpaquete multiplicacion_division. Veamos que ahora no aplica lo anterior"
   ]
  },
  {
   "cell_type": "code",
   "execution_count": 5,
   "metadata": {},
   "outputs": [
    {
     "data": {
      "text/plain": [
       "6"
      ]
     },
     "execution_count": 5,
     "metadata": {},
     "output_type": "execute_result"
    }
   ],
   "source": [
    "#from matematicas.multiplicacion_division import multiplicacion\n",
    "from matematicas.multiplicacion_division.multiplicacionF import multiplicacion\n",
    "\n",
    "multiplicacion(2, 1, 3)"
   ]
  },
  {
   "cell_type": "markdown",
   "metadata": {},
   "source": [
    "Otro argumento que se suele usar en `__init__.py` es la variable `__all__` la cual contiene la lista de objetos que serán importados al utilizar `import *`. Por ejemplo en el `__init__.py` principal solo se puse que se cargara la función `hola`. Vean que ocurre"
   ]
  },
  {
   "cell_type": "code",
   "execution_count": 1,
   "metadata": {},
   "outputs": [
    {
     "name": "stdout",
     "output_type": "stream",
     "text": [
      "Hola mundo\n"
     ]
    }
   ],
   "source": [
    "from matematicas import *\n",
    "# adios()\n",
    "hola()"
   ]
  },
  {
   "cell_type": "markdown",
   "metadata": {},
   "source": [
    "IMPORTANTE: el exigencia de que aparezca `__init__.py` dentro de cada folder para que pueda considerarse un paquete puede ser omitida en `Python 3`. Para esta versión si tenemos esta estructura"
   ]
  },
  {
   "cell_type": "raw",
   "metadata": {},
   "source": [
    "└── paquete\n",
    "    ├── modulo1.py\n",
    "    ├── modulo2.py\n",
    "    └── modulo3.py"
   ]
  },
  {
   "cell_type": "markdown",
   "metadata": {},
   "source": [
    "Notar que no existe el archivo `__init__.py`. Sin embargo, siempre y cuando la carpeta paquete forme parte del PYTHONPATH (o sea, que python puede importarla), `ninguno de los siguientes import dará error bajo Python 3` (aunque sí lo darían en `Python 2` por no exisstir `__init__.py` en la carpeta paquete).\n",
    "\n",
    "- `import paquete.modulo1` permitirá dentro del código hacer uso de cualquier símbolo definido en **paquete/modulo1.py**.\n",
    "- `from paquete import modulo1` es análogo al anterior.\n",
    "- `import paquete` no dará error, pero no sirve de nada ya que este lo que haría es ejecutar `paquete/__init__.py` pero en este caso no existe. Daría un error si intentará dentro del programa acceder a por ejemplo `paquete/modulo1.py` pq no lo he cargado.\n",
    "\n",
    "Ahora bien, si añadiéramos un `__init__.py`, entonces `import paquete` se ejecutaría y cargaría las ordenes dadas en `__init__.py`. Si este estuviera vacio pasaría lo mismo que como sino estuviera."
   ]
  },
  {
   "cell_type": "code",
   "execution_count": 1,
   "metadata": {},
   "outputs": [
    {
     "name": "stdout",
     "output_type": "stream",
     "text": [
      "Hola mundo\n"
     ]
    }
   ],
   "source": [
    "# mover __init__.py principal para fuera y hacer test\n",
    "# from matematicas import presentacion as pr\n",
    "from matematicas.presentacion import hola\n",
    "\n",
    "hola()"
   ]
  },
  {
   "cell_type": "markdown",
   "metadata": {},
   "source": [
    "ULTIMOS COMENTARIOS:\n",
    "\n",
    "¿Qué pasa si no tenemos nuestro paquete en el directorio raiz?\n",
    "\n",
    "Podemos hacerlo creando un `distribuible` de nuestro paquete e instalando dentro de `Python`.\n",
    "\n",
    "Veamos como: Suponga la estructura"
   ]
  },
  {
   "cell_type": "raw",
   "metadata": {},
   "source": [
    "└── matematicas\n",
    "    ├── __init__.py\n",
    "    ├── presentacion.py\n",
    "    └── suma_resta\n",
    "        ├── __init__.py\n",
    "        ├── suma.py\n",
    "        └── resta.py\n",
    "    └── multiplicacion_division\n",
    "        ├── __init__.py\n",
    "        ├── multiplicacion.py\n",
    "        └── division.py"
   ]
  },
  {
   "cell_type": "markdown",
   "metadata": {},
   "source": [
    "Ahora creamos un fichero `setup.py` fuera de la raíz, indicando la estructura y ciertos datos. Por ejemplo"
   ]
  },
  {
   "cell_type": "raw",
   "metadata": {},
   "source": [
    "from setuptools import setup\n",
    "\n",
    "setup(\n",
    "    name = \"paqMatematica\",\n",
    "    version = \"0.1\",\n",
    "    description = \"Esto es un ejemplo\",\n",
    "    author = \"Armando A.\",\n",
    "    author_email = \"arestrada@fisica.ugto.mx\",\n",
    "    url = \"\",\n",
    "    install_requires = [], # añade cualquier paquete adicional que debe ser\n",
    "                         # instalado una vez que se instale el paquete\n",
    "    keywords = ['python', 'primer paquete'],\n",
    "    packages = ['matematicas', 'matematicas.suma_resta', 'matematicas.multiplicacion_division'],  # estructura\n",
    "    scripts = []\n",
    ")"
   ]
  },
  {
   "cell_type": "markdown",
   "metadata": {},
   "source": [
    "A continuación solo se debe compilar el script como:\n",
    "\n",
    "`python setup.py sdist`\n",
    "\n",
    "lo que creará una nueva carpeta llamada `dist`, y en ella estará un fichero comprimido. Este fichero es nuestro distribuible que nos permitirá instalar o compartir el paquete.\n",
    "\n",
    "Para instalar un paquete en `Python` podemos hacerlo usando `pip`\n",
    "\n",
    "`pip install paquete-0.1.zip`\n",
    "\n",
    "Para usarlo sería llamar al directorio principal, ejemplo: `import matematicas.presentacion as mp`\n",
    "\n",
    "Para desintalarlo se usa:\n",
    "\n",
    "`pip uninstall paquete`"
   ]
  },
  {
   "cell_type": "markdown",
   "metadata": {},
   "source": [
    "### Importando módulos enteros\n",
    "\n",
    "El contenido de cada módulo, podrá ser utilizado a la vez, por otros módulos. Para ello, es\n",
    "necesario importar los módulos que se quieran utilizar. Para importar un módulo, se\n",
    "utiliza la instrucción `import`, seguida del nombre del paquete (si aplica) más **el nombre\n",
    "del módulo (sin el .py) que se desee importar**\n",
    "\n",
    "Ejemplo"
   ]
  },
  {
   "cell_type": "raw",
   "metadata": {},
   "source": [
    "# -*- coding: utf-8 *-*\n",
    "\n",
    "import modulo # importar un módulo que no pertenece a un paquete\n",
    "import paquete.modulo1 # importar un módulo que está dentro de un paquete\n",
    "import paquete.subpaquete.modulo1"
   ]
  },
  {
   "cell_type": "markdown",
   "metadata": {},
   "source": [
    "Python tiene sus propios módulos, los cuales forman parte de su librería de módulos estándar, que también pueden ser importados. Los veremos más adelante.\n",
    "\n",
    "### Alias\n",
    "\n",
    "Es posible también, abreviar los namespaces mediante un **alias**. Para ello, durante la\n",
    "importación, se asigna la palabra clave as seguida del alias con el cuál nos referiremos\n",
    "en el futuro a ese namespace importado.\n",
    "\n",
    "Ejemplo:"
   ]
  },
  {
   "cell_type": "raw",
   "metadata": {},
   "source": [
    "import modulo as m\n",
    "import paquete.modulo1 as pm\n",
    "import paquete.subpaquete.modulo1 as psm"
   ]
  },
  {
   "cell_type": "markdown",
   "metadata": {},
   "source": [
    "IMPORTANTE\n",
    "\n",
    "Luego, para acceder a cualquier elemento de los módulos importados, el namespace\n",
    "utilizado será el alias indicado durante la importación. \n",
    "\n",
    "Ejemplo:"
   ]
  },
  {
   "cell_type": "code",
   "execution_count": null,
   "metadata": {},
   "outputs": [],
   "source": [
    "#import numpy\n",
    "import numpy as np\n",
    "\n",
    "#numpy.sqrt(5)\n",
    "np.sqrt(5)  # notar el np delante para indicar el módulo"
   ]
  },
  {
   "cell_type": "markdown",
   "metadata": {},
   "source": [
    "### Importar módulos particulares\n",
    "\n",
    "En Python, es posible también, importar de un módulo **solo** los elementos que se desee\n",
    "utilizar. Para ello se utiliza la instrucción `from` seguida del namespace, más la instrucción\n",
    "`import` seguida del elemento que se desee importar:"
   ]
  },
  {
   "cell_type": "raw",
   "metadata": {},
   "source": [
    "from paquete.modulo1 import CONSTANTE_1 # un paquete del módulo\n",
    "\n",
    "from paquete.modulo1 import CONSTANTE_1, CONSTANTE_2 # más de un paquete del módulo, en este caso 2"
   ]
  },
  {
   "cell_type": "code",
   "execution_count": null,
   "metadata": {},
   "outputs": [],
   "source": [
    "# ejemplo 1\n",
    "from scipy.interpolate import interp1d, Rbf, InterpolatedUnivariateSpline"
   ]
  },
  {
   "cell_type": "code",
   "execution_count": null,
   "metadata": {},
   "outputs": [],
   "source": [
    "# ejemplo 2\n",
    "from numpy import sqrt as sq"
   ]
  },
  {
   "cell_type": "code",
   "execution_count": null,
   "metadata": {},
   "outputs": [],
   "source": [
    "sq(5)"
   ]
  },
  {
   "cell_type": "markdown",
   "metadata": {},
   "source": [
    "De forma alternativa (**pero muy poco recomendada**), es importar todos los elementos de un módulo definidos en `__all__`, **sin utilizar su namespace pero tampoco alias**. Es decir, que todos los elementos importados **se accederá con su nombre original**:"
   ]
  },
  {
   "cell_type": "code",
   "execution_count": null,
   "metadata": {},
   "outputs": [],
   "source": [
    "# ejemplo\n",
    "\n",
    "from numpy import *\n",
    "\n",
    "sqrt(5), sin(4)"
   ]
  },
  {
   "cell_type": "markdown",
   "metadata": {},
   "source": [
    "El detalle de hacerlo así, es que si se importan dos paquetes que tengan un módulo con el mismo nombre el último que se importe será el que se usará.\n",
    "\n",
    "Ejemplo:"
   ]
  },
  {
   "cell_type": "code",
   "execution_count": null,
   "metadata": {},
   "outputs": [],
   "source": [
    "from math import *\n",
    "from numpy import *"
   ]
  },
  {
   "cell_type": "code",
   "execution_count": null,
   "metadata": {},
   "outputs": [],
   "source": [
    "# verifiquen \n",
    "sqrt(5)"
   ]
  },
  {
   "cell_type": "code",
   "execution_count": null,
   "metadata": {},
   "outputs": [],
   "source": [
    "# lo cool de numpy\n",
    "a = [1, 2, 3]\n",
    "\n",
    "sqrt(a)"
   ]
  },
  {
   "cell_type": "markdown",
   "metadata": {},
   "source": [
    "PEP 8: Importación\n",
    "\n",
    "- La importación de módulos debe realizarse al comienzo del documento, en orden alfabético de paquetes y módulos.\n",
    "- Primero deben importarse los módulos propios de Python.\n",
    "- Luego, los módulos de terceros y finalmente, los módulos propios de la aplicación.\n",
    "- Entre cada bloque de imports, debe dejarse una línea en blanco"
   ]
  },
  {
   "cell_type": "markdown",
   "metadata": {},
   "source": [
    "# Trabajo científico en Python\n",
    "\n",
    "El análisis de datos básico en Python se realiza utilizando cuatro bibliotecas que se complementan perfectamente entre ellas:\n",
    "- Numpy: Para manejar arrays.\n",
    "- scipy: Para el trabajo científico\n",
    "- Pandas: Para manejar dataframes.\n",
    "- Matplotlib: Para generar gráficos.\n",
    "\n",
    "Todas estas bibliotecas son externas a Python por lo que tenemos que instalarlas para poder utilizarlas, esa será nuestra primera tarea.\n",
    "\n",
    "Recuerden que para instalar, debido a que usamos el entorno conda debemos usar:\n",
    "\n",
    "- conda install -c anaconda numpy \n",
    "- conda install -c anaconda scipy\n",
    "- conda install -c anaconda pandas\n",
    "- conda install -c conda-forge matplotlib\n",
    "\n",
    "**Importante** Muchos de estos paquetes ya están instalados en Anaconda por defecto, solo se necesitarían actualizar en caso de no haberse actualizado **conda** en su instalación\n",
    "\n",
    "**Importante** Para el caso que no se instaló Anaconda como gestor de paquete debe usarse `Pipenv` para instalarlo en su entorno virtual.\n",
    "\n",
    "Cálculo numérico con Numpy\n",
    "==========================\n",
    "\n",
    "Aunque Python tiene varios tipos de datos estructurados, en la práctica no son nada adecuados para cálculo numérico. Veamos un ejemplo de un cálculo numérico básico empleando listas:"
   ]
  },
  {
   "cell_type": "code",
   "execution_count": null,
   "metadata": {},
   "outputs": [],
   "source": [
    "lista = list(range(5))  # Lista de numeros de 0 a 4\n",
    "print(lista)\n",
    "\n",
    "print()\n",
    "print(lista*3)\n",
    "\n",
    "print()\n",
    "\n",
    "print(lista*2.5)"
   ]
  },
  {
   "cell_type": "markdown",
   "metadata": {},
   "source": [
    "En el ejemplo anterior vemos cómo al multiplicar una lista por un número entero, el resultado es concatenar la lista original tantas veces como indica el número, en lugar de multiplicar cada uno de sus elementos por este número, que es lo a veces cabría esperar. Es más, al multiplicarlo por un número no entero da un error, al no poder crear una fracción de una lista. Si quisiéramos hacer esto, se podría resolver iterando cada uno de los elementos de la lista con un bucle `for`, por ejemplo:"
   ]
  },
  {
   "cell_type": "code",
   "execution_count": null,
   "metadata": {},
   "outputs": [],
   "source": [
    "print(lista)\n",
    "lista_nueva = [i*2.5 for i in lista]  # recordar como poner un ciclo for en una linea\n",
    "print(lista_nueva)"
   ]
  },
  {
   "cell_type": "code",
   "execution_count": null,
   "metadata": {},
   "outputs": [],
   "source": [
    "# alternativa\n",
    "list(map(lambda x: x*2.5, lista))"
   ]
  },
  {
   "cell_type": "markdown",
   "metadata": {},
   "source": [
    "estas técnica suelen ser ineficientes y lenta (en versiones viejas de `Python` ya han mejorado), sobre todo cuando queremos evaluar funciones, polinomios o cualquier otra operación matemática que aparece en cualquier problema científico.\n",
    "\n",
    "Cuando realmente queremos hacer cálculos con listas de números, debemos usar los objetos tipo `¡¡arrays!!` definidos en Numpy.\n",
    "\n",
    "\n",
    "Veamos un ejemplo"
   ]
  },
  {
   "cell_type": "code",
   "execution_count": 6,
   "metadata": {},
   "outputs": [
    {
     "name": "stdout",
     "output_type": "stream",
     "text": [
      "11.2 µs ± 1.66 µs per loop (mean ± std. dev. of 7 runs, 100,000 loops each)\n"
     ]
    }
   ],
   "source": [
    "test_list = list(range(1001))\n",
    "\n",
    "%timeit sum(test_list)  # el tiempo que requiere la mencionada operación"
   ]
  },
  {
   "cell_type": "code",
   "execution_count": 2,
   "metadata": {},
   "outputs": [],
   "source": [
    "import numpy as np"
   ]
  },
  {
   "cell_type": "code",
   "execution_count": 5,
   "metadata": {},
   "outputs": [
    {
     "name": "stdout",
     "output_type": "stream",
     "text": [
      "12.4 µs ± 1.14 µs per loop (mean ± std. dev. of 7 runs, 100,000 loops each)\n"
     ]
    }
   ],
   "source": [
    "test_array = np.arange(1001)\n",
    "\n",
    "%timeit np.sum(test_array)"
   ]
  },
  {
   "cell_type": "markdown",
   "metadata": {},
   "source": [
    "Las nuevas versiones de `Python` han mejorado sustancialmente la eficiencia en estos tiempos de evalución, sin embargo, las versatilidad de los `array` hace muy atractivo el uso de `numpy`.\n",
    "\n",
    "Como se señaló, el módulo `numpy` nos da acceso a los arrays, pero no solo a eso, también a una gran cantidad de métodos y funciones aplicables a los mismos. Naturalmente, `numpy` incluye funciones matemáticas básicas similares al módulo `math`, las completa con otras más elaboradas y además **incluye algunas utilidades de números aleatorios, ajuste lineal de funciones y muchas otras**.\n",
    "\n",
    "Para trabajar con `numpy` y los arrays, importamos el módulos de alguna de las siguientes maneras:"
   ]
  },
  {
   "cell_type": "raw",
   "metadata": {},
   "source": [
    "import numpy              # Cargar el modulo numpy, o bien\n",
    "import numpy as np        # cargar el modulo numpy, llamándolo np, o bien\n",
    "from numpy import *       # cargar todas funciones de numpy"
   ]
  },
  {
   "cell_type": "markdown",
   "metadata": {},
   "source": [
    "### Importante \n",
    "\n",
    "- Si cargamos el módulo solamente, accederemos a las funciones como `numpy.array()` o `np.array()`, según cómo importemos el módulo. \n",
    "- Si en lugar de eso importamos todas las funciones, accederemos a ellas directamente (e.g. `array()`). "
   ]
  },
  {
   "cell_type": "markdown",
   "metadata": {},
   "source": [
    "Un array se puede crear explícitamente o a partir de una lista de la forma siguiente:"
   ]
  },
  {
   "cell_type": "code",
   "execution_count": null,
   "metadata": {},
   "outputs": [],
   "source": [
    "x = np.array([2.0, 4.6, 9.3, 1.2])      # Creacion de un array directamente\n",
    "\n",
    "notas = [9.8, 7.8, 9.9, 8.4, 6.7]   # Crear un lista\n",
    "notas2 = np.array(notas) \n",
    "\n",
    "print(notas2)\n",
    "print(notas)\n",
    "notas2"
   ]
  },
  {
   "cell_type": "markdown",
   "metadata": {},
   "source": [
    "Lo primero que notaremos al imprimir un `array` por pantalla es que a diferencia de las listas sus elementos no están separados por comas.\n",
    "\n",
    "Podemos consultar el tipo de la variable:"
   ]
  },
  {
   "cell_type": "code",
   "execution_count": null,
   "metadata": {},
   "outputs": [],
   "source": [
    "print(type(notas2))"
   ]
  },
  {
   "cell_type": "markdown",
   "metadata": {},
   "source": [
    "Este array formado a partir de una lista se considera un array de una dimensión, también conocido como vector.\n",
    "\n",
    "Podemos consultar la dimensión y forma de un array con sus propiedades `ndim` y `shape`:"
   ]
  },
  {
   "cell_type": "code",
   "execution_count": null,
   "metadata": {},
   "outputs": [],
   "source": [
    "len(notas2), notas2.ndim, notas2.shape"
   ]
  },
  {
   "cell_type": "markdown",
   "metadata": {},
   "source": [
    "Notar como el tercer método nos devolverá una tupla `(5,)`. El segundo método hace referencia a que nuestro array tiene 5 elementos en la primera dimensión, que es la de la anchura, lo cual al ser de 1D, coincide con lo arrojado por `len`.\n",
    "\n",
    "Ahora bien, si nosotros definimos un array a partir de una lista anidada formada por dos sublistas tendremos:"
   ]
  },
  {
   "cell_type": "code",
   "execution_count": null,
   "metadata": {},
   "outputs": [],
   "source": [
    "array = np.array(\n",
    "[\n",
    "    [1, 2, 3, 4., 5],\n",
    "    [6, 7, 8, 9, 10]\n",
    "])\n",
    "\n",
    "print(array)\n",
    "print(array.ndim)\n",
    "print(array.shape)"
   ]
  },
  {
   "cell_type": "markdown",
   "metadata": {},
   "source": [
    "Veremos algo interesante, y es que el array se muestra como una tabla de **2 filas con 5 columnas**, números que precisamente concuerdan con la forma **(2, 5)**.\n",
    "\n",
    "Estas estructuras formadas por filas y columnas parecidas a una tabla tienen dos dimensiones, anchura y altura (por eso nos dice que tiene 2 dimensiones). También se conocen como **vectores multidimensionales, vectores 2D o matrices**.\n",
    "\n",
    "Para conocer el tipo de dato que contiene el array podemos usar `dtype`. IMPORTANTE: un array solo puede contener un tipo de datos."
   ]
  },
  {
   "cell_type": "code",
   "execution_count": 10,
   "metadata": {},
   "outputs": [
    {
     "name": "stdout",
     "output_type": "stream",
     "text": [
      "<U4\n",
      "\n",
      "<U4\n"
     ]
    }
   ],
   "source": [
    "print(array.dtype)\n",
    "\n",
    "print()\n",
    "array = np.array([\"Hola\", \"que\", \"tal\"])\n",
    "print(array.dtype)"
   ]
  },
  {
   "cell_type": "markdown",
   "metadata": {},
   "source": [
    "Pero en este caso nos indica un tipo extraño llamado **<U4**. Según la documentación de `numpy` esto hace referencia a que el array es de tipo **Unicode**, es decir, es un array de texto.\n",
    "\n",
    "Esto sucede de igual forma si mezclamos números y textos:"
   ]
  },
  {
   "cell_type": "code",
   "execution_count": 7,
   "metadata": {},
   "outputs": [
    {
     "name": "stdout",
     "output_type": "stream",
     "text": [
      "<U32\n"
     ]
    }
   ],
   "source": [
    "array = np.array([1234, \"Hola\", 3.1415])\n",
    "print(array.dtype)"
   ]
  },
  {
   "cell_type": "markdown",
   "metadata": {},
   "source": [
    "Ahora nos dice que el tipo es **<U#** y si mostramos su contenido veremos que todo son cadenas de texto:"
   ]
  },
  {
   "cell_type": "code",
   "execution_count": null,
   "metadata": {},
   "outputs": [],
   "source": [
    "print(array)"
   ]
  },
  {
   "cell_type": "markdown",
   "metadata": {},
   "source": [
    "### Existen métodos para crear arrays automáticamente:"
   ]
  },
  {
   "cell_type": "code",
   "execution_count": null,
   "metadata": {},
   "outputs": [],
   "source": [
    "# Ejemplos\n",
    "\n",
    "#lista_ceros = np.zeros(10)           # Array de 10 ceros (floats)\n",
    "lista_ceros = np.zeros([3,3])                    # matriz 3x3 de ceros\n",
    "print(lista_ceros)\n",
    "\n",
    "#lista_unos = np.ones(10)             # Array de 10 unos (floats)\n",
    "lista_unos =  np.ones([3,3])                     # matriz 3x3 de unos\n",
    "print(lista_unos)\n",
    "\n",
    "lista_identidad = np.eye(3)           # crea una matriz identidad 3x3\n",
    "print(lista_identidad)\n",
    "\n",
    "otra_lista = np.linspace(0, 30, 8)    # Array de 8 números, de 0 a 30 ambos incluidos\n",
    "print(otra_lista)\n",
    "\n",
    "#numeros = np.arange(10)               # Array de numeros (floats) de 0 a 9\n",
    "# np.arange(4.)                       # Rango 0 a 4 decimal\n",
    "# np.arange(-3, 3)                    # Rango de -3 a 2 \n",
    "numeros = np.arange(0, 20, 2.5)                 # Rango de 0 a 20 cada 5 números\n",
    "print(numeros)\n",
    "\n",
    "# arreglo llenado de forma rapida. IMPORTANTE no con ceros\n",
    "emptarray = np.empty((4,4))\n",
    "print(emptarray)"
   ]
  },
  {
   "cell_type": "markdown",
   "metadata": {},
   "source": [
    "Notar que si creamos un array con `np.arange()` usando un número entero, el array que se creará será de enteros. Es posible cambiar todo el array a otro tipo de dato (como a `float`) usando el método `astype()`, notar que se usa `dtype` para saber el tipo:"
   ]
  },
  {
   "cell_type": "code",
   "execution_count": null,
   "metadata": {},
   "outputs": [],
   "source": [
    "print(numeros.dtype)\n",
    "\n",
    "\n",
    "numeros = numeros.astype('int')  # para cambiar a float, notar que hay q volver a asignarle el valor\n",
    "                                # puesto que astype crea una copia\n",
    "\n",
    "print(numeros.dtype)"
   ]
  },
  {
   "cell_type": "code",
   "execution_count": null,
   "metadata": {},
   "outputs": [],
   "source": [
    "# alternativa\n",
    "test = np.array([1, 2.-1j, 3], dtype=complex)\n",
    "\n",
    "print(test.dtype)"
   ]
  },
  {
   "cell_type": "markdown",
   "metadata": {},
   "source": [
    "Nota: para conocer más detalles sobre los distintos tipos disponibles para los elementos de array, podemos echar un vistazo a la [página](https://numpy.org/doc/stable/reference/arrays.dtypes.html) de la documentación oficial asociada al tema."
   ]
  },
  {
   "cell_type": "markdown",
   "metadata": {},
   "source": [
    "## Ejercicios:\n",
    "- importar NumPy con Alias\n",
    "- Crear un arreglo 1D de 10 elementos mediante una lista\n",
    "- Crear una matriz 5x5 de unos\n",
    "- Crear una lista de ceros\n",
    "- Convertir esa lista de ceros a complejos"
   ]
  },
  {
   "cell_type": "markdown",
   "metadata": {},
   "source": [
    "### Indexación\n",
    "\n",
    "Los arrays se indexan prácticamente igual que las listas y las cadenas de texto; aquí hay algunos ejemplos:"
   ]
  },
  {
   "cell_type": "code",
   "execution_count": null,
   "metadata": {},
   "outputs": [],
   "source": [
    "numeros = np.arange(10)\n",
    "print(numeros)"
   ]
  },
  {
   "cell_type": "code",
   "execution_count": null,
   "metadata": {},
   "outputs": [],
   "source": [
    "print(numeros[3:8])           # Elementos desde el tercero al septimo\n",
    "\n",
    "print(numeros[:4])            # Elementos desde el primero al cuarto\n",
    "\n",
    "print(numeros[5:])            # Elementos desde el quinto al final\n",
    "\n",
    "print(numeros[-3])            # El antepenúltimo elemento (devuelve un elemento, no un array)\n",
    "\n",
    "print(numeros[:])             # Todo el array, equivalente a print(numeros)\n",
    "\n",
    "print(numeros[2:8:2])         # Elementos del segundo al septimo, pero saltando de dos en dos"
   ]
  },
  {
   "cell_type": "markdown",
   "metadata": {},
   "source": [
    "Hasta ahora es muy equivalente a las listas ¿cierto?"
   ]
  },
  {
   "cell_type": "markdown",
   "metadata": {},
   "source": [
    "### Operaciones con arrays\n",
    "\n",
    "Los arrays permiten hacer operaciones aritméticas básicas entre ellos en la forma que uno esperaría que se hicieran, es decir, haciéndolo elemento a elemento; para ello ambos arrays **deben tener siempre la misma longitud,** por ejemplo:"
   ]
  },
  {
   "cell_type": "code",
   "execution_count": null,
   "metadata": {},
   "outputs": [],
   "source": [
    "enteros = np.arange(6)\n",
    "x = np.array([5.6, 7.3, 7.7, 2.3, 4.2, 9.2])\n",
    "\n",
    "print(enteros)\n",
    "#print()\n",
    "#print(x)\n",
    "#print()\n",
    "\n",
    "print(x+enteros)\n",
    "print()\n",
    "\n",
    "print(x*enteros)\n",
    "print()\n",
    "\n",
    "print(x/enteros)"
   ]
  },
  {
   "cell_type": "markdown",
   "metadata": {},
   "source": [
    "Como podemos ver las operaciones se hacen elemento a elemento, por lo que ambas deben tener la misma forma (`shape()`). Fíjense que en la división el resultado del primer elemento es **indefinido/infinito (Inf)** debido a la división por cero.\n",
    "\n",
    "¿qué sucede en Python cuando intentamos dividir un número por cero?"
   ]
  },
  {
   "cell_type": "code",
   "execution_count": null,
   "metadata": {},
   "outputs": [],
   "source": [
    "1 / 0"
   ]
  },
  {
   "cell_type": "markdown",
   "metadata": {},
   "source": [
    "Python arroja una excepción si encuentra una situación de este tipo, deteniendo por completo el proceso de la que forme parte. Algo que no ocurre con los array, para este caso recibimos un **warning** en la consola, pero el proceso continúa."
   ]
  },
  {
   "cell_type": "code",
   "execution_count": 11,
   "metadata": {},
   "outputs": [
    {
     "name": "stderr",
     "output_type": "stream",
     "text": [
      "/var/folders/m_/bkm6rtjj0f104l91yr9n6t2c0000gn/T/ipykernel_56394/1715192346.py:2: RuntimeWarning: divide by zero encountered in divide\n",
      "  x/0\n",
      "/var/folders/m_/bkm6rtjj0f104l91yr9n6t2c0000gn/T/ipykernel_56394/1715192346.py:2: RuntimeWarning: invalid value encountered in divide\n",
      "  x/0\n"
     ]
    },
    {
     "data": {
      "text/plain": [
       "array([inf, nan, inf, inf])"
      ]
     },
     "execution_count": 11,
     "metadata": {},
     "output_type": "execute_result"
    }
   ],
   "source": [
    "x = np.array([ 1,  0,  1, 16], dtype=int)\n",
    "x/0"
   ]
  },
  {
   "cell_type": "markdown",
   "metadata": {},
   "source": [
    "Notar que en los casos en que ocurre una indeterminación:\n",
    "-  0/0\n",
    "- raices cuadráticas negativas\n",
    "\n",
    "NumPy devuelve el valor `nan`.\n",
    "\n",
    "\n",
    "Notemos algo curioso"
   ]
  },
  {
   "cell_type": "code",
   "execution_count": null,
   "metadata": {},
   "outputs": [],
   "source": [
    "# ejemplo 1\n",
    "f = [np.nan, np.nan, np.inf, 1, 1.5]\n",
    "\n",
    "f_l = []\n",
    "for i in f:\n",
    "    if i==i:\n",
    "        f_l.append(i)\n",
    "print(f_l)"
   ]
  },
  {
   "cell_type": "code",
   "execution_count": null,
   "metadata": {},
   "outputs": [],
   "source": [
    "# ejemplo 2\n",
    "\n",
    "np.nan == np.nan"
   ]
  },
  {
   "cell_type": "markdown",
   "metadata": {},
   "source": [
    "Este resultado es bastante lógico. Si tenemos una entidad indefinida, difícil será que podamos comparar si es igual a otra entidad indefinida. No obstante, esta filosofía invalida la búsqueda de valores perdidos por la clásica vía de comparación con **nan**. En NumPy, para comprobar la existencia de dichos valores y que han sido codificados como **nan**, tendremos que emplear funciones del tipo `isnan()`."
   ]
  },
  {
   "cell_type": "code",
   "execution_count": null,
   "metadata": {},
   "outputs": [],
   "source": [
    "# ejemplo\n",
    "np.isnan(x/0)"
   ]
  },
  {
   "cell_type": "markdown",
   "metadata": {},
   "source": [
    "Finalmente, como tanto los **inf** como los **nan** se codifican de manera distinta a los números enteros, no vamos a poder tener en un array de enteros ciertos elementos declarados como **nan**."
   ]
  },
  {
   "cell_type": "code",
   "execution_count": null,
   "metadata": {},
   "outputs": [],
   "source": [
    "np.array([1, 2, np.nan], dtype='int8')"
   ]
  },
  {
   "cell_type": "code",
   "execution_count": null,
   "metadata": {},
   "outputs": [],
   "source": [
    "# No obstante, con otros tipos de datos, esta situación no se da.\n",
    "np.array([1, 2, np.nan], dtype='float32')"
   ]
  },
  {
   "cell_type": "markdown",
   "metadata": {},
   "source": [
    "A modo de resumen, recuerden que con los arreglos las operaciones se realizan término a término"
   ]
  },
  {
   "cell_type": "code",
   "execution_count": null,
   "metadata": {},
   "outputs": [],
   "source": [
    "a = np.arange(1,5)\n",
    "print(a)\n",
    "a**2"
   ]
  },
  {
   "cell_type": "markdown",
   "metadata": {},
   "source": [
    "### Operaciones en arrays de 2D\n",
    "\n",
    "Todo lo que hemos visto aplica también a los arrays de dos dimensiones:"
   ]
  },
  {
   "cell_type": "code",
   "execution_count": 12,
   "metadata": {},
   "outputs": [
    {
     "name": "stdout",
     "output_type": "stream",
     "text": [
      "[[1 2]\n",
      " [3 4]]\n",
      "\n",
      "[[5 6]\n",
      " [7 8]]\n"
     ]
    },
    {
     "data": {
      "text/plain": [
       "array([[ 5, 12],\n",
       "       [21, 32]])"
      ]
     },
     "execution_count": 12,
     "metadata": {},
     "output_type": "execute_result"
    }
   ],
   "source": [
    "# ejemplo\n",
    "arr_5 = np.array([[1,2],[3,4]])\n",
    "arr_6 = np.array([[5,6],[7,8]])\n",
    "\n",
    "print(arr_5)\n",
    "print()\n",
    "print(arr_6)\n",
    "\n",
    "arr_5 * arr_6"
   ]
  },
  {
   "cell_type": "code",
   "execution_count": 13,
   "metadata": {},
   "outputs": [
    {
     "name": "stdout",
     "output_type": "stream",
     "text": [
      "[[ 0  1  2  3]\n",
      " [ 4  5  6  7]\n",
      " [ 8  9 10 11]]\n",
      "2 1\n"
     ]
    }
   ],
   "source": [
    "# ejemplo\n",
    "a = np.arange(12)\n",
    "b = a.reshape(3, 4)\n",
    "print(b)\n",
    "print()\n",
    "print(b.ndim, a.ndim)"
   ]
  },
  {
   "cell_type": "markdown",
   "metadata": {},
   "source": [
    "### Accediendo a los elementos\n",
    "\n",
    "Es posible que, en este preciso instante, estemos tentados a denominar la primera dimensión del array b como filas y la segunda como columnas, por su similaridad con las tablas de datos con las que estamos acostumbrados a lidiar. No obstante, debemos ser cautos con esta nomenclatura"
   ]
  },
  {
   "cell_type": "code",
   "execution_count": 14,
   "metadata": {},
   "outputs": [
    {
     "name": "stdout",
     "output_type": "stream",
     "text": [
      "[[ 0  1  2  3]\n",
      " [ 4  5  6  7]\n",
      " [ 8  9 10 11]]\n"
     ]
    }
   ],
   "source": [
    "print(b)"
   ]
  },
  {
   "cell_type": "code",
   "execution_count": 15,
   "metadata": {},
   "outputs": [
    {
     "data": {
      "text/plain": [
       "array([[8, 9]])"
      ]
     },
     "execution_count": 15,
     "metadata": {},
     "output_type": "execute_result"
    }
   ],
   "source": [
    "# ejemplos\n",
    "b[2:, :2]  # fila [2,:), elementos [0, 2), recordar que empieza en 0"
   ]
  },
  {
   "cell_type": "code",
   "execution_count": null,
   "metadata": {},
   "outputs": [],
   "source": [
    "# ¿qué retorna?\n",
    "b[1:3, -1:]"
   ]
  },
  {
   "cell_type": "code",
   "execution_count": null,
   "metadata": {},
   "outputs": [],
   "source": [
    "b[1:3, -1]  # notar que el resultado no conserva la estructura"
   ]
  },
  {
   "cell_type": "code",
   "execution_count": 18,
   "metadata": {},
   "outputs": [
    {
     "data": {
      "text/plain": [
       "((3, 4), (2,))"
      ]
     },
     "execution_count": 18,
     "metadata": {},
     "output_type": "execute_result"
    }
   ],
   "source": [
    "b.shape, (b[1:3, -1]).shape"
   ]
  },
  {
   "cell_type": "markdown",
   "metadata": {},
   "source": [
    "Dependiendo de si acto seguido vamos a utilizar el anterior resultado para llevar a cabo algún tipo de cálculo matemático, este detalle puede resultar de vital relevancia.\n",
    "\n",
    "Si estamos interesados en que el resultado de la extracción **conserve el número de dimensiones del objeto original**, en todas y cada una de las dimensiones hemos de emplear estrategias de tipo `slice`."
   ]
  },
  {
   "cell_type": "code",
   "execution_count": 21,
   "metadata": {},
   "outputs": [
    {
     "name": "stdout",
     "output_type": "stream",
     "text": [
      "[[ 0  1  2  3]\n",
      " [ 4  5  6  7]\n",
      " [ 8  9 10 11]]\n"
     ]
    }
   ],
   "source": [
    "print(b)"
   ]
  },
  {
   "cell_type": "code",
   "execution_count": 19,
   "metadata": {},
   "outputs": [
    {
     "data": {
      "text/plain": [
       "(array([[0]]), array([0]))"
      ]
     },
     "execution_count": 19,
     "metadata": {},
     "output_type": "execute_result"
    }
   ],
   "source": [
    "# ejemplos 1\n",
    "b[:1, :1], b[:1, 0]"
   ]
  },
  {
   "cell_type": "code",
   "execution_count": 25,
   "metadata": {},
   "outputs": [
    {
     "data": {
      "text/plain": [
       "((4,), (1, 4), (1, 4))"
      ]
     },
     "execution_count": 25,
     "metadata": {},
     "output_type": "execute_result"
    }
   ],
   "source": [
    "# ejemplo 2\n",
    "b[1].shape, b[[1]].shape, b[1:2, :].shape"
   ]
  },
  {
   "cell_type": "markdown",
   "metadata": {},
   "source": [
    "¿Notan algo diferente?   El doble corchete\n",
    "\n",
    "La primera estrategia de acceso a los elementos de un array empleando es **fancy indexing**. Se hace uso del tipo get donde proporcionaremos una lista ([]) que contenga los índices de los elementos que deseamos extraer. Ilustremos la manera de proceder mediante algunos ejemplos."
   ]
  },
  {
   "cell_type": "code",
   "execution_count": 32,
   "metadata": {},
   "outputs": [
    {
     "name": "stdout",
     "output_type": "stream",
     "text": [
      "[[ 0  1  2  3  4]\n",
      " [ 5  6  7  8  9]\n",
      " [10 11 12 13 14]]\n",
      "\n",
      "[[0 1 2 3 4]\n",
      " [5 6 7 8 9]\n",
      " [0 1 2 3 4]]\n"
     ]
    }
   ],
   "source": [
    "# ejemplos \n",
    "a = np.arange(15).reshape(3, 5)\n",
    "\n",
    "print(a)\n",
    "print()\n",
    "print(a[[0, 1, 0]])  # filas 0, 1, 0. Noten como puedo repetir"
   ]
  },
  {
   "cell_type": "code",
   "execution_count": 31,
   "metadata": {},
   "outputs": [
    {
     "data": {
      "text/plain": [
       "array([1, 3])"
      ]
     },
     "execution_count": 31,
     "metadata": {},
     "output_type": "execute_result"
    }
   ],
   "source": [
    "a[0][[1, 3]]  # fila 0, elementos 1, 3"
   ]
  },
  {
   "cell_type": "markdown",
   "metadata": {},
   "source": [
    "### Uniendo array\n",
    "\n",
    "Varios arrays se pueden unir con el método `np.concatenate()`, que también se puede usar para añadir elementos nuevos:"
   ]
  },
  {
   "cell_type": "code",
   "execution_count": null,
   "metadata": {},
   "outputs": [],
   "source": [
    "# ejemplos\n",
    "arr_5 = np.array([[1,2],[3,4]])\n",
    "arr_6 = np.array([[5,6],[7,8]])\n",
    "\n",
    "print(arr_5)\n",
    "print()\n",
    "print(arr_6)\n",
    "print()\n",
    "\n",
    "a = np.concatenate((arr_5, arr_6))\n",
    "\n",
    "print(a)"
   ]
  },
  {
   "cell_type": "code",
   "execution_count": null,
   "metadata": {},
   "outputs": [],
   "source": [
    "arr_5 = np.array([1,2, 3,4])\n",
    "arr_6 = np.array([5,6,7,8])\n",
    "\n",
    "np.concatenate((arr_5, arr_6))"
   ]
  },
  {
   "cell_type": "markdown",
   "metadata": {},
   "source": [
    "Para añadir elementos, numpy tiene las funciones `insert()` y `append()`, que funcionan de manera similar a sus equivalentes en listas:"
   ]
  },
  {
   "cell_type": "code",
   "execution_count": null,
   "metadata": {},
   "outputs": [],
   "source": [
    "z = np.array([1, 2, 3, 4, 5, 6, 7, 8])\n",
    "print(z)\n",
    "# Añadimos el elemento 100 al array z, al final\n",
    "z = np.append(z, 100)  # notar que como importamos todo el paquete no es necesario poner np.append\n",
    "\n",
    "print(z)\n",
    "\n",
    "# Añadimos el elemento 200 al array z, en el tercer puesto (índice 2)\n",
    "b = np.insert(z, 2, 200)  # notar que como importamos todo el paquete no es necesario poner np.insert\n",
    "print(b)"
   ]
  },
  {
   "cell_type": "markdown",
   "metadata": {},
   "source": [
    "IMPORTANTE;\n",
    "\n",
    "Como se ve, a diferencia de las listas (recordar que en la lista es `nombre.append(elemento)`, el **primer parámetro es el array y luego el elemento que se quiere añadir**.\n",
    "\n",
    "- Estos métodos devuelven una copia del array sin modificar el original como hacen los métodos de listas correspondientes. \n",
    "\n",
    "- Si en lugar de un elemento a insertar se da una lista u otro array. Entonces se añade todos los elementos de la lista (a append() habría que dar también una lista de posiciones, como segundo parámetro).\n",
    "\n",
    "\n",
    "### Operaciones aritméticas \n",
    "Además de las operaciones aritméticas básicas, los arrays de numpy tienen métodos o funciones específicas para ellas. Algunas de ellas son las siguientes:"
   ]
  },
  {
   "cell_type": "code",
   "execution_count": null,
   "metadata": {},
   "outputs": [],
   "source": [
    "print(z.max())   # Valor máximo de los elementos del array\n",
    "\n",
    "print(z.min())   # Valor mínimo de los elementos del array\n",
    "\n",
    "print(z.mean())  # Valor medio de los elementos del array\n",
    "\n",
    "print(z.std())   # Desviación típica de los elementos del array\n",
    "\n",
    "print(z.sum())   # Suma de todos los elementos del array\n",
    "\n",
    "print(np.median(z)) # Mediana de los elementos del array   se debe usar np.median si se importa numpy de la otra forma"
   ]
  },
  {
   "cell_type": "markdown",
   "metadata": {},
   "source": [
    "OTRAS OPERACIONES"
   ]
  },
  {
   "cell_type": "code",
   "execution_count": null,
   "metadata": {},
   "outputs": [],
   "source": [
    "b=np.array([[ 0,  1,  2],\n",
    "       [ 3,  4,  5],\n",
    "       [ 6,  7,  8],\n",
    "       [ 9, 10, 11]])\n",
    "\n",
    "b.ndim"
   ]
  },
  {
   "cell_type": "code",
   "execution_count": null,
   "metadata": {},
   "outputs": [],
   "source": [
    "# aplanando el arreglo\n",
    "b.flatten()"
   ]
  },
  {
   "cell_type": "code",
   "execution_count": null,
   "metadata": {},
   "outputs": [],
   "source": [
    "# operaciones por fila y columna\n",
    "np.sum(b, axis=0) # reducción de la primera dimensión (suma por \"columnas\")"
   ]
  },
  {
   "cell_type": "code",
   "execution_count": null,
   "metadata": {},
   "outputs": [],
   "source": [
    "np.sum(b, axis=1) # reducción de la segunda dimensión (suma por \"filas\")"
   ]
  },
  {
   "cell_type": "markdown",
   "metadata": {},
   "source": [
    "## Ejercicios \n",
    "\n",
    "1. Crear un arreglo de 20 elementos\n",
    "2. Convertirlo a un arreglo 2D\n",
    "3. Calcular el min, max por filas y columnas\n",
    "4. Calcular la media por filas\n",
    "5. Añadir en cada fial un 10\n",
    "6. Usando índices imprimir los ultimos 3 elementos del cada fila conservando la estructura\n",
    "7. Con el arreglo del resultado anterior crear uno 1D"
   ]
  },
  {
   "cell_type": "markdown",
   "metadata": {},
   "source": [
    "Una gran utilidad de los arrays es la posibilidad de usarlos con datos booleanos (True o False) y operar entre ellos o incluso usarlos con arrays con números. Veamos algunos ejemplos:"
   ]
  },
  {
   "cell_type": "code",
   "execution_count": null,
   "metadata": {},
   "outputs": [],
   "source": [
    "A = np.array([True, False, True])\n",
    "B = np.array([False, False, True])\n",
    "\n",
    "A*B"
   ]
  },
  {
   "cell_type": "code",
   "execution_count": null,
   "metadata": {},
   "outputs": [],
   "source": [
    "C = np.array([1, 2, 3])\n",
    "\n",
    "A*C  #  los elementos que fueron multiplicados por False iguales a cero."
   ]
  },
  {
   "cell_type": "code",
   "execution_count": null,
   "metadata": {},
   "outputs": [],
   "source": [
    "B*C  #  los elementos que fueron multiplicados por False iguales a cero."
   ]
  },
  {
   "cell_type": "markdown",
   "metadata": {},
   "source": [
    "En este ejemplo vemos cómo al multiplicar dos arrays booleanos es resultado es otro array booleano con el resultado que corresponda, pero al multiplicar los arrays booleanos con arrays numéricos, el resultado es un array numérico con los mismos elementos, pero con los elementos que fueron multiplicados por False iguales a cero.\n",
    "\n",
    "Tambíén es posible usar los arrays como índices de otro array y como índices se pueden usar arrays numéricos o booleanos. El resultado será en este caso un array con los elementos que se indique en el array de índices numérico o los elementos correspondientes a True en caso de usar un array de índices booleano. Veámoslo con un ejemplo:"
   ]
  },
  {
   "cell_type": "code",
   "execution_count": null,
   "metadata": {},
   "outputs": [],
   "source": [
    "# Array con enteros de 0 a 9\n",
    "mi_array = np.arange(0, 100, 10)  #  np.arange\n",
    "\n",
    "# Array de índices numericos con numeros de 0-9 de 2 en 2\n",
    "indices1 = np.arange(0, 10, 2)\n",
    "\n",
    "# Array de índices booleanos\n",
    "indices2 = np.array([False, True, True, False, False, True, False, False, True, True])  # np.array\n",
    "\n",
    "print(indices1)\n",
    "print()\n",
    "print(mi_array)\n",
    "print()\n",
    "print(mi_array[indices1])\n",
    "print()\n",
    "print(mi_array[indices2]) # notar que escoje los que son True"
   ]
  },
  {
   "cell_type": "markdown",
   "metadata": {},
   "source": [
    "### array y booleanos\n",
    "\n",
    "También es muy sencillo y más práctico crear arrays booleanos usando operadores lógicos y luego usalos como índices, por ejemplo:"
   ]
  },
  {
   "cell_type": "code",
   "execution_count": null,
   "metadata": {},
   "outputs": [],
   "source": [
    "mi_array = np.arange(0, 100, 10)\n",
    "\n",
    "mi_array"
   ]
  },
  {
   "cell_type": "code",
   "execution_count": null,
   "metadata": {},
   "outputs": [],
   "source": [
    "# Creamos un array usando un operador booleano\n",
    "mayores50 = mi_array > 50  # notar que compara cada elemento del arreglo con 50 y guarda sus comparaciones\n",
    "\n",
    "print(mayores50)\n",
    "\n",
    "# Lo utilizamos como índices para seleccionar los que cumplen esa condición\n",
    "print(mi_array[mayores50])"
   ]
  },
  {
   "cell_type": "code",
   "execution_count": null,
   "metadata": {},
   "outputs": [],
   "source": [
    "# comparemos\n",
    "\n",
    "mayores50 = []\n",
    "for i in mi_array:\n",
    "    if i>50:\n",
    "        mayores50.append(i)\n",
    "        \n",
    "mayores50   "
   ]
  },
  {
   "cell_type": "markdown",
   "metadata": {},
   "source": [
    "¡¡Genial no!!\n",
    "\n",
    "\n",
    "Una de las mejores utilidades de numpy es trabajar con índices y máscaras de datos para limitar o seleccionar parte de los datos. Supongamos que tenemos un array de datos, pero que solo nos interesa los positivos, que queremos manipular después. Hay varias formas de seleccionarlos definiendo un array máscara con la condición que nos interesa:"
   ]
  },
  {
   "cell_type": "code",
   "execution_count": null,
   "metadata": {},
   "outputs": [],
   "source": [
    "datos = np.array([3, 7, -2, 6, 7, -8, 11, -1, -2, 8])\n",
    "\n",
    "print(datos)\n",
    "\n",
    "mask = datos >= 0\n",
    "\n",
    "print(mask)\n",
    "\n",
    "mask2 = datos*mask\n",
    "print(mask2)\n",
    "\n",
    "# no es lo mismo\n",
    "print(datos[mask])\n",
    "\n",
    "type(mask2)"
   ]
  },
  {
   "cell_type": "markdown",
   "metadata": {},
   "source": [
    "- Usando un array mask de booleanos, podemos operar con el el array de datos, cuando un valor se multiplica por True es equivalente a multiplicarse por 1 y si es con False, a multiplicarse por 0. Por eso el resultado es un array del mismo tamaño, pero los elementos que no cumplen la condición se hacen 0.\n",
    "\n",
    "- Si por el contrario usarmos usamos mask como un array de índices, el resultado es un array con los elementos cuyo índice corresponda con True, ignorando los de índice False. Usaremos uno u otro según lo que queramos hacer, el truco consiste es crear de manera correcta la máscara de datos.\n",
    "\n",
    "Veamos el caso de un array 2D con dos columnas, pero queremos limitar todos los datos en criterios en las dos columnas. Primero creamos una máscara como producto de las dos condiciones, y luego la usamos como array de índices en el array original:"
   ]
  },
  {
   "cell_type": "code",
   "execution_count": null,
   "metadata": {},
   "outputs": [],
   "source": [
    "from numpy import random\n",
    "\n",
    "datos2 = np.random.randint(-10, 20, (10, 2))  # crea 10 números aleatorios enteros entre [-10,20), para 2 columnas\n",
    "\n",
    "print('arreglo de dos columnas \\n', datos2)\n",
    "\n",
    "# Solo queremos de los datos los que cumplan de la columna 0 que sean mayores 0\n",
    "# pero en esa posición menores que 10 en la columna 1\n",
    "\n",
    "condicion1 = datos2[:,0] > 0\n",
    "condicion2 = datos2[:,1] < 10\n",
    "\n",
    "print(condicion1)\n",
    "print(condicion2)\n",
    "\n",
    "# notar que al multiplicar las condiciones quedan las que son true true o false false\n",
    "mask_col0 = condicion1*condicion2  \n",
    "#mask_col0 = condicion1+condicion2 \n",
    "mask_col1 = np.array([not(i) for i in (condicion1*condicion2)])\n",
    "mask_col3 = mask_col0#*mask_col1\n",
    "print(mask_col0)\n",
    "#print(mask_col1)\n",
    "#print(mask_col3)\n",
    "\n",
    "# aplicando las condiciones\n",
    "datos2[mask_col0]\n",
    "#print(datos2[condicion1])\n",
    "#print()\n",
    "#datos2[condicion2]"
   ]
  },
  {
   "cell_type": "markdown",
   "metadata": {},
   "source": [
    "Como se ve, el resultado en un array de dos columna, donde en la primera columna son todos positivos y en la segunda menores que +10. ¿Y si queremos que al menos se cumpla una condición? Simplemente tenermos que sumar las dos máscaras (las de cada columna) en lugar de multiplicarla, básicamente es como multiplicar o sumar unos o ceros (True o False)."
   ]
  },
  {
   "cell_type": "markdown",
   "metadata": {},
   "source": [
    "## Ejercicio\n",
    "\n",
    "Crear una matriz 4x4,\n",
    "\n",
    "    a) extraer todos los elementos mayores que cero,\n",
    "    b) extraer las filas que cumplan ser su primer elemento mayor que 1 y el segundo menor que 2,\n",
    "    c) extraer las filas que cumplan que su primer elemento es mayor que 1 o su segundo elemento es menor que 2. Pero ambos no no pueden ser cierto."
   ]
  },
  {
   "cell_type": "markdown",
   "metadata": {},
   "source": [
    "### Retomando los índices\n",
    "\n",
    "Igualmente podemos modificar un array bidimensional usando sus índices:"
   ]
  },
  {
   "cell_type": "code",
   "execution_count": null,
   "metadata": {},
   "outputs": [],
   "source": [
    "lista = [[10,20,30, 4, 5,6,7,8,9, 0],[9, 99, 999, 8,9,0,4,2,7, 8],[9, 99, 999, 8,9,0,4,2,7, 8]]\n",
    "arr0 =  np.array(lista)\n",
    "\n",
    "print(arr0)"
   ]
  },
  {
   "cell_type": "code",
   "execution_count": null,
   "metadata": {},
   "outputs": [],
   "source": [
    "arr0[:, 6] = 1\n",
    "#arr0[-1, :] = 0\n",
    "#arr0[1, 3:6] = 5\n",
    "#arr0[1, -3] = 10\n",
    "#arr0[-1, -1] = 10\n",
    "#arr0[-1, -3:] = 1\n",
    "#arr0[-1][[1, -2, -1]]=0\n",
    "arr0[1, 1:4] = 5\n",
    "print(arr0)"
   ]
  },
  {
   "cell_type": "markdown",
   "metadata": {},
   "source": [
    "### Cambiando el tamaño de arrays\n",
    "\n",
    "Hemos visto que es fácil quitar y poner elementos nuevos en un array unidimensional. Pero con dos o más dimensiones es algo más complicado porque estamos limitados a la estructura y número de elementos del array. Podemos cambiar la forma (shape) de un array a otra que tenga el mismo número de elementos fácilmente usado `reshape()`:"
   ]
  },
  {
   "cell_type": "code",
   "execution_count": null,
   "metadata": {},
   "outputs": [],
   "source": [
    "numeros = np.arange(100)  # Array unidimensional de 100 numeros\n",
    "numeros"
   ]
  },
  {
   "cell_type": "code",
   "execution_count": null,
   "metadata": {},
   "outputs": [],
   "source": [
    "numeros_3D = numeros.reshape((5, 10, 2))  # creamos una arreglo de 5 x 10 x 2 .. notar que da 100 el producto\n",
    "numeros_3D"
   ]
  },
  {
   "cell_type": "code",
   "execution_count": null,
   "metadata": {},
   "outputs": [],
   "source": [
    "numeros = arange(10000)  # Array unidimensional de 10 000 numeros\n",
    "\n",
    "numeros_2D = numeros.reshape((100, 100))  # creamos un arreglo 2D de 100 x 100\n",
    "\n",
    "numeros_3D = numeros.reshape((100, 10, 10))  # creamos una arreglo de 100 x 10 x 10\n",
    "\n",
    "print(numeros.shape)\n",
    "\n",
    "print(numeros_2D.shape)\n",
    "\n",
    "print(numeros_3D.shape)"
   ]
  },
  {
   "cell_type": "markdown",
   "metadata": {},
   "source": [
    "### Arrays estructurados\n",
    "\n",
    "Aunque los arrays pueden contener cualquier tipo de dato, los arrays normales sólo pueden ser de un único tipo. Para esto extiste una variante de arrays para contenidos complejos o estructurados, llamado **structured arrays**, que permiten tratar arrays por estructuras o por campos de estruturas. Además de poder contener distintos tipos de datos, facilitan el acceso por columnas. Vemos un ejemplo con un array con distintos tipos de datos:"
   ]
  },
  {
   "cell_type": "code",
   "execution_count": null,
   "metadata": {},
   "outputs": [],
   "source": [
    "# ejemplo\n",
    "galaxies = np.zeros(5, dtype = {'names': ('name', 'order', 'type', 'magnitude'),\n",
    "                          'formats': ('U16', 'i4', 'U10', 'f8')})  # np.zeros\n",
    "\n",
    "\n",
    "galaxies"
   ]
  },
  {
   "cell_type": "code",
   "execution_count": null,
   "metadata": {},
   "outputs": [],
   "source": [
    "# ejemplo \n",
    "# Array estucturado de 5 elementos, vacio\n",
    "galaxies = np.zeros(5, dtype = {'names': ('name', 'order', 'type', 'magnitude'),\n",
    "                          'formats': ('U16', 'i4', 'U10', 'f8')})  # np.zeros\n",
    "\n",
    "# Listas de datos para contruir el array estructurado\n",
    "names = [\"M 81\", \"NGC 253\", \"M 51\", \"NGC 4676\", \"M 106\"]\n",
    "types = [\"SA(s)b\", \"SAB(s)c\", \"Sc\", \"Irr\", \"SAB(s)bc\"]\n",
    "magnitudes = [6.93, 7.1, 8.4, 14.7, 9.1]\n",
    "order = list(range(5))\n",
    "\n",
    "# Añadimos valores a los campos (columnas)\n",
    "galaxies['name'] = names\n",
    "galaxies['type'] = types\n",
    "galaxies['magnitude'] = magnitudes\n",
    "galaxies['order'] = order\n",
    "\n",
    "print(galaxies)"
   ]
  },
  {
   "cell_type": "markdown",
   "metadata": {},
   "source": [
    "Se trata de un array con cinco entradas (o records) y cada una de ellas posee cuatro campos de distinto tipo, indicados con la propiedad dtype. En este caso son un string unicode de:\n",
    "\n",
    "- longitud máxima 16 (U16), \n",
    "- un entero 4 bytes (i.e. 32 bit) (i4), \n",
    "- string unicode de longitud máxima 16 (U16) y \n",
    "- un float de 4 bytes (i.e. 64 bit).\n",
    "\n",
    "El dtype de numpy describe cómo interpretar cada elemento en bytes de bloques de memoria fijos. No sólo se trata de si son float, int, etc., el dtype describe lo siguiente:\n",
    "\n",
    "- Tipo de dato (int, float, objeto Python, etc.)\n",
    "- Tamaño del dato (cuantos bytes puede ocupar)\n",
    "- Orden de bytes de datos (little-endian o big-endian)\n",
    "- Si son datos estructurado (por ejemplo mezcla de tipos de dato), también:\n",
    "\n",
    "    - Nombre de los campos\n",
    "    - Tipo de dato de cada campo\n",
    "    - Qué parte del bloque de memoria ocupa cada campo\n",
    "    - Si en dato es un sub-array, su forma y tipo de dato\n",
    "\n",
    "De manera resumida, para definir el tipo de cada elemento podemos usar una de las siguientes cadenas:\n",
    "\n",
    "#### b1, i1, i2, i4, i8, u1, u2, u4, u8, f2, f4, f8, c8, c16, a<n>\n",
    "\n",
    "que representan, respectivamente, \n",
    "    \n",
    "    - bytes, \n",
    "    - ints, \n",
    "    - unsigned ints, \n",
    "    - floats, \n",
    "    - complex y \n",
    "    - strings de longitud fija. \n",
    "    \n",
    "También se pueden usar los tipos de datos estándar de Python equivalentes (int, float, etc.)\n",
    "\n",
    "Teniendo un array estructurado como el anterior, podemos ver cada elemento haciendo el indexado habitual y también por campos (columnas):"
   ]
  },
  {
   "cell_type": "code",
   "execution_count": null,
   "metadata": {},
   "outputs": [],
   "source": [
    "#print(galaxies)\n",
    "\n",
    "# Columna 'name' del array\n",
    "#print(galaxies['magnitude'])\n",
    "\n",
    "# Primer elemento del array, con todos los campos (columnas)\n",
    "#print(galaxies[0][0])\n",
    "\n",
    "# Nombres de galaxias más brillantes que magnitud 9\n",
    "\n",
    "indx = galaxies['magnitude'] < 9  # podemos crear un booleano y usarlo como índice\n",
    "print(indx)\n",
    "galaxies[indx]['name']"
   ]
  },
  {
   "cell_type": "markdown",
   "metadata": {},
   "source": [
    "### Lectura y escritura de datos con numpy\n",
    "\n",
    "numpy posee algunos métodos de lectura de ficheros de texto que nos pueden facilitar la vida si son relativamente sencillos. En más básico es \n",
    "- `np.loadtxt()`; \n",
    "\n",
    "si todos las columnas del fichero son numéricas, basta con indicar el delimitador de columnas si es distinto de espacios:"
   ]
  },
  {
   "cell_type": "code",
   "execution_count": 41,
   "metadata": {},
   "outputs": [
    {
     "name": "stdout",
     "output_type": "stream",
     "text": [
      "[[ 0.       -0.008936]\n",
      " [ 0.01     -0.008936]\n",
      " [ 0.02     -0.008935]\n",
      " [ 0.03     -0.008933]\n",
      " [ 0.04     -0.00893 ]\n",
      " [ 0.05     -0.008927]\n",
      " [ 0.06     -0.008923]\n",
      " [ 0.07     -0.008918]\n",
      " [ 0.08     -0.008912]\n",
      " [ 0.09     -0.008906]\n",
      " [ 0.1      -0.008899]\n",
      " [ 0.11     -0.008891]\n",
      " [ 0.12     -0.008882]\n",
      " [ 0.13     -0.008873]]\n",
      "[0.   0.01 0.02 0.03 0.04 0.05 0.06 0.07 0.08 0.09 0.1  0.11 0.12 0.13]\n"
     ]
    }
   ],
   "source": [
    "test2 = np.loadtxt('data/datos.txt', comments='#', delimiter='\\t', unpack=False)  # Modificar: usecols=1 , comments='!', delimiter=';'\n",
    "tiempo0 = test2[:, 0]  # tiempo, la primera columna\n",
    "masa0 = test2[:, 1]  # masa, la segunda columna\n",
    "print(test2)\n",
    "print(tiempo0)"
   ]
  },
  {
   "cell_type": "markdown",
   "metadata": {},
   "source": [
    "Si hay más de una columna como en este ejemplo, `np.loadtxt()` devuelve un array bidimiensional en el que primera dimensión o eje son las filas y el segundo las columnas. Quizás sea más práctico poner la columnas por separado, para lo que podemos hacer:"
   ]
  },
  {
   "cell_type": "code",
   "execution_count": null,
   "metadata": {},
   "outputs": [],
   "source": [
    "tiempo1, masa1 = np.loadtxt('data/datos.txt', unpack=False)  # o una variable"
   ]
  },
  {
   "cell_type": "markdown",
   "metadata": {},
   "source": [
    "Ahora al leer añadimos el parámetro `unpack=True`, `np.loadtxt()` lo que desempaqueta por columnas en lugar de por filas (como si invirtiera el array), perminiéndonos desempaquetar en variables las columnas, que ahora están en el eje 0:"
   ]
  },
  {
   "cell_type": "markdown",
   "metadata": {},
   "source": [
    "Si el fichero a leer tiene distintos tipos datos (string y float), hay que indicar con el parámetro dtype la lista de tipos de dato que tienen las columnas que queremos leer. En este caso es más práctico usar el método\n",
    "- `np.genfromtxt()`, \n",
    "\n",
    "que similar a`loadtxt()` pero más flexible para leer columnas de distinto tipo. Si usamos `np.genfromtxt()` con el parámetro dtype, que puede ser una lista con tuplas nombre-tipo, podemos indicar el nombre de la columna y el tipo dato que contiene, creando un array estructurado como vimos antes:"
   ]
  },
  {
   "cell_type": "code",
   "execution_count": 17,
   "metadata": {},
   "outputs": [
    {
     "data": {
      "text/plain": [
       "(array([-0.00893639, -0.008936  , -0.00893487, -0.00893297, -0.00893031,\n",
       "        -0.0089269 , -0.00892274, -0.00891781, -0.00891214, -0.00890571,\n",
       "        -0.00889853, -0.00889061, -0.00888194, -0.00887252]),\n",
       " array([1.0000000e-08, 1.0000010e-02, 2.0000010e-02, 3.0000010e-02,\n",
       "        4.0000010e-02, 5.0000010e-02, 6.0000010e-02, 7.0000010e-02,\n",
       "        8.0000010e-02, 9.0000010e-02, 1.0000001e-01, 1.1000001e-01,\n",
       "        1.2000001e-01, 1.3000001e-01]),\n",
       " array([b' adios', b' hola', b' c', b' d', b' e', b' f', b' g', b' h',\n",
       "        b' i', b' j', b' k', b' l', b' m', b' n'], dtype='|S10'))"
      ]
     },
     "execution_count": 17,
     "metadata": {},
     "output_type": "execute_result"
    }
   ],
   "source": [
    "dtypes = [('tiempo', 'float'), ('masa', 'float'), ('letras', 'S10')]\n",
    "data = np.genfromtxt(\"data/test2.dat\", comments='!', delimiter=\";\", dtype=dtypes)  # dtype=None\n",
    "\n",
    "#data\n",
    "data['masa'], data['tiempo'], data['letras']"
   ]
  },
  {
   "cell_type": "markdown",
   "metadata": {},
   "source": [
    "En este caso ya no hay que usar el desempaquetado, porque tenemos un array estructurado con columnas con nombre data['tiempo'] y data['masa']."
   ]
  },
  {
   "cell_type": "markdown",
   "metadata": {},
   "source": [
    "De manera similar, podemos usar \n",
    "- `np.savetxt()` \n",
    "\n",
    "para guardar un fichero de datos por columnas:"
   ]
  },
  {
   "cell_type": "code",
   "execution_count": null,
   "metadata": {},
   "outputs": [],
   "source": [
    "# Guardamos un array datos en un fichero de texto, con los campos\n",
    "# delimitados por tabulador (\\t) en formato float con dos decimales\n",
    "# y le damos una cabecera\n",
    "np.savetxt('datos.txt', data, delimiter='\\t', fmt='%.6f', header=\"tiempo\\t masa\")"
   ]
  },
  {
   "cell_type": "markdown",
   "metadata": {},
   "source": [
    "En este ejemplo delimitamos las columnas por tabuladores (\\t), escribimos los números como floats con dos decimales (%.2f, por defecto es notación científica) y añadimos un string que hace de cabecera.\n",
    "\n",
    "# Cálculo matricial con numpy\n",
    "\n",
    "numpy incluye algunas funciones para álgebra y cálculo matricial, en el que es clave el tipo de dato matrix. Es similar al array, pero opera como una matrix y tiene método propios de las matrices."
   ]
  },
  {
   "cell_type": "code",
   "execution_count": null,
   "metadata": {},
   "outputs": [],
   "source": [
    "A = np.array([[1,2,3], [4,5,6], [7,8,9]])\n",
    "B = np.array([[1,2,0], [4,5,6], [7,8,9]])\n",
    "Am = np.mat(A)\n",
    "Bm = np.mat(B)"
   ]
  },
  {
   "cell_type": "code",
   "execution_count": null,
   "metadata": {},
   "outputs": [],
   "source": [
    "A = np.array([[1,2,3], [4,5,6], [7,8,9]])\n",
    "\n",
    "Am = np.mat(A)  # Convertimos array a matriz\n",
    "print(Am)\n",
    "print()\n",
    "print(A*A)  \n",
    "print()\n",
    "print(Am*Am)  # Aquí hace producto matricial, no elemento a elemento como con arrays\n",
    "\n",
    "print()\n",
    "print(np.dot(A,A))"
   ]
  },
  {
   "cell_type": "code",
   "execution_count": null,
   "metadata": {},
   "outputs": [],
   "source": [
    "print(Am.T)  # Matriz traspuesta\n",
    "print()\n",
    "print(Am.diagonal())\n",
    "print()\n",
    "print(np.linalg.det(Am)) # Determinante\n",
    "print()\n",
    "print(np.linalg.eigvals(Am))  # Autovalores"
   ]
  },
  {
   "cell_type": "code",
   "execution_count": null,
   "metadata": {},
   "outputs": [],
   "source": [
    "?np.linalg.eigvals"
   ]
  },
  {
   "cell_type": "markdown",
   "metadata": {},
   "source": [
    "### Proxima clase: Matplotlib"
   ]
  },
  {
   "cell_type": "markdown",
   "metadata": {},
   "source": []
  }
 ],
 "metadata": {
  "kernelspec": {
   "display_name": "base",
   "language": "python",
   "name": "python3"
  },
  "language_info": {
   "codemirror_mode": {
    "name": "ipython",
    "version": 3
   },
   "file_extension": ".py",
   "mimetype": "text/x-python",
   "name": "python",
   "nbconvert_exporter": "python",
   "pygments_lexer": "ipython3",
   "version": "3.11.4"
  }
 },
 "nbformat": 4,
 "nbformat_minor": 2
}

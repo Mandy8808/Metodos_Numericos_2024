{
 "cells": [
  {
   "cell_type": "code",
   "execution_count": null,
   "metadata": {},
   "outputs": [],
   "source": []
  },
  {
   "cell_type": "markdown",
   "metadata": {},
   "source": [
    "# `Bloque Cero`\n",
    "\n",
    "## Tema: Ideas básicas sobre Python y algunos paquetes fundamentales (part2)\n",
    "\n",
    "Tópicos:\n",
    "- Strings (Cadenas de caracteres). \n",
    "    - Operaciones\n",
    "    - Comentarios multilínea\n",
    "    - Convertir a string\n",
    "    - Formateo de cadenas\n",
    "\n",
    "-  List (Listas)\n",
    "    - Propiedades\n",
    "    - Listas anidadas\n",
    "    - Operaciones algebráicas. Suma y Multiplicación\n",
    "    - Métodos\n",
    "    - Iteración de listas\n",
    "\n",
    "- Tuple (Tuplas)\n",
    "    - Métodos\n",
    "    - Iteración de una tupla\n",
    "\n",
    "- Dictionary (Diccionarios)\n",
    "    - Propiedades\n",
    "    - Operaciones\n",
    "    - Métodos\n",
    "    - Funciones\n",
    "    - Iteración de un diccionario\n",
    "\n",
    "\n",
    "- Set (conjuntos)\n",
    "    - Metodos"
   ]
  },
  {
   "cell_type": "code",
   "execution_count": null,
   "metadata": {},
   "outputs": [],
   "source": []
  },
  {
   "cell_type": "markdown",
   "metadata": {},
   "source": [
    "### Strings (Cadenas de caracteres)\n",
    "\n",
    "Las cadenas de caracteres, son secuencias inmutables que contienen caracteres encerrado entre comillas.\n",
    "\n",
    "- Cadenas cortas: Son caracteres encerrado entre comillas simples (') o dobles (\").\n",
    "- Cadenas largas: Son caracteres encerrados entre grupo comillas triples simples (''') o dobles (\"\"\").\n",
    "\n",
    "Python soporta a caracteres [ASCII](https://es.wikipedia.org/wiki/ASCII) y [Unicode](https://es.wikipedia.org/wiki/Unicode), en éste ultimo caso solo se añade el prefijo `u'acá va el texto'`\n",
    "\n",
    "Algunos tips a la hora de escribir algunos caracteres:\n",
    "\n",
    "- `\\\\`\tBackslash\n",
    "\n",
    "- `\\'`\tComillas simple (')\n",
    "\n",
    "- `\\''`\tComillas doble (\")\n",
    "\n",
    "- `\\t`\tTabulación Horizontal ASCII (TAB)\n",
    "\n",
    "- `\\n`\tnueva linea ASCII (LF)"
   ]
  },
  {
   "cell_type": "code",
   "execution_count": 1,
   "metadata": {},
   "outputs": [
    {
     "name": "stdout",
     "output_type": "stream",
     "text": [
      "Existen varias formas de escribir:\n"
     ]
    }
   ],
   "source": [
    "# Ejemplo:\n",
    "\n",
    "cadena_corta = 'Existen varias formas de escribir:' # importante se puede usar ' o \" para señalar q son string\n",
    "\n",
    "type(cadena_corta)\n",
    "#print(type(cadena_corta))\n",
    "\n",
    "print(cadena_corta)  # por qué no mostró type()   Comentar algunas propiedades del ?print"
   ]
  },
  {
   "cell_type": "code",
   "execution_count": null,
   "metadata": {},
   "outputs": [],
   "source": [
    "cadena_larga = ''' \\\"Esta es una cadena\n",
    "de varias lineas\n",
    "y esta es la versión 1\\\"\n",
    "'''\n",
    "\n",
    "print(cadena_larga)\n",
    "\n",
    "mi_cadena_multilinea_2 = \" \\\"Esta es una cadena \\n de varias lineas \\n y esta es la versión 2 \\\" \"\n",
    "\n",
    "print(mi_cadena_multilinea_2)\n",
    "\n",
    "# notar que se usar \\n es equivalente a \"\"\" o '''"
   ]
  },
  {
   "cell_type": "code",
   "execution_count": null,
   "metadata": {},
   "outputs": [],
   "source": [
    "h_espacios = '\\t hola \\n adios' \n",
    "\n",
    "print(h_espacios)\n",
    "\n",
    "# notar que \\t implica saltos horizontales, y se puede usar más de uno\n",
    "\n",
    "print('\\t--------\\t---------')\n",
    "print('\\t'*4 + h_espacios)"
   ]
  },
  {
   "cell_type": "markdown",
   "metadata": {},
   "source": [
    "#### Operaciones\n",
    "Las cadenas también admiten algunos operadores aritméticos como los siguientes:\n",
    "\n",
    "* El operador suma para realizar concatenación de cadenas de caracteres:"
   ]
  },
  {
   "cell_type": "code",
   "execution_count": null,
   "metadata": {},
   "outputs": [],
   "source": [
    "a, b = \"uno\", \"dos\"\n",
    "a + b"
   ]
  },
  {
   "cell_type": "markdown",
   "metadata": {},
   "source": [
    "* El operador multiplicación para repetir la cadena de caracteres por N veces definidas en la multiplicación:"
   ]
  },
  {
   "cell_type": "code",
   "execution_count": null,
   "metadata": {},
   "outputs": [],
   "source": [
    "c = \"tres\"\n",
    "c * 3"
   ]
  },
  {
   "cell_type": "code",
   "execution_count": null,
   "metadata": {},
   "outputs": [],
   "source": [
    "print(cadena_corta, mi_cadena_multilinea_2)\n",
    "print(\" \")\n",
    "print(cadena_corta + mi_cadena_multilinea_2)\n",
    "\n",
    "# aunque impriman el mismo resultado, no son lo mismo\n",
    "# usar el + en dos string implica unir ambos, \n",
    "# mientras que separar por ',' en el print significa que van a imprimir más de una variable"
   ]
  },
  {
   "cell_type": "markdown",
   "metadata": {},
   "source": [
    "#### Comentarios multilínea\n",
    "\n",
    "`Python` no dispone de un método para delimitar bloques de comentarios de varias líneas. Esto tiene el inconveniente que, aunque no genera código ejecutable, el bloque delimitado no es ignorado por el intérprete Python, que crea el correspondiente objeto de tipo cadena de caracteres."
   ]
  },
  {
   "cell_type": "code",
   "execution_count": null,
   "metadata": {},
   "outputs": [],
   "source": [
    "# Calcula la sucesión\n",
    "# de números Fibonacci\n",
    "\n",
    "\"\"\"Calcula la sucesión\n",
    "de números Fibonacci \"\"\"  # no es ignorado por el intérprete"
   ]
  },
  {
   "cell_type": "markdown",
   "metadata": {},
   "source": [
    "#### Convertir a string\n",
    "Para convertir a tipos cadenas de caracteres debe usar la función `str()`."
   ]
  },
  {
   "cell_type": "code",
   "execution_count": null,
   "metadata": {},
   "outputs": [],
   "source": [
    "a = 5; print(type(a))\n",
    "\n",
    "b = str(a); print(type(b))"
   ]
  },
  {
   "cell_type": "markdown",
   "metadata": {},
   "source": [
    "#### Formateo de cadenas\n",
    "Python soporta múltiples formas de formatear una cadena de caracteres. A continuación se describen las principales:\n",
    "\n",
    "- Formateo `%`: El carácter modulo (%) es un operador integrado en `Python`. Ese es conocido como el operador de interpolación. Usted necesitará proveer el % seguido por el tipo que necesita ser formateado o convertido, para luego añadirle la asignación"
   ]
  },
  {
   "cell_type": "code",
   "execution_count": null,
   "metadata": {},
   "outputs": [],
   "source": [
    "tipo_calculo = \"raíz cuadrada de dos\"\n",
    "valor = 2**0.5\n",
    "print(\"el resultado de %s es %f\"% (tipo_calculo, valor))  \n",
    "\n",
    "# notar que %s corresponde a un string asignado, %f a un real. Además el %() está dentro del print"
   ]
  },
  {
   "cell_type": "markdown",
   "metadata": {},
   "source": [
    "También aquí se puede controlar el formato de salida. Por ejemplo, para obtener el valor con 8 dígitos después de la coma:"
   ]
  },
  {
   "cell_type": "code",
   "execution_count": null,
   "metadata": {},
   "outputs": [],
   "source": [
    "tipo_calculo = \"raíz cuadrada de dos\"\n",
    "valor = 2**0.5\n",
    "print(\"el resultado de %s es %.18f\" % (tipo_calculo, valor))"
   ]
  },
  {
   "cell_type": "markdown",
   "metadata": {},
   "source": [
    "Otros tipos de objetos:\n",
    "\n",
    "- %c = str, carácter simple.\n",
    "\n",
    "- %s = str, cadena de carácter.\n",
    "- %d = int, enteros.\n",
    "- %f = float, coma flotante.\n",
    "- %o = octal (base 8).\n",
    "- %x = hexadecimal."
   ]
  },
  {
   "cell_type": "code",
   "execution_count": 6,
   "metadata": {},
   "outputs": [
    {
     "name": "stdout",
     "output_type": "stream",
     "text": [
      "CMS: Telefono, ¿Activar S o N?: S\n",
      "N. factura: 345, Total a pagar: 658.230000\n",
      "Tipo Octal: 33, Tipo Hexadecimal: 17\n"
     ]
    }
   ],
   "source": [
    "print(\"CMS: %s, ¿Activar S o N?: %c\" % (\"Telefono\", \"S\"))\n",
    "\n",
    "print(\"N. factura: %d, Total a pagar: %f\" % (345, 658.23))\n",
    "\n",
    "print(\"Tipo Octal: %o, Tipo Hexadecimal: %x\" % (27, 0x17))"
   ]
  },
  {
   "cell_type": "markdown",
   "metadata": {},
   "source": [
    "* `formatter` es una de las clases integradas `string`. El mismo provee varias funciones usando el método `format()`. "
   ]
  },
  {
   "cell_type": "code",
   "execution_count": null,
   "metadata": {},
   "outputs": [],
   "source": [
    "tipo_calculo = \"raíz cuadrada de dos\"\n",
    "valor = 2**0.5\n",
    "print(\"el resultado de {} es {}\".format(tipo_calculo, valor))  # notar que toma el orden automático"
   ]
  },
  {
   "cell_type": "markdown",
   "metadata": {},
   "source": [
    "También se puede referenciar a partir de la posición de los valores utilizando índices:"
   ]
  },
  {
   "cell_type": "code",
   "execution_count": null,
   "metadata": {},
   "outputs": [],
   "source": [
    "print(\"el resultado de {1} es {0}\".format(tipo_calculo, valor))  # en Python la primera posición se indica con 0"
   ]
  },
  {
   "cell_type": "markdown",
   "metadata": {},
   "source": [
    "Los objetos también pueden ser referenciados utilizando un identificador con una clave y luego pasarla como argumento al método:"
   ]
  },
  {
   "cell_type": "code",
   "execution_count": null,
   "metadata": {},
   "outputs": [],
   "source": [
    "tipo_calculo = \"raíz cuadrada de dos\"\n",
    "print(\"el resultado de {nombre} es {resultado}\".format(nombre=tipo_calculo, resultado=2**0.5))"
   ]
  },
  {
   "cell_type": "markdown",
   "metadata": {},
   "source": [
    "Este método soporta muchas técnicas de formateo, aquí algunos ejemplos:"
   ]
  },
  {
   "cell_type": "code",
   "execution_count": 7,
   "metadata": {},
   "outputs": [
    {
     "name": "stdout",
     "output_type": "stream",
     "text": [
      "          raíz cuadrada de dos\n"
     ]
    }
   ],
   "source": [
    "# Alinear una cadena de caracteres a la derecha en 30 caracteres, con la siguiente sentencia:\n",
    "print(\"{:>30}\".format(\"raíz cuadrada de dos\"))"
   ]
  },
  {
   "cell_type": "code",
   "execution_count": null,
   "metadata": {},
   "outputs": [],
   "source": [
    "# Alinear una cadena de caracteres a la izquierda en 30 caracteres (crea espacios a la derecha), \n",
    "# con la siguiente sentencia:\n",
    "print(\"{:30}\".format(\"raíz cuadrada de dos\")+'hola')"
   ]
  },
  {
   "cell_type": "code",
   "execution_count": null,
   "metadata": {},
   "outputs": [],
   "source": [
    "# Alinear una cadena de caracteres al centro en 30 caracteres, con la siguiente sentencia:\n",
    "print(\"{:^30}\".format(\"raíz cuadrada de dos\"))"
   ]
  },
  {
   "cell_type": "code",
   "execution_count": null,
   "metadata": {},
   "outputs": [],
   "source": [
    "# Truncamiento a 9 caracteres, con la siguiente sentencia:\n",
    "print(\"{:.9}\".format(\"raíz cuadrada de dos\"))"
   ]
  },
  {
   "cell_type": "code",
   "execution_count": null,
   "metadata": {},
   "outputs": [],
   "source": [
    "# Alinear una cadena de caracteres a la derecha en 30 caracteres con truncamiento de 9, \n",
    "# con la siguiente sentencia:\n",
    "\n",
    "print(\"{:>30.9}\".format(\"raíz cuadrada de dos\"))"
   ]
  },
  {
   "cell_type": "markdown",
   "metadata": {},
   "source": [
    "Notar que luego de los dos puntos se indica el largo de la cadena (30), luego del punto indicamos el truncamiento (9)."
   ]
  },
  {
   "cell_type": "code",
   "execution_count": null,
   "metadata": {},
   "outputs": [],
   "source": [
    "print(\"{:4d}\".format(10))  # notar que el 4 indica cuatro espacios\n",
    "print()\n",
    "print(\"{:4d}\".format(100))\n",
    "print()\n",
    "print(\"{:4d}\".format(1000))"
   ]
  },
  {
   "cell_type": "code",
   "execution_count": null,
   "metadata": {},
   "outputs": [],
   "source": [
    "tipo_calculo = \"raíz cuadrada de dos\"\n",
    "valor = 2**0.5\n",
    "print(\"el resultado de {0} es {resultado:.4f}\".format(tipo_calculo, resultado=valor))"
   ]
  },
  {
   "cell_type": "code",
   "execution_count": null,
   "metadata": {},
   "outputs": [],
   "source": [
    "# Ejemplos\n",
    "print(\"{:04d}\".format(10))  # al poner 04 se llena con cero\n",
    "print()\n",
    "print(\"{:04d}\".format(100))\n",
    "print()\n",
    "print(\"{:04d}\".format(1000))\n",
    "\n",
    "#####\n",
    "print(\"{:7.3f}\".format(3.1415926))  # notar que la longitud es 7 y cuenta el punto decimal y 3 significativas\n",
    "print()\n",
    "print(\"{:7.3f}\".format(153.21))\n",
    "\n",
    "#####\n",
    "print(\"{:07.3f}\".format(3.1415926))\n",
    "print()\n",
    "print(\"{:07.3f}\".format(153.21))"
   ]
  },
  {
   "cell_type": "markdown",
   "metadata": {},
   "source": [
    "* `f-strings` es una clase reciente (está disponible en la versión 3.6 y superiores).\n",
    "\n",
    "En este caso el string es formateado de la misma forma que en el caso `str.format()` y se crea añadiendo el prefijo ''f'' delante del objeto string"
   ]
  },
  {
   "cell_type": "code",
   "execution_count": null,
   "metadata": {},
   "outputs": [],
   "source": [
    "val = 'Geeks'\n",
    "print(f\"{val}for{val} is a portal for {val}.\")"
   ]
  },
  {
   "cell_type": "code",
   "execution_count": null,
   "metadata": {},
   "outputs": [],
   "source": []
  },
  {
   "cell_type": "markdown",
   "metadata": {},
   "source": [
    "### List (Listas)\n",
    "En `Python` tiene varios tipos de datos compuestos. Anteriormente ya vimos las cadenas de caracteres. Otro tipo muy importante de secuencia son las `listas`. Para crear una lista se puede usar el operador `list` sobre un objeto iterable y escribiendo entre corchetes, cada uno (o ninguno) de sus elementos separados por comas cada uno."
   ]
  },
  {
   "cell_type": "code",
   "execution_count": 11,
   "metadata": {},
   "outputs": [],
   "source": [
    "lista = [1, \"Hola\", 3.67, 3]\n",
    "lista"
   ]
  },
  {
   "cell_type": "markdown",
   "metadata": {},
   "source": [
    "#### Propiedades:\n",
    "\n",
    "1. Mantienen el orden en el que han sido definidas.\n",
    "\n",
    "2. Pueden ser formadas por tipos arbitrarios de objetos.\n",
    "3. Pueden ser indexadas mediante [i].\n",
    "4. Se pueden anidar, es decir, meter una ta lisdentro de la otra.\n",
    "5. Son mutables, ya que sus elementos pueden ser modificados.\n",
    "6. Son dinámicas, ya que se pueden añadir o eliminar elementos.\n",
    "\n",
    "${\\it Comentarios:}$\n",
    "\n",
    "- Para convertir a tipos listas debe usar la función `list()`.\n",
    "\n",
    "- La función `len()` devuelve la longitud de la lista (su cantidad de elementos).\n",
    "\n",
    "- Los elementos de una lista pueden accederse mediante su índice, siendo `0` el índice del primer elemento. En otros lenguajes como Mathematica/Fortran la primera posición es `1`.\n",
    "\n",
    "- Los índices de una lista inicia en `0` hasta el tamaño de la lista menos uno (`len(factura) - 1`).\n",
    "\n",
    "- Pueden usarse también índices negativos. Lo que implicará que contará de atras hacia adelante, siendo `-1` el último elemento y `-len()` el primer elemento."
   ]
  },
  {
   "cell_type": "code",
   "execution_count": null,
   "metadata": {},
   "outputs": [],
   "source": [
    "lista = list(\"1234\")  # noten que ocurre\n",
    "print(lista)\n",
    "print(len(lista))"
   ]
  },
  {
   "cell_type": "code",
   "execution_count": null,
   "metadata": {},
   "outputs": [],
   "source": [
    "# Ejemplo\n",
    "factura = ['pan', 'huevos', [100, 129], 1234., True]  # lista\n",
    "\n",
    "print(factura[-4], factura[2][1])  # elementos particulares de la lista"
   ]
  },
  {
   "cell_type": "code",
   "execution_count": null,
   "metadata": {},
   "outputs": [],
   "source": [
    "factura[1] = \"carne\"  # A través de los índices, pueden cambiarse los elementos de una lista en el lugar.\n",
    "factura"
   ]
  },
  {
   "cell_type": "markdown",
   "metadata": {},
   "source": [
    "* También es posible seleccionar una porción de la lista, indicando (opcionalmente) desde el índice de inicio hasta el índice de fin (el cual no se incluye):"
   ]
  },
  {
   "cell_type": "code",
   "execution_count": 19,
   "metadata": {},
   "outputs": [
    {
     "name": "stdout",
     "output_type": "stream",
     "text": [
      "la longitud de la lista es:  5\n",
      "\n",
      "[15, 2.8, 'otro dato']\n",
      "\n",
      "[15, 2.8, 'otro dato', 25]\n",
      "\n",
      "['cadena de texto', 2.8, 25]\n"
     ]
    }
   ],
   "source": [
    "mi_lista = ['cadena de texto', 15, 2.8, 'otro dato', 25]  # notar que la lista lleva [ ]\n",
    "\n",
    "print('la longitud de la lista es: ', len(mi_lista))\n",
    "print()\n",
    "print(mi_lista[1:4])  # notar que no incluye la posición 4, que equivale a 25\n",
    "print()\n",
    "print(mi_lista[1:5])  # imprimiento del índice 1 (posición 2) hasta el índice 5 (sin incluirlo)\n",
    "print()\n",
    "print(mi_lista[ : :2])  \n",
    "# notar que cuando comienzas en el cero no es necesario especificarlo, tampoco el final si llegas hasta el último\n",
    "# el salto se hace de dos en dos, incluyendo donde 'cae'"
   ]
  },
  {
   "cell_type": "markdown",
   "metadata": {},
   "source": [
    "#### Listas anidadas\n",
    "\n",
    "Una lista anidada puede tener en cada elemento otra lista y así sucesivamente."
   ]
  },
  {
   "cell_type": "code",
   "execution_count": 23,
   "metadata": {},
   "outputs": [],
   "source": [
    "mi_lista_comp = [['hola', 'adios'], [1, 2, 3], [True, False]]"
   ]
  },
  {
   "cell_type": "markdown",
   "metadata": {},
   "source": [
    "Para acceder a un elemento de la lista compuesta hemos de usar sus índices accediendo capa por capa mediante [ ]"
   ]
  },
  {
   "cell_type": "code",
   "execution_count": null,
   "metadata": {},
   "outputs": [],
   "source": [
    "print(mi_lista_comp[0])  # primer elemento de la lista raiz\n",
    "print(mi_lista_comp[0][0])  # primer elemento de la primea lista y segunda lista\n",
    "print(mi_lista_comp[1][1:])  # segundo elemento de la primea lista, y del segundo al final de la segunfa"
   ]
  },
  {
   "cell_type": "markdown",
   "metadata": {},
   "source": [
    "#### Operaciones algebráicas\n",
    "\n",
    "- suma\n",
    "\n",
    "- multiplicación"
   ]
  },
  {
   "cell_type": "code",
   "execution_count": null,
   "metadata": {},
   "outputs": [],
   "source": [
    "lista = [1, 2, 3, 4]\n",
    "\n",
    "# una lista cuando se suma se concatena\n",
    "print(lista+lista)\n",
    "print()\n",
    "\n",
    "# una lista cuando se multiplica por un entero, se repite el número de veces correspondientes al entero\n",
    "print(lista*3)"
   ]
  },
  {
   "cell_type": "markdown",
   "metadata": {},
   "source": [
    "#### Métodos\n",
    "El el objeto de tipo lista integra una serie de métodos integrados a continuación:\n",
    "\n",
    "- `append()`. Este método agrega un elemento al final de una lista.\n",
    "\n",
    "- `count()`. Este método recibe un elemento como argumento, y cuenta la cantidad de veces que aparece en la lista.\n",
    "- `extend()`. Este método extiende una lista agregando un iterable al final.\n",
    "- `insert()`. Este método inserta el elemento x en la lista, en el índice i. \n",
    "- `pop()`. Este método devuelve el último elemento de la lista, y lo borra de la misma. Opcionalmente puede recibir un argumento numérico, que funciona como índice del elemento (por defecto, -1).\n",
    "- `reverse()`. Este método invierte el orden de los elementos de una lista y lo guarda en la misma lista.\n",
    "- `sort()`. Este método ordena los elementos de una lista y lo guarda en la misma lista. El método `sort()` admite la opción reverse, por defecto, con valor `False`. De tener valor `True`, el ordenamiento se hace en sentido inverso."
   ]
  },
  {
   "cell_type": "code",
   "execution_count": null,
   "metadata": {},
   "outputs": [],
   "source": [
    "versiones_phone = [2.5, 3.6, 4, 5]\n",
    "versiones_phone.append([4,8])  # [6,8] ver diferencia con extend\n",
    "\n",
    "print(versiones_phone)"
   ]
  },
  {
   "cell_type": "code",
   "execution_count": null,
   "metadata": {},
   "outputs": [],
   "source": [
    "versiones_phone = [2.1, 2.5, 3.6, 4, 5, 6]\n",
    "print(\"6 ->\", versiones_phone.count(6))\n",
    "print(\"5 ->\", versiones_phone.count(5))\n",
    "print(\"2.5 ->\", versiones_phone.count(2.5))"
   ]
  },
  {
   "cell_type": "code",
   "execution_count": null,
   "metadata": {},
   "outputs": [],
   "source": [
    "versiones_phone = [2.1, 2.5, 3.6]\n",
    "\n",
    "versiones_phone.extend([4, 8])\n",
    "print(versiones_phone)\n",
    "\n",
    "print()\n",
    "versiones_phone.extend(range(5,11))\n",
    "print(versiones_phone)"
   ]
  },
  {
   "cell_type": "code",
   "execution_count": null,
   "metadata": {},
   "outputs": [],
   "source": [
    "versiones_plone = [2.1, 2.5, 3.6, 4, 5, 6]\n",
    "\n",
    "versiones_plone.insert(2, 'Hola')  # en índice 2 inserta el 3.7\n",
    "print(versiones_plone)"
   ]
  },
  {
   "cell_type": "code",
   "execution_count": null,
   "metadata": {},
   "outputs": [],
   "source": [
    "versiones_plone = [2.1, 2.5, 3.6, 4, 5, 6]\n",
    "versiones_plone2 = [2.1, 2.5, 3.6, 4, 5, 6]\n",
    "\n",
    "print(versiones_plone.pop())\n",
    "print(versiones_plone2.pop(-2))\n",
    "print()\n",
    "\n",
    "print(versiones_plone)\n",
    "print(versiones_plone2)"
   ]
  },
  {
   "cell_type": "code",
   "execution_count": null,
   "metadata": {},
   "outputs": [],
   "source": [
    "versiones_plone = [2.1, 2.5, 3.6, 4, 5, 6]\n",
    "print(versiones_plone)\n",
    "\n",
    "versiones_plone.reverse()\n",
    "print (versiones_plone)"
   ]
  },
  {
   "cell_type": "code",
   "execution_count": null,
   "metadata": {},
   "outputs": [],
   "source": [
    "versiones_plone = [4, 2.5, 5, 3.6, 2.1, 6]\n",
    "versiones_plone2 = ['a', 'z', 'r', 'k']\n",
    "versiones_plone3 = versiones_plone+versiones_plone2\n",
    "\n",
    "versiones_plone.sort()  # notar que reescribe la lista original\n",
    "print(versiones_plone)\n",
    "print()\n",
    "\n",
    "versiones_plone2.sort(reverse=True)  # notar que organiza alfabéticamente\n",
    "print(versiones_plone2)\n",
    "print()\n",
    "\n",
    "versiones_plone3.sort()  # no soporta str y números\n",
    "print(versiones_plone3)"
   ]
  },
  {
   "cell_type": "markdown",
   "metadata": {},
   "source": [
    "- `index()`. Este método recibe un elemento como argumento, y devuelve el índice de su primera aparición en la lista. El método admite como argumento adicional un índice inicial a partir de donde comenzar la búsqueda, opcionalmente también el índice final. El método devuelve un excepción ValueError si el elemento no se encuentra en la lista, o en el entorno definido.\n",
    "\n",
    "- `remove()`. Este método recibe como argumento un elemento, y borra su primera aparición en la lista. El método devuelve un excepción ValueError si el elemento no se encuentra en la lista."
   ]
  },
  {
   "cell_type": "code",
   "execution_count": null,
   "metadata": {},
   "outputs": [],
   "source": [
    "versiones_plone = [2.1, 4, 3.6, 4, 5, 6, 4]\n",
    "print(versiones_plone.index(4))  # devuelve el índice de donde está el 4\n",
    "print()\n",
    "\n",
    "print(versiones_plone.index(4, 2))  # se empieza a buscar desde el índice 2 (inlcuyendolo)\n",
    "\n",
    "#print(versiones_plone.index(9))  # mensaje cuando no se encuentra"
   ]
  },
  {
   "cell_type": "code",
   "execution_count": null,
   "metadata": {},
   "outputs": [],
   "source": [
    "versiones_plone = [2.1, 2.5, 3.6, 4, 5, 6]\n",
    "versiones_plone.remove(2.5)\n",
    "\n",
    "print(versiones_plone)  # notar que reescribe la lista\n",
    "\n",
    "print(versiones_plone.remove(4))"
   ]
  },
  {
   "cell_type": "code",
   "execution_count": null,
   "metadata": {},
   "outputs": [],
   "source": [
    "# ¿cómo se aplicarían a las listas compuestas?\n",
    "\n",
    "# Ejemplo\n",
    "lista_example = [1, 2, 3, [0, 4, 5], [3, 5]]\n",
    "lista_example[3].append(4)"
   ]
  },
  {
   "cell_type": "markdown",
   "metadata": {},
   "source": [
    "#### Iteración de listas"
   ]
  },
  {
   "cell_type": "markdown",
   "metadata": {},
   "source": [
    "En Python es muy fácil iterar una lista, veamos:"
   ]
  },
  {
   "cell_type": "code",
   "execution_count": null,
   "metadata": {},
   "outputs": [],
   "source": [
    "lista = [5, 9, 10]\n",
    "for l in lista:  # noten como la variable l ''toma'' ordenadamente en cada iteración los elementos de la lista\n",
    "    print(l)"
   ]
  },
  {
   "cell_type": "code",
   "execution_count": null,
   "metadata": {},
   "outputs": [],
   "source": [
    "lista = [5, 9, 10]\n",
    "for index, l in enumerate(lista):  # en caso de necesitarse los índices podemos usar enumerate. Noten como se puede hace una asignación múltiple\n",
    "    print(index, l)"
   ]
  },
  {
   "cell_type": "code",
   "execution_count": null,
   "metadata": {},
   "outputs": [],
   "source": [
    "lista1 = [5, 9, 10]\n",
    "lista2 = [\"Jazz\", \"Rock\", \"Djent\"]\n",
    "for l1, l2 in zip(lista1, lista2):  # Si tenemos dos listas y las queremos iterar a la vez usamos zip\n",
    "    print(l1, l2)"
   ]
  },
  {
   "cell_type": "code",
   "execution_count": null,
   "metadata": {},
   "outputs": [],
   "source": [
    "lista1 = [5, 9, 10]\n",
    "for i in range(0, len(lista)):  # si queremos hacer la iteración de la forma ''clasica'' usamos range\n",
    "    print(lista1[i])"
   ]
  },
  {
   "cell_type": "markdown",
   "metadata": {},
   "source": [
    "**Comentarios sobre los comandos utilizados** (para más detalles consultar la ayuda p.ej. ?enumerate)\n",
    "\n",
    "- `enumerate`: enumerate(iterable, start=0), crea un objeto donde a cada elemento de ''iterable'' le asigna un número comenzando en el valor ''start''.\n",
    "\n",
    "- `zip`: crea un objeto donde el i-ésimo elemento de cada tupla proviene del i-ésimo argumento iterable de zip(). Esto continúa hasta que se agota el argumento más corto.\n",
    "\n",
    "- `range`: range(stop) or range(start, stop[, step]), crea un objeto donde los elementos son i, i+1, i+2, ..., j-1. Notar que start=0 por defecto."
   ]
  },
  {
   "cell_type": "code",
   "execution_count": 32,
   "metadata": {},
   "outputs": [
    {
     "name": "stdout",
     "output_type": "stream",
     "text": [
      "<enumerate object at 0x10cecf330>\n",
      "[('a', 0, 0), ('b', 1, 1), ('c', 0, 2)]\n"
     ]
    }
   ],
   "source": [
    "# ejemplo\n",
    "string_1 = 'abcdefg'\n",
    "lista_1 = [0, 1, 0]\n",
    "range_1 = range(4)\n",
    "\n",
    "sal_1 = enumerate(string_1)\n",
    "#sal_1 = list(sal_1)\n",
    "print(sal_1)\n",
    "\n",
    "sal_2 = list(zip(string_1, lista_1, range_1))\n",
    "print(sal_2)"
   ]
  },
  {
   "cell_type": "code",
   "execution_count": 40,
   "metadata": {},
   "outputs": [
    {
     "name": "stdout",
     "output_type": "stream",
     "text": [
      "Python True\n"
     ]
    }
   ],
   "source": [
    "# asignaciones múltiples\n",
    "lista = [\"Python\", True, \"Zope\", 5]\n",
    "\n",
    "a, b, _, _ = lista  # explicar que significa _\n",
    "\n",
    "print(a, b)"
   ]
  },
  {
   "cell_type": "code",
   "execution_count": null,
   "metadata": {},
   "outputs": [],
   "source": []
  },
  {
   "cell_type": "markdown",
   "metadata": {},
   "source": [
    "### Tuple (Tuplas)\n",
    "\n",
    "Las tuplas son objetos de tipo secuencia, específicamente es un tipo de dato lista `inmutable`. Esta no puede modificarse de ningún modo después de ser declarada. En dependencia de las operaciones a realizar las tuplas son más rápidas que las listas.\n",
    "\n",
    "Para inicializar una tupla se usa paréntesis `()` o `tuple()`."
   ]
  },
  {
   "cell_type": "code",
   "execution_count": null,
   "metadata": {},
   "outputs": [],
   "source": [
    "mi_tupla = (\"Python\", True, \"Zope\", 5)  # simple\n",
    "mi_tupla_1 = ((1, 2), (4, 5))  # anidada \n",
    "mi_tupla_2 = (1, )  # de un solo elemento\n",
    "\n",
    "print(mi_tupla[0])\n",
    "print(mi_tupla_1[0][1])\n",
    "\n",
    "# mi_tupla[0] = 1  # Error! TypeError :pq las tuplas son inmutable, es decir, no se pueden modificar "
   ]
  },
  {
   "cell_type": "markdown",
   "metadata": {},
   "source": [
    "#### Métodos\n",
    "\n",
    "Son muy similares a las listas y comparten varias de sus funciones y métodos integrados, aunque su principal diferencia es que son `inmutables`, por eso comandos como `append`, etc. no son válidos\n",
    "\n",
    "- `count()`. Este método recibe un elemento como argumento, y cuenta la cantidad de veces que aparece en la lista.\n",
    "\n",
    "- `index()`. Este método recibe un elemento como argumento, y devuelve el índice de su primera aparición en la tupla. El método admite como argumento adicional un índice inicial a partir de donde comenzar la búsqueda, opcionalmente también el índice final. El método devuelve un excepción ValueError si el elemento no se encuentra en la lista, o en el entorno definido."
   ]
  },
  {
   "cell_type": "code",
   "execution_count": 37,
   "metadata": {},
   "outputs": [
    {
     "name": "stdout",
     "output_type": "stream",
     "text": [
      "True -> 1\n",
      "\n",
      "'Zope' -> 2\n",
      "\n",
      "'Zope' -> 3\n"
     ]
    }
   ],
   "source": [
    "valores = (\"Python\", True, \"Zope\", 5,  \"Zope\")\n",
    "print(\"True ->\", valores.count(True))\n",
    "print()\n",
    "\n",
    "print(\"'Zope' ->\", valores.count('Zope'))\n",
    "print()\n",
    "\n",
    "print(\"'Zope' ->\", valores.index(5))"
   ]
  },
  {
   "cell_type": "markdown",
   "metadata": {},
   "source": [
    "#### Iteración de una tupla\n",
    "\n",
    "Se puede iterar una tupla de la misma forma que se hacía con las listas, así como permite asingnaciones múltiples"
   ]
  },
  {
   "cell_type": "code",
   "execution_count": null,
   "metadata": {},
   "outputs": [],
   "source": []
  },
  {
   "cell_type": "markdown",
   "metadata": {},
   "source": [
    "### Dictionary (Diccionarios)\n",
    "\n",
    "Los diccionarios son una estructura de datos que permite almacenar su contenido en forma de **llave y valor**. Es decir, define una relación uno a uno entre llave y valor. Estos se pueden crear con llaves `{}` separando con una coma cada entrada de la forma `key: value`, o alternativamente usando el constructor `dict()`."
   ]
  },
  {
   "cell_type": "code",
   "execution_count": 54,
   "metadata": {},
   "outputs": [
    {
     "name": "stdout",
     "output_type": "stream",
     "text": [
      "{'clave1': 234, 'clave2': True, 'clave3': 'Valor 1', 'clave4': [1, 2, 3, 4]} \n",
      " {'python': 'hola', 'zope': 2.13, 'plone': 5.1} \n",
      " {'Nombre': 'Sara', 'Edad': 27, 'Documento': 1003882} \n",
      " {'diccionario': {'clave1': 234, 'clave2': True, 'clave3': 'Valor 1', 'clave4': [1, 2, 3, 4]}, 'diccionario_2': {'Nombre': 'Sara', 'Edad': 27, 'Documento': 1003882}}\n"
     ]
    }
   ],
   "source": [
    "# Ejemplos\n",
    "diccionario = {\"clave1\": 234, \"clave2\": True, \"clave3\": \"Valor 1\", \"clave4\": [1,2,3,4]}  # notar como el valor puede ser cualquier objeto\n",
    "diccionario_2 = dict(python='hola', zope=2.13, plone=5.1)  # notar como convierte las variables a string\n",
    "diccionario_3 = dict([('Nombre', 'Sara'), ('Edad', 27), ('Documento', 1003882)])\n",
    "diccionario_4 = {\"diccionario\" : diccionario, \"diccionario_2\" : diccionario_2, \"diccionario_3\" : diccionario_3}  # repetir key ver q pasa\n",
    "\n",
    "print(diccionario, '\\n',  diccionario_2, '\\n', diccionario_3, '\\n', diccionario_4)"
   ]
  },
  {
   "cell_type": "markdown",
   "metadata": {},
   "source": [
    "#### Propiedades\n",
    "\n",
    "- Son dinámicos: se pueden añadir o eliminar elementos.\n",
    "\n",
    "- Son indexados: los elementos del diccionario son accesibles a través del **key**.\n",
    "\n",
    "- Y son anidados: un diccionario puede contener a otro diccionario en su campo value."
   ]
  },
  {
   "cell_type": "markdown",
   "metadata": {},
   "source": [
    "#### Operaciones\n",
    "\n",
    "Los objetos de tipo diccionario permite una serie de operaciones.\n",
    "\n",
    "- Acceder a valor de clave via [key] o `get(key)`. Esta operación le permite acceder a un valor especifico del diccionario mediante su clave.\n",
    "\n",
    "- Asignar valor a clave. Esta operación le permite asignar el valor especifico del diccionario mediante su clave [key].\n",
    "- Iteración `in`. Comprueba si está o no el elemento. Devuelve True si está o False en caso contrario."
   ]
  },
  {
   "cell_type": "code",
   "execution_count": 61,
   "metadata": {},
   "outputs": [
    {
     "name": "stdout",
     "output_type": "stream",
     "text": [
      "hola\n",
      "hola\n",
      "\n",
      " {'python': 'lenguaje', 'zope': 2.13, 'plone': 5.1}\n",
      "\n",
      " {'python': 'lenguaje', 'zope': 2.13, 'plone': 5.1, 'squared': <function <lambda> at 0x10da2d8a0>}\n",
      "\n",
      " El cuadrado de 5.30 es =  28.09\n",
      "\n",
      " Verificando -> False True\n"
     ]
    }
   ],
   "source": [
    "diccionario = dict(python='hola', zope=2.13, plone=5.1)\n",
    "\n",
    "# Accediendo\n",
    "print(diccionario['python'])\n",
    "print(diccionario.get('python'))\n",
    "\n",
    "# Modificando\n",
    "diccionario['python'] = 'lenguaje'  # Modificando el elemento asignado a la key \n",
    "print('\\n', diccionario)\n",
    "\n",
    "diccionario['squared'] = lambda r: r**2   # Añadiendo, note como el key no esta. Ademas le asigno un objeto lambda\n",
    "print('\\n', diccionario)\n",
    "\n",
    "# usando la función lambda\n",
    "valor = 5.3\n",
    "print('\\n El cuadrado de %3.2f es = '%valor, diccionario['squared'](valor))\n",
    "\n",
    "# checking\n",
    "print('\\n Verificando ->', 'phone' in diccionario, 'squared' in diccionario)"
   ]
  },
  {
   "cell_type": "markdown",
   "metadata": {},
   "source": [
    "#### Métodos\n",
    "Los objetos de tipo diccionario integra una serie de métodos. Los fundamentales son:\n",
    "\n",
    "- `clear()`. Este método remueve todos los elementos desde el diccionario.\n",
    "\n",
    "- `copy()`. Este método devuelve una copia superficial del tipo diccionario.\n",
    "- `fromkeys()`. Este método crea un nuevo diccionario con claves a partir de un tipo de dato secuencia. El valor de value por defecto es el tipo `None`.\n",
    "- `get()`. Este método devuelve el valor en base a una coincidencia de búsqueda en un diccionario mediante una clave, de lo contrario devuelve el objeto `None`.\n",
    "- `in`. Este método devuelve el valor True si el diccionario tiene presente el el preámbulo.\n",
    "- `items()`. Este método devuelve una lista de pares de diccionarios (clave, valor), como 2 tuplas.\n",
    "- `keys()`. Este método devuelve una lista de las claves del diccionario.\n",
    "- `pop()`. Este método remueve específicamente una clave de diccionario y devuelve valor correspondiente. Lanza una excepción KeyError si la clave no es encontrada.\n",
    "- `popitem()`. Este método remueve y devuelve algún par (clave, valor) arbitrario del diccionario como una 2 tuplas. Lanza una excepción KeyError si el diccionario esta vació.\n",
    "- `update()`. Este método actualiza un diccionario agregando los pares clave-valores en un segundo diccionario. Este método no devuelve nada. Si se llama a update() sin pasar parámetros, el diccionario permanece sin cambios.\n",
    "- `values()`. Este método devuelve una lista de los valores del diccionario."
   ]
  },
  {
   "cell_type": "code",
   "execution_count": 64,
   "metadata": {},
   "outputs": [
    {
     "name": "stdout",
     "output_type": "stream",
     "text": [
      "{}\n",
      "True\n",
      "{'python': None, 'zope': None, 'plone': None}\n"
     ]
    }
   ],
   "source": [
    "# Ejemplos\n",
    "# clear\n",
    "versiones = dict(python=2.7, zope=2.13, plone=5.1)\n",
    "versiones.clear()\n",
    "print(versiones)\n",
    "\n",
    "# copy\n",
    "versiones = dict(python=2.7, zope=2.13, plone=5.1)\n",
    "otro_versiones = versiones.copy()  # creando una copia\n",
    "print(versiones == otro_versiones)  # verificando si son lo mismo, para eso se usa el operador de comparación '=='\n",
    "\n",
    "# fromkeys\n",
    "secuencia = ('python', 'zope', 'plone')  # lista de llaves\n",
    "versiones = dict.fromkeys(secuencia)  # notar que las asignaciones por default son None\n",
    "print(versiones)"
   ]
  },
  {
   "cell_type": "code",
   "execution_count": 67,
   "metadata": {},
   "outputs": [
    {
     "name": "stdout",
     "output_type": "stream",
     "text": [
      "La clave proporcionada no se encontró\n"
     ]
    }
   ],
   "source": [
    "# ejemplo de uso de get y in\n",
    "versiones = dict(python=2.7, zope=2.13, plone=5.1)\n",
    "clave = input('diga una clave')  # input es un comando que permite interactuar con el usuario, y devuelve la entrada como un string\n",
    "\n",
    "if (clave in versiones) is True:  # ==, is, o (clave in versiones) solo pues regresa un bool\n",
    "    print('Resultado ->', versiones[clave])\n",
    "else:\n",
    "    print('La clave proporcionada no se encontró')"
   ]
  },
  {
   "cell_type": "code",
   "execution_count": 73,
   "metadata": {},
   "outputs": [
    {
     "name": "stdout",
     "output_type": "stream",
     "text": [
      "dict_items([('python', 2.7), ('zope', 2.13), ('plone', 5.1)])\n",
      "dict_keys(['python', 'zope', 'plone'])\n",
      "dict_values([2.7, 2.13, 5.1])\n",
      "2.13\n",
      "Nueva version -> {'python': 2.7, 'plone': 5.1}\n"
     ]
    }
   ],
   "source": [
    "# items, keys, values, pop\n",
    "versiones = dict(python=2.7, zope=2.13, plone=5.1)\n",
    "\n",
    "print(versiones.items())\n",
    "print(versiones.keys())  # da las keys del diccionario\n",
    "print(versiones.values())  # da los valores del diccionario\n",
    "print(versiones.pop('zope'))  # elimina el key y valor dado del diccionario e imprime el valor \n",
    "print('Nueva version ->', versiones)"
   ]
  },
  {
   "cell_type": "code",
   "execution_count": 75,
   "metadata": {},
   "outputs": [
    {
     "name": "stdout",
     "output_type": "stream",
     "text": [
      "dict_keys(['python', 'zope', 'plone'])\n",
      "['python', 'zope', 'plone']\n"
     ]
    }
   ],
   "source": [
    "# Algunos comentarios antes de seguir\n",
    "# Noten la salida de keys, y values, ambos son un objeto tipo dict_, si quisieramos utilizarlos tendriamos\n",
    "# que convertirlos a lista por ejemplo\n",
    "versiones = dict(python=2.7, zope=2.13, plone=5.1)\n",
    "llaves, valores = versiones.keys(), versiones.values()\n",
    "print(llaves)  # aplica igual con valores\n",
    "print(list(llaves))"
   ]
  },
  {
   "cell_type": "code",
   "execution_count": 78,
   "metadata": {},
   "outputs": [
    {
     "name": "stdout",
     "output_type": "stream",
     "text": [
      "2.13\n",
      "1\n"
     ]
    }
   ],
   "source": [
    "# Al usar pop se elimina el elemento, sin embargo, si la llave no aparece arroja error a menos que se especifique un valor para la salida.\n",
    "# veamos\n",
    "versiones = dict(python=2.7, zope=2.13, plone=5.1)\n",
    "print(versiones.pop('zope')) \n",
    "print(versiones.pop('zope', 1))  # lanza el error cuando no lo encuentra\n",
    "# print(versiones.pop('zope', 1))  # no lanza el error cuando no lo encuentra"
   ]
  },
  {
   "cell_type": "code",
   "execution_count": 79,
   "metadata": {},
   "outputs": [
    {
     "name": "stdout",
     "output_type": "stream",
     "text": [
      "('plone', 5.1)\n",
      "{'python': 2.7, 'zope': 2.13}\n"
     ]
    }
   ],
   "source": [
    "# popitem\n",
    "versiones = dict(python=2.7, zope=2.13, plone=5.1)\n",
    "print(versiones.popitem())  # elimina uno aleatorio\n",
    "print(versiones)\n"
   ]
  },
  {
   "cell_type": "code",
   "execution_count": 80,
   "metadata": {},
   "outputs": [
    {
     "name": "stdout",
     "output_type": "stream",
     "text": [
      "{'python': 0, 'zope': 2.13, 'plone': 5.1, 'django': 2.1}\n"
     ]
    }
   ],
   "source": [
    "# update\n",
    "versiones = dict(python=2.7, zope=2.13, plone=5.1)\n",
    "versiones_adicional = dict(python=0, django=2.1)\n",
    "\n",
    "versiones.update(versiones_adicional)  # actualiza el diccionario versiones. Notar que se añade django pq no estaba\n",
    "\n",
    "print(versiones)"
   ]
  },
  {
   "cell_type": "markdown",
   "metadata": {},
   "source": [
    "#### Funciones\n",
    "Los objetos de tipo diccionario tienen disponibles una serie de funciones.\n",
    "- `len()`. Esta función es la misma función conocida len().\n",
    "\n",
    "- `del`. Esta sentencia es la misma sentencia que vimos."
   ]
  },
  {
   "cell_type": "code",
   "execution_count": null,
   "metadata": {},
   "outputs": [],
   "source": [
    "versiones = dict(python=2.7, zope=2.13, plone=5.1, x=[1,2,2])\n",
    "print(len(versiones))\n",
    "\n",
    "del versiones['zope']\n",
    "print(versiones)"
   ]
  },
  {
   "cell_type": "markdown",
   "metadata": {},
   "source": [
    "#### Iteración de un diccionario\n",
    "\n",
    "Los diccionarios se pueden iterar de manera muy similar a las estructuras de datos que hemos vistos"
   ]
  },
  {
   "cell_type": "code",
   "execution_count": 81,
   "metadata": {},
   "outputs": [
    {
     "name": "stdout",
     "output_type": "stream",
     "text": [
      "python\n",
      "zope\n",
      "plone\n",
      "x\n",
      "\n",
      "2.7\n",
      "2.13\n",
      "5.1\n",
      "[1, 2, 2]\n",
      "\n",
      "python 2.7\n",
      "zope 2.13\n",
      "plone 5.1\n",
      "x [1, 2, 2]\n"
     ]
    }
   ],
   "source": [
    "# Ejemplos\n",
    "versiones = dict(python=2.7, zope=2.13, plone=5.1, x=[1,2,2])\n",
    "\n",
    "# Imprime los key del diccionario\n",
    "for i in versiones:\n",
    "    print(i)\n",
    " \n",
    "print()    \n",
    "   \n",
    "# Imprime los value del diccionario\n",
    "for x in versiones:\n",
    "    print(versiones[x])\n",
    "\n",
    "print()    \n",
    "\n",
    "# Imprime los key y value del diccionario\n",
    "for x, y in versiones.items():\n",
    "    print(x, y)"
   ]
  },
  {
   "cell_type": "code",
   "execution_count": null,
   "metadata": {},
   "outputs": [],
   "source": []
  },
  {
   "cell_type": "markdown",
   "metadata": {},
   "source": [
    "### Set (conjuntos)\n",
    "Los set son un tipo de objeto que permite almacenar varios elementos y acceder a ellos de una forma muy similar a las listas. Su uso es muy similar a ciertos conceptos de la teoría de conjuntos. Sin embargo, una diferencia entre los `set` y las `list` es que en los primeros no podemos modificar un elemento a través de su índice. Si lo intentamos, tendremos un `TypeError`, esto ocurre pq sus elementos son inmutables.\n",
    "\n",
    "<img src= \"capturas/tabla5.png\">\n",
    "\n",
    "Resumen:\n",
    "\n",
    "* Los elementos de un set son único, no hay elementos duplicados (como ocurre en los conjuntos).\n",
    "* Los set son desordenados, lo que significa que no mantienen el orden de cuando son declarados.\n",
    "* Sus elementos deben ser inmutables (no hay listas, etc.).\n",
    "\n",
    "Para crear un set se puede usar el constructor `set()` (`frozenset()`) dándole como argumento cualquier tipo iterable, como puede ser una lista, o puede escribirse los elementos entre llaves `{}`. IMPORTANTE, a diferencia de los diccionarios no se define un par (key, value)."
   ]
  },
  {
   "cell_type": "code",
   "execution_count": 90,
   "metadata": {},
   "outputs": [
    {
     "name": "stdout",
     "output_type": "stream",
     "text": [
      "{1, 4, 5, 6, 8}\n",
      "<class 'set'>\n",
      "\n",
      "{1, 4, 5, 6, 8}\n",
      "<class 'set'>\n",
      "\n",
      "{'a', 'n', 'B'}\n",
      "<class 'set'>\n"
     ]
    }
   ],
   "source": [
    "# Ejemplos\n",
    "\n",
    "s1 = set([5, 4, 4, 6, 8, 8, 1])\n",
    "print(s1)\n",
    "print(type(s1))\n",
    "print()\n",
    "\n",
    "s2 = {5, 4, 4, 6, 8, 8, 1}  # {1024, 0, 1, 2, -1, -2, -3, -4}  # {'b', 1, 'a', '5', 6}\n",
    "print(s2)\n",
    "print(type(s2))\n",
    "print()\n",
    "\n",
    "s3 = set(\"Banana\")\n",
    "print(s3)\n",
    "print(type(s3))\n",
    "\n",
    "# Notar que los elementos duplicados no se incluyen y se pierde el orden dado.\n",
    "# set NO tiene establecido una forma de ''ordenar'' los elementos de entrada, \n",
    "# El orden mostrado puede cambiar según la versión del interprete, en ocasiones\n",
    "# se ordenan los valores positivos de menor a mayor pq es la forma más rápida y eficiente\n",
    "# pero esto puede cambiar en dependencia del interprete, etc. (ver ejemplos comentados)"
   ]
  },
  {
   "cell_type": "code",
   "execution_count": 88,
   "metadata": {},
   "outputs": [
    {
     "ename": "TypeError",
     "evalue": "'set' object does not support item assignment",
     "output_type": "error",
     "traceback": [
      "\u001b[0;31m---------------------------------------------------------------------------\u001b[0m",
      "\u001b[0;31mTypeError\u001b[0m                                 Traceback (most recent call last)",
      "Cell \u001b[0;32mIn[88], line 2\u001b[0m\n\u001b[1;32m      1\u001b[0m s \u001b[38;5;241m=\u001b[39m \u001b[38;5;28mset\u001b[39m([\u001b[38;5;241m5\u001b[39m, \u001b[38;5;241m6\u001b[39m, \u001b[38;5;241m7\u001b[39m, \u001b[38;5;241m8\u001b[39m])\n\u001b[0;32m----> 2\u001b[0m s[\u001b[38;5;241m0\u001b[39m] \u001b[38;5;241m=\u001b[39m \u001b[38;5;241m3\u001b[39m\n",
      "\u001b[0;31mTypeError\u001b[0m: 'set' object does not support item assignment"
     ]
    }
   ],
   "source": [
    "# Ejemplos no válidos\n",
    "\n",
    "s = set([5, 6, 7, 8])\n",
    "s[0] = 3  # no podemos modificar un elemento que es inmutable"
   ]
  },
  {
   "cell_type": "code",
   "execution_count": 89,
   "metadata": {},
   "outputs": [
    {
     "ename": "TypeError",
     "evalue": "unhashable type: 'list'",
     "output_type": "error",
     "traceback": [
      "\u001b[0;31m---------------------------------------------------------------------------\u001b[0m",
      "\u001b[0;31mTypeError\u001b[0m                                 Traceback (most recent call last)",
      "Cell \u001b[0;32mIn[89], line 2\u001b[0m\n\u001b[1;32m      1\u001b[0m lista \u001b[38;5;241m=\u001b[39m [\u001b[38;5;124m\"\u001b[39m\u001b[38;5;124mPerú\u001b[39m\u001b[38;5;124m\"\u001b[39m, \u001b[38;5;124m\"\u001b[39m\u001b[38;5;124mArgentina\u001b[39m\u001b[38;5;124m\"\u001b[39m]\n\u001b[0;32m----> 2\u001b[0m s \u001b[38;5;241m=\u001b[39m \u001b[38;5;28mset\u001b[39m([\u001b[38;5;124m\"\u001b[39m\u001b[38;5;124mMéxico\u001b[39m\u001b[38;5;124m\"\u001b[39m, \u001b[38;5;124m\"\u001b[39m\u001b[38;5;124mEspaña\u001b[39m\u001b[38;5;124m\"\u001b[39m, lista])\n",
      "\u001b[0;31mTypeError\u001b[0m: unhashable type: 'list'"
     ]
    }
   ],
   "source": [
    "lista = [\"Perú\", \"Argentina\"]\n",
    "s = set([\"México\", \"España\", lista])  # deben ser inmutables"
   ]
  },
  {
   "cell_type": "markdown",
   "metadata": {},
   "source": [
    "#### Métodos\n",
    "A continuación mostramos los métodos que son válidos para los set y frozenset. Téngase presente que debido a que los segundo no son mutables los métodos que modifican el conjunto no son válidos en este tipo de objetos:\n",
    "\n",
    "- `add()`. Este método agrega un elemento a un conjunto mutable. Esto no tiene efecto si el elemento ya esta presente.\n",
    "\n",
    "- `clear()`. Este método remueve todos los elementos desde este conjunto mutable.\n",
    "- `copy()`. Este método devuelve una copia superficial del tipo conjunto mutable o conjunto inmutable.\n",
    "- `remove()`. Este método busca y remueve un elemento de un conjunto mutable, **si debe ser un miembro**.\n",
    "- `discard()`. Este método remueve un elemento desde un conjunto mutable si esta presente. El conjunto mutable permanece sin cambio si el elemento pasado como argumento al método discard() no existe.\n",
    "- `update()`. Este método agrega elementos desde un conjunto mutable (pasado como un argumento) un tipo tupla, un tipo lista, un tipo diccionario o un tipo conjunto mutable llamado con el método update().\n",
    "- `union()`. Este método devuelve un conjunto mutable y conjunto inmutable con todos los elementos que están en alguno de los conjuntos mutables y conjuntos inmutables.\n",
    "- `intersection()`. Este método devuelve la intersección entre los conjuntos mutables o conjuntos inmutables: todos los elementos que están en ambos.\n",
    "- `difference()`. Este método devuelve la diferencia entre dos conjunto mutable o conjunto inmutable: todos los elementos que están en el primero, pero no en el argumento.\n",
    "-  `isdisjoint()`. Este método devuelve el valor True si no hay elementos comunes entre los conjuntos mutables o conjuntos inmutables.\n",
    "- `issubset()`. Este método devuelve el valor True si el conjunto al que se le aplica el método (conjunto original) es subconjunto del conjunto argumento.\n",
    "- `symmetric_difference()`. Este método devuelve todos los elementos que están en un conjunto mutable e conjunto inmutable u otro, pero no en ambos.\n",
    "\n",
    "${\\it Comentario:}$ existen otros como por ejemplo: `issuperset()`, `intersection_update()`, `difference_update()`, `symmetric_difference_update()` que pueden ser obtenido también usando los anteriormente comentados.\n"
   ]
  },
  {
   "cell_type": "code",
   "execution_count": null,
   "metadata": {},
   "outputs": [],
   "source": [
    "# add\n",
    "set_mutable1 = set([4, 3, 11, 7, 5, 2, 1, 4])\n",
    "set_mutable1.add(22)\n",
    "print(set_mutable1)\n",
    "\n",
    "print()\n",
    "\n",
    "# clear\n",
    "set_mutable1.clear()\n",
    "print(set_mutable1)"
   ]
  },
  {
   "cell_type": "code",
   "execution_count": 91,
   "metadata": {},
   "outputs": [
    {
     "ename": "AttributeError",
     "evalue": "'frozenset' object has no attribute 'add'",
     "output_type": "error",
     "traceback": [
      "\u001b[0;31m---------------------------------------------------------------------------\u001b[0m",
      "\u001b[0;31mAttributeError\u001b[0m                            Traceback (most recent call last)",
      "Cell \u001b[0;32mIn[91], line 2\u001b[0m\n\u001b[1;32m      1\u001b[0m set_mutable1 \u001b[38;5;241m=\u001b[39m \u001b[38;5;28mfrozenset\u001b[39m([\u001b[38;5;241m4\u001b[39m, \u001b[38;5;241m3\u001b[39m, \u001b[38;5;241m11\u001b[39m, \u001b[38;5;241m7\u001b[39m, \u001b[38;5;241m5\u001b[39m, \u001b[38;5;241m2\u001b[39m, \u001b[38;5;241m1\u001b[39m, \u001b[38;5;241m4\u001b[39m])\n\u001b[0;32m----> 2\u001b[0m set_mutable1\u001b[38;5;241m.\u001b[39madd(\u001b[38;5;241m22\u001b[39m)\n",
      "\u001b[0;31mAttributeError\u001b[0m: 'frozenset' object has no attribute 'add'"
     ]
    }
   ],
   "source": [
    "# add no es válido en frozenset\n",
    "set_mutable1 = frozenset([4, 3, 11, 7, 5, 2, 1, 4])\n",
    "set_mutable1.add(22)"
   ]
  },
  {
   "cell_type": "code",
   "execution_count": 93,
   "metadata": {},
   "outputs": [
    {
     "name": "stdout",
     "output_type": "stream",
     "text": [
      "True\n"
     ]
    }
   ],
   "source": [
    "# copy\n",
    "set_mutable = set([4.0, 'Carro', True])\n",
    "otro_set_mutable = set_mutable.copy()\n",
    "print(set_mutable == otro_set_mutable)\n",
    "\n",
    "# remove\n",
    "paquetes = {'python', 'zope', 'plone', 'django'}\n",
    "paquetes.remove('django')\n",
    "print(paquetes)\n",
    "\n",
    "# discard\n",
    "paquetes = {'python', 'zope', 'plone', 'django'}\n",
    "paquetes.discard('django')\n",
    "print(paquetes)\n",
    "# ¿Cuál es la diferencia entre remove y discard?"
   ]
  },
  {
   "cell_type": "code",
   "execution_count": 101,
   "metadata": {},
   "outputs": [
    {
     "name": "stdout",
     "output_type": "stream",
     "text": [
      "##########\n"
     ]
    },
    {
     "ename": "KeyError",
     "evalue": "'a'",
     "output_type": "error",
     "traceback": [
      "\u001b[0;31m---------------------------------------------------------------------------\u001b[0m",
      "\u001b[0;31mKeyError\u001b[0m                                  Traceback (most recent call last)",
      "Cell \u001b[0;32mIn[101], line 5\u001b[0m\n\u001b[1;32m      3\u001b[0m paquetes\u001b[38;5;241m.\u001b[39mdiscard(\u001b[38;5;124m'\u001b[39m\u001b[38;5;124ma\u001b[39m\u001b[38;5;124m'\u001b[39m)\n\u001b[1;32m      4\u001b[0m \u001b[38;5;28mprint\u001b[39m(\u001b[38;5;124m'\u001b[39m\u001b[38;5;124m#\u001b[39m\u001b[38;5;124m'\u001b[39m\u001b[38;5;241m*\u001b[39m\u001b[38;5;241m10\u001b[39m)\n\u001b[0;32m----> 5\u001b[0m paquetes\u001b[38;5;241m.\u001b[39mremove(\u001b[38;5;124m'\u001b[39m\u001b[38;5;124ma\u001b[39m\u001b[38;5;124m'\u001b[39m)\n",
      "\u001b[0;31mKeyError\u001b[0m: 'a'"
     ]
    }
   ],
   "source": [
    "# Ejemplo\n",
    "paquetes = {'python', 'zope', 'plone', 'django'}\n",
    "paquetes.discard('a')  # no da error\n",
    "print('#'*10)\n",
    "paquetes.remove('a')  # debe pertenecer al conjunto sino da error"
   ]
  },
  {
   "cell_type": "code",
   "execution_count": 112,
   "metadata": {},
   "outputs": [
    {
     "name": "stdout",
     "output_type": "stream",
     "text": [
      "{0, 1, 2, 3, 4, 5, 6, 7, 8, 9}\n"
     ]
    }
   ],
   "source": [
    "# update\n",
    "set_mutable1 = set([4, 3, 6, 7, 5, 2, 1, 4])\n",
    "set_mutable2 = set([0, 5, 'a'])  # [0, 5, 'a']\n",
    "set_mutable1.update(set_mutable2)  # actualizando\n",
    "print(set_mutable1)"
   ]
  },
  {
   "cell_type": "code",
   "execution_count": null,
   "metadata": {},
   "outputs": [],
   "source": [
    "# union\n",
    "set_mutable1 = set([4, 3, 11, 7, 5, 2, 1, 4])\n",
    "set_mutable2 = set([11, 5, 9, 2, 4, 8])\n",
    "print(set_mutable1)\n",
    "print(set_mutable1.union(set_mutable2))\n",
    "print()\n",
    "\n",
    "# intersection \n",
    "set_mutable1 = set([4, 3, 11, 7, 5, 2, 1, 4])\n",
    "set_mutable2 = set([11, 5, 9, 2, 4, 8])\n",
    "\n",
    "print(set_mutable1.intersection(set_mutable2))\n",
    "print(set_mutable2.intersection(set_mutable1))\n",
    "# es igual pq es el intercepto"
   ]
  },
  {
   "cell_type": "code",
   "execution_count": 97,
   "metadata": {},
   "outputs": [
    {
     "name": "stdout",
     "output_type": "stream",
     "text": [
      "{1, 3, 7}\n",
      "\n",
      "{1, 3, 7}\n",
      "\n",
      "{8, 9}\n"
     ]
    }
   ],
   "source": [
    "# difference\n",
    "set_mutable1 = set([4, 3, 11, 7, 5, 2, 1, 4])\n",
    "set_mutable2 = set([11, 5, 9, 2, 4, 8])\n",
    "\n",
    "print(set_mutable1.difference(set_mutable2))  # a set_mutable1 le quitamos set_mutable2 A-B = A-(A intercepto B)\n",
    "\n",
    "print()\n",
    "print(set_mutable1 - set_mutable1.intersection(set_mutable2))  # check\n",
    "\n",
    "print()\n",
    "print(set_mutable2.difference(set_mutable1))"
   ]
  },
  {
   "cell_type": "code",
   "execution_count": 100,
   "metadata": {},
   "outputs": [
    {
     "name": "stdout",
     "output_type": "stream",
     "text": [
      "False\n",
      "False\n",
      "True\n"
     ]
    }
   ],
   "source": [
    "# isdisjoint\n",
    "set_mutable1 = set([4, 3, 11, 7, 5, 2, 1, 4])\n",
    "set_mutable2 = set([11, 5, 9, 2, 4, 8])\n",
    "set_mutable3 = {0, 20}\n",
    "\n",
    "print(set_mutable1.isdisjoint(set_mutable2))  # revisa si el intercepto es Nulo: no -> False, si -> True\n",
    "print(len(set_mutable1.intersection(set_mutable2))==0)  # check\n",
    "\n",
    "print(set_mutable1.isdisjoint(set_mutable3))"
   ]
  },
  {
   "cell_type": "code",
   "execution_count": 113,
   "metadata": {},
   "outputs": [
    {
     "name": "stdout",
     "output_type": "stream",
     "text": [
      "{'a', 'A', 'n', 'm', 'r', 'd', 'o'}\n",
      "True\n",
      "\n",
      "False\n"
     ]
    }
   ],
   "source": [
    "# issubset\n",
    "set_mutable1 = set('Armando')  # notar como A y a son dos objetos diferentes\n",
    "set_mutable2 = set(['a', 'd'])\n",
    "set_mutable3 = set(['e'])\n",
    "print(set_mutable1)\n",
    "print()\n",
    "\n",
    "print(set_mutable2.issubset(set_mutable1))  # True pq set_mutable2 es un subconjunto de set_mutable1\n",
    "print(set_mutable3.issubset(set_mutable1))  # Falso pq set_mutable3 no es un subconjunto de set_mutable1"
   ]
  },
  {
   "cell_type": "code",
   "execution_count": 117,
   "metadata": {},
   "outputs": [
    {
     "name": "stdout",
     "output_type": "stream",
     "text": [
      "{1, 3, 7, 8, 9}\n",
      "{1, 3, 7, 8, 9}\n"
     ]
    }
   ],
   "source": [
    "# symmetric_difference\n",
    "set_mutable1 = set([4, 3, 11, 7, 5, 2, 1, 4])\n",
    "set_mutable2 = set([11, 5, 9, 2, 4, 8])\n",
    "\n",
    "print(set_mutable1.symmetric_difference(set_mutable2))\n",
    "# da los elementos de set_mutable1 q no están en set_mutable2 + los elementos de set_mutable2 q no están en set_mutable1\n",
    "\n",
    "# alternativa\n",
    "temp1 = set_mutable1.difference(set_mutable2)\n",
    "temp2 = set_mutable2.difference(set_mutable1)\n",
    "temp1.update(temp2)\n",
    "print(temp1)"
   ]
  },
  {
   "cell_type": "code",
   "execution_count": null,
   "metadata": {},
   "outputs": [],
   "source": []
  },
  {
   "cell_type": "markdown",
   "metadata": {},
   "source": [
    "## Ejercicios en clase o tarea"
   ]
  },
  {
   "cell_type": "markdown",
   "metadata": {},
   "source": [
    "1. Cree un notebook de jupyter donde se realicen las siguientes tareas:\n",
    "    - defina tres variables y a cada una asignele un valor numérico entero, real y complejo respectivamente.\n",
    "    \n",
    "    - usando el operador de asignaciones asignele al número complejo su cuadrado, y al real el resto de la división con el entero.\n",
    "    - limpie la variable entera y asignele la parte compleja del número complejo como un entero\n",
    "    - convierta el número real a booleano y asignarlo a una nueva variable texto en formato string\n",
    "    - imprimir los tres primero caracteres de texto\n",
    "    - imprimir un texto en varias lineas y que presente espacios horizontales\n",
    "    - imprima los primeros 8 dígitos de la raiz de dos. Puede usar % o format. \n",
    "        - Tip: Para obtener la raiz de dos puede usar el paquete numpy mediante:\n",
    "        \n",
    "            import numpy as np\n",
    "            \n",
    "            np.sqrt(2)"
   ]
  },
  {
   "cell_type": "markdown",
   "metadata": {},
   "source": [
    "2. Escribir un programa que tenga almacenado el abecedario y le solicite al usuario un número entero el cual utilizarás para eliminar sus múltiplos del abecedario y devolver la lista resultante.\n",
    "\n",
    "    Ejemplo: In: 2 -> Out: [a, c, e, g, ...]\n",
    "\n",
    "    Tips: use el comando **input** para solicitarle al usuario la información."
   ]
  },
  {
   "cell_type": "code",
   "execution_count": 2,
   "metadata": {},
   "outputs": [],
   "source": [
    "# ejemplo del uso de input\n",
    "var = int(input('Introduzca un número entero'))  # lo que se asigna con input es automaticamente convertido a string\n",
    "print(var)"
   ]
  },
  {
   "cell_type": "markdown",
   "metadata": {},
   "source": [
    "3. Escribir un programa que pida al usuario una palabra y muestre por pantalla si es un palíndromo.\n",
    "\n",
    "    Ejemplo: In: casa -> Out: No es un palíndromo\n",
    "    Ejemplo: In: anilina -> Out: Si es un palídromo"
   ]
  },
  {
   "cell_type": "markdown",
   "metadata": {},
   "source": [
    "4. Escribir un programa que pida al usuario una palabra y muestre por pantalla el número de veces que contiene cada vocal.\n",
    "\n",
    "    Ejemplo: In: casa -> Out: Vocal: a -> Numero de rep: 2 "
   ]
  },
  {
   "cell_type": "markdown",
   "metadata": {},
   "source": [
    "5. Escribir un programa que solicite al usuario dos vectores por ejemplo: $(1,2,3)$ y $(-1,0,2)$ y retorne su producto escalar.\n",
    "\n",
    "    Tip: Recordar que el producto escalar es la suma de los productos de las componente."
   ]
  },
  {
   "cell_type": "markdown",
   "metadata": {},
   "source": [
    "6. Escribir un programa que almacene una matriz dada por el usuario, ejemplo:\n",
    "\n",
    "    <img src= \"capturas/tarea.png\">\n",
    "\n",
    "    y que con estas calcule su producto (programe el producto no use funciones definidas). \n",
    "\n",
    "    Tip: Recordar que para multiplicar dos matrices A*B, las matrices deben tener una dimensión interna común. Es decir, el número de columnas de la primera debe ser igual al número de filas de la segunda. El operador de multiplicación de matriz $R$ calcula el producto de dos matrices con la fórmula, (donde $n$ es el número de columnas de A.)\n",
    "    $$ R_{i j} =\\sum_{k=1}^{n} A_{i k} B_{k j}$$\n",
    "    "
   ]
  },
  {
   "cell_type": "markdown",
   "metadata": {},
   "source": [
    "7. Dada una muestra de números, cree un programa que devuelva su media aritmética y desviación típica.\n",
    "\n",
    "    Tip: Recordar que para una distribución discreta la media aritmética de una muestra completa con $N$ elementos es: $\\mu=\\sum_{i=1}^{N} x_i/N$. Mientras que la desviación estandar es \n",
    "$$\n",
    "s=\\sqrt{\\frac{1}{N}\\sum_{i=1}^{N}(x_i-\\mu)^2}\\equiv \\sqrt{\\frac{\\sum_{i=1}^{N}x_i^{2}}{N}-\\mu^2}.\n",
    "$$|"
   ]
  },
  {
   "cell_type": "markdown",
   "metadata": {},
   "source": [
    "8. Diseñar el algoritmo correspondiente a un programa, que:\n",
    "    - Crea una tabla (lista con dos dimensiones) de $5 \\times 5$ enteros.\n",
    "\n",
    "    - Carga la tabla con valores numéricos enteros.\n",
    "    - Suma todos los elementos de cada fila y todos los elementos de cada columna visualizando los resultados en pantalla."
   ]
  },
  {
   "cell_type": "markdown",
   "metadata": {},
   "source": [
    "9. Escribir un programa que implemente una agenda (Implementar con un diccionario.). En la agenda se podrán guardar nombres y números de teléfono. El programa nos dará el siguiente menú:\n",
    "\n",
    "- Añadir/modificar: Nos pide un nombre. Si el nombre se encuentra en la agenda, debe mostrar el teléfono y, opcionalmente, permitir modificarlo si no es correcto. Si el nombre no se encuentra, debe permitir ingresar el teléfono correspondiente.\n",
    "\n",
    "- Buscar: Nos pide una cadena de caracteres, y nos muestras todos los contactos cuyos nombres comiencen por dicha cadena.\n",
    "- Borrar: Nos pide un nombre y si existe nos preguntará si queremos borrarlo de la agenda.\n",
    "- Listar: Nos muestra todos los contactos de la agenda."
   ]
  },
  {
   "cell_type": "markdown",
   "metadata": {},
   "source": [
    "### Respuestas\n",
    "\n",
    "Ver [Link](https://github.com/Mandy8808/Metodos_Numericos_2024/blob/master/Exercises/Bloque0/TAREAS%20Y%20EJERCICIOS%20BLOQUE%200.pdf)"
   ]
  },
  {
   "cell_type": "code",
   "execution_count": null,
   "metadata": {},
   "outputs": [],
   "source": []
  },
  {
   "cell_type": "markdown",
   "metadata": {},
   "source": [
    "## Condicionales y Bucles (proxima clase) \n",
    "* Condicional if\n",
    "    - Sentencia if\n",
    "    - Sentencia elif\n",
    "    - Sentencia else\n",
    "    - Operador is\n",
    "    - Operador in\n",
    "    - Operador not in\n",
    "    - Expresiones condicional\n",
    "* Operadores lógicos\n",
    "    - Operador and\n",
    "    - Operador or\n",
    "    - Operador not\n",
    "    - Ejemplos\n",
    "* Bucle while\n",
    "    - Tipos de Bucle “while”\n",
    "    - Sentencias utilitarias\n",
    "    - Ejemplos\n",
    "* Bucle for\n",
    "    - Tipos de Bucle “for”\n",
    "* Iteradores\n",
    "    - Iteradores y secuencias\n",
    "    - Iteradores y conjuntos\n",
    "    - Iteradores y mapeos"
   ]
  },
  {
   "cell_type": "markdown",
   "metadata": {},
   "source": [
    "#"
   ]
  }
 ],
 "metadata": {
  "kernelspec": {
   "display_name": "base",
   "language": "python",
   "name": "python3"
  },
  "language_info": {
   "codemirror_mode": {
    "name": "ipython",
    "version": 3
   },
   "file_extension": ".py",
   "mimetype": "text/x-python",
   "name": "python",
   "nbconvert_exporter": "python",
   "pygments_lexer": "ipython3",
   "version": "3.11.7"
  }
 },
 "nbformat": 4,
 "nbformat_minor": 2
}

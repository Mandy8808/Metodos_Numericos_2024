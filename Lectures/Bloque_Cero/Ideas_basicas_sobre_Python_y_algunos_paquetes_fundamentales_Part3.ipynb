{
 "cells": [
  {
   "cell_type": "markdown",
   "metadata": {},
   "source": [
    "# `Bloque Cero`\n",
    "\n",
    "## Tema: Ideas básicas sobre Python y algunos paquetes fundamentales (part3)\n",
    "\n",
    "\n",
    "En Python tiene las estructuras de control como `if` (`elif`, `else`); `for`, `while` (`else`, `break`, `continue`, `pass`); las funciones `range()`; además de los tipos iteradores.\n",
    "\n",
    "En esta lección se describen las estructuras de control del lenguaje Python, mostrando ejemplos prácticos y útiles. Veremos conceptos como:\n",
    "\n",
    "1. Condicional if\n",
    "    - Sentencia if\n",
    "    - Sentencia elif\n",
    "    - Sentencia else\n",
    "    - Operador is\n",
    "    - Operador in\n",
    "    - Operador not in\n",
    "    - Expresiones condicional\n",
    "2. Extras:\n",
    "    - Condicional `Switch`\n",
    "    - Los comandos `break` y `continue`\n",
    "3. Operadores lógicos\n",
    "    - Operador and\n",
    "    - Operador or\n",
    "    - Operador not\n",
    "    - Ejemplos\n",
    "4. Bucle while\n",
    "    - Tipos de Bucle “while”\n",
    "    - Sentencias utilitarias\n",
    "    - Ejemplos\n",
    "5. Bucle for\n",
    "    - Tipos de Bucle “for”\n",
    "6. Iteradores\n",
    "    - Iteradores y secuencias\n",
    "    - Iteradores y conjuntos\n",
    "    - Iteradores y mapeos"
   ]
  },
  {
   "cell_type": "markdown",
   "metadata": {},
   "source": [
    "## Condicional `if`\n",
    "La sentencia condicional `if` se usa para tomar decisiones, este evaluá básicamente una operación lógica, es decir una expresión que de como resultado `True` o `False`, y ejecuta la pieza de código siguiente siempre y cuando el resultado sea verdadero.\n",
    "\n",
    "A continuación un de estructura condicional `if`/`elif`/`else`:"
   ]
  },
  {
   "cell_type": "code",
   "execution_count": null,
   "metadata": {},
   "outputs": [],
   "source": [
    "# ejemplo\n",
    "entrada = float(input('escriba un número '))  # por qué el float?\n",
    "\n",
    "if (entrada > 0):\n",
    "    print('hola')\n",
    "\n",
    "print('Adios')"
   ]
  },
  {
   "cell_type": "markdown",
   "metadata": {},
   "source": [
    "La condición, `entrada>0` se evalúa **siempre**.\n",
    "- Si el resultado es `True` se ejecuta el bloque de sentencias\n",
    "- Si el resultado es `False` no se ejecuta el bloque de sentencias.\n",
    "La primera línea contiene la condición a evaluar y es una expresión lógica. Esta línea debe terminar siempre por dos puntos (`:`).\n",
    "\n",
    "Es importante señalar que este bloque tiene una sangría, puesto que Python utiliza la misma para reconocer las líneas que forman un bloque de instrucciones. Este espaceado es de cuatro espacios, pero se pueden utilizar más o menos espacios. Para terminar un bloque, basta con volver al principio de la línea.\n",
    "\n",
    "Bifurcaciones: `if` ... `else` ...\n",
    "\n",
    "La estructura de control `if` ... `else` ... permite que un programa ejecute unas instrucciones cuando se cumple una condición y otras instrucciones cuando no se cumple esa condición. La orden en Python se escribe así:"
   ]
  },
  {
   "cell_type": "code",
   "execution_count": null,
   "metadata": {},
   "outputs": [],
   "source": [
    "entrada = float(input('escriba un número '))  \n",
    "\n",
    "if entrada > 0:\n",
    "    print('hola')\n",
    "else:\n",
    "    print('adios')"
   ]
  },
  {
   "cell_type": "markdown",
   "metadata": {},
   "source": [
    "La ejecución de esta construcción es la siguiente:\n",
    "- La condición se evalúa siempre.\n",
    "- Si el resultado es `True` se ejecuta solamente el bloque de sentencias 1.\n",
    "- Si el resultado es `False` se ejecuta solamente el bloque de sentencias 2.\n",
    "- La primera línea contiene la condición a evaluar. Esta línea debe terminar siempre por dos puntos (:).\n",
    "\n",
    "La línea con la orden `else`, que indica a Python que el bloque que viene a continuación se tiene que ejecutar cuando la condición no se cumpla (es decir, cuando sea falsa). Esta línea también debe terminar siempre por dos puntos (:). La línea con la orden `else` no debe incluir nada más que el else y los dos puntos.\n",
    "\n",
    "<img src= \"capturas\\plot1.png\">\n",
    "\n",
    "Notemos que usar dos `if`, sería equivalente a usar `if` ... `else` .. , aunque se puede hacer, en la práctica es mejor no hacerlo así, por dos motivos:\n",
    "\n",
    "- al poner dos bloques `if` estamos obligando a Python a evaluar siempre las dos condiciones, mientras que en un bloque `if` ... `else` .. sólo se evalúa una condición. En un programa sencillo la diferencia no es apreciable, pero en programas que ejecutan muchas comparaciones, el impacto puede ser apreciable. utilizando `else` nos ahorramos escribir una condición.\n",
    "- utilizando `if` ... `else` nos aseguramos de que se ejecuta uno de los dos bloques de instrucciones. Utilizando dos`if` cabría la posibilidad de que no se cumpliera ninguna de las dos condiciones y no se ejecutara ninguno de los dos bloques de instrucciones."
   ]
  },
  {
   "cell_type": "code",
   "execution_count": null,
   "metadata": {},
   "outputs": [],
   "source": [
    "edad = int(input(\"¿Cuántos años tiene? \"))\n",
    "if edad < 18:\n",
    "    print(\"Es usted menor de edad\")\n",
    "else:\n",
    "    print(\"Es usted mayor de edad\")\n",
    "print(\"¡Hasta la próxima!\")"
   ]
  },
  {
   "cell_type": "code",
   "execution_count": null,
   "metadata": {},
   "outputs": [],
   "source": [
    "edad = int(input(\"¿Cuántos años tiene? \"))\n",
    "if edad < 18:\n",
    "    print(\"Es usted menor de edad\")\n",
    "if edad >= 18:\n",
    "    print(\"Es usted mayor de edad\")\n",
    "print(\"¡Hasta la próxima!\")"
   ]
  },
  {
   "cell_type": "markdown",
   "metadata": {},
   "source": [
    "Si por algún motivo no se quisiera ejecutar ninguna orden en alguno de los bloques, el bloque de órdenes debe contener al menos la instrucción `pass` (esta orden le dice a Python que no tiene que hacer nada)."
   ]
  },
  {
   "cell_type": "code",
   "execution_count": null,
   "metadata": {},
   "outputs": [],
   "source": [
    "edad = int(input(\"¿Cuántos años tiene? \"))\n",
    "if edad < 120:\n",
    "    pass  # notar que cuando es True no hace nada, la impresión es fuera del if\n",
    "else:\n",
    "    print(\"¡No me lo creo!\")\n",
    "\n",
    "#print(\"Usted dice que tiene {} años.\")  \n",
    "print(f\"Usted dice que tiene {edad} años.\")  # notar la f"
   ]
  },
  {
   "cell_type": "markdown",
   "metadata": {},
   "source": [
    "Evidentemente este programa podría simplificarse cambiando la desigualdad."
   ]
  },
  {
   "cell_type": "code",
   "execution_count": null,
   "metadata": {},
   "outputs": [],
   "source": [
    "conclusion = \"¡No me lo creo!\"\n",
    "edad = int(input(\"¿Cuántos años tiene? \"))\n",
    "if edad >= 120:\n",
    "    print(f'mi {{conclusion}} es que {conclusion.upper()}')  # notar el {{}} significa q no evaluará \n",
    "                                                             # si revisaron el notebook sobre text, ya conocerán el comando upper\n",
    "    \n",
    "print(f\"Usted dice que tiene {edad} años.\")"
   ]
  },
  {
   "cell_type": "markdown",
   "metadata": {},
   "source": [
    "Este era sólo un ejemplo para mostrar cómo se utiliza la instrucción `pass`. Normalmente, la instrucción `pass` se utiliza para \"rellenar\" un bloque de instrucciones que todavía no hemos escrito y poder ejecutar el programa, ya que `Python` requiere que se escriba alguna instrucción en cualquier bloque."
   ]
  },
  {
   "cell_type": "markdown",
   "metadata": {},
   "source": [
    "### Sangrado de los bloques\n",
    "\n",
    "Un bloque de instrucciones puede contener varias instrucciones. Todas las instrucciones del bloque deben tener el mismo sangrado:"
   ]
  },
  {
   "cell_type": "code",
   "execution_count": null,
   "metadata": {},
   "outputs": [],
   "source": [
    "edad = int(input(\"¿Cuántos años tiene? \"))\n",
    "if edad < 18:\n",
    "    print(\"Es usted menor de edad\")\n",
    "    print(\"Recuerde que está en la edad de aprender\")\n",
    "else:\n",
    "    print(\"Es usted mayor de edad\")\n",
    "    print(\"Recuerde que debe seguir aprendiendo\")\n",
    "print(\"¡Hasta la próxima!\")"
   ]
  },
  {
   "cell_type": "markdown",
   "metadata": {},
   "source": [
    "Se aconseja utilizar siempre el mismo número de espacios en el sangrado, aunque Python permite que cada bloque tenga un número distinto. El siguiente programa es correcto:"
   ]
  },
  {
   "cell_type": "code",
   "execution_count": null,
   "metadata": {},
   "outputs": [],
   "source": [
    "edad = int(input(\"¿Cuántos años tiene? \"))\n",
    "if edad < 18:\n",
    "        print(\"Es usted menor de edad\")\n",
    "        print(\"Recuerde que está en la edad de aprender\")\n",
    "else:\n",
    "    print(\"Es usted mayor de edad\")\n",
    "    print(\"Recuerde que debe seguir aprendiendo\")\n",
    "\n",
    "print(\"¡Hasta la próxima!\")"
   ]
  },
  {
   "cell_type": "markdown",
   "metadata": {},
   "source": [
    "Lo que no se permite es que en un mismo bloque haya instrucciones con distintos sangrados. Dependiendo del orden de los sangrados, el mensaje de error al intentar ejecutar el programa será diferente:"
   ]
  },
  {
   "cell_type": "code",
   "execution_count": null,
   "metadata": {},
   "outputs": [],
   "source": [
    "edad = int(input(\"¿Cuántos años tiene? \"))\n",
    "if edad < 18:\n",
    "    print(\"Es usted menor de edad\")\n",
    "        print(\"Recuerde que está en la edad de aprender\")\n",
    "else:\n",
    "    print(\"Es usted mayor de edad\")\n",
    "    print(\"Recuerde que debe seguir aprendiendo\")\n",
    "print(\"¡Hasta la próxima!\")"
   ]
  },
  {
   "cell_type": "markdown",
   "metadata": {},
   "source": [
    "- En este caso, la primera instrucción determina el sangrado de ese bloque, por lo que al encontrar la segunda instrucción, con un sangrado mayor, se produce el error `\"unexpected indent\" ` (sangrado inesperado)."
   ]
  },
  {
   "cell_type": "code",
   "execution_count": null,
   "metadata": {},
   "outputs": [],
   "source": [
    "edad = int(input(\"¿Cuántos años tiene? \"))\n",
    "if edad < 18:\n",
    "        print(\"Es usted menor de edad\")\n",
    "    print(\"Recuerde que está en la edad de aprender\")\n",
    "else:\n",
    "    print(\"Es usted mayor de edad\")\n",
    "    print(\"Recuerde que debe seguir aprendiendo\")\n",
    "print(\"¡Hasta la próxima!\")"
   ]
  },
  {
   "cell_type": "markdown",
   "metadata": {},
   "source": [
    "* Nuevamente la primera instrucción determina el sangrado del bloque, por lo que al encontrar la segunda instrucción, con un sangrado menor, `Python` entiende que esa instrucción pertenece a otro bloque, pero como no hay ningún bloque con ese nivel de sangrado, se produce el error `\"unindent does not match any outer indentation level\"`(el sangrado no coincide con el de ningún nivel superior)."
   ]
  },
  {
   "cell_type": "code",
   "execution_count": null,
   "metadata": {},
   "outputs": [],
   "source": [
    "edad = int(input(\"¿Cuántos años tiene? \"))\n",
    "if edad < 18:\n",
    "    print(\"Es usted menor de edad\")\n",
    "print(\"Recuerde que está en la edad de aprender\")\n",
    "else:\n",
    "    print(\"Es usted mayor de edad\")\n",
    "    print(\"Recuerde que debe seguir aprendiendo\")\n",
    "print(\"¡Hasta la próxima!\")"
   ]
  },
  {
   "cell_type": "markdown",
   "metadata": {},
   "source": [
    "* En este caso, como la segunda instrucción no tiene sangrado, Python entiende que la bifurcación `if` ha terminado, por lo que al encontrar un `else` sin su `if` correspondiente se produce el error `\"invalid syntax\"` (sintaxis no válida)."
   ]
  },
  {
   "cell_type": "markdown",
   "metadata": {},
   "source": [
    "### Sentencias condicionales anidadas\n",
    "\n",
    "Una sentencia condicional puede contener a su vez otra sentencia anidada.\n",
    "\n",
    "Por ejemplo, el programa siguiente muestra el color obtenido al mezclar dos colores en la pantalla:"
   ]
  },
  {
   "cell_type": "code",
   "execution_count": null,
   "metadata": {},
   "outputs": [],
   "source": [
    "print(\"Este programa mezcla dos colores\".upper())\n",
    "print(\"  r. Rojo      a. Azul\")\n",
    "primera = input(\"  Elija un color (r o a): \")\n",
    "\n",
    "if primera == \"r\":\n",
    "    print(\"  a. Azul      v. Verde\")\n",
    "    segunda = input(\"  Elija otro color (a o v): \")\n",
    "    if segunda == \"a\":\n",
    "        print(\"La mezcla de Rojo y Azul produce Magenta.\")\n",
    "    else:\n",
    "        print(\"La mezcla Rojo y Verde produce Amarillo.\")\n",
    "else:\n",
    "    print(\"  v. Verde    r. Rojo\")\n",
    "    segunda = input(\"  Elija otro color (v o r): \")\n",
    "    if segunda == \"v\":\n",
    "        print(\"La mezcla de Azul y Verde produce Cian.\")\n",
    "    else:\n",
    "        print(\"La mezcla Azul y Rojo produce Magenta.\")\n",
    "print(\"¡Hasta la próxima!\")"
   ]
  },
  {
   "cell_type": "markdown",
   "metadata": {},
   "source": [
    "### Más de dos alternativas: `if`... `elif` ... `else` ...\n",
    "\n",
    "La construcción `if` ... `else` ... se puede extender añadiendo la instrucción`elif`:\n",
    "\n",
    "La estructura de control `if` ... `elif` ... `else` ... permite encadenar varias condiciones. `elif` es una contracción de `else if`. La orden en Python se escribe así:"
   ]
  },
  {
   "cell_type": "code",
   "execution_count": null,
   "metadata": {},
   "outputs": [],
   "source": [
    "if condición_1:\n",
    "    bloque 1\n",
    "elif condición_2:\n",
    "    bloque 2\n",
    "else:\n",
    "    bloque 3"
   ]
  },
  {
   "cell_type": "markdown",
   "metadata": {},
   "source": [
    "- Si se cumple la condición 1, se ejecuta el bloque 1\n",
    "- Si no se cumple la condición 1 pero sí que se cumple la condición 2, se ejecuta el bloque 2\n",
    "- Si no se cumplen ni la condición 1 ni la condición 2, se ejecuta el bloque 3.\n",
    "\n",
    "Esta estructura es equivalente a la siguiente estructura de `if` ... `else` ... anidados:"
   ]
  },
  {
   "cell_type": "code",
   "execution_count": null,
   "metadata": {},
   "outputs": [],
   "source": [
    "if condición_1:\n",
    "    bloque 1\n",
    "else:\n",
    "    if condición_2:\n",
    "        bloque 2\n",
    "    else:\n",
    "        bloque 3"
   ]
  },
  {
   "cell_type": "markdown",
   "metadata": {},
   "source": [
    "Se pueden escribir tantos bloques elif como sean necesarios."
   ]
  },
  {
   "cell_type": "markdown",
   "metadata": {},
   "source": [
    "<img src= \"capturas/plot2.png\">"
   ]
  },
  {
   "cell_type": "markdown",
   "metadata": {},
   "source": [
    "En las estructuras `if `... `elif `... `else `... el orden en que se escriben los casos es importante y, a menudo, se pueden simplificar las condiciones ordenando adecuadamente los casos.\n",
    "\n",
    "Podemos distinguir dos tipos de situaciones:\n",
    "\n",
    "1. Cuando los casos son mutuamente excluyentes.\n",
    "\n",
    "Consideremos un programa que pide la edad y en función del valor recibido da un mensaje diferente. Podemos distinguir, por ejemplo, tres situaciones:\n",
    "\n",
    "- si el valor es negativo, se trata de un error\n",
    "- si el valor está entre 0 y 17, se trata de un menor de edad\n",
    "- si el valor es superior o igual a 18, se trata de un mayor de edad\n",
    "\n",
    "Los casos son mutuamente excluyentes, ya que un valor sólo puede estar en uno de los casos.\n",
    "\n",
    "Un posible programa es el siguiente:"
   ]
  },
  {
   "cell_type": "code",
   "execution_count": null,
   "metadata": {},
   "outputs": [],
   "source": [
    "edad = int(input(\"¿Cuántos años tiene? \"))\n",
    "if edad >= 18:\n",
    "    print(\"Es usted mayor de edad\")\n",
    "elif edad < 0:\n",
    "    print(\"No se puede tener una edad negativa\")\n",
    "else:\n",
    "    print(\"Es usted menor de edad\")"
   ]
  },
  {
   "cell_type": "markdown",
   "metadata": {},
   "source": [
    "El programa anterior funciona correctamente, pero los casos están desordenados. Es mejor escribirlos en orden, para asegurarnos de no olvidar ninguna de las posibles situaciones. Por ejemplo, podríamos escribirlos de menor a mayor edad, aunque eso obliga a escribir otras condiciones:"
   ]
  },
  {
   "cell_type": "code",
   "execution_count": null,
   "metadata": {},
   "outputs": [],
   "source": [
    "edad = int(input(\"¿Cuántos años tiene? \"))\n",
    "if edad < 0:\n",
    "    print(\"No se puede tener una edad negativa\")\n",
    "elif (edad >= 0) and (edad < 18):\n",
    "    print(\"Es usted menor de edad\")\n",
    "else:\n",
    "    print(\"Es usted mayor de edad\")"
   ]
  },
  {
   "cell_type": "markdown",
   "metadata": {},
   "source": [
    "En el programa anterior se pueden simplificar las comparaciones:"
   ]
  },
  {
   "cell_type": "code",
   "execution_count": null,
   "metadata": {},
   "outputs": [],
   "source": [
    "edad = int(input(\"¿Cuántos años tiene? \"))\n",
    "if edad < 0:\n",
    "    print(\"No se puede tener una edad negativa\")\n",
    "elif edad < 18:\n",
    "    print(\"Es usted menor de edad\")\n",
    "else:\n",
    "    print(\"Es usted mayor de edad\")"
   ]
  },
  {
   "cell_type": "markdown",
   "metadata": {},
   "source": [
    "Estos dos programas son equivalentes porque en una estructura `if `... `elif `.. `else` cuando se cumple una de las comparaciones Python ya no evalúa las siguientes condiciones. En este caso, si el programa tiene que comprobar la segunda comparación (la del`elif `), es porque no se ha cumplido la primera (la del `if `). Y si no se ha cumplido la primera es que edad es mayor que 0, por lo que no es necesario comprobarlo en la segunda condición.\n",
    "\n",
    "Pero hay que tener cuidado, porque si los casos del programa anterior se ordenan al revés manteniendo las condiciones, el programa no funcionaría como se espera, puesto que al escribir un valor negativo mostraría el mensaje \"Es usted menor de edad\"."
   ]
  },
  {
   "cell_type": "code",
   "execution_count": null,
   "metadata": {},
   "outputs": [],
   "source": [
    "# Este programa no funciona correctamente\n",
    "edad = int(input(\"¿Cuántos años tiene? \"))\n",
    "if edad < 18:\n",
    "    print(\"Es usted menor de edad\")\n",
    "elif edad < 0:\n",
    "    print(\"No se puede tener una edad negativa\")\n",
    "else:\n",
    "    print(\"Es usted mayor de edad\")"
   ]
  },
  {
   "cell_type": "markdown",
   "metadata": {},
   "source": [
    "2- Cuando unos casos incluyen a otros\n",
    "\n",
    "Consideremos un programa que pide un valor y nos dice:\n",
    "- si es múltiplo de dos,\n",
    "- si es múltiplo de cuatro (y de dos)\n",
    "- si no es múltiplo de dos\n",
    "\n",
    "Nota: El valor 0 se considerará múltiplo de 4 y de 2.\n",
    "\n",
    "Los casos no son mutuamente excluyentes, puesto que los múltiplos de cuatro son también múltiplos de dos.\n",
    "\n",
    "El siguiente programa no sería correcto:"
   ]
  },
  {
   "cell_type": "code",
   "execution_count": null,
   "metadata": {},
   "outputs": [],
   "source": [
    "# Este programa no funciona correctamente\n",
    "numero = int(input(\"Escriba un número: \"))\n",
    "if numero % 2 == 0:\n",
    "    print(f\"{numero} es múltiplo de dos\")\n",
    "elif numero % 4 == 0:\n",
    "    print(f\"{numero} es múltiplo de cuatro y de dos\")\n",
    "else:\n",
    "    print(f\"{numero} no es múltiplo de dos\")"
   ]
  },
  {
   "cell_type": "markdown",
   "metadata": {},
   "source": [
    "El error de este programa es que si numero cumple la segunda condición, cumple también la primera. Es decir, si numero es un múltiplo de cuatro, como también es múltiplo de dos, cumple la primera condición y el programa ejecuta el primer bloque de instrucciones, sin llegar a comprobar el resto de condiciones.\n",
    "\n",
    "Una manera de corregir ese error es añadir en la primera condición (la de `if`) que numero no sea múltiplo de cuatro."
   ]
  },
  {
   "cell_type": "code",
   "execution_count": null,
   "metadata": {},
   "outputs": [],
   "source": [
    "numero = int(input(\"Escriba un número: \"))\n",
    "if numero % 2 == 0 and numero % 4 != 0:\n",
    "    print(f\"{numero} es múltiplo de dos\")\n",
    "elif numero % 4 == 0:\n",
    "    print(f\"{numero} es múltiplo de cuatro y de dos\")\n",
    "else:\n",
    "    print(f\"{numero} no es múltiplo de dos\")"
   ]
  },
  {
   "cell_type": "markdown",
   "metadata": {},
   "source": [
    "También se podría haber escrito el siguiente programa:"
   ]
  },
  {
   "cell_type": "code",
   "execution_count": null,
   "metadata": {},
   "outputs": [],
   "source": [
    "numero = int(input(\"Escriba un número: \"))\n",
    "\n",
    "if numero%2 == 0 and numero%4 != 0:\n",
    "    print(f\"{numero} es múltiplo de dos\")\n",
    "elif numero % 2 == 0:\n",
    "    print(f\"{numero} es múltiplo de cuatro y de dos\")\n",
    "else:\n",
    "    print(f\"{numero} no es múltiplo de dos\")"
   ]
  },
  {
   "cell_type": "markdown",
   "metadata": {},
   "source": [
    "Este programa funciona porque los múltiplos de cuatro también son múltiplos de dos y el programa sólo evalúa la segunda condición (la de `elif`) si no se ha cumplido la primera.\n",
    "\n",
    "Pero todavía podemos simplificar más el programa, ordenando de otra manera los casos:"
   ]
  },
  {
   "cell_type": "code",
   "execution_count": null,
   "metadata": {},
   "outputs": [],
   "source": [
    "numero = int(input(\"Escriba un número: \"))\n",
    "if numero % 4 == 0:\n",
    "    print(f\"{numero} es múltiplo de cuatro y de dos\")\n",
    "elif numero % 2 == 0:\n",
    "    print(f\"{numero} es múltiplo de dos\")\n",
    "else:\n",
    "    print(f\"{numero} no es múltiplo de dos\")"
   ]
  },
  {
   "cell_type": "markdown",
   "metadata": {},
   "source": [
    "Este programa funciona correctamente ya que aunque la segunda condición (la de `elif`) no distingue entre múltiplos de dos y de cuatro, si numero es un múltiplo de cuatro, el programa no llega a evaluar la segunda condición porque se cumple la primera (la de `if`).\n",
    "\n",
    "IMPORTANTE: En general, el orden que permite simplificar más las expresiones suele ser considerar primero los casos particulares y después los casos generales."
   ]
  },
  {
   "cell_type": "markdown",
   "metadata": {},
   "source": [
    "### Condiciones no booleanas\n",
    "\n",
    "Dado que cualquier variable puede interpretarse como una variable booleana, si la condición es una comparación con cero, podemos omitir la comparación.\n",
    "\n",
    "Por ejemplo, el programa siguiente:"
   ]
  },
  {
   "cell_type": "code",
   "execution_count": null,
   "metadata": {},
   "outputs": [],
   "source": [
    "numero = int(input(\"Escriba un número: \"))\n",
    "if numero % 2 != 0:\n",
    "    print(f\"{numero} es impar\")\n",
    "else:\n",
    "    print(f\"{numero} es par\")"
   ]
  },
  {
   "cell_type": "code",
   "execution_count": null,
   "metadata": {},
   "outputs": [],
   "source": [
    "# se puede escribir omitiendo la comparación\n",
    "\n",
    "numero = int(input(\"Escriba un número: \"))\n",
    "if numero % 2:\n",
    "    print(f\"{numero} es impar\")\n",
    "else:\n",
    "    print(f\"{numero} es par\")"
   ]
  },
  {
   "cell_type": "markdown",
   "metadata": {},
   "source": [
    "En este programa, si el número es impar, numero `% 2` da como resultado 1. Y como el valor booleano de un número diferente de cero es `True` (es decir, bool(1) es True), la condición se estaría cumpliendo."
   ]
  },
  {
   "cell_type": "markdown",
   "metadata": {},
   "source": [
    "### Operador `not`, `is`, `in`, `not in`"
   ]
  },
  {
   "cell_type": "code",
   "execution_count": null,
   "metadata": {},
   "outputs": [],
   "source": [
    "# ejemplo de not\n",
    "\n",
    "numero = int(input(\"Escriba un número: \"))\n",
    "if not numero % 2:\n",
    "    print(f\"{numero} es par\")\n",
    "else:\n",
    "    print(f\"{numero} es impar\")"
   ]
  },
  {
   "cell_type": "markdown",
   "metadata": {},
   "source": [
    "En este programa, si el número es par, numero % 2 da como resultado 0. El valor booleano de cero es `False` (es decir, bool(0) es False), pero al negarse con not, la condición se estaría cumpliendo (ya que not `False` es `True`)."
   ]
  },
  {
   "cell_type": "code",
   "execution_count": null,
   "metadata": {},
   "outputs": [],
   "source": [
    "# ejemplo is\n",
    "\n",
    "j = int(input('adivina mi número '))\n",
    "numero = 58\n",
    "\n",
    "if j is numero:  # ejemplo de frase\n",
    "    print('si')\n",
    "else:\n",
    "    print('no')"
   ]
  },
  {
   "cell_type": "code",
   "execution_count": null,
   "metadata": {},
   "outputs": [],
   "source": [
    "# ejemplo in\n",
    "\n",
    "j = int(input('adivina uno de los número '))\n",
    "list_numero = [58, 0, -1, 30]\n",
    "\n",
    "if j in list_numero:  # notar que in solo se usa con iterables\n",
    "    print('si')\n",
    "else:\n",
    "    print('no')"
   ]
  },
  {
   "cell_type": "code",
   "execution_count": null,
   "metadata": {},
   "outputs": [],
   "source": [
    "# ejemplo not in \n",
    "\n",
    "j = int(input('adivina uno de los número '))\n",
    "list_numero = [58, 0, -1, 30]\n",
    "\n",
    "if j not in list_numero:  # notar que not in solo se usa con iterables\n",
    "    print('no')\n",
    "else:\n",
    "    print('si')"
   ]
  },
  {
   "cell_type": "markdown",
   "metadata": {},
   "source": [
    "### `AND`,  `OR`\n",
    "\n",
    "Para evaluar escenarios complejos, combinamos varias condiciones en la misma declaración `if`. Python tiene dos operadores lógicos para eso.\n",
    "\n",
    "* El operador `and` devuelve `True` cuando la condición de su izquierda y la de su derecha son Verdaderas. **Si uno o ambos son falsos, su combinación retorna `False`**. En esos escenarios estrictos: solo cuando varias condiciones son `Trues` al mismo tiempo, se ejecutará nuestra declaración `if`.\n",
    "\n",
    "* El operador `or` es diferente. Éste devuelve `True` cuando su condición izquierda **y/o** derecha son Verdaderas. **Solo con ambos falsos la combinación devuelve `False`.** Eso hace que nuestra declaración `if` sea más flexible: ahora un valor `True` es suficiente para ejecutar su código.\n",
    "\n",
    "Para escenarios complejos, es necesario combinar los operadores `and` y `or`. La estructura debe estar entre paréntesis, para especificarle a Python como debe procesar las diferentes condiciones. Veamos algunos ejemplos\n",
    "\n",
    "### Condición `and`"
   ]
  },
  {
   "cell_type": "code",
   "execution_count": null,
   "metadata": {},
   "outputs": [],
   "source": [
    "# Dos condiciones verdaderas\n",
    "\n",
    "# temperatura actual\n",
    "currentTemp = 30.2\n",
    "\n",
    "# Límites de temperaturas\n",
    "tempHigh = 40.7\n",
    "tempLow = -18.9\n",
    "\n",
    "# Comparando la temperatura actual con las extremales\n",
    "if currentTemp > tempLow and currentTemp < tempHigh:\n",
    "    print('La temperatura actual: (' + str(currentTemp) +\n",
    "          ') se encuentra dentro de los límites permitidos')"
   ]
  },
  {
   "cell_type": "code",
   "execution_count": null,
   "metadata": {},
   "outputs": [],
   "source": [
    "# varias condiciones verdaderas\n",
    "\n",
    "# Revisando la orden del cliente\n",
    "dietCoke = True  # coca de dieta\n",
    "fries = True  # papas \n",
    "shake = False  # batido\n",
    "extraBurger = True  # hamburgueza con extra carne\n",
    "\n",
    "if dietCoke and fries and shake and extraBurger:\n",
    "    print(\"The customer wants:\")\n",
    "    print(\"- Diet instead of regular coke\")\n",
    "    print(\"- Extra french fries\")\n",
    "    print(\"- A milkshake\")\n",
    "    print(\"- An extra burger\")\n",
    "else:\n",
    "    print(\"The customer doesn't want diet coke, \" +\n",
    "          \"extra fries, a milkshake, *and* an extra burger.\")"
   ]
  },
  {
   "cell_type": "markdown",
   "metadata": {},
   "source": [
    "### Condición `or`"
   ]
  },
  {
   "cell_type": "code",
   "execution_count": null,
   "metadata": {},
   "outputs": [],
   "source": [
    "# una condición\n",
    "\n",
    "# Current temperature\n",
    "currentTemp = 40.7\n",
    "\n",
    "# Extremes in temperature (in Celsius)\n",
    "tempHigh = 40.7\n",
    "tempLow = -18.9\n",
    "\n",
    "# Compare current temperature against extremes\n",
    "if currentTemp > tempLow or currentTemp < tempHigh:\n",
    "    print('Temperature (' + str(currentTemp) +\n",
    "          ') is above record low or ' +\n",
    "          'below record high.')\n",
    "else:\n",
    "    print(\"There's a new record-breaking temperature!\")"
   ]
  },
  {
   "cell_type": "code",
   "execution_count": null,
   "metadata": {},
   "outputs": [],
   "source": [
    "# varias condiciones\n",
    "\n",
    "# Check which extras the customer ordered\n",
    "noSalt = True\n",
    "dietCoke = False\n",
    "fries = False\n",
    "shake = False\n",
    "\n",
    "# Handle the customer's order\n",
    "if noSalt or dietCoke or fries or shake:\n",
    "    print(\"Optional extras for order:\")\n",
    "    print(\"No salt:\\t\\t\", noSalt)\n",
    "    print(\"Diet coke:\\t\\t\", dietCoke)\n",
    "    print(\"French fries:\\t\", fries)\n",
    "    print(\"Milkshake:\\t\\t\", shake)\n",
    "else:\n",
    "    print(\"No extras needed for this order. Please proceed.\")"
   ]
  },
  {
   "cell_type": "markdown",
   "metadata": {},
   "source": [
    "### Condiciones complejas\n",
    "\n",
    "Usando tanto `and` como `or`. Ejemplos:\n",
    "\n",
    "- condition = (A and B) or C\n",
    "\n",
    "Esta condición combinada prueba `True` en uno de dos escenarios:\n",
    "\n",
    "    Cuando la combinación de A y B es verdadera ó cuando C es Verdadero.\n",
    "\n",
    "Cuando tanto el primer o segundo escenario son `False`, esta combinación también es `False`. \n",
    "\n",
    "- condition = (A or B) and C\n",
    "\n",
    "Esta combinación es `True` cuando suceden dos cosas al mismo tiempo:\n",
    "\n",
    "        ó A o B es verdadero y C también True.\n",
    "\n",
    "Cuando A y B se combinan en `False`, y C es `False`, entonces la condición combinada es `False` también. "
   ]
  },
  {
   "cell_type": "code",
   "execution_count": null,
   "metadata": {},
   "outputs": [],
   "source": [
    "# Ejemplo\n",
    "\n",
    "# Check the extras the customer ordered\n",
    "dietCoke = False\n",
    "shake = True\n",
    "fries = True\n",
    "burger = True\n",
    "\n",
    "# Evaluate the customer's order\n",
    "if (dietCoke or shake) and (fries or burger):\n",
    "    print(\"The customer wants an extra drink \" +\n",
    "          \"(diet coke and/or shake) and extra food \" +\n",
    "          \"(french fries and/or burger).\")\n",
    "else:\n",
    "    print(\"The customer doesn't want both an \" +\n",
    "          \"extra drink *and* extra food.\")"
   ]
  },
  {
   "cell_type": "markdown",
   "metadata": {},
   "source": [
    "### `if` en una linea (operador ternario)\n",
    "\n",
    "Obligatoriamente lleva el `else`. Estructura:\n",
    "\n",
    "a = [operación si es Verdadero] **if** [Condicional] **elif** [Condicional] **else** [Condicional]"
   ]
  },
  {
   "cell_type": "code",
   "execution_count": null,
   "metadata": {},
   "outputs": [],
   "source": [
    "a = 6\n",
    "salida = print('vedadero') if a>5 else print('adios')"
   ]
  },
  {
   "cell_type": "code",
   "execution_count": null,
   "metadata": {},
   "outputs": [],
   "source": []
  },
  {
   "cell_type": "markdown",
   "metadata": {},
   "source": [
    "## El condicional Switch\n",
    "\n",
    "En `Python` no existe el comando `switch` como en C, por ejemplo. "
   ]
  },
  {
   "cell_type": "code",
   "execution_count": null,
   "metadata": {},
   "outputs": [],
   "source": [
    "# Ojo, esto no es Python\n",
    "switch(condicion) {\n",
    "  case 1:\n",
    "    // haz a\n",
    "    break;\n",
    "  case 2:\n",
    "    // haz b\n",
    "    break;\n",
    "  case 3:\n",
    "    // haz c\n",
    "    break;\n",
    "  default:\n",
    "    // haz x\n",
    "}"
   ]
  },
  {
   "cell_type": "markdown",
   "metadata": {},
   "source": [
    "Sin embargo, uno podría tratar de simular algo equivalente usando `if`, `elif`, etc. sin embargo, aunque se puede llegar al mismo resultado, internamente no estamos realizando la misma \"operación\" y puede costar recursos numéricos.\n",
    "\n",
    "Al usar `if`, `elif`, etc. no todos los bloques tienen el mismo tiempo de acceso. Las condiciones van siendo evaluadas una a una hasta que se cumple y se detiene la evaluación. Por ejemplo, tenemos 50 condicionales, si el verdadero es el 1, el tiempo de ejecución será diferente al que tendremos si el verdadero es en el 49, ya que tienen que evaluarse 49 para obtener verdadero. Sin embargo, en el `switch` todos los elementos tienen el mismo tiempo de acceso.\n",
    "\n",
    "Ahora, una manera de implementar un `switch` en `Python` es usando diccionarios, veamos: (tomado de: https://ellibrodepython.com/switch-python)"
   ]
  },
  {
   "cell_type": "code",
   "execution_count": null,
   "metadata": {},
   "outputs": [],
   "source": [
    "# con if\n",
    "def opera1(operador, a, b):\n",
    "    if operador == 'suma':\n",
    "        return a + b\n",
    "    elif operador == 'resta':\n",
    "        return a - b\n",
    "    elif operador == 'multiplica':\n",
    "        return a * b\n",
    "    elif operador == 'divide':\n",
    "        return a / b\n",
    "    else:\n",
    "        return None\n",
    "\n",
    "# con diccionario  \n",
    "def opera2(operador, a, b):\n",
    "    return {\n",
    "        'suma': lambda: a + b,  # función lambda\n",
    "        'resta': lambda: a - b,\n",
    "        'multiplica': lambda: a * b,\n",
    "        'divide': lambda: a / b\n",
    "    }.get(operador, lambda: None)"
   ]
  },
  {
   "cell_type": "code",
   "execution_count": null,
   "metadata": {},
   "outputs": [],
   "source": [
    "opera1('suma', 5, 9), opera2('suma', 5, 9)()  # notar que debemos poner () pq llamamos a una función lambda y () indica argumento"
   ]
  },
  {
   "cell_type": "markdown",
   "metadata": {},
   "source": [
    "Comparemos los tiempos de ejecución"
   ]
  },
  {
   "cell_type": "code",
   "execution_count": null,
   "metadata": {},
   "outputs": [],
   "source": [
    "import time"
   ]
  },
  {
   "cell_type": "code",
   "execution_count": null,
   "metadata": {},
   "outputs": [],
   "source": [
    "# con if\n",
    "\n",
    "def usa_if(decimal):\n",
    "    if decimal == '0':\n",
    "        return \"000\"\n",
    "    elif decimal == '1':\n",
    "        return \"001\"\n",
    "    elif decimal == '2':\n",
    "        return \"010\"\n",
    "    elif decimal == '3':\n",
    "        return \"011\"\n",
    "    elif decimal == '4':\n",
    "        return \"100\"\n",
    "    elif decimal == '5':\n",
    "        return \"101\"\n",
    "    elif decimal == '6':\n",
    "        return \"110\"\n",
    "    elif decimal == '7':\n",
    "        return \"111\"\n",
    "    else:\n",
    "        return \"NA\"\n",
    "    \n",
    "# con diccionario\n",
    "tabla_switch = {\n",
    "        '0': '000',\n",
    "        '1': '001',\n",
    "        '2': '010',\n",
    "        '3': '011',\n",
    "        '4': '100',\n",
    "        '5': '101',\n",
    "        '6': '110',\n",
    "        '7': '111',\n",
    "    }\n",
    "def usa_switch(decimal):\n",
    "    return tabla_switch.get(decimal, \"NA\")\n",
    "\n",
    "\n",
    "# para medir el tiempo\n",
    "def mide_tiempo(funcion):\n",
    "    def funcion_medida(*args, **kwargs):\n",
    "        inicio = time.time()\n",
    "        c = funcion(*args, **kwargs)\n",
    "        print(f\"Entrada: {args[1]}. Tiempo: {time.time() - inicio}\")\n",
    "        return c\n",
    "    return funcion_medida"
   ]
  },
  {
   "cell_type": "code",
   "execution_count": null,
   "metadata": {},
   "outputs": [],
   "source": [
    "@mide_tiempo\n",
    "def repite_funcion(funcion, entrada):\n",
    "    return [funcion(entrada) for i in range(10000000)]  # ejecutaremos el mismo cálculo 10000000"
   ]
  },
  {
   "cell_type": "code",
   "execution_count": null,
   "metadata": {},
   "outputs": [],
   "source": [
    "print('con if')\n",
    "for i in range(8):\n",
    "    repite_funcion(usa_if, str(i))\n",
    "\n",
    "print('con diccionario')\n",
    "for i in range(8):\n",
    "    repite_funcion(usa_switch, str(i))"
   ]
  },
  {
   "cell_type": "code",
   "execution_count": null,
   "metadata": {},
   "outputs": [],
   "source": []
  },
  {
   "cell_type": "markdown",
   "metadata": {},
   "source": [
    "## Los comandos `break` y `continue`\n",
    "\n",
    "- El comando `break` nos permite detener la ejecución de los bucles `while` y `for` que veremos más adelante."
   ]
  },
  {
   "cell_type": "code",
   "execution_count": null,
   "metadata": {},
   "outputs": [],
   "source": [
    "for i in range(5):\n",
    "    print(i)\n",
    "    break # sale del bucle"
   ]
  },
  {
   "cell_type": "markdown",
   "metadata": {},
   "source": [
    "- De manera similar el comando `continue` nos permite modificar el comportamiendo de los bucles `while`  y  `for`. En este caso no detine la ejecución, sino que `salta` a la próxima iteración"
   ]
  },
  {
   "cell_type": "code",
   "execution_count": null,
   "metadata": {},
   "outputs": [],
   "source": [
    "for i in range(5):\n",
    "    if i==3:  # notar que pasa si pongo is\n",
    "        continue # sale del bucle\n",
    "    print(i)"
   ]
  },
  {
   "cell_type": "code",
   "execution_count": null,
   "metadata": {},
   "outputs": [],
   "source": [
    "# is checks for identity - if the two variables point to the exact same object.\n",
    "# == checks for equality - if the two variables point at values are equal. That is, if they will act the same way in the same situations."
   ]
  },
  {
   "cell_type": "markdown",
   "metadata": {},
   "source": []
  },
  {
   "cell_type": "markdown",
   "metadata": {},
   "source": [
    "## Bucle `for`\n",
    "\n",
    "En general, un bucle es una estructura de control que repite un bloque de instrucciones. Un bucle `for ` es un bucle que repite el bloque de instrucciones un número prederminado de veces. El bloque de instrucciones que se repite se suele llamar cuerpo del bucle y cada repetición se suele llamar iteración.\n",
    "\n",
    "La sintaxis de un bucle for es la siguiente:"
   ]
  },
  {
   "cell_type": "code",
   "execution_count": null,
   "metadata": {},
   "outputs": [],
   "source": [
    "for variable in elemento iterable (lista, cadena, range, etc.):\n",
    "    cuerpo del bucle"
   ]
  },
  {
   "cell_type": "markdown",
   "metadata": {},
   "source": [
    "No es necesario definir la variable de control antes del bucle, aunque se puede utilizar como variable de control una variable ya definida en el programa.\n",
    "\n",
    "El cuerpo del bucle se ejecuta tantas veces como elementos tenga el elemento recorrible (elementos de una lista o de un `range()`, caracteres de una cadena, etc.). Por ejemplo:"
   ]
  },
  {
   "cell_type": "code",
   "execution_count": null,
   "metadata": {},
   "outputs": [],
   "source": [
    "print(\"Comienzo\")\n",
    "for i in [0, 10, 12, '6']:\n",
    "    print(\"Hola\", end=\" \")\n",
    "print()\n",
    "print(\"Final\")\n",
    "\n",
    "# los valores que toma la variable no son importantes, lo que importa es que la lista tiene tres elementos \n",
    "# y por tanto el bucle se ejecuta tres veces. El poner [1 1 1] da el mismo resultado"
   ]
  },
  {
   "cell_type": "code",
   "execution_count": null,
   "metadata": {},
   "outputs": [],
   "source": [
    "# Si la lista está vacía, el bucle no se ejecuta ninguna vez. Por ejemplo:\n",
    "print(\"Comienzo\")\n",
    "for i in []:\n",
    "    print(\"Hola \", end=\"\")\n",
    "print()\n",
    "print(\"Final\")"
   ]
  },
  {
   "cell_type": "markdown",
   "metadata": {},
   "source": [
    "Si la variable de control no se va a utilizar en el cuerpo del bucle, como en los ejemplos anteriores, se puede utilizar el guion (`_`) en vez de un nombre de variable. Esta notación no tiene ninguna consecuencia con respecto al funcionamiento del programa, pero sirve de ayuda a la persona que esté leyendo el código fuente, que sabe así que los valores no se van a utilizar. Por ejemplo:"
   ]
  },
  {
   "cell_type": "code",
   "execution_count": null,
   "metadata": {},
   "outputs": [],
   "source": [
    "print(\"Comienzo\")\n",
    "for _ in [0, 1, 2]:\n",
    "    print(\"Hola \", end=\"\")\n",
    "print()\n",
    "print(\"Final\")"
   ]
  },
  {
   "cell_type": "markdown",
   "metadata": {},
   "source": [
    "El indicador puede incluir cualquier número de guiones bajos `(_, __, ___, ____, etc)`. Los más utilizados son uno o dos guiones`(_ o __) `.\n",
    "\n",
    "En los ejemplos anteriores, la variable de control \"i\" no se utilizaba en el bloque de instrucciones, pero en muchos casos sí que se utiliza. Cuando se utiliza, hay que tener en cuenta que la variable de control va tomando los valores del elemento recorrible. Por ejemplo:"
   ]
  },
  {
   "cell_type": "code",
   "execution_count": null,
   "metadata": {},
   "outputs": [],
   "source": [
    "print(\"Comienzo\")\n",
    "i = 4\n",
    "for i in [3, 4, 5]:\n",
    "    print(f\"Hola. Ahora i vale {i} y su cuadrado {i ** 2}\")\n",
    "print(\"Final\")"
   ]
  },
  {
   "cell_type": "markdown",
   "metadata": {},
   "source": [
    "La lista puede contener cualquier tipo de elementos, no sólo números. El bucle se repetirá siempre tantas veces como elementos tenga la lista y la variable irá tomando los valores de uno en uno. Por ejemplo:"
   ]
  },
  {
   "cell_type": "code",
   "execution_count": null,
   "metadata": {},
   "outputs": [],
   "source": [
    "print(\"Comienzo\")\n",
    "for i in [\"Alba\", \"Benito\", 27]:\n",
    "    print(f\"Hola. Ahora i vale {i}\")\n",
    "print(\"Final\")"
   ]
  },
  {
   "cell_type": "code",
   "execution_count": null,
   "metadata": {},
   "outputs": [],
   "source": [
    "lista = \"Comienzo\"\n",
    "for i in lista:\n",
    "    print(f\"Hola. Ahora i vale {i}\")\n",
    "print(\"Final\")"
   ]
  },
  {
   "cell_type": "markdown",
   "metadata": {},
   "source": [
    "La costumbre más extendida es utilizar la letra i como nombre de la variable de control, pero se puede utilizar cualquier otro nombre válido. Por ejemplo:"
   ]
  },
  {
   "cell_type": "code",
   "execution_count": null,
   "metadata": {},
   "outputs": [],
   "source": [
    "print(\"Comienzo\")\n",
    "for numero in  [0, 1, 2, 3]:\n",
    "    print(f\"{numero} * {numero} = {numero ** 2}\")\n",
    "print(\"Final\")"
   ]
  },
  {
   "cell_type": "markdown",
   "metadata": {},
   "source": [
    "COMENTARIOS:\n",
    "\n",
    "- La variable de control puede ser una variable empleada antes del bucle. El valor que tuviera la variable no afecta a la ejecución del bucle, pero cuando termina el bucle, la variable de control conserva el último valor asignado:"
   ]
  },
  {
   "cell_type": "code",
   "execution_count": null,
   "metadata": {},
   "outputs": [],
   "source": [
    "i = 10\n",
    "print(f\"El bucle no ha comenzado. Ahora i vale {i}\")\n",
    "\n",
    "for i in [0, 1, 2, 3, 4]:\n",
    "    print(f\"{i} * {i} = {i ** 2}\")\n",
    "\n",
    "print(f\"El bucle ha terminado. Ahora i vale {i}\")"
   ]
  },
  {
   "cell_type": "markdown",
   "metadata": {},
   "source": [
    "- Cuando se escriben dos o más bucles seguidos, la costumbre es utilizar el mismo nombre de variable puesto que cada bucle establece los valores de la variable sin importar los valores anteriores:"
   ]
  },
  {
   "cell_type": "code",
   "execution_count": null,
   "metadata": {},
   "outputs": [],
   "source": [
    "for i in [0, 1, 2]:\n",
    "    print(f\"{i} * {i} = {i ** 2}\")\n",
    "\n",
    "print()\n",
    "print(i)\n",
    "\n",
    "for i in [0, 1, 2, 3]:\n",
    "    print(f\"{i} * {i} * {i} = {i ** 3}\")"
   ]
  },
  {
   "cell_type": "markdown",
   "metadata": {},
   "source": [
    "- En vez de una lista se puede escribir una cadena, en cuyo caso la variable de control va tomando como valor cada uno de los caracteres:"
   ]
  },
  {
   "cell_type": "code",
   "execution_count": null,
   "metadata": {},
   "outputs": [],
   "source": [
    "for i in \"AMIGO\":\n",
    "    print(f\"Dame una {i}\")\n",
    "print(\"¡AMIGO!\")"
   ]
  },
  {
   "cell_type": "markdown",
   "metadata": {},
   "source": [
    "En los ejemplos anteriores se ha utilizado una lista para facilitar la comprensión del funcionamiento de los bucles pero, si es posible hacerlo, se recomienda utilizar tipos `range()`, entre otros motivos porque durante la ejecución del programa ocupan menos memoria en el ordenador. Otra de las ventajas de utilizar tipos `range()` es que el argumento del tipo `range()` controla el número de veces que se ejecuta el bucle."
   ]
  },
  {
   "cell_type": "code",
   "execution_count": null,
   "metadata": {},
   "outputs": [],
   "source": [
    "print(\"Comienzo\")\n",
    "for _ in range(10):  # cambiar 10\n",
    "    print(\"Hola \", end=\"\")\n",
    "print()\n",
    "print(\"Final\")"
   ]
  },
  {
   "cell_type": "markdown",
   "metadata": {},
   "source": [
    "Esto permite que el número de iteraciones dependa del desarrollo del programa. En el ejemplo siguiente es el usuario quien decide cuántas veces se ejecuta el bucle:"
   ]
  },
  {
   "cell_type": "code",
   "execution_count": null,
   "metadata": {},
   "outputs": [],
   "source": [
    "veces = int(float(input(\"¿Cuántas veces quiere que le salude? \")))\n",
    "for i in range(veces):\n",
    "    print(\"Hola \", end=\"\")\n",
    "print()\n",
    "print(\"Adiós\")"
   ]
  },
  {
   "cell_type": "markdown",
   "metadata": {},
   "source": [
    "### Contadores, testigos y acumuladores\n",
    "\n",
    "En muchos programas se necesitan variables que cuenten cuántas veces ha ocurrido algo (contadores) o que indiquen si simplemente ha ocurrido algo (testigos) o que acumulen valores (acumuladores). Las situaciones pueden ser muy diversas, por lo que en este apartado simplemente se ofrecen unos ejemplos para mostrar la idea.\n",
    "\n",
    "### Contador\n",
    "\n",
    "Se entiende por contador una variable que lleva la cuenta del número de veces que se ha cumplido una condición. El ejemplo siguiente es un ejemplo de programa con contador (en este caso, la variable que hace de contador es la variable cuenta):"
   ]
  },
  {
   "cell_type": "code",
   "execution_count": null,
   "metadata": {},
   "outputs": [],
   "source": [
    "print(\"Comienzo\")\n",
    "cuenta = 0\n",
    "for i in range(1, 6):\n",
    "    #if i % 2 == 0:\n",
    "    if not i % 2 :\n",
    "        #cuenta = cuenta + 1\n",
    "        cuenta += 1\n",
    "print(f\"Desde 1 hasta 5 hay {cuenta} múltiplos de 2\")"
   ]
  },
  {
   "cell_type": "markdown",
   "metadata": {},
   "source": [
    "Detalles importantes:\n",
    "\n",
    "- En cada iteración, el programa comprueba si i es múltiplo de 2.\n",
    "- El contador se modifica sólo si la variable de control i es múltiplo de 2.\n",
    "- El contador va aumentando de uno en uno.\n",
    "- Antes del bucle se debe dar un valor inicial al contador (en este caso, 0)\n",
    "\n",
    "### Testigo\n",
    "Se entiende por testigo una variable que indica simplemente si una condición se ha cumplido o no. Es un caso particular de contador, pero se suele hacer con variables lógicas en vez de numéricas (en este caso, la variable que hace de testigo es la variable encontrado):"
   ]
  },
  {
   "cell_type": "code",
   "execution_count": null,
   "metadata": {},
   "outputs": [],
   "source": [
    "print(\"Comienzo\")\n",
    "extremo = 30\n",
    "encontrado = False\n",
    "for i in range(1, extremo+1):\n",
    "    if i % 2 == 0:\n",
    "        encontrado = True\n",
    "        #print(i)\n",
    "        break\n",
    "\n",
    "if encontrado:\n",
    "    print(f\"Entre 1 y {extremo} hay al menos un múltiplo de 2.\")\n",
    "else:\n",
    "    print(f\"Entre 1 y {extremo} no hay ningún múltiplo de 2.\")"
   ]
  },
  {
   "cell_type": "markdown",
   "metadata": {},
   "source": [
    "Detalles importantes:\n",
    "\n",
    "- En cada iteración, el programa comprueba si `i` es múltiplo de 2.\n",
    "- El testigo se modifica la primera vez que la variable de control `i` es múltiplo de 2.\n",
    "- **El testigo no cambia una vez ha cambiado**.\n",
    "- Antes del bucle se debe dar un valor inicial al testigo (en este caso, False)\n",
    "\n",
    "### Acumulador\n",
    "\n",
    "Se entiende por acumulador una variable que acumula el resultado de una operación. El ejemplo siguiente es un ejemplo de programa con acumulador (en este caso, la variable que hace de acumulador es la variable suma):"
   ]
  },
  {
   "cell_type": "code",
   "execution_count": null,
   "metadata": {},
   "outputs": [],
   "source": [
    "print(\"Comienzo\")\n",
    "suma = 0\n",
    "for i in [1, 2, 3, 4]:\n",
    "    #suma = suma + i\n",
    "    suma += i\n",
    "    \n",
    "print(f\"La suma de los números de 1 a 4 es {suma}\")"
   ]
  },
  {
   "cell_type": "markdown",
   "metadata": {},
   "source": [
    "Detalles importantes:\n",
    "\n",
    "- El acumulador se modifica en cada iteración del bucle (en este caso, el valor de i se añade al acumulador suma).\n",
    "- Antes del bucle se debe dar un valor inicial al acumulador (en este caso, 0)\n",
    "\n",
    "### Bucles anidados\n",
    "\n",
    "Se habla de bucles anidados cuando un bucle se encuentra en el bloque de instrucciones de otro bloque.\n",
    "\n",
    "Al bucle que se encuentra dentro del otro se le puede denominar **bucle interior** o **bucle interno**. El otro bucle sería el **bucle exterior** o **bucle externo**.\n",
    "\n",
    "Aunque en `Python` no es necesario, se recomienda que los nombres de las variables de control de los bucles anidados no coincidan, para evitar ambigüedades."
   ]
  },
  {
   "cell_type": "markdown",
   "metadata": {},
   "source": [
    "1. Bucles anidados (variables independientes)\n",
    "\n",
    "Se dice que las variables de los bucles son independientes cuando los valores que toma la variable de control del bucle interno no dependen del valor de la variable de control del bucle externo. Por ejemplo:"
   ]
  },
  {
   "cell_type": "code",
   "execution_count": null,
   "metadata": {},
   "outputs": [],
   "source": [
    "for i in [0, 1, 2]:\n",
    "    for j in [0, 1]:\n",
    "        print(f\"i vale {i} y j vale {j}\")"
   ]
  },
  {
   "cell_type": "markdown",
   "metadata": {},
   "source": [
    "el número de veces que se ejecuta el bloque de instrucciones del bucle interno es el producto de las veces que se ejecuta cada bucle. En este caso fueron **3 externo, 2 interno, total 6**.\n",
    "\n",
    "En el ejemplo anterior se han utilizado listas para facilitar la comprensión del funcionamiento del bucle pero, si es posible hacerlo, se recomienda utilizar tipos `range()`, entre otros motivos porque durante la ejecución del programa ocupan menos memoria en el ordenador y se pueden hacer depender del desarrollo del programa."
   ]
  },
  {
   "cell_type": "code",
   "execution_count": null,
   "metadata": {},
   "outputs": [],
   "source": [
    "for i in range(3):\n",
    "    for j in range(2):\n",
    "        print(f\"i vale {i} y j vale {j}\")"
   ]
  },
  {
   "cell_type": "markdown",
   "metadata": {},
   "source": [
    "Al escribir bucles anidados, hay que prestar atención al sangrado de las instrucciones, ya que ese sangrado indica a `Python` si una instrucción forma parte de un bloque u otro. En los tres siguientes programas la única diferencia es el sangrado de la última instrucción:"
   ]
  },
  {
   "cell_type": "code",
   "execution_count": null,
   "metadata": {},
   "outputs": [],
   "source": [
    "for i in [1, 2, 3]:\n",
    "    for j in [11, 12]:\n",
    "        print(j, end=\" \")\n",
    "    print(i, end=\" \") # i se escribe cada vez que se ha terminado de ejecutar el bucle interno.\n",
    "\n",
    "# print(i, end=\" \")  # i se escribe una sola vez, al terminarse de ejecutar el bucle externo."
   ]
  },
  {
   "cell_type": "markdown",
   "metadata": {},
   "source": [
    "COMENTARIO: En `Python` se puede incluso utilizar la misma variable en los dos bucles anidados porque Python las trata como si fueran dos variables distintas. "
   ]
  },
  {
   "cell_type": "markdown",
   "metadata": {},
   "source": [
    "2. Bucles anidados (variables dependientes)\n",
    "\n",
    "Se dice que las variables de los bucles son dependientes cuando los valores que toma la variable de control del bucle interno dependen del valor de la variable de control del bucle externo. Por ejemplo:"
   ]
  },
  {
   "cell_type": "code",
   "execution_count": null,
   "metadata": {},
   "outputs": [],
   "source": [
    "for i in [1, 2, 3]:\n",
    "    for j in range(i):\n",
    "        print(f\"i vale {i} y j vale {j}\")"
   ]
  },
  {
   "cell_type": "markdown",
   "metadata": {},
   "source": [
    "En el ejemplo anterior, el bucle externo (el controlado por `i`) se ejecuta 3 veces y el bucle interno (el controlado por `j`) se ejecuta 1, 2 y 3 veces. Por ello la instrucción `print()` se ejecuta en total 6 veces.\n",
    "\n",
    "La variable i toma los valores de 1 a 3 y la variable j toma los valores de 0 a `i`, por lo que cada vez el bucle interno se ejecuta un número diferente de veces:\n",
    "\n",
    "- Cuando `i` vale 1, `range(i)` devuelve la lista [0] y por tanto el bucle interno se ejecuta una sola vez y el programa escribe una sola línea en la que `i` vale 1 (y `j` vale 0).\n",
    "- Cuando `i` vale 2, `range(i)` devuelve la lista [0, 1] y por tanto el bucle interno se ejecuta dos veces y el programa escribe dos líneas en la que `i` vale 2 (y `j` vale 0 o 1 en cada una de ellas).\n",
    "- Cuando `i` vale 3, `range(i)` devuelve la lista [0, 1, 2] y por tanto el bucle interno se ejecuta tres veces y el programa escribe tres líneas en la que `i` vale 3 (y `j` vale 0, 1 o 2 en cada una de ellas)."
   ]
  },
  {
   "cell_type": "markdown",
   "metadata": {},
   "source": [
    "### `for` en una linea (list comprehension)\n",
    "\n",
    "Se necesita definirse dentro de una lista `[]`, diccionario o conjunto {}\n",
    "\n",
    "¿Por qué no una tupla?"
   ]
  },
  {
   "cell_type": "markdown",
   "metadata": {},
   "source": [
    "Ejemplos:"
   ]
  },
  {
   "cell_type": "code",
   "execution_count": null,
   "metadata": {},
   "outputs": [],
   "source": [
    "lis = []\n",
    "for i in 'hola mundo':\n",
    "    lis.append(i)\n",
    "lis"
   ]
  },
  {
   "cell_type": "code",
   "execution_count": null,
   "metadata": {},
   "outputs": [],
   "source": [
    "dat = [i for i in 'hola mundo']\n",
    "dat"
   ]
  },
  {
   "cell_type": "code",
   "execution_count": null,
   "metadata": {},
   "outputs": [],
   "source": [
    "dat = [i for i in range(10)]\n",
    "dat"
   ]
  },
  {
   "cell_type": "markdown",
   "metadata": {},
   "source": [
    "Se pueden añadir condicionales\n",
    "\n",
    "**Estructura**"
   ]
  },
  {
   "cell_type": "code",
   "execution_count": null,
   "metadata": {},
   "outputs": [],
   "source": [
    "# lista = [(expresión) for (elemento) in (iterable) if (condición)]"
   ]
  },
  {
   "cell_type": "markdown",
   "metadata": {},
   "source": [
    " la expresión sólo se aplicará al elemento si se cumple la condición. "
   ]
  },
  {
   "cell_type": "code",
   "execution_count": null,
   "metadata": {},
   "outputs": [],
   "source": [
    "# ejemplo\n",
    "frase = \"Qué rápido corren los atletas\"\n",
    "erres = [i for i in frase if i == 'r']\n",
    "erres"
   ]
  },
  {
   "cell_type": "markdown",
   "metadata": {},
   "source": [
    "VEAMOS UNOS EJEMPLOS INTERESANTES"
   ]
  },
  {
   "cell_type": "code",
   "execution_count": null,
   "metadata": {},
   "outputs": [],
   "source": [
    "# Sets comprehension\n",
    "frase = \"Qué rápido corren los atletas\"\n",
    "erres = [i for i in frase if i == 'r']  # QUE CREEN QUE SALGA\n",
    "erres"
   ]
  },
  {
   "cell_type": "code",
   "execution_count": null,
   "metadata": {},
   "outputs": [],
   "source": [
    "# diccionarios comprehension\n",
    "# es necesario una tupla key, value\n",
    "lista1 = ['nombre', 'edad', 'región']\n",
    "lista2 = ['Pelayo', 30, 'Asturias']\n",
    "\n",
    "mi_dict = {i:j for i,j in zip(lista1, lista2)}\n",
    "\n",
    "mi_dict"
   ]
  },
  {
   "cell_type": "markdown",
   "metadata": {},
   "source": [
    "## El bucle while\n",
    "\n",
    "Un bucle `while` permite repetir la ejecución de un grupo de instrucciones mientras se cumpla una condición (es decir, mientras la condición tenga el valor`True`).\n",
    "\n",
    "La sintaxis del bucle while es la siguiente:"
   ]
  },
  {
   "cell_type": "code",
   "execution_count": null,
   "metadata": {},
   "outputs": [],
   "source": [
    "while condicion:\n",
    "    cuerpo del bucle"
   ]
  },
  {
   "cell_type": "markdown",
   "metadata": {},
   "source": [
    "La ejecución de esta estructura de control while es la siguiente:\n",
    "\n",
    "Python evalúa la condición:\n",
    "- si el resultado es `True` se ejecuta el cuerpo del bucle. Una vez ejecutado el cuerpo del bucle, se repite el proceso (se evalúa de nuevo la condición y, si es cierta, se ejecuta de nuevo el cuerpo del bucle) una y otra vez mientras la condición sea cierta.\n",
    "- si el resultado es `False`, el cuerpo del bucle no se ejecuta y continúa la ejecución del resto del programa.\n",
    "La variable o las variables que aparezcan en la condición se suelen llamar variables de control. Las variables de control deben definirse antes del bucle while y modificarse en el bucle while.\n",
    "\n",
    "<img src= \"capturas\\plot3.png\">\n",
    "\n",
    "Si incluimos en este esquema la definición y modificación de las variables de control que intervienen en la condición, el diagrama de flujo sería el siguiente:\n",
    "\n",
    "<img src= \"capturas\\plot4.png\">"
   ]
  },
  {
   "cell_type": "code",
   "execution_count": null,
   "metadata": {},
   "outputs": [],
   "source": [
    "i = 1\n",
    "while i <= 3:\n",
    "    print(i)\n",
    "    i += 1\n",
    "print(\"Programa terminado\")"
   ]
  },
  {
   "cell_type": "markdown",
   "metadata": {},
   "source": [
    "El ejemplo anterior se podría haber programado con un bucle for. La ventaja de un bucle `while` es que la variable de control se puede modificar con mayor flexibilidad, como en el ejemplo siguiente:"
   ]
  },
  {
   "cell_type": "code",
   "execution_count": null,
   "metadata": {},
   "outputs": [],
   "source": [
    "i = 1\n",
    "while i <= 50:\n",
    "    print(i)\n",
    "    i = 3 * i + 1\n",
    "print(\"Programa terminado\")"
   ]
  },
  {
   "cell_type": "markdown",
   "metadata": {},
   "source": [
    "Otra ventaja del bucle `while ` es que el número de iteraciones no está definida antes de empezar el bucle, por ejemplo porque los datos los proporciona el usuario. Por ejemplo, el siguiente ejemplo pide un número positivo al usuario una y otra vez hasta que el usuario lo haga correctamente:"
   ]
  },
  {
   "cell_type": "code",
   "execution_count": null,
   "metadata": {},
   "outputs": [],
   "source": [
    "numero = int(input(\"Escriba un número positivo: \"))\n",
    "while numero < 0:\n",
    "    print(\"¡Ha escrito un número negativo! Inténtelo de nuevo\")\n",
    "    numero = int(input(\"Escriba un número positivo: \"))\n",
    "print(\"Gracias por su colaboración\")"
   ]
  },
  {
   "cell_type": "code",
   "execution_count": null,
   "metadata": {},
   "outputs": [],
   "source": [
    "# en una linea\n",
    "x = 5\n",
    "while x > 0: x-=1; print(x)"
   ]
  },
  {
   "cell_type": "code",
   "execution_count": null,
   "metadata": {},
   "outputs": [],
   "source": [
    "i=0\n",
    "while True:\n",
    "    print('Hola')\n",
    "    i += 1\n",
    "    if i == 10:\n",
    "        break"
   ]
  },
  {
   "cell_type": "markdown",
   "metadata": {},
   "source": [
    "### Nota: Bucles infinitos\n",
    "\n",
    "Si la condición del bucle se cumple siempre, el bucle no terminará nunca de ejecutarse y tendremos lo que se denomina un bucle infinito. Aunque a veces es necesario utilizar bucles infinitos en un programa, normalmente se deben a errores que se deben corregir."
   ]
  },
  {
   "cell_type": "markdown",
   "metadata": {},
   "source": [
    "### `Else` y `while`"
   ]
  },
  {
   "cell_type": "markdown",
   "metadata": {},
   "source": [
    "Algo no muy corriente en otros lenguajes de programación pero si en Python, es el uso de la cláusula else al final del while. Podemos ver el ejemplo anterior mezclado con el else. La sección de código que se encuentra dentro del else, se ejecutará cuando el bucle termine, pero solo si lo hace “por razones naturales”. Es decir, si el bucle termina porque la condición se deja de cumplir, y no porque se ha hecho uso del break."
   ]
  },
  {
   "cell_type": "code",
   "execution_count": null,
   "metadata": {},
   "outputs": [],
   "source": [
    "x = 5\n",
    "while x > 0:\n",
    "    x -=1\n",
    "    print(x) #4,3,2,1,0\n",
    "else:\n",
    "    print(\"El bucle ha finalizado\")"
   ]
  },
  {
   "cell_type": "markdown",
   "metadata": {},
   "source": [
    "Podemos ver como si el bucle termina por el break, el print() no se ejecutará. Por lo tanto, se podría decir que si no hay realmente ninguna sentencia break dentro del bucle, tal vez no tenga mucho sentido el uso del else, ya que un bloque de código fuera del bucle cumplirá con la misma funcionalidad."
   ]
  },
  {
   "cell_type": "code",
   "execution_count": null,
   "metadata": {},
   "outputs": [],
   "source": [
    "x = 5\n",
    "while True:\n",
    "    x -= 1\n",
    "    print(x) #4, 3, 2, 1, 0\n",
    "    if x == 0:\n",
    "        break\n",
    "else:\n",
    "    # El print no se ejecuta\n",
    "    print(\"Fin del bucle\")"
   ]
  },
  {
   "cell_type": "markdown",
   "metadata": {},
   "source": [
    "### `while` anidados"
   ]
  },
  {
   "cell_type": "code",
   "execution_count": null,
   "metadata": {},
   "outputs": [],
   "source": [
    "# ejemplo\n",
    "# Permutación a generar\n",
    "i = 0\n",
    "j = 0\n",
    "while i < 3:\n",
    "    while j < 3:\n",
    "        print(i,j)\n",
    "        j += 1\n",
    "    i += 1\n",
    "    j = 0"
   ]
  },
  {
   "cell_type": "markdown",
   "metadata": {},
   "source": [
    "## Ejercicios\n",
    "\n",
    "1. Hacer un juego del ahorcado.\n",
    "2. Imprimir todos los dígitos decimales, del 0 al 9, utilizando una repetición.\n",
    "3. Imprimir todos los números entre el 100 y el 199.\n",
    "4. Imprimir los números entre el 5 y el 20, saltando de tres en tres.\n",
    "5. Escribir un programa que solicite al usuario una cantidad y luego itere la cantidad de veces dada. En cada iteración, solicitar al usuario que ingrese un número. Al finalizar, mostrar la suma de todos los números ingresados.\n",
    "6. Solicitar al usuario que ingrese una frase y luego imprimir un listado de las vocales que aparecen en esa frase (sin repetirlas).\n",
    "7. Solicitar al usuario que ingrese una frase y luego imprimir la cantidad de vocales que se encuentran en dicha frase.\n",
    "8. Escribir un programa que muestre la sumatoria de todos los múltiplos de 3 encontrados entre el 0 y el 100.\n",
    "9. Dado un número entero positivo, mostrar su factorial. El factorial de un número se obtiene multiplicando todos los números enteros positivos que hay entre el 1 y ese número.\n",
    "10. Escribir un programa que permita al usuario ingresar 6 números enteros, que pueden ser positivos o negativos. Al finalizar, mostrar la sumatoria de los números negativos y el promedio de los positivos.  No olvides que no es posible dividir por cero, por lo que es necesario evitar que el programa arroje un error si no se ingresaron números positivos.\n",
    "11. Escribir un programa que permita al usuario ingresar dos años y luego imprima todos los años en ese rango, que sean bisiestos y múltiplos de 10. Nota: para que un año sea bisiesto debe ser divisible por 4 y no debe ser divisible por 100, excepto que también sea divisible por 400.\n",
    "12. Un grupo de amigos decide organizar un juego de estrategia, para lo cual forman dos equipos de 6 integrantes cada uno, donde un integrante de cada equipo es el “jefe” y los otros 5 son sus “oficiales”. La regla más importante del juego es que sólo se comunicarán mediante un canal común, por lo que deben buscar la forma de ocultar el contenido de sus mensajes. Uno de los equipos decide utilizar un método antiguo de encriptación llamado “la cifra del césar”, que consiste en correr cada letra del mensaje –considerando la posición de cada una en el alfabeto– una determinada cantidad de lugares. \n",
    "    \n",
    "    Ejemplo: si el corrimiento es de 2 lugares, la palabra “ATAQUE” se transforma en “CVCSWG”.  Cada día, el “jefe” del equipo debe enviar un mensaje a cada uno de sus oficiales. Escribir un programa que permita encriptar los 5 mensajes. El corrimiento (cantidad de lugares que se correrán las letras) será dado por el usuario antes de comenzar a encriptar. Los 5 mensajes usarán el mismo corrimiento. \n",
    "    Nota: si el alfabeto termina antes de poder correr la cantidad de lugares necesarios, se vuelve a comenzar desde la letra “a”. Ejemplo: la palabra “EXTRA” corrida 3 lugares se convierte en “HAWUD”. Utilizando el alfabeto español, de 27 letras, el siguiente cálculo matemático permite volver a comenzar por el principio una vez que se llegó a la “z”: (índice de la letra a correr+corrimiento)%27 Sólo se encriptarán las letras de los mensajes, dejando al resto de caracteres sin modificación."
   ]
  },
  {
   "cell_type": "code",
   "execution_count": null,
   "metadata": {},
   "outputs": [],
   "source": []
  },
  {
   "cell_type": "code",
   "execution_count": null,
   "metadata": {},
   "outputs": [],
   "source": [
    "# respuesta 1\n",
    "\n",
    "import sys\n",
    " \n",
    "def mensajes(tipo, comp1=None, comp2=None):\n",
    "    mensajes = {\n",
    "                'intro': f'El juego consiste en adivinar una palabra de {comp1} letras \\n y se tendrán {comp2} oportunidades.\\\n",
    "                        \\n Las letras se considerarán en minusculas',\n",
    "                'in': 'Introduzca una letra ',\n",
    "                'rep': 'Introduzca otra letra no repetida',\n",
    "                'oport': f'No está presente la letra \\n te quedan {comp1} oportunidades',\n",
    "                'win': 'FELICIDADES GANASTE',\n",
    "                'lost': f'PERDISTE, la palabra era {comp1}'}\n",
    "    print(mensajes[tipo])\n",
    "\n",
    "def check_coherencia(oport, palabra):\n",
    "    if not(type(oport) is int):\n",
    "        sys.exit('Error: Las Oportunidades debe ser un entero')\n",
    "    elif not(type(palabra) is str):\n",
    "        sys.exit('Error: la variable palabra debe ser un string')\n",
    "    elif ' ' in palabra:\n",
    "        sys.exit('Error: Tiene que ser una palabra')\n",
    "           \n",
    "def check_rep(almac, test):\n",
    "    return (test in almac)\n",
    "    \n",
    "def check_in(palabra, test):\n",
    "    posiciones = [i for i in range(len(palabra)) if test == palabra[i]]\n",
    "    return posiciones\n",
    "\n",
    "def impresion(temp, nspac):\n",
    "    for i in range(nspac):\n",
    "        if i<nspac-1:\n",
    "            print(temp[i], end='')\n",
    "        else:\n",
    "            print(temp[i], end='\\n')\n",
    "        \n",
    "def game_ahorcado(palabra='ahorcado', oport=3):\n",
    "    \"\"\"\n",
    "    In: \n",
    "    palabra -> palabra a adivinar\n",
    "    oport -> oportunidades\n",
    "    \n",
    "    Variables:\n",
    "    almac -> guardará las letras correctas\n",
    "    temp -> objeto que se irá imprimiendo\n",
    "    test -> objeto que almacenará la letra introducida\n",
    "    \n",
    "    Funciones:\n",
    "    check_coherencia -> revisa que las entradas sean del tipo adecuado: palabra -> str, oport->int\n",
    "    mensajes -> imprime los diferentes tipos de mensajes: 'intro', 'in', 'rep', 'oport', 'win', 'lost'\n",
    "    impresion -> imprime temp en pantalla\n",
    "    check_rep -> revisa si la letra introducida (test) ya fue usada, es decir si se encuentra dentro de almac\n",
    "    check_in -> revisa y retorna en caso de haber concordancia las posiciones donde se localizo la letra introducida\n",
    "    \"\"\"\n",
    "    # revisando\n",
    "    check_coherencia(oport, palabra)\n",
    "    \n",
    "    # acondicionando\n",
    "    almac = []  # almacenando las entradas \n",
    "    palabra =  palabra.lower()\n",
    "    nspac = len(palabra)\n",
    "    mensajes('intro', *[nspac, oport]) \n",
    "    \n",
    "    temp = ['_ ' for _ in range(nspac)]\n",
    "    impresion(temp, nspac)\n",
    "    \n",
    "    # Comenzando\n",
    "    mensajes('in')\n",
    "    test = input().lower()\n",
    "    while True:\n",
    "        if check_rep(almac, test):\n",
    "            mensajes('rep')\n",
    "            test = input().lower()\n",
    "        else:\n",
    "            posiciones = check_in(palabra, test)\n",
    "            if len(posiciones) == 0:  # cuando no está la letra\n",
    "                oport -= 1\n",
    "                if oport == 0:  # si se acabaron las oportunidades\n",
    "                    mensajes('lost', comp1=palabra)\n",
    "                    break\n",
    "                else:  # descontando oportunidades\n",
    "                    mensajes('oport', comp1=oport)\n",
    "                    test = input().lower()\n",
    "            else:  # en caso de q si este la letra\n",
    "                almac.append(test)\n",
    "                for i in posiciones:\n",
    "                    temp[i] = test\n",
    "                \n",
    "                impresion(temp, nspac)\n",
    "                temp_pal = ''.join(temp)\n",
    "                if palabra == temp_pal:\n",
    "                    mensajes('win')\n",
    "                    break\n",
    "                else:\n",
    "                    mensajes('in')\n",
    "                    test = input().lower()  \n",
    "    return\n",
    "\n",
    "game_ahorcado(palabra='casa', oport=3)"
   ]
  },
  {
   "cell_type": "code",
   "execution_count": null,
   "metadata": {},
   "outputs": [],
   "source": [
    "# respuesta 2\n",
    "[print(i) for i in range(10)]\n",
    "\n",
    "# respuesta 3\n",
    "[print(i) for i in range(100, 200)]\n",
    " \n",
    "# respuesta 4\n",
    "[print(i) for i in range(5, 20, 3)]\n",
    "\n",
    "# respuesta 5\n",
    "c = int(input(\"Cantidad de números a repetir: \"))\n",
    "acumulado = 0\n",
    "for _ in range(c):\n",
    "    numero = int(input(\"Número: \"))\n",
    "    acumulado += numero\n",
    "\n",
    "print(\"Total de la suma:\", acumulado)\n",
    "\n",
    "# respuesta 6\n",
    "frase = input(\"Frase: \")\n",
    "print(\"Vocales en la frase:\")\n",
    "voc = {i for i in \"aeiou\" if i in frase}\n",
    "print(''.join(voc))\n",
    "        \n",
    "# respuesta 7\n",
    "frase = input(\"Frase: \")\n",
    "print(\"Cantidad de vocales:\")\n",
    "voc = [i for i in frase if i in \"aeiou\"]\n",
    "# voc = [i for i in \"aeiou\" if i in frase]  # por qué no así\n",
    "print(len(voc))\n",
    "\n",
    "# alternativa\n",
    "frase = input(\"Frase: \")\n",
    "contador = 0\n",
    "for i in frase:\n",
    "    if i in \"aeiou\":\n",
    "        contador += 1\n",
    "print(\"Cantidad de vocales:\", contador)\n",
    "\n",
    "# respuesta 8\n",
    "acumulado =  sum([i for i in range(101) if i%3 == 0])\n",
    "print(\"Sumatoria de los múltiplos de 3:\", acumulado)\n",
    "\n",
    "# alternativa\n",
    "acumulado = 0\n",
    "for i in range(101):\n",
    "    if i%3 == 0:\n",
    "        acumulado += i\n",
    "print(\"Sumatoria de los múltiplos de 3:\", acumulado)\n",
    "\n",
    "# respuesta 9\n",
    "numero = int(input(\"Número:\"))\n",
    "\n",
    "f = 1\n",
    "if numero != 0:\n",
    "    for i in range(numero, 1, -1):\n",
    "        f *= i\n",
    "print(\"Factorial:\", f)\n",
    "\n",
    "# respuesta 10\n",
    "Posit, Neg, numeros = [], [], []\n",
    "for _ in range(6):\n",
    "    nro = int(input(\"Número: \"))\n",
    "    numeros.append(nro)\n",
    "    if nro > 0:\n",
    "        Posit.append(nro)\n",
    "    elif nro < 0:\n",
    "        Neg.append(nro)\n",
    "    else:\n",
    "        sys.exit('Error: el cero no es ni positivo, ni negativo')\n",
    "\n",
    "ntot = len(Posit)\n",
    "print('lista de numeros -> ', numeros)\n",
    "print('Sumatoria de los negativos: ', sum(Neg))  \n",
    "print('Promedio de los positivos: ', sum(Posit)/ntot) if ntot !=0 else print('No se introdujeron num. positivos')\n",
    "    \n",
    "# respuesta 11\n",
    "anioInicio = int(input(\"Año inicial:\"))\n",
    "anioFin = int(input(\"Año final:\"))\n",
    "for anio in range(anioInicio, anioFin+1):\n",
    "    if anio%10 or anio%4:  # equivalente a: if (not anio%10 == 0) or (not anio%4 == 0):\n",
    "        continue \n",
    "    # los que no entren en el if serán los que son divisibles por 10 y 4\n",
    "    if anio%100 or not(anio%400):  # equivalente a: if anio%100 != 0 or anio%400 == 0\n",
    "        print(anio)"
   ]
  },
  {
   "cell_type": "code",
   "execution_count": 9,
   "metadata": {},
   "outputs": [
    {
     "name": "stdout",
     "output_type": "stream",
     "text": [
      "*** Mensaje encriptado:  jqnc swg vcn, gurgtq s dkgo\n",
      "*** Mensaje encriptado:  uk\n"
     ]
    }
   ],
   "source": [
    "# respuesta 12\n",
    "def en_des(mensaje, corrimiento=3, enc=True):\n",
    "    alfabeto = \"abcdefghijklmnñopqrstuvwxyz\"\n",
    "    encriptado = \"\"\n",
    "    \n",
    "    for caracter in mensaje:\n",
    "        lowcaract = caracter.lower()\n",
    "        if lowcaract in alfabeto:\n",
    "            indice = alfabeto.find(lowcaract)\n",
    "            if enc:\n",
    "                indice = (indice+corrimiento)%len(alfabeto)\n",
    "            else:\n",
    "                indice = (indice-corrimiento)%len(alfabeto)\n",
    "            encriptado += alfabeto[indice]\n",
    "        else:\n",
    "            encriptado += caracter\n",
    "    \n",
    "    return encriptado\n",
    "\n",
    "num_mensaj = 2\n",
    "corrimiento = int(input(\"Corrimiento: \"))\n",
    "for i in range(1, num_mensaj+1):\n",
    "    mensaje = input(\"Mensaje a encriptar num %d: \"%i)\n",
    "    encriptado = en_des(mensaje, corrimiento=corrimiento, enc=True)\n",
    "    print(\"*** Mensaje encriptado: \", encriptado)\n",
    "    "
   ]
  },
  {
   "cell_type": "code",
   "execution_count": 11,
   "metadata": {},
   "outputs": [
    {
     "data": {
      "text/plain": [
       "'hola que tal, espero q bien'"
      ]
     },
     "execution_count": 11,
     "metadata": {},
     "output_type": "execute_result"
    }
   ],
   "source": [
    "mensaje = 'jqnc swg vcn, gurgtq s dkgo'\n",
    "corrimiento = 2\n",
    "encriptado = en_des(mensaje, corrimiento=corrimiento, enc=False)\n",
    "encriptado"
   ]
  }
 ],
 "metadata": {
  "kernelspec": {
   "display_name": "base",
   "language": "python",
   "name": "python3"
  },
  "language_info": {
   "codemirror_mode": {
    "name": "ipython",
    "version": 3
   },
   "file_extension": ".py",
   "mimetype": "text/x-python",
   "name": "python",
   "nbconvert_exporter": "python",
   "pygments_lexer": "ipython3",
   "version": "3.11.4"
  }
 },
 "nbformat": 4,
 "nbformat_minor": 2
}

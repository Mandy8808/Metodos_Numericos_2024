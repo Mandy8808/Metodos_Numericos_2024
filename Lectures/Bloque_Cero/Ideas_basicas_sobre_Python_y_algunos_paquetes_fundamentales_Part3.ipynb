{
 "cells": [
  {
   "cell_type": "markdown",
   "metadata": {},
   "source": [
    "# `Bloque Cero`"
   ]
  },
  {
   "cell_type": "markdown",
   "metadata": {},
   "source": [
    "## Tema: Ideas básicas sobre Python y algunos paquetes fundamentales (part3)\n"
   ]
  },
  {
   "cell_type": "markdown",
   "metadata": {},
   "source": [
    "## Tópicos:\n",
    "- Indentación (sangrado)\n",
    "\n",
    "- Condicional `if` (`elif`, `else`)\n",
    "\n",
    "- Comandos `break` y `continue`\n",
    "\n",
    "- Los ciclos `for`, `while` (`else`, `break`, `continue`, `pass`)"
   ]
  },
  {
   "cell_type": "code",
   "execution_count": null,
   "metadata": {},
   "outputs": [],
   "source": []
  },
  {
   "cell_type": "markdown",
   "metadata": {},
   "source": [
    "## Indentación\n",
    "\n",
    "En Python, la indentación (sangrado) es fundamental para definir los bloques de código en estructuras condicionales, bucles y funciones. A diferencia de otros lenguajes que usan llaves `{}` o palabras clave como `begin` y `end`, Python utiliza la indentación para estructurar el código."
   ]
  },
  {
   "cell_type": "markdown",
   "metadata": {},
   "source": [
    "🔹 Reglas de indentación\n",
    "1.\tCada bloque de código en Python debe estar indentado con la misma cantidad de espacios.\n",
    "\n",
    "2.\tLa indentación recomendada es de `4 espacios` (aunque algunos editores permiten usar tabulaciones).\n",
    "\n",
    "3.\tSi no se respeta la indentación, se genera un error de sintaxis (`IndentationError`)."
   ]
  },
  {
   "cell_type": "markdown",
   "metadata": {},
   "source": [
    "✅ Ejemplo con indentación correcta:"
   ]
  },
  {
   "cell_type": "code",
   "execution_count": null,
   "metadata": {},
   "outputs": [],
   "source": [
    "# con if\n",
    "edad = 20\n",
    "\n",
    "if edad >= 18:\n",
    "    print(\"Eres mayor de edad\")  # Bloque correctamente indentado\n",
    "    print(\"Puedes votar\")        # Este también pertenece al bloque de if\n",
    "else:\n",
    "    print(\"Eres menor de edad\")  # Bloque correctamente indentado"
   ]
  },
  {
   "cell_type": "code",
   "execution_count": null,
   "metadata": {},
   "outputs": [],
   "source": [
    "# con for\n",
    "for i in range(3):\n",
    "    print(f\"Iteración {i}\")  # Correctamente indentado\n",
    "print(\"Fin del bucle\")  # Fuera del bucle"
   ]
  },
  {
   "cell_type": "code",
   "execution_count": null,
   "metadata": {},
   "outputs": [],
   "source": [
    "# con while\n",
    "contador = 0\n",
    "\n",
    "while contador < 3:\n",
    "    print(f\"Contador: {contador}\")  # Correctamente indentado\n",
    "    contador += 1\n",
    "print(\"Bucle terminado\")  # Fuera del bucle"
   ]
  },
  {
   "cell_type": "code",
   "execution_count": null,
   "metadata": {},
   "outputs": [],
   "source": [
    "# con funciones\n",
    "def saludo():\n",
    "    print(\"Hola, mundo\")  # Correctamente indentado\n",
    "\n",
    "saludo()  # Llamada a la función"
   ]
  },
  {
   "cell_type": "markdown",
   "metadata": {},
   "source": [
    "❌ Ejemplo con indentación incorrecta:"
   ]
  },
  {
   "cell_type": "code",
   "execution_count": null,
   "metadata": {},
   "outputs": [],
   "source": [
    "# Ejemplo con indentación incorrecta\n",
    "edad = 20\n",
    "\n",
    "if edad >= 18:\n",
    "print(\"Eres mayor de edad\")  # ❌ ERROR: no está indentado\n",
    "print(\"Puedes votar\")        # ❌ ERROR: tampoco está indentado"
   ]
  },
  {
   "cell_type": "code",
   "execution_count": null,
   "metadata": {},
   "outputs": [],
   "source": [
    "for i in range(3):\n",
    "print(f\"Iteración {i}\")  # ❌ ERROR: falta indentación"
   ]
  },
  {
   "cell_type": "code",
   "execution_count": null,
   "metadata": {},
   "outputs": [],
   "source": [
    "while contador < 3:\n",
    "print(f\"Contador: {contador}\")  # ❌ ERROR: falta indentación\n",
    "contador += 1"
   ]
  },
  {
   "cell_type": "code",
   "execution_count": null,
   "metadata": {},
   "outputs": [],
   "source": [
    "def saludo():\n",
    "print(\"Hola, mundo\")  # ❌ ERROR: falta indentación"
   ]
  },
  {
   "cell_type": "markdown",
   "metadata": {},
   "source": [
    "`COMENTARIOS:`\n",
    "\n",
    "Se aconseja utilizar siempre el mismo número de espacios en el sangrado, aunque Python permite que cada bloque tenga un número distinto. El siguiente programa es correcto:"
   ]
  },
  {
   "cell_type": "code",
   "execution_count": null,
   "metadata": {},
   "outputs": [],
   "source": [
    "edad = 18\n",
    "if edad < 18:\n",
    "        print(\"Es usted menor de edad\")\n",
    "        print(\"Recuerde que está en la edad de aprender\")\n",
    "else:\n",
    "    print(\"Es usted mayor de edad\")\n",
    "    print(\"Recuerde que debe seguir aprendiendo\")\n",
    "\n",
    "print(\"¡Hasta la próxima!\")"
   ]
  },
  {
   "cell_type": "markdown",
   "metadata": {},
   "source": [
    "Lo que no se permite es que en un mismo bloque haya instrucciones con distintos sangrados. Dependiendo del orden de los sangrados, el mensaje de error al intentar ejecutar el programa será diferente:\n",
    "\n",
    "\n",
    "- En este caso, la primera instrucción determina el sangrado de ese bloque, por lo que al encontrar la segunda instrucción, con un sangrado mayor, se produce el error `\"unexpected indent\" ` (sangrado inesperado)."
   ]
  },
  {
   "cell_type": "code",
   "execution_count": null,
   "metadata": {},
   "outputs": [],
   "source": [
    "edad = 18\n",
    "\n",
    "if edad < 18:\n",
    "    print(\"Es usted menor de edad\")\n",
    "        print(\"Recuerde que está en la edad de aprender\")\n",
    "else:\n",
    "    print(\"Es usted mayor de edad\")\n",
    "    print(\"Recuerde que debe seguir aprendiendo\")\n",
    "print(\"¡Hasta la próxima!\")"
   ]
  },
  {
   "cell_type": "markdown",
   "metadata": {},
   "source": [
    "- La primera instrucción determina el sangrado del bloque, por lo que al encontrar la segunda instrucción, con un sangrado menor, `Python` entiende que esa instrucción pertenece a otro bloque, pero como no hay ningún bloque con ese nivel de sangrado, se produce el error `\"unindent does not match any outer indentation level\"`(el sangrado no coincide con el de ningún nivel superior)."
   ]
  },
  {
   "cell_type": "code",
   "execution_count": null,
   "metadata": {},
   "outputs": [],
   "source": [
    "edad = int(input(\"¿Cuántos años tiene? \"))\n",
    "if edad < 18:\n",
    "        print(\"Es usted menor de edad\")\n",
    "    print(\"Recuerde que está en la edad de aprender\")\n",
    "else:\n",
    "    print(\"Es usted mayor de edad\")\n",
    "    print(\"Recuerde que debe seguir aprendiendo\")\n",
    "print(\"¡Hasta la próxima!\")"
   ]
  },
  {
   "cell_type": "markdown",
   "metadata": {},
   "source": [
    "- En este caso, como la segunda instrucción no tiene sangrado, Python entiende que la bifurcación `if` ha terminado, por lo que al encontrar un `else` sin su `if` correspondiente se produce el error `\"invalid syntax\"` (sintaxis no válida)."
   ]
  },
  {
   "cell_type": "code",
   "execution_count": null,
   "metadata": {},
   "outputs": [],
   "source": [
    "edad = int(input(\"¿Cuántos años tiene? \"))\n",
    "if edad < 18:\n",
    "    print(\"Es usted menor de edad\")\n",
    "print(\"Recuerde que está en la edad de aprender\")\n",
    "else:\n",
    "    print(\"Es usted mayor de edad\")\n",
    "    print(\"Recuerde que debe seguir aprendiendo\")\n",
    "print(\"¡Hasta la próxima!\")"
   ]
  },
  {
   "cell_type": "code",
   "execution_count": null,
   "metadata": {},
   "outputs": [],
   "source": []
  },
  {
   "cell_type": "markdown",
   "metadata": {},
   "source": [
    "### Condicional `if`\n",
    "\n",
    "#### Sentencia `if`/`else`\n",
    "\n",
    "La sentencia condicional `if` se usa para tomar decisiones en un programa. Evalúa una expresión lógica que da como resultado `True` o `False`, y ejecuta el bloque de código correspondiente si la condición es verdadera."
   ]
  },
  {
   "cell_type": "raw",
   "metadata": {
    "vscode": {
     "languageId": "raw"
    }
   },
   "source": [
    "if condicion:\n",
    "    # Código a ejecutar si la condición es True"
   ]
  },
  {
   "cell_type": "code",
   "execution_count": null,
   "metadata": {},
   "outputs": [],
   "source": [
    "# Ejemplos\n",
    "edad = 18\n",
    "if edad >= 18:\n",
    "    print(\"Eres mayor de edad\")"
   ]
  },
  {
   "cell_type": "markdown",
   "metadata": {},
   "source": [
    "La condición, `edad >= 18:` **SIEMPRE** se evalúa\n",
    "\n",
    "- Si el resultado es `True` se ejecuta el bloque de sentencias\n",
    "\n",
    "- Si el resultado es `False` no se ejecuta el bloque de sentencias.\n",
    "\n",
    "`IMPORTANTE:` \n",
    "- La primera línea contiene la condición a evaluar y es una expresión lógica. Esta línea debe terminar siempre por dos puntos (`:`).\n",
    "\n",
    "- Es importante señalar que este bloque tiene una sangría, puesto que Python utiliza la misma para reconocer las líneas que forman un bloque de instrucciones. Este espaceado es de cuatro espacios, pero se pueden utilizar más o menos espacios. Para terminar un bloque, basta con volver al principio de la línea."
   ]
  },
  {
   "cell_type": "markdown",
   "metadata": {},
   "source": [
    "🔹 Bifurcaciones: \n",
    "\n",
    "`if` ... `else` ...\n",
    "\n",
    "La estructura de control `if` ... `else` ... permite que un programa ejecute unas instrucciones cuando se cumple una condición y otras instrucciones cuando no se cumple esa condición. La orden en Python se escribe así:"
   ]
  },
  {
   "cell_type": "raw",
   "metadata": {
    "vscode": {
     "languageId": "raw"
    }
   },
   "source": [
    "if condicion:\n",
    "    # Código si la condición es True\n",
    "else:\n",
    "    # Código si la condición es False"
   ]
  },
  {
   "cell_type": "code",
   "execution_count": null,
   "metadata": {},
   "outputs": [],
   "source": [
    "# Ejemplo\n",
    "\n",
    "edad = 16\n",
    "if edad >= 18:\n",
    "    print(\"Eres mayor de edad\")\n",
    "else:\n",
    "    print(\"Eres menor de edad\")"
   ]
  },
  {
   "cell_type": "markdown",
   "metadata": {},
   "source": [
    "La ejecución de esta construcción es la siguiente:\n",
    "\n",
    "- La condición se evalúa siempre.\n",
    "\n",
    "- Si el resultado es `True` se ejecuta solamente el bloque de sentencias 1.\n",
    "\n",
    "- Si el resultado es `False` se ejecuta solamente el bloque de sentencias 2.\n",
    "\n",
    "`IMPORTANTE:`\n",
    "- La primera línea contiene la condición a evaluar. Esta línea debe terminar siempre por dos puntos (:).\n",
    "- La línea con la orden `else`, que indica a Python que el bloque que viene a continuación se tiene que ejecutar cuando la condición no se cumpla (es decir, cuando sea falsa). Esta línea también debe terminar siempre por dos puntos (`:`) y no debe incluir nada más que el else y los dos puntos."
   ]
  },
  {
   "cell_type": "markdown",
   "metadata": {},
   "source": [
    "<img src= \"capturas\\plot1.png\">"
   ]
  },
  {
   "cell_type": "markdown",
   "metadata": {},
   "source": [
    "`COMENTARIO:`\n",
    "\n",
    "Notemos que usar dos `if`, sería equivalente a usar `if` ... `else` .. , aunque se puede hacer, en la práctica es mejor no hacerlo así, por dos motivos:\n",
    "\n",
    "- al poner dos bloques `if` estamos obligando a Python a evaluar siempre las dos condiciones, mientras que en un bloque `if` ... `else` .. sólo se evalúa una condición. En un programa sencillo la diferencia no es apreciable, pero en programas que ejecutan muchas comparaciones, el impacto puede ser apreciable. utilizando `else` nos ahorramos escribir una condición.\n",
    "\n",
    "- utilizando `if` ... `else` nos aseguramos de que se ejecuta uno de los dos bloques de instrucciones. Utilizando dos`if` cabría la posibilidad de que no se cumpliera ninguna de las dos condiciones y no se ejecutara ninguno de los dos bloques de instrucciones."
   ]
  },
  {
   "cell_type": "code",
   "execution_count": null,
   "metadata": {},
   "outputs": [],
   "source": [
    "# Ejemplo\n",
    "x = 10\n",
    "\n",
    "if x > 5:\n",
    "    print(\"Mayor que 5\")\n",
    "else:\n",
    "    print(\"Menor o igual a 5\")\n",
    "\n",
    "\n",
    "# Equivalente\n",
    "if x > 5:\n",
    "    print(\"Mayor que 5\")\n",
    "\n",
    "if x <= 5:\n",
    "    print(\"Menor o igual a 5\")"
   ]
  },
  {
   "cell_type": "markdown",
   "metadata": {},
   "source": [
    "Si por algún motivo no se quisiera ejecutar ninguna orden en alguno de los bloques, el bloque de órdenes debe contener al menos la instrucción `pass` (esta orden le dice a Python que no tiene que hacer nada)."
   ]
  },
  {
   "cell_type": "code",
   "execution_count": null,
   "metadata": {},
   "outputs": [],
   "source": [
    "x = 10\n",
    "\n",
    "if x > 5:\n",
    "    pass  # Pendiente de implementación\n",
    "else:\n",
    "    print(\"Menor o igual a 5\")"
   ]
  },
  {
   "cell_type": "markdown",
   "metadata": {},
   "source": [
    "Normalmente, la instrucción `pass` se utiliza para \"rellenar\" un bloque de instrucciones que todavía no hemos escrito y poder ejecutar el programa, ya que Python requiere que se escriba alguna instrucción en cualquier bloque."
   ]
  },
  {
   "cell_type": "markdown",
   "metadata": {},
   "source": [
    "🔹 Sentencias condicionales `anidadas`\n",
    "\n",
    "Una sentencia condicional puede contener a su vez otra sentencia anidada."
   ]
  },
  {
   "cell_type": "code",
   "execution_count": null,
   "metadata": {},
   "outputs": [],
   "source": [
    "# Por ejemplo, el programa siguiente muestra el color obtenido al mezclar dos colores en la pantalla:\n",
    "\n",
    "print(\"Este programa mezcla dos colores\".upper())\n",
    "print(\"  r. Rojo      a. Azul\")\n",
    "primera = input(\"Elija un color (r o a): \")\n",
    "\n",
    "if primera == \"r\":\n",
    "    print(\"  a. Azul      v. Verde\")\n",
    "    segunda = input(\"  Elija otro color (a o v): \")\n",
    "    if segunda == \"a\":\n",
    "        print(\"La mezcla de Rojo y Azul produce Magenta.\")\n",
    "    else:\n",
    "        print(\"La mezcla Rojo y Verde produce Amarillo.\")\n",
    "else:\n",
    "    print(\"  v. Verde    r. Rojo\")\n",
    "    segunda = input(\"  Elija otro color (v o r): \")\n",
    "    if segunda == \"v\":\n",
    "        print(\"La mezcla de Azul y Verde produce Cian.\")\n",
    "    else:\n",
    "        print(\"La mezcla Azul y Rojo produce Magenta.\")\n",
    "print(\"¡Hasta la próxima!\")"
   ]
  },
  {
   "cell_type": "code",
   "execution_count": null,
   "metadata": {},
   "outputs": [],
   "source": []
  },
  {
   "cell_type": "markdown",
   "metadata": {},
   "source": [
    "#### Sentencia `if`/`elif`/`else`\n",
    "\n",
    "Cuando hay múltiples condiciones, usamos `elif` (abreviatura de `else if`) para evaluar diferentes posibilidades. \n",
    "\n",
    "En este caso la construcción `if` ... `else` ... se puede extender añadiendo la instrucción`elif`:"
   ]
  },
  {
   "cell_type": "markdown",
   "metadata": {},
   "source": [
    "La estructura de control `if` ... `elif` ... `else` ... permite encadenar varias condiciones. `elif` es una contracción de `else if`. La orden en Python se escribe así:"
   ]
  },
  {
   "cell_type": "raw",
   "metadata": {
    "vscode": {
     "languageId": "raw"
    }
   },
   "source": [
    "if condicion1:\n",
    "    # Código si condicion1 es True\n",
    "elif condicion2:\n",
    "    # Código si condicion2 es True\n",
    "else:\n",
    "    # Código si ninguna condición anterior es True"
   ]
  },
  {
   "cell_type": "markdown",
   "metadata": {},
   "source": [
    "- Si se cumple la condición 1, se ejecuta el bloque 1\n",
    "\n",
    "- Si no se cumple la condición 1 pero sí que se cumple la condición 2, se ejecuta el bloque 2\n",
    "- Si no se cumplen ni la condición 1 ni la condición 2, se ejecuta el bloque 3.\n",
    "\n",
    "Esta estructura es equivalente a la siguiente estructura de `if` ... `else` ... anidados:"
   ]
  },
  {
   "cell_type": "raw",
   "metadata": {
    "vscode": {
     "languageId": "raw"
    }
   },
   "source": [
    "if condición_1:\n",
    "     # Código si condicion1 es True\n",
    "else:\n",
    "    if condición_2:\n",
    "        # Código si condicion1 es Falso y condicion2 es True\n",
    "    else:\n",
    "        # Código si condicion1 es Falso y condicion2 es Falso"
   ]
  },
  {
   "cell_type": "markdown",
   "metadata": {},
   "source": [
    "Se pueden escribir tantos bloques elif como sean necesarios."
   ]
  },
  {
   "cell_type": "markdown",
   "metadata": {},
   "source": [
    "<img src= \"capturas/plot2.png\">"
   ]
  },
  {
   "cell_type": "markdown",
   "metadata": {},
   "source": [
    "`RECOMENDACIONES`\n",
    "\n",
    "En las estructuras `if ... elif ... else`, el orden en que se escriben las condiciones es crucial. Un buen ordenamiento no solo mejora la legibilidad del código, sino que también puede simplificar las condiciones y optimizar el rendimiento.\n",
    "\n",
    "Podemos identificar dos tipos de situaciones al estructurar estos bloques de control:"
   ]
  },
  {
   "cell_type": "markdown",
   "metadata": {},
   "source": [
    "1. Casos mutuamente excluyentes\n",
    "\n",
    "Cuando los casos son mutuamente excluyentes, **significa que solo una de las condiciones puede cumplirse en cada ejecución del programa**.\n",
    "\n",
    "`Por ejemplo`, consideremos un programa que solicita la edad de una persona y, según el valor ingresado, muestra un mensaje diferente. Podemos definir tres escenarios:\n",
    "\t\n",
    "- Si el valor es negativo, se trata de un error.\n",
    "- Si el valor está entre 0 y 17, la persona es menor de edad.\n",
    "- Si el valor es 18 o mayor, la persona es mayor de edad.\n",
    "\n",
    "Dado que una edad solo puede caer en uno de estos rangos, las condiciones son excluyentes entre sí. Un programa que implementa esta lógica de manera eficiente sería:"
   ]
  },
  {
   "cell_type": "code",
   "execution_count": null,
   "metadata": {},
   "outputs": [],
   "source": [
    "edad = int(input(\"Ingrese su edad: \"))\n",
    "\n",
    "if edad < 0:\n",
    "    print(\"Error: La edad no puede ser negativa.\")\n",
    "elif edad < 18:\n",
    "    print(\"Eres menor de edad.\")\n",
    "else:\n",
    "    print(\"Eres mayor de edad.\")"
   ]
  },
  {
   "cell_type": "markdown",
   "metadata": {},
   "source": [
    "`IMPORTANTE:` En el caso excluyente es fundamental el ordenamiento y se recomienda que este se organice de forma excluyente comenzando por el posible error."
   ]
  },
  {
   "cell_type": "markdown",
   "metadata": {},
   "source": [
    "**Ejemplo de un mal ordenamiento**"
   ]
  },
  {
   "cell_type": "code",
   "execution_count": null,
   "metadata": {},
   "outputs": [],
   "source": [
    "# Este programa no funciona correctamente\n",
    "\n",
    "edad = int(input(\"¿Cuántos años tiene? \"))\n",
    "if edad < 18:\n",
    "    print(\"Es usted menor de edad\")\n",
    "elif edad < 0:\n",
    "    print(\"No se puede tener una edad negativa\")\n",
    "else:\n",
    "    print(\"Es usted mayor de edad\")\n",
    "\n",
    "#  El programa no funcionaría como se espera, puesto que al escribir un valor negativo mostraría el mensaje \"Es usted menor de edad\"."
   ]
  },
  {
   "cell_type": "code",
   "execution_count": null,
   "metadata": {},
   "outputs": [],
   "source": []
  },
  {
   "cell_type": "markdown",
   "metadata": {},
   "source": [
    "2. Cuando unos casos incluyen a otros\n",
    "\n",
    "En algunas situaciones, una condición puede incluir a otra, lo que significa que ciertos valores pueden cumplir más de un criterio.\n",
    "\n",
    "Por ejemplo, consideremos un programa que recibe un número y determina:\n",
    "- Si es múltiplo de 2.\n",
    "\n",
    "- Si es múltiplo de 4 (lo que implica que también es múltiplo de 2).\n",
    "- Si no es múltiplo de 2.\n",
    "\n",
    "Nota: Se considera que el 0 es múltiplo tanto de 2 como de 4.\n",
    "\n",
    "A diferencia del caso anterior, estos casos `no son mutuamente excluyentes`, ya que todos los múltiplos de 4 también son múltiplos de 2.\n"
   ]
  },
  {
   "cell_type": "code",
   "execution_count": null,
   "metadata": {},
   "outputs": [],
   "source": [
    "# Este programa no funciona correctamente\n",
    "numero = int(input(\"Escriba un número: \"))\n",
    "if numero % 2 == 0:\n",
    "    print(f\"{numero} es múltiplo de dos\")\n",
    "elif numero % 4 == 0:\n",
    "    print(f\"{numero} es múltiplo de cuatro y de dos\")\n",
    "else:\n",
    "    print(f\"{numero} no es múltiplo de dos\")"
   ]
  },
  {
   "cell_type": "markdown",
   "metadata": {},
   "source": [
    "¿Por qué es incorrecto?\n",
    "\n",
    "Si el número es múltiplo de 4, la primera condición (num % 2 == 0) también se cumple, por lo que el programa imprimirá \"Es múltiplo de 2\" y nunca verificará si es múltiplo de 4."
   ]
  },
  {
   "cell_type": "markdown",
   "metadata": {},
   "source": [
    "Una manera de corregir ese error es añadir en la primera condición (la de `if`) que numero no sea múltiplo de cuatro."
   ]
  },
  {
   "cell_type": "code",
   "execution_count": null,
   "metadata": {},
   "outputs": [],
   "source": [
    "num = int(input(\"Ingrese un número: \"))\n",
    "\n",
    "if num % 4 == 0:\n",
    "    print(\"Es múltiplo de 4 y también de 2\")\n",
    "elif num % 2 == 0:\n",
    "    print(\"Es múltiplo de 2\")\n",
    "else:\n",
    "    print(\"No es múltiplo de 2\")"
   ]
  },
  {
   "cell_type": "markdown",
   "metadata": {},
   "source": [
    "Explicación del orden correcto\n",
    "\n",
    "1.\tPrimero verificamos los múltiplos de 4, ya que si un número es múltiplo de 4, automáticamente es múltiplo de 2.\n",
    "\n",
    "2.\tLuego verificamos los múltiplos de 2, asegurándonos de que solo se ejecuta si el número no era múltiplo de 4.\n",
    "\n",
    "3.\tFinalmente, el caso general, para aquellos números que no son múltiplos de 2."
   ]
  },
  {
   "cell_type": "markdown",
   "metadata": {},
   "source": [
    "`IMPORTANTE:` Cuando las condiciones no son mutuamente excluyentes, el orden en que las evaluamos es crucial. Siempre debemos empezar con la condición más específica antes de evaluar casos más generales, asegurándonos de que el programa refleje correctamente la lógica deseada."
   ]
  },
  {
   "cell_type": "code",
   "execution_count": null,
   "metadata": {},
   "outputs": [],
   "source": []
  },
  {
   "cell_type": "markdown",
   "metadata": {},
   "source": [
    "#### Condiciones `no booleanas`\n",
    "\n",
    "Dado que cualquier variable puede interpretarse como una variable booleana, si la condición es una comparación con cero, podemos omitir la comparación.\n",
    "\n",
    "Por ejemplo, el programa siguiente:"
   ]
  },
  {
   "cell_type": "code",
   "execution_count": null,
   "metadata": {},
   "outputs": [],
   "source": [
    "numero = int(input(\"Escriba un número: \"))\n",
    "if numero % 2 != 0:\n",
    "    print(f\"{numero} es impar\")\n",
    "else:\n",
    "    print(f\"{numero} es par\")"
   ]
  },
  {
   "cell_type": "code",
   "execution_count": null,
   "metadata": {},
   "outputs": [],
   "source": [
    "# se puede escribir omitiendo la comparación\n",
    "\n",
    "numero = int(input(\"Escriba un número: \"))\n",
    "if numero % 2:\n",
    "    print(f\"{numero} es impar\")\n",
    "else:\n",
    "    print(f\"{numero} es par\")"
   ]
  },
  {
   "cell_type": "markdown",
   "metadata": {},
   "source": [
    "En este programa, si el número es impar, numero `% 2` da como resultado 1. Y como el valor booleano de un número diferente de cero es `True` (es decir, bool(1) es True), la condición se estaría cumpliendo."
   ]
  },
  {
   "cell_type": "markdown",
   "metadata": {},
   "source": [
    "#### Operadores `not`, `is`, `in`, `not in`"
   ]
  },
  {
   "cell_type": "code",
   "execution_count": null,
   "metadata": {},
   "outputs": [],
   "source": [
    "# ejemplo de not\n",
    "numero = int(input(\"Escriba un número: \"))\n",
    "if not numero % 2:\n",
    "    print(f\"{numero} es par\")\n",
    "else:\n",
    "    print(f\"{numero} es impar\")"
   ]
  },
  {
   "cell_type": "markdown",
   "metadata": {},
   "source": [
    "En este programa, si el número es par, numero % 2 da como resultado 0. El valor booleano de cero es `False` (es decir, bool(0) es False), pero al negarse con not, la condición se estaría cumpliendo (ya que not `False` es `True`)."
   ]
  },
  {
   "cell_type": "code",
   "execution_count": null,
   "metadata": {},
   "outputs": [],
   "source": [
    "# ejemplo is\n",
    "j = int(input('adivina mi número '))\n",
    "numero = 58\n",
    "\n",
    "if j is numero:  # ejemplo de frase\n",
    "    print('si')\n",
    "else:\n",
    "    print('no')"
   ]
  },
  {
   "cell_type": "markdown",
   "metadata": {},
   "source": [
    "`IMPORTANTE:`\n",
    "\n",
    "- El comando `is` revisa el `id` de las variables. Es decir, si las dos variables **apuntan** exactamente al mismo objeto.\n",
    "\n",
    "- El uso de `==` revisa si existe una igualdad. Es decir, si las dos variables tienen la misma asignación. Es decir, si ambos **actuarían** de la misma forma en la misma situación."
   ]
  },
  {
   "cell_type": "code",
   "execution_count": null,
   "metadata": {},
   "outputs": [],
   "source": [
    "# ejemplo in\n",
    "j = int(input('adivina uno de los número '))\n",
    "list_numero = [58, 0, -1, 30]\n",
    "\n",
    "if j in list_numero:  # notar que in solo se usa con iterables\n",
    "    print('si')\n",
    "else:\n",
    "    print('no')"
   ]
  },
  {
   "cell_type": "code",
   "execution_count": null,
   "metadata": {},
   "outputs": [],
   "source": [
    "# ejemplo not in \n",
    "j = int(input('adivina uno de los número '))\n",
    "list_numero = [58, 0, -1, 30]\n",
    "\n",
    "if j not in list_numero:  # notar que not in solo se usa con iterables\n",
    "    print('no')\n",
    "else:\n",
    "    print('si')"
   ]
  },
  {
   "cell_type": "markdown",
   "metadata": {},
   "source": [
    "#### Operador `and` y `or`\n",
    "\n",
    "En Python, podemos combinar condiciones lógicas utilizando los operadores: `AND`,  `OR`\n",
    "\n",
    "- `and` (y lógico): La condición es True solo si ambas partes son True. **Si uno o ambos son falsos, su combinación retorna `False`**.\n",
    "\n",
    "- `or` (o lógico): La condición es True si al menos una parte es True. **Solo con ambos falsos la combinación devuelve `False`.** \n",
    "\n",
    "Veamos algunos ejemplos"
   ]
  },
  {
   "cell_type": "code",
   "execution_count": null,
   "metadata": {},
   "outputs": [],
   "source": [
    "# Condición `and`\n",
    "edad = 25\n",
    "tiene_licencia = True\n",
    "\n",
    "if edad >= 18 and tiene_licencia:\n",
    "    print(\"Puedes conducir\")\n",
    "else:\n",
    "    print(\"No puedes conducir\")"
   ]
  },
  {
   "cell_type": "code",
   "execution_count": null,
   "metadata": {},
   "outputs": [],
   "source": [
    "# temperatura actual\n",
    "currentTemp = 30.2\n",
    "\n",
    "# Límites de temperaturas\n",
    "tempHigh = 40.7\n",
    "tempLow = -18.9\n",
    "\n",
    "# Comparando la temperatura actual con las extremales\n",
    "if currentTemp > tempLow and currentTemp < tempHigh:\n",
    "    print('La temperatura actual: (' + str(currentTemp) +\n",
    "          ') se encuentra dentro de los límites permitidos')"
   ]
  },
  {
   "cell_type": "code",
   "execution_count": null,
   "metadata": {},
   "outputs": [],
   "source": [
    "# Condición `or`\n",
    "dia = \"sábado\"\n",
    "\n",
    "if dia == \"sábado\" or dia == \"domingo\":\n",
    "    print(\"Es fin de semana\")\n",
    "else:\n",
    "    print(\"Es un día laboral\")"
   ]
  },
  {
   "cell_type": "code",
   "execution_count": null,
   "metadata": {},
   "outputs": [],
   "source": [
    "# Current temperature\n",
    "currentTemp = 40.7\n",
    "\n",
    "# Extremes in temperature (in Celsius)\n",
    "tempHigh = 40.7\n",
    "tempLow = -18.9\n",
    "\n",
    "# Compare current temperature against extremes\n",
    "if currentTemp > tempLow or currentTemp < tempHigh:\n",
    "    print('Temperature (' + str(currentTemp) +\n",
    "          ') is above record low or ' +\n",
    "          'below record high.')\n",
    "else:\n",
    "    print(\"There's a new record-breaking temperature!\")"
   ]
  },
  {
   "cell_type": "markdown",
   "metadata": {},
   "source": [
    "🔹 Condiciones complejas en Python. Para escenarios complejos, es necesario combinar los operadores `and` y `or`. La estructura debe estar entre paréntesis, para especificarle a Python como debe procesar las diferentes condiciones."
   ]
  },
  {
   "cell_type": "markdown",
   "metadata": {},
   "source": [
    "📌 Ejemplo 1: (A and B) or C\n",
    "\n",
    "Esta condición es True en dos escenarios:\n",
    "1.\tSi A y B son True (sin importar C).\n",
    "\n",
    "2.\tSi C es True (sin importar A y B)."
   ]
  },
  {
   "cell_type": "code",
   "execution_count": null,
   "metadata": {},
   "outputs": [],
   "source": [
    "A = True\n",
    "B = False\n",
    "C = True\n",
    "\n",
    "condition = (A and B) or C\n",
    "print(condition)  # True, porque C es True"
   ]
  },
  {
   "cell_type": "markdown",
   "metadata": {},
   "source": [
    "📌 Ejemplo 2: (A or B) and C\n",
    "\n",
    "Esta condición es True si:\n",
    "1.\tA o B es True, y\n",
    "\n",
    "2.\tC también es True."
   ]
  },
  {
   "cell_type": "code",
   "execution_count": null,
   "metadata": {},
   "outputs": [],
   "source": [
    "A = True\n",
    "B = False\n",
    "C = True\n",
    "\n",
    "condition = (A or B) and C\n",
    "print(condition)  # True, porque (A or B) es True y C es True"
   ]
  },
  {
   "cell_type": "code",
   "execution_count": null,
   "metadata": {},
   "outputs": [],
   "source": [
    "# Ejemplo\n",
    "edad = 20\n",
    "tiene_invitacion = False\n",
    "es_vip = True\n",
    "\n",
    "puede_entrar = (edad > 18 and tiene_invitacion) or es_vip\n",
    "\n",
    "if puede_entrar:\n",
    "    print(\"Bienvenido al evento\")\n",
    "else:\n",
    "    print(\"No puedes entrar\")"
   ]
  },
  {
   "cell_type": "markdown",
   "metadata": {},
   "source": [
    "##### Uso de `if` en una sola línea  (operador ternario)\n",
    "\n",
    "Para condiciones simples, podemos escribir `if` en una sola línea con una expresión condicional.\n",
    "\n",
    "Estructura:"
   ]
  },
  {
   "cell_type": "raw",
   "metadata": {
    "vscode": {
     "languageId": "raw"
    }
   },
   "source": [
    "a = [operación si es Verdadero] if [Condicional] elif [Condicional] else [Condicional]"
   ]
  },
  {
   "cell_type": "markdown",
   "metadata": {
    "vscode": {
     "languageId": "raw"
    }
   },
   "source": [
    "`IMPORTANTE:` Obligatoriamente lleva el `else`. "
   ]
  },
  {
   "cell_type": "code",
   "execution_count": null,
   "metadata": {},
   "outputs": [],
   "source": [
    "# Ejemplo\n",
    "a = 6\n",
    "salida = print('vedadero') if a>5 else print('adios')"
   ]
  },
  {
   "cell_type": "markdown",
   "metadata": {},
   "source": [
    "#### El condicional Switch\n",
    "\n",
    "En `Python` no existe el comando `switch` como en C, por ejemplo. "
   ]
  },
  {
   "cell_type": "markdown",
   "metadata": {},
   "source": [
    "# Ojo, esto no es Python\n",
    "\n",
    "switch(condicion) {\n",
    "  case 1:\n",
    "    // haz a\n",
    "    break;\n",
    "  case 2:\n",
    "    // haz b\n",
    "    break;\n",
    "  case 3:\n",
    "    // haz c\n",
    "    break;\n",
    "  default:\n",
    "    // haz x\n",
    "}"
   ]
  },
  {
   "cell_type": "markdown",
   "metadata": {},
   "source": [
    "Sin embargo, uno podría tratar de simular algo equivalente usando `if`, `elif`, etc. sin embargo, aunque se puede llegar al mismo resultado, internamente no estamos realizando la misma \"operación\" y puede costar recursos numéricos.\n",
    "\n",
    "Al usar `if`, `elif`, etc. no todos los bloques tienen el mismo tiempo de acceso. Las condiciones van siendo evaluadas una a una hasta que se cumple y se detiene la evaluación. Por ejemplo, tenemos 50 condicionales, si el verdadero es el 1, el tiempo de ejecución será diferente al que tendremos si el verdadero es en el 49, ya que tienen que evaluarse 49 para obtener verdadero. Sin embargo, en el `switch` todos los elementos tienen el mismo tiempo de acceso."
   ]
  },
  {
   "cell_type": "markdown",
   "metadata": {},
   "source": [
    "Ahora, una manera de implementar un `switch` en `Python` es usando diccionarios, veamos: (tomado de: https://ellibrodepython.com/switch-python)"
   ]
  },
  {
   "cell_type": "code",
   "execution_count": 1,
   "metadata": {},
   "outputs": [],
   "source": [
    "# con if\n",
    "def opera1(operador, a, b):\n",
    "    if operador == 'suma':\n",
    "        return a + b\n",
    "    elif operador == 'resta':\n",
    "        return a - b\n",
    "    elif operador == 'multiplica':\n",
    "        return a * b\n",
    "    elif operador == 'divide':\n",
    "        return a / b\n",
    "    else:\n",
    "        return None\n",
    "\n",
    "# con diccionario  \n",
    "def opera2(operador, a, b):\n",
    "    return {\n",
    "        'suma': lambda: a + b,  # función lambda\n",
    "        'resta': lambda: a - b,\n",
    "        'multiplica': lambda: a * b,\n",
    "        'divide': lambda: a / b\n",
    "    }.get(operador, lambda: None)"
   ]
  },
  {
   "cell_type": "code",
   "execution_count": null,
   "metadata": {},
   "outputs": [],
   "source": [
    "opera1('suma', 5, 9), opera2('suma', 5, 9)()  # notar que debemos poner () pq llamamos a una función lambda y () indica argumento"
   ]
  },
  {
   "cell_type": "markdown",
   "metadata": {},
   "source": [
    "Comparemos los tiempos de ejecución"
   ]
  },
  {
   "cell_type": "code",
   "execution_count": 2,
   "metadata": {},
   "outputs": [],
   "source": [
    "import time"
   ]
  },
  {
   "cell_type": "code",
   "execution_count": 3,
   "metadata": {},
   "outputs": [],
   "source": [
    "# con if\n",
    "\n",
    "def usa_if(decimal):\n",
    "    if decimal == '0':\n",
    "        return \"000\"\n",
    "    elif decimal == '1':\n",
    "        return \"001\"\n",
    "    elif decimal == '2':\n",
    "        return \"010\"\n",
    "    elif decimal == '3':\n",
    "        return \"011\"\n",
    "    elif decimal == '4':\n",
    "        return \"100\"\n",
    "    elif decimal == '5':\n",
    "        return \"101\"\n",
    "    elif decimal == '6':\n",
    "        return \"110\"\n",
    "    elif decimal == '7':\n",
    "        return \"111\"\n",
    "    else:\n",
    "        return \"NA\"\n",
    "    \n",
    "# con diccionario\n",
    "tabla_switch = {\n",
    "        '0': '000',\n",
    "        '1': '001',\n",
    "        '2': '010',\n",
    "        '3': '011',\n",
    "        '4': '100',\n",
    "        '5': '101',\n",
    "        '6': '110',\n",
    "        '7': '111',\n",
    "    }\n",
    "def usa_switch(decimal):\n",
    "    return tabla_switch.get(decimal, \"NA\")\n",
    "\n",
    "# para medir el tiempo\n",
    "def mide_tiempo(funcion):\n",
    "    def funcion_medida(*args, **kwargs):\n",
    "        inicio = time.time()\n",
    "        c = funcion(*args, **kwargs)\n",
    "        print(f\"Entrada: {args[1]}. Tiempo: {time.time() - inicio}\")\n",
    "        return c\n",
    "    return funcion_medida"
   ]
  },
  {
   "cell_type": "code",
   "execution_count": 6,
   "metadata": {},
   "outputs": [],
   "source": [
    "@mide_tiempo\n",
    "def repite_funcion(funcion, entrada):\n",
    "    return [funcion(entrada) for _ in range(10000000)]  # ejecutaremos el mismo cálculo 10000000"
   ]
  },
  {
   "cell_type": "code",
   "execution_count": 7,
   "metadata": {},
   "outputs": [
    {
     "name": "stdout",
     "output_type": "stream",
     "text": [
      "con if\n",
      "Entrada: 0. Tiempo: 0.27191925048828125\n",
      "Entrada: 1. Tiempo: 0.31941699981689453\n",
      "Entrada: 2. Tiempo: 0.4089949131011963\n",
      "Entrada: 3. Tiempo: 0.4585268497467041\n",
      "Entrada: 4. Tiempo: 0.5178351402282715\n",
      "Entrada: 5. Tiempo: 0.5734848976135254\n",
      "Entrada: 6. Tiempo: 0.6941940784454346\n",
      "Entrada: 7. Tiempo: 0.7284417152404785\n",
      "con diccionario\n",
      "Entrada: 0. Tiempo: 0.3623628616333008\n",
      "Entrada: 1. Tiempo: 0.3459782600402832\n",
      "Entrada: 2. Tiempo: 0.34297800064086914\n",
      "Entrada: 3. Tiempo: 0.353740930557251\n",
      "Entrada: 4. Tiempo: 0.35840702056884766\n",
      "Entrada: 5. Tiempo: 0.3418550491333008\n",
      "Entrada: 6. Tiempo: 0.34773993492126465\n",
      "Entrada: 7. Tiempo: 0.33605098724365234\n"
     ]
    }
   ],
   "source": [
    "print('con if')\n",
    "for i in range(8):\n",
    "    repite_funcion(usa_if, str(i))\n",
    "\n",
    "print('con diccionario')\n",
    "for i in range(8):\n",
    "    repite_funcion(usa_switch, str(i))"
   ]
  },
  {
   "cell_type": "code",
   "execution_count": null,
   "metadata": {},
   "outputs": [],
   "source": []
  },
  {
   "cell_type": "markdown",
   "metadata": {},
   "source": [
    "## Los comandos `break` y `continue`\n",
    "\n",
    "Los comandos `break` y `continue` se usan en estructuras de control de flujo, como bucles (`for, while` que veremos más adelante), para modificar el comportamiento de ejecución.\n",
    "1.\t`break`:\n",
    "    - Se usa para salir inmediatamente de un bucle, independientemente de si la condición del bucle se ha cumplido o no.\n",
    "    - Una vez ejecutado, el control del programa salta al primer comando que sigue después del bucle."
   ]
  },
  {
   "cell_type": "code",
   "execution_count": null,
   "metadata": {},
   "outputs": [],
   "source": [
    "# Ejemplo:\n",
    "for i in range(5):\n",
    "    if i == 3:\n",
    "        break  # Sale del bucle cuando i es igual a 3\n",
    "    print(i)\n",
    "\n",
    "# El bucle termina cuando i alcanza el valor 3."
   ]
  },
  {
   "cell_type": "markdown",
   "metadata": {},
   "source": [
    "2. `continue`:\n",
    "    - Se usa para saltar a la siguiente iteración del bucle, omitiendo el resto del código en esa iteración.\n",
    "\t- El flujo del programa continúa con la siguiente evaluación de la condición del bucle."
   ]
  },
  {
   "cell_type": "code",
   "execution_count": null,
   "metadata": {},
   "outputs": [],
   "source": [
    "# Ejemplo\n",
    "for i in range(5):\n",
    "    if i == 3:\n",
    "        continue  # Salta al siguiente ciclo del bucle cuando i es igual a 3\n",
    "    print(i)\n",
    "    \n",
    "# El número 3 se omite debido al continue, pero el bucle sigue ejecutándose."
   ]
  },
  {
   "cell_type": "markdown",
   "metadata": {},
   "source": [
    "## Bucle `for`\n",
    "\n",
    "En general, un bucle es una estructura de control que repite un bloque de instrucciones. \n",
    "\n",
    "Un bucle `for ` es un bucle que repite el bloque de instrucciones un número prederminado de veces. El bloque de instrucciones que se repite se suele llamar `cuerpo` del bucle y cada repetición se suele llamar `iteración`.\n",
    "\n",
    "La sintaxis básica de un bucle for en Python es la siguiente:"
   ]
  },
  {
   "cell_type": "raw",
   "metadata": {
    "vscode": {
     "languageId": "raw"
    }
   },
   "source": [
    "for variable in secuencia:\n",
    "    # Cuerpo del bucle"
   ]
  },
  {
   "cell_type": "markdown",
   "metadata": {},
   "source": [
    "**Descripción de los elementos:**\n",
    "\n",
    "- variable: Es el nombre que se asigna a cada elemento de la secuencia durante las iteraciones.\n",
    "\n",
    "- secuencia: Puede ser una lista, tupla, cadena, rango (usando range()), o cualquier objeto que sea iterable.\n",
    "\n",
    "- cuerpo del bucle: Es el bloque de código que se ejecuta durante cada iteración. Está indentado debajo de la línea del bucle.\n",
    "\n",
    "`IMPORTANTE:` No es necesario definir la variable de control antes del bucle, aunque se puede utilizar como variable de control una variable ya definida en el programa."
   ]
  },
  {
   "cell_type": "markdown",
   "metadata": {},
   "source": [
    "Ejemplo:\n",
    "\n",
    "El cuerpo del bucle se ejecuta tantas veces como elementos tenga el elemento recorrible (elementos de una lista o de un `range()`, caracteres de una cadena, etc.). Por ejemplo:"
   ]
  },
  {
   "cell_type": "code",
   "execution_count": null,
   "metadata": {},
   "outputs": [],
   "source": [
    "print(\"Comienzo\")\n",
    "for i in [0, 10, 12, '6']:\n",
    "    print(\"Hola\", end=\" \")\n",
    "print()\n",
    "print(\"Final\")\n",
    "\n",
    "# los valores que toma la variable no son importantes, lo que importa es que la lista tiene tres elementos \n",
    "# y por tanto el bucle se ejecuta tres veces. El poner [1 1 1] da el mismo resultado"
   ]
  },
  {
   "cell_type": "code",
   "execution_count": null,
   "metadata": {},
   "outputs": [],
   "source": [
    "# Si la lista está vacía, el bucle no se ejecuta ninguna vez. Por ejemplo:\n",
    "print(\"Comienzo\")\n",
    "for i in []:\n",
    "    print(\"Hola \", end=\"\")\n",
    "print()\n",
    "print(\"Final\")"
   ]
  },
  {
   "cell_type": "markdown",
   "metadata": {},
   "source": [
    "Si la variable de control no se va a utilizar en el cuerpo del bucle, como en los ejemplos anteriores, se puede utilizar el guion (`_`) en vez de un nombre de variable. Esta notación no tiene ninguna consecuencia con respecto al funcionamiento del programa, pero sirve de ayuda a la persona que esté leyendo el código fuente, que sabe así que los valores no se van a utilizar. Por ejemplo:"
   ]
  },
  {
   "cell_type": "code",
   "execution_count": null,
   "metadata": {},
   "outputs": [],
   "source": [
    "print(\"Comienzo\")\n",
    "for _ in [0, 1, 2]:\n",
    "    print(\"Hola \", end=\"\")\n",
    "print()\n",
    "print(\"Final\")"
   ]
  },
  {
   "cell_type": "markdown",
   "metadata": {},
   "source": [
    "El indicador puede incluir cualquier número de guiones bajos `(_, __, ___, ____, etc)`. Los más utilizados son uno o dos guiones`(_ o __) `.\n",
    "\n",
    "En los ejemplos anteriores, la variable de control \"i\" no se utilizaba en el bloque de instrucciones, pero en muchos casos sí que se utiliza. Cuando se utiliza, hay que tener en cuenta que la variable de control va tomando los valores del elemento recorrible. Por ejemplo:"
   ]
  },
  {
   "cell_type": "code",
   "execution_count": null,
   "metadata": {},
   "outputs": [],
   "source": [
    "print(\"Comienzo\")\n",
    "i = 4\n",
    "for i in [3, 4, 5]:\n",
    "    print(f\"Hola. Ahora i vale {i} y su cuadrado {i ** 2}\")\n",
    "print(\"Final\")"
   ]
  },
  {
   "cell_type": "markdown",
   "metadata": {},
   "source": [
    "La lista puede contener cualquier tipo de elementos, no sólo números. El bucle se repetirá siempre tantas veces como elementos tenga la lista y la variable irá tomando los valores de uno en uno. Por ejemplo:"
   ]
  },
  {
   "cell_type": "code",
   "execution_count": null,
   "metadata": {},
   "outputs": [],
   "source": [
    "print(\"Comienzo\")\n",
    "for i in [\"Alba\", \"Benito\", 27]:\n",
    "    print(f\"Hola. Ahora i vale {i}\")\n",
    "print(\"Final\")"
   ]
  },
  {
   "cell_type": "code",
   "execution_count": null,
   "metadata": {},
   "outputs": [],
   "source": [
    "lista = \"Comienzo\"\n",
    "for i in lista:\n",
    "    print(f\"Hola. Ahora i vale {i}\")\n",
    "print(\"Final\")"
   ]
  },
  {
   "cell_type": "markdown",
   "metadata": {},
   "source": [
    "La costumbre más extendida es utilizar la letra i como nombre de la variable de control, pero se puede utilizar cualquier otro nombre válido. Por ejemplo:"
   ]
  },
  {
   "cell_type": "code",
   "execution_count": null,
   "metadata": {},
   "outputs": [],
   "source": [
    "print(\"Comienzo\")\n",
    "for numero in  [0, 1, 2, 3]:\n",
    "    print(f\"{numero} * {numero} = {numero ** 2}\")\n",
    "print(\"Final\")"
   ]
  },
  {
   "cell_type": "markdown",
   "metadata": {},
   "source": [
    "${\\it Comentarios}:$\n",
    "\n",
    "- La variable de control puede ser una variable empleada antes del bucle. El valor que tuviera la variable no afecta a la ejecución del bucle, pero cuando termina el bucle, la variable de control conserva el último valor asignado:"
   ]
  },
  {
   "cell_type": "code",
   "execution_count": null,
   "metadata": {},
   "outputs": [],
   "source": [
    "i = 10\n",
    "print(f\"El bucle no ha comenzado. Ahora i vale {i}\")\n",
    "\n",
    "for i in [0, 1, 2, 3, 4]:\n",
    "    print(f\"{i} * {i} = {i ** 2}\")\n",
    "\n",
    "print(f\"El bucle ha terminado. Ahora i vale {i}\")"
   ]
  },
  {
   "cell_type": "markdown",
   "metadata": {},
   "source": [
    "- Cuando se escriben dos o más bucles seguidos, la costumbre es utilizar el mismo nombre de variable puesto que cada bucle establece los valores de la variable sin importar los valores anteriores:"
   ]
  },
  {
   "cell_type": "code",
   "execution_count": null,
   "metadata": {},
   "outputs": [],
   "source": [
    "for i in [0, 1, 2]:\n",
    "    print(f\"{i} * {i} = {i ** 2}\")\n",
    "\n",
    "print()\n",
    "print(i)\n",
    "\n",
    "for i in [0, 1, 2, 3]:\n",
    "    print(f\"{i} * {i} * {i} = {i ** 3}\")"
   ]
  },
  {
   "cell_type": "markdown",
   "metadata": {},
   "source": [
    "- En vez de una lista se puede escribir una cadena, en cuyo caso la variable de control va tomando como valor cada uno de los caracteres:"
   ]
  },
  {
   "cell_type": "code",
   "execution_count": null,
   "metadata": {},
   "outputs": [],
   "source": [
    "for i in \"AMIGO\":\n",
    "    print(f\"Dame una {i}\")\n",
    "print(\"¡AMIGO!\")"
   ]
  },
  {
   "cell_type": "markdown",
   "metadata": {},
   "source": [
    "En los ejemplos anteriores se ha utilizado una lista para facilitar la comprensión del funcionamiento de los bucles pero, si es posible hacerlo, se recomienda utilizar tipos `range()`, entre otros motivos porque durante la ejecución del programa ocupan menos memoria en el ordenador. Otra de las ventajas de utilizar tipos `range()` es que el argumento del tipo `range()` controla el número de veces que se ejecuta el bucle."
   ]
  },
  {
   "cell_type": "code",
   "execution_count": null,
   "metadata": {},
   "outputs": [],
   "source": [
    "print(\"Comienzo\")\n",
    "for _ in range(10):  # cambiar 10\n",
    "    print(\"Hola \", end=\"\")\n",
    "print()\n",
    "print(\"Final\")"
   ]
  },
  {
   "cell_type": "markdown",
   "metadata": {},
   "source": [
    "Esto permite que el número de iteraciones dependa del desarrollo del programa. En el ejemplo siguiente es el usuario quien decide cuántas veces se ejecuta el bucle:"
   ]
  },
  {
   "cell_type": "code",
   "execution_count": null,
   "metadata": {},
   "outputs": [],
   "source": [
    "veces = int(float(input(\"¿Cuántas veces quiere que le salude? \")))\n",
    "for i in range(veces):\n",
    "    print(\"Hola \", end=\"\")\n",
    "print()\n",
    "print(\"Adiós\")"
   ]
  },
  {
   "cell_type": "code",
   "execution_count": null,
   "metadata": {},
   "outputs": [],
   "source": []
  },
  {
   "cell_type": "markdown",
   "metadata": {},
   "source": [
    "🔹  Contadores, testigos y acumuladores\n",
    "\n",
    "En muchos programas se necesitan variables que cuenten cuántas veces ha ocurrido algo (contadores) o que indiquen si simplemente ha ocurrido algo (testigos) o que acumulen valores (acumuladores). Las situaciones pueden ser muy diversas, por lo que en este apartado simplemente se ofrecen unos ejemplos para mostrar la idea."
   ]
  },
  {
   "cell_type": "markdown",
   "metadata": {},
   "source": [
    "1. Contador\n",
    "\n",
    "Se entiende por contador `una variable que lleva la cuenta del número de veces que se ha cumplido una condición`. El ejemplo siguiente es un ejemplo de programa con contador (en este caso, la variable que hace de contador es la variable cuenta):"
   ]
  },
  {
   "cell_type": "code",
   "execution_count": null,
   "metadata": {},
   "outputs": [],
   "source": [
    "print(\"Comienzo\")\n",
    "cuenta = 0\n",
    "for i in range(1, 6):\n",
    "    if i % 2 == 0:\n",
    "    #if not i % 2 :\n",
    "        cuenta += 1\n",
    "        #cuenta += 1\n",
    "print(f\"Desde 1 hasta 5 hay {cuenta} múltiplos de 2\")"
   ]
  },
  {
   "cell_type": "markdown",
   "metadata": {},
   "source": [
    "Detalles importantes:\n",
    "\n",
    "- En cada iteración, el programa comprueba si i es múltiplo de 2.\n",
    "\n",
    "- El contador se modifica sólo si la variable de control i es múltiplo de 2.\n",
    "- El contador va aumentando de uno en uno.\n",
    "- Antes del bucle se debe dar un valor inicial al contador (en este caso, 0)"
   ]
  },
  {
   "cell_type": "markdown",
   "metadata": {},
   "source": [
    "2. Testigo\n",
    "\n",
    "Se entiende por testigo una variable que `indica si una condición se ha cumplido o no`. Es un caso particular de contador, pero se suele hacer con variables lógicas en vez de numéricas (en este caso, la variable que hace de testigo es la variable encontrado):"
   ]
  },
  {
   "cell_type": "code",
   "execution_count": null,
   "metadata": {},
   "outputs": [],
   "source": [
    "print(\"Comienzo\")\n",
    "extremo = 30\n",
    "encontrado = False\n",
    "for i in range(1, extremo+1):\n",
    "    if i % 2 == 0:\n",
    "        encontrado = True\n",
    "        #print(i)\n",
    "        break\n",
    "\n",
    "if encontrado:\n",
    "    print(f\"Entre 1 y {extremo} hay al menos un múltiplo de 2.\")\n",
    "else:\n",
    "    print(f\"Entre 1 y {extremo} no hay ningún múltiplo de 2.\")"
   ]
  },
  {
   "cell_type": "markdown",
   "metadata": {},
   "source": [
    "Detalles importantes:\n",
    "\n",
    "- En cada iteración, el programa comprueba si `i` es múltiplo de 2.\n",
    "\n",
    "- El testigo se modifica la primera vez que la variable de control `i` es múltiplo de 2.\n",
    "- **El testigo no cambia una vez ha cambiado**.\n",
    "- Antes del bucle se debe dar un valor inicial al testigo (en este caso, False)"
   ]
  },
  {
   "cell_type": "markdown",
   "metadata": {},
   "source": [
    "3. Acumulador\n",
    "\n",
    "Se entiende por acumulador `una variable que acumula el resultado de una operación`. El ejemplo siguiente es un ejemplo de programa con acumulador (en este caso, la variable que hace de acumulador es la variable suma):"
   ]
  },
  {
   "cell_type": "code",
   "execution_count": null,
   "metadata": {},
   "outputs": [],
   "source": [
    "print(\"Comienzo\")\n",
    "suma = 0\n",
    "for i in [1, 2, 3, 4]:\n",
    "    #suma = suma + i\n",
    "    suma += i\n",
    "    \n",
    "print(f\"La suma de los números de 1 a 4 es {suma}\")"
   ]
  },
  {
   "cell_type": "markdown",
   "metadata": {},
   "source": [
    "Detalles importantes:\n",
    "\n",
    "- El acumulador se modifica en cada iteración del bucle (en este caso, el valor de i se añade al acumulador suma).\n",
    "\n",
    "- Antes del bucle se debe dar un valor inicial al acumulador (en este caso, 0)"
   ]
  },
  {
   "cell_type": "code",
   "execution_count": null,
   "metadata": {},
   "outputs": [],
   "source": []
  },
  {
   "cell_type": "markdown",
   "metadata": {},
   "source": [
    "\n",
    "### Bucles anidados\n",
    "\n",
    "Se habla de bucles anidados cuando un bucle se encuentra en el bloque de instrucciones de otro bloque.\n",
    "\n",
    "- Al bucle que se encuentra dentro del otro se le puede denominar **bucle interior** o **bucle interno**. El otro bucle sería el **bucle exterior** o **bucle externo**.\n",
    "\n",
    "`COMENTARIO:` Aunque en `Python` no es necesario, se recomienda que los nombres de las variables de control de los bucles anidados no coincidan, para evitar ambigüedades."
   ]
  },
  {
   "cell_type": "markdown",
   "metadata": {},
   "source": [
    "1. Bucles anidados (variables independientes)\n",
    "\n",
    "Se dice que las variables de los bucles son independientes cuando los valores que toma la variable de control del bucle interno no dependen del valor de la variable de control del bucle externo. Por ejemplo:"
   ]
  },
  {
   "cell_type": "code",
   "execution_count": null,
   "metadata": {},
   "outputs": [],
   "source": [
    "for i in [0, 1, 2]:\n",
    "    for j in [0, 1]:\n",
    "        print(f\"i vale {i} y j vale {j}\")"
   ]
  },
  {
   "cell_type": "markdown",
   "metadata": {},
   "source": [
    "el número de veces que se ejecuta el bloque de instrucciones del bucle interno es el producto de las veces que se ejecuta cada bucle. En este caso fueron **3 externo, 2 interno, total 6**.\n",
    "\n",
    "En el ejemplo anterior se han utilizado listas para facilitar la comprensión del funcionamiento del bucle pero, si es posible hacerlo, se recomienda utilizar tipos `range()`, entre otros motivos porque durante la ejecución del programa ocupan menos memoria en el ordenador y se pueden hacer depender del desarrollo del programa."
   ]
  },
  {
   "cell_type": "code",
   "execution_count": null,
   "metadata": {},
   "outputs": [],
   "source": [
    "for i in range(3):\n",
    "    for j in range(2):\n",
    "        print(f\"i vale {i} y j vale {j}\")"
   ]
  },
  {
   "cell_type": "markdown",
   "metadata": {},
   "source": [
    "Al escribir bucles anidados, hay que prestar atención al sangrado de las instrucciones, ya que ese sangrado indica a `Python` si una instrucción forma parte de un bloque u otro. En los tres siguientes programas la única diferencia es el sangrado de la última instrucción:"
   ]
  },
  {
   "cell_type": "code",
   "execution_count": null,
   "metadata": {},
   "outputs": [],
   "source": [
    "for i in [1, 2, 3]:\n",
    "    for j in [11, 12]:\n",
    "        print(j, end=\" \")\n",
    "    print(i, end=\" \") # i se escribe cada vez que se ha terminado de ejecutar el bucle interno.\n",
    "\n",
    "# print(i, end=\" \")  # i se escribe una sola vez, al terminarse de ejecutar el bucle externo."
   ]
  },
  {
   "cell_type": "markdown",
   "metadata": {},
   "source": [
    "`COMENTARIO:` En `Python` se puede incluso utilizar la misma variable en los dos bucles anidados porque Python las trata como si fueran dos variables distintas. "
   ]
  },
  {
   "cell_type": "markdown",
   "metadata": {},
   "source": [
    "2. Bucles anidados (variables dependientes)\n",
    "\n",
    "Se dice que las variables de los bucles son dependientes cuando los valores que toma la variable de control del bucle interno dependen del valor de la variable de control del bucle externo. Por ejemplo:"
   ]
  },
  {
   "cell_type": "code",
   "execution_count": null,
   "metadata": {},
   "outputs": [],
   "source": [
    "for i in [1, 2, 3]:\n",
    "    for j in range(i):\n",
    "        print(f\"i vale {i} y j vale {j}\")"
   ]
  },
  {
   "cell_type": "markdown",
   "metadata": {},
   "source": [
    "En el ejemplo anterior, el bucle externo (el controlado por `i`) se ejecuta 3 veces y el bucle interno (el controlado por `j`) se ejecuta 1, 2 y 3 veces. Por ello la instrucción `print()` se ejecuta en total 6 veces.\n",
    "\n",
    "La variable `i` toma los valores de 1 a 3 y la variable `j` toma los valores de 0 a `i`, por lo que cada vez el bucle interno se ejecuta un número diferente de veces:\n",
    "\n",
    "- Cuando `i` vale 1, `range(i)` devuelve la lista [0] y por tanto el bucle interno se ejecuta una sola vez y el programa escribe una sola línea en la que `i` vale 1 (y `j` vale 0).\n",
    "\n",
    "- Cuando `i` vale 2, `range(i)` devuelve la lista [0, 1] y por tanto el bucle interno se ejecuta dos veces y el programa escribe dos líneas en la que `i` vale 2 (y `j` vale 0 o 1 en cada una de ellas).\n",
    "- Cuando `i` vale 3, `range(i)` devuelve la lista [0, 1, 2] y por tanto el bucle interno se ejecuta tres veces y el programa escribe tres líneas en la que `i` vale 3 (y `j` vale 0, 1 o 2 en cada una de ellas)."
   ]
  },
  {
   "cell_type": "code",
   "execution_count": null,
   "metadata": {},
   "outputs": [],
   "source": []
  },
  {
   "cell_type": "markdown",
   "metadata": {},
   "source": [
    "🔹  `for` en una linea (list comprehension)\n",
    "\n",
    "En Python, se puede escribir un bucle for en una sola línea utilizando lo que se llama `list comprehension` (comprensión de listas). Esta técnica permite crear listas de manera más concisa y eficiente.\n",
    "\n",
    "Estructura"
   ]
  },
  {
   "cell_type": "raw",
   "metadata": {},
   "source": [
    "[nueva_expresion for item in iterable]"
   ]
  },
  {
   "cell_type": "markdown",
   "metadata": {},
   "source": [
    "Explicación:\n",
    "- nueva_expresion: Es la expresión que se evalúa y se agrega a la nueva lista en cada iteración.\n",
    "\n",
    "- item: Es el nombre de la variable que tomará el valor de cada elemento de la secuencia durante las iteraciones.\n",
    "\n",
    "- iterable: Es el objeto sobre el cual se va a iterar (por ejemplo, una lista, un rango, etc.).\n"
   ]
  },
  {
   "cell_type": "markdown",
   "metadata": {},
   "source": [
    "Ejemplo:\n",
    "\n",
    "Supongamos que queremos crear una lista de los cuadrados de los números del 1 al 5:"
   ]
  },
  {
   "cell_type": "code",
   "execution_count": null,
   "metadata": {},
   "outputs": [],
   "source": [
    "cuadrados = [x**2 for x in range(1, 6)]\n",
    "print(cuadrados)  # Resultado: [1, 4, 9, 16, 25]"
   ]
  },
  {
   "cell_type": "markdown",
   "metadata": {},
   "source": [
    "También puedes agregar una condición dentro de la comprensión de listas.\n",
    "\n",
    "**Estructura**"
   ]
  },
  {
   "cell_type": "raw",
   "metadata": {
    "vscode": {
     "languageId": "raw"
    }
   },
   "source": [
    "[(expresión) for (elemento) in (iterable) if (condición)]"
   ]
  },
  {
   "cell_type": "markdown",
   "metadata": {},
   "source": [
    "La expresión sólo se aplicará al elemento si se cumple la condición."
   ]
  },
  {
   "cell_type": "markdown",
   "metadata": {},
   "source": [
    " \n",
    "\n",
    "\n",
    "Por ejemplo, para obtener solo los números pares elevados al cuadrado:"
   ]
  },
  {
   "cell_type": "code",
   "execution_count": null,
   "metadata": {},
   "outputs": [],
   "source": [
    "cuadrados_pares = [x**2 for x in range(1, 6) if x % 2 == 0]\n",
    "print(cuadrados_pares)  # Resultado: [4, 16]"
   ]
  },
  {
   "cell_type": "markdown",
   "metadata": {},
   "source": [
    "Veamos otros ejemplos"
   ]
  },
  {
   "cell_type": "code",
   "execution_count": null,
   "metadata": {},
   "outputs": [],
   "source": [
    "# Sets comprehension\n",
    "frase = \"Qué rápido corren los atletas\"\n",
    "erres = [i for i in frase if i == 'r']  # QUE CREEN QUE SALGA\n",
    "erres"
   ]
  },
  {
   "cell_type": "code",
   "execution_count": null,
   "metadata": {},
   "outputs": [],
   "source": [
    "# diccionarios comprehension\n",
    "# es necesario una tupla key, value\n",
    "lista1 = ['nombre', 'edad', 'región']\n",
    "lista2 = ['Pelayo', 30, 'Asturias']\n",
    "\n",
    "mi_dict = {i:j for i,j in zip(lista1, lista2)}\n",
    "\n",
    "mi_dict"
   ]
  },
  {
   "cell_type": "markdown",
   "metadata": {},
   "source": [
    "Ventajas de la List Comprehension:\n",
    "- Concisión: Se puede escribir el mismo código en menos líneas.\n",
    "\n",
    "- Eficiencia: Generalmente, las comprensiones de listas son más rápidas que los bucles for tradicionales debido a su implementación interna en Python."
   ]
  },
  {
   "cell_type": "markdown",
   "metadata": {},
   "source": [
    "## El bucle while\n",
    "\n",
    "Un bucle `while` permite repetir la ejecución de un grupo de instrucciones mientras se cumpla una condición (es decir, mientras la condición tenga el valor`True`).\n",
    "\n",
    "La sintaxis básica de un bucle while en Python es la siguiente:"
   ]
  },
  {
   "cell_type": "raw",
   "metadata": {
    "vscode": {
     "languageId": "raw"
    }
   },
   "source": [
    "while condición:\n",
    "    # Bloque de código que se ejecuta mientras la condición sea True\n",
    "    instrucción1\n",
    "    instrucción2\n",
    "    ..."
   ]
  },
  {
   "cell_type": "markdown",
   "metadata": {},
   "source": [
    "La ejecución de esta estructura de control while es la siguiente:\n",
    "\n",
    "Python evalúa la condición:\n",
    "- si el resultado es `True` se ejecuta el cuerpo del bucle. Una vez ejecutado el cuerpo del bucle, se repite el proceso (se evalúa de nuevo la condición y, si es cierta, se ejecuta de nuevo el cuerpo del bucle) una y otra vez mientras la condición sea cierta.\n",
    "- si el resultado es `False`, el cuerpo del bucle no se ejecuta y continúa la ejecución del resto del programa.\n",
    "La variable o las variables que aparezcan en la condición se suelen llamar variables de control. Las variables de control deben definirse antes del bucle while y modificarse en el bucle while.\n",
    "\n",
    "<img src= \"capturas\\plot3.png\">\n",
    "\n",
    "Si incluimos en este esquema la definición y modificación de las variables de control que intervienen en la condición, el diagrama de flujo sería el siguiente:\n",
    "\n",
    "<img src= \"capturas\\plot4.png\">"
   ]
  },
  {
   "cell_type": "markdown",
   "metadata": {},
   "source": [
    "Ejemplo"
   ]
  },
  {
   "cell_type": "code",
   "execution_count": null,
   "metadata": {},
   "outputs": [],
   "source": [
    "contador = 0\n",
    "while contador < 5:\n",
    "    print(contador)\n",
    "    contador += 1  # Incrementamos el contador para evitar un bucle infinito"
   ]
  },
  {
   "cell_type": "markdown",
   "metadata": {},
   "source": [
    "El ejemplo anterior se podría haber programado con un bucle `for`. En general los bucles `while` son ideales para bucles indefinidos o dependientes de eventos externos, además puede manejar condiciones de salida complejas."
   ]
  },
  {
   "cell_type": "code",
   "execution_count": null,
   "metadata": {},
   "outputs": [],
   "source": [
    "# también puede ponerse en una linea\n",
    "x = 5\n",
    "while x > 0: x-=1; print(x)"
   ]
  },
  {
   "cell_type": "markdown",
   "metadata": {},
   "source": [
    "`IMPORTANTE:`\n",
    "\n",
    "Si la condición del bucle se cumple siempre, el bucle no terminará nunca de ejecutarse y tendremos lo que se denomina un `bucle infinito`. Aunque a veces es necesario utilizar bucles infinitos en un programa, normalmente se deben a errores que se deben corregir."
   ]
  },
  {
   "cell_type": "code",
   "execution_count": null,
   "metadata": {},
   "outputs": [],
   "source": []
  },
  {
   "cell_type": "markdown",
   "metadata": {},
   "source": [
    "🔹 `Else` y `while`"
   ]
  },
  {
   "cell_type": "markdown",
   "metadata": {},
   "source": [
    "En Python, el bucle `while` puede ir acompañado de una cláusula `else`, que `se ejecuta después de que el bucle termina de ejecutarse` \n"
   ]
  },
  {
   "cell_type": "code",
   "execution_count": null,
   "metadata": {},
   "outputs": [],
   "source": [
    "# Ejemplo\n",
    "x = 5\n",
    "while x > 0:\n",
    "    x -=1\n",
    "    print(x) #4,3,2,1,0\n",
    "else:\n",
    "    print(\"El bucle ha finalizado\")"
   ]
  },
  {
   "cell_type": "markdown",
   "metadata": {},
   "source": [
    "`IMPORTANTE:` siempre que la condición del bucle se vuelva `False` y no se haya interrumpido con una instrucción `break`. Esta es una característica menos común, pero puede ser útil en ciertos casos."
   ]
  },
  {
   "cell_type": "code",
   "execution_count": null,
   "metadata": {},
   "outputs": [],
   "source": [
    "# Ejemplo\n",
    "x = 5\n",
    "while True:\n",
    "    x -= 1\n",
    "    print(x) #4, 3, 2, 1, 0\n",
    "    if x == 0:\n",
    "        break\n",
    "else:\n",
    "    # El print no se ejecuta\n",
    "    print(\"Fin del bucle\")"
   ]
  },
  {
   "cell_type": "markdown",
   "metadata": {},
   "source": [
    "Podemos ver como si el bucle termina por el `break`, el `print()` no se ejecutará. Por lo tanto, se podría decir que no tiene mucho sentido el uso del `else`, ya que un bloque de código fuera del bucle cumplirá con la misma funcionalidad."
   ]
  },
  {
   "cell_type": "markdown",
   "metadata": {},
   "source": [
    "🔹 `while` anidados\n",
    "\n",
    "Los bucles while anidados son aquellos en los que un bucle `while` está contenido dentro de otro bucle `while`. Esto permite realizar repeticiones dentro de repeticiones, lo cual es útil cuando tienes que iterar sobre estructuras más complejas, como `matrices` o cuando se necesita realizar múltiples verificaciones o procesos repetitivos.\n",
    "\n",
    "Estructura:"
   ]
  },
  {
   "cell_type": "raw",
   "metadata": {
    "vscode": {
     "languageId": "raw"
    }
   },
   "source": [
    "while condición1:\n",
    "    # Bloque de código del primer bucle while\n",
    "    while condición2:\n",
    "        # Bloque de código del segundo bucle while\n",
    "        instrucción1\n",
    "        instrucción2\n",
    "        ...\n",
    "    instrucción fuera del segundo bucle"
   ]
  },
  {
   "cell_type": "code",
   "execution_count": null,
   "metadata": {},
   "outputs": [],
   "source": [
    "# ejemplo tabla de multiplicar\n",
    "i = 1\n",
    "while i <= 5:  # Primer bucle\n",
    "    j = 1\n",
    "    while j <= 10:  # Segundo bucle\n",
    "        print(f\"{i} x {j} = {i * j}\")\n",
    "        j += 1\n",
    "    i += 1"
   ]
  },
  {
   "cell_type": "markdown",
   "metadata": {},
   "source": [
    "## Ejercicios\n",
    "\n",
    "1. Hacer un juego del ahorcado.\n",
    "2. Imprimir todos los dígitos decimales, del 0 al 9, utilizando una repetición.\n",
    "3. Imprimir todos los números entre el 100 y el 199.\n",
    "4. Imprimir los números entre el 5 y el 20, saltando de tres en tres.\n",
    "5. Escribir un programa que solicite al usuario una cantidad y luego itere la cantidad de veces dada. En cada iteración, solicitar al usuario que ingrese un número. Al finalizar, mostrar la suma de todos los números ingresados.\n",
    "6. Solicitar al usuario que ingrese una frase y luego imprimir un listado de las vocales que aparecen en esa frase (sin repetirlas).\n",
    "7. Solicitar al usuario que ingrese una frase y luego imprimir la cantidad de vocales que se encuentran en dicha frase.\n",
    "8. Escribir un programa que muestre la sumatoria de todos los múltiplos de 3 encontrados entre el 0 y el 100.\n",
    "9. Dado un número entero positivo, mostrar su factorial. El factorial de un número se obtiene multiplicando todos los números enteros positivos que hay entre el 1 y ese número.\n",
    "10. Escribir un programa que permita al usuario ingresar 6 números enteros, que pueden ser positivos o negativos. Al finalizar, mostrar la sumatoria de los números negativos y el promedio de los positivos.  No olvides que no es posible dividir por cero, por lo que es necesario evitar que el programa arroje un error si no se ingresaron números positivos.\n",
    "11. Escribir un programa que permita al usuario ingresar dos años y luego imprima todos los años en ese rango, que sean bisiestos y múltiplos de 10. Nota: para que un año sea bisiesto debe ser divisible por 4 y no debe ser divisible por 100, excepto que también sea divisible por 400.\n",
    "12. Un grupo de amigos decide organizar un juego de estrategia, para lo cual forman dos equipos de 6 integrantes cada uno, donde un integrante de cada equipo es el “jefe” y los otros 5 son sus “oficiales”. La regla más importante del juego es que sólo se comunicarán mediante un canal común, por lo que deben buscar la forma de ocultar el contenido de sus mensajes. Uno de los equipos decide utilizar un método antiguo de encriptación llamado “la cifra del césar”, que consiste en correr cada letra del mensaje –considerando la posición de cada una en el alfabeto– una determinada cantidad de lugares. \n",
    "    \n",
    "    Ejemplo: si el corrimiento es de 2 lugares, la palabra “ATAQUE” se transforma en “CVCSWG”.  Cada día, el “jefe” del equipo debe enviar un mensaje a cada uno de sus oficiales. Escribir un programa que permita encriptar los 5 mensajes. El corrimiento (cantidad de lugares que se correrán las letras) será dado por el usuario antes de comenzar a encriptar. Los 5 mensajes usarán el mismo corrimiento. \n",
    "    Nota: si el alfabeto termina antes de poder correr la cantidad de lugares necesarios, se vuelve a comenzar desde la letra “a”. Ejemplo: la palabra “EXTRA” corrida 3 lugares se convierte en “HAWUD”. Utilizando el alfabeto español, de 27 letras, el siguiente cálculo matemático permite volver a comenzar por el principio una vez que se llegó a la “z”: (índice de la letra a correr+corrimiento)%27 Sólo se encriptarán las letras de los mensajes, dejando al resto de caracteres sin modificación."
   ]
  },
  {
   "cell_type": "markdown",
   "metadata": {},
   "source": [
    "### Respuestas\n",
    "\n",
    "Ver [Link](https://github.com/Mandy8808/Metodos_Numericos_2024/blob/master/Exercises/Bloque0/Tareas_Ejercicios_Part3.ipynb)"
   ]
  },
  {
   "cell_type": "code",
   "execution_count": null,
   "metadata": {},
   "outputs": [],
   "source": []
  }
 ],
 "metadata": {
  "kernelspec": {
   "display_name": "base",
   "language": "python",
   "name": "python3"
  },
  "language_info": {
   "codemirror_mode": {
    "name": "ipython",
    "version": 3
   },
   "file_extension": ".py",
   "mimetype": "text/x-python",
   "name": "python",
   "nbconvert_exporter": "python",
   "pygments_lexer": "ipython3",
   "version": "3.11.8"
  }
 },
 "nbformat": 4,
 "nbformat_minor": 2
}

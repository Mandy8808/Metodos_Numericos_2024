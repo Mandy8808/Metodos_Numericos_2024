{
 "cells": [
  {
   "cell_type": "markdown",
   "metadata": {},
   "source": [
    "# Python tutorial\n",
    "\n",
    "Alex Gezerlis\n",
    "\n",
    "Online Supplement for \"Numerical Methods in Physics with Python\" (Cambridge University Press, 2020)\n",
    "\n",
    "<a href=\"http://www.numphyspy.org\" target=\"_blank\">http://www.numphyspy.org</a>\n",
    "\n",
    "2020-01-24"
   ]
  },
  {
   "cell_type": "markdown",
   "metadata": {},
   "source": [
    "## 1 Basics"
   ]
  },
  {
   "cell_type": "markdown",
   "metadata": {},
   "source": [
    "### 1.1 Interactive vs script"
   ]
  },
  {
   "cell_type": "markdown",
   "metadata": {},
   "source": [
    "We will assume you know how to launch Python and how to use a text editor (like vim or emacs), or even an integrated development environment (IDE), to save code into a file. While some of the details vary based on which operating system (OS) you employ, most of what we have to say is OS-agnostic."
   ]
  },
  {
   "cell_type": "markdown",
   "metadata": {},
   "source": [
    "#### 1.1.1 Interactive"
   ]
  },
  {
   "cell_type": "markdown",
   "metadata": {},
   "source": [
    "You can run Python code interactively: once you’ve launched a Python shell you get the Python prompt >>> (also known as a chevron). Since this tutorial is in the form of a Jupyter Notebook, the Python prompt will not explicitly appear below.\n",
    "\n",
    "Here are a few examples of things you could type in. You should press Enter after each line you input at the Python interpreter (or Shift-Enter if you're working on the Notebook)."
   ]
  },
  {
   "cell_type": "code",
   "execution_count": 1,
   "metadata": {
    "collapsed": false
   },
   "outputs": [
    {
     "data": {
      "text/plain": [
       "5"
      ]
     },
     "execution_count": 1,
     "metadata": {},
     "output_type": "execute_result"
    }
   ],
   "source": [
    "2+3"
   ]
  },
  {
   "cell_type": "code",
   "execution_count": 2,
   "metadata": {
    "collapsed": false
   },
   "outputs": [
    {
     "data": {
      "text/plain": [
       "6"
      ]
     },
     "execution_count": 2,
     "metadata": {},
     "output_type": "execute_result"
    }
   ],
   "source": [
    "2*3"
   ]
  },
  {
   "cell_type": "code",
   "execution_count": 3,
   "metadata": {
    "collapsed": true
   },
   "outputs": [],
   "source": [
    "x=42"
   ]
  },
  {
   "cell_type": "code",
   "execution_count": 4,
   "metadata": {
    "collapsed": false
   },
   "outputs": [
    {
     "name": "stdout",
     "output_type": "stream",
     "text": [
      "42\n"
     ]
    }
   ],
   "source": [
    "print(x)"
   ]
  },
  {
   "cell_type": "markdown",
   "metadata": {},
   "source": [
    "This is similar to other interactive environments that you may have seen before, like Mathematica. It is sometimes called Python’s read-evaluate-print loop (REPL). Note that the first two lines show us we could (if we wanted to) use Python as a calculator. The next line provided us with our first example of using a variable: in this case we created a variable x and assigned the value 42 to it. (Numbers like 3 or 42 are known as literals). We then used the print() function to print out the variable’s value to the screen. This is our first use of a function: as in mathematics, we use parentheses to show that we are passing in an argument. We won’t go into the different versions of Python at this point, assuming for now that you are using Python 3, where the above example is legitimate. (We discuss \n",
    "Python 2 vs Python 3 in a section near the end of this tutorial). "
   ]
  },
  {
   "cell_type": "markdown",
   "metadata": {},
   "source": [
    "#### 1.1.2 Script"
   ]
  },
  {
   "cell_type": "markdown",
   "metadata": {},
   "source": [
    "You don’t need to use Python interactively. Like other programming languages, the most common way of writing and running programs is to store the code in a file. You can do this for all 4 lines in the example above. In our case, we get:"
   ]
  },
  {
   "cell_type": "code",
   "execution_count": 5,
   "metadata": {
    "collapsed": false
   },
   "outputs": [
    {
     "name": "stdout",
     "output_type": "stream",
     "text": [
      "Writing example.py\n"
     ]
    }
   ],
   "source": [
    "%%writefile example.py\n",
    "2+3\n",
    "2*3\n",
    "x=42\n",
    "print(x)"
   ]
  },
  {
   "cell_type": "markdown",
   "metadata": {
    "collapsed": true
   },
   "source": [
    "Note that we didn’t include the Python prompt, as that only shows up when running Python interactively. When you run this Python program, the output printed on the screen will be 42. To see this, on a Unix-like system you would type python example.py at a terminal. It’s worth observing that the first 2 lines in example.py are highly uncommon for scripts/programs stored in files: they carry out a calculation but don’t assign the result to a variable or print it, so the result is immediately lost. Things are different when using Python interactively, as the answers are printed out to the screen in that case, even if you don’t explicitly use the print() function."
   ]
  },
  {
   "cell_type": "markdown",
   "metadata": {},
   "source": [
    "#### 1.1.3 Both"
   ]
  },
  {
   "cell_type": "markdown",
   "metadata": {},
   "source": [
    "\n",
    "There also exists a useful combination between interactive and script modes. Assume you’re at the Python prompt, as usual. If you make sure you’re in the same directory as the example.py file and type:"
   ]
  },
  {
   "cell_type": "code",
   "execution_count": 6,
   "metadata": {
    "collapsed": false
   },
   "outputs": [
    {
     "name": "stdout",
     "output_type": "stream",
     "text": [
      "42\n"
     ]
    }
   ],
   "source": [
    "import example"
   ]
  },
  {
   "cell_type": "markdown",
   "metadata": {},
   "source": [
    "(note that this is example without the .py at the end) then you get to access all the functionality contained in your Python program file, while still trying things out interactively. Our example is, of course, near trivial, since the functionality introduced by the example module is limited – we will come back to importing later on.\n",
    "\n",
    "For the sake of completeness, we note that a powerful way of fusing interactive sessions and scripts consists of using Jupyter notebooks. These basically allow you to use Python inside a web browser. One of their main advantages is that they allow you to save an interactive session. Another advantage is the ability to combine code, graphics, and notes, all in one place. Even so, in what follows we will restrict ourselves to plain Python; it’s up to you whether you wish to use a text editor, an IDE, or a Jupyter notebook."
   ]
  },
  {
   "cell_type": "markdown",
   "metadata": {},
   "source": [
    "### 1.2 Variables"
   ]
  },
  {
   "cell_type": "markdown",
   "metadata": {},
   "source": [
    "\n",
    "There are some rules governing variables like x in the example above:\n",
    "\n",
    "- Variable names are made up of letters or numbers or the character \\_ (an underscore). Thus, how\\_do\\_you\\_do is an allowed variable name, but not.bad isn’t.\n",
    "\n",
    "- Variable names cannot start with a number, so se7en is an allowed variable name, but 11ven isn’t.\n",
    "\n",
    "- Variable names are case sensitive, meaning that x and X are different variables.\n",
    "\n",
    "- You cannot use reserved words (also known as keywords) like for, if, etc as variable names. You will soon see more examples of such reserved words.\n",
    "\n",
    "We will not provide a comprehensive set of coding guidelines, but when naming variables it’s good to keep in mind that “shorter is better”. For example, therm is better than thermodynamic\\_property. On the other hand, also keep in mind that “meaningful is good”: for example, therm is typically a better name than t. That being said, if you are dealing with the time parameter, it’s probably wiser to name it t rather than time.\n",
    "\n",
    "Variables come in different types. The x in example.py above was an integer variable. Different types serve distinct purposes and are associated with different costs (e.g., in terms of storage). You should use the appropriate type of variable in each case. Here are some examples of built-in types:\n",
    "\n",
    "- __Integer__: For example, ival = 17.\n",
    "- __Float__: For example, therm = 12.6.\n",
    "- __Complex__: For example, z = 1.2 + 2.3j. (Note that this does not say 2.3\\*j).\n",
    "- __Boolean__:  For example, myflag = True. (The other option is False).\n",
    "- __String__:  For example, phrase = \"My string\". (Note that we could have used single quotes instead, ‘My string’).\n",
    "\n",
    "The types integer, float, and complex are known as numeric types, for obvious reasons. \n",
    "\n",
    "Python is a dynamically typed language, meaning that runtime objects (like the variable x above) get their type from their value. As a result, you can use the same variable to hold different types in the same interactive session (or in the same program).\n",
    "For example:"
   ]
  },
  {
   "cell_type": "code",
   "execution_count": 7,
   "metadata": {
    "collapsed": true
   },
   "outputs": [],
   "source": [
    "x=1"
   ]
  },
  {
   "cell_type": "code",
   "execution_count": 8,
   "metadata": {
    "collapsed": false
   },
   "outputs": [
    {
     "data": {
      "text/plain": [
       "int"
      ]
     },
     "execution_count": 8,
     "metadata": {},
     "output_type": "execute_result"
    }
   ],
   "source": [
    "type(x)"
   ]
  },
  {
   "cell_type": "code",
   "execution_count": 9,
   "metadata": {
    "collapsed": true
   },
   "outputs": [],
   "source": [
    "x=3.5"
   ]
  },
  {
   "cell_type": "code",
   "execution_count": 10,
   "metadata": {
    "collapsed": false
   },
   "outputs": [
    {
     "data": {
      "text/plain": [
       "float"
      ]
     },
     "execution_count": 10,
     "metadata": {},
     "output_type": "execute_result"
    }
   ],
   "source": [
    "type(x)"
   ]
  },
  {
   "cell_type": "code",
   "execution_count": 11,
   "metadata": {
    "collapsed": true
   },
   "outputs": [],
   "source": [
    "x=\"Hi\""
   ]
  },
  {
   "cell_type": "code",
   "execution_count": 12,
   "metadata": {
    "collapsed": false
   },
   "outputs": [
    {
     "data": {
      "text/plain": [
       "str"
      ]
     },
     "execution_count": 12,
     "metadata": {},
     "output_type": "execute_result"
    }
   ],
   "source": [
    "type(x)"
   ]
  },
  {
   "cell_type": "markdown",
   "metadata": {},
   "source": [
    "Here we used the built-in type(), which also marks our second use of a function (the first one was print()). The term built-in refers to the fact that this is functionality that we get “out-of-the-box”, meaning without having to import it from somewhere else.\n",
    "\n",
    "Another feature of this dynamic typing is the fact that (unlike other languages you may be familiar with, like C or Fortran – these are statically typed languages), you do not first declare a variable’s type and later give it a value. In Python, the assignment is when the type of the variable gets determined.\n",
    "\n",
    "You can convert among types, for example:"
   ]
  },
  {
   "cell_type": "code",
   "execution_count": 13,
   "metadata": {
    "collapsed": true
   },
   "outputs": [],
   "source": [
    "x=1"
   ]
  },
  {
   "cell_type": "code",
   "execution_count": 14,
   "metadata": {
    "collapsed": false
   },
   "outputs": [
    {
     "data": {
      "text/plain": [
       "int"
      ]
     },
     "execution_count": 14,
     "metadata": {},
     "output_type": "execute_result"
    }
   ],
   "source": [
    "type(x)"
   ]
  },
  {
   "cell_type": "code",
   "execution_count": 15,
   "metadata": {
    "collapsed": true
   },
   "outputs": [],
   "source": [
    "y = float(x)"
   ]
  },
  {
   "cell_type": "code",
   "execution_count": 16,
   "metadata": {
    "collapsed": false
   },
   "outputs": [
    {
     "data": {
      "text/plain": [
       "float"
      ]
     },
     "execution_count": 16,
     "metadata": {},
     "output_type": "execute_result"
    }
   ],
   "source": [
    "type(y)"
   ]
  },
  {
   "cell_type": "markdown",
   "metadata": {},
   "source": [
    "where we used the Python built-in function float(). As you can imagine, there also exist Python built-in functions called int(), complex(), bool(), str() (with meanings that are, mostly, straightforward). For example:"
   ]
  },
  {
   "cell_type": "code",
   "execution_count": 17,
   "metadata": {
    "collapsed": true
   },
   "outputs": [],
   "source": [
    "spi = \"3.14\""
   ]
  },
  {
   "cell_type": "code",
   "execution_count": 18,
   "metadata": {
    "collapsed": false
   },
   "outputs": [
    {
     "data": {
      "text/plain": [
       "str"
      ]
     },
     "execution_count": 18,
     "metadata": {},
     "output_type": "execute_result"
    }
   ],
   "source": [
    "type(spi)"
   ]
  },
  {
   "cell_type": "code",
   "execution_count": 19,
   "metadata": {
    "collapsed": true
   },
   "outputs": [],
   "source": [
    "fpi = float(spi)"
   ]
  },
  {
   "cell_type": "code",
   "execution_count": 20,
   "metadata": {
    "collapsed": false
   },
   "outputs": [
    {
     "data": {
      "text/plain": [
       "float"
      ]
     },
     "execution_count": 20,
     "metadata": {},
     "output_type": "execute_result"
    }
   ],
   "source": [
    "type(fpi)"
   ]
  },
  {
   "cell_type": "markdown",
   "metadata": {},
   "source": [
    "This spi is clearly not a number, whereas fpi is. It’s worth noting, however, that you\n",
    "wouldn’t know the difference if all you were doing was printing out their values:"
   ]
  },
  {
   "cell_type": "code",
   "execution_count": 21,
   "metadata": {
    "collapsed": true
   },
   "outputs": [],
   "source": [
    "spi = \"3.14\""
   ]
  },
  {
   "cell_type": "code",
   "execution_count": 22,
   "metadata": {
    "collapsed": false
   },
   "outputs": [
    {
     "name": "stdout",
     "output_type": "stream",
     "text": [
      "3.14\n"
     ]
    }
   ],
   "source": [
    "print(spi)"
   ]
  },
  {
   "cell_type": "code",
   "execution_count": 23,
   "metadata": {
    "collapsed": true
   },
   "outputs": [],
   "source": [
    "fpi = float(spi)"
   ]
  },
  {
   "cell_type": "code",
   "execution_count": 24,
   "metadata": {
    "collapsed": false
   },
   "outputs": [
    {
     "name": "stdout",
     "output_type": "stream",
     "text": [
      "3.14\n"
     ]
    }
   ],
   "source": [
    "print(fpi)"
   ]
  },
  {
   "cell_type": "markdown",
   "metadata": {},
   "source": [
    "Note that Python is smart enough to know how to translate a string like \"3.14\" to a float. We observe that operations like 2\\*spi and 2\\*fpi give very different results. (Try this!) Similarly, 2.\\*spi and 2.\\*fpi are even more different from each other (the former doesn’t even work).\n",
    "\n",
    "Note that horizontal spaces don’t really matter, i.e.:"
   ]
  },
  {
   "cell_type": "code",
   "execution_count": 25,
   "metadata": {
    "collapsed": true
   },
   "outputs": [],
   "source": [
    "x = 1"
   ]
  },
  {
   "cell_type": "markdown",
   "metadata": {},
   "source": [
    "is equivalent to:"
   ]
  },
  {
   "cell_type": "code",
   "execution_count": 26,
   "metadata": {
    "collapsed": true
   },
   "outputs": [],
   "source": [
    "x      =                         1"
   ]
  },
  {
   "cell_type": "markdown",
   "metadata": {},
   "source": [
    "though the latter is, obviously, aesthetically displeasing. For future reference, keep in mind that leading spaces are syntactically significant (i.e., we couldn’t have put a space before x). As you may have already heard, in Python indentation matters.\n",
    "\n",
    "Note, finally, that blank lines between statements in a program file are OK. For example, this file:"
   ]
  },
  {
   "cell_type": "code",
   "execution_count": 27,
   "metadata": {
    "collapsed": false
   },
   "outputs": [
    {
     "name": "stdout",
     "output_type": "stream",
     "text": [
      "Writing example2.py\n"
     ]
    }
   ],
   "source": [
    "%%writefile example2.py\n",
    "\n",
    "2+3\n",
    "\n",
    "2*3\n",
    "\n",
    "x=42\n",
    "\n",
    "print(x)\n"
   ]
  },
  {
   "cell_type": "markdown",
   "metadata": {},
   "source": [
    "is fully equivalent to the file example.py given above. Extra blank lines often improve readability (although, as the example of example2.py shows, this isn’t always the case)."
   ]
  },
  {
   "cell_type": "markdown",
   "metadata": {},
   "source": [
    "### 1.3 Output and input"
   ]
  },
  {
   "cell_type": "markdown",
   "metadata": {},
   "source": [
    "#### 1.3.1 Output"
   ]
  },
  {
   "cell_type": "markdown",
   "metadata": {},
   "source": [
    "We’ve already discussed how to print out a variable, thereby seeing its value. This is easy to generalize to the case of more variables:"
   ]
  },
  {
   "cell_type": "code",
   "execution_count": 28,
   "metadata": {
    "collapsed": true
   },
   "outputs": [],
   "source": [
    "x=1"
   ]
  },
  {
   "cell_type": "code",
   "execution_count": 29,
   "metadata": {
    "collapsed": true
   },
   "outputs": [],
   "source": [
    "y=2"
   ]
  },
  {
   "cell_type": "code",
   "execution_count": 30,
   "metadata": {
    "collapsed": false
   },
   "outputs": [
    {
     "name": "stdout",
     "output_type": "stream",
     "text": [
      "1 2\n"
     ]
    }
   ],
   "source": [
    "print(x, y)"
   ]
  },
  {
   "cell_type": "markdown",
   "metadata": {},
   "source": [
    "We simply passed in the two variables, separating them with a comma. We can also intersperse numeric literals:"
   ]
  },
  {
   "cell_type": "code",
   "execution_count": 31,
   "metadata": {
    "collapsed": true
   },
   "outputs": [],
   "source": [
    "x=1"
   ]
  },
  {
   "cell_type": "code",
   "execution_count": 32,
   "metadata": {
    "collapsed": true
   },
   "outputs": [],
   "source": [
    "y=2"
   ]
  },
  {
   "cell_type": "code",
   "execution_count": 33,
   "metadata": {
    "collapsed": false
   },
   "outputs": [
    {
     "name": "stdout",
     "output_type": "stream",
     "text": [
      "1 5 2\n"
     ]
    }
   ],
   "source": [
    "print(x, 5, y)"
   ]
  },
  {
   "cell_type": "markdown",
   "metadata": {},
   "source": [
    "or even string literals:"
   ]
  },
  {
   "cell_type": "code",
   "execution_count": 34,
   "metadata": {
    "collapsed": true
   },
   "outputs": [],
   "source": [
    "x=1"
   ]
  },
  {
   "cell_type": "code",
   "execution_count": 35,
   "metadata": {
    "collapsed": true
   },
   "outputs": [],
   "source": [
    "y=2"
   ]
  },
  {
   "cell_type": "code",
   "execution_count": 36,
   "metadata": {
    "collapsed": false
   },
   "outputs": [
    {
     "name": "stdout",
     "output_type": "stream",
     "text": [
      "1 is not 2\n"
     ]
    }
   ],
   "source": [
    "print(x, \"is not\", y)"
   ]
  },
  {
   "cell_type": "markdown",
   "metadata": {},
   "source": [
    "Note that in all these cases we are comma-separating the entities we’re passing in, whereas when they are printed to screen they are space-separated (Try this!). There exist much fancier ways of formatting output, most notably via the use of\n",
    "format(). We will provide a basic introduction in a later section."
   ]
  },
  {
   "cell_type": "markdown",
   "metadata": {},
   "source": [
    "#### 1.3.2 Input"
   ]
  },
  {
   "cell_type": "markdown",
   "metadata": {},
   "source": [
    "Getting input from the user is very easy. We simply use the input function called. . . input() and can freely manipulate the result after that:"
   ]
  },
  {
   "cell_type": "code",
   "execution_count": 37,
   "metadata": {
    "collapsed": false
   },
   "outputs": [
    {
     "name": "stdout",
     "output_type": "stream",
     "text": [
      "Enter an integer:  75\n"
     ]
    }
   ],
   "source": [
    "x = input(\"Enter an integer:  \")"
   ]
  },
  {
   "cell_type": "code",
   "execution_count": 38,
   "metadata": {
    "collapsed": false
   },
   "outputs": [
    {
     "name": "stdout",
     "output_type": "stream",
     "text": [
      "Twice that is: 150\n"
     ]
    }
   ],
   "source": [
    "print(\"Twice that is:\", 2*int(x))"
   ]
  },
  {
   "cell_type": "markdown",
   "metadata": {},
   "source": [
    "note that, in Python 3, no matter what you input, x is saved as a string (i.e., even if the user typed 75). As you were asked to check earlier on, 2\\*x behaves in a possibly unexpected manner if x is a string. This is why we are printing out 2\\*int(x): we are first converting the string to an integer using the built-in function int().\n",
    "\n",
    "Of course, this wouldn’t have been quite right if the user had typed in, say, a float. In that case, we would have had to change the code line printing out to:"
   ]
  },
  {
   "cell_type": "code",
   "execution_count": 39,
   "metadata": {
    "collapsed": false
   },
   "outputs": [
    {
     "name": "stdout",
     "output_type": "stream",
     "text": [
      "Twice that is: 150.0\n"
     ]
    }
   ],
   "source": [
    "print(\"Twice that is:\", 2*float(x))"
   ]
  },
  {
   "cell_type": "markdown",
   "metadata": {},
   "source": [
    "Clearly, this can get cumbersome. Another approach would be to use the built-in function eval() which evaluates its argument as a Python expression (and therefore does the conversion to different numeric types on its own). However, using eval() can be dangerous if you do not trust the source of the input.\n",
    "\n",
    "We note that, in production code, prompting the user for input is rather rare: the input parameters are either set in the code itself or read from an input file. As we’ll see near the end of this tutorial, there exist ways of doing file output and input in Python. For now, let us become a little more comfortable with using Python."
   ]
  },
  {
   "cell_type": "markdown",
   "metadata": {},
   "source": [
    "### 1.4 Arithmetic"
   ]
  },
  {
   "cell_type": "markdown",
   "metadata": {},
   "source": [
    "We’ve already seen trivial examples of addition and multiplication, in Python, above. These can get even more interesting: we can assign the result of an operation to another variable, for example:"
   ]
  },
  {
   "cell_type": "code",
   "execution_count": 40,
   "metadata": {
    "collapsed": true
   },
   "outputs": [],
   "source": [
    "x=1"
   ]
  },
  {
   "cell_type": "code",
   "execution_count": 41,
   "metadata": {
    "collapsed": true
   },
   "outputs": [],
   "source": [
    "y=2"
   ]
  },
  {
   "cell_type": "code",
   "execution_count": 42,
   "metadata": {
    "collapsed": true
   },
   "outputs": [],
   "source": [
    "w = x + y"
   ]
  },
  {
   "cell_type": "code",
   "execution_count": 43,
   "metadata": {
    "collapsed": false
   },
   "outputs": [
    {
     "name": "stdout",
     "output_type": "stream",
     "text": [
      "3\n"
     ]
    }
   ],
   "source": [
    "print(w)"
   ]
  },
  {
   "cell_type": "markdown",
   "metadata": {},
   "source": [
    "\n",
    "and can even tell print() directly to evaluate and print out the result, without the use of an intermediate variable:"
   ]
  },
  {
   "cell_type": "code",
   "execution_count": 44,
   "metadata": {
    "collapsed": false
   },
   "outputs": [
    {
     "name": "stdout",
     "output_type": "stream",
     "text": [
      "3\n"
     ]
    }
   ],
   "source": [
    "print(x+y)"
   ]
  },
  {
   "cell_type": "markdown",
   "metadata": {},
   "source": [
    "You have to exercise your judgment to decide when to use a new variable (typically to store the result of a complicated calculation) and when not to (when you can simply do the calculation on the spot, as above).\n",
    "\n",
    "More generally, for two variables x and y we can have the following operations (among others, which we won’t use):"
   ]
  },
  {
   "cell_type": "markdown",
   "metadata": {},
   "source": [
    "- x+y Add\n",
    "- x-y Subtract\n",
    "- x*y Multiply\n",
    "- x/y Divide. Note that in Python 3 when dividing two integers the answer is a float, e.g., x = 3/2 will lead to 1.5. In both versions of Python x=3//2 (with two slashes) returns an integer, 1.\n",
    "- x\\*\\*y Raise x to the power of y. Note that this is already built in to the language (unlike, say, the C programming language, where you need to call a function to do this).\n",
    "- x%y Modulo. For example, 14%3 is 2. A useful application of this is that x%2 checks if x is even or odd: if x is even, the result is 0,if x is odd the result is 1.\n",
    "\n",
    "When mixing different types in a numerical operation, we get promotion, e.g."
   ]
  },
  {
   "cell_type": "code",
   "execution_count": 45,
   "metadata": {
    "collapsed": true
   },
   "outputs": [],
   "source": [
    "x=1"
   ]
  },
  {
   "cell_type": "code",
   "execution_count": 46,
   "metadata": {
    "collapsed": true
   },
   "outputs": [],
   "source": [
    "y=2.0"
   ]
  },
  {
   "cell_type": "code",
   "execution_count": 47,
   "metadata": {
    "collapsed": true
   },
   "outputs": [],
   "source": [
    "z=x+y"
   ]
  },
  {
   "cell_type": "code",
   "execution_count": 48,
   "metadata": {
    "collapsed": false
   },
   "outputs": [
    {
     "data": {
      "text/plain": [
       "float"
      ]
     },
     "execution_count": 48,
     "metadata": {},
     "output_type": "execute_result"
    }
   ],
   "source": [
    "type(z)"
   ]
  },
  {
   "cell_type": "markdown",
   "metadata": {},
   "source": [
    "As a mnemonic, you can think that floats are “more general” than integers, so the result becomes a float. Here’s a related question for you: what do you get when you multiply/add/etc an integer and a complex number? (Try this!)\n",
    "\n",
    "The operations mentioned above follow well-defined rules of precedence. For example, the following line, which helps us convert temperatures from Celsius to Fahrenheit:"
   ]
  },
  {
   "cell_type": "code",
   "execution_count": 49,
   "metadata": {
    "collapsed": true
   },
   "outputs": [],
   "source": [
    "Tc = 27"
   ]
  },
  {
   "cell_type": "code",
   "execution_count": 50,
   "metadata": {
    "collapsed": false
   },
   "outputs": [],
   "source": [
    "Tf = Tc*9/5 + 32"
   ]
  },
  {
   "cell_type": "markdown",
   "metadata": {},
   "source": [
    "is interpreted by taking multiplication and division as “more important” than addition or subtraction, and is therefore equivalent to:"
   ]
  },
  {
   "cell_type": "code",
   "execution_count": 51,
   "metadata": {
    "collapsed": true
   },
   "outputs": [],
   "source": [
    "Tf = (Tc*9/5) + 32"
   ]
  },
  {
   "cell_type": "markdown",
   "metadata": {},
   "source": [
    "Similarly, powers are more important than multiplications/divisions or additions/subtractions. You should generally use parentheses when you want to be clear or when you want to\n",
    "force a different result than Python would assume by default. For example, the following:"
   ]
  },
  {
   "cell_type": "code",
   "execution_count": 52,
   "metadata": {
    "collapsed": true
   },
   "outputs": [],
   "source": [
    "Tc = (Tf-32)*5/9"
   ]
  },
  {
   "cell_type": "markdown",
   "metadata": {},
   "source": [
    "carries out the conversion in the opposite direction. Note that without the parentheses the multiplication and division would have been carried out before the subtraction (so this would have been an erroneous implementation of the conversion from degrees Fahrenheit to degrees Celsius)."
   ]
  },
  {
   "cell_type": "markdown",
   "metadata": {},
   "source": [
    "### 1.5 Assignments"
   ]
  },
  {
   "cell_type": "markdown",
   "metadata": {},
   "source": [
    "Note that you always need a single variable on the left-hand side of an assignment (disclaimer: keep reading). For example:"
   ]
  },
  {
   "cell_type": "code",
   "execution_count": 53,
   "metadata": {
    "collapsed": true
   },
   "outputs": [],
   "source": [
    "y=2"
   ]
  },
  {
   "cell_type": "code",
   "execution_count": 54,
   "metadata": {
    "collapsed": false
   },
   "outputs": [
    {
     "ename": "SyntaxError",
     "evalue": "can't assign to operator (<ipython-input-54-9877ebb79ac3>, line 1)",
     "output_type": "error",
     "traceback": [
      "\u001b[0;36m  File \u001b[0;32m\"<ipython-input-54-9877ebb79ac3>\"\u001b[0;36m, line \u001b[0;32m1\u001b[0m\n\u001b[0;31m    3*x = y\u001b[0m\n\u001b[0m           ^\u001b[0m\n\u001b[0;31mSyntaxError\u001b[0m\u001b[0;31m:\u001b[0m can't assign to operator\n"
     ]
    }
   ],
   "source": [
    "3*x = y"
   ]
  },
  {
   "cell_type": "markdown",
   "metadata": {},
   "source": [
    "is illegal. Depending on your intentions, could say either"
   ]
  },
  {
   "cell_type": "code",
   "execution_count": 55,
   "metadata": {
    "collapsed": true
   },
   "outputs": [],
   "source": [
    "x = y/3"
   ]
  },
  {
   "cell_type": "markdown",
   "metadata": {},
   "source": [
    "or"
   ]
  },
  {
   "cell_type": "code",
   "execution_count": 56,
   "metadata": {
    "collapsed": true
   },
   "outputs": [],
   "source": [
    "y = 3*x"
   ]
  },
  {
   "cell_type": "markdown",
   "metadata": {},
   "source": [
    "Always remember that Python (like other programming languages) knows only how to plug in known values on the right-hand-side of an assignment, thereby producing a new value. This value is then labelled by the single variable name which appears on the left-hand side. In general, you may find it useful to think of Python variables as labels/tags/names. This is quite different from the mnemonic that is helpful for statically typed languages: for those languages, it’s sometimes helpful to think of a variable as being a “box”, since a variable can still exist even if no value has been assigned to it (an empty box). In contradistinction to this, it might help to think of Python values as being produced first and labels being attached to them after that.\n",
    "\n",
    "Let’s see some (elementary) examples of assignments. The following:"
   ]
  },
  {
   "cell_type": "code",
   "execution_count": 57,
   "metadata": {
    "collapsed": true
   },
   "outputs": [],
   "source": [
    "x = 7"
   ]
  },
  {
   "cell_type": "code",
   "execution_count": 58,
   "metadata": {
    "collapsed": true
   },
   "outputs": [],
   "source": [
    "x = x + 1"
   ]
  },
  {
   "cell_type": "markdown",
   "metadata": {},
   "source": [
    "is perfectly reasonable, though possibly disturbing if you’ve never programmed before. The first line gives x the value 7. The next line plugs that value (i.e., 7) on the right- hand-side, increments it by one, and then assigns the result to the variable x. (That is, x will have the value 8 after these two lines).\n",
    "\n",
    "This idiom, of having a variable both on the left-hand side (LHS) and the right- hand side (RHS), incremented by something, is so common that Python also provides an augmented assignment:"
   ]
  },
  {
   "cell_type": "code",
   "execution_count": 59,
   "metadata": {
    "collapsed": true
   },
   "outputs": [],
   "source": [
    "x += 1"
   ]
  },
  {
   "cell_type": "markdown",
   "metadata": {},
   "source": [
    "which is fully equivalent to x = x+1. Note that we don’t always have to increment by one. For example, x += 4 increments by 4, meaning it’s equivalent to x = x + 4. This type of augmented assignment also exists for subtraction, multiplication, and division: x -= 4, x \\*= 4, and x /= 4, respectively.\n",
    "\n",
    "Now that you know that having a variable appear on both the LHS and the RHS is allowed (its value being understood on the RHS), you will be able to grasp that:"
   ]
  },
  {
   "cell_type": "code",
   "execution_count": 60,
   "metadata": {
    "collapsed": true
   },
   "outputs": [],
   "source": [
    "x = x**2 + 4*x - 7"
   ]
  },
  {
   "cell_type": "markdown",
   "metadata": {},
   "source": [
    "is not a quadratic equation to be solved, but rather a simple assignment.\n",
    "\n",
    "We noted above, for pedagogical reasons, that you always need a single variable on the left-hand side of an assignment. This is to be interpreted in the sense that you can’t put operations on like 2\\*x on the LHS. However, Python provides multiple assignment, which allows you to put comma separated variable names on the LHS, e.g.:"
   ]
  },
  {
   "cell_type": "code",
   "execution_count": 61,
   "metadata": {
    "collapsed": true
   },
   "outputs": [],
   "source": [
    "x, y, z = 1, 3.4, \"Hello\""
   ]
  },
  {
   "cell_type": "markdown",
   "metadata": {},
   "source": [
    "As you just saw, the variables can be of different types. This is merely shorthand for the more verbose:"
   ]
  },
  {
   "cell_type": "code",
   "execution_count": 62,
   "metadata": {
    "collapsed": true
   },
   "outputs": [],
   "source": [
    "x = 1"
   ]
  },
  {
   "cell_type": "code",
   "execution_count": 63,
   "metadata": {
    "collapsed": true
   },
   "outputs": [],
   "source": [
    "y = 3.4"
   ]
  },
  {
   "cell_type": "code",
   "execution_count": 64,
   "metadata": {
    "collapsed": true
   },
   "outputs": [],
   "source": [
    "z = \"Hello\""
   ]
  },
  {
   "cell_type": "markdown",
   "metadata": {},
   "source": [
    "We can combine this feature with the afore-mentioned ability to use the same variable on both the LHS and the RHS to write:"
   ]
  },
  {
   "cell_type": "code",
   "execution_count": 65,
   "metadata": {
    "collapsed": true
   },
   "outputs": [],
   "source": [
    "x, y = 2*x + 1, 3*y - 5"
   ]
  },
  {
   "cell_type": "markdown",
   "metadata": {},
   "source": [
    "which is merely shorthand for:"
   ]
  },
  {
   "cell_type": "code",
   "execution_count": 66,
   "metadata": {
    "collapsed": true
   },
   "outputs": [],
   "source": [
    "x = 2*x + 1"
   ]
  },
  {
   "cell_type": "code",
   "execution_count": 67,
   "metadata": {
    "collapsed": true
   },
   "outputs": [],
   "source": [
    "y = 3*y - 5"
   ]
  },
  {
   "cell_type": "markdown",
   "metadata": {},
   "source": [
    "Note that having two assignments on the same line could be done in another way, if we simply expand our notion of “line”: we can use semicolons to separate two simple statements and thereby still put them both on the same line:"
   ]
  },
  {
   "cell_type": "code",
   "execution_count": 68,
   "metadata": {
    "collapsed": true
   },
   "outputs": [],
   "source": [
    "x = 2*x + 1; y = 3*y - 5"
   ]
  },
  {
   "cell_type": "markdown",
   "metadata": {},
   "source": [
    "which can be convenient if you’re pressed for space, but may also hide a bug if you’re not careful.\n",
    "\n",
    "Python’s multiple assignment provides us with a nifty way to swap two variables (i.e., assign each one’s value to the other variable):"
   ]
  },
  {
   "cell_type": "code",
   "execution_count": 69,
   "metadata": {
    "collapsed": true
   },
   "outputs": [],
   "source": [
    "x, y = y, x"
   ]
  },
  {
   "cell_type": "markdown",
   "metadata": {},
   "source": [
    "In many other languages, accomplishing the same task would require the use of a temporary (throwaway) variable:"
   ]
  },
  {
   "cell_type": "code",
   "execution_count": 70,
   "metadata": {
    "collapsed": true
   },
   "outputs": [],
   "source": [
    "z = x"
   ]
  },
  {
   "cell_type": "code",
   "execution_count": 71,
   "metadata": {
    "collapsed": true
   },
   "outputs": [],
   "source": [
    "x = y"
   ]
  },
  {
   "cell_type": "code",
   "execution_count": 72,
   "metadata": {
    "collapsed": true
   },
   "outputs": [],
   "source": [
    "y = z"
   ]
  },
  {
   "cell_type": "markdown",
   "metadata": {},
   "source": [
    "In multiple assignment, Python first evaluates the right-hand side, obviously using existing values, and then assigns to the variables listed on the left-hand side. If you understand this, then you will also understand what the output of the following is:"
   ]
  },
  {
   "cell_type": "code",
   "execution_count": 73,
   "metadata": {
    "collapsed": true
   },
   "outputs": [],
   "source": [
    "x = 3; y = 7"
   ]
  },
  {
   "cell_type": "code",
   "execution_count": 74,
   "metadata": {
    "collapsed": true
   },
   "outputs": [],
   "source": [
    "x, y = 2*y, 5*x"
   ]
  },
  {
   "cell_type": "markdown",
   "metadata": {},
   "source": [
    "### 1.6 Comments"
   ]
  },
  {
   "cell_type": "markdown",
   "metadata": {},
   "source": [
    "Comments are an important feature of programming languages: they are text that is ignored by the computer but can be very helpful to humans reading the code. That human may be yourself in a few months, at which point you may have forgotten the purpose or details of the code you’re inspecting.\n",
    "\n",
    "It’s generally a good idea to put comments at the start of a code block, for example:"
   ]
  },
  {
   "cell_type": "code",
   "execution_count": 75,
   "metadata": {
    "collapsed": true
   },
   "outputs": [],
   "source": [
    "# Initializing variables"
   ]
  },
  {
   "cell_type": "code",
   "execution_count": 76,
   "metadata": {
    "collapsed": true
   },
   "outputs": [],
   "source": [
    "a = 17"
   ]
  },
  {
   "cell_type": "code",
   "execution_count": 77,
   "metadata": {
    "collapsed": true
   },
   "outputs": [],
   "source": [
    "b = 9"
   ]
  },
  {
   "cell_type": "code",
   "execution_count": 78,
   "metadata": {
    "collapsed": true
   },
   "outputs": [],
   "source": [
    "c = 32"
   ]
  },
  {
   "cell_type": "markdown",
   "metadata": {},
   "source": [
    "where we pressed Enter after variables and got the . . . in response, which was Python’s way of saying that it’s ready for a “real” statement (since the comment is ignored). Something similar holds for the case where this code is in a file:"
   ]
  },
  {
   "cell_type": "code",
   "execution_count": 79,
   "metadata": {
    "collapsed": false
   },
   "outputs": [
    {
     "name": "stdout",
     "output_type": "stream",
     "text": [
      "Writing initialize.py\n"
     ]
    }
   ],
   "source": [
    "%%writefile initialize.py\n",
    "# Initializing variables\n",
    "a = 17\n",
    "b = 9\n",
    "c = 32"
   ]
  },
  {
   "cell_type": "markdown",
   "metadata": {},
   "source": [
    "Typically, comments are encountered in scripts (i.e., in program files) rather than when using Python interactively.\n",
    "\n",
    "You can also put comments next to specific statements, if you’re documenting that specific behavior:"
   ]
  },
  {
   "cell_type": "code",
   "execution_count": 80,
   "metadata": {
    "collapsed": true
   },
   "outputs": [],
   "source": [
    "m = 1.0 # set initial mass; changed below"
   ]
  },
  {
   "cell_type": "markdown",
   "metadata": {},
   "source": [
    "It’s generally bad practice to put comments that don’t add any value, e.g.:"
   ]
  },
  {
   "cell_type": "code",
   "execution_count": 81,
   "metadata": {
    "collapsed": true
   },
   "outputs": [],
   "source": [
    "i = 0"
   ]
  },
  {
   "cell_type": "code",
   "execution_count": 82,
   "metadata": {
    "collapsed": false
   },
   "outputs": [],
   "source": [
    "i += 1 # increment i by 1"
   ]
  },
  {
   "cell_type": "markdown",
   "metadata": {},
   "source": [
    "This simply adds to our cognitive load without providing any further insights.\n",
    "\n",
    "Note, finally, that in Python there exists a more general category of comments, known as docstrings (short for “documentation strings”). These are typically the first statement in a code entity (function, module, etc). They use triple quotation marks,\n",
    "as in:"
   ]
  },
  {
   "cell_type": "code",
   "execution_count": 83,
   "metadata": {
    "collapsed": false
   },
   "outputs": [
    {
     "name": "stdout",
     "output_type": "stream",
     "text": [
      "Writing initialize2.py\n"
     ]
    }
   ],
   "source": [
    "%%writefile initialize2.py\n",
    "\"\"\"Initialize variables\"\"\"\n",
    "a = 17\n",
    "b = 9\n",
    "c = 32"
   ]
  },
  {
   "cell_type": "markdown",
   "metadata": {},
   "source": [
    "and are convenient in that they can span multiple lines."
   ]
  },
  {
   "cell_type": "code",
   "execution_count": 84,
   "metadata": {
    "collapsed": false
   },
   "outputs": [
    {
     "name": "stdout",
     "output_type": "stream",
     "text": [
      "Writing initialize3.py\n"
     ]
    }
   ],
   "source": [
    "%%writefile initialize3.py\n",
    "\"\"\"\n",
    "Initialize variables\n",
    "Nothing too exciting here\n",
    "\"\"\"\n",
    "a = 17\n",
    "b = 9\n",
    "c = 32"
   ]
  },
  {
   "cell_type": "markdown",
   "metadata": {},
   "source": [
    "As a general rule, docstrings give a big-picture overview on how to use the code, whereas regular comments provide details on why the code does certain things, so are mainly helpful in order to maintain the code. When you update the code, you should always make sure you check to see if the comments still remain true. Mismatched code and comments can lead to wasting time, since it’s not clear if the code is wrong, the comments are wrong, or both are wrong.\n",
    "\n",
    "You should generally aim to write good code: you will then need few comments. Instead of documenting bad code you should replace it with good code. Of course, it takes some experience to know what constitutes “good code”.\n",
    "\n",
    "Note that, despite our admonitions above, we generally don’t include explanatory comments in our code examples: this is because the text itself serves that role. In other words, since our code comments and textual explanations would repeat the same thing, we try to avoid duplication. That being said, in your own codes (which are not embedded in a book or in a tutorial which is discussing them) you should always include comments."
   ]
  },
  {
   "cell_type": "markdown",
   "metadata": {},
   "source": [
    "### 1.7 Modules and built-in functions"
   ]
  },
  {
   "cell_type": "markdown",
   "metadata": {},
   "source": [
    "#### 1.7.1 Built-ins"
   ]
  },
  {
   "cell_type": "markdown",
   "metadata": {},
   "source": [
    "We have already seen that Python provides several built-in functions, like type(), input(), float(), and so on. There is only a small number of these. Another very useful built-in function is abs(), which gives the absolute value of an integer or float (and the modulus of a complex number). For example:"
   ]
  },
  {
   "cell_type": "code",
   "execution_count": 85,
   "metadata": {
    "collapsed": false
   },
   "outputs": [
    {
     "data": {
      "text/plain": [
       "5"
      ]
     },
     "execution_count": 85,
     "metadata": {},
     "output_type": "execute_result"
    }
   ],
   "source": [
    "abs(-5)"
   ]
  },
  {
   "cell_type": "markdown",
   "metadata": {},
   "source": [
    "Here’s a slightly more involved example:"
   ]
  },
  {
   "cell_type": "code",
   "execution_count": 86,
   "metadata": {
    "collapsed": false
   },
   "outputs": [
    {
     "data": {
      "text/plain": [
       "3.605551275463989"
      ]
     },
     "execution_count": 86,
     "metadata": {},
     "output_type": "execute_result"
    }
   ],
   "source": [
    "abs(2 + 3j)"
   ]
  },
  {
   "cell_type": "markdown",
   "metadata": {},
   "source": [
    "You might decide to check this explicitly. A reasonable guess would be that sqrt() would give the square root, so you try:"
   ]
  },
  {
   "cell_type": "code",
   "execution_count": 87,
   "metadata": {
    "collapsed": false
   },
   "outputs": [
    {
     "ename": "NameError",
     "evalue": "name 'sqrt' is not defined",
     "output_type": "error",
     "traceback": [
      "\u001b[0;31m---------------------------------------------------------------------------\u001b[0m",
      "\u001b[0;31mNameError\u001b[0m                                 Traceback (most recent call last)",
      "\u001b[0;32m<ipython-input-87-11998fc8b203>\u001b[0m in \u001b[0;36m<module>\u001b[0;34m()\u001b[0m\n\u001b[0;32m----> 1\u001b[0;31m \u001b[0msqrt\u001b[0m\u001b[0;34m(\u001b[0m\u001b[0;36m2\u001b[0m\u001b[0;34m**\u001b[0m\u001b[0;36m2\u001b[0m \u001b[0;34m+\u001b[0m \u001b[0;36m3\u001b[0m\u001b[0;34m**\u001b[0m\u001b[0;36m2\u001b[0m\u001b[0;34m)\u001b[0m\u001b[0;34m\u001b[0m\u001b[0m\n\u001b[0m",
      "\u001b[0;31mNameError\u001b[0m: name 'sqrt' is not defined"
     ]
    }
   ],
   "source": [
    "sqrt(2**2 + 3**2)"
   ]
  },
  {
   "cell_type": "markdown",
   "metadata": {},
   "source": [
    "so our guess was wrong. (Of course, in this case you could have simply said (2\\*\\*2 + 3\\*\\*2)\\*\\*0.5). It turns out that Python contains added functionality in the form of modules, which you can think of as extra Python program files which expose their functions and (global) variables."
   ]
  },
  {
   "cell_type": "markdown",
   "metadata": {},
   "source": [
    "#### 1.7.2 Standard modules"
   ]
  },
  {
   "cell_type": "markdown",
   "metadata": {},
   "source": [
    "For the square root specifically, our example above works well if we first import the sqrt() function that is to be found in the math module:"
   ]
  },
  {
   "cell_type": "code",
   "execution_count": 88,
   "metadata": {
    "collapsed": true
   },
   "outputs": [],
   "source": [
    "from math import sqrt"
   ]
  },
  {
   "cell_type": "code",
   "execution_count": 89,
   "metadata": {
    "collapsed": false
   },
   "outputs": [
    {
     "data": {
      "text/plain": [
       "3.605551275463989"
      ]
     },
     "execution_count": 89,
     "metadata": {},
     "output_type": "execute_result"
    }
   ],
   "source": [
    "sqrt(2**2 + 3**2)"
   ]
  },
  {
   "cell_type": "markdown",
   "metadata": {},
   "source": [
    "which we are pleased to see agrees with the result of abs() above.\n",
    "In addition to other mathematical functions (like cos(), log(), exp(), etc), the\n",
    "math module also contains a few constants, most notably:"
   ]
  },
  {
   "cell_type": "code",
   "execution_count": 90,
   "metadata": {
    "collapsed": true
   },
   "outputs": [],
   "source": [
    "from math import pi"
   ]
  },
  {
   "cell_type": "code",
   "execution_count": 91,
   "metadata": {
    "collapsed": false
   },
   "outputs": [
    {
     "data": {
      "text/plain": [
       "3.141592653589793"
      ]
     },
     "execution_count": 91,
     "metadata": {},
     "output_type": "execute_result"
    }
   ],
   "source": [
    "pi"
   ]
  },
  {
   "cell_type": "markdown",
   "metadata": {},
   "source": [
    "We can import more than one entity at the same time, simply by comma separating:"
   ]
  },
  {
   "cell_type": "code",
   "execution_count": 92,
   "metadata": {
    "collapsed": true
   },
   "outputs": [],
   "source": [
    "from math import sin, exp"
   ]
  },
  {
   "cell_type": "code",
   "execution_count": 93,
   "metadata": {
    "collapsed": false
   },
   "outputs": [
    {
     "data": {
      "text/plain": [
       "7.38905609893065"
      ]
     },
     "execution_count": 93,
     "metadata": {},
     "output_type": "execute_result"
    }
   ],
   "source": [
    "exp(2)"
   ]
  },
  {
   "cell_type": "markdown",
   "metadata": {},
   "source": [
    "As you can easily check, exp(2) calculates $e^2$.\n",
    "More generally, you can, if you wish, import everything from the math module by\n",
    "using \\* (with which you may already be familiar from its use as a wildcard in Unix):"
   ]
  },
  {
   "cell_type": "code",
   "execution_count": 94,
   "metadata": {
    "collapsed": true
   },
   "outputs": [],
   "source": [
    "from math import *"
   ]
  },
  {
   "cell_type": "markdown",
   "metadata": {},
   "source": [
    "though you should probably avoid doing that for long programs. This is because you’re polluting the namespace with many new variables/functions: you can easily imagine importing this way from several different modules, in which case it would be difficult to keep track of which variable/function comes from where.\n",
    "\n",
    "A distinct way of importing module content is to simply say:"
   ]
  },
  {
   "cell_type": "code",
   "execution_count": 95,
   "metadata": {
    "collapsed": true
   },
   "outputs": [],
   "source": [
    "import math"
   ]
  },
  {
   "cell_type": "markdown",
   "metadata": {},
   "source": [
    "In this case, you need to use a dot after math to refer to the entity you’re trying to use, e.g., math.log10().\n",
    "\n",
    "Remember: if you say from math import pi then you later refer to it as pi, whereas if you say import math then you later refer to the same constant as math.pi. This is the first instance of our using a dot: it’s used to denote membership, i.e., the constant pi is part of the math module, which you’ve brought in in its entirety with import math.\n",
    "\n",
    "The Python library contains several modules, with names like random, sys, collections, multiprocessing, and so on. You should consult the official documentation for more information."
   ]
  },
  {
   "cell_type": "markdown",
   "metadata": {},
   "source": [
    "#### 1.7.3 User-defined modules"
   ]
  },
  {
   "cell_type": "markdown",
   "metadata": {},
   "source": [
    "It is now time to go back to our import example from earlier in the tutorial: as you may recall, this was typed in in the same directory as the example.py file. You can now see the similarity with importing from math or any other standard Python module. If you are in the same directory as initialize.py you can say:"
   ]
  },
  {
   "cell_type": "code",
   "execution_count": 96,
   "metadata": {
    "collapsed": true
   },
   "outputs": [],
   "source": [
    "import initialize"
   ]
  },
  {
   "cell_type": "code",
   "execution_count": 97,
   "metadata": {
    "collapsed": false
   },
   "outputs": [
    {
     "name": "stdout",
     "output_type": "stream",
     "text": [
      "34\n"
     ]
    }
   ],
   "source": [
    "print(2*initialize.a)"
   ]
  },
  {
   "cell_type": "markdown",
   "metadata": {},
   "source": [
    "Given the simplicity of this example, the only things available for further use are the three variables that were defined inside our older program file. There exists yet another way (which we didn’t see above) of importing the functionality contained in a given module:"
   ]
  },
  {
   "cell_type": "code",
   "execution_count": 98,
   "metadata": {
    "collapsed": true
   },
   "outputs": [],
   "source": [
    "import initialize as init"
   ]
  },
  {
   "cell_type": "code",
   "execution_count": 99,
   "metadata": {
    "collapsed": false
   },
   "outputs": [
    {
     "name": "stdout",
     "output_type": "stream",
     "text": [
      "34\n"
     ]
    }
   ],
   "source": [
    "print(2*init.a)"
   ]
  },
  {
   "cell_type": "markdown",
   "metadata": {},
   "source": [
    "This provides a new name for the module, which can be helpful if you are already using the original name for another purpose (i.e., to avoid a name clash) or if the name of the module you’re importing is very long and you’d rather avoid typing it in over and over again. As should be clear by now, we could have, instead, said:"
   ]
  },
  {
   "cell_type": "code",
   "execution_count": 100,
   "metadata": {
    "collapsed": true
   },
   "outputs": [],
   "source": [
    "from initialize import a"
   ]
  },
  {
   "cell_type": "code",
   "execution_count": 101,
   "metadata": {
    "collapsed": false
   },
   "outputs": [
    {
     "name": "stdout",
     "output_type": "stream",
     "text": [
      "34\n"
     ]
    }
   ],
   "source": [
    "print(2*a)"
   ]
  },
  {
   "cell_type": "markdown",
   "metadata": {},
   "source": [
    "or even:"
   ]
  },
  {
   "cell_type": "code",
   "execution_count": 102,
   "metadata": {
    "collapsed": true
   },
   "outputs": [],
   "source": [
    "from initialize import *"
   ]
  },
  {
   "cell_type": "code",
   "execution_count": 103,
   "metadata": {
    "collapsed": false
   },
   "outputs": [
    {
     "name": "stdout",
     "output_type": "stream",
     "text": [
      "34\n"
     ]
    }
   ],
   "source": [
    "print(2*a)"
   ]
  },
  {
   "cell_type": "markdown",
   "metadata": {},
   "source": [
    "Obviously, this type of importing applies to any Python program file we’ve created (even ones containing our own functions – we will learn how to write those shortly).\n",
    "\n",
    "It goes without saying (but we’re still going to say it) that you can import functionality from one file/module when you are programming inside another file/module (i.e., not only interactively, as in the examples above). Here’s an example:"
   ]
  },
  {
   "cell_type": "code",
   "execution_count": 104,
   "metadata": {
    "collapsed": false
   },
   "outputs": [
    {
     "name": "stdout",
     "output_type": "stream",
     "text": [
      "Writing doubling.py\n"
     ]
    }
   ],
   "source": [
    "%%writefile doubling.py\n",
    "from initialize import a, b, c\n",
    "print(a,b,c)\n",
    "print(2*a,2*b,2*c)"
   ]
  },
  {
   "cell_type": "markdown",
   "metadata": {},
   "source": [
    "The output of running this code is:"
   ]
  },
  {
   "cell_type": "code",
   "execution_count": 105,
   "metadata": {
    "collapsed": false
   },
   "outputs": [
    {
     "name": "stdout",
     "output_type": "stream",
     "text": [
      "17 9 32\n",
      "34 18 64\n"
     ]
    }
   ],
   "source": [
    "%run doubling.py"
   ]
  },
  {
   "cell_type": "markdown",
   "metadata": {},
   "source": [
    "We also took the opportunity to show that one can import more than one variable on one line (but without having to use \\*). This simple example clearly shows that we can access the variables a, b, and c from within another module, as long as our file doubling.py is located in the same directory as our file initialize.py.\n",
    "\n",
    "Finally, you might want to discover the following Easter Egg:"
   ]
  },
  {
   "cell_type": "code",
   "execution_count": 106,
   "metadata": {
    "collapsed": false
   },
   "outputs": [
    {
     "name": "stdout",
     "output_type": "stream",
     "text": [
      "The Zen of Python, by Tim Peters\n",
      "\n",
      "Beautiful is better than ugly.\n",
      "Explicit is better than implicit.\n",
      "Simple is better than complex.\n",
      "Complex is better than complicated.\n",
      "Flat is better than nested.\n",
      "Sparse is better than dense.\n",
      "Readability counts.\n",
      "Special cases aren't special enough to break the rules.\n",
      "Although practicality beats purity.\n",
      "Errors should never pass silently.\n",
      "Unless explicitly silenced.\n",
      "In the face of ambiguity, refuse the temptation to guess.\n",
      "There should be one-- and preferably only one --obvious way to do it.\n",
      "Although that way may not be obvious at first unless you're Dutch.\n",
      "Now is better than never.\n",
      "Although never is often better than *right* now.\n",
      "If the implementation is hard to explain, it's a bad idea.\n",
      "If the implementation is easy to explain, it may be a good idea.\n",
      "Namespaces are one honking great idea -- let's do more of those!\n"
     ]
    }
   ],
   "source": [
    "import this"
   ]
  },
  {
   "cell_type": "markdown",
   "metadata": {},
   "source": [
    "#### 1.7.4 Listing module contents"
   ]
  },
  {
   "cell_type": "markdown",
   "metadata": {},
   "source": [
    "The dir() built-in function can be helpful when interactively inspecting the con- tents of different modules. More generally, dir() returns a list of attributes of a specified object. For example, for the program we stored in the file initialize.py above, we have:"
   ]
  },
  {
   "cell_type": "code",
   "execution_count": 107,
   "metadata": {
    "collapsed": true
   },
   "outputs": [],
   "source": [
    "import initialize"
   ]
  },
  {
   "cell_type": "code",
   "execution_count": 108,
   "metadata": {
    "collapsed": false
   },
   "outputs": [
    {
     "data": {
      "text/plain": [
       "['__builtins__',\n",
       " '__cached__',\n",
       " '__doc__',\n",
       " '__file__',\n",
       " '__loader__',\n",
       " '__name__',\n",
       " '__package__',\n",
       " '__spec__',\n",
       " 'a',\n",
       " 'b',\n",
       " 'c']"
      ]
     },
     "execution_count": 108,
     "metadata": {},
     "output_type": "execute_result"
    }
   ],
   "source": [
    "dir(initialize)"
   ]
  },
  {
   "cell_type": "markdown",
   "metadata": {},
   "source": [
    "This gives us a list of all the names available in the given module. We then know what to look for, e.g.:"
   ]
  },
  {
   "cell_type": "code",
   "execution_count": 109,
   "metadata": {
    "collapsed": false
   },
   "outputs": [
    {
     "data": {
      "text/plain": [
       "17"
      ]
     },
     "execution_count": 109,
     "metadata": {},
     "output_type": "execute_result"
    }
   ],
   "source": [
    "initialize.a"
   ]
  },
  {
   "cell_type": "markdown",
   "metadata": {},
   "source": [
    "As you will have undoubtedly noticed, in addition to the a, b, and c variables which are explicitly mentioned in the module initialize, running dir(initialize) also returns some variables which contain leading and trailing double underscores. These are variously called special variables, magic variables, or dunder variables (“dunder” being short for “double under”). Now that you know they exist, you can just as easily inspect them, by saying initialize.\\_\\_file\\_\\_."
   ]
  },
  {
   "cell_type": "markdown",
   "metadata": {},
   "source": [
    "This is enough to point you in the direction of a common idiom involving \\_\\_name\\_\\_, which checks to see if a specific module is being run as the main program or is merely being imported as a module. We explicitly employ this idiom in the book.\n",
    "\n",
    "As you can imagine, you can use dir() to explore the functionality in more complicated modules, including standard ones, e.g.:"
   ]
  },
  {
   "cell_type": "code",
   "execution_count": 110,
   "metadata": {
    "collapsed": true
   },
   "outputs": [],
   "source": [
    "import math"
   ]
  },
  {
   "cell_type": "code",
   "execution_count": 111,
   "metadata": {
    "collapsed": false
   },
   "outputs": [
    {
     "data": {
      "text/plain": [
       "['__doc__',\n",
       " '__file__',\n",
       " '__loader__',\n",
       " '__name__',\n",
       " '__package__',\n",
       " '__spec__',\n",
       " 'acos',\n",
       " 'acosh',\n",
       " 'asin',\n",
       " 'asinh',\n",
       " 'atan',\n",
       " 'atan2',\n",
       " 'atanh',\n",
       " 'ceil',\n",
       " 'copysign',\n",
       " 'cos',\n",
       " 'cosh',\n",
       " 'degrees',\n",
       " 'e',\n",
       " 'erf',\n",
       " 'erfc',\n",
       " 'exp',\n",
       " 'expm1',\n",
       " 'fabs',\n",
       " 'factorial',\n",
       " 'floor',\n",
       " 'fmod',\n",
       " 'frexp',\n",
       " 'fsum',\n",
       " 'gamma',\n",
       " 'gcd',\n",
       " 'hypot',\n",
       " 'inf',\n",
       " 'isclose',\n",
       " 'isfinite',\n",
       " 'isinf',\n",
       " 'isnan',\n",
       " 'ldexp',\n",
       " 'lgamma',\n",
       " 'log',\n",
       " 'log10',\n",
       " 'log1p',\n",
       " 'log2',\n",
       " 'modf',\n",
       " 'nan',\n",
       " 'pi',\n",
       " 'pow',\n",
       " 'radians',\n",
       " 'sin',\n",
       " 'sinh',\n",
       " 'sqrt',\n",
       " 'tan',\n",
       " 'tanh',\n",
       " 'trunc']"
      ]
     },
     "execution_count": 111,
     "metadata": {},
     "output_type": "execute_result"
    }
   ],
   "source": [
    "dir(math)"
   ]
  },
  {
   "cell_type": "markdown",
   "metadata": {},
   "source": [
    "Note that some of these are constants and some are functions."
   ]
  },
  {
   "cell_type": "markdown",
   "metadata": {},
   "source": [
    "## 2 Control flow"
   ]
  },
  {
   "cell_type": "markdown",
   "metadata": {
    "collapsed": true
   },
   "source": [
    "### 2.1 Conditional expressions"
   ]
  },
  {
   "cell_type": "markdown",
   "metadata": {},
   "source": [
    "There are times when we want the code to make a decision according to the value of a specific variable (which we don’t really know until we’ve reached that point in the program). This is accomplished via conditional execution, most famously using the if statement:"
   ]
  },
  {
   "cell_type": "code",
   "execution_count": 112,
   "metadata": {
    "collapsed": false
   },
   "outputs": [
    {
     "name": "stdout",
     "output_type": "stream",
     "text": [
      "Enter an integer:  44\n"
     ]
    }
   ],
   "source": [
    "x = input(\"Enter an integer:  \")"
   ]
  },
  {
   "cell_type": "code",
   "execution_count": 113,
   "metadata": {
    "collapsed": false
   },
   "outputs": [],
   "source": [
    "x = int(x)"
   ]
  },
  {
   "cell_type": "code",
   "execution_count": 114,
   "metadata": {
    "collapsed": false
   },
   "outputs": [
    {
     "name": "stdout",
     "output_type": "stream",
     "text": [
      "x is positive\n"
     ]
    }
   ],
   "source": [
    "if x>0:\n",
    "    print(\"x is positive\")\n",
    "else:\n",
    "    print(\"x is negative or 0\")"
   ]
  },
  {
   "cell_type": "markdown",
   "metadata": {},
   "source": [
    "(Observe how we made sure to convert the string produced by input(), while choosing to save the result in a variable of the same name, essentially overwriting the string with an integer). Note that we check the condition x>0 and then take a different action according to the value of x. (Note also the, syntactically important, colons at the end of each decision point). This is the first time we are seeing a significant feature of Python: indentation is important! The line after if and the line after else are indented, reflecting the fact that they belong to the corresponding scenario. This also means that in Python it is trivial to have more than one statement carried out for each possibility (by taking advantage of the indentation):"
   ]
  },
  {
   "cell_type": "code",
   "execution_count": 118,
   "metadata": {
    "collapsed": false
   },
   "outputs": [
    {
     "name": "stdout",
     "output_type": "stream",
     "text": [
      "Enter an integer:  23\n"
     ]
    }
   ],
   "source": [
    "x = input(\"Enter an integer:  \")"
   ]
  },
  {
   "cell_type": "code",
   "execution_count": 119,
   "metadata": {
    "collapsed": false
   },
   "outputs": [],
   "source": [
    "x = int(x)"
   ]
  },
  {
   "cell_type": "code",
   "execution_count": 120,
   "metadata": {
    "collapsed": false
   },
   "outputs": [
    {
     "name": "stdout",
     "output_type": "stream",
     "text": [
      "x is positive\n",
      "and as a matter of fact\n",
      "its value is 23\n"
     ]
    }
   ],
   "source": [
    "if x>0:\n",
    "    print(\"x is positive\")\n",
    "    print(\"and as a matter of fact\")\n",
    "    print(\"its value is\", x)\n",
    "else:\n",
    "    print(\"x is negative or 0\")\n",
    "    print(\"so it's not positive\")"
   ]
  },
  {
   "cell_type": "markdown",
   "metadata": {},
   "source": [
    "In other programming languages we have to use braces or something else to group statements together. In Python that is accomplished simply via the indentation.\n",
    "\n",
    "As you may have already noticed, here and in what follows we carry out a minimum of input validation: this means that we don’t check inputs to see if they are malicious (or simply wrong). In other words, we don’t check for the possibility that the user entered a float, a string, and so on.\n",
    "\n",
    "Python offers yet another possibility: we can check multiple conditions at the same time, using elif:"
   ]
  },
  {
   "cell_type": "code",
   "execution_count": 121,
   "metadata": {
    "collapsed": false
   },
   "outputs": [
    {
     "name": "stdout",
     "output_type": "stream",
     "text": [
      "Enter an integer:  -23\n"
     ]
    }
   ],
   "source": [
    "x = input(\"Enter an integer:  \")"
   ]
  },
  {
   "cell_type": "code",
   "execution_count": 122,
   "metadata": {
    "collapsed": false
   },
   "outputs": [],
   "source": [
    "x = int(x)"
   ]
  },
  {
   "cell_type": "code",
   "execution_count": 123,
   "metadata": {
    "collapsed": false
   },
   "outputs": [
    {
     "name": "stdout",
     "output_type": "stream",
     "text": [
      "x is negative or 0\n"
     ]
    }
   ],
   "source": [
    "if x>10:\n",
    "    print(\"x is positive and large\")\n",
    "elif x>0:\n",
    "    print(\"x is positive and small\")\n",
    "else:\n",
    "    print(\"x is negative or 0\")"
   ]
  },
  {
   "cell_type": "markdown",
   "metadata": {},
   "source": [
    "Note that if we had (foolishly) said something like elif x>100 then that branch would have never been executed.\n",
    "\n",
    "There are several other important checks we can carry out in a conditional expression. For example:"
   ]
  },
  {
   "cell_type": "code",
   "execution_count": 125,
   "metadata": {
    "collapsed": false
   },
   "outputs": [],
   "source": [
    "if x==1:\n",
    "    print(\"message\")"
   ]
  },
  {
   "cell_type": "markdown",
   "metadata": {},
   "source": [
    "checks for equality. Note that we use two equal signs to check for equality: if we had said if x=1 then that wouldn’t have been an equality check but an assignment! Python (unlike many other languages) helpfully gives out a SyntaxError in this case.\n",
    "\n",
    "We can also check for non-equality:"
   ]
  },
  {
   "cell_type": "code",
   "execution_count": 126,
   "metadata": {
    "collapsed": false
   },
   "outputs": [
    {
     "name": "stdout",
     "output_type": "stream",
     "text": [
      "message\n"
     ]
    }
   ],
   "source": [
    "if x!=1:\n",
    "    print(\"message\")"
   ]
  },
  {
   "cell_type": "markdown",
   "metadata": {},
   "source": [
    "or to see if we are less than or equal to:"
   ]
  },
  {
   "cell_type": "code",
   "execution_count": 127,
   "metadata": {
    "collapsed": false
   },
   "outputs": [
    {
     "name": "stdout",
     "output_type": "stream",
     "text": [
      "message\n"
     ]
    }
   ],
   "source": [
    "if x<=1:\n",
    "    print(\"message\")"
   ]
  },
  {
   "cell_type": "markdown",
   "metadata": {},
   "source": [
    "(Obviously, if x>=1 is the corresponding test to see if x is greater than or equal to 1).\n",
    "We can also combine two tests, if we’re interested in the intersection of two possibilities:"
   ]
  },
  {
   "cell_type": "code",
   "execution_count": 128,
   "metadata": {
    "collapsed": false
   },
   "outputs": [],
   "source": [
    "if x<10 and x>1:\n",
    "    print(\"message\")"
   ]
  },
  {
   "cell_type": "markdown",
   "metadata": {},
   "source": [
    "Similarly, the union of two possibilities can be expressed using or:"
   ]
  },
  {
   "cell_type": "code",
   "execution_count": 129,
   "metadata": {
    "collapsed": false
   },
   "outputs": [
    {
     "name": "stdout",
     "output_type": "stream",
     "text": [
      "message\n"
     ]
    }
   ],
   "source": [
    "if x>10 or x<1:\n",
    "    print(\"message\")"
   ]
  },
  {
   "cell_type": "markdown",
   "metadata": {},
   "source": [
    "There’s even the possibility of negating a truth-value using not:"
   ]
  },
  {
   "cell_type": "code",
   "execution_count": 130,
   "metadata": {
    "collapsed": false
   },
   "outputs": [
    {
     "name": "stdout",
     "output_type": "stream",
     "text": [
      "message\n"
     ]
    }
   ],
   "source": [
    "if not (x<10 and x>1):\n",
    "    print(\"message\")"
   ]
  },
  {
   "cell_type": "markdown",
   "metadata": {},
   "source": [
    "(For future reference, we point out that that not is most often used in conjunction with the in keyword to check for non-membership of an item in a sequence.) You should note, however, that combining several such conditions can get difficult to parse mentally.\n",
    "\n",
    "Note, finally, that when checking a boolean variable flag it is a common idiom to write: "
   ]
  },
  {
   "cell_type": "code",
   "execution_count": 131,
   "metadata": {
    "collapsed": true
   },
   "outputs": [],
   "source": [
    "flag = False"
   ]
  },
  {
   "cell_type": "code",
   "execution_count": 132,
   "metadata": {
    "collapsed": false
   },
   "outputs": [],
   "source": [
    "if flag:\n",
    "    print(\"message\")"
   ]
  },
  {
   "cell_type": "markdown",
   "metadata": {},
   "source": [
    "instead of"
   ]
  },
  {
   "cell_type": "code",
   "execution_count": 133,
   "metadata": {
    "collapsed": false
   },
   "outputs": [],
   "source": [
    "if flag==True:\n",
    "    print(\"message\")"
   ]
  },
  {
   "cell_type": "markdown",
   "metadata": {},
   "source": [
    "The former is more succint and is considered more elegant."
   ]
  },
  {
   "cell_type": "markdown",
   "metadata": {},
   "source": [
    "### 2.2 While loops"
   ]
  },
  {
   "cell_type": "markdown",
   "metadata": {},
   "source": [
    "Conditional expressions were our first example of control flow: not every line of code gets executed in order. We will now see another example of control flow, involving the important concept of a loop, namely the repetition of a code block.\n",
    "\n",
    "We start from a while loop, which checks to see if a condition is met (similarly to what the if statement did above). If the condition is true, then the following code is executed. However, unlike what happened in the case of the if statement, in the case of a while loop, at the end of executing the code block, control goes back to the line containing the condition, which is checked again, and the body is executed again, and so on, until the condition is no longer true, in which case the body of the block is jumped over and execution resumes from the following (non-indented) line. For example:"
   ]
  },
  {
   "cell_type": "code",
   "execution_count": 134,
   "metadata": {
    "collapsed": true
   },
   "outputs": [],
   "source": [
    "i=17"
   ]
  },
  {
   "cell_type": "code",
   "execution_count": 135,
   "metadata": {
    "collapsed": false
   },
   "outputs": [
    {
     "name": "stdout",
     "output_type": "stream",
     "text": [
      "17\n"
     ]
    }
   ],
   "source": [
    "print(i)"
   ]
  },
  {
   "cell_type": "code",
   "execution_count": 136,
   "metadata": {
    "collapsed": false
   },
   "outputs": [
    {
     "name": "stdout",
     "output_type": "stream",
     "text": [
      "22\n",
      "27\n",
      "32\n",
      "37\n",
      "42\n",
      "47\n",
      "52\n"
     ]
    }
   ],
   "source": [
    "while i<50:\n",
    "    i += 5\n",
    "    print(i)"
   ]
  },
  {
   "cell_type": "markdown",
   "metadata": {},
   "source": [
    "\n",
    "This loop prints out the numbers 22, 27, 32 and so on, up until 52 (since 52 is larger than 50, that’s when the while check fails and control goes to the body of code outside/after the loop, so 57 is never printed).\n",
    "\n",
    "We sometimes would like to be able to break out of a loop: that means we would like to make sure that if a condition in the middle of the loop body is met, then we will proceed to the first statement after the loop (i.e., even the loop condition won’t be tested one more time). In real-world applications, this scenario may appear when we are going through a directory, opening one file at a time, reading some numbers, manipulating them, and then printing out a result; if a specific file does not exist, it may be reasonable to simply stop carrying out these actions (i.e., we exit the loop completely).\n",
    "\n",
    "Here’s a straightforward example:"
   ]
  },
  {
   "cell_type": "code",
   "execution_count": 137,
   "metadata": {
    "collapsed": false
   },
   "outputs": [
    {
     "name": "stdout",
     "output_type": "stream",
     "text": [
      "17\n",
      "Even number 22\n",
      "Now outside while loop\n"
     ]
    }
   ],
   "source": [
    "i = 17\n",
    "print(i)\n",
    "while i<50:\n",
    "    i += 5\n",
    "    if i%2==0:\n",
    "        print(\"Even number\",i)\n",
    "        break\n",
    "    print(i)\n",
    "print(\"Now outside while loop\")\n",
    "    "
   ]
  },
  {
   "cell_type": "markdown",
   "metadata": {},
   "source": [
    "This happened because when we came upon the first even number the break was executed and therefore the remaining print(i) (or anything else having to do with the loop) was skipped over.\n",
    "\n",
    "A variation of this scenario is when we want to skip not the entire loop, but the rest of the loop body for the present iteration. This is accomplished via continue. Turning to the same real-world application as above (reading one file at a time, manipulating some numbers, and then printing out a result): if a specific file does not exist, it may make more sense, instead, to skip the reading-in, manipulation, and output steps for the file that doesn’t exist, but still move on to the next file (assuming that one exists) and carry on the entire sequence of actions.\n",
    "\n",
    "Here’s an example:"
   ]
  },
  {
   "cell_type": "code",
   "execution_count": 138,
   "metadata": {
    "collapsed": false
   },
   "outputs": [
    {
     "name": "stdout",
     "output_type": "stream",
     "text": [
      "17\n",
      "Even number 22\n",
      "27\n",
      "Even number 32\n",
      "37\n",
      "Even number 42\n",
      "47\n",
      "Even number 52\n",
      "Now outside while loop\n"
     ]
    }
   ],
   "source": [
    "i = 17\n",
    "print(i)\n",
    "while i<50:\n",
    "    i += 5\n",
    "    if i%2==0:\n",
    "        print(\"Even number\",i)\n",
    "        continue\n",
    "    print(i)\n",
    "print(\"Now outside while loop\")\n",
    "    "
   ]
  },
  {
   "cell_type": "markdown",
   "metadata": {},
   "source": [
    "In this case, when we are dealing with an even number the continue makes us skip over the print(i) but then we continue running the loop. When we have an odd number the continue is not encountered, so the print(i) is run.\n",
    "\n",
    "Finally, we note that an idiomatic way of writing an infinite loop (i.e., one that never ends) is as follows:"
   ]
  },
  {
   "cell_type": "code",
   "execution_count": 139,
   "metadata": {
    "collapsed": false
   },
   "outputs": [
    {
     "name": "stdout",
     "output_type": "stream",
     "text": [
      "4\n",
      "3\n",
      "2\n"
     ]
    }
   ],
   "source": [
    "i = 5\n",
    "while True:\n",
    "    i -= 1\n",
    "    print(i)\n",
    "    if i==2:\n",
    "        break"
   ]
  },
  {
   "cell_type": "markdown",
   "metadata": {},
   "source": [
    "The break is necessary here, since otherwise we would never exit the loop."
   ]
  },
  {
   "cell_type": "markdown",
   "metadata": {},
   "source": [
    "## 3 Data structures"
   ]
  },
  {
   "cell_type": "markdown",
   "metadata": {},
   "source": [
    "Python provides support for a number of container entities, called data structures. In the book, we will mainly be using lists, but here we also go over some features of other data structures, like tuples and dictionaries."
   ]
  },
  {
   "cell_type": "markdown",
   "metadata": {},
   "source": [
    "### 3.1 Lists"
   ]
  },
  {
   "cell_type": "markdown",
   "metadata": {},
   "source": [
    "#### 3.1.1 Creating and accessing"
   ]
  },
  {
   "cell_type": "markdown",
   "metadata": {},
   "source": [
    "A list is a container of different elements (which can have different types), a container which can grow when you need it to. Here’s an example of creating and assigning a list:"
   ]
  },
  {
   "cell_type": "code",
   "execution_count": 140,
   "metadata": {
    "collapsed": true
   },
   "outputs": [],
   "source": [
    "r = [5, 1+2j, -2.0]"
   ]
  },
  {
   "cell_type": "markdown",
   "metadata": {},
   "source": [
    "A list element can also be another list. Python lists are typically used to group together a number of other variables, e.g.:"
   ]
  },
  {
   "cell_type": "code",
   "execution_count": 141,
   "metadata": {
    "collapsed": true
   },
   "outputs": [],
   "source": [
    "x, y, z = 10, 20, 30\n",
    "rp = [x, y, z]"
   ]
  },
  {
   "cell_type": "markdown",
   "metadata": {},
   "source": [
    "Note that in both the examples above lists are created using comma-separated values within square brackets. We also use square brackets when we wish to access an individual element (this is called indexing):"
   ]
  },
  {
   "cell_type": "code",
   "execution_count": 142,
   "metadata": {
    "collapsed": false
   },
   "outputs": [
    {
     "name": "stdout",
     "output_type": "stream",
     "text": [
      "10\n"
     ]
    }
   ],
   "source": [
    "print(rp[0])"
   ]
  },
  {
   "cell_type": "markdown",
   "metadata": {},
   "source": [
    "This prints out the first element in the list rp (which has the value 10). Note that, like the C programming language, Python uses 0-indexing, meaning that the indices go as 0, 1, 2 in this case. In general, indices start at 0 and end at the total number of elements minus 1 (you can trivially check that that leads to the correct total number of elements).\n",
    "\n",
    "We can use this list indexing to produce other quantities that depend on the list elements, for example:"
   ]
  },
  {
   "cell_type": "code",
   "execution_count": 143,
   "metadata": {
    "collapsed": true
   },
   "outputs": [],
   "source": [
    "from math import sqrt\n",
    "r = [10, 20, 30]"
   ]
  },
  {
   "cell_type": "code",
   "execution_count": 144,
   "metadata": {
    "collapsed": true
   },
   "outputs": [],
   "source": [
    "length = sqrt(r[0]**2 + r[1]**2 + r[2]**2)"
   ]
  },
  {
   "cell_type": "markdown",
   "metadata": {},
   "source": [
    "Note, finally, that we can also access lists starting at their end, using negative indices, for example:"
   ]
  },
  {
   "cell_type": "code",
   "execution_count": 145,
   "metadata": {
    "collapsed": false
   },
   "outputs": [
    {
     "name": "stdout",
     "output_type": "stream",
     "text": [
      "30\n"
     ]
    }
   ],
   "source": [
    "r = [10, 20, 30]\n",
    "print(r[-1])"
   ]
  },
  {
   "cell_type": "markdown",
   "metadata": {},
   "source": [
    "Using an index of -1 is the idiomatic way of accessing the last element in a Python list. Similarly, r[-2] is the second-to-last element, and so on."
   ]
  },
  {
   "cell_type": "markdown",
   "metadata": {},
   "source": [
    "#### 3.1.2 Changing"
   ]
  },
  {
   "cell_type": "markdown",
   "metadata": {},
   "source": [
    "Lists are mutable sequences, meaning that we can change the value of individual elements, for example:"
   ]
  },
  {
   "cell_type": "code",
   "execution_count": 146,
   "metadata": {
    "collapsed": false
   },
   "outputs": [
    {
     "name": "stdout",
     "output_type": "stream",
     "text": [
      "[10, 5, 30]\n"
     ]
    }
   ],
   "source": [
    "r = [10, 20, 30]\n",
    "r[1] = 5\n",
    "print(r)"
   ]
  },
  {
   "cell_type": "markdown",
   "metadata": {},
   "source": [
    "Obviously, an immutable sequence type would have led to an error, here, instead of the clean result we got using lists."
   ]
  },
  {
   "cell_type": "markdown",
   "metadata": {},
   "source": [
    "#### 3.1.3 Slicing"
   ]
  },
  {
   "cell_type": "markdown",
   "metadata": {},
   "source": [
    "Python supports a feature called slicing, which allows us to take a slice out of an existing list. Slicing, like indexing, uses square brackets: the difference is that slicing uses two integers, with a colon in between.\n",
    "\n",
    "Specifically, if we have a list r, then the slice r[m:n] is a new list containing the elements from r[m] up to (but not including) the element r[n]. Here’s an example:"
   ]
  },
  {
   "cell_type": "code",
   "execution_count": 147,
   "metadata": {
    "collapsed": false
   },
   "outputs": [
    {
     "name": "stdout",
     "output_type": "stream",
     "text": [
      "[30, 40]\n"
     ]
    }
   ],
   "source": [
    "r = [10, 20, 30, 40, 50]\n",
    "s = r[2:4]\n",
    "print(s)"
   ]
  },
  {
   "cell_type": "markdown",
   "metadata": {},
   "source": [
    "Note how r[4] (which has the value 50) is not included in the new list.\n",
    "\n",
    "Slicing obeys convenient defaults, in that we can omit one of the integers in r[m:n] without adverse consequences. Omitting the first index is interpreted as using a first\n",
    "index of 0:"
   ]
  },
  {
   "cell_type": "code",
   "execution_count": 148,
   "metadata": {
    "collapsed": false
   },
   "outputs": [
    {
     "name": "stdout",
     "output_type": "stream",
     "text": [
      "[10, 20, 30]\n"
     ]
    }
   ],
   "source": [
    "r = [10, 20, 30, 40, 50]\n",
    "print(r[:3])"
   ]
  },
  {
   "cell_type": "markdown",
   "metadata": {},
   "source": [
    "that is, it starts at the start of the list. We can combine this property of slicing with the afore-mentioned use of negative indices as follows:"
   ]
  },
  {
   "cell_type": "code",
   "execution_count": 149,
   "metadata": {
    "collapsed": false
   },
   "outputs": [
    {
     "name": "stdout",
     "output_type": "stream",
     "text": [
      "[10, 20, 30, 40]\n"
     ]
    }
   ],
   "source": [
    "r = [10, 20, 30, 40, 50]\n",
    "print(r[:-1])"
   ]
  },
  {
   "cell_type": "markdown",
   "metadata": {},
   "source": [
    "Clearly, this gives us all the elements of the list except for the last one. Similarly, omitting the second index is interpreted as using a second index equal to the number of elements:"
   ]
  },
  {
   "cell_type": "code",
   "execution_count": 150,
   "metadata": {
    "collapsed": false
   },
   "outputs": [
    {
     "name": "stdout",
     "output_type": "stream",
     "text": [
      "[30, 40, 50]\n"
     ]
    }
   ],
   "source": [
    "r = [10, 20, 30, 40, 50]\n",
    "print(r[2:])"
   ]
  },
  {
   "cell_type": "markdown",
   "metadata": {},
   "source": [
    "that is, it ends at the end of the list.\n",
    "\n",
    "Note that, when taking a slice, we can include a 3rd index: r[m:n:i]. This is to\n",
    "be interpreted as the stride. We start at r[m] and go up to (but not including) r[n] in steps of i. For example:"
   ]
  },
  {
   "cell_type": "code",
   "execution_count": 151,
   "metadata": {
    "collapsed": false
   },
   "outputs": [
    {
     "name": "stdout",
     "output_type": "stream",
     "text": [
      "[20, 40, 60]\n"
     ]
    }
   ],
   "source": [
    "r = [10, 20, 30, 40, 50, 60, 70, 80, 90]\n",
    "print(r[1:7:2])\n"
   ]
  },
  {
   "cell_type": "markdown",
   "metadata": {},
   "source": [
    "When the third index is omitted (as above in r[m:n]), it is implied to be a stride of 1, namely every element is taken in turn, without skipping over any.\n",
    "This is as good a time as any to observe that sometimes we need to type in lines that are overly long. We may want to split those into two lines (or more), using Python’s line continuation character, which is a backslash. Thus,"
   ]
  },
  {
   "cell_type": "code",
   "execution_count": 152,
   "metadata": {
    "collapsed": true
   },
   "outputs": [],
   "source": [
    "r = [10, 20, 30, 40, 50, 60, 70, 80, 90, 100, 110, 120, 130, 140, 150, 160, 170, 180]"
   ]
  },
  {
   "cell_type": "markdown",
   "metadata": {},
   "source": [
    "is equivalent to:"
   ]
  },
  {
   "cell_type": "code",
   "execution_count": 153,
   "metadata": {
    "collapsed": true
   },
   "outputs": [],
   "source": [
    "r = [10, 20, 30, 40, 50, 60, 70, 80, 90, \\\n",
    "     100, 110, 120, 130, 140, 150, 160, 170, 180]"
   ]
  },
  {
   "cell_type": "markdown",
   "metadata": {},
   "source": [
    "due to the presence of the backslash. Obviously, writing just the second line without preceding it with a backslash:"
   ]
  },
  {
   "cell_type": "code",
   "execution_count": 154,
   "metadata": {
    "collapsed": false
   },
   "outputs": [
    {
     "ename": "SyntaxError",
     "evalue": "invalid syntax (<ipython-input-154-c52a0d39134d>, line 1)",
     "output_type": "error",
     "traceback": [
      "\u001b[0;36m  File \u001b[0;32m\"<ipython-input-154-c52a0d39134d>\"\u001b[0;36m, line \u001b[0;32m1\u001b[0m\n\u001b[0;31m    100, 110, 120, 130, 140, 150, 160, 170, 180]\u001b[0m\n\u001b[0m                                               ^\u001b[0m\n\u001b[0;31mSyntaxError\u001b[0m\u001b[0;31m:\u001b[0m invalid syntax\n"
     ]
    }
   ],
   "source": [
    "100, 110, 120, 130, 140, 150, 160, 170, 180]"
   ]
  },
  {
   "cell_type": "markdown",
   "metadata": {},
   "source": [
    "leads to a syntax error, as we’re closing a square bracket that never opened. Another way of getting line continuation (commonly preferred) is to wrap the relevant expression in parentheses. Thus:"
   ]
  },
  {
   "cell_type": "code",
   "execution_count": 155,
   "metadata": {
    "collapsed": true
   },
   "outputs": [],
   "source": [
    "r = ([10, 20, 30, 40, 50, 60, 70, 80, 90,\n",
    "      100, 110, 120, 130, 140, 150, 160, 170, 180])"
   ]
  },
  {
   "cell_type": "markdown",
   "metadata": {},
   "source": [
    "is fully equivalent to using a backslash.\n",
    "Turning back to slicing, we note that it is one way that a Python list can grow:"
   ]
  },
  {
   "cell_type": "code",
   "execution_count": 156,
   "metadata": {
    "collapsed": false
   },
   "outputs": [
    {
     "data": {
      "text/plain": [
       "[11, 1, 2, 3, 4, 5, 6, 7, 8, 22]"
      ]
     },
     "execution_count": 156,
     "metadata": {},
     "output_type": "execute_result"
    }
   ],
   "source": [
    "r = [11, 7, 19, 22]\n",
    "a = [1, 2, 3, 4, 5, 6, 7, 8]\n",
    "r[1:3] = a\n",
    "r"
   ]
  },
  {
   "cell_type": "markdown",
   "metadata": {},
   "source": [
    "There were not enough slots from r[1] to r[2] to accommodate for all the elements in a, so the list r grew. Note that the original elements r[1] and r[2] themselves (7 and 19) were overwritten. On the other hand, note that when we say r[1:3] = a the right-hand side is also a list, meaning that we are providing an iterable entity (i.e., something which can be stepped through) to replace selected elements in r. In other words, this wouldn’t work if we simply used one number on the right-hand side:"
   ]
  },
  {
   "cell_type": "code",
   "execution_count": 157,
   "metadata": {
    "collapsed": false
   },
   "outputs": [
    {
     "ename": "TypeError",
     "evalue": "can only assign an iterable",
     "output_type": "error",
     "traceback": [
      "\u001b[0;31m---------------------------------------------------------------------------\u001b[0m",
      "\u001b[0;31mTypeError\u001b[0m                                 Traceback (most recent call last)",
      "\u001b[0;32m<ipython-input-157-6744b564800b>\u001b[0m in \u001b[0;36m<module>\u001b[0;34m()\u001b[0m\n\u001b[1;32m      1\u001b[0m \u001b[0mr\u001b[0m \u001b[0;34m=\u001b[0m \u001b[0;34m[\u001b[0m\u001b[0;36m11\u001b[0m\u001b[0;34m,\u001b[0m \u001b[0;36m7\u001b[0m\u001b[0;34m,\u001b[0m \u001b[0;36m19\u001b[0m\u001b[0;34m,\u001b[0m \u001b[0;36m22\u001b[0m\u001b[0;34m]\u001b[0m\u001b[0;34m\u001b[0m\u001b[0m\n\u001b[0;32m----> 2\u001b[0;31m \u001b[0mr\u001b[0m\u001b[0;34m[\u001b[0m\u001b[0;36m1\u001b[0m\u001b[0;34m:\u001b[0m\u001b[0;36m3\u001b[0m\u001b[0;34m]\u001b[0m \u001b[0;34m=\u001b[0m \u001b[0;36m55\u001b[0m\u001b[0;34m\u001b[0m\u001b[0m\n\u001b[0m",
      "\u001b[0;31mTypeError\u001b[0m: can only assign an iterable"
     ]
    }
   ],
   "source": [
    "r = [11, 7, 19, 22]\n",
    "r[1:3] = 55"
   ]
  },
  {
   "cell_type": "markdown",
   "metadata": {},
   "source": [
    "As we will see later, numpy arrays behave differently."
   ]
  },
  {
   "cell_type": "markdown",
   "metadata": {},
   "source": [
    "#### 3.1.4 Built-in functions"
   ]
  },
  {
   "cell_type": "markdown",
   "metadata": {},
   "source": [
    "There are several built-in functions (applicable to lists) that often come in handy.\n",
    "They are most easily understood in action:"
   ]
  },
  {
   "cell_type": "code",
   "execution_count": 158,
   "metadata": {
    "collapsed": false
   },
   "outputs": [
    {
     "data": {
      "text/plain": [
       "4"
      ]
     },
     "execution_count": 158,
     "metadata": {},
     "output_type": "execute_result"
    }
   ],
   "source": [
    "r = [11, 7, 19, 22]\n",
    "len(r)"
   ]
  },
  {
   "cell_type": "code",
   "execution_count": 159,
   "metadata": {
    "collapsed": false
   },
   "outputs": [
    {
     "data": {
      "text/plain": [
       "59"
      ]
     },
     "execution_count": 159,
     "metadata": {},
     "output_type": "execute_result"
    }
   ],
   "source": [
    "sum(r)"
   ]
  },
  {
   "cell_type": "code",
   "execution_count": 160,
   "metadata": {
    "collapsed": false
   },
   "outputs": [
    {
     "data": {
      "text/plain": [
       "22"
      ]
     },
     "execution_count": 160,
     "metadata": {},
     "output_type": "execute_result"
    }
   ],
   "source": [
    "max(r)"
   ]
  },
  {
   "cell_type": "code",
   "execution_count": 161,
   "metadata": {
    "collapsed": false
   },
   "outputs": [
    {
     "data": {
      "text/plain": [
       "7"
      ]
     },
     "execution_count": 161,
     "metadata": {},
     "output_type": "execute_result"
    }
   ],
   "source": [
    "min(r)"
   ]
  },
  {
   "cell_type": "markdown",
   "metadata": {},
   "source": [
    "Especially sum() and len() will show up repeatedly in what follows.\n",
    "\n",
    "Another handy built-in is the map() function, which applies a function the user provides to each element of a given list. For example, map(log,r) would create an iterable entity (we’ll see later how you could step through it). The first result of such a process would be log(r[0]), the second result log(r[1]), and so on. Note that you need to use the map() function to accomplish the task at hand: log(r) leads to an\n",
    "error, since log() takes in floats, not lists."
   ]
  },
  {
   "cell_type": "markdown",
   "metadata": {},
   "source": [
    "#### 3.1.5 Appending and popping"
   ]
  },
  {
   "cell_type": "markdown",
   "metadata": {},
   "source": [
    "We already saw above that slicing is one way to grow a list. It is important to note\n",
    "that simply indexing beyond the end of the list and assigning doesn't work:\n",
    "    "
   ]
  },
  {
   "cell_type": "code",
   "execution_count": 162,
   "metadata": {
    "collapsed": false
   },
   "outputs": [
    {
     "ename": "IndexError",
     "evalue": "list assignment index out of range",
     "output_type": "error",
     "traceback": [
      "\u001b[0;31m---------------------------------------------------------------------------\u001b[0m",
      "\u001b[0;31mIndexError\u001b[0m                                Traceback (most recent call last)",
      "\u001b[0;32m<ipython-input-162-ad6c97b32bb8>\u001b[0m in \u001b[0;36m<module>\u001b[0;34m()\u001b[0m\n\u001b[1;32m      1\u001b[0m \u001b[0mr\u001b[0m \u001b[0;34m=\u001b[0m \u001b[0;34m[\u001b[0m\u001b[0;36m11\u001b[0m\u001b[0;34m,\u001b[0m \u001b[0;36m7\u001b[0m\u001b[0;34m,\u001b[0m \u001b[0;36m19\u001b[0m\u001b[0;34m,\u001b[0m \u001b[0;36m22\u001b[0m\u001b[0;34m]\u001b[0m\u001b[0;34m\u001b[0m\u001b[0m\n\u001b[0;32m----> 2\u001b[0;31m \u001b[0mr\u001b[0m\u001b[0;34m[\u001b[0m\u001b[0;36m4\u001b[0m\u001b[0;34m]\u001b[0m \u001b[0;34m=\u001b[0m \u001b[0;36m8\u001b[0m\u001b[0;34m\u001b[0m\u001b[0m\n\u001b[0m",
      "\u001b[0;31mIndexError\u001b[0m: list assignment index out of range"
     ]
    }
   ],
   "source": [
    "r = [11, 7, 19, 22]\n",
    "r[4] = 8"
   ]
  },
  {
   "cell_type": "markdown",
   "metadata": {},
   "source": [
    "Of course, attentive readers will have noticed that we can grow via slicing here:"
   ]
  },
  {
   "cell_type": "code",
   "execution_count": 163,
   "metadata": {
    "collapsed": true
   },
   "outputs": [],
   "source": [
    "r[3:]  = r[3], 8"
   ]
  },
  {
   "cell_type": "markdown",
   "metadata": {},
   "source": [
    "works, but isn’t really worth the trouble.\n",
    "\n",
    "Instead, the way to add a new element at the end of the list is via the append() function, which is a member function/method of any list object and is accessed as follows:"
   ]
  },
  {
   "cell_type": "code",
   "execution_count": 164,
   "metadata": {
    "collapsed": false
   },
   "outputs": [
    {
     "name": "stdout",
     "output_type": "stream",
     "text": [
      "[11, 7, 19, 22, 8]\n"
     ]
    }
   ],
   "source": [
    "r = [11, 7, 19, 22]\n",
    "r.append(8)\n",
    "print(r)"
   ]
  },
  {
   "cell_type": "markdown",
   "metadata": {},
   "source": [
    "Similarly to our examples of math.pi or initialize.a above, we are here using the dot . to access functionality that is available for a given object: in math.pi we are accessing the constant pi that is part of the module math, whereas in r.append(8) we are accessing the function append() that is a part of the list object r.\n",
    "\n",
    "We won’t be using this functionality, but for the sake of completeness we note that one can insert at another location (i.e., not at the end of a list), by using the insert(pos,val) method.\n",
    "\n",
    "A way of growing a list that we will be using consists of creating a list from scratch (i.e., starting with an empty list) and then appending one element at a time:"
   ]
  },
  {
   "cell_type": "code",
   "execution_count": 165,
   "metadata": {
    "collapsed": false
   },
   "outputs": [
    {
     "name": "stdout",
     "output_type": "stream",
     "text": [
      "[50, 3]\n"
     ]
    }
   ],
   "source": [
    "r = []\n",
    "r.append(50)\n",
    "r.append(3)\n",
    "print(r)"
   ]
  },
  {
   "cell_type": "markdown",
   "metadata": {},
   "source": [
    "Since we talked so much about growing a list, we close by noting that one can also remove an element at a time as follows:"
   ]
  },
  {
   "cell_type": "code",
   "execution_count": 166,
   "metadata": {
    "collapsed": false
   },
   "outputs": [
    {
     "name": "stdout",
     "output_type": "stream",
     "text": [
      "[50]\n",
      "3\n"
     ]
    }
   ],
   "source": [
    "x = r.pop()\n",
    "print(r)\n",
    "print(x)"
   ]
  },
  {
   "cell_type": "markdown",
   "metadata": {},
   "source": [
    "We see that pop() shortens the list by one element and also returns the element that is being removed (which we then assigned to the variable x). Finally, just like we can append either at the end of a list (via append()) or anywhere else (via insert(pos,val)), we also are not limited to returning elements from the end of the list (via pop()) but can delete any element via del r[pos]. Actually, the del statement also works with slices, so you can remove more than one element at a time."
   ]
  },
  {
   "cell_type": "markdown",
   "metadata": {},
   "source": [
    "#### 3.1.6 Concatenating"
   ]
  },
  {
   "cell_type": "markdown",
   "metadata": {},
   "source": [
    "We can concatenate two lists using +: "
   ]
  },
  {
   "cell_type": "code",
   "execution_count": 167,
   "metadata": {
    "collapsed": false
   },
   "outputs": [
    {
     "name": "stdout",
     "output_type": "stream",
     "text": [
      "[4, 5, 6, 1, 2, 3]\n"
     ]
    }
   ],
   "source": [
    "a = [1, 2, 3]\n",
    "b = [4, 5, 6]\n",
    "c = b + a\n",
    "print(c)"
   ]
  },
  {
   "cell_type": "markdown",
   "metadata": {},
   "source": [
    "Similarly, we can use * to create several repetitions of a list (and concatenate them) as follows:"
   ]
  },
  {
   "cell_type": "code",
   "execution_count": 168,
   "metadata": {
    "collapsed": false
   },
   "outputs": [
    {
     "name": "stdout",
     "output_type": "stream",
     "text": [
      "[4, 5, 6, 4, 5, 6, 4, 5, 6]\n"
     ]
    }
   ],
   "source": [
    "b = [4, 5, 6]\n",
    "d = 3*b\n",
    "print(d)"
   ]
  },
  {
   "cell_type": "markdown",
   "metadata": {},
   "source": [
    "This leads to a relatively common idiom, whereby a list can be populated with several (identical) elements using a one-liner:"
   ]
  },
  {
   "cell_type": "code",
   "execution_count": 169,
   "metadata": {
    "collapsed": false
   },
   "outputs": [
    {
     "name": "stdout",
     "output_type": "stream",
     "text": [
      "[1, 1, 1, 1, 1, 1, 1, 1, 1, 1]\n"
     ]
    }
   ],
   "source": [
    "g = 10*[1]\n",
    "print(g)"
   ]
  },
  {
   "cell_type": "markdown",
   "metadata": {},
   "source": [
    "#### 3.1.7 Copying"
   ]
  },
  {
   "cell_type": "markdown",
   "metadata": {},
   "source": [
    "While we routinely use the term “variable” to describe Python entities, one should keep in mind that this is a different concept than in many other languages (say, in C). In Python a new variable that is assigned to be equal to an old one, is simply the old variable by another name. For example:"
   ]
  },
  {
   "cell_type": "code",
   "execution_count": 170,
   "metadata": {
    "collapsed": false
   },
   "outputs": [
    {
     "data": {
      "text/plain": [
       "[7, 2, 3]"
      ]
     },
     "execution_count": 170,
     "metadata": {},
     "output_type": "execute_result"
    }
   ],
   "source": [
    "a = [1,2,3]\n",
    "b = a\n",
    "b[0] = 7\n",
    "a"
   ]
  },
  {
   "cell_type": "markdown",
   "metadata": {},
   "source": [
    "This is possibly undesired behavior. In other words, as already mentioned above, in Python we’re not really dealing with variables, but with labels attached to values (since a and b are just different names for the same entity). This can be seen using the following tests:"
   ]
  },
  {
   "cell_type": "code",
   "execution_count": 171,
   "metadata": {
    "collapsed": false
   },
   "outputs": [
    {
     "data": {
      "text/plain": [
       "True"
      ]
     },
     "execution_count": 171,
     "metadata": {},
     "output_type": "execute_result"
    }
   ],
   "source": [
    "a == b"
   ]
  },
  {
   "cell_type": "code",
   "execution_count": 172,
   "metadata": {
    "collapsed": false
   },
   "outputs": [
    {
     "data": {
      "text/plain": [
       "True"
      ]
     },
     "execution_count": 172,
     "metadata": {},
     "output_type": "execute_result"
    }
   ],
   "source": [
    "a is b"
   ]
  },
  {
   "cell_type": "markdown",
   "metadata": {},
   "source": [
    "which show that a and b both have the same value and are identical to each other. Note that here we have modified the value that both a and b label, via b[0] = 7, but both variable names still keep labelling the same object. The central entity here is the value, which the two variable names are merely attached to (like “sticky notes”). When we type b[0] = 7 we are not creating a new value, simply modifying the underlying entity that both the a and b labels are attached to.\n",
    "\n",
    "Incidentally, things are different for simpler variables, e.g. x=1; y=x; y=7; print(x) prints 1 since 7 is a new value, not a modification of the value x is attached to. While initially both variable names were labelling the same value, when we type y=7 we create a new value (since the number 7 is a new entity, not a modification of the number 1) and then attach the y label to it.\n",
    "\n",
    "Turning back to lists: one important fact we haven’t mentioned so far is that when you slice you get a new list, meaning that if you give a new name to a slice of a list and then modify that, then the original list is unaffected:"
   ]
  },
  {
   "cell_type": "code",
   "execution_count": 173,
   "metadata": {
    "collapsed": false
   },
   "outputs": [
    {
     "data": {
      "text/plain": [
       "[7, 19]"
      ]
     },
     "execution_count": 173,
     "metadata": {},
     "output_type": "execute_result"
    }
   ],
   "source": [
    "r = [11, 7, 19, 22]\n",
    "sli = r[1:3]\n",
    "sli"
   ]
  },
  {
   "cell_type": "code",
   "execution_count": 174,
   "metadata": {
    "collapsed": false
   },
   "outputs": [
    {
     "data": {
      "text/plain": [
       "[55, 19]"
      ]
     },
     "execution_count": 174,
     "metadata": {},
     "output_type": "execute_result"
    }
   ],
   "source": [
    "sli[0] = 55\n",
    "sli"
   ]
  },
  {
   "cell_type": "code",
   "execution_count": 175,
   "metadata": {
    "collapsed": false
   },
   "outputs": [
    {
     "data": {
      "text/plain": [
       "[11, 7, 19, 22]"
      ]
     },
     "execution_count": 175,
     "metadata": {},
     "output_type": "execute_result"
    }
   ],
   "source": [
    "r"
   ]
  },
  {
   "cell_type": "markdown",
   "metadata": {},
   "source": [
    "Likewise, if you modify the original list r, then the slice-by-a-new-name sli is unaffacted. As we will see later, numpy arrays behave differently.\n",
    "\n",
    "This fact (namely, that slices don’t provide views on the original list but can be manipulated separately) can be combined with another nice feature (namely, that when\n",
    "slicing one can actually omit both indices) to create a copy of the entire list:"
   ]
  },
  {
   "cell_type": "code",
   "execution_count": 176,
   "metadata": {
    "collapsed": false
   },
   "outputs": [
    {
     "data": {
      "text/plain": [
       "[33, 2, 3]"
      ]
     },
     "execution_count": 176,
     "metadata": {},
     "output_type": "execute_result"
    }
   ],
   "source": [
    "a = [1, 2, 3]\n",
    "c = a[:]\n",
    "c[0] = 33\n",
    "c"
   ]
  },
  {
   "cell_type": "code",
   "execution_count": 177,
   "metadata": {
    "collapsed": false
   },
   "outputs": [
    {
     "data": {
      "text/plain": [
       "[1, 2, 3]"
      ]
     },
     "execution_count": 177,
     "metadata": {},
     "output_type": "execute_result"
    }
   ],
   "source": [
    "a"
   ]
  },
  {
   "cell_type": "markdown",
   "metadata": {},
   "source": [
    "Even without changing an element, we can see that slicing the entire list produces a copy by using the following tests:"
   ]
  },
  {
   "cell_type": "code",
   "execution_count": 178,
   "metadata": {
    "collapsed": false
   },
   "outputs": [
    {
     "data": {
      "text/plain": [
       "True"
      ]
     },
     "execution_count": 178,
     "metadata": {},
     "output_type": "execute_result"
    }
   ],
   "source": [
    "a = [1, 2, 3]\n",
    "c = a[:]\n",
    "a == c"
   ]
  },
  {
   "cell_type": "code",
   "execution_count": 179,
   "metadata": {
    "collapsed": false
   },
   "outputs": [
    {
     "data": {
      "text/plain": [
       "False"
      ]
     },
     "execution_count": 179,
     "metadata": {},
     "output_type": "execute_result"
    }
   ],
   "source": [
    "a is c"
   ]
  },
  {
   "cell_type": "markdown",
   "metadata": {},
   "source": [
    "which show that a and c have the same value but are not identical to each other.\n",
    "\n",
    "For the sake of completeness, note that the way of copying via slicing creates what is known as a shallow copy. If you need a deep copy, you should use the function deepcopy() from the standard module copy. In the case we’re studying here, there’s no difference between a deep and a shallow copy, but this may matter when you’re\n",
    "dealing with lists of lists."
   ]
  },
  {
   "cell_type": "markdown",
   "metadata": {},
   "source": [
    "### 3.2 Tuples"
   ]
  },
  {
   "cell_type": "markdown",
   "metadata": {},
   "source": [
    "Tuples are commonly described as immutable lists. (This is somewhat unfair to them, but will do for now). They are defined similarly to how one defines a list, the difference being that one uses parentheses instead of square brackets:"
   ]
  },
  {
   "cell_type": "code",
   "execution_count": 180,
   "metadata": {
    "collapsed": false
   },
   "outputs": [
    {
     "name": "stdout",
     "output_type": "stream",
     "text": [
      "(1, 2, 3)\n"
     ]
    }
   ],
   "source": [
    "a = (1, 2, 3)\n",
    "print(a)"
   ]
  },
  {
   "cell_type": "markdown",
   "metadata": {},
   "source": [
    "Actually, you don’t even need to use the parentheses, as they are implied when absent:"
   ]
  },
  {
   "cell_type": "code",
   "execution_count": 181,
   "metadata": {
    "collapsed": false
   },
   "outputs": [
    {
     "name": "stdout",
     "output_type": "stream",
     "text": [
      "(1, 2, 3)\n"
     ]
    }
   ],
   "source": [
    "b = 1, 2, 3\n",
    "print(b)"
   ]
  },
  {
   "cell_type": "markdown",
   "metadata": {},
   "source": [
    "Incidentally, we now see that our earlier example on swapping two values:"
   ]
  },
  {
   "cell_type": "code",
   "execution_count": 182,
   "metadata": {
    "collapsed": true
   },
   "outputs": [],
   "source": [
    "x, y = y, x"
   ]
  },
  {
   "cell_type": "markdown",
   "metadata": {},
   "source": [
    "implicitly made use of tuples.\n",
    "\n",
    "Tuple elements are accessed the same way that list elements are, namely with square\n",
    "brackets:"
   ]
  },
  {
   "cell_type": "code",
   "execution_count": 183,
   "metadata": {
    "collapsed": false
   },
   "outputs": [
    {
     "name": "stdout",
     "output_type": "stream",
     "text": [
      "1\n"
     ]
    }
   ],
   "source": [
    "print(b[0])"
   ]
  },
  {
   "cell_type": "markdown",
   "metadata": {},
   "source": [
    "As already mentioned, tuples are immutable, so they can neither change nor grow. For example:"
   ]
  },
  {
   "cell_type": "code",
   "execution_count": 184,
   "metadata": {
    "collapsed": false
   },
   "outputs": [
    {
     "ename": "TypeError",
     "evalue": "'tuple' object does not support item assignment",
     "output_type": "error",
     "traceback": [
      "\u001b[0;31m---------------------------------------------------------------------------\u001b[0m",
      "\u001b[0;31mTypeError\u001b[0m                                 Traceback (most recent call last)",
      "\u001b[0;32m<ipython-input-184-6d11c964c6ad>\u001b[0m in \u001b[0;36m<module>\u001b[0;34m()\u001b[0m\n\u001b[0;32m----> 1\u001b[0;31m \u001b[0mb\u001b[0m\u001b[0;34m[\u001b[0m\u001b[0;36m0\u001b[0m\u001b[0;34m]\u001b[0m \u001b[0;34m=\u001b[0m \u001b[0;36m7\u001b[0m\u001b[0;34m\u001b[0m\u001b[0m\n\u001b[0m",
      "\u001b[0;31mTypeError\u001b[0m: 'tuple' object does not support item assignment"
     ]
    }
   ],
   "source": [
    "b[0] = 7"
   ]
  },
  {
   "cell_type": "markdown",
   "metadata": {},
   "source": [
    "The fact that they cannot grow means they have no append() method. \n",
    "\n",
    "We can, however, concatenate two tuples using +:"
   ]
  },
  {
   "cell_type": "code",
   "execution_count": 185,
   "metadata": {
    "collapsed": false
   },
   "outputs": [
    {
     "data": {
      "text/plain": [
       "(4, 5, 6, 1, 2, 3)"
      ]
     },
     "execution_count": 185,
     "metadata": {},
     "output_type": "execute_result"
    }
   ],
   "source": [
    "a = 1,2,3\n",
    "b = 4,5,6\n",
    "b+a"
   ]
  },
  {
   "cell_type": "markdown",
   "metadata": {},
   "source": [
    "where we produced a third tuple."
   ]
  },
  {
   "cell_type": "markdown",
   "metadata": {},
   "source": [
    "### 3.3 Strings"
   ]
  },
  {
   "cell_type": "markdown",
   "metadata": {},
   "source": [
    "#### 3.3.1 Accessing"
   ]
  },
  {
   "cell_type": "markdown",
   "metadata": {},
   "source": [
    "Strings can also be viewed as sequences. For example, we can access individual characters using square-bracket indexing:"
   ]
  },
  {
   "cell_type": "code",
   "execution_count": 186,
   "metadata": {
    "collapsed": false
   },
   "outputs": [
    {
     "data": {
      "text/plain": [
       "'Hello, world!'"
      ]
     },
     "execution_count": 186,
     "metadata": {},
     "output_type": "execute_result"
    }
   ],
   "source": [
    "phrase = \"Hello, world!\"\n",
    "phrase"
   ]
  },
  {
   "cell_type": "code",
   "execution_count": 187,
   "metadata": {
    "collapsed": false
   },
   "outputs": [
    {
     "name": "stdout",
     "output_type": "stream",
     "text": [
      "Hello, world!\n"
     ]
    }
   ],
   "source": [
    "print(phrase)"
   ]
  },
  {
   "cell_type": "code",
   "execution_count": 188,
   "metadata": {
    "collapsed": false
   },
   "outputs": [
    {
     "data": {
      "text/plain": [
       "'H'"
      ]
     },
     "execution_count": 188,
     "metadata": {},
     "output_type": "execute_result"
    }
   ],
   "source": [
    "phrase[0]"
   ]
  },
  {
   "cell_type": "code",
   "execution_count": 189,
   "metadata": {
    "collapsed": false
   },
   "outputs": [
    {
     "data": {
      "text/plain": [
       "'w'"
      ]
     },
     "execution_count": 189,
     "metadata": {},
     "output_type": "execute_result"
    }
   ],
   "source": [
    "phrase[7]"
   ]
  },
  {
   "cell_type": "markdown",
   "metadata": {},
   "source": [
    "where we incidentally also showed that print() strips the quotation marks.\n",
    "Like tuples, strings are immutable:"
   ]
  },
  {
   "cell_type": "code",
   "execution_count": 190,
   "metadata": {
    "collapsed": false
   },
   "outputs": [
    {
     "ename": "TypeError",
     "evalue": "'str' object does not support item assignment",
     "output_type": "error",
     "traceback": [
      "\u001b[0;31m---------------------------------------------------------------------------\u001b[0m",
      "\u001b[0;31mTypeError\u001b[0m                                 Traceback (most recent call last)",
      "\u001b[0;32m<ipython-input-190-7ebb8a79b7a9>\u001b[0m in \u001b[0;36m<module>\u001b[0;34m()\u001b[0m\n\u001b[0;32m----> 1\u001b[0;31m \u001b[0mphrase\u001b[0m\u001b[0;34m[\u001b[0m\u001b[0;36m7\u001b[0m\u001b[0;34m]\u001b[0m \u001b[0;34m=\u001b[0m \u001b[0;34m\"b\"\u001b[0m\u001b[0;34m\u001b[0m\u001b[0m\n\u001b[0m",
      "\u001b[0;31mTypeError\u001b[0m: 'str' object does not support item assignment"
     ]
    }
   ],
   "source": [
    "phrase[7] = \"b\""
   ]
  },
  {
   "cell_type": "markdown",
   "metadata": {},
   "source": [
    "and they are also not growable, i.e. they have no append() method."
   ]
  },
  {
   "cell_type": "markdown",
   "metadata": {},
   "source": [
    "#### 3.3.2 Concatenating and splitting"
   ]
  },
  {
   "cell_type": "markdown",
   "metadata": {},
   "source": [
    "As with tuples, we can use + to concatenate two strings, creating a new variable:\n",
    "    "
   ]
  },
  {
   "cell_type": "code",
   "execution_count": 191,
   "metadata": {
    "collapsed": false
   },
   "outputs": [
    {
     "data": {
      "text/plain": [
       "'My name isAlex'"
      ]
     },
     "execution_count": 191,
     "metadata": {},
     "output_type": "execute_result"
    }
   ],
   "source": [
    "a = \"My name is\"\n",
    "b = \"Alex\"\n",
    "a + b"
   ]
  },
  {
   "cell_type": "markdown",
   "metadata": {},
   "source": [
    "This shows that we have to be careful about spaces. Here’s an example that works:"
   ]
  },
  {
   "cell_type": "code",
   "execution_count": 192,
   "metadata": {
    "collapsed": false
   },
   "outputs": [
    {
     "data": {
      "text/plain": [
       "'My name is Alex'"
      ]
     },
     "execution_count": 192,
     "metadata": {},
     "output_type": "execute_result"
    }
   ],
   "source": [
    "a = \"My name is\"\n",
    "b = \"Alex\"\n",
    "a + \" \" + b"
   ]
  },
  {
   "cell_type": "markdown",
   "metadata": {},
   "source": [
    "where we explicitly introduced a space in the middle.\n",
    "\n",
    "Note that in the previous example we were dealing with two strings, \"My name is\"\n",
    "and \"Alex\". We were then forced to introduce a third string (a blank space), in order to produce an appropriate sentence-like space-separated concatenation. A more idiomatic way to do this goes as follows: first, create a list containing your strings. Then, use the join() string method:"
   ]
  },
  {
   "cell_type": "code",
   "execution_count": 193,
   "metadata": {
    "collapsed": false
   },
   "outputs": [
    {
     "data": {
      "text/plain": [
       "'My name is Alex'"
      ]
     },
     "execution_count": 193,
     "metadata": {},
     "output_type": "execute_result"
    }
   ],
   "source": [
    "a = \"My name is\"\n",
    "b = \"Alex\"\n",
    "vals = [a, b]\n",
    "\" \".join(vals)"
   ]
  },
  {
   "cell_type": "markdown",
   "metadata": {},
   "source": [
    "Note that when using the join() method you first put the string separator (in the present case simply a space), then a dot, and then you pass in as an argument to join() a list of strings. We could have used a different separator, for example:"
   ]
  },
  {
   "cell_type": "code",
   "execution_count": 194,
   "metadata": {
    "collapsed": false
   },
   "outputs": [
    {
     "data": {
      "text/plain": [
       "'one-two-three'"
      ]
     },
     "execution_count": 194,
     "metadata": {},
     "output_type": "execute_result"
    }
   ],
   "source": [
    "strL = [\"one\", \"two\", \"three\"]\n",
    "\"-\".join(strL)"
   ]
  },
  {
   "cell_type": "markdown",
   "metadata": {},
   "source": [
    "Keep in mind that join() takes in a list of strings (and a separator) and returns a string.\n",
    "\n",
    "You will often need to also carry out the reverse process: starting from a string, split it into a list of strings using a specific separator. Most commonly, this task is necessary when we’re dealing with a sentence and would like to split it into its constituent words. Our goal can be accomplished by using the split() method of any string. For example:"
   ]
  },
  {
   "cell_type": "code",
   "execution_count": 195,
   "metadata": {
    "collapsed": false
   },
   "outputs": [
    {
     "data": {
      "text/plain": [
       "['there', 'are', 'many', 'words', 'in', 'here']"
      ]
     },
     "execution_count": 195,
     "metadata": {},
     "output_type": "execute_result"
    }
   ],
   "source": [
    "phrase = \"there are many words in here\"\n",
    "phrase.split()"
   ]
  },
  {
   "cell_type": "markdown",
   "metadata": {},
   "source": [
    "Remember, we started with a string and ended up with a list of strings (i.e., the reverse of what join() did above). Implicit here is the fact that the default behavior of split() is to split according to spaces (actually also tabs, newlines, etc). This is because no argument is passed in to split(), as you can tell from the two consecutive parentheses, ().\n",
    "\n",
    "If we are dealing with strings that need to be separated out using a different separator, then we simply pass in that separator as an argument to split():"
   ]
  },
  {
   "cell_type": "code",
   "execution_count": 196,
   "metadata": {
    "collapsed": false
   },
   "outputs": [
    {
     "data": {
      "text/plain": [
       "['one', 'two', 'three']"
      ]
     },
     "execution_count": 196,
     "metadata": {},
     "output_type": "execute_result"
    }
   ],
   "source": [
    "numd = \"one-two-three\"\n",
    "numd.split(\"-\")"
   ]
  },
  {
   "cell_type": "code",
   "execution_count": 197,
   "metadata": {
    "collapsed": false
   },
   "outputs": [
    {
     "data": {
      "text/plain": [
       "['four', 'five', 'six']"
      ]
     },
     "execution_count": 197,
     "metadata": {},
     "output_type": "execute_result"
    }
   ],
   "source": [
    "numc = \"four,five,six\"\n",
    "numc.split(\",\")"
   ]
  },
  {
   "cell_type": "markdown",
   "metadata": {},
   "source": [
    "The comma-separated case is pretty common in real-world situations."
   ]
  },
  {
   "cell_type": "markdown",
   "metadata": {},
   "source": [
    "#### 3.3.3 Fancy formatting"
   ]
  },
  {
   "cell_type": "markdown",
   "metadata": {},
   "source": [
    "We promised earlier that we would introduce “fancier” ways to format strings. We go over this now, while noting that for most of our purposes we don’t need much more than what we’ve seen up to this point. In addition to the simple string concatenation we saw above, Python has “old-style string formatting” (which looks like, e.g., %s as you may have seen in C-based languages) and “new-style string formatting”, which uses the format() string method which we focus on below.\n",
    "\n",
    "Here’s an example of how format() works:"
   ]
  },
  {
   "cell_type": "code",
   "execution_count": 198,
   "metadata": {
    "collapsed": false
   },
   "outputs": [
    {
     "data": {
      "text/plain": [
       "'This is my sentence'"
      ]
     },
     "execution_count": 198,
     "metadata": {},
     "output_type": "execute_result"
    }
   ],
   "source": [
    "\"{0} is my {1}\".format(\"This\", \"sentence\")"
   ]
  },
  {
   "cell_type": "markdown",
   "metadata": {},
   "source": [
    "This uses two positional arguments, numbered starting from 0, within curly braces. Pay attention to the overall format: it is string-dot-format-arguments (similarly to the cases of string-dot-join-argument and string-dot-split-argument that we encountered above). We can straightforwardly use this approach to introduce the space in our example above:"
   ]
  },
  {
   "cell_type": "code",
   "execution_count": 199,
   "metadata": {
    "collapsed": false
   },
   "outputs": [
    {
     "data": {
      "text/plain": [
       "'My name is Alex'"
      ]
     },
     "execution_count": 199,
     "metadata": {},
     "output_type": "execute_result"
    }
   ],
   "source": [
    "a = \"My name is\"\n",
    "b = \"Alex\"\n",
    "\"{0} {1}\".format(a, b)"
   ]
  },
  {
   "cell_type": "markdown",
   "metadata": {},
   "source": [
    "Note that the overall approach of format() is different to what we were doing before: we here provide a string with some “empty slots” that are filled in later when we provide arguments to format(). On the other hand, what we were doing before was: we were building up individual strings which were concatenated using + or join and possibly a separator as well.\n",
    "\n",
    "We can play this game with numbers, too:"
   ]
  },
  {
   "cell_type": "code",
   "execution_count": 200,
   "metadata": {
    "collapsed": false
   },
   "outputs": [
    {
     "data": {
      "text/plain": [
       "'3.1 -2.5'"
      ]
     },
     "execution_count": 200,
     "metadata": {},
     "output_type": "execute_result"
    }
   ],
   "source": [
    "x, y = 3.1, -2.5\n",
    "\"{0} {1}\".format(x, y)"
   ]
  },
  {
   "cell_type": "markdown",
   "metadata": {},
   "source": [
    "Notice how easy it is in this approach to change the order of what we’re printing out:"
   ]
  },
  {
   "cell_type": "code",
   "execution_count": 201,
   "metadata": {
    "collapsed": false
   },
   "outputs": [
    {
     "data": {
      "text/plain": [
       "'-2.5 3.1'"
      ]
     },
     "execution_count": 201,
     "metadata": {},
     "output_type": "execute_result"
    }
   ],
   "source": [
    "x, y = 3.1, -2.5\n",
    "\"{1} {0}\".format(x, y)"
   ]
  },
  {
   "cell_type": "markdown",
   "metadata": {},
   "source": [
    "For the sake of completeness, we note that producing the string(s) using our earlier +-based approach would look something like this:"
   ]
  },
  {
   "cell_type": "code",
   "execution_count": 202,
   "metadata": {
    "collapsed": false
   },
   "outputs": [
    {
     "data": {
      "text/plain": [
       "'3.1 -2.5'"
      ]
     },
     "execution_count": 202,
     "metadata": {},
     "output_type": "execute_result"
    }
   ],
   "source": [
    "x, y = 3.1, -2.5\n",
    "str(x) + \" \" + str(y)"
   ]
  },
  {
   "cell_type": "code",
   "execution_count": 203,
   "metadata": {
    "collapsed": false
   },
   "outputs": [
    {
     "data": {
      "text/plain": [
       "'-2.5 3.1'"
      ]
     },
     "execution_count": 203,
     "metadata": {},
     "output_type": "execute_result"
    }
   ],
   "source": [
    "str(y) + \" \" + str(x)"
   ]
  },
  {
   "cell_type": "markdown",
   "metadata": {},
   "source": [
    "where we explicitly converted to string using the built-in function str() since we were trying to combine the two floats into a big string."
   ]
  },
  {
   "cell_type": "markdown",
   "metadata": {},
   "source": [
    "If that was all we were trying to accomplish, there would be no real benefit to using format() (not to mention that the curly braces and the explicit positional indices are confusing to many beginners). However, format() is a much more powerful way to format strings, providing us with extensive freedom in adding spaces, including more digits, and so on. We go over only two, very basic, examples.\n",
    "\n",
    "First, we see how to introduce padding:"
   ]
  },
  {
   "cell_type": "code",
   "execution_count": 204,
   "metadata": {
    "collapsed": false
   },
   "outputs": [
    {
     "data": {
      "text/plain": [
       "'This       is my sentence'"
      ]
     },
     "execution_count": 204,
     "metadata": {},
     "output_type": "execute_result"
    }
   ],
   "source": [
    "\"{0:10} is my {1}\".format(\"This\", \"sentence\")"
   ]
  },
  {
   "cell_type": "markdown",
   "metadata": {},
   "source": [
    "All we did was to put a colon and a number after the first (0-th) positional index. (We could have, obviously, done something similar for the other argument as well). Second, we see how to format floats in more detail:"
   ]
  },
  {
   "cell_type": "code",
   "execution_count": 205,
   "metadata": {
    "collapsed": false
   },
   "outputs": [
    {
     "data": {
      "text/plain": [
       "'3.100000000000000 -2.5'"
      ]
     },
     "execution_count": 205,
     "metadata": {},
     "output_type": "execute_result"
    }
   ],
   "source": [
    "\"{0:1.15f} {1}\".format(x, y)"
   ]
  },
  {
   "cell_type": "markdown",
   "metadata": {},
   "source": [
    "Here we also introduced a colon, this time followed by 1.15f. This is to be parsed as follows: 1 gives the number of digits before the decimal, 15 gives the number of digits after the decimal, and f is a type specifier (that leads to the result shown for floats). We could have used the alternative type specifier e to get the result in scientific/engineering notation:"
   ]
  },
  {
   "cell_type": "code",
   "execution_count": 206,
   "metadata": {
    "collapsed": false
   },
   "outputs": [
    {
     "data": {
      "text/plain": [
       "'3.100000000000000e+00 -2.5'"
      ]
     },
     "execution_count": 206,
     "metadata": {},
     "output_type": "execute_result"
    }
   ],
   "source": [
    "\"{0:1.15e} {1}\".format(x, y)"
   ]
  },
  {
   "cell_type": "markdown",
   "metadata": {},
   "source": [
    "There are many other such options, but we won’t really be needing them.\n",
    "\n",
    "Starting with Python 3.6, a new type of string literals is also possible, namely f-strings or formatted string literals. They are quite convenient, so you may want to\n",
    "look into them."
   ]
  },
  {
   "cell_type": "markdown",
   "metadata": {},
   "source": [
    "### 3.4 Dictionaries"
   ]
  },
  {
   "cell_type": "markdown",
   "metadata": {},
   "source": [
    "Python also provides support for dictionaries (often shortened to dicts), which are called associative arrays in some other languages (they’re called maps in C++). You can think of dictionaries as being similar to lists or tuples, but instead of being limited to integer indices, with a dictionary you can use strings or floats as keys. In other words, dictionaries contain key and value pairs. The syntax for creating them involves curly braces (compare with square brackets for lists and parentheses for tuples), with the key-value pair being separated by a colon. For example, here’s a dictionary associating heights to weights:"
   ]
  },
  {
   "cell_type": "code",
   "execution_count": 207,
   "metadata": {
    "collapsed": true
   },
   "outputs": [],
   "source": [
    "htow = {1.41: 31.3, 1.45: 36.7, 1.48: 42.4}"
   ]
  },
  {
   "cell_type": "markdown",
   "metadata": {},
   "source": [
    "In this case both the keys and the values are floats. We access a dictionary value (for a specific key) by using the name of the dict, square brackets, and the key we’re \n",
    "interested in: this returns the value associated with that key. (In other words, indexing uses square brackets for lists, tuples, and dicts.) If the specific key is not present, then we get an error. For example:"
   ]
  },
  {
   "cell_type": "code",
   "execution_count": 208,
   "metadata": {
    "collapsed": false
   },
   "outputs": [
    {
     "data": {
      "text/plain": [
       "36.7"
      ]
     },
     "execution_count": 208,
     "metadata": {},
     "output_type": "execute_result"
    }
   ],
   "source": [
    "htow[1.45]"
   ]
  },
  {
   "cell_type": "code",
   "execution_count": 209,
   "metadata": {
    "collapsed": false
   },
   "outputs": [
    {
     "ename": "KeyError",
     "evalue": "1.43",
     "output_type": "error",
     "traceback": [
      "\u001b[0;31m---------------------------------------------------------------------------\u001b[0m",
      "\u001b[0;31mKeyError\u001b[0m                                  Traceback (most recent call last)",
      "\u001b[0;32m<ipython-input-209-80eb63c9bf0b>\u001b[0m in \u001b[0;36m<module>\u001b[0;34m()\u001b[0m\n\u001b[0;32m----> 1\u001b[0;31m \u001b[0mhtow\u001b[0m\u001b[0;34m[\u001b[0m\u001b[0;36m1.43\u001b[0m\u001b[0;34m]\u001b[0m\u001b[0;34m\u001b[0m\u001b[0m\n\u001b[0m",
      "\u001b[0;31mKeyError\u001b[0m: 1.43"
     ]
    }
   ],
   "source": [
    "htow[1.43]"
   ]
  },
  {
   "cell_type": "markdown",
   "metadata": {},
   "source": [
    "Note, however, that accessing a key that is not present and then assigning actually works: this is a standard way key:value pairs are introduced into a dictionary. For example:"
   ]
  },
  {
   "cell_type": "code",
   "execution_count": 210,
   "metadata": {
    "collapsed": true
   },
   "outputs": [],
   "source": [
    "htow[1.43] = 32.9"
   ]
  },
  {
   "cell_type": "code",
   "execution_count": 211,
   "metadata": {
    "collapsed": false
   },
   "outputs": [
    {
     "name": "stdout",
     "output_type": "stream",
     "text": [
      "{1.41: 31.3, 1.48: 42.4, 1.43: 32.9, 1.45: 36.7}\n"
     ]
    }
   ],
   "source": [
    "print(htow)"
   ]
  },
  {
   "cell_type": "markdown",
   "metadata": {},
   "source": [
    "Note that when printing out the dictionary we do not get the key:value pairs in the order in which we input them: this is because dictionaries are unordered (since we’re using the key to access the value, we don’t really care what order these key:value pairs are stored in). Starting with Python 3.6, there’s been a move toward preserving the insertion order: if you’re using an even later version, you should make sure to check this detail before you rely on it.\n",
    "\n",
    "Note, also, that this behavior of accessing a key and assigning is very different from how lists grow. As you may recall, for lists r[4] = 8 was an error (and one needed to use the append() list method to add an element to the list).\n",
    "\n",
    "The ability to add a key:value pair by indexing and assigning leads to the common idiom whereby one starts from an empty dictionary and then proceeds to populate it. For example:"
   ]
  },
  {
   "cell_type": "code",
   "execution_count": 212,
   "metadata": {
    "collapsed": false
   },
   "outputs": [
    {
     "name": "stdout",
     "output_type": "stream",
     "text": [
      "{'Mary': 38, 'Sam': 33, 'Jack': 42}\n"
     ]
    }
   ],
   "source": [
    "nametoage = {}\n",
    "nametoage[\"Jack\"] = 42\n",
    "nametoage[\"Sam\"] = 33\n",
    "nametoage[\"Mary\"] = 38\n",
    "print(nametoage)"
   ]
  },
  {
   "cell_type": "code",
   "execution_count": 213,
   "metadata": {
    "collapsed": true
   },
   "outputs": [],
   "source": [
    "nametoage[\"Jack\"] += 1"
   ]
  },
  {
   "cell_type": "code",
   "execution_count": 214,
   "metadata": {
    "collapsed": false
   },
   "outputs": [
    {
     "data": {
      "text/plain": [
       "43"
      ]
     },
     "execution_count": 214,
     "metadata": {},
     "output_type": "execute_result"
    }
   ],
   "source": [
    "nametoage[\"Jack\"]"
   ]
  },
  {
   "cell_type": "markdown",
   "metadata": {},
   "source": [
    "where we took the opportunity to also show that we can use strings as keys, this actually being a very common use case. In addition to this, we explicitly show that dictionaries are mutable: you can change a value after creation."
   ]
  },
  {
   "cell_type": "markdown",
   "metadata": {},
   "source": [
    "## 4 More on control flow"
   ]
  },
  {
   "cell_type": "markdown",
   "metadata": {},
   "source": [
    "We encountered if statements and while loops above. We now turn to related topics, which also impact the flow of execution of a program."
   ]
  },
  {
   "cell_type": "markdown",
   "metadata": {},
   "source": [
    "### 4.1 For loops"
   ]
  },
  {
   "cell_type": "markdown",
   "metadata": {},
   "source": [
    "Up to this point, we’ve spent quite a bit of time discussing how to create, grow, and concatenate lists. Very often, we need to carry out some sort of operation on the elements of a list: this is sometimes in order to create a new list, other times to change the values of the list elements “in place”, and yet other times just for the sake of a one-off calculation that's printed out on the spot. All of these tasks can be accomplished via the use of for loops. Here’s an example:"
   ]
  },
  {
   "cell_type": "code",
   "execution_count": 215,
   "metadata": {
    "collapsed": false
   },
   "outputs": [
    {
     "name": "stdout",
     "output_type": "stream",
     "text": [
      "7 14\n",
      "4 8\n",
      "12 24\n"
     ]
    }
   ],
   "source": [
    "ns = [7, 4, 12]\n",
    "for n in ns:\n",
    "    print(n, 2*n)"
   ]
  },
  {
   "cell_type": "markdown",
   "metadata": {},
   "source": [
    "In this example, ns is a list of integers, whereas n is a given list element (i.e., an integer) each time. We could have employed a different name instead of n on the line containing the for loop, e.g., elem. Note that for loops also use indentation, which we used above (similarly to what we saw for if statements and while loops). We could have, obviously, included more lines of code inside the for block.\n",
    "\n",
    "You may be used to other programming languages, where for loops typically repeat an action a given number of times: our example above is different, in that our for loop is iterating through the list elements themselves directly. (In other words, Python’s for is similar to the foreach that some other languages have.) There are situations, however, when you do need to repeat a certain action a fixed number of times. In that case, we use range():"
   ]
  },
  {
   "cell_type": "code",
   "execution_count": 216,
   "metadata": {
    "collapsed": false
   },
   "outputs": [
    {
     "name": "stdout",
     "output_type": "stream",
     "text": [
      "Hello 0\n",
      "Hello 1\n",
      "Hello 2\n",
      "Hello 3\n",
      "Hello 4\n"
     ]
    }
   ],
   "source": [
    "for i in range(5):\n",
    "    print(\"Hello\", i)"
   ]
  },
  {
   "cell_type": "markdown",
   "metadata": {},
   "source": [
    "As you can see, this produces all the integers from 0 to 4, which we can then use for our purposes (range() isn’t really a built-in function, but for most intents and purposes you can treat it as if it was one). In Python 3, range() produces a range object, which we can even store in a new variable and then use:"
   ]
  },
  {
   "cell_type": "code",
   "execution_count": 217,
   "metadata": {
    "collapsed": false
   },
   "outputs": [
    {
     "name": "stdout",
     "output_type": "stream",
     "text": [
      "0\n",
      "1\n",
      "4\n",
      "9\n"
     ]
    }
   ],
   "source": [
    "thingy = range(4)\n",
    "for i in thingy:\n",
    "    print(i**2)"
   ]
  },
  {
   "cell_type": "markdown",
   "metadata": {},
   "source": [
    "This isn’t something that you will encounter very often: it makes more sense to include range() directly on the line containing the for. By the way, you may have wondered if we could be less wasteful regarding the number of output lines. There’s a simple way of placing all the output on the same line:"
   ]
  },
  {
   "cell_type": "code",
   "execution_count": 218,
   "metadata": {
    "collapsed": false
   },
   "outputs": [
    {
     "name": "stdout",
     "output_type": "stream",
     "text": [
      "0 1 4 9 "
     ]
    }
   ],
   "source": [
    "for i in range(4):\n",
    "    print(i**2, end=\" \")"
   ]
  },
  {
   "cell_type": "markdown",
   "metadata": {},
   "source": [
    "What we’ve done here is to say end=\" \" after passing in the argument we wish to print. This ensures that after we print each number we don’t include a newline but simply a space (and in the next iteration of the loop the next number with another space, and so on). \n",
    "You should keep in mind that there’s no newline added even after the last number (so if you need that, you have to add it yourself after the loop ends).\n",
    "\n",
    "It’s worth noting that (in Python 3) range() produces numbers on demand, i.e., it doesn’t produce them all at once. If you do need them all at once, you can simply use\n",
    "the list() built-in function to create a list with all the numbers: \n",
    "    "
   ]
  },
  {
   "cell_type": "code",
   "execution_count": 219,
   "metadata": {
    "collapsed": false
   },
   "outputs": [
    {
     "data": {
      "text/plain": [
       "[0, 1, 2, 3, 4, 5]"
      ]
     },
     "execution_count": 219,
     "metadata": {},
     "output_type": "execute_result"
    }
   ],
   "source": [
    "list(range(6))"
   ]
  },
  {
   "cell_type": "markdown",
   "metadata": {},
   "source": [
    "Obviously, if you’re interested in iterating up to a very large integer, this can be wasteful, which is why range() gives you the numbers “as-you-go”.\n",
    "\n",
    "The general form of how we invoke range() is similar to the list slicing in r[m:n:i] that we saw above: range(n) gives the integers from 0 to n-1, range(m, n) gives the integers from m to n-1, and range(m, n, i) gives integers from m to n-1 in steps of i. For example:"
   ]
  },
  {
   "cell_type": "code",
   "execution_count": 220,
   "metadata": {
    "collapsed": false
   },
   "outputs": [
    {
     "data": {
      "text/plain": [
       "[4, 7, 10, 13, 16]"
      ]
     },
     "execution_count": 220,
     "metadata": {},
     "output_type": "execute_result"
    }
   ],
   "source": [
    "list(range(4, 17, 3))"
   ]
  },
  {
   "cell_type": "markdown",
   "metadata": {},
   "source": [
    "Note that list slicing uses colons, whereas the arguments of range() are comma separated. Except for that, the pattern of start, end, stride is the same.\n",
    "\n",
    "The combination of for loops and range() provides us with a powerful way to populate a list. For example:"
   ]
  },
  {
   "cell_type": "code",
   "execution_count": 221,
   "metadata": {
    "collapsed": false
   },
   "outputs": [
    {
     "name": "stdout",
     "output_type": "stream",
     "text": [
      "[2, 4, 8, 16, 32, 64, 128, 256, 512, 1024]\n"
     ]
    }
   ],
   "source": [
    "powers = []\n",
    "for i in range(1, 11):\n",
    "    powers.append(2**i)\n",
    "print(powers)"
   ]
  },
  {
   "cell_type": "markdown",
   "metadata": {},
   "source": [
    "Note that there exists an even simpler/more idiomatic way of accomplishing this task (using a list comprehension, as we’ll see below).\n",
    "\n",
    "We cannot sufficiently stress the importance of the Python for loop. It is most certainly not limited to iterating through integers. Instead, it can be used to step through any sequence, such as a tuple:"
   ]
  },
  {
   "cell_type": "code",
   "execution_count": 222,
   "metadata": {
    "collapsed": false
   },
   "outputs": [
    {
     "name": "stdout",
     "output_type": "stream",
     "text": [
      "12.0\n",
      "2\n",
      "hello\n"
     ]
    }
   ],
   "source": [
    "a = (12., 2, \"hello\")\n",
    "for elem in a:\n",
    "    print(elem)"
   ]
  },
  {
   "cell_type": "markdown",
   "metadata": {},
   "source": [
    "where you should note that (just as in the case of the list ns above) we did not need to say a[i] anywhere. Similarly, we can iterate through a string (taking one character at a time):"
   ]
  },
  {
   "cell_type": "code",
   "execution_count": 223,
   "metadata": {
    "collapsed": false
   },
   "outputs": [
    {
     "name": "stdout",
     "output_type": "stream",
     "text": [
      "H\n",
      "e\n",
      "l\n",
      "l\n",
      "o\n"
     ]
    }
   ],
   "source": [
    "word = \"Hello\"\n",
    "for c in word:\n",
    "    print(c)"
   ]
  },
  {
   "cell_type": "markdown",
   "metadata": {},
   "source": [
    "or even through a dictionary:"
   ]
  },
  {
   "cell_type": "code",
   "execution_count": 224,
   "metadata": {
    "collapsed": false
   },
   "outputs": [
    {
     "name": "stdout",
     "output_type": "stream",
     "text": [
      "1.41 31.3\n",
      "1.43 32.9\n",
      "1.45 36.7\n",
      "1.48 42.4\n"
     ]
    }
   ],
   "source": [
    "htow = {1.41: 31.3, 1.48: 42.4, 1.43: 32.9, 1.45: 36.7} \n",
    "for h in htow:\n",
    "    print(h, htow[h])"
   ]
  },
  {
   "cell_type": "markdown",
   "metadata": {
    "collapsed": true
   },
   "source": [
    "As we will see in a later section, the Python for loop is so powerful that it can even be used to directly iterate through the lines of a given file."
   ]
  },
  {
   "cell_type": "markdown",
   "metadata": {},
   "source": [
    "### 4.2 User-defined functions"
   ]
  },
  {
   "cell_type": "markdown",
   "metadata": {},
   "source": [
    "If all our programs did was to carry out operations in sequence, inside several loops, their logic would soon become unwieldy. Instead, we are able to group together logically related operations and create what are called user-defined functions. In other words, while the math module contains a function called exp, we could create our own function called, say, newexp, which e.g. uses a different algorithm to get to the answer (or formats the answer differently).\n",
    "\n",
    "The way we introduce our own functions is via the def keyword, along with a function name and a colon at the end of the line, as well as (the by now expected) indentation. There are many different kinds of functions you could create, so we will attempt to systematize their features a bit in what follows. We start with interactive Python, but when our examples get slightly longer we switch to program files (as is customary in real applications)."
   ]
  },
  {
   "cell_type": "markdown",
   "metadata": {},
   "source": [
    "#### 4.2.1 No return, no parameter"
   ]
  },
  {
   "cell_type": "markdown",
   "metadata": {},
   "source": [
    "We can define a function that doesn’t do anything other than print out a message:\n",
    "    "
   ]
  },
  {
   "cell_type": "code",
   "execution_count": 225,
   "metadata": {
    "collapsed": true
   },
   "outputs": [],
   "source": [
    "def justprint():\n",
    "    print(\"Hello, world!\")"
   ]
  },
  {
   "cell_type": "markdown",
   "metadata": {},
   "source": [
    "From your background in basic math (or from calling built-in functions or from other programming languages) you already know that the distinguishing feature of functions are the two parentheses (). In this case, our function (which is called justprint()) receives no parameters, so there’s nothing inside the parentheses. It is trivial to call this function:"
   ]
  },
  {
   "cell_type": "code",
   "execution_count": 226,
   "metadata": {
    "collapsed": false
   },
   "outputs": [
    {
     "name": "stdout",
     "output_type": "stream",
     "text": [
      "Hello, world!\n"
     ]
    }
   ],
   "source": [
    "justprint()"
   ]
  },
  {
   "cell_type": "markdown",
   "metadata": {},
   "source": [
    "where we used no arguments in our call. We note here a distinction which is sometimes useful: a parameter appears in the definition of a function inside parentheses; an argument appears in a function call inside parentheses. Our justprint() uses no parameter in its definition and therefore received no argument when being called.\n",
    "\n",
    "Note that this function does not return a value to the outside world, since all it does is print out a message. Even so, there’s nothing stopping you from assigning its output to a variable and then inspecting that variable:"
   ]
  },
  {
   "cell_type": "code",
   "execution_count": 227,
   "metadata": {
    "collapsed": false
   },
   "outputs": [
    {
     "name": "stdout",
     "output_type": "stream",
     "text": [
      "Hello, world!\n",
      "None\n"
     ]
    }
   ],
   "source": [
    "x = justprint()\n",
    "print(x)"
   ]
  },
  {
   "cell_type": "markdown",
   "metadata": {},
   "source": [
    "Notice how after the function was called the message was printed onto the screen (as above). Then, when we printed out the value that the function returned we got None. This isn’t too surprising, given that our function did not return a value. This None is a constant that is part of core Python and is often used to represent the absence of a value (as in our case)."
   ]
  },
  {
   "cell_type": "markdown",
   "metadata": {},
   "source": [
    "#### 4.2.2 Return, no parameter"
   ]
  },
  {
   "cell_type": "markdown",
   "metadata": {},
   "source": [
    "We now proceed to other functions, of increasing sophistication. The first thing to note is that (unlike our justprint() above), most of the time functions need to return a value, thereby communicating a calculation result to the external world. Here’s a function that prints out a message and returns a number to the external world:"
   ]
  },
  {
   "cell_type": "code",
   "execution_count": 228,
   "metadata": {
    "collapsed": true
   },
   "outputs": [],
   "source": [
    "def alsoreturn():\n",
    "    print(\"Hello, world!\")\n",
    "    return True"
   ]
  },
  {
   "cell_type": "markdown",
   "metadata": {},
   "source": [
    "This uses the keyword return. The value returned is a boolean variable. Note that this function always returns the same value, True, so it’s not very versatile. You call alsoreturn() as follows:"
   ]
  },
  {
   "cell_type": "code",
   "execution_count": 229,
   "metadata": {
    "collapsed": false
   },
   "outputs": [
    {
     "name": "stdout",
     "output_type": "stream",
     "text": [
      "Hello, world!\n",
      "True\n"
     ]
    }
   ],
   "source": [
    "x = alsoreturn()\n",
    "print(x)"
   ]
  },
  {
   "cell_type": "markdown",
   "metadata": {},
   "source": [
    "We could have called this function without assigning its output to a variable, like so:"
   ]
  },
  {
   "cell_type": "code",
   "execution_count": 230,
   "metadata": {
    "collapsed": false
   },
   "outputs": [
    {
     "name": "stdout",
     "output_type": "stream",
     "text": [
      "Hello, world!\n"
     ]
    },
    {
     "data": {
      "text/plain": [
       "True"
      ]
     },
     "execution_count": 230,
     "metadata": {},
     "output_type": "execute_result"
    }
   ],
   "source": [
    "alsoreturn()"
   ]
  },
  {
   "cell_type": "markdown",
   "metadata": {},
   "source": [
    "We observe that the return value was printed onto the screen: this is a peculiarity of using Python interactively. If we had had the same code in a file:    "
   ]
  },
  {
   "cell_type": "code",
   "execution_count": 231,
   "metadata": {
    "collapsed": false
   },
   "outputs": [
    {
     "name": "stdout",
     "output_type": "stream",
     "text": [
      "Writing alsoreturn.py\n"
     ]
    }
   ],
   "source": [
    "%%writefile alsoreturn.py\n",
    "\n",
    "def alsoreturn():\n",
    "    print(\"Hello, world!\")\n",
    "    return True\n",
    "\n",
    "x = alsoreturn()\n",
    "print(x)\n",
    "\n",
    "alsoreturn()"
   ]
  },
  {
   "cell_type": "markdown",
   "metadata": {},
   "source": [
    "then the second call (which isn’t assigned to anything) doesn’t print out True.\n",
    "\n",
    "In any case, calling alsoreturn(), whether interactively or not, without assigning its return value to a variable means that that return variable is now lost to the rest of the program: it cannot be further manipulated in what follows. (There’s always a disclaimer: in the case of an interactive session, the special variable \\_ holds the result\n",
    "of the last executed statement, so you could access the value True that way).\n",
    "\n",
    "For the sake of completeness, we note that our previous example of justprint() could have ended with a statement saying return None and would have been fully\n",
    "equivalent to its version without any return statement."
   ]
  },
  {
   "cell_type": "markdown",
   "metadata": {},
   "source": [
    "#### 4.2.3 Return, with parameter"
   ]
  },
  {
   "cell_type": "markdown",
   "metadata": {},
   "source": [
    "In most realistic cases we use functions that take in a value, do something with it, and then return another value. Here’s an example of a function that doubles its argument:"
   ]
  },
  {
   "cell_type": "code",
   "execution_count": 232,
   "metadata": {
    "collapsed": true
   },
   "outputs": [],
   "source": [
    "def double(x):\n",
    "    return 2*x"
   ]
  },
  {
   "cell_type": "markdown",
   "metadata": {},
   "source": [
    "We call this function as follows:"
   ]
  },
  {
   "cell_type": "code",
   "execution_count": 233,
   "metadata": {
    "collapsed": false
   },
   "outputs": [
    {
     "name": "stdout",
     "output_type": "stream",
     "text": [
      "14\n"
     ]
    }
   ],
   "source": [
    "y = double(7)\n",
    "print(y)"
   ]
  },
  {
   "cell_type": "markdown",
   "metadata": {},
   "source": [
    "We used a different name for the output variable only so that we don’t confuse the uninitiated. In reality, the following code is perfectly acceptable (and common):"
   ]
  },
  {
   "cell_type": "code",
   "execution_count": 234,
   "metadata": {
    "collapsed": false
   },
   "outputs": [
    {
     "name": "stdout",
     "output_type": "stream",
     "text": [
      "14\n"
     ]
    }
   ],
   "source": [
    "x = double(7)\n",
    "print(x)"
   ]
  },
  {
   "cell_type": "markdown",
   "metadata": {},
   "source": [
    "Note that the definition of our function above was perhaps too concise if you’re an absolute beginner. We could have just as well introduced a new (intermediate) variable and then returned that:"
   ]
  },
  {
   "cell_type": "code",
   "execution_count": 235,
   "metadata": {
    "collapsed": true
   },
   "outputs": [],
   "source": [
    "def doublenew(x):\n",
    "    val = 2*x\n",
    "    return val"
   ]
  },
  {
   "cell_type": "markdown",
   "metadata": {},
   "source": [
    "This new function is called similarly to how we called the previous one:"
   ]
  },
  {
   "cell_type": "code",
   "execution_count": 236,
   "metadata": {
    "collapsed": false
   },
   "outputs": [
    {
     "name": "stdout",
     "output_type": "stream",
     "text": [
      "14\n"
     ]
    }
   ],
   "source": [
    "x = doublenew(7)\n",
    "print(x)"
   ]
  },
  {
   "cell_type": "markdown",
   "metadata": {},
   "source": [
    "and obviously gives the same value. The only difference was in internal organization."
   ]
  },
  {
   "cell_type": "markdown",
   "metadata": {},
   "source": [
    "#### 4.2.4 More complicated"
   ]
  },
  {
   "cell_type": "markdown",
   "metadata": {},
   "source": [
    "Now that we can accept input parameters and return output values, there’s nothing keeping our functions from becoming more complicated (and more useful). For example, here’s a function that carries out the sum from 1 up to some integer:"
   ]
  },
  {
   "cell_type": "code",
   "execution_count": 237,
   "metadata": {
    "collapsed": false
   },
   "outputs": [
    {
     "name": "stdout",
     "output_type": "stream",
     "text": [
      "Writing sumofints.py\n"
     ]
    }
   ],
   "source": [
    "%%writefile sumofints.py\n",
    "\n",
    "def sumofints(nmax):\n",
    "    val = sum(range(1,nmax+1))\n",
    "    return val\n",
    "\n",
    "for nmax in (100, 42):\n",
    "    x = sumofints(nmax)\n",
    "    print(nmax, x)"
   ]
  },
  {
   "cell_type": "markdown",
   "metadata": {},
   "source": [
    "Note that we are taking in the integer up to which we’re summing as a parameter. We then ensure that range() goes up to (but not including) nmax+1 (i.e., it includes nmax). We also took an extra step in that our driver code (i.e., the part that calls the function sumofints) employs a loop that iterates through a tuple of possible integer values. Here’s the output of running this code:"
   ]
  },
  {
   "cell_type": "code",
   "execution_count": 238,
   "metadata": {
    "collapsed": false
   },
   "outputs": [
    {
     "name": "stdout",
     "output_type": "stream",
     "text": [
      "100 5050\n",
      "42 903\n"
     ]
    }
   ],
   "source": [
    "%run sumofints.py"
   ]
  },
  {
   "cell_type": "markdown",
   "metadata": {},
   "source": [
    "If you are still not fully comfortable with built-in functions like sum() and range(),\n",
    "you might appreciate seeing a hand-rolled version of the above functionality:"
   ]
  },
  {
   "cell_type": "code",
   "execution_count": 239,
   "metadata": {
    "collapsed": false
   },
   "outputs": [
    {
     "name": "stdout",
     "output_type": "stream",
     "text": [
      "Writing sumofints2.py\n"
     ]
    }
   ],
   "source": [
    "%%writefile sumofints2.py\n",
    "\n",
    "def sumofints(nmax):\n",
    "    val = 0\n",
    "    for i in range(1,nmax+1):\n",
    "        val += i\n",
    "    return val\n",
    "\n",
    "for nmax in (100, 42):\n",
    "    x = sumofints(nmax)\n",
    "    print(nmax, x)"
   ]
  },
  {
   "cell_type": "markdown",
   "metadata": {},
   "source": [
    "Notice that here we have a loop inside our function (doing the summing) and also a loop outside, which calls our function repeatedly."
   ]
  },
  {
   "cell_type": "markdown",
   "metadata": {},
   "source": [
    "#### 4.2.5 Two parameters"
   ]
  },
  {
   "cell_type": "markdown",
   "metadata": {},
   "source": [
    "We can keep playing this game: functions can also have two (or more) parameters, combining them in a specified way to produce a return value. For example, here’s a function that evaluates the magnitude of a (2-component) vector:"
   ]
  },
  {
   "cell_type": "code",
   "execution_count": 240,
   "metadata": {
    "collapsed": false
   },
   "outputs": [
    {
     "name": "stdout",
     "output_type": "stream",
     "text": [
      "Writing mag.py\n"
     ]
    }
   ],
   "source": [
    "%%writefile mag.py\n",
    "\n",
    "from math import sqrt\n",
    "\n",
    "def mag(x, y):\n",
    "    r = sqrt(x**2 + y**2)\n",
    "    return r\n",
    "\n",
    "r = mag(1.2, 2.3)\n",
    "print(r)"
   ]
  },
  {
   "cell_type": "markdown",
   "metadata": {},
   "source": [
    "#### 4.2.6 Return two values"
   ]
  },
  {
   "cell_type": "markdown",
   "metadata": {},
   "source": [
    "Since we can input two (or more) values as parameters, it stands to reason that we’d also be able to return two (or more) values. This is typically done by returning a tuple (or a list) that bundles together the two values. "
   ]
  },
  {
   "cell_type": "code",
   "execution_count": 241,
   "metadata": {
    "collapsed": false
   },
   "outputs": [
    {
     "name": "stdout",
     "output_type": "stream",
     "text": [
      "Writing cartesian.py\n"
     ]
    }
   ],
   "source": [
    "%%writefile cartesian.py\n",
    "\n",
    "from math import cos, sin\n",
    "\n",
    "def cartesian(r, theta):\n",
    "    x = r*cos(theta)\n",
    "    y = r*sin(theta)\n",
    "    return (x, y)\n",
    "\n",
    "a = cartesian(1.2, 0.1)\n",
    "print(a)\n",
    "x, y = cartesian(1.2, 0.1)\n",
    "print(x, y)"
   ]
  },
  {
   "cell_type": "markdown",
   "metadata": {},
   "source": [
    "With output:"
   ]
  },
  {
   "cell_type": "code",
   "execution_count": 242,
   "metadata": {
    "collapsed": false
   },
   "outputs": [
    {
     "name": "stdout",
     "output_type": "stream",
     "text": [
      "(1.1940049983336307, 0.11980009997619379)\n",
      "1.1940049983336307 0.11980009997619379\n"
     ]
    }
   ],
   "source": [
    "%run cartesian.py"
   ]
  },
  {
   "cell_type": "markdown",
   "metadata": {},
   "source": [
    "In the first call, we assign the returned tuple into the variable a. In the second call, we make use of multiple assignment as seen earlier to assign each element of the return tuple to a regular float variable. It’s easy to see that this approach can be generalized to return as many numbers as we want (bundled together)."
   ]
  },
  {
   "cell_type": "markdown",
   "metadata": {},
   "source": [
    "#### 4.2.7 Pass by assignment"
   ]
  },
  {
   "cell_type": "markdown",
   "metadata": {},
   "source": [
    "We say that a variable that’s either a parameter of a function or is defined inside the function is local to that function. This means that when you change your variables’ values inside the function, you do not impact the value of the variables outside. For example:"
   ]
  },
  {
   "cell_type": "code",
   "execution_count": 243,
   "metadata": {
    "collapsed": false
   },
   "outputs": [
    {
     "name": "stdout",
     "output_type": "stream",
     "text": [
      "Writing local.py\n"
     ]
    }
   ],
   "source": [
    "%%writefile local.py\n",
    "\n",
    "def f(a):\n",
    "    a += 1\n",
    "    b = 42\n",
    "    print('inside', a, b)\n",
    "\n",
    "a = 1\n",
    "b = 2\n",
    "print('outside', a, b)\n",
    "\n",
    "f(7)\n",
    "\n",
    "print('outside', a, b)"
   ]
  },
  {
   "cell_type": "markdown",
   "metadata": {},
   "source": [
    "prints:"
   ]
  },
  {
   "cell_type": "code",
   "execution_count": 244,
   "metadata": {
    "collapsed": false
   },
   "outputs": [
    {
     "name": "stdout",
     "output_type": "stream",
     "text": [
      "outside 1 2\n",
      "inside 8 42\n",
      "outside 1 2\n"
     ]
    }
   ],
   "source": [
    "%run local.py"
   ]
  },
  {
   "cell_type": "markdown",
   "metadata": {},
   "source": [
    "If the original b = 2 assignment was missing, then the outside attempts to print b would fail (but the inside one is legal). If you’re still a beginner in programming, you have to keep in mind that even though the function f() was defined first, that does not mean that it was executed first. The actual lines of code are executed in sequence, starting from the first line after the function definition, namely a = 1.\n",
    "\n",
    "The example above applies only to the case of immutable objects (like numbers) being passed in as arguments. If you pass in a mutable object, say a list, then you will be able to impact the external world. For example:"
   ]
  },
  {
   "cell_type": "code",
   "execution_count": 245,
   "metadata": {
    "collapsed": false
   },
   "outputs": [
    {
     "name": "stdout",
     "output_type": "stream",
     "text": [
      "Writing passlist.py\n"
     ]
    }
   ],
   "source": [
    "%%writefile passlist.py\n",
    "\n",
    "def f(xs, ys):\n",
    "    xs[1] += 1\n",
    "    ys = [\"hello\", \"bye\"]\n",
    "    print(\"inside\", xs, ys)\n",
    "\n",
    "us = [7, 14]\n",
    "vs = [-1, -3]\n",
    "\n",
    "print(\"outside\", us, vs)\n",
    "f(us, vs)\n",
    "print(\"outside\", us, vs)"
   ]
  },
  {
   "cell_type": "markdown",
   "metadata": {},
   "source": [
    "prints:"
   ]
  },
  {
   "cell_type": "code",
   "execution_count": 246,
   "metadata": {
    "collapsed": false
   },
   "outputs": [
    {
     "name": "stdout",
     "output_type": "stream",
     "text": [
      "outside [7, 14] [-1, -3]\n",
      "inside [7, 15] ['hello', 'bye']\n",
      "outside [7, 15] [-1, -3]\n"
     ]
    }
   ],
   "source": [
    "%run passlist.py"
   ]
  },
  {
   "cell_type": "markdown",
   "metadata": {},
   "source": [
    "\n",
    "Note that the first list was changed after being manipulated (i.e., the same value was being referred to both inside and outside the function), but the second list was not changed, due to the fact that it was re-assigned inside the function (so a new value was created inside the function, therefore the one that was being referred to outside was not modified). Hopefully our discussion of Python variable names as \"labels\" helped you to see this behavior coming.\n",
    "\n",
    "If you’re familiar with the terminology other languages use (pass-by-value or pass-by-reference), then note that in Python we pass by assignment, which for immutable objects behaves like pass-by-value (you can’t change what’s outside) and for mutable objects behaves like pass-by-reference (you can change what’s outside), if you’re not re-assigning.\n",
    "\n",
    "It’s often a bad idea to change the external world from inside a function: it’s best simply to return a value that contains what you need to communicate to the external world. In some applications (especially in linear algebra) this can become wasteful/inefficient. Given the small scale of the problems we are solving, we will opt for conceptual clarity, always returning values without changing the external world. This is a style inspired by functional programming, which aims at avoiding side effects, i.e. changes that are not visible in the return value. (Unless you’re a purist, input/output is fine).\n",
    "\n",
    "Python also supports nested functions and closures: though we won’t use these, it’s good to know they exist. On a related note, Python contains the keywords global and nonlocal. "
   ]
  },
  {
   "cell_type": "markdown",
   "metadata": {},
   "source": [
    "#### 4.2.8 Positional and keyword arguments"
   ]
  },
  {
   "cell_type": "markdown",
   "metadata": {},
   "source": [
    "We encountered the term positional argument above, when discussing fancy string formatting with format(). This is a more general term that applies to all cases where an argument is passed in and interpreted based on its order in the argument list. For example, for the case of cartesian() which we encountered above:"
   ]
  },
  {
   "cell_type": "code",
   "execution_count": 247,
   "metadata": {
    "collapsed": true
   },
   "outputs": [],
   "source": [
    "from math import cos, sin, pi\n",
    "def cartesian(r, theta):\n",
    "    x = r*cos(theta)\n",
    "    y = r*sin(theta)\n",
    "    return (x, y)"
   ]
  },
  {
   "cell_type": "markdown",
   "metadata": {},
   "source": [
    "a standard way to call this function using positional arguments is:"
   ]
  },
  {
   "cell_type": "code",
   "execution_count": 248,
   "metadata": {
    "collapsed": false
   },
   "outputs": [
    {
     "data": {
      "text/plain": [
       "(0.5000000000000001, 0.8660254037844386)"
      ]
     },
     "execution_count": 248,
     "metadata": {},
     "output_type": "execute_result"
    }
   ],
   "source": [
    "cartesian(1., pi/3)"
   ]
  },
  {
   "cell_type": "markdown",
   "metadata": {},
   "source": [
    "which is similar to what we were doing above. Here Python knows that the first argument (1.) will correspond to the first parameter (r) and the second argument (pi/3) will correspond to the second parameter (theta).\n",
    "\n",
    "There exists another way of calling a function, via what are known as keyword arguments:"
   ]
  },
  {
   "cell_type": "code",
   "execution_count": 249,
   "metadata": {
    "collapsed": false
   },
   "outputs": [
    {
     "data": {
      "text/plain": [
       "(0.5000000000000001, 0.8660254037844386)"
      ]
     },
     "execution_count": 249,
     "metadata": {},
     "output_type": "execute_result"
    }
   ],
   "source": [
    "cartesian(r=1., theta=pi/3)"
   ]
  },
  {
   "cell_type": "markdown",
   "metadata": {},
   "source": [
    "where we explicitly mentioned the name of each variable (along with its value) when calling the function. Obviously, it would be an error to try to use a keyword argument with the wrong name:"
   ]
  },
  {
   "cell_type": "code",
   "execution_count": 250,
   "metadata": {
    "collapsed": false
   },
   "outputs": [
    {
     "ename": "TypeError",
     "evalue": "cartesian() got an unexpected keyword argument 'phi'",
     "output_type": "error",
     "traceback": [
      "\u001b[0;31m---------------------------------------------------------------------------\u001b[0m",
      "\u001b[0;31mTypeError\u001b[0m                                 Traceback (most recent call last)",
      "\u001b[0;32m<ipython-input-250-6edf231ede66>\u001b[0m in \u001b[0;36m<module>\u001b[0;34m()\u001b[0m\n\u001b[0;32m----> 1\u001b[0;31m \u001b[0mcartesian\u001b[0m\u001b[0;34m(\u001b[0m\u001b[0mr\u001b[0m\u001b[0;34m=\u001b[0m\u001b[0;36m1.\u001b[0m\u001b[0;34m,\u001b[0m \u001b[0mphi\u001b[0m\u001b[0;34m=\u001b[0m\u001b[0mpi\u001b[0m\u001b[0;34m/\u001b[0m\u001b[0;36m3\u001b[0m\u001b[0;34m)\u001b[0m\u001b[0;34m\u001b[0m\u001b[0m\n\u001b[0m",
      "\u001b[0;31mTypeError\u001b[0m: cartesian() got an unexpected keyword argument 'phi'"
     ]
    }
   ],
   "source": [
    "cartesian(r=1., phi=pi/3)"
   ]
  },
  {
   "cell_type": "markdown",
   "metadata": {},
   "source": [
    "since the definition of cartesian does not contain a parameter called phi. Keyword arguments allow us to change the order in which we place the arguments when calling:"
   ]
  },
  {
   "cell_type": "code",
   "execution_count": 251,
   "metadata": {
    "collapsed": false
   },
   "outputs": [
    {
     "data": {
      "text/plain": [
       "(0.5000000000000001, 0.8660254037844386)"
      ]
     },
     "execution_count": 251,
     "metadata": {},
     "output_type": "execute_result"
    }
   ],
   "source": [
    "cartesian(theta=pi/3, r=1.)"
   ]
  },
  {
   "cell_type": "markdown",
   "metadata": {},
   "source": [
    "and still have them be interpreted correctly. We can even mix positional and keyword arguments:"
   ]
  },
  {
   "cell_type": "code",
   "execution_count": 252,
   "metadata": {
    "collapsed": false
   },
   "outputs": [
    {
     "data": {
      "text/plain": [
       "(0.5000000000000001, 0.8660254037844386)"
      ]
     },
     "execution_count": 252,
     "metadata": {},
     "output_type": "execute_result"
    }
   ],
   "source": [
    "cartesian(1., theta=pi/3)"
   ]
  },
  {
   "cell_type": "markdown",
   "metadata": {},
   "source": [
    "though we should always ensure that positional arguments are specified before keyword arguments, because doing things the opposite way leads to an error:"
   ]
  },
  {
   "cell_type": "code",
   "execution_count": 253,
   "metadata": {
    "collapsed": false
   },
   "outputs": [
    {
     "ename": "SyntaxError",
     "evalue": "positional argument follows keyword argument (<ipython-input-253-322bc17aebc8>, line 1)",
     "output_type": "error",
     "traceback": [
      "\u001b[0;36m  File \u001b[0;32m\"<ipython-input-253-322bc17aebc8>\"\u001b[0;36m, line \u001b[0;32m1\u001b[0m\n\u001b[0;31m    cartesian(r=1., pi/3)\u001b[0m\n\u001b[0m                   ^\u001b[0m\n\u001b[0;31mSyntaxError\u001b[0m\u001b[0;31m:\u001b[0m positional argument follows keyword argument\n"
     ]
    }
   ],
   "source": [
    "cartesian(r=1., pi/3)"
   ]
  },
  {
   "cell_type": "markdown",
   "metadata": {},
   "source": [
    "#### 4.2.9 Default parameter values"
   ]
  },
  {
   "cell_type": "markdown",
   "metadata": {},
   "source": [
    "A related feature of Python is the ability to provide default parameter values when defining a function. Modifying our sumofints() function from above, we can write:"
   ]
  },
  {
   "cell_type": "code",
   "execution_count": 254,
   "metadata": {
    "collapsed": true
   },
   "outputs": [],
   "source": [
    "def defpar(nmax=100):\n",
    "    val = sum(range(1,nmax+1))\n",
    "    return val"
   ]
  },
  {
   "cell_type": "markdown",
   "metadata": {},
   "source": [
    "This can be called either with or without an argument:"
   ]
  },
  {
   "cell_type": "code",
   "execution_count": 255,
   "metadata": {
    "collapsed": false
   },
   "outputs": [
    {
     "data": {
      "text/plain": [
       "5050"
      ]
     },
     "execution_count": 255,
     "metadata": {},
     "output_type": "execute_result"
    }
   ],
   "source": [
    "defpar()"
   ]
  },
  {
   "cell_type": "code",
   "execution_count": 256,
   "metadata": {
    "collapsed": false
   },
   "outputs": [
    {
     "data": {
      "text/plain": [
       "5050"
      ]
     },
     "execution_count": 256,
     "metadata": {},
     "output_type": "execute_result"
    }
   ],
   "source": [
    "defpar(100)"
   ]
  },
  {
   "cell_type": "code",
   "execution_count": 257,
   "metadata": {
    "collapsed": false
   },
   "outputs": [
    {
     "data": {
      "text/plain": [
       "903"
      ]
     },
     "execution_count": 257,
     "metadata": {},
     "output_type": "execute_result"
    }
   ],
   "source": [
    "defpar(42)"
   ]
  },
  {
   "cell_type": "markdown",
   "metadata": {},
   "source": [
    "In the first case, we are providing no argument, so the default parameter value is used, as is borne out by the result of the second case. Effectively, the argument here is optional. In the third case, we can override the default parameter value and pass in a desired argument. Similarly, we can combine the use of a default parameter value (upon definition) with the use of a keyword argument (when calling):"
   ]
  },
  {
   "cell_type": "code",
   "execution_count": 258,
   "metadata": {
    "collapsed": false
   },
   "outputs": [
    {
     "data": {
      "text/plain": [
       "903"
      ]
     },
     "execution_count": 258,
     "metadata": {},
     "output_type": "execute_result"
    }
   ],
   "source": [
    "defpar(nmax=42)"
   ]
  },
  {
   "cell_type": "markdown",
   "metadata": {},
   "source": [
    "just like we did above.\n",
    "\n",
    "More generally, we can give default parameter values to all or only some of our\n",
    "parameters, for example:"
   ]
  },
  {
   "cell_type": "code",
   "execution_count": 259,
   "metadata": {
    "collapsed": true
   },
   "outputs": [],
   "source": [
    "def cosder(x, h=0.01):\n",
    "    return (cos(x+h) - cos(x))/h"
   ]
  },
  {
   "cell_type": "markdown",
   "metadata": {},
   "source": [
    "This is typically used (in the trenches) to give to one of the parameters that value that is most often used (though if it’s the value that is always used it should be a constant, not a parameter). For example:"
   ]
  },
  {
   "cell_type": "code",
   "execution_count": 260,
   "metadata": {
    "collapsed": false
   },
   "outputs": [
    {
     "data": {
      "text/plain": [
       "-0.004999958333473664"
      ]
     },
     "execution_count": 260,
     "metadata": {},
     "output_type": "execute_result"
    }
   ],
   "source": [
    "cosder(0.)"
   ]
  },
  {
   "cell_type": "code",
   "execution_count": 261,
   "metadata": {
    "collapsed": false
   },
   "outputs": [
    {
     "data": {
      "text/plain": [
       "-0.004999958333473664"
      ]
     },
     "execution_count": 261,
     "metadata": {},
     "output_type": "execute_result"
    }
   ],
   "source": [
    "cosder(0.,0.01)"
   ]
  },
  {
   "cell_type": "code",
   "execution_count": 262,
   "metadata": {
    "collapsed": false
   },
   "outputs": [
    {
     "data": {
      "text/plain": [
       "-0.024994792100674346"
      ]
     },
     "execution_count": 262,
     "metadata": {},
     "output_type": "execute_result"
    }
   ],
   "source": [
    "cosder(0.,0.05)"
   ]
  },
  {
   "cell_type": "markdown",
   "metadata": {},
   "source": [
    "As should be expected, we can have a mixture of positional arguments, keyword arguments, and default parameter values. For example:"
   ]
  },
  {
   "cell_type": "code",
   "execution_count": 263,
   "metadata": {
    "collapsed": false
   },
   "outputs": [
    {
     "data": {
      "text/plain": [
       "-0.024994792100674346"
      ]
     },
     "execution_count": 263,
     "metadata": {},
     "output_type": "execute_result"
    }
   ],
   "source": [
    "cosder(h=0.05, x=0.)"
   ]
  },
  {
   "cell_type": "code",
   "execution_count": 264,
   "metadata": {
    "collapsed": false
   },
   "outputs": [
    {
     "data": {
      "text/plain": [
       "-0.024994792100674346"
      ]
     },
     "execution_count": 264,
     "metadata": {},
     "output_type": "execute_result"
    }
   ],
   "source": [
    "cosder(0., h=0.05)"
   ]
  },
  {
   "cell_type": "code",
   "execution_count": 265,
   "metadata": {
    "collapsed": false
   },
   "outputs": [
    {
     "data": {
      "text/plain": [
       "-0.004999958333473664"
      ]
     },
     "execution_count": 265,
     "metadata": {},
     "output_type": "execute_result"
    }
   ],
   "source": [
    "cosder(x=0.)"
   ]
  },
  {
   "cell_type": "markdown",
   "metadata": {},
   "source": [
    "As a matter of good practice, you should make sure to always use immutable default parameter values. (In other words, you might be confused if you give a list as the default parameter value.) Finally, note that in Python one has the ability to define a function that deals with an indefinite number of positional or keyword arguments. The syntax for this is *args and **kwargs, but a detailed discussion would take us too far afield."
   ]
  },
  {
   "cell_type": "markdown",
   "metadata": {},
   "source": [
    "#### 4.2.10 Pass functions in as arguments"
   ]
  },
  {
   "cell_type": "markdown",
   "metadata": {},
   "source": [
    "One feature that makes the language especially pleasant to work with is that in Python functions are first-class objects. This means that we can pass them in as arguments to other functions. A very simple example that shows this is a modification of the function cosder() we encountered above:"
   ]
  },
  {
   "cell_type": "code",
   "execution_count": 266,
   "metadata": {
    "collapsed": true
   },
   "outputs": [],
   "source": [
    "def der(f, x, h=0.01):\n",
    "    return (f(x+h) - f(x))/h"
   ]
  },
  {
   "cell_type": "markdown",
   "metadata": {},
   "source": [
    "Note how f is a regular parameter, but is used inside the function the same way we use functions (by passing arguments to them inside parentheses). This new function der() is called by passing in as the first argument the function of your choice, e.g.:"
   ]
  },
  {
   "cell_type": "code",
   "execution_count": 267,
   "metadata": {
    "collapsed": false
   },
   "outputs": [
    {
     "data": {
      "text/plain": [
       "-0.004999958333473664"
      ]
     },
     "execution_count": 267,
     "metadata": {},
     "output_type": "execute_result"
    }
   ],
   "source": [
    "from math import sin, cos\n",
    "der(cos, 0., 0.01)"
   ]
  },
  {
   "cell_type": "markdown",
   "metadata": {},
   "source": [
    "or"
   ]
  },
  {
   "cell_type": "code",
   "execution_count": 268,
   "metadata": {
    "collapsed": false
   },
   "outputs": [
    {
     "data": {
      "text/plain": [
       "0.9999833334166665"
      ]
     },
     "execution_count": 268,
     "metadata": {},
     "output_type": "execute_result"
    }
   ],
   "source": [
    "der(sin, 0., 0.01)"
   ]
  },
  {
   "cell_type": "markdown",
   "metadata": {},
   "source": [
    "Observe that we passed in the name of the function, sin or cos, as the first argument and the x as the second argument. This means that we did not pass in cos() or cos(x), as those wouldn’t work."
   ]
  },
  {
   "cell_type": "markdown",
   "metadata": {},
   "source": [
    "Before concluding this subsection, let us make some general comments about the\n",
    "conventions we will employ in the book which this tutorial is accompanying. We mentioned earlier that a function will be interacting with the external world only via its parameters (input) and its return value (output). Thus, we won’t be, e.g., modifying a list that was passed in to our function as an argument. A related question is whether or not we should access variables from inside a function that were defined outside it (and were not passed in as arguments). This is sometimes tempting: especially if you know you are not going to change that variable’s value inside the function, what’s the harm in simply accessing it? The motivation for this is a wish to keep the number of parameters small: instead of explicitly naming as parameters all the variables you’re going to need inside the function, you simply access them when the need arises. Unfortunately, this approach can lead to headaches down the line: it’s much easier to reason about what a function does when you can clearly see what input it takes in, what it does to the input, and what it communicates to the external world (through the return statement).\n",
    "\n",
    "This is the approach we’ll employ in what follows, with the partial exception that we allow the calling of other functions from within our function, without feeling the need to pass these functions in as arguments. This will depend on the specific situation we’re faced with each time. For example, our function der(), which takes in as an argument the function to be differentiated, is more flexible (and therefore better) than cosder(), which is hard-wired to handle cosines exclusively. On the other hand, when we defined our function mag() we didn’t think twice about having it call the function sqrt(), without passing the latter in as an argument (which would help you if, e.g., you wanted to pass in your very own cruder-but-faster implementation of the square root). As a rule of thumb, you should pass a function in as an argument if you foresee that you might be passing in another function in its place in the future (as in the case of der()). If you basically expect to always keep carrying out the same task (as in the case of mag()), there’s no need to add yet another parameter to your function definition."
   ]
  },
  {
   "cell_type": "markdown",
   "metadata": {},
   "source": [
    "#### 4.2.11 Functions as default parameter values"
   ]
  },
  {
   "cell_type": "markdown",
   "metadata": {},
   "source": [
    "In the following example we see how to combine passing a function in as an argument with our earlier examples on default parameter values:"
   ]
  },
  {
   "cell_type": "code",
   "execution_count": 269,
   "metadata": {
    "collapsed": false
   },
   "outputs": [
    {
     "name": "stdout",
     "output_type": "stream",
     "text": [
      "Writing funcdef.py\n"
     ]
    }
   ],
   "source": [
    "%%writefile funcdef.py\n",
    "\n",
    "from math import exp\n",
    "  \n",
    "def f(x):\n",
    "    return exp(-x)\n",
    "\n",
    "def g(x):\n",
    "    return exp(-x**2)\n",
    "\n",
    "def transf(x,fin=f):\n",
    "    return fin(3*x)/x\n",
    "\n",
    "x = 0.5\n",
    "print(\"g\")\n",
    "print(g(3*x)/x)\n",
    "print(transf(x,g))\n",
    "print(\"f\")\n",
    "print(f(3*x)/x)\n",
    "print(transf(x,f))\n",
    "print(transf(x))"
   ]
  },
  {
   "cell_type": "markdown",
   "metadata": {},
   "source": [
    "Most of this code should be straightforward to read: we define a couple of example functions, f() and g(), as well as a new function transf() that is designed to carry out a mathematical transformation. The need to carry out such a transformation appears commonly when integrating analytically (and changing variables). The only new feature of this code is that it uses f as the default value for the parameter fin. This means that you can call transf() with either two arguments (a number and a function) or only one argument (a number). This is borne out by the output of running this code:"
   ]
  },
  {
   "cell_type": "code",
   "execution_count": 270,
   "metadata": {
    "collapsed": false
   },
   "outputs": [
    {
     "name": "stdout",
     "output_type": "stream",
     "text": [
      "g\n",
      "0.21079844912372867\n",
      "0.21079844912372867\n",
      "f\n",
      "0.44626032029685964\n",
      "0.44626032029685964\n",
      "0.44626032029685964\n"
     ]
    }
   ],
   "source": [
    "%run funcdef.py"
   ]
  },
  {
   "cell_type": "markdown",
   "metadata": {},
   "source": [
    "As this clearly shows, a manipulation such as g(3\\*x)/x in the main code is fully equivalent to calling our new function, transf(x,g). You can imagine that as our transformations get more involved it becomes wiser to define a new function like we did here (for a trivial case). What’s even more exciting is that the fin=f in the definition of transf() allows us to call transf() with only one argument (a number). This is incredibly useful if you want to use your transformed function as part of another piece of code, that expects your interface to be “I give you a number and you return a number”.\n",
    "\n",
    "At this point, it’s worth bringing your attention to another idiom which you may encounter in the wild: there was no need to use a new name (i.e., fin) for the parameter of transf() that is a function. In other words, that could have been called simply... f, leading to a definition that looks like this:"
   ]
  },
  {
   "cell_type": "code",
   "execution_count": 271,
   "metadata": {
    "collapsed": true
   },
   "outputs": [],
   "source": [
    "def transf(x,f=f):\n",
    "    return f(3*x)/x"
   ]
  },
  {
   "cell_type": "markdown",
   "metadata": {},
   "source": [
    "This is perfectly legal code: the first f in f=f (and inside the body of transf()) is a function-specific variable name, whereas the second f in f=f is the default parameter value, which in this case refers to the function f() that is defined elsewhere in the same file."
   ]
  },
  {
   "cell_type": "markdown",
   "metadata": {},
   "source": [
    "#### 4.2.12 Apply a function to list elements"
   ]
  },
  {
   "cell_type": "markdown",
   "metadata": {},
   "source": [
    "We saw earlier that the map() function can apply a function to each element of a \n",
    "given list. At the time, we saw this in the context of a built-in function, specifically log(). Now that we’ve seen how to create functions of our own, it stands to reason that we should attempt to use map() to apply our own functions to the elements of a list. This works as follows:"
   ]
  },
  {
   "cell_type": "code",
   "execution_count": 272,
   "metadata": {
    "collapsed": true
   },
   "outputs": [],
   "source": [
    "def double(x):\n",
    "    return 2*x"
   ]
  },
  {
   "cell_type": "code",
   "execution_count": 273,
   "metadata": {
    "collapsed": false
   },
   "outputs": [
    {
     "data": {
      "text/plain": [
       "[4.2, 6.8, 13.0]"
      ]
     },
     "execution_count": 273,
     "metadata": {},
     "output_type": "execute_result"
    }
   ],
   "source": [
    "vals = [2.1, 3.4, 6.5]\n",
    "mapvals = map(double,vals)\n",
    "list(mapvals)"
   ]
  },
  {
   "cell_type": "markdown",
   "metadata": {},
   "source": [
    "Note how we used the built-in list() to produce a list, starting from the output of map(). Obviously, this becomes even more interesting when you wish to apply more complicated transformations to the elements of the list.\n",
    "\n",
    "Note that the code above is a replacement for the following hand-rolled code:"
   ]
  },
  {
   "cell_type": "code",
   "execution_count": 274,
   "metadata": {
    "collapsed": false
   },
   "outputs": [
    {
     "name": "stdout",
     "output_type": "stream",
     "text": [
      "[4.2, 6.8, 13.0]\n"
     ]
    }
   ],
   "source": [
    "vals = [2.1, 3.4, 6.5]\n",
    "newvals = []\n",
    "for x in vals:\n",
    "    newvals.append(2*x)\n",
    "print(newvals)"
   ]
  },
  {
   "cell_type": "markdown",
   "metadata": {},
   "source": [
    "which is more cumbersome.\n",
    "\n",
    "There’s another task that crops up fairly often: that of “pruning” a given list\n",
    "according to a specific criterion. For example, we might wish to start from a given list and produce a list that contains only those elements that are greater than 2. We would do this using the filter() built-in function:"
   ]
  },
  {
   "cell_type": "code",
   "execution_count": 275,
   "metadata": {
    "collapsed": false
   },
   "outputs": [
    {
     "data": {
      "text/plain": [
       "[3.14, 7.8, 9, 14.6]"
      ]
     },
     "execution_count": 275,
     "metadata": {},
     "output_type": "execute_result"
    }
   ],
   "source": [
    "def checkgt2(x):\n",
    "    if x>2:\n",
    "        return True\n",
    "    else:\n",
    "        return False\n",
    "\n",
    "vals = [-1, 3.14, -2.7, -22, 7.8, 9, 14.6]\n",
    "filvals = filter(checkgt2,vals)\n",
    "list(filvals)"
   ]
  },
  {
   "cell_type": "markdown",
   "metadata": {},
   "source": [
    "As the result shows, filter() applies the checkgt2() function to all elements in vals and keeps only those that pass the check.\n",
    "Again, we observe that the code above is a replacement for the following hand-rolled code:"
   ]
  },
  {
   "cell_type": "code",
   "execution_count": 276,
   "metadata": {
    "collapsed": false
   },
   "outputs": [
    {
     "name": "stdout",
     "output_type": "stream",
     "text": [
      "[3.14, 7.8, 9, 14.6]\n"
     ]
    }
   ],
   "source": [
    "vals = [-1, 3.14, -2.7, -22, 7.8, 9, 14.6]\n",
    "filvals = []\n",
    "for x in vals:\n",
    "    if x>2:\n",
    "        filvals.append(x)\n",
    "print(filvals)"
   ]
  },
  {
   "cell_type": "markdown",
   "metadata": {},
   "source": [
    "which is slightly more cumbersome and certainly not as re-usable in other scenarios. The above two cases (of map() and filter()) both appear to necessitate throwaway functions (that may not be necessary in the rest of the code). This is one instance where function one-liners that use the lambda syntax turn out to be helpful, but we\n",
    "won’t really be pursuing that avenue, since we’ll be introducing an alternative below."
   ]
  },
  {
   "cell_type": "markdown",
   "metadata": {},
   "source": [
    "### 4.3 List comprehensions"
   ]
  },
  {
   "cell_type": "markdown",
   "metadata": {},
   "source": [
    "List comprehensions (often shortened to listcomps) provide us with a Pythonic way of setting up lists very easily. Here’s a simple example:"
   ]
  },
  {
   "cell_type": "code",
   "execution_count": 277,
   "metadata": {
    "collapsed": false
   },
   "outputs": [
    {
     "name": "stdout",
     "output_type": "stream",
     "text": [
      "[0.0, 0.01, 0.02, 0.03, 0.04, 0.05, 0.06, 0.07, 0.08, 0.09]\n"
     ]
    }
   ],
   "source": [
    "xs = [0.01*i for i in range(10)]\n",
    "print(xs)"
   ]
  },
  {
   "cell_type": "markdown",
   "metadata": {},
   "source": [
    "This replaces the following hand-rolled loop, populating a list one element at a time:"
   ]
  },
  {
   "cell_type": "code",
   "execution_count": 278,
   "metadata": {
    "collapsed": false
   },
   "outputs": [
    {
     "name": "stdout",
     "output_type": "stream",
     "text": [
      "[0.0, 0.01, 0.02, 0.03, 0.04, 0.05, 0.06, 0.07, 0.08, 0.09]\n"
     ]
    }
   ],
   "source": [
    "xs = []\n",
    "for i in range(10):\n",
    "    xs.append(0.01*i)\n",
    "print(xs)"
   ]
  },
  {
   "cell_type": "markdown",
   "metadata": {},
   "source": [
    "It’s easy to see that the code with the list comprehension is much more compact (1 line vs 3 lines). Note that when using a list comprehension the loop that steps through the elements of some other sequence (in this case, the result of stepping through range()) is placed inside the list we are creating! This syntax is a bit unusual, but well worth studying.\n",
    "\n",
    "List comprehensions can function as replacements of map() and filter() functionality. As a result, they can replace the hand-rolled versions of the code, as well, without the need of introducing a new function (or even a lambda). They are very convenient and strongly recommended.\n",
    "For example, here’s how we would rewrite our map(double,vals) example from above (and the corresponding hand-rolled version):"
   ]
  },
  {
   "cell_type": "code",
   "execution_count": 279,
   "metadata": {
    "collapsed": false
   },
   "outputs": [
    {
     "name": "stdout",
     "output_type": "stream",
     "text": [
      "[4.2, 6.8, 13.0]\n"
     ]
    }
   ],
   "source": [
    "vals = [2.1, 3.4, 6.5]\n",
    "newvals = [2*x for x in vals]\n",
    "print(newvals)"
   ]
  },
  {
   "cell_type": "markdown",
   "metadata": {},
   "source": [
    "Notice that we didn’t need to create a function to do this. Again, the loop is placed inside the list brackets.\n",
    "Similarly, here’s how we would rewrite our filter(checkgt2,vals) example from above (and the corresponding hand-rolled version):"
   ]
  },
  {
   "cell_type": "code",
   "execution_count": 280,
   "metadata": {
    "collapsed": false
   },
   "outputs": [
    {
     "name": "stdout",
     "output_type": "stream",
     "text": [
      "[3.14, 7.8, 9, 14.6]\n"
     ]
    }
   ],
   "source": [
    "vals = [-1, 3.14, -2.7, -22, 7.8, 9, 14.6]\n",
    "newvals = [x for x in vals if x>2]\n",
    "print(newvals)"
   ]
  },
  {
   "cell_type": "markdown",
   "metadata": {},
   "source": [
    "where, once again, we did not need to introduce a function. The new feature here is that, in addition to the loop inside the list we are creating, there’s also a conditional expression inside.\n",
    "It’s easy to see that list comprehensions are powerful, and could be even used to accomplish both tasks at the same time (double an element only if it is greater than 2):"
   ]
  },
  {
   "cell_type": "code",
   "execution_count": 281,
   "metadata": {
    "collapsed": false
   },
   "outputs": [
    {
     "name": "stdout",
     "output_type": "stream",
     "text": [
      "[6.28, 15.6, 18, 29.2]\n"
     ]
    }
   ],
   "source": [
    "vals = [-1, 3.14, -2.7, -22, 7.8, 9, 14.6]\n",
    "newvals = [2*x for x in vals if x>2]\n",
    "print(newvals)"
   ]
  },
  {
   "cell_type": "markdown",
   "metadata": {},
   "source": [
    "where, as above, there was no need for a new function."
   ]
  },
  {
   "cell_type": "markdown",
   "metadata": {},
   "source": [
    "## 5 File input and output"
   ]
  },
  {
   "cell_type": "markdown",
   "metadata": {},
   "source": [
    "Early in this tutorial we saw how to implement input from and output to the screen, using input() and print(). We now turn to the more general problem of dealing not with the screen but with files.The one thing to remember is that when reading from or writing to files, everything is interpreted as a string. We provide more details below, in each case starting with a manual version (which is simpler) and then turning to an automatic version (containing a loop)."
   ]
  },
  {
   "cell_type": "markdown",
   "metadata": {},
   "source": [
    "### 5.1 Reading from a file"
   ]
  },
  {
   "cell_type": "markdown",
   "metadata": {},
   "source": [
    "The standard pattern we will follow here is: first we open the file for reading, then we read, then we close the file.\n",
    "\n",
    "Before carrying out any of the steps, we inspect the file that we will be reading in Python:"
   ]
  },
  {
   "cell_type": "code",
   "execution_count": 282,
   "metadata": {
    "collapsed": false
   },
   "outputs": [
    {
     "name": "stdout",
     "output_type": "stream",
     "text": [
      "Writing compl.in\n"
     ]
    }
   ],
   "source": [
    "%%writefile compl.in\n",
    "x y\n",
    "0.6 -6.2 \n",
    "1.6 9.3 \n",
    "1.8 16."
   ]
  },
  {
   "cell_type": "markdown",
   "metadata": {},
   "source": [
    "Note that the first line contains characters, while the lines after that contain numbers. This is a very common situation in the real world (where the first line often explains what the columns of numbers stand for).\n",
    "\n",
    "We will first read in this file interactively, line by line, so we get a feel for things:"
   ]
  },
  {
   "cell_type": "code",
   "execution_count": 283,
   "metadata": {
    "collapsed": false
   },
   "outputs": [
    {
     "data": {
      "text/plain": [
       "'x y\\n'"
      ]
     },
     "execution_count": 283,
     "metadata": {},
     "output_type": "execute_result"
    }
   ],
   "source": [
    "f = open(\"compl.in\",\"r\")\n",
    "f.readline()"
   ]
  },
  {
   "cell_type": "code",
   "execution_count": 284,
   "metadata": {
    "collapsed": false
   },
   "outputs": [
    {
     "data": {
      "text/plain": [
       "'0.6 -6.2 \\n'"
      ]
     },
     "execution_count": 284,
     "metadata": {},
     "output_type": "execute_result"
    }
   ],
   "source": [
    "f.readline()"
   ]
  },
  {
   "cell_type": "code",
   "execution_count": 285,
   "metadata": {
    "collapsed": false
   },
   "outputs": [
    {
     "data": {
      "text/plain": [
       "['1.6', '9.3']"
      ]
     },
     "execution_count": 285,
     "metadata": {},
     "output_type": "execute_result"
    }
   ],
   "source": [
    "line = f.readline()\n",
    "line.split()"
   ]
  },
  {
   "cell_type": "code",
   "execution_count": 286,
   "metadata": {
    "collapsed": false
   },
   "outputs": [
    {
     "data": {
      "text/plain": [
       "'1.8 16.'"
      ]
     },
     "execution_count": 286,
     "metadata": {},
     "output_type": "execute_result"
    }
   ],
   "source": [
    "f.readline()"
   ]
  },
  {
   "cell_type": "code",
   "execution_count": 287,
   "metadata": {
    "collapsed": false
   },
   "outputs": [
    {
     "data": {
      "text/plain": [
       "''"
      ]
     },
     "execution_count": 287,
     "metadata": {},
     "output_type": "execute_result"
    }
   ],
   "source": [
    "f.readline()"
   ]
  },
  {
   "cell_type": "code",
   "execution_count": 288,
   "metadata": {
    "collapsed": true
   },
   "outputs": [],
   "source": [
    "f.close()"
   ]
  },
  {
   "cell_type": "markdown",
   "metadata": {},
   "source": [
    "The first line shows us how we open a file in Python: we use the open() built-in function, passing in two strings separated by commas (the first string is the name of the file we wish to open and the second string is \"r\" for reading). Intriguingly, we can assign the result of open() to a regular variable (which we here call f): this is consistent with the Python philosophy, according to which lists, functions, files can all be treated as regular objects.\n",
    "        \n",
    "We then use f.readline() to read one line at a time, noticing that each line string ends with a newline character \\n (which makes sense, since each line starts on a new... line). The result of each f.readline() is a string. For one of the lines we explicitly save the result of f.readline() to a variable and then use split() on that string variable, seeing that the output is a list of strings (the x and y values for that line, but in string format – with the newline character \\n being discarded, just like the spaces were). When we’ve reached the end of the file, f.readline() returns an empty string. We then proceed to close the file using the close() built-in function.\n",
    "\n",
    "This was fine, but in real applications we don’t read files “by hand”, i.e., interactively. On the other hand, we often don’t really know beforehand how many lines are in a given file. Python has an idiomatic way of reading a file one line at a time (without needing to know how many lines there are in total in the file). This is the for line in f: idiom. Notice how smooth this is: files can be iterated with the standard for syntax applied to a file object. This underlines the versatility of Python loops (which apply to lists, tuples, dictionaries, and files among many other things).\n",
    "\n",
    "What we are really interested in doing is reading in the values in the file and then printing them out to the screen with a catch: while we will be leaving the first column of numbers untouched, we will be applying a function to the numbers in the second column. We can accomplish this with the following code:"
   ]
  },
  {
   "cell_type": "code",
   "execution_count": 289,
   "metadata": {
    "collapsed": false
   },
   "outputs": [
    {
     "name": "stdout",
     "output_type": "stream",
     "text": [
      "Writing fileread.py\n"
     ]
    }
   ],
   "source": [
    "%%writefile fileread.py\n",
    "\n",
    "def myf(x):\n",
    "    return 3*abs(x)**1.7\n",
    "\n",
    "f = open(\"compl.in\",\"r\")\n",
    "\n",
    "line = f.readline()\n",
    "\n",
    "for line in f:\n",
    "    linelist = line.split()\n",
    "    xstr = linelist[0]\n",
    "    ystr = linelist[1]\n",
    "    x = float(xstr)\n",
    "    y = float(ystr)\n",
    "    print(x, myf(y))\n",
    "\n",
    "f.close()"
   ]
  },
  {
   "cell_type": "markdown",
   "metadata": {},
   "source": [
    "First, we define the function we’ll apply to our y values. Then we open the file and read one line, not doing anything with it: we know that in this specific case the first line contains the x y labels, so we discard those. We then use a Python loop that gives us one line string at a time (we call this line but we could have called it something else). Inside the loop, we use split() to split the line into a list containing the numbers in string format. As we noted above, everything having to do with Python file reading and writing will be in string format and it is our responsibility to convert to other types if we need to (in our case we need to apply the function myf() to some floats, not to strings). Thus, we index into that list: the 0th element each time holds the x value while the next (and last) element holds the y value. We then convert those to floats, apply the function we want, and print out (to the screen) a new table of results. At the end, we close the file.\n",
    "\n",
    "It’s interesting to note that in this example we used several intermediate variables (like linelist, xstr, and x) to clarify what’s going on. Some programmers might like to shorten the whole loop down to:"
   ]
  },
  {
   "cell_type": "code",
   "execution_count": 290,
   "metadata": {
    "collapsed": false
   },
   "outputs": [
    {
     "name": "stdout",
     "output_type": "stream",
     "text": [
      "0.6 66.70941418426855\n",
      "1.6 132.90528995315842\n",
      "1.8 334.2914163057116\n"
     ]
    }
   ],
   "source": [
    "def myf(x):\n",
    "    return 3*abs(x)**1.7\n",
    "f = open(\"compl.in\",\"r\")\n",
    "line = f.readline()\n",
    "for line in f:\n",
    "    print(float(line.split()[0]), myf(float(line.split()[1])))\n",
    "f.close()"
   ]
  },
  {
   "cell_type": "markdown",
   "metadata": {},
   "source": [
    "but this is certainly more difficult to read (for humans). An intermediate solution (neither too many throwaway variables nor too much on one line) is probably optimal here.\n",
    "\n",
    "\n",
    "Note that in a scenario where you have only numbers in the input file (no characters, say, on the first line) you can use for line in f: to read and process every single line in the file (i.e., you wouldn’t need the first f.readline()).\n",
    "\n",
    "Note, finally, that there also exists a less elegant way of reading in (and saving to a variable) the entire file at one go, using f.readlines() (notice the plural):"
   ]
  },
  {
   "cell_type": "code",
   "execution_count": 291,
   "metadata": {
    "collapsed": false
   },
   "outputs": [
    {
     "name": "stdout",
     "output_type": "stream",
     "text": [
      "['x y\\n', '0.6 -6.2 \\n', '1.6 9.3 \\n', '1.8 16.']\n"
     ]
    }
   ],
   "source": [
    "f = open(\"compl.in\",\"r\")\n",
    "content = f.readlines()\n",
    "print(content)\n",
    "f.close()"
   ]
  },
  {
   "cell_type": "markdown",
   "metadata": {},
   "source": [
    "This places the entire contents of the file into a list of strings. You should generally avoid this approach: the file may be very large, in which case reading it all in first is a wasteful thing to do. It’s much better to process one line at a time, as needed. "
   ]
  },
  {
   "cell_type": "markdown",
   "metadata": {},
   "source": [
    "### 5.2 Writing to a file"
   ]
  },
  {
   "cell_type": "markdown",
   "metadata": {},
   "source": [
    "The standard pattern we will follow here is: first we open the file for writing, then we write, then we close the file.\n",
    "We carry each one of these steps in turn:"
   ]
  },
  {
   "cell_type": "code",
   "execution_count": 292,
   "metadata": {
    "collapsed": true
   },
   "outputs": [],
   "source": [
    "f = open(\"dummy.out\",\"w\")\n",
    "f.write(\"This is my first sentence.\\n\")\n",
    "f.write(\"And this is my second sentence.\\n\")\n",
    "line = \"Yes, I started the previous sentence with ‘And’.\\n\" \n",
    "f.write(line)\n",
    "f.close()"
   ]
  },
  {
   "cell_type": "markdown",
   "metadata": {
    "collapsed": true
   },
   "source": [
    "Note, first, that since we want to write to this file, we are opening it with \"w\". We then used the write() method of our file object f to write one string at a time. Notice that we needed to include newline characters explicitly at the end of each string. Had we not done this, then the different strings would have all been written on the same line. In our example we also took the opportunity to store one of the strings in a variable called line, only to highlight that f.write() takes in a string as an argument. It is important to appreciate this fact: something like f.write(x) will give an error, unless x is a string.\n",
    "\n",
    "A pattern that you will encounter repeatedly is to write a table of x and y values into a file (with a space between the two values in each line). Assume your x values are already stored in a list xs. Then you apply some complicated function to them to produce your y values. You then need to produce a string representing the line, which will consist of x converted to a string, then a space, then y converted to a string, and then a newline character. By looping through all the elements in xs you will write out all the needed lines to the file. All that’s left is to close the file."
   ]
  },
  {
   "cell_type": "code",
   "execution_count": 293,
   "metadata": {
    "collapsed": false
   },
   "outputs": [
    {
     "name": "stdout",
     "output_type": "stream",
     "text": [
      "Writing filewrite.py\n"
     ]
    }
   ],
   "source": [
    "%%writefile filewrite.py\n",
    "\n",
    "def complicated(x):\n",
    "    return 4*x**3 - 7\n",
    "\n",
    "xs = [0.2*i for i in range(10)]\n",
    "\n",
    "f = open(\"compl.out\",\"w\")\n",
    "\n",
    "for x in xs:\n",
    "    y = complicated(x)\n",
    "    line = str(x) + \" \" + str(y) + \"\\n\"\n",
    "    f.write(line)\n",
    "\n",
    "f.close()"
   ]
  },
  {
   "cell_type": "markdown",
   "metadata": {},
   "source": [
    "Note how we used +’s to concatenate the strings, building up one long string that makes up a line consisting of two space-separated values and a newline character. This produces the following file:"
   ]
  },
  {
   "cell_type": "code",
   "execution_count": 294,
   "metadata": {
    "collapsed": true
   },
   "outputs": [],
   "source": [
    "%run filewrite.py"
   ]
  },
  {
   "cell_type": "code",
   "execution_count": 295,
   "metadata": {
    "collapsed": false
   },
   "outputs": [
    {
     "ename": "SyntaxError",
     "evalue": "invalid syntax (<ipython-input-295-76a8b81e90b8>, line 9)",
     "output_type": "error",
     "traceback": [
      "\u001b[0;36m  File \u001b[0;32m\"<ipython-input-295-76a8b81e90b8>\"\u001b[0;36m, line \u001b[0;32m9\u001b[0m\n\u001b[0;31m    1.4000000000000001 3.9760000000000026\u001b[0m\n\u001b[0m                                        ^\u001b[0m\n\u001b[0;31mSyntaxError\u001b[0m\u001b[0;31m:\u001b[0m invalid syntax\n"
     ]
    }
   ],
   "source": [
    "%load compl.out\n",
    "0.0 -7.0\n",
    "0.2 -6.968\n",
    "0.4 -6.744\n",
    "0.6000000000000001 -6.135999999999999\n",
    "0.8 -4.952\n",
    "1.0 -3.0\n",
    "1.2000000000000002 -0.08799999999999653\n",
    "1.4000000000000001 3.9760000000000026\n",
    "1.6 9.384000000000004\n",
    "1.8 16.328000000000003\n"
   ]
  },
  {
   "cell_type": "markdown",
   "metadata": {},
   "source": [
    "The attentive reader will have realized that the string assignment:\n",
    "\n",
    "line = str(x) + \" \" + str(y) + \"\\n\"\n",
    "\n",
    "could have been replaced by the alternative syntax: \n",
    "    \n",
    "line = \"{0} {1}\\n\".format(x, y)\n",
    "\n",
    "employing the format() method. Remember: there’s no way around needing to explicitly include the newline character in the output string.\n",
    "\n",
    "In summary, we observe that whether doing file input or output, we had to call a built-in function: when reading a file we used float() to go from string to float, whereas when writing to a file we used str() to go from float to string.\n",
    "\n",
    "You should keep in mind that there are other options beyond \"r\" and \"w\" when opening files, but we won’t be using them. Furthermore, we observe that here (as elsewhere in Python) we could have used single quotes instead, ‘r’ and ‘w’.\n",
    "\n",
    "It’s worth noting that a (more fool-proof) way of opening/closing a file for reading or writing involves the Python with statement. This has the advantage of closing the file properly even if something goes wrong while processing the file (in technical jargon, even if “an exception is raised”). For pedagogical clarity (i.e., in order to avoid a further level of indentation) we avoided the use of with above, but it’s recommended you employ it in your own work."
   ]
  },
  {
   "cell_type": "markdown",
   "metadata": {},
   "source": [
    "## 6 Python 3 vs Python 2"
   ]
  },
  {
   "cell_type": "markdown",
   "metadata": {},
   "source": [
    "In this tutorial and in the accompanying book, we’ve been using Python 3: this is the latest version, to which new features are still being added. There are several differences between the two versions, but for our purposes the main points are that in Python 2:\n",
    "\n",
    "- we say print x or print x,y, i.e., print is a statement. In Python 3, the syntax is print(x) or print(x,y), i.e., print() is a function.\n",
    "- something like x = input(\"Enter the value of x:\") will lead to a type for x that depends on what the user types in. In Python 3, x is always a string.\n",
    "- something like x = 3/2 will lead to 1. If you wanted 1.5 then you should have said x=3/2. or x=3/float(2). In Python 3, x = 3/2 leads to 1.5. In both Python 2 and Python 3, x = 3//2 gives 1.\n",
    "- something like x = range(5) returns a list in Python 2. In Python 3, it leads to a range object, which produces numbers on demand, not all at once. If you absolutely need a list, you could simply say a = list(range(10))."
   ]
  },
  {
   "cell_type": "markdown",
   "metadata": {},
   "source": [
    "Of these, the most important two differences for us are: 1) print() being a function, and 2) division of integers giving a float. You can explicitly bring those Python 3 features into Python 2 code with the appropriate imports, as we now explain. \n",
    "\n",
    "The next few lines are the only ones where we assume that you are working in Python 2. In short, placing the following two lines at the start of your program allows your Python 2 code to be Python 3-compatible. \n",
    "\n",
    "from \\_\\_future\\_\\_ import print\\_function\n",
    "\n",
    "from \\_\\_future\\_\\_ import division\n",
    "\n",
    "In this tutorial and in the book which it accompanies, all our Python codes and results correspond to Python 3. Python 2 is actually no longer supported as of January 1st, 2020. If, for some reason, you need to use Python 2 and would still like to follow along, then the above two import statements should be all you need for the core Python material."
   ]
  },
  {
   "cell_type": "markdown",
   "metadata": {},
   "source": [
    "## 7 Problems"
   ]
  },
  {
   "cell_type": "markdown",
   "metadata": {},
   "source": [
    "### 7.1\n",
    "\n",
    "Modify the folllowing program:"
   ]
  },
  {
   "cell_type": "code",
   "execution_count": 296,
   "metadata": {
    "collapsed": false
   },
   "outputs": [
    {
     "name": "stdout",
     "output_type": "stream",
     "text": [
      "1\n",
      "2\n",
      "3\n",
      "5\n",
      "8\n",
      "13\n",
      "21\n",
      "34\n",
      "55\n",
      "89\n",
      "144\n",
      "233\n",
      "377\n",
      "610\n",
      "987\n"
     ]
    }
   ],
   "source": [
    "f1,f2 = 1,1\n",
    "while f2<1000:\n",
    "    print(f2)\n",
    "    f1,f2 = f2,f1+f2"
   ]
  },
  {
   "cell_type": "markdown",
   "metadata": {},
   "source": [
    "so that it now prints out not the numbers up to 1000, but the first 100 such numbers."
   ]
  },
  {
   "cell_type": "markdown",
   "metadata": {},
   "source": [
    "### 7.2\n",
    "\n",
    "You should use a Python dictionary wordtocount to accomplish the following tasks. First type in (or paste in) the folllowing assignment:\n",
    "\n",
    "sentence = \"this is a rambling sentence that simply goes on and on and on and just simply will not stop that is just the way things are\"\n",
    "\n",
    "Now:\n",
    "- Create and a print out a table of word populations. That means that you should show in the first column a word from this sentence and in the second column the number of times that specific word appears in the sentence. In your printout each word should appear only once. Hint: you might find it helpful to employ the get() method of Python dictionaries: wordtocount.get(mykey,0) returns wordtocount[mykey] if mykey is found and 0 otherwise.\n",
    "\n",
    "- Now print out lines saying how many words in sentence appear once, how many twice, and how many thrice. (You should have three lines of output, one for each value of the population). Hint: we’re not asking you to check which words appear, e.g., thrice, only to print out how many words appear thrice.\n",
    "\n",
    "- Check that you haven’t left out any words (or overcounted), namely, make sure that the total number of words in sentence (whether distinct or not) is equal to the number of words that appear once added to two times the number of words that appear twice, and three times the number of words that appear thrice."
   ]
  },
  {
   "cell_type": "markdown",
   "metadata": {
    "collapsed": true
   },
   "source": [
    "### 7.3\n",
    "\n",
    "Write a Python program to sum up the integers 1, 3, 5, .... 999."
   ]
  },
  {
   "cell_type": "markdown",
   "metadata": {},
   "source": [
    "### 7.4\n",
    "\n",
    "Write a Python program to sum up the integers 1, 3, 5, .... up to a large odd number that the user provides."
   ]
  },
  {
   "cell_type": "markdown",
   "metadata": {},
   "source": [
    "### 7.5\n",
    "Write a Python program to sum up the integers 1, 3, 5, .... up to each large odd number that the user provides. You should define and call a function in your code. The program should repeat over and over (with the user inputting a large odd number each time) and should terminate when the user inputs an even number."
   ]
  },
  {
   "cell_type": "markdown",
   "metadata": {},
   "source": [
    "### 7.6\n",
    "\n",
    "Rewrite the previous program so that it reads several odd numbers (i.e., at least 4-5 of them) from a file odd\\_in.dat (one number per line) and then writes out to a file odd\\_out.dat as follows: each line contains a counter (1, 2, and so on), next to it the odd number that was input, and next to that the sum 1, 3, 5, .... up to to the odd number that was input.\n",
    "\n",
    "In addition to your code, make sure to also show the specific odd\\_in.dat you read from and the specific odd\\_out.dat you produced."
   ]
  },
  {
   "cell_type": "markdown",
   "metadata": {},
   "source": [
    "### 7.7\n",
    "\n",
    "Write a Python program that reads in from a file called dummy1.dat which has the following content:\n",
    "\n",
    "hello world 21.2 12.1\n",
    "\n",
    "how do 1.7 123.5\n",
    "\n",
    "you obfuscate 0.004 19.5\n",
    "  \n",
    "(but your code should also work if it contained many more similar lines). Now write out to a file dummy2.dat as follows: for each line in the input file you should print out a corresponding line containing a counter (1, 2, and so on), next to it the second number from the input line, and next to that the exponential of that number. After that, the program should write out to dummy2.dat the sum of all the numbers contained in the input file dummy1.dat (regardless of whether they were first or second on a given line)."
   ]
  },
  {
   "cell_type": "markdown",
   "metadata": {},
   "source": [
    "### 7.8\n",
    "\n",
    "Reading a table of space-separated x & y values is a sufficiently common task that it makes sense to create a function to carry it out in a consistent way each time.\n",
    "\n",
    "- Create a function called readtable() that takes in only a string containing the file name and returns two lists of numbers, one for the xs and one for the ys. Feel free to re-use portions of fileread.py when writing your new function.\n",
    "\n",
    "- Now write a new function that carries out the same task but uses a list comprehension to read the file (once). Just like the previous one, this function should return two lists, one for the xs and one for the ys."
   ]
  },
  {
   "cell_type": "markdown",
   "metadata": {},
   "source": [
    "### 7.9\n",
    "\n",
    "This problems deals with the function $f(x) = e^{−x^4}$. Print out a table of x and f(x) values, where the x goes from -1 to +1 in steps of 0.1. In your output, the x values should have only one digit after the decimal point, whereas the f(x) values should only have 5 digits after the decimal point. \n",
    "\n",
    "Note: Your implementation should employ a user-defined function, list comprehensions, zip(), as well as fancy string formatting."
   ]
  }
 ],
 "metadata": {
  "anaconda-cloud": {},
  "kernelspec": {
   "display_name": "Python [default]",
   "language": "python",
   "name": "python3"
  },
  "language_info": {
   "codemirror_mode": {
    "name": "ipython",
    "version": 3
   },
   "file_extension": ".py",
   "mimetype": "text/x-python",
   "name": "python",
   "nbconvert_exporter": "python",
   "pygments_lexer": "ipython3",
   "version": "3.5.2"
  }
 },
 "nbformat": 4,
 "nbformat_minor": 1
}

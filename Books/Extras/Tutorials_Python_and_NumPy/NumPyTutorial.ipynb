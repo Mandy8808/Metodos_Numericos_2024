{
 "cells": [
  {
   "cell_type": "markdown",
   "metadata": {},
   "source": [
    "# NumPy tutorial\n",
    "\n",
    "Alex Gezerlis\n",
    "\n",
    "Online Supplement for \"Numerical Methods in Physics with Python\" (Cambridge University Press, 2020)\n",
    "\n",
    "<a href=\"http://www.numphyspy.org\" target=\"_blank\">http://www.numphyspy.org</a>\n",
    "\n",
    "2020-04-16"
   ]
  },
  {
   "cell_type": "markdown",
   "metadata": {},
   "source": [
    " "
   ]
  },
  {
   "cell_type": "markdown",
   "metadata": {},
   "source": [
    "(Should be read prior to studying chapter 4)"
   ]
  },
  {
   "cell_type": "markdown",
   "metadata": {},
   "source": [
    " "
   ]
  },
  {
   "cell_type": "markdown",
   "metadata": {},
   "source": [
    "Our programs in the first few chapters of the book make heavy use of Python lists. As a matter of fact, we typically go one step farther and opt for list comprehensions, whenever that is possible. After some introductory discussion, all of these Python lists are \"homogeneous\", in the sense that they contain elements of only one type. Furthermore, since we use list comprehensions so often, it's easy to see that the list size is always known ahead of time, i.e., there is no need to keep appending, until some condition is met (or, to be fair, we structure our codes so that this is so). In this context, here’s an example of a common operation one could carry out:\n",
    "\n",
    "tots = [w*f(x) for w,x in zip(ws,xs)]\n",
    "\n",
    "namely, stepping through one list (or more) and applying a function or multiplying by a coefficient, which may be different for each item. Here, we are essentially carrying out the same operation over and over again, a fixed number of times. At the end of that process, we typically sum up all the elements in the list.\n",
    "\n",
    "This raises the natural question: wouldn’t it make more sense to carry out such tasks using a homogeneous, fixed-length container? This is precisely what the Numerical Python array object does: as a result, it is fast and space-efficient. In addition to this, it allows us to avoid, for the most part, having to write loops: even in our listcomps, which are more concise than standard loops, there is a need to explicitly step through each element one by one. Numerical Python arrays often obviate such syntax, allowing us to carry out mathematical operations on entire blocks of data in one step.\n",
    "\n",
    "Linear algebra applications, in particular, which entail heavy use of fixed-length, homogeneous entities (namely, mathematical matrices) can benefit from numpy arrays, which is why we make a slight detour here, to introduce them. In standard Python, matrices can be represented by lists of lists which are, however, quite clunky, in that their syntax is different from the mathematical notation you are already used to. Before we tackle the two-dimensional case, which will be of interest in chapter 4, we first go over one-dimensional numpy arrays, which are direct replacements for Python lists, like the tots mentioned above. From here onward, we will not keep referring to these new containers as numpy arrays: they’ll simply be called arrays, the same way the core-Python lists are simply called lists."
   ]
  },
  {
   "cell_type": "markdown",
   "metadata": {},
   "source": [
    "## 1 One-dimensional arrays"
   ]
  },
  {
   "cell_type": "markdown",
   "metadata": {},
   "source": [
    "## 1.1 Creating"
   ]
  },
  {
   "cell_type": "markdown",
   "metadata": {},
   "source": [
    "We start in the usual way, with a Python list:"
   ]
  },
  {
   "cell_type": "code",
   "execution_count": 1,
   "metadata": {
    "collapsed": true
   },
   "outputs": [],
   "source": [
    "L = [11, 7, 19, 22, 55]"
   ]
  },
  {
   "cell_type": "markdown",
   "metadata": {},
   "source": [
    "The next step is to import numpy functionality which, as you know, we can do in any one of a number of ways. We here employ the standard convention of importing numpy with a shortened name:"
   ]
  },
  {
   "cell_type": "code",
   "execution_count": 2,
   "metadata": {
    "collapsed": true
   },
   "outputs": [],
   "source": [
    "import numpy as np"
   ]
  },
  {
   "cell_type": "markdown",
   "metadata": {},
   "source": [
    "The easiest way to make an array is to employ the array() function, which takes in a sequence-like entity and returns an array containing the data that was passed in. In our example, with the list L, we have:"
   ]
  },
  {
   "cell_type": "code",
   "execution_count": 3,
   "metadata": {
    "collapsed": false
   },
   "outputs": [
    {
     "data": {
      "text/plain": [
       "array([11,  7, 19, 22, 55])"
      ]
     },
     "execution_count": 3,
     "metadata": {},
     "output_type": "execute_result"
    }
   ],
   "source": [
    "xs = np.array(L)\n",
    "xs"
   ]
  },
  {
   "cell_type": "markdown",
   "metadata": {},
   "source": [
    "Notice that the array() function is part of numpy, so we had to say np.array() to access it. This example clearly shows the Python interpreter understanding that xs is not a list, but an array object (Note that there is both an array() function and an array object involved here: the former created the latter). It’s worth highlighting that when you print out lists and arrays, the output is slightly different:"
   ]
  },
  {
   "cell_type": "code",
   "execution_count": 4,
   "metadata": {
    "collapsed": false
   },
   "outputs": [
    {
     "name": "stdout",
     "output_type": "stream",
     "text": [
      "[11  7 19 22 55]\n",
      "[11, 7, 19, 22, 55]\n"
     ]
    }
   ],
   "source": [
    "print(xs)\n",
    "print(L)"
   ]
  },
  {
   "cell_type": "markdown",
   "metadata": {},
   "source": [
    "Obviously, a print-out of an array doesn’t show the commas: this is quite helpful when you need to focus on the numbers themselves, which is the task arrays were designed for.\n",
    "If you want to see how many elements are to be found in the array xs, you might be tempted to reach for the core-Python built-in function len(): this may cause headaches later on, so it’s best to use instead the size attribute of the array xs:"
   ]
  },
  {
   "cell_type": "code",
   "execution_count": 5,
   "metadata": {
    "collapsed": false
   },
   "outputs": [
    {
     "data": {
      "text/plain": [
       "5"
      ]
     },
     "execution_count": 5,
     "metadata": {},
     "output_type": "execute_result"
    }
   ],
   "source": [
    "xs.size"
   ]
  },
  {
   "cell_type": "markdown",
   "metadata": {},
   "source": [
    "Remember: numpy arrays are fixed-length, so the total number of elements cannot change. In other words, there is no append() method for arrays (thus, their size is fixed, whereas for a list len(L) would return different values before and after we append/pop an element).\n",
    "\n",
    "Another very useful attribute arrays have is dtype, namely the data type of the elements:"
   ]
  },
  {
   "cell_type": "code",
   "execution_count": 6,
   "metadata": {
    "collapsed": false
   },
   "outputs": [
    {
     "data": {
      "text/plain": [
       "dtype('int64')"
      ]
     },
     "execution_count": 6,
     "metadata": {},
     "output_type": "execute_result"
    }
   ],
   "source": [
    "xs.dtype"
   ]
  },
  {
   "cell_type": "markdown",
   "metadata": {},
   "source": [
    "You can immediately see that while we did not explicitly provide a data type for the elements of xs, this was inferred from the elements themselves (remember: numpy arrays are homogeneous, meaning all elements have the same type). You can also see that the type returned is not the standard Python integer, but int64: the number tells us how many bits are used to store this integer in this specific representation (64 bits make up what most languages call a “long integer”). You can also use Python’s type() to check the different types:"
   ]
  },
  {
   "cell_type": "code",
   "execution_count": 7,
   "metadata": {
    "collapsed": false
   },
   "outputs": [
    {
     "data": {
      "text/plain": [
       "list"
      ]
     },
     "execution_count": 7,
     "metadata": {},
     "output_type": "execute_result"
    }
   ],
   "source": [
    "type(L)"
   ]
  },
  {
   "cell_type": "code",
   "execution_count": 8,
   "metadata": {
    "collapsed": false
   },
   "outputs": [
    {
     "data": {
      "text/plain": [
       "int"
      ]
     },
     "execution_count": 8,
     "metadata": {},
     "output_type": "execute_result"
    }
   ],
   "source": [
    "type(L[0])"
   ]
  },
  {
   "cell_type": "code",
   "execution_count": 9,
   "metadata": {
    "collapsed": false
   },
   "outputs": [
    {
     "data": {
      "text/plain": [
       "numpy.ndarray"
      ]
     },
     "execution_count": 9,
     "metadata": {},
     "output_type": "execute_result"
    }
   ],
   "source": [
    "type(xs)"
   ]
  },
  {
   "cell_type": "code",
   "execution_count": 10,
   "metadata": {
    "collapsed": false
   },
   "outputs": [
    {
     "data": {
      "text/plain": [
       "numpy.int64"
      ]
     },
     "execution_count": 10,
     "metadata": {},
     "output_type": "execute_result"
    }
   ],
   "source": [
    "type(xs[0])"
   ]
  },
  {
   "cell_type": "markdown",
   "metadata": {},
   "source": [
    "which clearly shows that we are dealing here with distinct types: the numpy types directly map onto machine representations.\n",
    "\n",
    "As you can imagine, we can also have arrays containing floats:"
   ]
  },
  {
   "cell_type": "code",
   "execution_count": 11,
   "metadata": {
    "collapsed": false
   },
   "outputs": [
    {
     "data": {
      "text/plain": [
       "dtype('float64')"
      ]
     },
     "execution_count": 11,
     "metadata": {},
     "output_type": "execute_result"
    }
   ],
   "source": [
    "ys = np.array([1.1, 2.2, 3.3, 4.4])\n",
    "ys.dtype"
   ]
  },
  {
   "cell_type": "markdown",
   "metadata": {},
   "source": [
    "where we took the opportunity to place the list that is used to create the array directly as an argument to the array() function. Here, the 64 informs us that we are dealing with a double-precision float (see chapter 2 for more details). In our examples above, namely xs and ys, we allowed numpy to infer the type of argument on its own. However, we can also provide the data type as an (optional) argument to array():"
   ]
  },
  {
   "cell_type": "code",
   "execution_count": 12,
   "metadata": {
    "collapsed": false
   },
   "outputs": [
    {
     "data": {
      "text/plain": [
       "dtype('float32')"
      ]
     },
     "execution_count": 12,
     "metadata": {},
     "output_type": "execute_result"
    }
   ],
   "source": [
    "zs = np.array([5, 6, 7, 8], dtype=np.float32)\n",
    "zs\n",
    "zs.dtype"
   ]
  },
  {
   "cell_type": "markdown",
   "metadata": {},
   "source": [
    "Here we took the opportunity to use a list of integers and have numpy carry out the promotion to (single-precision) floats. Thus, numpy provides us with fine-grained control over which machine presentation we want to use: especially for floats, this can have major practical consequences and constitutes one of the major selling points of numpy arrays.\n",
    "\n",
    "So far, we’ve only seen how to create numpy arrays through the use of a (throwaway) list. For example, if we wanted an array containing a fixed number of zeros, we would do something like:    "
   ]
  },
  {
   "cell_type": "code",
   "execution_count": 13,
   "metadata": {
    "collapsed": false
   },
   "outputs": [
    {
     "data": {
      "text/plain": [
       "array([0., 0., 0., 0., 0.])"
      ]
     },
     "execution_count": 13,
     "metadata": {},
     "output_type": "execute_result"
    }
   ],
   "source": [
    "np.array([0.]*5)"
   ]
  },
  {
   "cell_type": "markdown",
   "metadata": {},
   "source": [
    "whereas in order to produce an array containing a fixed number of ones we would say:"
   ]
  },
  {
   "cell_type": "code",
   "execution_count": 14,
   "metadata": {
    "collapsed": false
   },
   "outputs": [
    {
     "data": {
      "text/plain": [
       "array([1., 1., 1., 1.])"
      ]
     },
     "execution_count": 14,
     "metadata": {},
     "output_type": "execute_result"
    }
   ],
   "source": [
    "np.array([1.]*4)"
   ]
  },
  {
   "cell_type": "markdown",
   "metadata": {},
   "source": [
    "These use cases are sufficiently common that numpy contains functions to generate such arrays directly:"
   ]
  },
  {
   "cell_type": "code",
   "execution_count": 15,
   "metadata": {
    "collapsed": false
   },
   "outputs": [
    {
     "data": {
      "text/plain": [
       "array([0., 0., 0., 0., 0.])"
      ]
     },
     "execution_count": 15,
     "metadata": {},
     "output_type": "execute_result"
    }
   ],
   "source": [
    "np.zeros(5)"
   ]
  },
  {
   "cell_type": "code",
   "execution_count": 16,
   "metadata": {
    "collapsed": false
   },
   "outputs": [
    {
     "data": {
      "text/plain": [
       "array([1., 1., 1., 1.])"
      ]
     },
     "execution_count": 16,
     "metadata": {},
     "output_type": "execute_result"
    }
   ],
   "source": [
    "np.ones(4)"
   ]
  },
  {
   "cell_type": "markdown",
   "metadata": {},
   "source": [
    "where, as you can see, we passed in as an argument the total number of elements each time.\n",
    "\n",
    "Another very useful numpy function that generates arrays is arange() which is a generalization of the core-Python range():"
   ]
  },
  {
   "cell_type": "code",
   "execution_count": 17,
   "metadata": {
    "collapsed": false
   },
   "outputs": [
    {
     "data": {
      "text/plain": [
       "array([10, 11, 12, 13, 14, 15])"
      ]
     },
     "execution_count": 17,
     "metadata": {},
     "output_type": "execute_result"
    }
   ],
   "source": [
    "np.arange(10,16)"
   ]
  },
  {
   "cell_type": "markdown",
   "metadata": {},
   "source": [
    "Obviously, you could also provide a stride, as a third argument to arange(), just like you did for range(). At this point, those who are new to numpy often find out that arange() can also take in floats as arguments:"
   ]
  },
  {
   "cell_type": "code",
   "execution_count": 18,
   "metadata": {
    "collapsed": false
   },
   "outputs": [
    {
     "data": {
      "text/plain": [
       "array([10., 11., 12., 13., 14., 15.])"
      ]
     },
     "execution_count": 18,
     "metadata": {},
     "output_type": "execute_result"
    }
   ],
   "source": [
    "np.arange(10.,16.)"
   ]
  },
  {
   "cell_type": "markdown",
   "metadata": {},
   "source": [
    "However, in chapter 2 we will learn that this invites trouble. Here are two examples showing how things can go wrong:"
   ]
  },
  {
   "cell_type": "code",
   "execution_count": 19,
   "metadata": {
    "collapsed": false
   },
   "outputs": [
    {
     "data": {
      "text/plain": [
       "array([1.5 , 1.55, 1.6 , 1.65, 1.7 ])"
      ]
     },
     "execution_count": 19,
     "metadata": {},
     "output_type": "execute_result"
    }
   ],
   "source": [
    "np.arange(1.5,1.75,0.05)"
   ]
  },
  {
   "cell_type": "code",
   "execution_count": 20,
   "metadata": {
    "collapsed": false
   },
   "outputs": [
    {
     "data": {
      "text/plain": [
       "array([1.5 , 1.55, 1.6 , 1.65, 1.7 , 1.75, 1.8 ])"
      ]
     },
     "execution_count": 20,
     "metadata": {},
     "output_type": "execute_result"
    }
   ],
   "source": [
    "np.arange(1.5,1.8,0.05)"
   ]
  },
  {
   "cell_type": "markdown",
   "metadata": {},
   "source": [
    "Floats (and floating-point operations) are not stored (carried out) using infinite precision. As a result, in the first case the endpoint is excluded but in the second case it is included. This can have dramatic consequences: take numerical integration as an example. When applying such formulas it is very important to apply, say, a closed method properly (i.e., include both endpoints). The numpy documentation happens to be very explicit on this: “When using a non-integer step, such as 0.1, the results will often not be consistent”.\n",
    "You might be tempted to solve this problem by a one-off solution like:"
   ]
  },
  {
   "cell_type": "code",
   "execution_count": 21,
   "metadata": {
    "collapsed": false
   },
   "outputs": [
    {
     "data": {
      "text/plain": [
       "array([1.5 , 1.55, 1.6 , 1.65, 1.7 , 1.75])"
      ]
     },
     "execution_count": 21,
     "metadata": {},
     "output_type": "execute_result"
    }
   ],
   "source": [
    "np.arange(1.5,1.75001,0.05)"
   ]
  },
  {
   "cell_type": "markdown",
   "metadata": {},
   "source": [
    "This is a bad idea. Instead, it is much better to use the linspace() function, which returns a specified number of evenly spaced elements over a specified interval, for example:"
   ]
  },
  {
   "cell_type": "code",
   "execution_count": 22,
   "metadata": {
    "collapsed": false
   },
   "outputs": [
    {
     "data": {
      "text/plain": [
       "array([1.5 , 1.55, 1.6 , 1.65, 1.7 , 1.75])"
      ]
     },
     "execution_count": 22,
     "metadata": {},
     "output_type": "execute_result"
    }
   ],
   "source": [
    "np.linspace(1.5,1.75,6)"
   ]
  },
  {
   "cell_type": "code",
   "execution_count": 23,
   "metadata": {
    "collapsed": false
   },
   "outputs": [
    {
     "data": {
      "text/plain": [
       "array([1.5 , 1.55, 1.6 , 1.65, 1.7 , 1.75, 1.8 ])"
      ]
     },
     "execution_count": 23,
     "metadata": {},
     "output_type": "execute_result"
    }
   ],
   "source": [
    "np.linspace(1.5,1.8,7)"
   ]
  },
  {
   "cell_type": "markdown",
   "metadata": {},
   "source": [
    "Note that this provides consistent behavior, at the cost of having to provide the desired number of elements ourselves. You may be wondering why the linspace() function has this name. The answer will become obvious once we point out that numpy also has a function called logspace(). This produces a logarithmically spaced grid of points (the default behavior is to use a base of 10). For example, if we wanted 5 points logarithmically distributed from $10^{−1}$ to $10^{−5}$, we would say:"
   ]
  },
  {
   "cell_type": "code",
   "execution_count": 24,
   "metadata": {
    "collapsed": false
   },
   "outputs": [
    {
     "data": {
      "text/plain": [
       "array([1.e-01, 1.e-02, 1.e-03, 1.e-04, 1.e-05])"
      ]
     },
     "execution_count": 24,
     "metadata": {},
     "output_type": "execute_result"
    }
   ],
   "source": [
    "np.logspace(-1, -5, 5)"
   ]
  },
  {
   "cell_type": "markdown",
   "metadata": {},
   "source": [
    "The first argument is the exponent of the starting value, the second argument is the exponent of the final value, and the third argument is the number of samples to generate. Obviously, the grid of points that linspace() produces is linear. Remember: both linspace() and logspace() include the two provided endpoints.\n",
    "\n",
    "The two differences between lists and arrays we’ve encountered so far (i.e., arrays’ being fixed-length and homogeneous) may appear to you not to be too important. After all, one can create a list that never grows/shrinks and is made up of elements of the same type. We will now see two more major differences, the first having to do with how slicing works and the second one relating to how calculations are propagated to the different elements. We take up each one of these in its own subsection."
   ]
  },
  {
   "cell_type": "markdown",
   "metadata": {},
   "source": [
    "## 1.2 Indexing and slicing"
   ]
  },
  {
   "cell_type": "markdown",
   "metadata": {},
   "source": [
    "Indexing for arrays works in exactly the same way as for lists, namely with square brackets:"
   ]
  },
  {
   "cell_type": "code",
   "execution_count": 25,
   "metadata": {
    "collapsed": false
   },
   "outputs": [
    {
     "name": "stdout",
     "output_type": "stream",
     "text": [
      "[10 11 12 13 14 15]\n"
     ]
    }
   ],
   "source": [
    "xs = np.arange(10,16)\n",
    "print(xs)"
   ]
  },
  {
   "cell_type": "code",
   "execution_count": 26,
   "metadata": {
    "collapsed": false
   },
   "outputs": [
    {
     "data": {
      "text/plain": [
       "12"
      ]
     },
     "execution_count": 26,
     "metadata": {},
     "output_type": "execute_result"
    }
   ],
   "source": [
    "xs[2]"
   ]
  },
  {
   "cell_type": "markdown",
   "metadata": {},
   "source": [
    "Likewise, slicing appears, at first sight, to be identical to how slicing of lists works:"
   ]
  },
  {
   "cell_type": "code",
   "execution_count": 27,
   "metadata": {
    "collapsed": false
   },
   "outputs": [
    {
     "name": "stdout",
     "output_type": "stream",
     "text": [
      "[12 13]\n"
     ]
    }
   ],
   "source": [
    "xs = np.arange(10,16)\n",
    "print(xs[2:4])"
   ]
  },
  {
   "cell_type": "markdown",
   "metadata": {},
   "source": [
    "We could keep adding examples, e.g. xs[-1] accesses the last element in the array, xs[1:5:2] employs a stride, and so on. However, there is a crucial difference, namely that array slices are views on the original array:"
   ]
  },
  {
   "cell_type": "code",
   "execution_count": 28,
   "metadata": {
    "collapsed": false
   },
   "outputs": [
    {
     "name": "stdout",
     "output_type": "stream",
     "text": [
      "[11  7 19 22]\n"
     ]
    }
   ],
   "source": [
    "r = np.array([11,7,19,22])\n",
    "print(r)"
   ]
  },
  {
   "cell_type": "code",
   "execution_count": 29,
   "metadata": {
    "collapsed": false
   },
   "outputs": [
    {
     "name": "stdout",
     "output_type": "stream",
     "text": [
      "[ 7 19]\n"
     ]
    }
   ],
   "source": [
    "sli = r[1:3]\n",
    "print(sli)"
   ]
  },
  {
   "cell_type": "code",
   "execution_count": 30,
   "metadata": {
    "collapsed": false
   },
   "outputs": [
    {
     "name": "stdout",
     "output_type": "stream",
     "text": [
      "[55 19]\n"
     ]
    }
   ],
   "source": [
    "sli[0] = 55\n",
    "print(sli)"
   ]
  },
  {
   "cell_type": "code",
   "execution_count": 31,
   "metadata": {
    "collapsed": false
   },
   "outputs": [
    {
     "name": "stdout",
     "output_type": "stream",
     "text": [
      "[11 55 19 22]\n"
     ]
    }
   ],
   "source": [
    "print(r)"
   ]
  },
  {
   "cell_type": "markdown",
   "metadata": {},
   "source": [
    "This example happens to be exactly the same as what we did in the Python tutorial for the case of lists (which is why we are temporarily reverting back to an older variable naming convention). As you may recall from there, slices of lists gave de facto copies, so the original list was unaffected by subsequent changes to the slice. This behavior of slices led us to use L[:] to get a copy of the list L. Numpy arrays are efficient, eliminating the need to copy data: of course, one should always be mindful that different slices all refer to the same underlying array. For the few cases where you do need a true copy, you can use numpy.copy():"
   ]
  },
  {
   "cell_type": "code",
   "execution_count": 32,
   "metadata": {
    "collapsed": true
   },
   "outputs": [],
   "source": [
    "r = np.array([11,7,19,22])\n",
    "sli = np.copy(r[1:3])"
   ]
  },
  {
   "cell_type": "code",
   "execution_count": 33,
   "metadata": {
    "collapsed": false
   },
   "outputs": [
    {
     "name": "stdout",
     "output_type": "stream",
     "text": [
      "[55 19]\n"
     ]
    }
   ],
   "source": [
    "sli[0] = 55\n",
    "print(sli)"
   ]
  },
  {
   "cell_type": "code",
   "execution_count": 34,
   "metadata": {
    "collapsed": false
   },
   "outputs": [
    {
     "name": "stdout",
     "output_type": "stream",
     "text": [
      "[11  7 19 22]\n"
     ]
    }
   ],
   "source": [
    "print(r)"
   ]
  },
  {
   "cell_type": "markdown",
   "metadata": {},
   "source": [
    "It is easy to see that you could, just as well, copy the entire array over, without impacting the original:"
   ]
  },
  {
   "cell_type": "code",
   "execution_count": 35,
   "metadata": {
    "collapsed": false
   },
   "outputs": [
    {
     "name": "stdout",
     "output_type": "stream",
     "text": [
      "[11  0 19 22]\n"
     ]
    }
   ],
   "source": [
    "r2 = np.copy(r)\n",
    "r2[1] = 0\n",
    "print(r2)"
   ]
  },
  {
   "cell_type": "code",
   "execution_count": 36,
   "metadata": {
    "collapsed": false
   },
   "outputs": [
    {
     "name": "stdout",
     "output_type": "stream",
     "text": [
      "[11  7 19 22]\n"
     ]
    }
   ],
   "source": [
    "print(r)"
   ]
  },
  {
   "cell_type": "markdown",
   "metadata": {},
   "source": [
    "In the main text of the book, we frequently make copies of arrays inside functions, in the spirit of impacting the external world only through the return value of a function. That being said, this is only a pedagogical choice: in practice, the performance is much better if one modifies an array “in place”, thereby destroying the original array.\n",
    "\n",
    "Another difference between lists and arrays, expanded on in the coming subsection has to with broadcasting. Qualitatively, this means that numpy often knows how to handle entities whose dimensionalities don’t quite match. Here’s an example:"
   ]
  },
  {
   "cell_type": "code",
   "execution_count": 37,
   "metadata": {
    "collapsed": false
   },
   "outputs": [
    {
     "name": "stdout",
     "output_type": "stream",
     "text": [
      "[11 55 55 22]\n"
     ]
    }
   ],
   "source": [
    "r = np.array([11, 7, 19, 22])\n",
    "r[1:3] = 55\n",
    "print(r)"
   ]
  },
  {
   "cell_type": "markdown",
   "metadata": {},
   "source": [
    "As it so happens, this is an example that we tried in the Python tutorial using lists: there, we received a TypeError, since Python didn’t know how to handle a single number on the right-hand-side, when the left-hand-side needed at least two numbers (i.e., Python expected an iterable on the right-hand-side). For the case of arrays, instead, the one value on the right-hand-side is broadcast to as many slots as necessary.\n",
    "\n",
    "Since we’ve now gone over slicing and how one value can be broadcast to several slots, this is a good place to see a very common numpy array idiom, which uses an “everything slice”, namely xs[:]. Remember, since array slices are views on the original array, xs[:] cannot be used to create a copy of the array. However, this syntax does have a nice use as shown below:"
   ]
  },
  {
   "cell_type": "code",
   "execution_count": 38,
   "metadata": {
    "collapsed": false
   },
   "outputs": [
    {
     "name": "stdout",
     "output_type": "stream",
     "text": [
      "[10 11 12 13 14 15]\n",
      "[7 7 7 7 7 7]\n"
     ]
    }
   ],
   "source": [
    "xs = np.arange(10,16)\n",
    "print(xs)\n",
    "xs[:]  = 7\n",
    "print(xs)"
   ]
  },
  {
   "cell_type": "markdown",
   "metadata": {},
   "source": [
    "We used the everything-slice to broadcast the number 7 onto all slots of a pre-existing array. You might be wondering why we need this everything-slice to accomplish this. The answer should be clear if you see that:"
   ]
  },
  {
   "cell_type": "code",
   "execution_count": 39,
   "metadata": {
    "collapsed": false
   },
   "outputs": [
    {
     "name": "stdout",
     "output_type": "stream",
     "text": [
      "7\n"
     ]
    }
   ],
   "source": [
    "xs = 7\n",
    "print(xs)"
   ]
  },
  {
   "cell_type": "markdown",
   "metadata": {},
   "source": [
    "If you don’t use an everything-slice, Python thinks you are creating a new integer variable which just happens to be called xs, whereas that was (almost certainly) not your intention.\n",
    "We’ve already seen some of the new syntax allowed by arrays. The following section discusses such array operations in greater detail, highlighting their strengths."
   ]
  },
  {
   "cell_type": "markdown",
   "metadata": {},
   "source": [
    "## 1.3 Vectorization"
   ]
  },
  {
   "cell_type": "markdown",
   "metadata": {},
   "source": [
    "When introducing arrays above, we mentioned that they allow us to avoid, for the most part, having to write loops. It is now time to see what this means:"
   ]
  },
  {
   "cell_type": "code",
   "execution_count": 40,
   "metadata": {
    "collapsed": false
   },
   "outputs": [
    {
     "name": "stdout",
     "output_type": "stream",
     "text": [
      "[10 11 12 13 14 15]\n"
     ]
    }
   ],
   "source": [
    "xs = np.arange(10,16)\n",
    "ys = np.arange(20,26)\n",
    "print(xs)"
   ]
  },
  {
   "cell_type": "code",
   "execution_count": 41,
   "metadata": {
    "collapsed": false
   },
   "outputs": [
    {
     "name": "stdout",
     "output_type": "stream",
     "text": [
      "[20 21 22 23 24 25]\n"
     ]
    }
   ],
   "source": [
    "print(ys)"
   ]
  },
  {
   "cell_type": "code",
   "execution_count": 42,
   "metadata": {
    "collapsed": false
   },
   "outputs": [
    {
     "name": "stdout",
     "output_type": "stream",
     "text": [
      "[30 32 34 36 38 40]\n"
     ]
    }
   ],
   "source": [
    "print(xs + ys)"
   ]
  },
  {
   "cell_type": "markdown",
   "metadata": {},
   "source": [
    "We see that for numpy arrays addition is interpreted as an elementwise operation (i.e., each pair of elements is added together). This ability to carry out such batch operations on all the elements of an array (or two) at once is often called vectorization. Note how different this is from the corresponding behavior of Python lists:"
   ]
  },
  {
   "cell_type": "code",
   "execution_count": 43,
   "metadata": {
    "collapsed": false
   },
   "outputs": [
    {
     "data": {
      "text/plain": [
       "[10, 11, 12, 13, 14, 15]"
      ]
     },
     "execution_count": 43,
     "metadata": {},
     "output_type": "execute_result"
    }
   ],
   "source": [
    "xs = list(range(10,16))\n",
    "ys = list(range(20,26))\n",
    "xs"
   ]
  },
  {
   "cell_type": "code",
   "execution_count": 44,
   "metadata": {
    "collapsed": false
   },
   "outputs": [
    {
     "data": {
      "text/plain": [
       "[20, 21, 22, 23, 24, 25]"
      ]
     },
     "execution_count": 44,
     "metadata": {},
     "output_type": "execute_result"
    }
   ],
   "source": [
    "ys"
   ]
  },
  {
   "cell_type": "code",
   "execution_count": 45,
   "metadata": {
    "collapsed": false
   },
   "outputs": [
    {
     "data": {
      "text/plain": [
       "[10, 11, 12, 13, 14, 15, 20, 21, 22, 23, 24, 25]"
      ]
     },
     "execution_count": 45,
     "metadata": {},
     "output_type": "execute_result"
    }
   ],
   "source": [
    "xs+ys"
   ]
  },
  {
   "cell_type": "code",
   "execution_count": 46,
   "metadata": {
    "collapsed": false
   },
   "outputs": [
    {
     "data": {
      "text/plain": [
       "[30, 32, 34, 36, 38, 40]"
      ]
     },
     "execution_count": 46,
     "metadata": {},
     "output_type": "execute_result"
    }
   ],
   "source": [
    "news = [x+y for x,y in zip(xs,ys)]\n",
    "news"
   ]
  },
  {
   "cell_type": "markdown",
   "metadata": {},
   "source": [
    "For lists + concatenates instead of leading to elementwise addition. Thus, in order to produce the same result that arrays give using a simple +, with lists we have to use a list comprehension as well as zip().\n",
    "\n",
    "Coming back to numpy arrays, multiplication is also interpreted to be an elementwise operation (and the same holds for subtraction, division, and exponentiation):"
   ]
  },
  {
   "cell_type": "code",
   "execution_count": 47,
   "metadata": {
    "collapsed": false
   },
   "outputs": [
    {
     "name": "stdout",
     "output_type": "stream",
     "text": [
      "[200 231 264 299 336 375]\n"
     ]
    }
   ],
   "source": [
    "xs = np.arange(10,16)\n",
    "ys = np.arange(20,26)\n",
    "print(xs*ys)"
   ]
  },
  {
   "cell_type": "code",
   "execution_count": 48,
   "metadata": {
    "collapsed": false
   },
   "outputs": [
    {
     "data": {
      "text/plain": [
       "1705"
      ]
     },
     "execution_count": 48,
     "metadata": {},
     "output_type": "execute_result"
    }
   ],
   "source": [
    "np.sum(xs*ys)"
   ]
  },
  {
   "cell_type": "markdown",
   "metadata": {},
   "source": [
    "Here we also took the opportunity to introduce numpy.sum(), which sums up all the elements of a numpy array. Thus, the last line is simply evaluating the scalar product of two vectors, in one short line. You may be wondering if you could have used, instead, the sum() built-in that Python provides. The answer is that, while both options are legal, in practice numpy functions are dramatically faster, as you will explore in a problem. The takeaway here is that you should employ numpy functionality whenever possible.\n",
    "\n",
    "Equally interesting to the elementwise operations between two arrays, is the ability numpy provides us to also combine an array with a scalar: this follows from the aforementioned broadcasting, whereby numpy knows how to interpret entities with different (but compatible) shapes. Here’s an example:"
   ]
  },
  {
   "cell_type": "code",
   "execution_count": 49,
   "metadata": {
    "collapsed": false
   },
   "outputs": [
    {
     "name": "stdout",
     "output_type": "stream",
     "text": [
      "[10 11 12 13 14 15]\n"
     ]
    }
   ],
   "source": [
    "xs = np.arange(10,16)\n",
    "print(xs)"
   ]
  },
  {
   "cell_type": "code",
   "execution_count": 50,
   "metadata": {
    "collapsed": false
   },
   "outputs": [
    {
     "name": "stdout",
     "output_type": "stream",
     "text": [
      "[20 22 24 26 28 30]\n"
     ]
    }
   ],
   "source": [
    "print(2*xs)"
   ]
  },
  {
   "cell_type": "markdown",
   "metadata": {},
   "source": [
    "You may recall that multiplication of a list with a scalar led to very different results (as a matter of fact, we used that property earlier in this section when we said [0.]\\*5). Instead, numpy knows how to combine a scalar with an array, to perform the multiplication for all array elements (so this is one more case where you don’t need a list comprehension). You can think of what’s happening here as the value 2 being “stretched” into an array with the same size as xs and then an elementwise multiplication taking place. Needless to say, you could carry out several other operations with scalars, for example:"
   ]
  },
  {
   "cell_type": "code",
   "execution_count": 51,
   "metadata": {
    "collapsed": false
   },
   "outputs": [
    {
     "name": "stdout",
     "output_type": "stream",
     "text": [
      "[0.1        0.09090909 0.08333333 0.07692308 0.07142857 0.06666667]\n"
     ]
    }
   ],
   "source": [
    "xs = np.arange(10,16)\n",
    "print(1/xs)"
   ]
  },
  {
   "cell_type": "markdown",
   "metadata": {},
   "source": [
    "Such combinations of broadcasting (whereby you can carry out operations between scalars and arrays) and vectorization (whereby you write one expression but the calculation is carried out for all elements) can be hard to grasp at first, but are very powerful (both expressive and efficient) once you get used to them.\n",
    "\n",
    "In addition to knowing how to perform elementwise operations between arrays (or between arrays and scalars), numpy also contains several functions that look similar to corresponding math functions: for example, numpy.sqrt(), numpy.exp(), numpy.log(), numpy.sin() do what you expect them to do. The crucial difference from the corresponding math functions is that such numpy functions are designed to take in entire arrays so they are almost always faster. Other numpy functions may be new to you, but can turn out to be very useful, e.g. numpy.isfinite() or numpy.sort(). Note that all the functions we’ve mentioned so far in this paragraph take in an array and return an array. Numpy also has functions that take in an array and return a scalar, like the numpy.sum() we encountered above. These are reasonably named, e.g. numpy.prod() calculates the product of all element values and numpy.amin() returns the element with the smallest value. Another very helpful function is numpy.argmax(), which returns the index of the maximum value. Finally, numpy contains an entire module, numpy.random, with several very useful and optimized functions related to random numbers. It’s worth spending some time with the numpy documentation to familiarize yourself with such functions, since they are intuitive and efficient.\n",
    "\n",
    "We can also use the functionality included in numpy to create our own functions that can handle arrays. For example, the following:"
   ]
  },
  {
   "cell_type": "code",
   "execution_count": 52,
   "metadata": {
    "collapsed": false
   },
   "outputs": [
    {
     "name": "stdout",
     "output_type": "stream",
     "text": [
      "[0.09950372 0.09053575 0.08304548 0.0766965  0.07124705 0.06651901]\n"
     ]
    }
   ],
   "source": [
    "def fa(xs):\n",
    "    return 1/np.sqrt(xs**2+1)\n",
    "xs = np.arange(10,16)\n",
    "print(fa(xs))"
   ]
  },
  {
   "cell_type": "markdown",
   "metadata": {},
   "source": [
    "We employed numpy.sqrt(), which knows how to handle arrays as arguments; the squaring and the addition of 1 were handled by numpy on its own (i.e., interpreted as referring to entire arrays as well). We are now ready to re-implement the tots shown at the start of this section. Instead of the following solution which employs lists,"
   ]
  },
  {
   "cell_type": "code",
   "execution_count": 53,
   "metadata": {
    "collapsed": false
   },
   "outputs": [
    {
     "name": "stdout",
     "output_type": "stream",
     "text": [
      "[2.9851115706299676, 2.8066081273180745, 2.657455355319679, 2.5309844631963223, 2.422399699588928, 2.3281653683320878]\n"
     ]
    }
   ],
   "source": [
    "import math\n",
    "def f(x):\n",
    "    return 1/math.sqrt(x**2+1)\n",
    "ws = list(range(30,36))\n",
    "xs = list(range(10,16))\n",
    "tots = [w*f(x) for w,x in zip(ws,xs)]\n",
    "print(tots)"
   ]
  },
  {
   "cell_type": "markdown",
   "metadata": {},
   "source": [
    "our new solution, employing arrays, is simply:"
   ]
  },
  {
   "cell_type": "code",
   "execution_count": 54,
   "metadata": {
    "collapsed": false
   },
   "outputs": [
    {
     "name": "stdout",
     "output_type": "stream",
     "text": [
      "[2.98511157 2.80660813 2.65745536 2.53098446 2.4223997  2.32816537]\n"
     ]
    }
   ],
   "source": [
    "def fa(xs):\n",
    "    return 1/np.sqrt(xs**2+1)\n",
    "ws = np.arange(30,36)\n",
    "xs = np.arange(10,16)\n",
    "tots = ws*fa(xs)\n",
    "print(tots)"
   ]
  },
  {
   "cell_type": "markdown",
   "metadata": {},
   "source": [
    "Note how:\n",
    "\n",
    "tots = [w*f(x) for w,x in zip(ws,xs)]\n",
    "\n",
    "was replaced by:\n",
    "\n",
    "tots = ws*fa(xs)\n",
    "\n",
    "Once again, once you get used to this way of doing things, you will see how powerful and convenient it is to carry out such array operations."
   ]
  },
  {
   "cell_type": "markdown",
   "metadata": {},
   "source": [
    "## 2 Two-dimensional arrays"
   ]
  },
  {
   "cell_type": "markdown",
   "metadata": {},
   "source": [
    "### 2.1 Creating"
   ]
  },
  {
   "cell_type": "markdown",
   "metadata": {},
   "source": [
    "The numpy arrays we encountered in the previous section were all replacements for regular Python lists. In Python we could also introduce lists-of-lists, for example:"
   ]
  },
  {
   "cell_type": "code",
   "execution_count": 55,
   "metadata": {
    "collapsed": true
   },
   "outputs": [],
   "source": [
    "LL = [[11,12,13,14], [15,16,17,18], [19,20,21,22]]"
   ]
  },
  {
   "cell_type": "markdown",
   "metadata": {},
   "source": [
    "As you might imagine, we can employ the array() function to produce an array that\n",
    "contains the elements in LL. We have:"
   ]
  },
  {
   "cell_type": "code",
   "execution_count": 56,
   "metadata": {
    "collapsed": false
   },
   "outputs": [
    {
     "data": {
      "text/plain": [
       "array([[11, 12, 13, 14],\n",
       "       [15, 16, 17, 18],\n",
       "       [19, 20, 21, 22]])"
      ]
     },
     "execution_count": 56,
     "metadata": {},
     "output_type": "execute_result"
    }
   ],
   "source": [
    "A = np.array(LL)\n",
    "A"
   ]
  },
  {
   "cell_type": "markdown",
   "metadata": {},
   "source": [
    "This example clearly shows the Python interpreter understanding that A is not a list, but an array object. Intriguingly, the A entity is already being output over three rows, making it easy to see that it’s a two-dimensional entity, similar to a mathematical matrix. As a matter of fact, using print() to output it makes this fact even more obvious:"
   ]
  },
  {
   "cell_type": "code",
   "execution_count": 57,
   "metadata": {
    "collapsed": false
   },
   "outputs": [
    {
     "name": "stdout",
     "output_type": "stream",
     "text": [
      "[[11 12 13 14]\n",
      " [15 16 17 18]\n",
      " [19 20 21 22]]\n"
     ]
    }
   ],
   "source": [
    "print(A)"
   ]
  },
  {
   "cell_type": "markdown",
   "metadata": {},
   "source": [
    "which is to be compared with how Python outputs a list of lists:"
   ]
  },
  {
   "cell_type": "code",
   "execution_count": 58,
   "metadata": {
    "collapsed": false
   },
   "outputs": [
    {
     "name": "stdout",
     "output_type": "stream",
     "text": [
      "[[11, 12, 13, 14], [15, 16, 17, 18], [19, 20, 21, 22]]\n"
     ]
    }
   ],
   "source": [
    "print(LL)"
   ]
  },
  {
   "cell_type": "markdown",
   "metadata": {},
   "source": [
    "In addition to splitting the three rows across three rows, a print-out of an array doesn’t show the commas, allowing us to focus on the numbers themselves.\n",
    "\n",
    "A lot of what we saw on how to create one-dimensional arrays carries over to the two-dimensional case. This applies to using type() for investigating array or array element types. It also applies to specifically creating arrays with the desired type, for example:"
   ]
  },
  {
   "cell_type": "code",
   "execution_count": 59,
   "metadata": {
    "collapsed": false
   },
   "outputs": [
    {
     "name": "stdout",
     "output_type": "stream",
     "text": [
      "[[11. 12. 13. 14.]\n",
      " [15. 16. 17. 18.]\n",
      " [19. 20. 21. 22.]]\n"
     ]
    }
   ],
   "source": [
    "B = np.array(LL,dtype=np.float64)\n",
    "print(B)"
   ]
  },
  {
   "cell_type": "code",
   "execution_count": 60,
   "metadata": {
    "collapsed": false
   },
   "outputs": [
    {
     "data": {
      "text/plain": [
       "dtype('float64')"
      ]
     },
     "execution_count": 60,
     "metadata": {},
     "output_type": "execute_result"
    }
   ],
   "source": [
    "B.dtype"
   ]
  },
  {
   "cell_type": "markdown",
   "metadata": {},
   "source": [
    "where we explicitly made sure we are creating an array of floats. We also took the opportunity to recall that all arrays have an attribute called dtype which refers to the type of the array elements (remember: all elements of an array have the same type).\n",
    "\n",
    "You may also remember that we used the size array attribute for the one-dimensional case, in order to see how many elements are present. It works equally well for the two-dimensional case:"
   ]
  },
  {
   "cell_type": "code",
   "execution_count": 61,
   "metadata": {
    "collapsed": false
   },
   "outputs": [
    {
     "data": {
      "text/plain": [
       "12"
      ]
     },
     "execution_count": 61,
     "metadata": {},
     "output_type": "execute_result"
    }
   ],
   "source": [
    "A.size"
   ]
  },
  {
   "cell_type": "markdown",
   "metadata": {},
   "source": [
    "Obviously, this counts up the total number of elements, including both rows and columns.\n",
    "\n",
    "Another attribute, one we didn’t touch upon before, is ndim, which tells us the dimensionality of the numpy array:"
   ]
  },
  {
   "cell_type": "code",
   "execution_count": 62,
   "metadata": {
    "collapsed": false
   },
   "outputs": [
    {
     "data": {
      "text/plain": [
       "2"
      ]
     },
     "execution_count": 62,
     "metadata": {},
     "output_type": "execute_result"
    }
   ],
   "source": [
    "A.ndim"
   ]
  },
  {
   "cell_type": "markdown",
   "metadata": {},
   "source": [
    "The number of dimensions can be thought of as the number of distinct “axes” according to which we are listing elements. Incidentally, our terminology may be confusing to those coming from a linear-algebra background. In linear algebra, we say that a matrix A with m rows and n columns has “dimensions” m and n, or sometimes that it has dimensions m × n. In contradistinction to this, the numpy convention is to refer to an array like A as having “dimension 2”, since it’s made up of rows and columns (i.e., how many elements are in each row and in each column doesn’t matter). In our example of A, the dimension is 2, even though there are 3 rows and 4 columns.\n",
    "\n",
    "The next obvious question is whether we can access the number of rows and the number of columns somehow (remember: size contains the product of the two). The answer, unsurprisingly, is yes. There exists yet another attribute, shape, which returns a tuple containing the number of elements in each dimension, for example:"
   ]
  },
  {
   "cell_type": "code",
   "execution_count": 63,
   "metadata": {
    "collapsed": false
   },
   "outputs": [
    {
     "data": {
      "text/plain": [
       "(3, 4)"
      ]
     },
     "execution_count": 63,
     "metadata": {},
     "output_type": "execute_result"
    }
   ],
   "source": [
    "A.shape"
   ]
  },
  {
   "cell_type": "markdown",
   "metadata": {},
   "source": [
    "It's reassuring that $3 \\times 4 = 12$. As you should immediately check, a one-dimensional array would return 1 for ndim. Similarly, its shape attribute would be a tuple with one element, e.g., (7,), where the number is equal (for the one-dimensional case) to the total size of the array. The attribute we will spend the most time on in what follows is shape.\n",
    "\n",
    "So far we’ve only seen one way of creating a two-dimensional numpy array: pass in a list of lists to array(). You might not be surprised to hear that all the functions that we saw earlier being applied to one-dimensional arrays also work for two-dimensional ones. For example, we can use zeros() to create a two-dimensional array full of zeros. Instead of passing in one number, this time we will pass in a tuple, corresponding to the desired shape of the new array:"
   ]
  },
  {
   "cell_type": "code",
   "execution_count": 64,
   "metadata": {
    "collapsed": false
   },
   "outputs": [
    {
     "data": {
      "text/plain": [
       "array([[0., 0., 0.],\n",
       "       [0., 0., 0.]])"
      ]
     },
     "execution_count": 64,
     "metadata": {},
     "output_type": "execute_result"
    }
   ],
   "source": [
    "np.zeros((2,3))"
   ]
  },
  {
   "cell_type": "markdown",
   "metadata": {},
   "source": [
    "Note that we have one pair of parentheses to denote the function zeros() and another pair of parentheses for the tuple containing the shape. Similarly, we can use ones() to create a two-dimensional array full of ones. This time, let’s do that for a square matrix:"
   ]
  },
  {
   "cell_type": "code",
   "execution_count": 65,
   "metadata": {
    "collapsed": false
   },
   "outputs": [
    {
     "data": {
      "text/plain": [
       "array([[1., 1., 1.],\n",
       "       [1., 1., 1.],\n",
       "       [1., 1., 1.]])"
      ]
     },
     "execution_count": 65,
     "metadata": {},
     "output_type": "execute_result"
    }
   ],
   "source": [
    "np.ones((3,3))"
   ]
  },
  {
   "cell_type": "markdown",
   "metadata": {},
   "source": [
    "Once again, we passed in a tuple for the shape. There also exists a very important matrix consisting of zeros and ones in a specific combination: we are referring to the identity, which is by definition a square matrix. Nicely enough, there exists a numpy function called identity(), which produces precisely what we want:"
   ]
  },
  {
   "cell_type": "code",
   "execution_count": 66,
   "metadata": {
    "collapsed": false
   },
   "outputs": [
    {
     "data": {
      "text/plain": [
       "array([[1., 0., 0.],\n",
       "       [0., 1., 0.],\n",
       "       [0., 0., 1.]])"
      ]
     },
     "execution_count": 66,
     "metadata": {},
     "output_type": "execute_result"
    }
   ],
   "source": [
    "np.identity(3)"
   ]
  },
  {
   "cell_type": "markdown",
   "metadata": {},
   "source": [
    "It’s easy to notice that identity() takes in a single argument, since it’s designed to produce square matrices. That’s another way of saying that functions like zeros() or ones() can also produce three-dimensional, four-dimensional, etc arrays, though we won’t have any use for those. Note that all of these functions produce floats, by default.\n",
    "\n",
    "Let’s turn back, for a second, to the case of passing in a shape parameter, when trying to create a new array function. You may have noticed that defining a list-of-lists in Python, such as our LL above, is a bit “clunky”: one needs double square brackets, as well as several commas, appropriately interspersed. As a matter of fact, as we’ll see in the following subsection, avoiding such unwieldy notation is one of the many benefits of using two-dimensional numpy arrays. By this point, it should come as no surprise that numpy provides us with the option of avoiding a list of lists in the first place. The way to do this is by starting from a one-dimensional array, that is then re-shaped into a two-dimensional array via the use of the reshape() function:"
   ]
  },
  {
   "cell_type": "code",
   "execution_count": 67,
   "metadata": {
    "collapsed": false
   },
   "outputs": [
    {
     "data": {
      "text/plain": [
       "(8,)"
      ]
     },
     "execution_count": 67,
     "metadata": {},
     "output_type": "execute_result"
    }
   ],
   "source": [
    "B = np.array([1,4,9,7,2,8,5,6])\n",
    "B.shape"
   ]
  },
  {
   "cell_type": "code",
   "execution_count": 68,
   "metadata": {
    "collapsed": false
   },
   "outputs": [
    {
     "data": {
      "text/plain": [
       "(2, 4)"
      ]
     },
     "execution_count": 68,
     "metadata": {},
     "output_type": "execute_result"
    }
   ],
   "source": [
    "B = B.reshape((2,4))\n",
    "B.shape"
   ]
  },
  {
   "cell_type": "code",
   "execution_count": 69,
   "metadata": {
    "collapsed": false
   },
   "outputs": [
    {
     "data": {
      "text/plain": [
       "array([[1, 4, 9, 7],\n",
       "       [2, 8, 5, 6]])"
      ]
     },
     "execution_count": 69,
     "metadata": {},
     "output_type": "execute_result"
    }
   ],
   "source": [
    "B"
   ]
  },
  {
   "cell_type": "markdown",
   "metadata": {},
   "source": [
    "First, B was a one-dimensional array (which we produced using a regular Python list). This is clearly shown in the value of the shape attribute. We then acted with the reshape() method on our one-dimensional array, thereby creating a two-dimensional array (stored back into the same variable, B). Again, the value of the shape attribute shows that now things are different.\n",
    "\n",
    "Note that we didn’t even have to start from a Python list. Instead, the original A example we were discussing above can be re-written using arange() which, as you may recall, produces a one-dimensional array:"
   ]
  },
  {
   "cell_type": "code",
   "execution_count": 70,
   "metadata": {
    "collapsed": false
   },
   "outputs": [
    {
     "data": {
      "text/plain": [
       "array([[11, 12, 13, 14],\n",
       "       [15, 16, 17, 18],\n",
       "       [19, 20, 21, 22]])"
      ]
     },
     "execution_count": 70,
     "metadata": {},
     "output_type": "execute_result"
    }
   ],
   "source": [
    "A = np.arange(11,23)\n",
    "A = A.reshape((3,4))\n",
    "A"
   ]
  },
  {
   "cell_type": "markdown",
   "metadata": {},
   "source": [
    "This A started out as a one-dimensional array and was then re-shaped into a two-dimensional array by passing in the appropriate shape argument. Once you get more used to arrays you will feel comfortable carrying out both steps in one line:"
   ]
  },
  {
   "cell_type": "code",
   "execution_count": 71,
   "metadata": {
    "collapsed": false
   },
   "outputs": [
    {
     "data": {
      "text/plain": [
       "array([[11, 12, 13, 14],\n",
       "       [15, 16, 17, 18],\n",
       "       [19, 20, 21, 22]])"
      ]
     },
     "execution_count": 71,
     "metadata": {},
     "output_type": "execute_result"
    }
   ],
   "source": [
    "A = np.arange(11,23).reshape(3,4)\n",
    "A"
   ]
  },
  {
   "cell_type": "markdown",
   "metadata": {},
   "source": [
    "Observe how conveniently we’ve obviated the multitude of square brackets and commas that where necessary in the definition of LL. (Note that we could have reshaped our array simply by changing the value of the shape tuple, instead of acting with reshape())."
   ]
  },
  {
   "cell_type": "markdown",
   "metadata": {},
   "source": [
    "### 2.2 Indexing and slicing"
   ]
  },
  {
   "cell_type": "markdown",
   "metadata": {},
   "source": [
    "It is now time to see one of the nicer features of using two-dimensional arrays in numpy: this happens to be one of the main selling points of numpy arrays, namely the intuitive way to access elements. Let’s start from our example of a list-of-lists:"
   ]
  },
  {
   "cell_type": "code",
   "execution_count": 72,
   "metadata": {
    "collapsed": true
   },
   "outputs": [],
   "source": [
    "LL = [[11,12,13,14], [15,16,17,18], [19,20,21,22]]"
   ]
  },
  {
   "cell_type": "markdown",
   "metadata": {},
   "source": [
    "As you may recall, if you are interested in the element located in the 2nd row and 1st column, you do:"
   ]
  },
  {
   "cell_type": "code",
   "execution_count": 73,
   "metadata": {
    "collapsed": false
   },
   "outputs": [
    {
     "data": {
      "text/plain": [
       "20"
      ]
     },
     "execution_count": 73,
     "metadata": {},
     "output_type": "execute_result"
    }
   ],
   "source": [
    "LL[2][1]"
   ]
  },
  {
   "cell_type": "markdown",
   "metadata": {},
   "source": [
    "Recall that we are using Python's 0-indexing, so the rows are numbered 0th, 1st, 2nd, and analogously for the columns. (In regular English, the example above is referring to the third row and second column – we’ll use numbers, e.g. 2nd, when employing the 0-indexing convention). This double pair of brackets, separating the numbers from each other is quite cumbersome and also different from how matrix notation is usually done, e.g., $A_{ij}$ or $A_{i, j}$. Thus, it comes as a relief to see that numpy array elements can be indexed simply by using only one pair of square brackets and a comma-separated pair of numbers, for example:"
   ]
  },
  {
   "cell_type": "code",
   "execution_count": 74,
   "metadata": {
    "collapsed": false
   },
   "outputs": [
    {
     "data": {
      "text/plain": [
       "array([[11, 12, 13, 14],\n",
       "       [15, 16, 17, 18],\n",
       "       [19, 20, 21, 22]])"
      ]
     },
     "execution_count": 74,
     "metadata": {},
     "output_type": "execute_result"
    }
   ],
   "source": [
    "A = np.arange(11,23).reshape(3,4)\n",
    "A"
   ]
  },
  {
   "cell_type": "code",
   "execution_count": 75,
   "metadata": {
    "collapsed": false
   },
   "outputs": [
    {
     "data": {
      "text/plain": [
       "20"
      ]
     },
     "execution_count": 75,
     "metadata": {},
     "output_type": "execute_result"
    }
   ],
   "source": [
    "A[2,1]"
   ]
  },
  {
   "cell_type": "markdown",
   "metadata": {},
   "source": [
    "As a matter of fact, the cumbersome Python-list notation also works with arrays, but we won’t be employing it in what follows, opting instead for the “cleaner” alternative of two comma-separated values. Similarly, even though we can create a 2d array using a list-of-lists, we will typically opt for a 1d array followed by a call to reshape().\n",
    "\n",
    "We now turn to slicing. We start from the simplest case possible, namely picking a specific row (by indexing) and then a slice from different columns. For example:"
   ]
  },
  {
   "cell_type": "code",
   "execution_count": 76,
   "metadata": {
    "collapsed": false
   },
   "outputs": [
    {
     "data": {
      "text/plain": [
       "array([16, 17])"
      ]
     },
     "execution_count": 76,
     "metadata": {},
     "output_type": "execute_result"
    }
   ],
   "source": [
    "A[1,1:3]"
   ]
  },
  {
   "cell_type": "markdown",
   "metadata": {},
   "source": [
    "Similarly, if we pick a specific row and use an everything-slice for the columns, we get that entire row:"
   ]
  },
  {
   "cell_type": "code",
   "execution_count": 77,
   "metadata": {
    "collapsed": false
   },
   "outputs": [
    {
     "data": {
      "text/plain": [
       "array([15, 16, 17, 18])"
      ]
     },
     "execution_count": 77,
     "metadata": {},
     "output_type": "execute_result"
    }
   ],
   "source": [
    "A[1,:]"
   ]
  },
  {
   "cell_type": "markdown",
   "metadata": {},
   "source": [
    "Using just the same logic, if we pick a specific column and use an everything-slice for the rows, we get that entire column:"
   ]
  },
  {
   "cell_type": "code",
   "execution_count": 78,
   "metadata": {
    "collapsed": false
   },
   "outputs": [
    {
     "data": {
      "text/plain": [
       "array([13, 17, 21])"
      ]
     },
     "execution_count": 78,
     "metadata": {},
     "output_type": "execute_result"
    }
   ],
   "source": [
    "A[:,2]"
   ]
  },
  {
   "cell_type": "markdown",
   "metadata": {},
   "source": [
    "We could keep piling on examples like this, where we select a pair of rows, a pair of columns, etc. \n",
    "\n",
    "To summarize, when we use two numbers to index (such as A[2,1]), we go from a two-dimensional array to a number. When we use one number to index/slice (such as A[:,2]), we go from a two-dimensional array to a one-dimensional array. When we use slices (such as A[::2,:]), we get collections of rows, columns, individual elements, etc.\n",
    "\n",
    "We can combine what we just learned about slicing two-dimensional arrays with what we already know about numpy broadcasting. First, pick a specific subset of our array and assign it to a new variable:"
   ]
  },
  {
   "cell_type": "code",
   "execution_count": 79,
   "metadata": {
    "collapsed": false
   },
   "outputs": [
    {
     "data": {
      "text/plain": [
       "array([[12, 13, 14],\n",
       "       [16, 17, 18]])"
      ]
     },
     "execution_count": 79,
     "metadata": {},
     "output_type": "execute_result"
    }
   ],
   "source": [
    "B = A[:2,1:]\n",
    "B"
   ]
  },
  {
   "cell_type": "markdown",
   "metadata": {},
   "source": [
    "We can now employ broadcasting of a single value as well as the everything-slice (twice) to set the elements of this new entity to zero:"
   ]
  },
  {
   "cell_type": "code",
   "execution_count": 80,
   "metadata": {
    "collapsed": false
   },
   "outputs": [
    {
     "data": {
      "text/plain": [
       "array([[0, 0, 0],\n",
       "       [0, 0, 0]])"
      ]
     },
     "execution_count": 80,
     "metadata": {},
     "output_type": "execute_result"
    }
   ],
   "source": [
    "B[:,:]  = 0\n",
    "B"
   ]
  },
  {
   "cell_type": "markdown",
   "metadata": {},
   "source": [
    "At this point, we remember that everyhing-slices in numpy (while allowing us to nicely assign to each element, as above) do not create copies. As we saw for one-dimensional arrays, array slices are views on the original array. As a result, by modifying B we have actually also modified A:"
   ]
  },
  {
   "cell_type": "code",
   "execution_count": 81,
   "metadata": {
    "collapsed": false
   },
   "outputs": [
    {
     "data": {
      "text/plain": [
       "array([[11,  0,  0,  0],\n",
       "       [15,  0,  0,  0],\n",
       "       [19, 20, 21, 22]])"
      ]
     },
     "execution_count": 81,
     "metadata": {},
     "output_type": "execute_result"
    }
   ],
   "source": [
    "A"
   ]
  },
  {
   "cell_type": "markdown",
   "metadata": {},
   "source": [
    "As before, if this is undesired behavior then you should use numpy.copy():"
   ]
  },
  {
   "cell_type": "code",
   "execution_count": 82,
   "metadata": {
    "collapsed": false
   },
   "outputs": [
    {
     "data": {
      "text/plain": [
       "array([[11, 12, 13, 14],\n",
       "       [15, 16, 17, 18],\n",
       "       [19, 20, 21, 22]])"
      ]
     },
     "execution_count": 82,
     "metadata": {},
     "output_type": "execute_result"
    }
   ],
   "source": [
    "A = np.arange(11,23).reshape(3,4)\n",
    "A"
   ]
  },
  {
   "cell_type": "code",
   "execution_count": 83,
   "metadata": {
    "collapsed": false
   },
   "outputs": [
    {
     "data": {
      "text/plain": [
       "array([[0, 0, 0],\n",
       "       [0, 0, 0]])"
      ]
     },
     "execution_count": 83,
     "metadata": {},
     "output_type": "execute_result"
    }
   ],
   "source": [
    "B = np.copy(A[:2,1:])\n",
    "B[:,:]  = 0\n",
    "B"
   ]
  },
  {
   "cell_type": "code",
   "execution_count": 84,
   "metadata": {
    "collapsed": false
   },
   "outputs": [
    {
     "data": {
      "text/plain": [
       "array([[11, 12, 13, 14],\n",
       "       [15, 16, 17, 18],\n",
       "       [19, 20, 21, 22]])"
      ]
     },
     "execution_count": 84,
     "metadata": {},
     "output_type": "execute_result"
    }
   ],
   "source": [
    "A"
   ]
  },
  {
   "cell_type": "markdown",
   "metadata": {},
   "source": [
    "As already noted, in chapter 4 we will typically make a a copy of the input array inside a function, instead of modifying it “in place”. After you’re done reading the book this tutorial is accompanying, it will usually be a better idea to avoid copies altogether, as long as you’re careful about what you’re doing."
   ]
  },
  {
   "cell_type": "markdown",
   "metadata": {},
   "source": [
    "### 2.3 Vectorization"
   ]
  },
  {
   "cell_type": "markdown",
   "metadata": {},
   "source": [
    "Just like for one-dimensional arrays, operations for two-dimensional arrays are interpreted elementwise. Such vectorized operations allow us to write very concise code that, e.g., adds together two square matrices:"
   ]
  },
  {
   "cell_type": "code",
   "execution_count": 85,
   "metadata": {
    "collapsed": false
   },
   "outputs": [
    {
     "data": {
      "text/plain": [
       "array([[1, 2, 3],\n",
       "       [4, 5, 6],\n",
       "       [7, 8, 9]])"
      ]
     },
     "execution_count": 85,
     "metadata": {},
     "output_type": "execute_result"
    }
   ],
   "source": [
    "A = np.arange(1,10).reshape(3,3)\n",
    "B = np.arange(11,20).reshape(3,3)\n",
    "A"
   ]
  },
  {
   "cell_type": "code",
   "execution_count": 86,
   "metadata": {
    "collapsed": false
   },
   "outputs": [
    {
     "data": {
      "text/plain": [
       "array([[11, 12, 13],\n",
       "       [14, 15, 16],\n",
       "       [17, 18, 19]])"
      ]
     },
     "execution_count": 86,
     "metadata": {},
     "output_type": "execute_result"
    }
   ],
   "source": [
    "B"
   ]
  },
  {
   "cell_type": "code",
   "execution_count": 87,
   "metadata": {
    "collapsed": false
   },
   "outputs": [
    {
     "data": {
      "text/plain": [
       "array([[12, 14, 16],\n",
       "       [18, 20, 22],\n",
       "       [24, 26, 28]])"
      ]
     },
     "execution_count": 87,
     "metadata": {},
     "output_type": "execute_result"
    }
   ],
   "source": [
    "A+B"
   ]
  },
  {
   "cell_type": "markdown",
   "metadata": {},
   "source": [
    "This is convenient and expected behavior.\n",
    "\n",
    "On the other hand, a simple multiplication is also carried out elementwise, i.e., each\n",
    "element in A is multiplied by the corresponding element in B:"
   ]
  },
  {
   "cell_type": "code",
   "execution_count": 88,
   "metadata": {
    "collapsed": false
   },
   "outputs": [
    {
     "data": {
      "text/plain": [
       "array([[ 11,  24,  39],\n",
       "       [ 56,  75,  96],\n",
       "       [119, 144, 171]])"
      ]
     },
     "execution_count": 88,
     "metadata": {},
     "output_type": "execute_result"
    }
   ],
   "source": [
    "A*B"
   ]
  },
  {
   "cell_type": "markdown",
   "metadata": {},
   "source": [
    "This may be unexpected behavior, if you were really looking for a matrix multiplication. To repeat, array operations are always carried out elementwise, so a product of two two-dimensional arrays is simply $(\\mathbf{A \\odot B})_{ij} = A_{ij} B_{ij}$. (As an aside, in math this is known as the Hadamard product). The operation of matrix multiplication that you know from linear algebra follows from a different formula, namely $(\\mathbf{AB})_{ij} = \\sum_{k} A_{ik} B_{kj}$. This operation is conveniently encapsulated in numpy’s dot() function:"
   ]
  },
  {
   "cell_type": "code",
   "execution_count": 89,
   "metadata": {
    "collapsed": false
   },
   "outputs": [
    {
     "data": {
      "text/plain": [
       "array([[ 90,  96, 102],\n",
       "       [216, 231, 246],\n",
       "       [342, 366, 390]])"
      ]
     },
     "execution_count": 89,
     "metadata": {},
     "output_type": "execute_result"
    }
   ],
   "source": [
    "np.dot(A,B) "
   ]
  },
  {
   "cell_type": "markdown",
   "metadata": {},
   "source": [
    "This does what we want, but the syntax is not as intuitive as one would have liked. From Python 3.5 and onward you can multiply two matrices using the $@$ infix operator, i.e."
   ]
  },
  {
   "cell_type": "code",
   "execution_count": 90,
   "metadata": {
    "collapsed": false
   },
   "outputs": [
    {
     "data": {
      "text/plain": [
       "array([[ 90,  96, 102],\n",
       "       [216, 231, 246],\n",
       "       [342, 366, 390]])"
      ]
     },
     "execution_count": 90,
     "metadata": {},
     "output_type": "execute_result"
    }
   ],
   "source": [
    "A@B"
   ]
  },
  {
   "cell_type": "markdown",
   "metadata": {},
   "source": [
    "which is obviously more convenient. As a matter of fact, $@$ or numpy.dot() can also handle one-dimensional arrays. A problem in chapter 1 investigates both solutions further.\n",
    "\n",
    "Numpy contains several other important functions, with self-explanatory names. The most commonly used are transpose():"
   ]
  },
  {
   "cell_type": "code",
   "execution_count": 91,
   "metadata": {
    "collapsed": false
   },
   "outputs": [
    {
     "data": {
      "text/plain": [
       "array([[1, 4, 7],\n",
       "       [2, 5, 8],\n",
       "       [3, 6, 9]])"
      ]
     },
     "execution_count": 91,
     "metadata": {},
     "output_type": "execute_result"
    }
   ],
   "source": [
    "np.transpose(A)"
   ]
  },
  {
   "cell_type": "markdown",
   "metadata": {},
   "source": [
    "which can also be accessed as an array attribute:"
   ]
  },
  {
   "cell_type": "code",
   "execution_count": 92,
   "metadata": {
    "collapsed": false
   },
   "outputs": [
    {
     "data": {
      "text/plain": [
       "array([[1, 4, 7],\n",
       "       [2, 5, 8],\n",
       "       [3, 6, 9]])"
      ]
     },
     "execution_count": 92,
     "metadata": {},
     "output_type": "execute_result"
    }
   ],
   "source": [
    "A.T"
   ]
  },
  {
   "cell_type": "markdown",
   "metadata": {},
   "source": [
    "Also useful is trace():"
   ]
  },
  {
   "cell_type": "code",
   "execution_count": 93,
   "metadata": {
    "collapsed": false
   },
   "outputs": [
    {
     "data": {
      "text/plain": [
       "15"
      ]
     },
     "execution_count": 93,
     "metadata": {},
     "output_type": "execute_result"
    }
   ],
   "source": [
    "np.trace(A)"
   ]
  },
  {
   "cell_type": "markdown",
   "metadata": {},
   "source": [
    "As you may have guessed, the latter function sums up the elements on the diagonal. \n",
    "\n",
    "Based on what we’ve already introduced, we can see how easy it is to iterate over\n",
    "rows:"
   ]
  },
  {
   "cell_type": "code",
   "execution_count": 94,
   "metadata": {
    "collapsed": false
   },
   "outputs": [
    {
     "data": {
      "text/plain": [
       "array([[1, 2, 3],\n",
       "       [4, 5, 6],\n",
       "       [7, 8, 9]])"
      ]
     },
     "execution_count": 94,
     "metadata": {},
     "output_type": "execute_result"
    }
   ],
   "source": [
    "A = np.arange(1,10).reshape(3,3)\n",
    "A"
   ]
  },
  {
   "cell_type": "code",
   "execution_count": 95,
   "metadata": {
    "collapsed": false
   },
   "outputs": [
    {
     "name": "stdout",
     "output_type": "stream",
     "text": [
      "[1 2 3]\n",
      "[4 5 6]\n",
      "[7 8 9]\n"
     ]
    }
   ],
   "source": [
    "for row in A:\n",
    "    print(row)\n",
    "    "
   ]
  },
  {
   "cell_type": "markdown",
   "metadata": {},
   "source": [
    "or columns:"
   ]
  },
  {
   "cell_type": "code",
   "execution_count": 96,
   "metadata": {
    "collapsed": false
   },
   "outputs": [
    {
     "name": "stdout",
     "output_type": "stream",
     "text": [
      "[1 4 7]\n",
      "[2 5 8]\n",
      "[3 6 9]\n"
     ]
    }
   ],
   "source": [
    "for column in A.T:\n",
    "    print(column)"
   ]
  },
  {
   "cell_type": "markdown",
   "metadata": {},
   "source": [
    "Note that in both of these cases we don’t have double square brackets, since we are printing out a one-dimensional array each time. Iterating over columns will come in very handy in chapter 4 when we will be handling eigenvectors of a matrix.\n",
    "\n",
    "In general, two-dimensional arrays behave very similarly to one-dimensional ones. That means that when combining a two dimensional array with a scalar, we have broadcasting, for example:"
   ]
  },
  {
   "cell_type": "code",
   "execution_count": 97,
   "metadata": {
    "collapsed": false
   },
   "outputs": [
    {
     "data": {
      "text/plain": [
       "array([[0.5, 1. , 1.5],\n",
       "       [2. , 2.5, 3. ],\n",
       "       [3.5, 4. , 4.5]])"
      ]
     },
     "execution_count": 97,
     "metadata": {},
     "output_type": "execute_result"
    }
   ],
   "source": [
    "A/2"
   ]
  },
  {
   "cell_type": "markdown",
   "metadata": {},
   "source": [
    "Broadcasting is often used in more complex scenarios (e.g., to combine a two-dimensional array with a one-dimensional one), but we won’t employ such features below. Needless to say, all the numpy functions we mentioned earlier, such numpy.sqrt(), numpy.exp(), also work on two-dimensional arrays, and the same holds for subtraction, multiplication, powers, etc. Intriguingly, functions like numpy.sum(), numpy.amin(), and numpy.amax() also take in an (optional) argument axis: if you set axis = 0 you operate along rows and axis = 1 operates along columns. For example:"
   ]
  },
  {
   "cell_type": "code",
   "execution_count": 98,
   "metadata": {
    "collapsed": false
   },
   "outputs": [
    {
     "data": {
      "text/plain": [
       "array([12, 15, 18])"
      ]
     },
     "execution_count": 98,
     "metadata": {},
     "output_type": "execute_result"
    }
   ],
   "source": [
    "A = np.arange(1,10).reshape(3,3)\n",
    "np.sum(A,axis=0)"
   ]
  },
  {
   "cell_type": "markdown",
   "metadata": {},
   "source": [
    "Similarly, we can create our own user-defined functions that know how to handle an entire two-dimensional array/matrix at once. Given that these features are identical to what we encountered in the previous section, we assume they’re clear to the reader. That being said, there do exist several handy functions that are intuitively easier to grasp for the case of two-dimensional arrays, e.g., numpy.diag() to get the diagonal elements, or numpy.tril() to get the lower triangle of an array and numpy.triu() to get the upper triangle. Finally, another very helpful function is numpy.eye() which looks equivalent to numpy.identity() but, conveniently, also allows us to populate elements on the diagonals above or below the main diagonal; for example, try out numpy.eye(5, k=-2). You should study the documentation to discover further functionality.\n",
    "\n",
    "A further point: the default storage-format for a numpy array in memory is row-major: as a beginner, you shouldn’t worry about this too much, but it means that rows are stored in order, one after the other. This is the same format used by the C programming language. (If you wish to use, instead, Fortran’s column-major format, presumably in order to interoperate with code in that language, you simply pass in an appropriate keyword argument when creating the numpy array). As long as you structure your code in the “natural” way, i.e., first looping through rows and then\n",
    "through columns, all should be well, so you can ignore this paragraph."
   ]
  },
  {
   "cell_type": "markdown",
   "metadata": {},
   "source": [
    "## 3 File input and output"
   ]
  },
  {
   "cell_type": "markdown",
   "metadata": {},
   "source": [
    "Given the infrastructure that numpy contains with a view to making matrix manipulations easy, it is not surprising that it also contains functions that allow us to conveniently read/write arrays from/to a file.\n",
    "Starting from file input, we turn back to our original example from the Python tutorial:"
   ]
  },
  {
   "cell_type": "code",
   "execution_count": 99,
   "metadata": {
    "collapsed": false
   },
   "outputs": [
    {
     "name": "stdout",
     "output_type": "stream",
     "text": [
      "Writing compl.in\n"
     ]
    }
   ],
   "source": [
    "%%writefile compl.in\n",
    "x y\n",
    "0.6 -6.2 \n",
    "1.6 9.3 \n",
    "1.8 16."
   ]
  },
  {
   "cell_type": "markdown",
   "metadata": {},
   "source": [
    "If we want to read all the numbers (ignoring the first, header, line of text) into a numpy array, we can simply use the numpy.loadtxt() function, passing in the filename:"
   ]
  },
  {
   "cell_type": "code",
   "execution_count": 100,
   "metadata": {
    "collapsed": false
   },
   "outputs": [
    {
     "data": {
      "text/plain": [
       "array([[ 0.6, -6.2],\n",
       "       [ 1.6,  9.3],\n",
       "       [ 1.8, 16. ]])"
      ]
     },
     "execution_count": 100,
     "metadata": {},
     "output_type": "execute_result"
    }
   ],
   "source": [
    "A = np.loadtxt(\"compl.in\", skiprows=1)\n",
    "A"
   ]
  },
  {
   "cell_type": "markdown",
   "metadata": {},
   "source": [
    "As you can see, with one line of code all the numbers in the file have been stored into a numpy array. Observe how truly simple this is: if there were no header line to be discarded, even the second argument skiprows wouldn’t have been necessary (its default value is 0), so all that we would have needed to pass in would have been the filename!\n",
    "\n",
    "If you’re thinking that you don’t actually want all your data in one two-dimensional array, you can simply use what you learned about slicing in the previous section and split your array up. If you’d like to do that from the get-go, numpy.loadtxt() has the option unpack which allows you to do just that:"
   ]
  },
  {
   "cell_type": "code",
   "execution_count": 101,
   "metadata": {
    "collapsed": false
   },
   "outputs": [
    {
     "data": {
      "text/plain": [
       "array([0.6, 1.6, 1.8])"
      ]
     },
     "execution_count": 101,
     "metadata": {},
     "output_type": "execute_result"
    }
   ],
   "source": [
    "xs, ys = np.loadtxt(\"compl.in\", skiprows=1, unpack=True)\n",
    "xs"
   ]
  },
  {
   "cell_type": "code",
   "execution_count": 102,
   "metadata": {
    "collapsed": false
   },
   "outputs": [
    {
     "data": {
      "text/plain": [
       "array([-6.2,  9.3, 16. ])"
      ]
     },
     "execution_count": 102,
     "metadata": {},
     "output_type": "execute_result"
    }
   ],
   "source": [
    "ys"
   ]
  },
  {
   "cell_type": "markdown",
   "metadata": {},
   "source": [
    "You should compare this to the manual operation we carried out in fileread.py. \n",
    "\n",
    "The function numpy.loadtxt() has several other options, which allow you to ignore comments, use specific columns, etc. If you need even more options when reading a file\n",
    "(e.g., there may be missing values), you should look up numpy.genfromtxt(). \n",
    "\n",
    "\n",
    "Turning to file output: this is just as straightforward, given the existence of the numpy.savetxt() function, which expects as its first argument (as you may have guessed) the filename where you want the output to be written. Equally straightforwardly, the second expected argument is the numpy array(s) you want written out. To make this tangible, let us rewrite our example filewrite.py from the Python tutorial using numpy:"
   ]
  },
  {
   "cell_type": "code",
   "execution_count": 103,
   "metadata": {
    "collapsed": true
   },
   "outputs": [],
   "source": [
    "xs = np.linspace(0,1.8,10)\n",
    "ys = 4*xs**3 - 7\n",
    "np.savetxt(\"compl2.out\", (xs,ys))"
   ]
  },
  {
   "cell_type": "markdown",
   "metadata": {},
   "source": [
    "Note how easily we generated the xs and how straightforward it was to act on each of their elements to generate the ys: this is the power of numpy arrays in action. Then, we simply called numpy.savetxt() passing in the desired filename and a tuple containing the two arrays to be written out.\n",
    "\n",
    "You may have noticed that the above example writes out the two arrays in turn. If, instead, you wanted the output to be like that of filewrite.py, namely a table of $x$ and $y$ values, you would use numpy.column_stack(), which does what its name says, namely it stacks together two one-dimensional arrays to produce a two-dimensional array:"
   ]
  },
  {
   "cell_type": "code",
   "execution_count": 104,
   "metadata": {
    "collapsed": false
   },
   "outputs": [],
   "source": [
    "xs = np.linspace(0,1.8,10) \n",
    "ys = 4*xs**3 - 7\n",
    "A = np.column_stack((xs,ys)) \n",
    "np.savetxt(\"compl3.out\", A)"
   ]
  },
  {
   "cell_type": "markdown",
   "metadata": {},
   "source": [
    "One of the problems asks you to avoid the use of numpy.column_stack() and employ simple array slicing to produce A. As usual, numpy.savetxt() takes in several other optional parameters, which allow you to customize your output."
   ]
  },
  {
   "cell_type": "markdown",
   "metadata": {},
   "source": [
    "## 4 Problems"
   ]
  },
  {
   "cell_type": "markdown",
   "metadata": {},
   "source": [
    "### 4.1\n",
    "\n",
    "Rewrite the code sumofints.py, to use numpy arrays instead of core Python functionality."
   ]
  },
  {
   "cell_type": "markdown",
   "metadata": {},
   "source": [
    "### 4.2\n",
    "\n",
    "Rewrite the code in the two file input/output examples from the last section so that they can produce the desired input/output with a minimum of external functions. In other words, first, produce the one-dimensional arrays xs and ys while reading the file as follows:"
   ]
  },
  {
   "cell_type": "code",
   "execution_count": 105,
   "metadata": {
    "collapsed": true
   },
   "outputs": [],
   "source": [
    "A = np.loadtxt(\"compl.in\", skiprows=1)"
   ]
  },
  {
   "cell_type": "markdown",
   "metadata": {},
   "source": [
    "Second, write out to a file the two-dimensional array A as follows:"
   ]
  },
  {
   "cell_type": "code",
   "execution_count": 106,
   "metadata": {
    "collapsed": true
   },
   "outputs": [],
   "source": [
    "np.savetxt(\"compl4.out\", A)"
   ]
  },
  {
   "cell_type": "markdown",
   "metadata": {},
   "source": [
    "without employing numpy.column_stack()."
   ]
  }
 ],
 "metadata": {
  "anaconda-cloud": {},
  "kernelspec": {
   "display_name": "Python [default]",
   "language": "python",
   "name": "python3"
  },
  "language_info": {
   "codemirror_mode": {
    "name": "ipython",
    "version": 3
   },
   "file_extension": ".py",
   "mimetype": "text/x-python",
   "name": "python",
   "nbconvert_exporter": "python",
   "pygments_lexer": "ipython3",
   "version": "3.5.2"
  }
 },
 "nbformat": 4,
 "nbformat_minor": 1
}

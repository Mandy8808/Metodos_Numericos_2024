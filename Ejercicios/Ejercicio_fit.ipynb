{
 "cells": [
  {
   "cell_type": "code",
   "execution_count": 1,
   "metadata": {},
   "outputs": [],
   "source": [
    "import numpy as np\n",
    "import matplotlib.pyplot as plt"
   ]
  },
  {
   "cell_type": "markdown",
   "metadata": {},
   "source": [
    "### Ejercicio 1:\n",
    "\n",
    "En una determinada colonia se desea conocer si existe alguna relación entre la edad de los vecinos y la *percepción de inseguridad*. Para ello se tomo una pequeña muestra de $10$ individuos, donde se calificaba la seguridad en una escala del $0-10$ donde el $0$ representa *totalmente seguro* y el $10$ representa *totalmente inseguro*:\n",
    "\n",
    "<center><img src=\"capturas/imagen0.png\"></center> \n",
    "\n",
    "Se pide:\n",
    "- Estudiar la relación entre las dos variables “edad” y “percepción de inseguridad” a través de regresión lineal (considere un modelo lineal y uno cuadrático y compare).\n",
    "- Representar gráficamente el mejor modelo. ¿Qué podemos decir de esta relación?\n",
    "- ¿Qué puntuación sobre la inseguridad en el barrio obtendría un individuo de 25 años? ¿Y un individuo de 70?\n",
    "- Estudiar la correlación de las variables e interpretar los coeficientes usando [el coeficiente de correlación de Pearson](https://es.wikipedia.org/wiki/Coeficiente_de_correlación_de_Pearson)\n",
    "- ¿Qué valor de la edad presenta mayor residuo? ¿Cuál es residuo para la edad de 42 años? ¿Y para la edad de 31?\n"
   ]
  },
  {
   "cell_type": "code",
   "execution_count": null,
   "metadata": {},
   "outputs": [],
   "source": []
  },
  {
   "cell_type": "markdown",
   "metadata": {},
   "source": [
    "### Ejercicio 2:\n",
    "\n",
    "Una empresa de manufacturas basa las predicciones de sus ventas anuales en los resultados oficiales de la demanda total en la industria. A continuación se dan los datos de demanda total y las ventas efectuadas por la empresa en los últimos 11 años.\n",
    "\n",
    "<center><img src=\"capturas/imagen1.png\"></center> \n",
    "\n",
    "Se pide:\n",
    "- Econtrar y demostrar que modelo se ajusta mejor, uno lineal o cuadrático.\n",
    "- Graficar los datos y el mejor modelo.\n",
    "- ¿Existe una correlación entre las variables?"
   ]
  },
  {
   "cell_type": "code",
   "execution_count": null,
   "metadata": {},
   "outputs": [],
   "source": []
  },
  {
   "cell_type": "markdown",
   "metadata": {},
   "source": [
    "### Ejercicio 3:\n",
    "\n",
    "En determinada zona se está investigando la relación entre el consumo de alcohol y el de otros estupefacientes entre la población juvenil. Se sabe que el consumo medio de alcohol es de $2.3$ veces por semana (con una desviación típica de $2.5$) mientras que el consumo medio de otros estupefacientes es de $1.3$ veces por semana (con una desviación típica de $3$). El coeficiente de determinación es del $45.1 \\%$. Halle la recta $y =c_0 +c_1 x$ que relaciona el consumo de alcohol ($x$) y el consumo de otros estupefacientes ($y$) para esa población de jóvenes.\n",
    "\n",
    "Tip: Note que tiene los siguientes datos:\n",
    "- $\\bar{x}=2.3, \\quad S_x = 2.5$\n",
    "- $\\bar{y}=1.3, \\quad S_y = 3.0$\n",
    "- $r^2=0.451$ donde $r=S_{xy}/(S_x S_y)$ correlación de Pearson o coeficiente de determinación.\n"
   ]
  },
  {
   "cell_type": "code",
   "execution_count": null,
   "metadata": {},
   "outputs": [],
   "source": []
  }
 ],
 "metadata": {
  "kernelspec": {
   "display_name": "base",
   "language": "python",
   "name": "python3"
  },
  "language_info": {
   "codemirror_mode": {
    "name": "ipython",
    "version": 3
   },
   "file_extension": ".py",
   "mimetype": "text/x-python",
   "name": "python",
   "nbconvert_exporter": "python",
   "pygments_lexer": "ipython3",
   "version": "3.11.4"
  }
 },
 "nbformat": 4,
 "nbformat_minor": 2
}

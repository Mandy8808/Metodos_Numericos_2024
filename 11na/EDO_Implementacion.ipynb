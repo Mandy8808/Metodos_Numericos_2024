{
 "cells": [
  {
   "cell_type": "code",
   "execution_count": 1,
   "metadata": {},
   "outputs": [],
   "source": [
    "import numpy as np\n",
    "import matplotlib.pyplot as plt\n",
    "\n",
    "from scipy.integrate import odeint"
   ]
  },
  {
   "cell_type": "code",
   "execution_count": 2,
   "metadata": {},
   "outputs": [],
   "source": [
    "def m_euler(func, n_p, a, b, ci):\n",
    "    \"\"\"\n",
    "    Entrada \n",
    "    - func la cual debe tener el orden (y, t) con t la variable a la cual se deriva\n",
    "    - n_p es el número de intervalos que se usarán\n",
    "    - a, b limite inferior y superior respectivamente\n",
    "    - ci es func(a). Condición de frontera\n",
    "    \"\"\"\n",
    "    # intervalo\n",
    "    h = (b-a)/n_p\n",
    "    \n",
    "    # almacenando\n",
    "    nodo = [ci]\n",
    "    \n",
    "    t = np.arange(a, b, h)\n",
    "    \n",
    "    k = 0\n",
    "    for i in t:\n",
    "        yk0 = nodo[k]\n",
    "        yk1 = yk0 + h*func(yk0, i)\n",
    "        \n",
    "        k += 1\n",
    "        nodo.append(yk1)\n",
    "        \n",
    "    return nodo[:-1], t  "
   ]
  },
  {
   "cell_type": "code",
   "execution_count": 3,
   "metadata": {},
   "outputs": [],
   "source": [
    "def Runge_Kutta(a, b, n, y_0, h, f):\n",
    "    y_k1 = [y_0]\n",
    "    t = np.linspace(a,b,n+1)\n",
    "    \n",
    "    for i in t[:-1]:\n",
    "        m_1 = f(y_k1[-1], i)\n",
    "        m_2 = f(y_k1[-1]+(m_1*h/2), i+(h/2))\n",
    "        m_3 = f(y_k1[-1]+(m_2*h/2), i+(h/2))\n",
    "        m_4 = f(y_k1[-1]+(m_3*h), i+h)\n",
    "        y_k1.append(y_k1[-1] + (h/6)*(m_1+2*m_2+2*m_3+m_4))\n",
    "\n",
    "    return y_k1, t"
   ]
  },
  {
   "cell_type": "code",
   "execution_count": 4,
   "metadata": {},
   "outputs": [],
   "source": [
    "def f(y,x):\n",
    "    \n",
    "    dy = np.exp(x)/(1+np.exp(x))/y\n",
    "    \n",
    "    return dy"
   ]
  },
  {
   "cell_type": "code",
   "execution_count": 5,
   "metadata": {},
   "outputs": [],
   "source": [
    "a, b = 0, 1\n",
    "n_p = 100\n",
    "c = 0.1\n",
    "\n",
    "h = (b-a)/n_p\n",
    "\n",
    "nodo, t = m_euler(f, n_p, a, b, c)\n",
    "\n",
    "nodo3, t3 = Runge_Kutta(a, b, n_p, c, h, f)\n",
    "\n",
    "t0 = np.arange(a, b, h)\n",
    "\n",
    "nodo2 = odeint(f, c, t0)"
   ]
  },
  {
   "cell_type": "code",
   "execution_count": 6,
   "metadata": {},
   "outputs": [],
   "source": [
    "c = -1.37629\n",
    "anl = lambda x: np.sqrt(2*np.log(1+np.exp(x))+c)"
   ]
  },
  {
   "cell_type": "code",
   "execution_count": 16,
   "metadata": {},
   "outputs": [
    {
     "data": {
      "text/plain": [
       "<matplotlib.legend.Legend at 0x7f89a4f6c280>"
      ]
     },
     "execution_count": 16,
     "metadata": {},
     "output_type": "execute_result"
    },
    {
     "data": {
      "image/png": "[encoded data removed]",
      "text/plain": [
       "<Figure size 864x288 with 2 Axes>"
      ]
     },
     "metadata": {
      "needs_background": "light"
     },
     "output_type": "display_data"
    }
   ],
   "source": [
    "fig, axes = plt.subplots(1,2, figsize=(12,4))\n",
    "\n",
    "axes[0].plot(t, anl(t),'-', label='Analítico')\n",
    "axes[0].plot(t, nodo,'k:', label='Euler')\n",
    "axes[0].plot(t3, nodo3,'r:', label='RK')\n",
    "axes[0].plot(t0, nodo2[:,0],'b:', label='odeint')\n",
    "\n",
    "axes[1].plot(t,abs(anl(t)-nodo)/anl(t)*100/1000,'k:', label=r'$10^{-3}\\times$ errorEu')\n",
    "axes[1].plot(t3,abs(anl(t3)-nodo3)/anl(t3)*100,'r:', label='errorRK')\n",
    "axes[1].plot(t0,abs(anl(t0)-nodo2[:,0])/anl(t0)*100,'b:', label='error')\n",
    "\n",
    "\n",
    "axes[0].legend()\n",
    "axes[1].legend()"
   ]
  },
  {
   "cell_type": "code",
   "execution_count": 23,
   "metadata": {},
   "outputs": [],
   "source": [
    "def Taylor_o2(func, dfunc, n_p, a, b, ci):\n",
    "    \"\"\"\n",
    "    Entrada \n",
    "    - func la cual debe tener el orden (y, t) con t la variable a la cual se deriva\n",
    "    - dfunc derivada(segunda) de func, la cual debe tener el orden (y, t) con t la variable a la cual se deriva\n",
    "    - n_p es el número de intervalos que se usarán\n",
    "    - a, b limite inferior y superior respectivamente\n",
    "    - ci es func(a). Condición de frontera\n",
    "    \"\"\"\n",
    "    \n",
    "    # intervalo\n",
    "    h = (b-a)/n_p\n",
    "    \n",
    "    # almacenando\n",
    "    nodo = [ci]\n",
    "    \n",
    "    t = np.arange(a, b+h, h)\n",
    "    \n",
    "    k = 0\n",
    "    for i in t:\n",
    "        yk0 = nodo[k]\n",
    "        yk1 = yk0 + h*func(yk0, i)+h**2/2*dfunc(yk0, i)\n",
    "        \n",
    "        k += 1\n",
    "        nodo.append(yk1)  \n",
    "    \n",
    "    return  nodo[:-1], t "
   ]
  },
  {
   "cell_type": "code",
   "execution_count": 3,
   "metadata": {},
   "outputs": [
    {
     "name": "stdout",
     "output_type": "stream",
     "text": [
      "[0.  0.1 0.2 0.3 0.4 0.5 0.6 0.7 0.8 0.9]\n",
      "\n",
      "[50, 51.0, 52.02, 53.0604, 54.121608, 55.204040160000005, 56.308120963200004, 57.434283382464, 58.582969050113284, 59.75462843111555, 60.94972099973786]\n"
     ]
    }
   ],
   "source": [
    "def f3(y,t):\n",
    "    return 0.2*y\n",
    "\n",
    "tmin = 0\n",
    "tmax = 1\n",
    "y0 = 50\n",
    "\n",
    "y, t = m_euler(f3, 10, tmin, tmax, y0)\n",
    "\n",
    "print(t)\n",
    "print()\n",
    "print(y)"
   ]
  },
  {
   "cell_type": "code",
   "execution_count": 26,
   "metadata": {},
   "outputs": [
    {
     "name": "stdout",
     "output_type": "stream",
     "text": [
      "[0.  0.1 0.2 0.3 0.4 0.5 0.6 0.7 0.8 0.9 1. ]\n",
      "\n",
      "[1, 1.11, 1.24205, 1.39846525, 1.5818041012500001, 1.7948935318812502, 2.0408573527287817, 2.3231473747653038, 2.6455778491156607, 3.012363523272805, 3.42816169321645]\n"
     ]
    }
   ],
   "source": [
    "def f3(y,t):\n",
    "    return t+y\n",
    "\n",
    "def df3(y,t):\n",
    "    return 1+f3(y,t)\n",
    "\n",
    "tmin = 0\n",
    "tmax = 1\n",
    "y0 = 1\n",
    "\n",
    "y, t = Taylor_o2(f3, df3, 10, tmin, tmax, y0)\n",
    "\n",
    "print(t)\n",
    "print()\n",
    "print(y)"
   ]
  },
  {
   "cell_type": "code",
   "execution_count": null,
   "metadata": {},
   "outputs": [],
   "source": []
  },
  {
   "cell_type": "code",
   "execution_count": 4,
   "metadata": {},
   "outputs": [
    {
     "data": {
      "text/plain": [
       "<matplotlib.legend.Legend at 0x7fe27989bd90>"
      ]
     },
     "execution_count": 4,
     "metadata": {},
     "output_type": "execute_result"
    },
    {
     "data": {
      "image/png": "[encoded data removed]",
      "text/plain": [
       "<Figure size 432x288 with 1 Axes>"
      ]
     },
     "metadata": {
      "needs_background": "light"
     },
     "output_type": "display_data"
    }
   ],
   "source": [
    "def f3(y,t):\n",
    "    return np.exp(t+y)\n",
    "\n",
    "c = 10\n",
    "fv = lambda x: -np.log(c-np.exp(x))  # analítica\n",
    "\n",
    "tmin = 0\n",
    "tmax = 1\n",
    "\n",
    "y, t = m_euler(f3, 100, tmin, tmax, fv(tmin))\n",
    "\n",
    "t = np.array(t)\n",
    "\n",
    "plt.plot(t,y,'-', label='numérica')\n",
    "plt.plot(t,fv(t), '--', label='analítica')\n",
    "\n",
    "plt.legend()"
   ]
  },
  {
   "cell_type": "code",
   "execution_count": null,
   "metadata": {},
   "outputs": [],
   "source": []
  },
  {
   "cell_type": "code",
   "execution_count": 44,
   "metadata": {},
   "outputs": [],
   "source": [
    "def m_euler_M(func, n_p, a, b, ci):\n",
    "    \"\"\"\n",
    "    Entrada \n",
    "    - func la cual debe tener el orden (y, t) con t la variable a la cual se deriva\n",
    "    - n_p es el número de intervalos que se usarán\n",
    "    - a, b limite inferior y superior respectivamente\n",
    "    - ci es func(a). Condición de frontera\n",
    "    \"\"\"\n",
    "    # intervalo\n",
    "    h = (b-a)/n_p\n",
    "    \n",
    "    # almacenando\n",
    "    nodo = [ci]\n",
    "    nodo_temp = [a]\n",
    "\n",
    "    a_p = np.arange(a, b+h, h)\n",
    "    \n",
    "    for j in range(len(a_p)-1): \n",
    "        \n",
    "        # condiciones iniciales\n",
    "        yk0 = nodo[j] # y_k \n",
    "        t0 = a_p[j]  # t_k\n",
    "        \n",
    "        # t+h\n",
    "        t1 = a_p[j+1]  #t_(k+1)\n",
    "        \n",
    "        zi = yk0+h*func(yk0, t0)  # predicción\n",
    "        yk1 = yk0 + h/2*(func(yk0, t0)+func(zi, t1))  # corrección\n",
    "        \n",
    "        # guardando\n",
    "        nodo.append(yk1)\n",
    "        nodo_temp.append(t1)\n",
    "\n",
    "    return nodo, nodo_temp  "
   ]
  },
  {
   "cell_type": "code",
   "execution_count": 49,
   "metadata": {},
   "outputs": [
    {
     "data": {
      "text/plain": [
       "<matplotlib.legend.Legend at 0x7fd10acb42e0>"
      ]
     },
     "execution_count": 49,
     "metadata": {},
     "output_type": "execute_result"
    },
    {
     "data": {
      "image/png": "[encoded data removed]",
      "text/plain": [
       "<Figure size 432x288 with 1 Axes>"
      ]
     },
     "metadata": {
      "needs_background": "light"
     },
     "output_type": "display_data"
    }
   ],
   "source": [
    "def f3(y,t):\n",
    "    return np.exp(t+y)\n",
    "\n",
    "c = 10\n",
    "fv = lambda x: -np.log(c-np.exp(x))  # analítica\n",
    "\n",
    "tmin = 0\n",
    "tmax = 1\n",
    "\n",
    "y0, t0 = m_euler(f3, 15, tmin, tmax, fv(tmin))\n",
    "y, t = m_euler_M(f3, 15, tmin, tmax, fv(tmin))\n",
    "\n",
    "t = np.array(t)\n",
    "\n",
    "plt.plot(t,y,'-', label='numérica E-M')\n",
    "plt.plot(t0,y0,':', label='numérica E')\n",
    "plt.plot(t,fv(t), '--', label='analítica')\n",
    "\n",
    "plt.legend()"
   ]
  },
  {
   "cell_type": "code",
   "execution_count": 51,
   "metadata": {},
   "outputs": [
    {
     "name": "stdout",
     "output_type": "stream",
     "text": [
      "1.117504 1.1122195296 1.0 1.0\n"
     ]
    }
   ],
   "source": [
    "def f3(y,t):\n",
    "    return t-y\n",
    "\n",
    "y0, t0 = m_euler(f3, 5, 0, 1, 2)\n",
    "y, t = m_euler_M(f3, 5, 0, 1, 2)\n",
    "\n",
    "print(y0[-1], y[-1], t0[-1], t[-1])"
   ]
  },
  {
   "cell_type": "code",
   "execution_count": 2,
   "metadata": {},
   "outputs": [],
   "source": [
    "import numpy as np"
   ]
  },
  {
   "cell_type": "code",
   "execution_count": 3,
   "metadata": {},
   "outputs": [],
   "source": [
    "def m_euler_Sistem2(func1, func2, n_p, a, b, ci):\n",
    "    \"\"\"\n",
    "    Entrada \n",
    "    - func1 y func2 la cual debe tener el orden (y1, y2, t) con t la variable a la cual se deriva\n",
    "    - n_p es el número de intervalos que se usarán\n",
    "    - a, b limite inferior y superior respectivamente\n",
    "    - ci es func1(a), func2(a). Condición de frontera\n",
    "    \"\"\"\n",
    "    # intervalo\n",
    "    h = (b-a)/n_p\n",
    "    \n",
    "    # almacenando\n",
    "    nodo_1 = [ci[0]]\n",
    "    nodo_2 = [ci[1]]\n",
    "    nodo_temp = [a]\n",
    "    \n",
    "    a_p = np.arange(a+h, b+h, h)\n",
    "    \n",
    "    k = 0\n",
    "    for i in a_p:\n",
    "        yk0_1 = nodo_1[k]\n",
    "        yk0_2 = nodo_2[k]\n",
    "        \n",
    "        yk_1 = yk0_1 + h*func1(yk0_1,yk0_2, i)\n",
    "        yk_2 = yk0_2 + h*func2(yk0_1,yk0_2, i)\n",
    "        \n",
    "        k += 1\n",
    "        nodo_1.append(yk_1)\n",
    "        nodo_2.append(yk_2)\n",
    "        nodo_temp.append(i)\n",
    "        \n",
    "    return  nodo_1, nodo_2, nodo_temp  "
   ]
  },
  {
   "cell_type": "code",
   "execution_count": 4,
   "metadata": {},
   "outputs": [],
   "source": [
    "def m_euler_M_sistema(func1, func2, n_p, a, b, ci):\n",
    "    \"\"\"\n",
    "    Entrada \n",
    "    - func la cual debe tener el orden (y, t) con t la variable a la cual se deriva\n",
    "    - n_p es el número de intervalos que se usarán\n",
    "    - a, b limite inferior y superior respectivamente\n",
    "    - ci es func(a). Condición de frontera\n",
    "    \"\"\"\n",
    "    # intervalo\n",
    "    h = (b-a)/n_p\n",
    "    \n",
    "    # almacenando\n",
    "    nodo_1 = [ci[0]]\n",
    "    nodo_2 = [ci[1]]\n",
    "    nodo_temp = [a]\n",
    "\n",
    "    a_p = np.arange(a, b+h, h)\n",
    "    \n",
    "    for j in range(len(a_p)-1): \n",
    "        \n",
    "        # condiciones iniciales\n",
    "        yk0_1 = nodo_1[j]\n",
    "        yk0_2 = nodo_2[j]\n",
    "        t0 = a_p[j]\n",
    "        \n",
    "        # t+h\n",
    "        t1 = a_p[j+1]\n",
    "        \n",
    "        zi_1 = yk0_1+h*func1(yk0_1, yk0_2, t0)  # predicción\n",
    "        zi_2 = yk0_2+h*func2(yk0_1, yk0_2, t0)  # predicción\n",
    "        \n",
    "        yk1 = yk0_1 + h/2*(func1(yk0_1, yk0_2, t0)+func1(zi_1, zi_2, t1))  # corrección\n",
    "        yk2 = yk0_2 + h/2*(func2(yk0_1, yk0_2, t0)+func2(zi_1, zi_2, t1))  # corrección\n",
    "        \n",
    "        # guardando\n",
    "        nodo_1.append(yk1)\n",
    "        nodo_2.append(yk2)\n",
    "        nodo_temp.append(t1)\n",
    "\n",
    "    return nodo_1, nodo_2, nodo_temp   "
   ]
  },
  {
   "cell_type": "code",
   "execution_count": null,
   "metadata": {},
   "outputs": [],
   "source": []
  },
  {
   "cell_type": "code",
   "execution_count": null,
   "metadata": {},
   "outputs": [],
   "source": [
    "def euler_mejorado_2EDO(f_1,f_2,n_p,a,b,ci):\n",
    "    \"\"\"\n",
    "    f1, f2 las funciones de la forma y_i' = f_i(x, y, t)\n",
    "    n_p número de pasos\n",
    "    a, b límite inferior, y superior respectivamente\n",
    "    ci condiciones de frontera [f1(a), f2[a]]\n",
    "    \"\"\"\n",
    "    \n",
    "    h = (b-a)/n_p\n",
    "    \n",
    "    nodo_1 = [ci[0]]  # CI para f1\n",
    "    nodo_2 = [ci[1]]  # CI para f2\n",
    "    nodo_temp = [a]  # t0\n",
    "    \n",
    "    a_p = np.arange(a,b+h,h)  # malla de temporal\n",
    "     \n",
    "    for j in a_p:\n",
    "        #Condiciones iniciales\n",
    "        yk0_1 = nodo_1[j]\n",
    "        yk0_2 = nodo_2[j]\n",
    "        \n",
    "        t0 = a_p[j]\n",
    "        t1 = a_p[j+1]\n",
    "        \n",
    "        zi = yk0_1+h*f_1(yk0_1,yk0_2,t0)\n",
    "        z1_2 = yk0_2+h*f_2(yk0_1,yk0_2,t0)\n",
    "        \n",
    "        yk1 = yk0_1 + h/2*(f_1(yk0_1, yk0_2, t0)+f_1(zi,zi_2,t1))\n",
    "        yk2 = yk0_2 + h/2*(f_2(yk0_1, yk0_2,t0)+f_2(zi, zi_2,t1))\n",
    "        \n",
    "        nodo.append(yk1)\n",
    "        nodo_2.append(yk2)\n",
    "        nodo_temp.append(t1)\n",
    "        \n",
    "    return nodo,nodo_2,nodo_temp"
   ]
  },
  {
   "cell_type": "code",
   "execution_count": null,
   "metadata": {},
   "outputs": [],
   "source": []
  },
  {
   "cell_type": "code",
   "execution_count": 5,
   "metadata": {},
   "outputs": [],
   "source": [
    "#Solucion analítica:\n",
    "fx = lambda t: 2*np.exp(0.5*t)-np.exp(-t)\n",
    "fy = lambda t: np.exp(-t)+ np.exp(0.5*t)"
   ]
  },
  {
   "cell_type": "code",
   "execution_count": 13,
   "metadata": {},
   "outputs": [
    {
     "data": {
      "text/plain": [
       "<matplotlib.legend.Legend at 0x7f84c36ea460>"
      ]
     },
     "execution_count": 13,
     "metadata": {},
     "output_type": "execute_result"
    },
    {
     "data": {
      "image/png": "[encoded data removed]",
      "text/plain": [
       "<Figure size 432x288 with 1 Axes>"
      ]
     },
     "metadata": {
      "needs_background": "light"
     },
     "output_type": "display_data"
    }
   ],
   "source": [
    "#Ejemplo\n",
    "dx = lambda x,y, t: y\n",
    "dy = lambda x,y, t: 0.5*x - 0.5*y\n",
    "\n",
    "c1 = [1, 2]\n",
    "c2 = [1, 2]\n",
    "\n",
    "x, y, t = m_euler_M_sistema(dx, dy, 10, 0, 2, c1)\n",
    "x1, y1, t1 = m_euler_Sistem2(dx, dy, 10, 0, 2, c2)\n",
    "\n",
    "import matplotlib.pyplot as plt\n",
    "\n",
    "t_a = np.array(t)\n",
    "\n",
    "plt.plot(t1, y1, 'k-',label='euler')\n",
    "plt.plot(t, y, 'b-',label='euler_M')\n",
    "plt.plot(t_a, fy(t_a), 'go',label='Analítico')\n",
    "\n",
    "\n",
    "plt.legend()"
   ]
  },
  {
   "cell_type": "code",
   "execution_count": 27,
   "metadata": {},
   "outputs": [
    {
     "data": {
      "text/plain": [
       "<matplotlib.legend.Legend at 0x7fb0e831ed60>"
      ]
     },
     "execution_count": 27,
     "metadata": {},
     "output_type": "execute_result"
    },
    {
     "data": {
      "image/png": "[encoded data removed]",
      "text/plain": [
       "<Figure size 432x288 with 1 Axes>"
      ]
     },
     "metadata": {
      "needs_background": "light"
     },
     "output_type": "display_data"
    }
   ],
   "source": [
    "func1 = lambda x, y, t: y\n",
    "func2 = lambda x, y, t: 0.5*x-0.5*y\n",
    "\n",
    "ci = [1, 2]\n",
    "a = 0\n",
    "b = 2\n",
    "\n",
    "h = 0.5\n",
    "n_p = (b-a)/h\n",
    "\n",
    "x, y, t = m_euler_Sistem2(func1, func2, n_p, a, b, ci)\n",
    "xM, yM, tM = m_euler_M_sistema(func1, func2, n_p, a, b, ci)\n",
    "\n",
    "\n",
    "analitico_x = lambda t: 2*np.exp(0.5*t)-np.exp(-t)\n",
    "analitico_y= lambda t: np.exp(0.5*t)+np.exp(-t)\n",
    "\n",
    "import matplotlib.pyplot as plt\n",
    "\n",
    "t_a = np.array(t)\n",
    "\n",
    "plt.plot(t, x, 'ko',label='euler')\n",
    "plt.plot(tM, xM, 'bo',label='euler_M')\n",
    "plt.plot(t_a, analitico_x(t_a), 'go',label='Analítico')\n",
    "\n",
    "\n",
    "plt.legend()"
   ]
  },
  {
   "cell_type": "code",
   "execution_count": null,
   "metadata": {},
   "outputs": [],
   "source": [
    "def met_euler_mej_sis(f,g,a,b,ci,n=100):\n",
    "\"\"\"\n",
    "f la funcion a la cual se aplicara este metodo\n",
    "a y b limites inferior y superior correspondientemente\n",
    "ci condicion inicial\n",
    "n numero de particiones\n",
    "\"\"\"\n",
    "# particion longitud de \"h\"\n",
    "h = (b-a)/n\n",
    "# listas de almacenamiento con condiciones inicial\n",
    "yk = [ci[0]]\n",
    "xk = [ci[1]]\n",
    "tk = [a]\n",
    "# arreglo de particiones\n",
    "dt = np.arange(a,b+h,h)\n",
    "for i in range(n):\n",
    "zy = yk[i] + h*f(yk[i],xk[i],dt[i])\n",
    "zx = xk[i] + h*g(yk[i],xk[i],dt[i])\n",
    "\n",
    " yk.append(yk[i]+(h/2)*(f(yk[i],xk[i],dt[i])+f(zy,zx,dt[i+1])))\n",
    "xk.append(xk[i]+(h/2)*(g(yk[i],xk[i],dt[i])+g(zy,zx,dt[i+1])))\n",
    "tk.append(a+h*(i+1))\n",
    "return yk, xk, tk\n",
    "\n",
    "f=lambda y,x,t: y\n",
    "g=lambda y,x,t:0.5*x-0.5*y\n",
    "ci=[1,2]\n",
    "a=0\n",
    "b=2\n",
    "n=4\n",
    "x,y,t=met_euler_mej_sis(f,g,a,b,ci,n)\n",
    "print(x)\n",
    "print(y)\n",
    "print(t)"
   ]
  },
  {
   "cell_type": "code",
   "execution_count": 35,
   "metadata": {},
   "outputs": [],
   "source": [
    "def m1(f, t, x, y):\n",
    "    return f(x, y,t)\n",
    "\n",
    "def m2m3(f, t, y, M1,l1, h):\n",
    "    \n",
    "    t1 = t+h/2\n",
    "    y1 = y+M1*h/2\n",
    "    x1 = x+l1*h/2\n",
    "\n",
    "    return f(x1, y1, t1)\n",
    "\n",
    "def m4(f, t, y, M3, h):\n",
    "    \n",
    "    t1 = t+h\n",
    "    y1 = y+M3*h\n",
    "    \n",
    "    return f(y1, t1)"
   ]
  },
  {
   "cell_type": "code",
   "execution_count": null,
   "metadata": {},
   "outputs": [],
   "source": [
    "x'=f1\n",
    "y'=g1"
   ]
  },
  {
   "cell_type": "code",
   "execution_count": 38,
   "metadata": {},
   "outputs": [],
   "source": [
    "def RKT4(f1, g1, lim, ci1, ci2, n):\n",
    "    \"\"\"\n",
    "    f función definida f(x, t)\n",
    "    lim un vector [a, b] donde a es el límite inferio, y b el superior\n",
    "    ci un vector [f(a)]\n",
    "    n número de pasos\n",
    "    \"\"\"\n",
    "    # calculando h\n",
    "    t0 = lim[0]; tf = lim[1]\n",
    "    h = (tf-t0)/n  # paso\n",
    "    \n",
    "    # salvando\n",
    "    dat_x = [ci1]\n",
    "    dat_y = [ci2]\n",
    "    dat_t = [t0]\n",
    "    \n",
    "    for k in range(n):\n",
    "        # semilla\n",
    "        tk = dat_t[k]\n",
    "        xk = dat_x[k]\n",
    "        yk = dat_y[k]\n",
    "        \n",
    "        # llamando funciones m_i\n",
    "        M1 = m1(f, tk, xk, yk)  # x\n",
    "        l1 = m1(g, tk, xk, yk)  # y\n",
    "        \n",
    "        M2 = m2m3(f, tk, xk, yk, M1, l1, h)\n",
    "        l2 = m2m3(f, tk, xk, yk, M1, l1, h)\n",
    "        \n",
    "        M3 = m2m3(f, tk, yk, M2, h)\n",
    "        M4 = m4(f, tk, yk, M3, h)\n",
    "    \n",
    "        \n",
    "        \n",
    "        yk1 = yk + h*(M1+2*(M2+M3)+M4)/6\n",
    "        xk1 = xk + h*(l1+2*(l2+l3)+l4)/6\n",
    "        \n",
    "        # Almacenando\n",
    "        dat_x.append(xk1)\n",
    "        dat_y.append(yk1)\n",
    "        dat_t.append(tk+h)\n",
    "    \n",
    "    return dat_y, dat_t"
   ]
  },
  {
   "cell_type": "code",
   "execution_count": 46,
   "metadata": {},
   "outputs": [],
   "source": [
    "def f3(y,t):\n",
    "    return t-y\n",
    "\n",
    "lim = [0 ,1]\n",
    "ci = 2\n",
    "n =5\n",
    "\n",
    "#y0, t0 = m_euler(f3, 5, 0, 1, 2)\n",
    "#y, t = m_euler_M(f3, 5, 0, 1, 2)\n",
    "\n",
    "yk, tk = RKT4(f3, lim, ci, n)\n",
    "\n",
    "#datos = []\n",
    "#for i in range(len(y)):\n",
    "#    datos.append([t[i], y[i]])\n",
    "\n",
    "#print(datos)\n",
    "\n",
    "#print(y0[-1], y[-1], t0[-1], t[-1])\n",
    "\n",
    "\n"
   ]
  },
  {
   "cell_type": "code",
   "execution_count": 61,
   "metadata": {},
   "outputs": [
    {
     "data": {
      "text/plain": [
       "<matplotlib.legend.Legend at 0x7f84c41bca60>"
      ]
     },
     "execution_count": 61,
     "metadata": {},
     "output_type": "execute_result"
    },
    {
     "data": {
      "image/png": "[encoded data removed]",
      "text/plain": [
       "<Figure size 432x288 with 1 Axes>"
      ]
     },
     "metadata": {
      "needs_background": "light"
     },
     "output_type": "display_data"
    }
   ],
   "source": [
    "def f3(y,t):\n",
    "    return np.exp(t+y)\n",
    "\n",
    "c = 10\n",
    "fv = lambda x: -np.log(c-np.exp(x))  # analítica\n",
    "\n",
    "tmin = 0\n",
    "tmax = 1\n",
    "\n",
    "lim = [tmin  ,tmax]\n",
    "ci = fv(tmin)\n",
    "n = 3\n",
    "\n",
    "\n",
    "y0, t0 = m_euler(f3, 3, tmin, tmax, fv(tmin))\n",
    "y, t = m_euler_M(f3, 3, tmin, tmax, fv(tmin))\n",
    "yk, tk = RKT4(f3, lim, ci, n)\n",
    "\n",
    "tN = np.arange(tmin, tmax+0.2, 0.1)\n",
    "\n",
    "plt.plot(t,y,'o', label='numérica E-M')\n",
    "plt.plot(t0,y0,':', label='numérica E')\n",
    "plt.plot(tk,yk,'*', label='numérica RKT')\n",
    "plt.plot(tN,fv(tN), '--', label='analítica')\n",
    "\n",
    "plt.xlim(0.9,1.1)\n",
    "plt.ylim(-2,-1.95)\n",
    "plt.legend()\n",
    "\n"
   ]
  },
  {
   "cell_type": "code",
   "execution_count": null,
   "metadata": {},
   "outputs": [],
   "source": [
    "def m1(f, t, y):\n",
    "    return f(y, t)\n",
    "\n",
    "def m2m3(f, t, y, M1, h):\n",
    "    \n",
    "    t1 = t+h/2\n",
    "    y1 = y+M1*h/2\n",
    "\n",
    "    return f(y1, t1)\n",
    "\n",
    "def m4(f, t, y, M3, h):\n",
    "    \n",
    "    t1 = t+h\n",
    "    y1 = y+M3*h\n",
    "    \n",
    "    return f(y1, t1)"
   ]
  },
  {
   "cell_type": "code",
   "execution_count": null,
   "metadata": {},
   "outputs": [],
   "source": [
    "def RKT4_Siste(f, lim, ci, n):\n",
    "    \"\"\"\n",
    "    f1 función definida f(x, y, t)\n",
    "    f2 función definida f(x, y, t)\n",
    "    lim un vector [a, b] donde a es el límite inferio, y b el superior\n",
    "    ci un vector [f1(a), f2(a)]\n",
    "    n número de pasos\n",
    "    \"\"\"\n",
    "    # calculando h\n",
    "    t0 = lim[0]; tf = lim[1]\n",
    "    h = (tf-t0)/n  # paso\n",
    "    \n",
    "    # salvando\n",
    "    dat_x = [ci[0]]\n",
    "    dat_y = [ci[1]]\n",
    "    dat_t = [t0]\n",
    "    \n",
    "    for k in range(n):\n",
    "        # semilla\n",
    "        tk = dat_t[k]\n",
    "        xk = dat_x[k]\n",
    "        yk = dat_y[k]\n",
    "        \n",
    "        # llamando funciones m_i\n",
    "        M1 = m1(f, tk, yk)\n",
    "        M2 = m2m3(f, tk, yk, M1, h)\n",
    "        M3 = m2m3(f, tk, yk, M2, h)\n",
    "        M4 = m4(f, tk, yk, M3, h)\n",
    "        \n",
    "        \n",
    "        yk1 = yk + h*(M1+2*(M2+M3)+M4)/6\n",
    "        \n",
    "        # Almacenando\n",
    "        dat_x.append()\n",
    "        dat_y.append(yk1)\n",
    "        dat_t.append(tk+h)\n",
    "    \n",
    "    return dat_x, dat_y, dat_t"
   ]
  },
  {
   "cell_type": "code",
   "execution_count": null,
   "metadata": {},
   "outputs": [],
   "source": []
  },
  {
   "cell_type": "code",
   "execution_count": null,
   "metadata": {},
   "outputs": [],
   "source": []
  },
  {
   "cell_type": "code",
   "execution_count": null,
   "metadata": {},
   "outputs": [],
   "source": []
  },
  {
   "cell_type": "code",
   "execution_count": null,
   "metadata": {},
   "outputs": [],
   "source": []
  },
  {
   "cell_type": "code",
   "execution_count": null,
   "metadata": {},
   "outputs": [],
   "source": []
  },
  {
   "cell_type": "code",
   "execution_count": null,
   "metadata": {},
   "outputs": [],
   "source": []
  },
  {
   "cell_type": "code",
   "execution_count": null,
   "metadata": {},
   "outputs": [],
   "source": []
  },
  {
   "cell_type": "code",
   "execution_count": null,
   "metadata": {},
   "outputs": [],
   "source": []
  },
  {
   "cell_type": "code",
   "execution_count": null,
   "metadata": {},
   "outputs": [],
   "source": []
  }
 ],
 "metadata": {
  "kernelspec": {
   "display_name": "Python 3",
   "language": "python",
   "name": "python3"
  },
  "language_info": {
   "codemirror_mode": {
    "name": "ipython",
    "version": 3
   },
   "file_extension": ".py",
   "mimetype": "text/x-python",
   "name": "python",
   "nbconvert_exporter": "python",
   "pygments_lexer": "ipython3",
   "version": "3.8.5"
  }
 },
 "nbformat": 4,
 "nbformat_minor": 4
}
